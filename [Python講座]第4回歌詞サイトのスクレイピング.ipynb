{
 "cells": [
  {
   "cell_type": "markdown",
   "metadata": {
    "colab_type": "text",
    "id": "view-in-github"
   },
   "source": [
    "<a href=\"https://colab.research.google.com/github/EAakiyama3104/python_lecture/blob/master/%5BPython%E8%AC%9B%E5%BA%A7%5D%E7%AC%AC5%E5%9B%9E%E6%AD%8C%E8%A9%9E%E3%82%B5%E3%82%A4%E3%83%88%E3%81%AE%E3%82%B9%E3%82%AF%E3%83%AC%E3%82%A4%E3%83%94%E3%83%B3%E3%82%B0.ipynb\" target=\"_parent\"><img src=\"https://colab.research.google.com/assets/colab-badge.svg\" alt=\"Open In Colab\"/></a>"
   ]
  },
  {
   "cell_type": "markdown",
   "metadata": {
    "colab_type": "text",
    "id": "TD6cWizB3oJW"
   },
   "source": [
    "Webスクレイピングとは\n",
    "\n",
    "\n",
    "* Webサイトから情報を取得する技術\n",
    "* APIを公開していないサイトの情報も取得できる\n",
    "* HTMLを読み込んで、必要な情報を抜き出す必要がある\n",
    "\n",
    "手順\n",
    "\n",
    "\n",
    "1. HTTPリクエストを送り、HTMLのレスポンスを取得\n",
    "2. HTMLの中身を見て、必要な情報がある場所を確認\n",
    "3. HTMLから必要な情報を抽出\n",
    "\n",
    "\n",
    "\n"
   ]
  },
  {
   "cell_type": "markdown",
   "metadata": {
    "colab_type": "text",
    "id": "8nJ_uQ0N-5Xa"
   },
   "source": [
    "## アーティストのページから歌詞ページ一覧を取得"
   ]
  },
  {
   "cell_type": "markdown",
   "metadata": {
    "colab_type": "text",
    "id": "pQIP7r-K7Enp"
   },
   "source": [
    "今回は、Uta-Net からあるアーティスト(米津玄師)の歌詞をすべて取得。\n",
    "\n",
    "以下のページから情報を取得\n",
    "\n",
    "* アーティストページ - 曲ページのURLをすべて取得\n",
    "* 曲ページ(歌詞ページ) - 歌詞を取得"
   ]
  },
  {
   "cell_type": "markdown",
   "metadata": {
    "colab_type": "text",
    "id": "6EF2_GVE-3fA"
   },
   "source": [
    "requests について\n",
    "\n",
    "* PythonのコードからHTTPリクエストを送るためのライブラリ\n",
    "* 使い方が簡単\n",
    "\n",
    "\n",
    "https://requests-docs-ja.readthedocs.io/en/latest/"
   ]
  },
  {
   "cell_type": "markdown",
   "metadata": {
    "colab_type": "text",
    "id": "YxdTsRHiAA31"
   },
   "source": [
    "beatiful soup について\n",
    "\n",
    "* HTMLやXMLからデータを抽出するためのライブラリ\n",
    "* 様々な条件でHTML上のデータの位置を指定\n",
    "\n",
    "機能が多いので、使用の際はリファレンスを読むことをおすすめします。\n",
    "http://kondou.com/BS4/"
   ]
  },
  {
   "cell_type": "code",
   "execution_count": 1,
   "metadata": {
    "colab": {},
    "colab_type": "code",
    "id": "04XakvAP3fnP"
   },
   "outputs": [],
   "source": [
    "# 必要なライブラリをインポート\n",
    "import bs4\n",
    "import requests\n",
    "import time\n",
    "from pprint import pprint"
   ]
  },
  {
   "cell_type": "code",
   "execution_count": 9,
   "metadata": {
    "colab": {},
    "colab_type": "code",
    "id": "hWIhXU0XOOoJ"
   },
   "outputs": [],
   "source": [
    "# アーティストページ(米津玄師)のアドレス\n",
    "ARTIST_URL = 'https://www.uta-net.com/artist/11591/'\n",
    "\n",
    "# 曲ページの先頭アドレス\n",
    "BASE_URL = 'https://www.uta-net.com'"
   ]
  },
  {
   "cell_type": "code",
   "execution_count": 10,
   "metadata": {
    "colab": {},
    "colab_type": "code",
    "id": "VOB5hZ5eCQOf"
   },
   "outputs": [],
   "source": [
    "# ページを読み込むFunction\n",
    "def load_page(url):\n",
    "  response = requests.get(url)\n",
    "  response.raise_for_status()\n",
    "  return response.text"
   ]
  },
  {
   "cell_type": "code",
   "execution_count": 39,
   "metadata": {
    "colab": {},
    "colab_type": "code",
    "id": "psB7BJQrOeFG"
   },
   "outputs": [],
   "source": [
    "artist_page = load_page(ARTIST_URL)"
   ]
  },
  {
   "cell_type": "code",
   "execution_count": 40,
   "metadata": {
    "colab": {
     "base_uri": "https://localhost:8080/",
     "height": 54
    },
    "colab_type": "code",
    "id": "L_hFWQJiwKwN",
    "outputId": "cd9660d7-4e14-4bc2-bc9e-f02dc96af21f",
    "scrolled": true
   },
   "outputs": [
    {
     "data": {
      "text/plain": [
       "'<!DOCTYPE html PUBLIC \"-//W3C//DTD HTML 4.01 Transitional//EN\" \"//www.w3.org/TR/html4/loose.dtd\">\\r\\n<html xmlns:og=\"http://ogp.me/ns#\" xmlns:mixi=\"http://mixi-platform.com/ns#\" lang=\"ja\">\\r\\n<head>\\r\\n\\t<meta http-equiv=\"Content-Type\" content=\"text/html; charset=UTF-8\">\\r\\n\\t<title>LiSAの歌詞一覧リスト - 歌ネット</title>\\r\\n\\t<meta name=\"description\" content=\"LiSAの歌詞一覧リストページです。歌詞検索サービス歌ネットに登録されている「LiSA」の歌詞の曲目一覧を掲載しています。I doubt it,ID,I&#039;m a Rock star,赤い罠(who loves it?),AxxxiS,アコガレ望遠鏡,アシアトコンパス,ADAMAS\\u3000歌ネットは無料の歌詞検索サービスです。 \">\\r\\n\\t<meta name=\"keywords\" content=\"LiSA,歌詞,I doubt it,ID,I&#039;m a Rock star,赤い罠(who loves it?),AxxxiS,アコガレ望遠鏡,アシアトコンパス,ADAMAS\">\\r\\n\\t<meta name=\"viewport\" content=\"width=1190, maximum-scale=1, user-scalable=1\">\\r\\n\\t<link rel=\"Bookmark\" href=\"https://www.uta-net.com/\" title=\"歌詞検索の歌ネット\">\\r\\n\\t<link rel=\"canonical\" href=\"https://www.uta-net.com/artist/11591/\">\\r\\n\\t<link rel=\"alternate\" media=\"only screen and (max-width: 640px)\" href=\"https://sp.uta-net.com/artist/11591/\">\\r\\n\\t<meta http-equiv=\"Content-Style-Type\" content=\"text/css\">\\r\\n\\t<meta http-equiv=\"content-script-type\" content=\"text/javascript\">\\r\\n\\t<link rel=\"stylesheet\" href=\"/libs/css/import.css?20181220\" type=\"text/css\">\\r\\n\\t<link rel=\"stylesheet\" href=\"/libs/css/search.css?20200310\" type=\"text/css\">\\r\\n\\t<!-- Google Tag Manager -->\\r\\n\\t<script>(function(w,d,s,l,i){w[l]=w[l]||[];w[l].push({\\'gtm.start\\':\\r\\n\\tnew Date().getTime(),event:\\'gtm.js\\'});var f=d.getElementsByTagName(s)[0],\\r\\n\\tj=d.createElement(s),dl=l!=\\'dataLayer\\'?\\'&l=\\'+l:\\'\\';j.async=true;j.src=\\r\\n\\t\\'https://www.googletagmanager.com/gtm.js?id=\\'+i+dl;f.parentNode.insertBefore(j,f);\\r\\n\\t})(window,document,\\'script\\',\\'dataLayer\\',\\'GTM-KKM6Z39\\');</script>\\r\\n\\t<!-- End Google Tag Manager -->\\r\\n\\t<script type=\"text/javascript\" src=\"//ajax.googleapis.com/ajax/libs/jquery/1.6.1/jquery.min.js\"></script>\\r\\n\\t<script type=\"text/javascript\" src=\"/libs/js/common.js?2018020801\"></script>\\r\\n\\t<script type=\"text/javascript\" src=\"/libs/js/navimenu.js\"></script>\\r\\n\\t<script type=\"text/javascript\" src=\"/libs/js/movie.js?20190910\"></script>\\r\\n\\t<!-- flashbanner表示用ライブラリ -->\\r\\n\\t<script type=\"text/javascript\" src=\"/libs/js/swfwrite.js\"></script>\\r\\n\\t<!-- 動画バナー用スタイル追加 2013.10.16 -->\\r\\n\\t<script type=\"text/javascript\" src=\"/libs/js/thickbox_usr.js\" charset=\"utf-8\"></script>\\r\\n\\t<link rel=\"stylesheet\" href=\"/libs/css/thickbox.css?20150315\" type=\"text/css\">\\r\\n\\r\\n<script type=\"text/javascript\">\\r\\n(function(){\\r\\nvar script = document.createElement(\\'script\\');\\r\\nscript.async = true;\\r\\nscript.type = \\'text/javascript\\';\\r\\nscript.src = \\'https://ads.pubmatic.com/AdServer/js/userSync.js\\';\\r\\nscript.onload = function(){\\r\\nPubMaticSync.sync({\\r\\npubId:158337,\\r\\nurl: \\'https://publisher.com/cookieSyncEndPoint?pubmatic_uid=(PM_UID)\\',\\r\\nmacro: \\'(PM_UID)\\',\\r\\n});   \\r\\n}\\r\\nvar node = document.getElementsByTagName(\\'script\\')[0];\\r\\nnode.parentNode.insertBefore(script, node);\\r\\n})();\\r\\n</script>\\r\\n<!-- https://support.google.com/dfp_premium/answer/4578089?hl=ja -->\\r\\n<script async=\\'async\\' src=\\'https://www.googletagservices.com/tag/js/gpt.js\\'></script>\\r\\n<script type=\"text/javascript\" src=\"//ads.rubiconproject.com/prebid/18866_v2_prod.js\"></script>\\r\\n<script>\\r\\n\\tvar googletag = googletag || {};\\r\\n\\tgoogletag.cmd = googletag.cmd || [];\\r\\n\\r\\n    var headerBiddingSlots = [];\\r\\n    var nonHeaderBiddingSlots = [];\\r\\n\\r\\n    var pbjs = pbjs || {};\\r\\n    pbjs.que = pbjs.que || [];\\r\\n</script>\\r\\n<script>\\r\\nvar slotA;\\r\\nvar slotB;\\r\\nvar slotC;\\r\\nvar slotD;\\r\\nvar slot1;\\r\\nvar slot2;\\r\\ngoogletag.cmd.push(function() {\\r\\n\\r\\n\\t// 出し分け\\r\\n\\tvar mappingPC = googletag.sizeMapping()\\r\\n\\t\\t\\t.addSize([1500, 10], [[160, 600], [300, 600]]) // 横幅1500~\\r\\n\\t\\t\\t.addSize([1220, 10], [[160, 600]]) // 横幅1220-1499~\\r\\n\\t\\t\\t.addSize([0, 0], []) // 横幅1219以下非表示\\r\\n\\t\\t\\t.build();\\r\\n\\r\\n\\t// 一覧ビルボード 常にだす\\r\\n\\tslotA = googletag.defineSlot(\\'/9168657/PC_一覧_ビルボード_900x200or970x250\\',\\r\\n\\t\\t\\t[[900, 200], [970, 250], [1, 1]], \\'div-gpt-ad-1512553058814-0\\')\\r\\n\\t\\t\\t.addService(googletag.pubads().addEventListener(\\'slotRenderEnded\\', function (event) {\\r\\n\\t\\t\\t\\t// 関数内部でslot名を使用。変更時は要確認\\r\\n\\t\\t\\t\\tcallback_getSize(event);\\r\\n\\t\\t\\t})).setCollapseEmptyDiv(true, true);\\r\\n\\r\\n\\t// 最上部[1] 常にだす\\r\\n\\tslotB = googletag.defineSlot(\\'/9168657/PC_一覧_ヘッダー_728x90\\', [728, 90], \\'div-gpt-ad-1506841771279-0\\')\\r\\n\\t\\t\\t.addService(googletag.pubads());\\r\\n\\r\\n\\t// 最下部左[3] 常にだす\\r\\n\\tslotC = googletag.defineSlot(\\'/9168657/PC_一覧_フッター左_300x250\\', [300, 250], \\'div-gpt-ad-1506841771279-2\\')\\r\\n\\t\\t\\t.addService(googletag.pubads());\\r\\n\\r\\n\\t// 最下部右[4] 常にだす\\r\\n\\tslotD = googletag.defineSlot(\\'/9168657/PC_一覧_フッター右_300x250\\', [300, 250], \\'div-gpt-ad-1506841771279-3\\')\\r\\n\\t\\t\\t.addService(googletag.pubads());\\r\\n\\r\\n\\t// 以下出し分け\\r\\n\\tslot1 = googletag.defineSlot(\\'/9168657/PC_一覧_サイド左_160x600or300x600\\', [[160, 600], [300, 600]], \\'div-gpt-ad-1515057359832-0\\')\\r\\n\\t\\t\\t.defineSizeMapping(mappingPC)\\r\\n\\t\\t\\t.addService(googletag.pubads());\\r\\n\\r\\n\\tslot2 = googletag.defineSlot(\\'/9168657/PC_一覧_サイド右_160x600or300x600\\', [[160, 600], [300, 600]], \\'div-gpt-ad-1515057359832-1\\')\\r\\n\\t\\t\\t.defineSizeMapping(mappingPC)\\r\\n\\t\\t\\t.addService(googletag.pubads());\\r\\n\\r\\n\\t// Prebid.jsの対象枠設定\\r\\n\\theaderBiddingSlots.push(slotB);\\r\\n\\theaderBiddingSlots.push(slotC);\\r\\n\\theaderBiddingSlots.push(slotD);\\r\\n\\theaderBiddingSlots.push(slot1);\\r\\n\\theaderBiddingSlots.push(slot2);\\r\\n\\r\\n\\t// HeaderBiddingの対象枠外枠の設定\\r\\n\\tnonHeaderBiddingSlots.push(slotA);\\r\\n\\r\\n\\r\\n    googletag.pubads().disableInitialLoad();\\r\\n    googletag.pubads().enableSingleRequest();\\r\\n    googletag.pubads().collapseEmptyDivs();\\r\\n    googletag.enableServices();\\r\\n\\t\\r\\n\\t\\t// HeaderBiddingの対象枠外枠は即座にrefresh\\r\\n\\tgoogletag.pubads().refresh(nonHeaderBiddingSlots);\\r\\n\\r\\n\\t// Prebid.jsの呼び出し\\r\\n\\tpbjs.rp.requestBids({\\r\\n\\t\\tcallback: sendAdserverRequest,\\r\\n\\t\\tgptSlotObjects: headerBiddingSlots\\r\\n\\t});\\r\\n\\t\\t\\r\\n  });\\r\\n</script>\\r\\n<!-- Prebid.js + Amazon aspstag common beging -->\\r\\n<script type=\"text/javascript\">\\r\\n\\tvar isBidDone = {\\r\\n\\t\\tprebid: false,\\r\\n\\t\\tamazon: false\\r\\n\\t};\\r\\n\\tvar commonSendAdserverRequest = function () {\\r\\n\\t\\tif (!isBidDone.prebid || !isBidDone.amazon) {\\r\\n\\t\\t\\treturn;\\r\\n\\t\\t}\\r\\n\\t\\tgoogletag.cmd.push(function () {\\r\\n\\t\\t\\tapstag.setDisplayBids();\\r\\n\\t\\t\\tgoogletag.pubads().refresh(headerBiddingSlots);\\r\\n\\t\\t});\\r\\n\\t};\\r\\n\\r\\n    pbjs.adserverRequestSent = false;\\r\\n\\tfunction sendAdserverRequest() {\\r\\n\\t\\tif (pbjs.adserverRequestSent)\\r\\n\\t\\t\\treturn;\\r\\n\\t\\tpbjs.adserverRequestSent = true;\\r\\n\\t\\tisBidDone.prebid = true;\\r\\n\\t\\tcommonSendAdserverRequest();\\r\\n\\t}\\r\\n</script>\\r\\n<!-- Prebid.js + Amazon aspstag common end -->\\r\\n\\r\\n<!--Amazonタグ/headに入れるタグ-->\\r\\n<script>\\r\\n\\t!function (a9, a, p, s, t, A, g) {\\r\\n\\t\\tif (a[a9])\\r\\n\\t\\t\\treturn;\\r\\n\\t\\tfunction q(c, r) {\\r\\n\\t\\t\\ta[a9]._Q.push([c, r])\\r\\n\\t\\t}\\r\\n\\t\\ta[a9] = {init: function () {\\r\\n\\t\\t\\t\\tq(\"i\", arguments)\\r\\n\\t\\t\\t}, fetchBids: function ()\\r\\n\\t\\t\\t{\\r\\n\\t\\t\\t\\tq(\"f\", arguments)\\r\\n\\t\\t\\t}, setDisplayBids: function () {}, _Q: []};\\r\\n\\t\\tA = p.createElement(s);\\r\\n\\t\\tA.async = !0;\\r\\n\\t\\tA.src = t;\\r\\n\\t\\tg = p.getElementsByTagName(s)[0];\\r\\n\\t\\tg.parentNode.insertBefore(A, g)\\r\\n\\t}(\"apstag\", window, document, \"script\", \"//c.amazon-adsystem.com/aax2/apstag.js\");\\r\\n\\tapstag.init({\\r\\n\\t\\tpubID: \\'3663\\', adServer: \\'googletag\\'\\r\\n\\t});\\r\\n\\r\\n\\tapstag.fetchBids({\\r\\n\\t\\tslots: [\\r\\n\\t\\t\\t{\\r\\n\\t\\t\\t\\tslotID: \\'div-gpt-ad-1506841771279-0\\',\\r\\n\\t\\t\\t\\tslotName: \\'9168657/PC_ichiran_header728x90\\',\\r\\n\\t\\t\\t\\tsizes: [[728, 90]]\\r\\n\\t\\t\\t},\\r\\n\\t\\t\\t{\\r\\n\\t\\t\\t\\tslotID: \\'div-gpt-ad-1515057359832-0\\',\\r\\n\\t\\t\\t\\tslotName: \\'9168657/PC_ichiran_sideLeft\\',\\r\\n\\t\\t\\t\\tsizes: [[300, 600], [160, 600]]\\r\\n\\t\\t\\t},\\r\\n\\t\\t\\t{\\r\\n\\t\\t\\t\\tslotID: \\'div-gpt-ad-1515057359832-1\\',\\r\\n\\t\\t\\t\\tslotName: \\'9168657/PC_ichiran_sideright\\',\\r\\n\\t\\t\\t\\tsizes: [[300, 600], [160, 600]]\\r\\n\\t\\t\\t},\\r\\n\\t\\t\\t{\\r\\n\\t\\t\\t\\tslotID: \\'div-gpt-ad-1506841771279-2\\',\\r\\n\\t\\t\\t\\tslotName: \\'9168657/PC_ichiran_footerrec_left\\',\\r\\n\\t\\t\\t\\tsizes: [[300, 250]]\\r\\n\\t\\t\\t},\\r\\n\\t\\t\\t{\\r\\n\\t\\t\\t\\tslotID: \\'div-gpt-ad-1506841771279-3\\',\\r\\n\\t\\t\\t\\tslotName: \\'9168657/PC_ichiran_footerrec_right\\',\\r\\n\\t\\t\\t\\tsizes: [[300, 250]]\\r\\n\\t\\t\\t},\\r\\n\\t\\t],\\r\\n\\t\\ttimeout: 2e3\\r\\n\\t}, function (bids) {\\r\\n\\t\\t// call common callback among pbjs and apstag\\r\\n\\t\\tisBidDone.amazon = true;\\r\\n\\t\\tcommonSendAdserverRequest();\\r\\n\\t});\\r\\n</script>\\r\\n<!--ココまでAmazonタグ/headに入れるタグ-->\\r\\n\\r\\n<!-- Prebid.js START -->\\r\\n<script type=\"text/javascript\">\\r\\n\\tvar FAILSAFE_TIMEOUT = 3000;\\r\\n\\r\\n\\tsetTimeout(function () {\\r\\n\\t\\tsendAdserverRequest();\\r\\n\\t}, FAILSAFE_TIMEOUT);\\r\\n</script>\\r\\n<!-- Prebid.js END -->\\r\\n\\r\\n\\r\\n<script type=\"application/ld+json\">\\r\\n[{\\r\\n\\t\"@context\": \"http://schema.org\",\\r\\n\\t\"@type\": \"MusicGroup\",\\r\\n\\t\"name\": \"LiSA\",\\r\\n\\t\"url\": \"https://www.uta-net.com/artist/11591/\"\\r\\n},{\\r\\n\\t\"@context\": \"http://schema.org\",\\r\\n\\t\"@type\": \"WebPage\",\\r\\n\\t\"name\":\"LiSAの歌詞一覧リスト - 歌ネット\",\\r\\n\\t\"url\":\"https://www.uta-net.com/artist/11591/\",\\r\\n\\t\"description\":\"LiSAの歌詞一覧リストページです。歌詞検索サービス歌ネットに登録されている「LiSA」の歌詞の曲目一覧を掲載しています。I doubt it,ID,I&#039;m a Rock star,赤い罠(who loves it?),AxxxiS,アコガレ望遠鏡,アシアトコンパス,ADAMAS\\u3000歌ネットは無料の歌詞検索サービスです。 \",\\r\\n\\t\"keywords\":\"LiSA,歌詞,I doubt it,ID,I&#039;m a Rock star,赤い罠(who loves it?),AxxxiS,アコガレ望遠鏡,アシアトコンパス,ADAMAS\",\\r\\n\\t\"copyrightHolder\":{\\r\\n     \"@type\": \"Organization\",\\r\\n     \"logo\":\"https://www.uta-net.com/reverse/mixi_check/uta_net_logo_m.gif\"\\r\\n }\\r\\n}]\\r\\n</script>\\r\\n</head>\\r\\n<body>\\r\\n\\r\\n<script type=\"text/javascript\" src=\"//d-cache.microad.jp/js/td_un_access.js\"></script>\\r\\n<script type=\"text/javascript\">\\r\\n  microadTd.UN.start({\"artist_id\": \"11591\" , \"artist_name\": \"LiSA\"})\\r\\n</script>\\r\\n\\r\\n<!-- Google Tag Manager (noscript) -->\\r\\n<noscript><iframe src=\"https://www.googletagmanager.com/ns.html?id=GTM-KKM6Z39\"\\r\\nheight=\"0\" width=\"0\" style=\"display:none;visibility:hidden\"></iframe></noscript>\\r\\n<!-- End Google Tag Manager (noscript) -->\\r\\n<!-- headerここから -->\\r\\n<div id=\"global_header\"><div id=\"h_top\"><div class=\"h_top_all clearfix\"><h1 style=\"max-width: 530px;text-overflow: ellipsis;overflow: hidden;white-space: nowrap;\">LiSA\\u3000歌詞リスト - 歌ネット</h1><ul class=\"sns_area\"><li class=\"facebook\"><a href=\"https://www.facebook.com/sharer.php?t=%E6%AD%8C%E8%A9%9E%E6%A4%9C%E7%B4%A2%E3%82%B5%E3%83%BC%E3%83%93%E3%82%B9%E3%80%8C%E6%AD%8C%E3%83%8D%E3%83%83%E3%83%88%E3%80%8D%E3%81%A9%E3%81%93%E3%82%88%E3%82%8A%E3%82%82%E6%97%A9%E3%81%84%E6%96%B0%E6%9B%B2%E6%AD%8C%E8%A9%9E%E3%82%92%E6%8E%B2%E8%BC%89%EF%BC%81$&amp;u=https%3A%2F%2Fwww.uta-net.com\" class=\"popWin\"><img src=\"/libs/img/block/icon_facebook.png\" alt=\"Face book\" width=\"24\" height=\"24\"></a></li><li class=\"twitter\"><a href=\"javascript:void(0);\"onclick=\"window.open(\\'https://twitter.com/share?url=https%3A%2F%2Fwww.uta-net.com&text=%E6%AD%8C%E8%A9%9E%E6%A4%9C%E7%B4%A2%E3%82%B5%E3%83%BC%E3%83%93%E3%82%B9%E3%80%8C%E6%AD%8C%E3%83%8D%E3%83%83%E3%83%88%E3%80%8D%E3%81%A9%E3%81%93%E3%82%88%E3%82%8A%E3%82%82%E6%97%A9%E3%81%84%E6%96%B0%E6%9B%B2%E6%AD%8C%E8%A9%9E%E3%82%92%E6%8E%B2%E8%BC%89%EF%BC%81&hashtags=utanet\\',\\'twitter\\',\\'width=632, height=456, location=yes, resizable=yes, toolbar=no, menubar=no, scrollbars=no, status=no\\');\"><img src=\"/libs/img/block/icon_twitter.png\" alt=\"Twitter\" width=\"24\" height=\"24\"></a></li><li class=\"mixi\"><a href=\"javascript:void(0);\" onClick=\"window.open(\\'https://mixi.jp/share.pl?u=https://www.uta-net.com&amp;k=5242948b9e5484677f6e1a9be6f404725cb4c334\\',\\'share\\',[\\'width=632\\',\\'height=456\\',\\'location=yes\\',\\'resizable=yes\\',\\'toolbar=no\\',\\'menubar=no\\',\\'scrollbars=no\\',\\'status=no\\'].join(\\',\\'));\"><img src=\"/libs/img/block/icon_mixi.png\" alt=\"mixiチェック\" width=\"24\" height=\"24\"></a></li></ul><ul class=\"link\"><li><a class=\"login\" href=\"https://www.uta-net.com/mypage/\">マイ歌ネット</a>\\t</li><li>｜\\t</li><li><a href=\"https://www.uta-net.com/sitemap/sitemap.html\">サイトマップ</a>\\t</li><li>｜\\t</li><li><a href=\"https://twitter.com/UTANET_STAFF/\" class=\"popWin\">オフィシャルツイッター</a></li></ul></div></div><div id=\"h_main\" class=\"clearfix\"><div class=\"logo\"><a href=\"https://www.uta-net.com/\"><img alt=\"歌詞検索サービス「歌ネット」\" src=\"/reverse/common/uta_net_logo.png\"></a></div><div class=\"header_banner\"><!-- /9168657/PC_一覧_ヘッダー_728x90 -->\\r\\n<div id=\"div-gpt-ad-1506841771279-0\">\\r\\n    <script>\\r\\n       googletag.cmd.push(function() {\\r\\n         googletag.display(\\'div-gpt-ad-1506841771279-0\\');\\r\\n         googletag.pubads();\\r\\n       });\\r\\n    </script>\\r\\n</div></div></div><iframe src=\"/search/_blank.html\" scrolling = \"no\" frameborder=\"0\" id=\"shim\" title=\"shim\"></iframe><div id=\"nav-area\"><ul id=\"nav-one\" class=\"nav clearfix\"><li id=\"menu_top\"><a href=\"https://www.uta-net.com/\">ホーム</a></li><li class=\"openSub\" id=\"menu_search\"><a href=\"https://www.uta-net.com/name_list/\" class=\"active\">歌詞検索</a><ul><li><a href=\"https://www.uta-net.com/name_list/\">アーティスト名インデックス検索</a></li><li><a href=\"https://www.uta-net.com/lyricist_list/\">作詞者名インデックス検索</a></li><li><a href=\"https://www.uta-net.com/composer_list/\">作曲者名インデックス検索</a></li><li><a href=\"https://www.uta-net.com/record_label_list/\">レーベル名インデックス検索</a></li><li><a href=\"https://www.uta-net.com/user/index_search/search1.html\">歌詞全文（フレーズ）検索</a></li><li><a href=\"https://www.uta-net.com/user/search/anime_list.html\">アニソン検索</a></li><li><a href=\"https://www.uta-net.com/user/search_index/name.html\">アルバム検索</a></li><li><a href=\"https://www.uta-net.com/user/timemachine/index.html\">タイムマシン検索</a></li></ul></li><li class=\"openSub\" id=\"menu_newsong\"><a href=\"https://www.uta-net.com/user/newsong/release_top.html\">新曲歌詞情報</a><ul><li><a href=\"https://www.uta-net.com/user/newsong/release_top.html\">新曲歌詞情報（総合）</a></li><li><a href=\"https://www.uta-net.com/user/newsong/release_top_2.html\">新曲歌詞情報（演歌・歌謡曲）</a></li><li><a href=\"https://www.uta-net.com/info/mail.html\">リクエストフォーム</a></li></ul></li><li class=\"openSub\" id=\"menu_ranking\"><a href=\"https://www.uta-net.com/user/ranking/daily.html\">ランキング</a><ul><li><a href=\"https://www.uta-net.com/user/ranking/daily.html\">総合ランキング</a></li><li><a href=\"https://www.uta-net.com/user/otona/access_ranking.html\">演歌・歌謡曲ランキング</a></li><li><a href=\"https://www.uta-net.com/user/poplist.html?sort=4\">歴代人気曲ランキング</a></li><li><a href=\"https://www.uta-net.com/user/ranking/attention.html\">注目度ランキング</a></li><li><a href=\"https://www.uta-net.com/renew/myutanet/index.php?mode=week\">お気に入りアーティストランキング</a></li><li><a href=\"https://www.uta-net.com/user/otona/karaoke_ranking_sogo.html\">カラオケランキング</a></li></ul></li><li class=\"openSub\" id=\"menu_watafure\"><a href=\"https://www.uta-net.com/user/watafure/watafure_ichiran.html\">コトバのキモチ</a><ul><li><a href=\"https://www.uta-net.com/user/watafure/watafure_top.html\">新規投稿フレーズ</a></li><li><a href=\"https://www.uta-net.com/user/watafure/watafure_ichiran.html\">コトバのキモチ</a></li><li><a href=\"https://www.uta-net.com/user/watafure/watafure_ichiran.html#search_box\">コトバのキモチ検索</a></li><li><a href=\"https://www.uta-net.com/user/watafure/watafure_ranking.php\">コトバのキモチBEST10</a></li><li><a href=\"https://www.uta-net.com/user/watafure/questionbox1/question1t.html\">歌詞フレーズ投稿</a></li></ul></li><li class=\"openSub\" id=\"menu_timemachine\"><a href=\"https://www.uta-net.com/user/timemachine/index.html\">タイムマシン</a><ul><li><a href=\"https://www.uta-net.com/user/timemachine/index.html\">タイムマシンTOP</a></li><li><a href=\"https://www.uta-net.com/user/timemachine/best10/index.html\">今月のスポットライト </a></li><li><a href=\"https://www.uta-net.com/user/jake_uta/jake_uta_top.html\">歌謡界50年史1960-2000年代</a></li><li><a href=\"https://www.uta-net.com/user/tvdorama_song/1960.html\">年代別テレビドラマ主題歌</a></li><li><a href=\"https://www.uta-net.com/user/record_taisyo/index.html\">年代別日本レコード大賞</a></li><li><a href=\"https://www.uta-net.com/user/anime60_90/anime60_90.html\">年代別アニメソング特集</a></li><li><a href=\"https://www.uta-net.com/user/kashiken/kashiken.html\">年代別歌詞検定</a></li></ul></li><li class=\"openSub\" id=\"menu_otona\"><a href=\"https://www.uta-net.com/user/otona/index.html\">音楽番組情報</a><ul><li><a href=\"https://www.uta-net.com/user/otona/index.html\">音楽番組情報TOP</a></li><li><a href=\"https://www.uta-net.com/user/search_index/index.html\">TVドラマ主題歌</a></li><li><a href=\"https://www.uta-net.com/user/search_index/anime.html\">TVアニメソング</a></li><li><a href=\"https://www.uta-net.com/user/otona/m_station/m_station_songlist.html\">MUSIC STATION放送曲目リスト</a></li><li><a href=\"https://www.uta-net.com/user/otona/nipon/nipon_songlist.html\">新・BS日本のうた放送曲目リスト</a></li></ul></li><li id=\"menu_movie\"><a href=\"https://www.uta-net.com/movie/\">動画プラス</a></li></ul></div><div id=\"nav-area2\"><ul><li><a href=\"https://www.uta-net.com/user/writer/today.html\">コラム&amp;ニュース</a></li><li><a href=\"https://www.uta-net.com/livereport/\">ライブレポート</a></li><li><a href=\"https://www.uta-net.com/user/interview/index.html\">インタビュー</a></li><li><a href=\"https://www.uta-net.com/anime/index.html\">アニメ</a></li><li><a href=\"https://www.uta-net.com/user/close_up/index.html\">特集ピックアップ</a></li><li><a href=\"https://www.uta-net.com/user/column/index.html\">言葉の魔法</a></li><li><a href=\"https://www.uta-net.com/user/tatsujin/index.html\">言葉の達人</a></li></ul></div>\\r\\n</div>\\r\\n<!-- headerここまで -->\\r\\n\\r\\n\\r\\n\\r\\n<div id=\"search_fixed_parent\" style=\"min-height: 582px;\">\\r\\n    <div id=\"banner_relation\">\\r\\n        <!-- /9168657/PC_一覧_ビルボード_900x200or970x250 -->\\r\\n        <div id=\"div-gpt-ad-1512553058814-0\">\\r\\n        <script>\\r\\n            googletag.cmd.push(function() {\\r\\n              googletag.display(\\'div-gpt-ad-1512553058814-0\\');\\r\\n              //googletag.pubads();\\r\\n        });\\r\\n        </script>\\r\\n        </div>\\r\\n    \\r\\n    </div>\\r\\n\\r\\n    <div id=\"artist\">\\r\\n    <div id=\"search_form\" class=\"artist_relation\">\\r\\n\\t<form method=\"get\" action=\"https://www.uta-net.com/search/\" name=\"Search\">\\r\\n\\t\\t<div class=\"inner_box\">\\r\\n\\t\\t\\t<div class=\"inner_form\">\\r\\n\\t\\t\\t\\t<p class=\"select_a\"><select class=\"se_style\" name=\"Aselect\"><option value=\"1\" selected=\"selected\">歌手名</option>\\n<option value=\"2\">曲名</option>\\n<option value=\"5\">歌手名ひらがな</option>\\n<option value=\"6\">曲名ひらがな</option>\\n<option value=\"3\">作詞者名</option>\\n<option value=\"8\">作曲者名</option>\\n<option value=\"4\">歌い出し</option>\\n<option value=\"10\">歌詞の一部・フレーズ</option>\\n<option value=\"7\">番組名・タイアップ名</option>\\n</select><span>に</span></p><p class=\"input_keyword\"><input class=\"s_input\" name=\"Keyword\" value=\"\" type=\"text\"></p><p class=\"select_b\"><select class=\"se_style\" name=\"Bselect\"><option value=\"3\" selected=\"selected\">が含まれる</option>\\n<option value=\"1\">で始まる</option>\\n<option value=\"2\">で終わる</option>\\n<option value=\"4\">完全一致</option>\\n</select><span>歌詞を</span></p>\\r\\n\\t\\t\\t\\t<p class=\"submit\"><input type=\"image\" src=\"/libs/img/search/search_submit.png\" width=\"54\" height=\"28\" alt=\"検索\"></p>\\r\\n\\t\\t\\t\\t<p class=\"help\"><a href=\"https://www.uta-net.com/info/help.html\"><img class=\"help_btn\" alt=\"ヘルプ\" src=\"/libs/img/index/button_search_help.gif\" width=\"24\" height=\"24\"></a></p>\\r\\n\\t\\t\\t</div>\\r\\n\\t\\t</div>\\r\\n\\t</form>\\r\\n</div>\\r\\n\\r\\n                <div id=\"search_result\">\\r\\n         <div class=\"s_result clearfix\">\\r\\n          <div class=\"s_re_left\">\\r\\n           <h2 class=\"search_keyword\">LiSAの歌詞一覧リスト</h2>\\r\\n           <span class=\"f_style3\">120</span>\\r\\n           <span class=\"f_style2\">曲中 </span>\\r\\n           <span class=\"f_style3\">1-120</span>\\r\\n           <span class=\"f_style2\">曲を表示</span>\\r\\n          </div>\\r\\n          <div class=\"s_re_right\">\\r\\n           <span>2020年3月23日（月）更新</span>\\r\\n          </div>\\r\\n         </div>\\r\\n\\r\\n         <div class=\"sort_page\">\\r\\n          <dl class=\"sort_list clearfix\">\\r\\n           <dt>並び順：</dt>\\r\\n           <dd><ul><li>[</li><li><a href=\"https://www.uta-net.com/artist/11591/2/\" class=\"sort_up\">曲名順</a></li><li>|</li><li><a href=\"https://www.uta-net.com/artist/11591/4/\" >人気順</a></li><li>|</li><li><a href=\"https://www.uta-net.com/artist/11591/6/\" >発売日順</a></li><li>|</li><li><span>歌手名順</span></li><li>]</li></ul>\\r\\n           </dd>\\r\\n          </dl>\\r\\n          <div class=\"upper_page_list\">\\r\\n           <span class=\"pa\">全1ページ中\\u30001ページを表示</span>\\r\\n                     </div>\\r\\n         </div>\\r\\n        </div>\\r\\n\\r\\n                 <div class=\"result_table \">\\r\\n          <table summary=\"曲一覧1\">\\r\\n           <thead>\\r\\n            <tr>\\r\\n             <th class=\"th1\">曲名</th>\\r\\n             <th class=\"th2\">歌手名</th>\\r\\n             <th class=\"th3\">作詞者名</th>\\r\\n             <th class=\"th4\">作曲者名</th>\\r\\n             <th class=\"th5\">歌い出し</th>\\r\\n            </tr>\\r\\n           </thead>\\r\\n           <tbody>\\r\\n                       <tr><td class=\"side td1\"><a href=\"/song/150571/\">I doubt it</a></td><td class=\"td2\"><a href=\"https://www.uta-net.com/artist/11591/\">LiSA</a></td><td class=\"td3\"><a href=\"https://www.uta-net.com/lyricist/40876/\">LiSA</a></td><td class=\"td4\"><a href=\"https://www.uta-net.com/composer/31643/\">岸田</a></td><td class=\"side td5\">確かな耳鳴りゆがんだ世界に</td></tr>\\r\\n                       <tr><td class=\"side td1\"><a href=\"/song/198612/\">ID</a></td><td class=\"td2\"><a href=\"https://www.uta-net.com/artist/11591/\">LiSA</a></td><td class=\"td3\"><a href=\"https://www.uta-net.com/lyricist/10159/\">LiSA・古屋真</a></td><td class=\"td4\"><a href=\"https://www.uta-net.com/composer/39887/\">高橋浩一郎</a></td><td class=\"side td5\">全方向完全アウェイで</td></tr>\\r\\n                       <tr><td class=\"side td1\"><a href=\"/song/144541/\">I\\'m a Rock star</a></td><td class=\"td2\"><a href=\"https://www.uta-net.com/artist/11591/\">LiSA</a></td><td class=\"td3\"><a href=\"https://www.uta-net.com/lyricist/10159/\">LiSA・古屋真</a></td><td class=\"td4\"><a href=\"https://www.uta-net.com/composer/36752/\">磯崎健史</a></td><td class=\"side td5\">ネオンの灯り染まった街中</td></tr>\\r\\n                       <tr><td class=\"side td1\"><a href=\"/song/260369/\">赤い罠(who loves it?)</a></td><td class=\"td2\"><a href=\"https://www.uta-net.com/artist/11591/\">LiSA</a></td><td class=\"td3\"><a href=\"https://www.uta-net.com/lyricist/10160/\">LiSA・田淵智也</a></td><td class=\"td4\"><a href=\"https://www.uta-net.com/composer/36197/\">田淵智也</a></td><td class=\"side td5\">それでもアナタに惹かれて</td></tr>\\r\\n                       <tr><td class=\"side td1\"><a href=\"/song/213432/\">AxxxiS</a></td><td class=\"td2\"><a href=\"https://www.uta-net.com/artist/11591/\">LiSA</a></td><td class=\"td3\"><a href=\"https://www.uta-net.com/lyricist/26419/\">古屋真</a></td><td class=\"td4\"><a href=\"https://www.uta-net.com/composer/5004/\">eba</a></td><td class=\"side td5\">前ならえに抵抗しだした僕らは</td></tr>\\r\\n                       <tr><td class=\"side td1\"><a href=\"/song/181508/\">アコガレ望遠鏡</a></td><td class=\"td2\"><a href=\"https://www.uta-net.com/artist/11591/\">LiSA</a></td><td class=\"td3\"><a href=\"https://www.uta-net.com/lyricist/26419/\">古屋真</a></td><td class=\"td4\"><a href=\"https://www.uta-net.com/composer/5004/\">eba</a></td><td class=\"side td5\">ひとりぼっちには慣れてんだ</td></tr>\\r\\n                       <tr><td class=\"side td1\"><a href=\"/song/163669/\">アシアトコンパス</a></td><td class=\"td2\"><a href=\"https://www.uta-net.com/artist/11591/\">LiSA</a></td><td class=\"td3\"><a href=\"https://www.uta-net.com/lyricist/40876/\">LiSA</a></td><td class=\"td4\"><a href=\"https://www.uta-net.com/composer/31202/\">山本陽介</a></td><td class=\"side td5\">更新した星占い期待してた</td></tr>\\r\\n                       <tr><td class=\"side td1\"><a href=\"/song/257111/\">ADAMAS</a><a href=\"https://www.uta-net.com/user/poplist.html\"><img src=\"/libs/img/parts/icon_gold.gif\" alt=\"GOLD LYLIC\" ></a></td><td class=\"td2\"><a href=\"https://www.uta-net.com/artist/11591/\">LiSA</a></td><td class=\"td3\"><a href=\"https://www.uta-net.com/lyricist/40876/\">LiSA</a></td><td class=\"td4\"><a href=\"https://www.uta-net.com/composer/24062/\">カヨコ</a></td><td class=\"side td5\">大義名分に痺れ切らした</td></tr>\\r\\n                       <tr><td class=\"side td1\"><a href=\"/song/240265/\">ASH</a></td><td class=\"td2\"><a href=\"https://www.uta-net.com/artist/11591/\">LiSA</a></td><td class=\"td3\"><a href=\"https://www.uta-net.com/lyricist/22971/\">マオ(シド)</a></td><td class=\"td4\"><a href=\"https://www.uta-net.com/composer/32265/\">御恵明希(シド)</a></td><td class=\"side td5\">雨の雫みたい迷いながら</td></tr>\\r\\n                       <tr><td class=\"side td1\"><a href=\"/song/163579/\">雨上がりの空とキミ</a></td><td class=\"td2\"><a href=\"https://www.uta-net.com/artist/11591/\">LiSA</a></td><td class=\"td3\"><a href=\"https://www.uta-net.com/lyricist/27028/\">園田智也</a></td><td class=\"td4\"><a href=\"https://www.uta-net.com/composer/30123/\">宮城裕次</a></td><td class=\"side td5\">夜明け前の空雨音は遠くに</td></tr>\\r\\n                       <tr><td class=\"side td1\"><a href=\"/song/181506/\">ANTIHERO</a></td><td class=\"td2\"><a href=\"https://www.uta-net.com/artist/11591/\">LiSA</a></td><td class=\"td3\"><a href=\"https://www.uta-net.com/lyricist/40876/\">LiSA</a></td><td class=\"td4\"><a href=\"https://www.uta-net.com/composer/23173/\">じん</a></td><td class=\"side td5\">カタチない世界にログイン</td></tr>\\r\\n                       <tr><td class=\"side td1\"><a href=\"/song/126138/\">アンフィル</a></td><td class=\"td2\"><a href=\"https://www.uta-net.com/artist/11591/\">LiSA</a></td><td class=\"td3\"><a href=\"https://www.uta-net.com/lyricist/20551/\">とく</a></td><td class=\"td4\"><a href=\"https://www.uta-net.com/composer/23302/\">とく</a></td><td class=\"side td5\">肩にとまったため息ひとつ</td></tr>\\r\\n                       <tr><td class=\"side td1\"><a href=\"/song/278546/\">unlasting</a></td><td class=\"td2\"><a href=\"https://www.uta-net.com/artist/11591/\">LiSA</a></td><td class=\"td3\"><a href=\"https://www.uta-net.com/lyricist/40876/\">LiSA</a></td><td class=\"td4\"><a href=\"https://www.uta-net.com/composer/37684/\">草野華余子</a></td><td class=\"side td5\">一人きりでも平気</td></tr>\\r\\n                       <tr><td class=\"side td1\"><a href=\"/song/133655/\">いつかの手紙</a></td><td class=\"td2\"><a href=\"https://www.uta-net.com/artist/11591/\">LiSA</a></td><td class=\"td3\"><a href=\"https://www.uta-net.com/lyricist/26419/\">古屋真</a></td><td class=\"td4\"><a href=\"https://www.uta-net.com/composer/40211/\">黒須克彦</a></td><td class=\"side td5\">まるで心にいつでもある</td></tr>\\r\\n                       <tr><td class=\"side td1\"><a href=\"/song/248506/\">WiLL～無色透明～</a></td><td class=\"td2\"><a href=\"https://www.uta-net.com/artist/11591/\">LiSA</a></td><td class=\"td3\"><a href=\"https://www.uta-net.com/lyricist/40876/\">LiSA</a></td><td class=\"td4\"><a href=\"https://www.uta-net.com/composer/27173/\">伊秩弘将</a></td><td class=\"side td5\">リュックの中希望を詰めたまま</td></tr>\\r\\n                       <tr><td class=\"side td1\"><a href=\"/song/186930/\">Wake up! Sloth</a></td><td class=\"td2\"><a href=\"https://www.uta-net.com/artist/11591/\">LiSA</a></td><td class=\"td3\"><a href=\"https://www.uta-net.com/lyricist/40876/\">LiSA</a></td><td class=\"td4\"><a href=\"https://www.uta-net.com/composer/20668/\">Tom-H@ck</a></td><td class=\"side td5\">Wake up Wake up Wake up</td></tr>\\r\\n                       <tr><td class=\"side td1\"><a href=\"/song/154518/\">うそつきの涙</a></td><td class=\"td2\"><a href=\"https://www.uta-net.com/artist/11591/\">LiSA</a></td><td class=\"td3\"><a href=\"https://www.uta-net.com/lyricist/26419/\">古屋真</a></td><td class=\"td4\"><a href=\"https://www.uta-net.com/composer/35416/\">清水葉子</a></td><td class=\"side td5\">近くにいるよすぐそばにいるんだよ</td></tr>\\r\\n                       <tr><td class=\"side td1\"><a href=\"/song/115389/\">永遠</a></td><td class=\"td2\"><a href=\"https://www.uta-net.com/artist/11591/\">LiSA</a></td><td class=\"td3\"><a href=\"https://www.uta-net.com/lyricist/40876/\">LiSA</a></td><td class=\"td4\"><a href=\"https://www.uta-net.com/composer/31643/\">岸田</a></td><td class=\"side td5\">どうしてこうなるならどうして</td></tr>\\r\\n                       <tr><td class=\"side td1\"><a href=\"/song/126143/\">EGOiSTiC SHOOTER</a></td><td class=\"td2\"><a href=\"https://www.uta-net.com/artist/11591/\">LiSA</a></td><td class=\"td3\"><a href=\"https://www.uta-net.com/lyricist/40876/\">LiSA</a></td><td class=\"td4\"><a href=\"https://www.uta-net.com/composer/21691/\">wowaka</a></td><td class=\"side td5\">いつまで隠してんのバレバレな</td></tr>\\r\\n                       <tr><td class=\"side td1\"><a href=\"/song/115388/\">エスケープゲーム</a></td><td class=\"td2\"><a href=\"https://www.uta-net.com/artist/11591/\">LiSA</a></td><td class=\"td3\"><a href=\"https://www.uta-net.com/lyricist/40876/\">LiSA</a></td><td class=\"td4\"><a href=\"https://www.uta-net.com/composer/25067/\">ハチ</a></td><td class=\"side td5\">お訪ねしますがここはどこですか</td></tr>\\r\\n                       <tr><td class=\"side td1\"><a href=\"/song/260496/\">1/f</a></td><td class=\"td2\"><a href=\"https://www.uta-net.com/artist/11591/\">LiSA</a></td><td class=\"td3\"><a href=\"https://www.uta-net.com/lyricist/35283/\">田中秀典</a></td><td class=\"td4\"><a href=\"https://www.uta-net.com/composer/6432/\">goodtimes</a></td><td class=\"side td5\">橙に浸されてゆく街</td></tr>\\r\\n                       <tr><td class=\"side td1\"><a href=\"/song/170230/\">L.Miranic</a></td><td class=\"td2\"><a href=\"https://www.uta-net.com/artist/11591/\">LiSA</a></td><td class=\"td3\"><a href=\"https://www.uta-net.com/lyricist/40876/\">LiSA</a></td><td class=\"td4\"><a href=\"https://www.uta-net.com/composer/12336/\">MAH</a></td><td class=\"side td5\">ワガママを煮詰めたったなら</td></tr>\\r\\n                       <tr><td class=\"side td1\"><a href=\"/song/181504/\">エレクトリリカル</a></td><td class=\"td2\"><a href=\"https://www.uta-net.com/artist/11591/\">LiSA</a></td><td class=\"td3\"><a href=\"https://www.uta-net.com/lyricist/26419/\">古屋真</a></td><td class=\"td4\"><a href=\"https://www.uta-net.com/composer/35554/\">渡辺翔</a></td><td class=\"side td5\">キミがアタシを選ぶのは</td></tr>\\r\\n                       <tr><td class=\"side td1\"><a href=\"/song/194755/\">Empty MERMAiD</a></td><td class=\"td2\"><a href=\"https://www.uta-net.com/artist/11591/\">LiSA</a></td><td class=\"td3\"><a href=\"https://www.uta-net.com/lyricist/40876/\">LiSA</a></td><td class=\"td4\"><a href=\"https://www.uta-net.com/composer/22003/\">YOOKEY(from UPLIFT SPICE)</a></td><td class=\"side td5\">Damn まんまと開いたGATE</td></tr>\\r\\n                       <tr><td class=\"side td1\"><a href=\"/song/229817/\">狼とミサンガ</a></td><td class=\"td2\"><a href=\"https://www.uta-net.com/artist/11591/\">LiSA</a></td><td class=\"td3\"><a href=\"https://www.uta-net.com/lyricist/40876/\">LiSA</a></td><td class=\"td4\"><a href=\"https://www.uta-net.com/composer/38903/\">野間康介</a></td><td class=\"side td5\">扉のむこうで止まる足音</td></tr>\\r\\n                       <tr><td class=\"side td1\"><a href=\"/song/272261/\">オリオンをなぞる</a></td><td class=\"td2\"><a href=\"https://www.uta-net.com/artist/11591/\">LiSA</a></td><td class=\"td3\"><a href=\"https://www.uta-net.com/lyricist/35452/\">田淵智也</a></td><td class=\"td4\"><a href=\"https://www.uta-net.com/composer/36197/\">田淵智也</a></td><td class=\"side td5\">ごきげんようどうかしたんだろ</td></tr>\\r\\n                       <tr><td class=\"side td1\"><a href=\"/song/186931/\">オレンジサイダー</a></td><td class=\"td2\"><a href=\"https://www.uta-net.com/artist/11591/\">LiSA</a></td><td class=\"td3\"><a href=\"https://www.uta-net.com/lyricist/40876/\">LiSA</a></td><td class=\"td4\"><a href=\"https://www.uta-net.com/composer/39887/\">高橋浩一郎</a></td><td class=\"side td5\">小さな奇跡を願って騒いだ</td></tr>\\r\\n                       <tr><td class=\"side td1\"><a href=\"/song/206575/\">終わらない冒険</a></td><td class=\"td2\"><a href=\"https://www.uta-net.com/artist/11591/\">LiSA</a></td><td class=\"td3\"><a href=\"https://www.uta-net.com/lyricist/40876/\">LiSA</a></td><td class=\"td4\"><a href=\"https://www.uta-net.com/composer/39887/\">高橋浩一郎</a></td><td class=\"side td5\">少しずつ開いたつぼみに僕は</td></tr>\\r\\n                       <tr><td class=\"side td1\"><a href=\"/song/126135/\">終わりのない歌</a></td><td class=\"td2\"><a href=\"https://www.uta-net.com/artist/11591/\">LiSA</a></td><td class=\"td3\"><a href=\"https://www.uta-net.com/lyricist/40125/\">麻枝准</a></td><td class=\"td4\"><a href=\"https://www.uta-net.com/composer/40116/\">麻枝准</a></td><td class=\"side td5\">ある日小さな村に旅する</td></tr>\\r\\n                       <tr><td class=\"side td1\"><a href=\"/song/240263/\">ONLY≠LONELY</a></td><td class=\"td2\"><a href=\"https://www.uta-net.com/artist/11591/\">LiSA</a></td><td class=\"td3\"><a href=\"https://www.uta-net.com/lyricist/38706/\">金井政人(BIGMAMA)</a></td><td class=\"td4\"><a href=\"https://www.uta-net.com/composer/30397/\">小南泰葉</a></td><td class=\"side td5\">二人だけの最後の夜に</td></tr>\\r\\n                      </tbody>\\r\\n          </table>\\r\\n\\r\\n          \\r\\n         </div>\\r\\n                 <div class=\"result_table \">\\r\\n          <table summary=\"曲一覧2\">\\r\\n           <thead>\\r\\n            <tr>\\r\\n             <th class=\"th1\">曲名</th>\\r\\n             <th class=\"th2\">歌手名</th>\\r\\n             <th class=\"th3\">作詞者名</th>\\r\\n             <th class=\"th4\">作曲者名</th>\\r\\n             <th class=\"th5\">歌い出し</th>\\r\\n            </tr>\\r\\n           </thead>\\r\\n           <tbody>\\r\\n                       <tr><td class=\"side td1\"><a href=\"/song/122468/\">oath sign</a><a href=\"https://www.uta-net.com/user/poplist.html\"><img src=\"/libs/img/parts/icon_gold.gif\" alt=\"GOLD LYLIC\" ></a></td><td class=\"td2\"><a href=\"https://www.uta-net.com/artist/11591/\">LiSA</a></td><td class=\"td3\"><a href=\"https://www.uta-net.com/lyricist/34691/\">渡辺翔</a></td><td class=\"td4\"><a href=\"https://www.uta-net.com/composer/35554/\">渡辺翔</a></td><td class=\"side td5\">繰り返す世界何度手を</td></tr>\\r\\n                       <tr><td class=\"side td1\"><a href=\"/song/115387/\">覚醒屋</a></td><td class=\"td2\"><a href=\"https://www.uta-net.com/artist/11591/\">LiSA</a></td><td class=\"td3\"><a href=\"https://www.uta-net.com/lyricist/40876/\">LiSA</a></td><td class=\"td4\"><a href=\"https://www.uta-net.com/composer/21691/\">wowaka</a></td><td class=\"side td5\">クチビル噛んでまたため息</td></tr>\\r\\n                       <tr><td class=\"side td1\"><a href=\"/song/278748/\">KALEIDO</a></td><td class=\"td2\"><a href=\"https://www.uta-net.com/artist/11591/\">LiSA</a></td><td class=\"td3\"><a href=\"https://www.uta-net.com/lyricist/35283/\">田中秀典</a></td><td class=\"td4\"><a href=\"https://www.uta-net.com/composer/30397/\">小南泰葉</a></td><td class=\"side td5\">キミはやさしくて少し心配性</td></tr>\\r\\n                       <tr><td class=\"side td1\"><a href=\"/song/133654/\">変わらない青</a></td><td class=\"td2\"><a href=\"https://www.uta-net.com/artist/11591/\">LiSA</a></td><td class=\"td3\"><a href=\"https://www.uta-net.com/lyricist/40876/\">LiSA</a></td><td class=\"td4\"><a href=\"https://www.uta-net.com/composer/35554/\">渡辺翔</a></td><td class=\"side td5\">カラフルにざわめく街時は</td></tr>\\r\\n                       <tr><td class=\"side td1\"><a href=\"/song/133807/\">KiSS me PARADOX</a></td><td class=\"td2\"><a href=\"https://www.uta-net.com/artist/11591/\">LiSA</a></td><td class=\"td3\"><a href=\"https://www.uta-net.com/lyricist/26419/\">古屋真</a></td><td class=\"td4\"><a href=\"https://www.uta-net.com/composer/36752/\">磯崎健史</a></td><td class=\"side td5\">欲ばり言い過ぎそんなの</td></tr>\\r\\n                       <tr><td class=\"side td1\"><a href=\"/song/181503/\">君にピエロ</a></td><td class=\"td2\"><a href=\"https://www.uta-net.com/artist/11591/\">LiSA</a></td><td class=\"td3\"><a href=\"https://www.uta-net.com/lyricist/40876/\">LiSA</a></td><td class=\"td4\"><a href=\"https://www.uta-net.com/composer/41053/\">LiSA</a></td><td class=\"side td5\">ねえ少し遊ぼうよ僕はピエロ</td></tr>\\r\\n                       <tr><td class=\"side td1\"><a href=\"/song/186929/\">キモチファクトリー</a></td><td class=\"td2\"><a href=\"https://www.uta-net.com/artist/11591/\">LiSA</a></td><td class=\"td3\"><a href=\"https://www.uta-net.com/lyricist/26419/\">古屋真</a></td><td class=\"td4\"><a href=\"https://www.uta-net.com/composer/35554/\">渡辺翔</a></td><td class=\"side td5\">気持ち運ぶベルトコンベア</td></tr>\\r\\n                       <tr><td class=\"side td1\"><a href=\"/song/224081/\">Catch the Moment</a><a href=\"https://www.uta-net.com/user/poplist.html\"><img src=\"/libs/img/parts/icon_gold.gif\" alt=\"GOLD LYLIC\" ></a></td><td class=\"td2\"><a href=\"https://www.uta-net.com/artist/11591/\">LiSA</a></td><td class=\"td3\"><a href=\"https://www.uta-net.com/lyricist/40876/\">LiSA</a></td><td class=\"td4\"><a href=\"https://www.uta-net.com/composer/36197/\">田淵智也</a></td><td class=\"side td5\">そっと吐き出すため息を</td></tr>\\r\\n                       <tr><td class=\"side td1\"><a href=\"/song/154524/\">Canvas boy × Palette girl</a></td><td class=\"td2\"><a href=\"https://www.uta-net.com/artist/11591/\">LiSA</a></td><td class=\"td3\"><a href=\"https://www.uta-net.com/lyricist/26419/\">古屋真</a></td><td class=\"td4\"><a href=\"https://www.uta-net.com/composer/40211/\">黒須克彦</a></td><td class=\"side td5\">My boyキミは太陽って</td></tr>\\r\\n                       <tr><td class=\"side td1\"><a href=\"/song/194753/\">虚無</a></td><td class=\"td2\"><a href=\"https://www.uta-net.com/artist/11591/\">LiSA</a></td><td class=\"td3\"><a href=\"https://www.uta-net.com/lyricist/40876/\">LiSA</a></td><td class=\"td4\"><a href=\"https://www.uta-net.com/composer/24062/\">カヨコ</a></td><td class=\"side td5\">さっきまで躊躇してたのに</td></tr>\\r\\n                       <tr><td class=\"side td1\"><a href=\"/song/198611/\">ギフトギフト</a></td><td class=\"td2\"><a href=\"https://www.uta-net.com/artist/11591/\">LiSA</a></td><td class=\"td3\"><a href=\"https://www.uta-net.com/lyricist/40876/\">LiSA</a></td><td class=\"td4\"><a href=\"https://www.uta-net.com/composer/30397/\">小南泰葉</a></td><td class=\"side td5\">街じゅうハッピームードに</td></tr>\\r\\n                       <tr><td class=\"side td1\"><a href=\"/song/154517/\">逆光オーケストラ</a></td><td class=\"td2\"><a href=\"https://www.uta-net.com/artist/11591/\">LiSA</a></td><td class=\"td3\"><a href=\"https://www.uta-net.com/lyricist/26419/\">古屋真</a></td><td class=\"td4\"><a href=\"https://www.uta-net.com/composer/36752/\">磯崎健史</a></td><td class=\"side td5\">想い出話なんて下手なままで</td></tr>\\r\\n                       <tr><td class=\"side td1\"><a href=\"/song/133622/\">crossing field</a><a href=\"https://www.uta-net.com/user/poplist.html\"><img src=\"/libs/img/parts/icon_gold.gif\" alt=\"GOLD LYLIC\" ></a></td><td class=\"td2\"><a href=\"https://www.uta-net.com/artist/11591/\">LiSA</a></td><td class=\"td3\"><a href=\"https://www.uta-net.com/lyricist/34691/\">渡辺翔</a></td><td class=\"td4\"><a href=\"https://www.uta-net.com/composer/35554/\">渡辺翔</a></td><td class=\"side td5\">認めていた臆病な過去</td></tr>\\r\\n                       <tr><td class=\"side td1\"><a href=\"/song/176156/\">crossing field -English ver.-</a></td><td class=\"td2\"><a href=\"https://www.uta-net.com/artist/11591/\">LiSA</a></td><td class=\"td3\"><a href=\"https://www.uta-net.com/lyricist/34694/\">渡辺翔・本山清治</a></td><td class=\"td4\"><a href=\"https://www.uta-net.com/composer/35554/\">渡辺翔</a></td><td class=\"side td5\">Cloudy memories Of the way</td></tr>\\r\\n                       <tr><td class=\"side td1\"><a href=\"/song/270036/\">紅蓮華</a><a href=\"https://www.uta-net.com/user/poplist.html\"><img src=\"/libs/img/parts/icon_million.gif\" alt=\"MILLION LYLIC\" ></a></td><td class=\"td2\"><a href=\"https://www.uta-net.com/artist/11591/\">LiSA</a></td><td class=\"td3\"><a href=\"https://www.uta-net.com/lyricist/40876/\">LiSA</a></td><td class=\"td4\"><a href=\"https://www.uta-net.com/composer/37684/\">草野華余子</a></td><td class=\"side td5\">強くなれる理由を知った</td></tr>\\r\\n                       <tr><td class=\"side td1\"><a href=\"/song/206576/\">Get free</a></td><td class=\"td2\"><a href=\"https://www.uta-net.com/artist/11591/\">LiSA</a></td><td class=\"td3\"><a href=\"https://www.uta-net.com/lyricist/10159/\">LiSA・古屋真</a></td><td class=\"td4\"><a href=\"https://www.uta-net.com/composer/16822/\">Ryota Kawamura・Rebecca Hollcraft</a></td><td class=\"side td5\">タクシーが止まんなきゃ歌って</td></tr>\\r\\n                       <tr><td class=\"side td1\"><a href=\"/song/154523/\">コズミックジェットコースター</a></td><td class=\"td2\"><a href=\"https://www.uta-net.com/artist/11591/\">LiSA</a></td><td class=\"td3\"><a href=\"https://www.uta-net.com/lyricist/40876/\">LiSA</a></td><td class=\"td4\"><a href=\"https://www.uta-net.com/composer/40211/\">黒須克彦</a></td><td class=\"side td5\">Hi お待たせ待ちに待った</td></tr>\\r\\n                       <tr><td class=\"side td1\"><a href=\"/song/122467/\">confidence driver</a></td><td class=\"td2\"><a href=\"https://www.uta-net.com/artist/11591/\">LiSA</a></td><td class=\"td3\"><a href=\"https://www.uta-net.com/lyricist/40876/\">LiSA</a></td><td class=\"td4\"><a href=\"https://www.uta-net.com/composer/36197/\">田淵智也</a></td><td class=\"side td5\">単調なリズムのmy life</td></tr>\\r\\n                       <tr><td class=\"side td1\"><a href=\"/song/206579/\">Psychedelic Drive</a></td><td class=\"td2\"><a href=\"https://www.uta-net.com/artist/11591/\">LiSA</a></td><td class=\"td3\"><a href=\"https://www.uta-net.com/lyricist/40876/\">LiSA</a></td><td class=\"td4\"><a href=\"https://www.uta-net.com/composer/34418/\">横山直弘(from 感覚ピエロ)</a></td><td class=\"side td5\">誰が純情覚悟しててよ</td></tr>\\r\\n                       <tr><td class=\"side td1\"><a href=\"/song/264752/\">サファイアの星</a></td><td class=\"td2\"><a href=\"https://www.uta-net.com/artist/11591/\">LiSA</a></td><td class=\"td3\"><a href=\"https://www.uta-net.com/lyricist/38145/\">谷中敦</a></td><td class=\"td4\"><a href=\"https://www.uta-net.com/composer/34959/\">沖祐市</a></td><td class=\"side td5\">ねぇまだ終わらない旅を続け</td></tr>\\r\\n                       <tr><td class=\"side td1\"><a href=\"/song/240264/\">罪人</a></td><td class=\"td2\"><a href=\"https://www.uta-net.com/artist/11591/\">LiSA</a></td><td class=\"td3\"><a href=\"https://www.uta-net.com/lyricist/40876/\">LiSA</a></td><td class=\"td4\"><a href=\"https://www.uta-net.com/composer/17970/\">Sho(from MY FIRST STORY)</a></td><td class=\"side td5\">逃げたりしないでね理想を</td></tr>\\r\\n                       <tr><td class=\"side td1\"><a href=\"/song/213430/\">シャッフル</a></td><td class=\"td2\"><a href=\"https://www.uta-net.com/artist/11591/\">LiSA</a></td><td class=\"td3\"><a href=\"https://www.uta-net.com/lyricist/26419/\">古屋真</a></td><td class=\"td4\"><a href=\"https://www.uta-net.com/composer/30397/\">小南泰葉</a></td><td class=\"side td5\">フライパンが音符になって</td></tr>\\r\\n                       <tr><td class=\"side td1\"><a href=\"/song/176158/\">シルシ</a><a href=\"https://www.uta-net.com/user/poplist.html\"><img src=\"/libs/img/parts/icon_gold.gif\" alt=\"GOLD LYLIC\" ></a></td><td class=\"td2\"><a href=\"https://www.uta-net.com/artist/11591/\">LiSA</a></td><td class=\"td3\"><a href=\"https://www.uta-net.com/lyricist/40876/\">LiSA</a></td><td class=\"td4\"><a href=\"https://www.uta-net.com/composer/24062/\">カヨコ</a></td><td class=\"side td5\">街明かり照らした賑やかな</td></tr>\\r\\n                       <tr><td class=\"side td1\"><a href=\"/song/144540/\">シロイトイキ</a></td><td class=\"td2\"><a href=\"https://www.uta-net.com/artist/11591/\">LiSA</a></td><td class=\"td3\"><a href=\"https://www.uta-net.com/lyricist/40876/\">LiSA</a></td><td class=\"td4\"><a href=\"https://www.uta-net.com/composer/23564/\">やしきん</a></td><td class=\"side td5\">たった一秒が不安で星を指で</td></tr>\\r\\n                       <tr><td class=\"side td1\"><a href=\"/song/206578/\">She</a></td><td class=\"td2\"><a href=\"https://www.uta-net.com/artist/11591/\">LiSA</a></td><td class=\"td3\"><a href=\"https://www.uta-net.com/lyricist/40876/\">LiSA</a></td><td class=\"td4\"><a href=\"https://www.uta-net.com/composer/15333/\">PABLO a.k.a. WTF!?</a></td><td class=\"side td5\">雁字搦めのトラップに僕は</td></tr>\\r\\n                       <tr><td class=\"side td1\"><a href=\"/song/126137/\">ジェットロケット</a></td><td class=\"td2\"><a href=\"https://www.uta-net.com/artist/11591/\">LiSA</a></td><td class=\"td3\"><a href=\"https://www.uta-net.com/lyricist/35452/\">田淵智也</a></td><td class=\"td4\"><a href=\"https://www.uta-net.com/composer/36197/\">田淵智也</a></td><td class=\"side td5\">そうだよ一個だって譲らないで</td></tr>\\r\\n                       <tr><td class=\"side td1\"><a href=\"/song/229819/\">the end of my world</a></td><td class=\"td2\"><a href=\"https://www.uta-net.com/artist/11591/\">LiSA</a></td><td class=\"td3\"><a href=\"https://www.uta-net.com/lyricist/40876/\">LiSA</a></td><td class=\"td4\"><a href=\"https://www.uta-net.com/composer/24062/\">カヨコ</a></td><td class=\"side td5\">覚悟してたのロンリー</td></tr>\\r\\n                       <tr><td class=\"side td1\"><a href=\"/song/229818/\">JUMP!!</a></td><td class=\"td2\"><a href=\"https://www.uta-net.com/artist/11591/\">LiSA</a></td><td class=\"td3\"><a href=\"https://www.uta-net.com/lyricist/26419/\">古屋真</a></td><td class=\"td4\"><a href=\"https://www.uta-net.com/composer/38903/\">野間康介</a></td><td class=\"side td5\">届くかな届くから飛べるから</td></tr>\\r\\n                       <tr><td class=\"side td1\"><a href=\"/song/233632/\">sweet friendship</a></td><td class=\"td2\"><a href=\"https://www.uta-net.com/artist/11591/\">LiSA</a></td><td class=\"td3\"><a href=\"https://www.uta-net.com/lyricist/40876/\">LiSA</a></td><td class=\"td4\"><a href=\"https://www.uta-net.com/composer/5004/\">eba</a></td><td class=\"side td5\">帰路を急いだ風に吹かれ</td></tr>\\r\\n                       <tr><td class=\"side td1\"><a href=\"/song/260497/\">スパイシーワールド</a></td><td class=\"td2\"><a href=\"https://www.uta-net.com/artist/11591/\">LiSA</a></td><td class=\"td3\"><a href=\"https://www.uta-net.com/lyricist/40876/\">LiSA</a></td><td class=\"td4\"><a href=\"https://www.uta-net.com/composer/41053/\">LiSA</a></td><td class=\"side td5\">あぁまた迷宮入り HOT</td></tr>\\r\\n                      </tbody>\\r\\n          </table>\\r\\n\\r\\n          \\r\\n         </div>\\r\\n                 <div class=\"result_table \">\\r\\n          <table summary=\"曲一覧3\">\\r\\n           <thead>\\r\\n            <tr>\\r\\n             <th class=\"th1\">曲名</th>\\r\\n             <th class=\"th2\">歌手名</th>\\r\\n             <th class=\"th3\">作詞者名</th>\\r\\n             <th class=\"th4\">作曲者名</th>\\r\\n             <th class=\"th5\">歌い出し</th>\\r\\n            </tr>\\r\\n           </thead>\\r\\n           <tbody>\\r\\n                       <tr><td class=\"side td1\"><a href=\"/song/150570/\">SPiCE</a></td><td class=\"td2\"><a href=\"https://www.uta-net.com/artist/11591/\">LiSA</a></td><td class=\"td3\"><a href=\"https://www.uta-net.com/lyricist/40876/\">LiSA</a></td><td class=\"td4\"><a href=\"https://www.uta-net.com/composer/28349/\">原一博</a></td><td class=\"side td5\">台無し鏡のベビーフェイス</td></tr>\\r\\n                       <tr><td class=\"side td1\"><a href=\"/song/242577/\">Thrill, Risk, Heartless</a></td><td class=\"td2\"><a href=\"https://www.uta-net.com/artist/11591/\">LiSA</a></td><td class=\"td3\"><a href=\"https://www.uta-net.com/lyricist/35452/\">田淵智也</a></td><td class=\"td4\"><a href=\"https://www.uta-net.com/composer/24062/\">カヨコ</a></td><td class=\"side td5\">I\\'ll be I\\'ll be Repeat once</td></tr>\\r\\n                       <tr><td class=\"side td1\"><a href=\"/song/154519/\">say my nameの片思い</a></td><td class=\"td2\"><a href=\"https://www.uta-net.com/artist/11591/\">LiSA</a></td><td class=\"td3\"><a href=\"https://www.uta-net.com/lyricist/10160/\">LiSA・田淵智也</a></td><td class=\"td4\"><a href=\"https://www.uta-net.com/composer/36197/\">田淵智也</a></td><td class=\"side td5\">いたずらなあくびを噛み殺して</td></tr>\\r\\n                       <tr><td class=\"side td1\"><a href=\"/song/233631/\">Sailor Spark Operation!</a></td><td class=\"td2\"><a href=\"https://www.uta-net.com/artist/11591/\">LiSA</a></td><td class=\"td3\"><a href=\"https://www.uta-net.com/lyricist/35452/\">田淵智也</a></td><td class=\"td4\"><a href=\"https://www.uta-net.com/composer/9149/\">Jose(TOTALFAT)</a></td><td class=\"side td5\">炎天下続く毎日</td></tr>\\r\\n                       <tr><td class=\"side td1\"><a href=\"/song/229813/\">そしてパレードは続く</a></td><td class=\"td2\"><a href=\"https://www.uta-net.com/artist/11591/\">LiSA</a></td><td class=\"td3\"><a href=\"https://www.uta-net.com/lyricist/35452/\">田淵智也</a></td><td class=\"td4\"><a href=\"https://www.uta-net.com/composer/36197/\">田淵智也</a></td><td class=\"side td5\">僕らGO EAST GO WESTどこまで</td></tr>\\r\\n                       <tr><td class=\"side td1\"><a href=\"/song/233633/\">だってアタシのヒーロー。</a><a href=\"https://www.uta-net.com/user/poplist.html\"><img src=\"/libs/img/parts/icon_gold.gif\" alt=\"GOLD LYLIC\" ></a></td><td class=\"td2\"><a href=\"https://www.uta-net.com/artist/11591/\">LiSA</a></td><td class=\"td3\"><a href=\"https://www.uta-net.com/lyricist/10159/\">LiSA・古屋真</a></td><td class=\"td4\"><a href=\"https://www.uta-net.com/composer/35554/\">渡辺翔</a></td><td class=\"side td5\">キミが諦めるトコ</td></tr>\\r\\n                       <tr><td class=\"side td1\"><a href=\"/song/278747/\">Chill-Chill-Dal-Da</a></td><td class=\"td2\"><a href=\"https://www.uta-net.com/artist/11591/\">LiSA</a></td><td class=\"td3\"><a href=\"https://www.uta-net.com/lyricist/35452/\">田淵智也</a></td><td class=\"td4\"><a href=\"https://www.uta-net.com/composer/27173/\">伊秩弘将</a></td><td class=\"side td5\">生活は難しい鬱屈止められない</td></tr>\\r\\n                       <tr><td class=\"side td1\"><a href=\"/song/213431/\">ツヨガリ・ファンファーレ</a></td><td class=\"td2\"><a href=\"https://www.uta-net.com/artist/11591/\">LiSA</a></td><td class=\"td3\"><a href=\"https://www.uta-net.com/lyricist/40876/\">LiSA</a></td><td class=\"td4\"><a href=\"https://www.uta-net.com/composer/36197/\">田淵智也</a></td><td class=\"side td5\">手グシさえ指が通らない</td></tr>\\r\\n                       <tr><td class=\"side td1\"><a href=\"/song/280570/\">THIS ILLUSION</a></td><td class=\"td2\"><a href=\"https://www.uta-net.com/artist/11591/\">LiSA</a></td><td class=\"td3\"><a href=\"https://www.uta-net.com/lyricist/37149/\">芳賀敬太</a></td><td class=\"td4\"><a href=\"https://www.uta-net.com/composer/15030/\">NUMBER 201</a></td><td class=\"side td5\">夢に見ていたあの日の影に</td></tr>\\r\\n                       <tr><td class=\"side td1\"><a href=\"/song/229814/\">TODAY</a></td><td class=\"td2\"><a href=\"https://www.uta-net.com/artist/11591/\">LiSA</a></td><td class=\"td3\"><a href=\"https://www.uta-net.com/lyricist/40876/\">LiSA</a></td><td class=\"td4\"><a href=\"https://www.uta-net.com/composer/30397/\">小南泰葉</a></td><td class=\"side td5\">いつの間にか随分遠くまで</td></tr>\\r\\n                       <tr><td class=\"side td1\"><a href=\"/song/170229/\">東京ラヴソング</a></td><td class=\"td2\"><a href=\"https://www.uta-net.com/artist/11591/\">LiSA</a></td><td class=\"td3\"><a href=\"https://www.uta-net.com/lyricist/40876/\">LiSA</a></td><td class=\"td4\"><a href=\"https://www.uta-net.com/composer/41053/\">LiSA</a></td><td class=\"side td5\">けたたましくなる目覚まし時計</td></tr>\\r\\n                       <tr><td class=\"side td1\"><a href=\"/song/150572/\">traumerei</a></td><td class=\"td2\"><a href=\"https://www.uta-net.com/artist/11591/\">LiSA</a></td><td class=\"td3\"><a href=\"https://www.uta-net.com/lyricist/5781/\">HIDEO NEKOTA</a></td><td class=\"td4\"><a href=\"https://www.uta-net.com/composer/7107/\">HIDEO NEKOTA</a></td><td class=\"side td5\">奪ってスローモーション</td></tr>\\r\\n                       <tr><td class=\"side td1\"><a href=\"/song/154522/\">DOCTOR</a></td><td class=\"td2\"><a href=\"https://www.uta-net.com/artist/11591/\">LiSA</a></td><td class=\"td3\"><a href=\"https://www.uta-net.com/lyricist/40876/\">LiSA</a></td><td class=\"td4\"><a href=\"https://www.uta-net.com/composer/24062/\">カヨコ</a></td><td class=\"side td5\">誘われて到着甘蜜の闇</td></tr>\\r\\n                       <tr><td class=\"side td1\"><a href=\"/song/126144/\">now and future</a></td><td class=\"td2\"><a href=\"https://www.uta-net.com/artist/11591/\">LiSA</a></td><td class=\"td3\"><a href=\"https://www.uta-net.com/lyricist/40876/\">LiSA</a></td><td class=\"td4\"><a href=\"https://www.uta-net.com/composer/36197/\">田淵智也</a></td><td class=\"side td5\">イメージを明日の向こうに</td></tr>\\r\\n                       <tr><td class=\"side td1\"><a href=\"/song/122465/\">ナミダ流星群</a></td><td class=\"td2\"><a href=\"https://www.uta-net.com/artist/11591/\">LiSA</a></td><td class=\"td3\"><a href=\"https://www.uta-net.com/lyricist/11366/\">meg rock</a></td><td class=\"td4\"><a href=\"https://www.uta-net.com/composer/35404/\">清水武仁</a></td><td class=\"side td5\">真夜中たったひとり悴む星</td></tr>\\r\\n                       <tr><td class=\"side td1\"><a href=\"/song/249480/\">NIPPON</a></td><td class=\"td2\"><a href=\"https://www.uta-net.com/artist/11591/\">LiSA</a></td><td class=\"td3\"><a href=\"https://www.uta-net.com/lyricist/33281/\">椎名林檎</a></td><td class=\"td4\"><a href=\"https://www.uta-net.com/composer/34308/\">椎名林檎</a></td><td class=\"side td5\">万歳万歳日本晴れ列島</td></tr>\\r\\n                       <tr><td class=\"side td1\"><a href=\"/song/176157/\">No More Time Machine</a></td><td class=\"td2\"><a href=\"https://www.uta-net.com/artist/11591/\">LiSA</a></td><td class=\"td3\"><a href=\"https://www.uta-net.com/lyricist/26419/\">古屋真</a></td><td class=\"td4\"><a href=\"https://www.uta-net.com/composer/38904/\">野間康介(agehasprings)</a></td><td class=\"side td5\">You need a time machine</td></tr>\\r\\n                       <tr><td class=\"side td1\"><a href=\"/song/206580/\">Hi FiVE!</a></td><td class=\"td2\"><a href=\"https://www.uta-net.com/artist/11591/\">LiSA</a></td><td class=\"td3\"><a href=\"https://www.uta-net.com/lyricist/10160/\">LiSA・田淵智也</a></td><td class=\"td4\"><a href=\"https://www.uta-net.com/composer/36197/\">田淵智也</a></td><td class=\"side td5\">願い星掴んだ汗だくのTシャツ</td></tr>\\r\\n                       <tr><td class=\"side td1\"><a href=\"/song/278749/\">ハウル</a></td><td class=\"td2\"><a href=\"https://www.uta-net.com/artist/11591/\">LiSA</a></td><td class=\"td3\"><a href=\"https://www.uta-net.com/lyricist/40876/\">LiSA</a></td><td class=\"td4\"><a href=\"https://www.uta-net.com/composer/7107/\">HIDEO NEKOTA</a></td><td class=\"side td5\">立ち止まって嘆いても</td></tr>\\r\\n                       <tr><td class=\"side td1\"><a href=\"/song/126141/\">花とミツバチ</a></td><td class=\"td2\"><a href=\"https://www.uta-net.com/artist/11591/\">LiSA</a></td><td class=\"td3\"><a href=\"https://www.uta-net.com/lyricist/26419/\">古屋真</a></td><td class=\"td4\"><a href=\"https://www.uta-net.com/composer/40211/\">黒須克彦</a></td><td class=\"side td5\">なんで取り替えっこなんてきっと</td></tr>\\r\\n                       <tr><td class=\"side td1\"><a href=\"/song/183192/\">晴れたらいいね</a></td><td class=\"td2\"><a href=\"https://www.uta-net.com/artist/11591/\">LiSA</a></td><td class=\"td3\"><a href=\"https://www.uta-net.com/lyricist/26713/\">吉田美和</a></td><td class=\"td4\"><a href=\"https://www.uta-net.com/composer/28696/\">吉田美和</a></td><td class=\"side td5\">山へ行こう次の日曜昔みたいに</td></tr>\\r\\n                       <tr><td class=\"side td1\"><a href=\"/song/248505/\">ハローグッデイ</a></td><td class=\"td2\"><a href=\"https://www.uta-net.com/artist/11591/\">LiSA</a></td><td class=\"td3\"><a href=\"https://www.uta-net.com/lyricist/40876/\">LiSA</a></td><td class=\"td4\"><a href=\"https://www.uta-net.com/composer/11889/\">LiSA・堀江晶太</a></td><td class=\"side td5\">移り行く季節がまるでいたずら</td></tr>\\r\\n                       <tr><td class=\"side td1\"><a href=\"/song/206577/\">halo-halo</a></td><td class=\"td2\"><a href=\"https://www.uta-net.com/artist/11591/\">LiSA</a></td><td class=\"td3\"><a href=\"https://www.uta-net.com/lyricist/40876/\">LiSA</a></td><td class=\"td4\"><a href=\"https://www.uta-net.com/composer/30397/\">小南泰葉</a></td><td class=\"side td5\">我愛 CINTA LOVE AMOR</td></tr>\\r\\n                       <tr><td class=\"side td1\"><a href=\"/song/122466/\">HANDS &amp; SMiLE</a></td><td class=\"td2\"><a href=\"https://www.uta-net.com/artist/11591/\">LiSA</a></td><td class=\"td3\"><a href=\"https://www.uta-net.com/lyricist/40876/\">LiSA</a></td><td class=\"td4\"><a href=\"https://www.uta-net.com/composer/24042/\">カノン</a></td><td class=\"side td5\">雨のち太陽強がりな</td></tr>\\r\\n                       <tr><td class=\"side td1\"><a href=\"/song/181505/\">Bad Sweet Trap</a></td><td class=\"td2\"><a href=\"https://www.uta-net.com/artist/11591/\">LiSA</a></td><td class=\"td3\"><a href=\"https://www.uta-net.com/lyricist/10160/\">LiSA・田淵智也</a></td><td class=\"td4\"><a href=\"https://www.uta-net.com/composer/36197/\">田淵智也</a></td><td class=\"side td5\">さあ見つかったらそれが最後</td></tr>\\r\\n                       <tr><td class=\"side td1\"><a href=\"/song/154520/\">ヒトリワラッテ</a></td><td class=\"td2\"><a href=\"https://www.uta-net.com/artist/11591/\">LiSA</a></td><td class=\"td3\"><a href=\"https://www.uta-net.com/lyricist/18746/\">wowaka</a></td><td class=\"td4\"><a href=\"https://www.uta-net.com/composer/21691/\">wowaka</a></td><td class=\"side td5\">私は独り笑ってた言葉にならぬ</td></tr>\\r\\n                       <tr><td class=\"side td1\"><a href=\"/song/248504/\">Believe in ourselves</a></td><td class=\"td2\"><a href=\"https://www.uta-net.com/artist/11591/\">LiSA</a></td><td class=\"td3\"><a href=\"https://www.uta-net.com/lyricist/10160/\">LiSA・田淵智也</a></td><td class=\"td4\"><a href=\"https://www.uta-net.com/composer/36197/\">田淵智也</a></td><td class=\"side td5\">一瞬だけ懐かしい匂いが僕の横</td></tr>\\r\\n                       <tr><td class=\"side td1\"><a href=\"/song/115391/\">Believe in myself</a></td><td class=\"td2\"><a href=\"https://www.uta-net.com/artist/11591/\">LiSA</a></td><td class=\"td3\"><a href=\"https://www.uta-net.com/lyricist/40876/\">LiSA</a></td><td class=\"td4\"><a href=\"https://www.uta-net.com/composer/41053/\">LiSA</a></td><td class=\"side td5\">Believe in myselfいつか</td></tr>\\r\\n                       <tr><td class=\"side td1\"><a href=\"/song/229816/\">Peace Beat Beast</a></td><td class=\"td2\"><a href=\"https://www.uta-net.com/artist/11591/\">LiSA</a></td><td class=\"td3\"><a href=\"https://www.uta-net.com/lyricist/26419/\">古屋真</a></td><td class=\"td4\"><a href=\"https://www.uta-net.com/composer/28319/\">南田健吾</a></td><td class=\"side td5\">Show me I\\'m a 猛獣マスター</td></tr>\\r\\n                       <tr><td class=\"side td1\"><a href=\"/song/181507/\">FRAGILE VAMPIRE</a></td><td class=\"td2\"><a href=\"https://www.uta-net.com/artist/11591/\">LiSA</a></td><td class=\"td3\"><a href=\"https://www.uta-net.com/lyricist/26419/\">古屋真</a></td><td class=\"td4\"><a href=\"https://www.uta-net.com/composer/5004/\">eba</a></td><td class=\"side td5\">解って欲しいそれだけなのに</td></tr>\\r\\n                      </tbody>\\r\\n          </table>\\r\\n\\r\\n          \\r\\n         </div>\\r\\n                 <div class=\"result_table last\">\\r\\n          <table summary=\"曲一覧4\">\\r\\n           <thead>\\r\\n            <tr>\\r\\n             <th class=\"th1\">曲名</th>\\r\\n             <th class=\"th2\">歌手名</th>\\r\\n             <th class=\"th3\">作詞者名</th>\\r\\n             <th class=\"th4\">作曲者名</th>\\r\\n             <th class=\"th5\">歌い出し</th>\\r\\n            </tr>\\r\\n           </thead>\\r\\n           <tbody>\\r\\n                       <tr><td class=\"side td1\"><a href=\"/song/170231/\">BRiGHT FLiGHT</a></td><td class=\"td2\"><a href=\"https://www.uta-net.com/artist/11591/\">LiSA</a></td><td class=\"td3\"><a href=\"https://www.uta-net.com/lyricist/40876/\">LiSA</a></td><td class=\"td4\"><a href=\"https://www.uta-net.com/composer/38903/\">野間康介</a></td><td class=\"side td5\">澄みきった大空一気にフライト</td></tr>\\r\\n                       <tr><td class=\"side td1\"><a href=\"/song/229815/\">Blue Moon</a></td><td class=\"td2\"><a href=\"https://www.uta-net.com/artist/11591/\">LiSA</a></td><td class=\"td3\"><a href=\"https://www.uta-net.com/lyricist/40876/\">LiSA</a></td><td class=\"td4\"><a href=\"https://www.uta-net.com/composer/24062/\">カヨコ</a></td><td class=\"side td5\">無限に広がる涙の湖</td></tr>\\r\\n                       <tr><td class=\"side td1\"><a href=\"/song/213433/\">Brave Freak Out</a></td><td class=\"td2\"><a href=\"https://www.uta-net.com/artist/11591/\">LiSA</a></td><td class=\"td3\"><a href=\"https://www.uta-net.com/lyricist/35452/\">田淵智也</a></td><td class=\"td4\"><a href=\"https://www.uta-net.com/composer/39887/\">高橋浩一郎</a></td><td class=\"side td5\">Let me think また一つ</td></tr>\\r\\n                       <tr><td class=\"side td1\"><a href=\"/song/270035/\">“PROPAGANDA”</a></td><td class=\"td2\"><a href=\"https://www.uta-net.com/artist/11591/\">LiSA</a></td><td class=\"td3\"><a href=\"https://www.uta-net.com/lyricist/31355/\">日高央</a></td><td class=\"td4\"><a href=\"https://www.uta-net.com/composer/15333/\">PABLO a.k.a. WTF!?</a></td><td class=\"side td5\">Find Out By yourself</td></tr>\\r\\n                       <tr><td class=\"side td1\"><a href=\"/song/144542/\">best day, best way</a><a href=\"https://www.uta-net.com/user/poplist.html\"><img src=\"/libs/img/parts/icon_gold.gif\" alt=\"GOLD LYLIC\" ></a></td><td class=\"td2\"><a href=\"https://www.uta-net.com/artist/11591/\">LiSA</a></td><td class=\"td3\"><a href=\"https://www.uta-net.com/lyricist/35452/\">田淵智也</a></td><td class=\"td4\"><a href=\"https://www.uta-net.com/composer/36197/\">田淵智也</a></td><td class=\"side td5\">走り出した心もう止まれない</td></tr>\\r\\n                       <tr><td class=\"side td1\"><a href=\"/song/154521/\">僕の言葉で</a></td><td class=\"td2\"><a href=\"https://www.uta-net.com/artist/11591/\">LiSA</a></td><td class=\"td3\"><a href=\"https://www.uta-net.com/lyricist/40876/\">LiSA</a></td><td class=\"td4\"><a href=\"https://www.uta-net.com/composer/40211/\">黒須克彦</a></td><td class=\"side td5\">外灯が夕闇彩って進まない</td></tr>\\r\\n                       <tr><td class=\"side td1\"><a href=\"/song/163580/\">ポーカーフェイス</a></td><td class=\"td2\"><a href=\"https://www.uta-net.com/artist/11591/\">LiSA</a></td><td class=\"td3\"><a href=\"https://www.uta-net.com/lyricist/40876/\">LiSA</a></td><td class=\"td4\"><a href=\"https://www.uta-net.com/composer/24062/\">カヨコ</a></td><td class=\"side td5\">通り過ぎた幾つもの偶然は</td></tr>\\r\\n                       <tr><td class=\"side td1\"><a href=\"/song/181511/\">Mr.Launcher</a></td><td class=\"td2\"><a href=\"https://www.uta-net.com/artist/11591/\">LiSA</a></td><td class=\"td3\"><a href=\"https://www.uta-net.com/lyricist/40876/\">LiSA</a></td><td class=\"td4\"><a href=\"https://www.uta-net.com/composer/7107/\">HIDEO NEKOTA</a></td><td class=\"side td5\">土砂降り続きの辛い日々に</td></tr>\\r\\n                       <tr><td class=\"side td1\"><a href=\"/song/181509/\">蜜</a></td><td class=\"td2\"><a href=\"https://www.uta-net.com/artist/11591/\">LiSA</a></td><td class=\"td3\"><a href=\"https://www.uta-net.com/lyricist/40876/\">LiSA</a></td><td class=\"td4\"><a href=\"https://www.uta-net.com/composer/24062/\">カヨコ</a></td><td class=\"side td5\">嘘が交差したmidnight 濡れた</td></tr>\\r\\n                       <tr><td class=\"side td1\"><a href=\"/song/115390/\">ミライカゼ</a></td><td class=\"td2\"><a href=\"https://www.uta-net.com/artist/11591/\">LiSA</a></td><td class=\"td3\"><a href=\"https://www.uta-net.com/lyricist/10157/\">LiSA・あにー</a></td><td class=\"td4\"><a href=\"https://www.uta-net.com/composer/22832/\">あにー</a></td><td class=\"side td5\">きらめく春風が初めて南から</td></tr>\\r\\n                       <tr><td class=\"side td1\"><a href=\"/song/115385/\">無色透明</a></td><td class=\"td2\"><a href=\"https://www.uta-net.com/artist/11591/\">LiSA</a></td><td class=\"td3\"><a href=\"https://www.uta-net.com/lyricist/40876/\">LiSA</a></td><td class=\"td4\"><a href=\"https://www.uta-net.com/composer/24042/\">カノン</a></td><td class=\"side td5\">時計の針が始りを知らせる</td></tr>\\r\\n                       <tr><td class=\"side td1\"><a href=\"/song/247337/\">ムーンライト伝説</a></td><td class=\"td2\"><a href=\"https://www.uta-net.com/artist/11591/\">LiSA</a></td><td class=\"td3\"><a href=\"https://www.uta-net.com/lyricist/29026/\">小田佳奈子</a></td><td class=\"td4\"><a href=\"https://www.uta-net.com/composer/30767/\">小諸鉄矢</a></td><td class=\"side td5\">ゴメンね素直じゃなくて</td></tr>\\r\\n                       <tr><td class=\"side td1\"><a href=\"/song/224079/\">Merry Hurry Berry</a></td><td class=\"td2\"><a href=\"https://www.uta-net.com/artist/11591/\">LiSA</a></td><td class=\"td3\"><a href=\"https://www.uta-net.com/lyricist/26419/\">古屋真</a></td><td class=\"td4\"><a href=\"https://www.uta-net.com/composer/27923/\">前山田健一</a></td><td class=\"side td5\">Merry Very Very イイじゃない</td></tr>\\r\\n                       <tr><td class=\"side td1\"><a href=\"/song/115386/\">妄想コントローラー</a></td><td class=\"td2\"><a href=\"https://www.uta-net.com/artist/11591/\">LiSA</a></td><td class=\"td3\"><a href=\"https://www.uta-net.com/lyricist/40876/\">LiSA</a></td><td class=\"td4\"><a href=\"https://www.uta-net.com/composer/36197/\">田淵智也</a></td><td class=\"side td5\">さっきおとぎの国からもって</td></tr>\\r\\n                       <tr><td class=\"side td1\"><a href=\"/song/270034/\">やくそくのうた</a></td><td class=\"td2\"><a href=\"https://www.uta-net.com/artist/11591/\">LiSA</a></td><td class=\"td3\"><a href=\"https://www.uta-net.com/lyricist/35452/\">田淵智也</a></td><td class=\"td4\"><a href=\"https://www.uta-net.com/composer/36197/\">田淵智也</a></td><td class=\"side td5\">胸がいっぱいで大渋滞だ</td></tr>\\r\\n                       <tr><td class=\"side td1\"><a href=\"/song/126145/\">優しさに辿りつくまで</a></td><td class=\"td2\"><a href=\"https://www.uta-net.com/artist/11591/\">LiSA</a></td><td class=\"td3\"><a href=\"https://www.uta-net.com/lyricist/40876/\">LiSA</a></td><td class=\"td4\"><a href=\"https://www.uta-net.com/composer/35554/\">渡辺翔</a></td><td class=\"side td5\">ボロボロになって聴こえた</td></tr>\\r\\n                       <tr><td class=\"side td1\"><a href=\"/song/150569/\">夕焼けノスタルジア</a></td><td class=\"td2\"><a href=\"https://www.uta-net.com/artist/11591/\">LiSA</a></td><td class=\"td3\"><a href=\"https://www.uta-net.com/lyricist/26419/\">古屋真</a></td><td class=\"td4\"><a href=\"https://www.uta-net.com/composer/40211/\">黒須克彦</a></td><td class=\"side td5\">夕暮れ君は今も憶えてるかな</td></tr>\\r\\n                       <tr><td class=\"side td1\"><a href=\"/song/163581/\">Rising Hope</a><a href=\"https://www.uta-net.com/user/poplist.html\"><img src=\"/libs/img/parts/icon_platina.gif\" alt=\"PLATINA LYLIC\" ></a></td><td class=\"td2\"><a href=\"https://www.uta-net.com/artist/11591/\">LiSA</a></td><td class=\"td3\"><a href=\"https://www.uta-net.com/lyricist/10160/\">LiSA・田淵智也</a></td><td class=\"td4\"><a href=\"https://www.uta-net.com/composer/36197/\">田淵智也</a></td><td class=\"side td5\">握ったメッセージ that\\'s</td></tr>\\r\\n                       <tr><td class=\"side td1\"><a href=\"/song/126136/\">LOVER“S”MiLE</a></td><td class=\"td2\"><a href=\"https://www.uta-net.com/artist/11591/\">LiSA</a></td><td class=\"td3\"><a href=\"https://www.uta-net.com/lyricist/40876/\">LiSA</a></td><td class=\"td4\"><a href=\"https://www.uta-net.com/composer/28349/\">原一博</a></td><td class=\"side td5\">隣に居るけど手も握れるけど</td></tr>\\r\\n                       <tr><td class=\"side td1\"><a href=\"/song/181510/\">rapid life シンドローム</a></td><td class=\"td2\"><a href=\"https://www.uta-net.com/artist/11591/\">LiSA</a></td><td class=\"td3\"><a href=\"https://www.uta-net.com/lyricist/35452/\">田淵智也</a></td><td class=\"td4\"><a href=\"https://www.uta-net.com/composer/36197/\">田淵智也</a></td><td class=\"side td5\">boys and girls say life is rapid</td></tr>\\r\\n                       <tr><td class=\"side td1\"><a href=\"/song/206581/\">ラブリーデイ</a></td><td class=\"td2\"><a href=\"https://www.uta-net.com/artist/11591/\">LiSA</a></td><td class=\"td3\"><a href=\"https://www.uta-net.com/lyricist/10159/\">LiSA・古屋真</a></td><td class=\"td4\"><a href=\"https://www.uta-net.com/composer/38904/\">野間康介(agehasprings)</a></td><td class=\"side td5\">愛をそっと勇気をもっと</td></tr>\\r\\n                       <tr><td class=\"side td1\"><a href=\"/song/186932/\">Rally Go Round</a><a href=\"https://www.uta-net.com/user/poplist.html\"><img src=\"/libs/img/parts/icon_gold.gif\" alt=\"GOLD LYLIC\" ></a></td><td class=\"td2\"><a href=\"https://www.uta-net.com/artist/11591/\">LiSA</a></td><td class=\"td3\"><a href=\"https://www.uta-net.com/lyricist/10159/\">LiSA・古屋真</a></td><td class=\"td4\"><a href=\"https://www.uta-net.com/composer/23173/\">じん</a></td><td class=\"side td5\">もう散々ぐるぐるしたじゃない</td></tr>\\r\\n                       <tr><td class=\"side td1\"><a href=\"/song/194754/\">リスキー</a></td><td class=\"td2\"><a href=\"https://www.uta-net.com/artist/11591/\">LiSA</a></td><td class=\"td3\"><a href=\"https://www.uta-net.com/lyricist/40876/\">LiSA</a></td><td class=\"td4\"><a href=\"https://www.uta-net.com/composer/30397/\">小南泰葉</a></td><td class=\"side td5\">なんでもない出来事で</td></tr>\\r\\n                       <tr><td class=\"side td1\"><a href=\"/song/229821/\">LiTTLE DEViL PARADE</a></td><td class=\"td2\"><a href=\"https://www.uta-net.com/artist/11591/\">LiSA</a></td><td class=\"td3\"><a href=\"https://www.uta-net.com/lyricist/40876/\">LiSA</a></td><td class=\"td4\"><a href=\"https://www.uta-net.com/composer/15332/\">PABLO a.k.a WTF!?</a></td><td class=\"side td5\">ココロの泣いてる声が聴こえる</td></tr>\\r\\n                       <tr><td class=\"side td1\"><a href=\"/song/224080/\">リングアベル</a></td><td class=\"td2\"><a href=\"https://www.uta-net.com/artist/11591/\">LiSA</a></td><td class=\"td3\"><a href=\"https://www.uta-net.com/lyricist/40876/\">LiSA</a></td><td class=\"td4\"><a href=\"https://www.uta-net.com/composer/38904/\">野間康介(agehasprings)</a></td><td class=\"side td5\">あの日こっそり僕に</td></tr>\\r\\n                       <tr><td class=\"side td1\"><a href=\"/song/229820/\">LOSER\\u3000～希望と未来に無縁のカタルシス～</a></td><td class=\"td2\"><a href=\"https://www.uta-net.com/artist/11591/\">LiSA</a></td><td class=\"td3\"><a href=\"https://www.uta-net.com/lyricist/40876/\">LiSA</a></td><td class=\"td4\"><a href=\"https://www.uta-net.com/composer/24062/\">カヨコ</a></td><td class=\"side td5\">不平等に与えられた手の中の</td></tr>\\r\\n                       <tr><td class=\"side td1\"><a href=\"/song/126140/\">ROCK-mode</a><a href=\"https://www.uta-net.com/user/poplist.html\"><img src=\"/libs/img/parts/icon_gold.gif\" alt=\"GOLD LYLIC\" ></a></td><td class=\"td2\"><a href=\"https://www.uta-net.com/artist/11591/\">LiSA</a></td><td class=\"td3\"><a href=\"https://www.uta-net.com/lyricist/10160/\">LiSA・田淵智也</a></td><td class=\"td4\"><a href=\"https://www.uta-net.com/composer/36197/\">田淵智也</a></td><td class=\"side td5\">即効性の不安材料で毎日が</td></tr>\\r\\n                       <tr><td class=\"side td1\"><a href=\"/song/126142/\">WiLD CANDY</a></td><td class=\"td2\"><a href=\"https://www.uta-net.com/artist/11591/\">LiSA</a></td><td class=\"td3\"><a href=\"https://www.uta-net.com/lyricist/26419/\">古屋真</a></td><td class=\"td4\"><a href=\"https://www.uta-net.com/composer/36776/\">礒崎健史</a></td><td class=\"side td5\">ドロップの箱ふってこれが</td></tr>\\r\\n                       <tr><td class=\"side td1\"><a href=\"/song/154516/\">winding road</a></td><td class=\"td2\"><a href=\"https://www.uta-net.com/artist/11591/\">LiSA</a></td><td class=\"td3\"><a href=\"https://www.uta-net.com/lyricist/40876/\">LiSA</a></td><td class=\"td4\"><a href=\"https://www.uta-net.com/composer/41053/\">LiSA</a></td><td class=\"side td5\">最後の1ページそっと書き足す</td></tr>\\r\\n                       <tr><td class=\"side td1\"><a href=\"/song/126139/\">笑ってほしくて</a></td><td class=\"td2\"><a href=\"https://www.uta-net.com/artist/11591/\">LiSA</a></td><td class=\"td3\"><a href=\"https://www.uta-net.com/lyricist/40876/\">LiSA</a></td><td class=\"td4\"><a href=\"https://www.uta-net.com/composer/31764/\">川原祥太</a></td><td class=\"side td5\">曇り空の下ひまわりはうつむき</td></tr>\\r\\n                      </tbody>\\r\\n          </table>\\r\\n\\r\\n          \\r\\n         </div>\\r\\n        \\r\\n        <div class=\"bottom clearfix\">\\r\\n         <div id=\"page_list\">\\r\\n                  </div>\\r\\n        </div>\\r\\n        \\r\\n                 <div id=\"wiki\">\\r\\n          <div class=\"main\">\\r\\n           <p class=\"body\">\\r\\n            LiSA（リサ、1987年6月24日 - ）は、日本の女性歌手。岐阜県関市出身。PARKING OUTのメンバーと結成したロックバンド「Love is Same All」のボーカリスト。「Love is Same All」は「LiSA」という名前から命名。血液型はB型。 <a href=\"http://ja.wikipedia.org/wiki/LiSA\" class=\"popWin\">wikipedia</a>\\r\\n           </p>\\r\\n          </div>\\r\\n          <div class=\"foot\"></div>\\r\\n         </div>\\r\\n        \\r\\n        \\r\\n        \\r\\n        <div id=\"bottom_banner\" class=\"clearfix\">\\r\\n            <div class=\"left\">\\r\\n               <!-- /9168657/PC_一覧_フッター左_300x250 -->\\r\\n                <div id=\"div-gpt-ad-1506841771279-2\">\\r\\n                    <script>\\r\\n                       googletag.cmd.push(function() {\\r\\n                         googletag.display(\\'div-gpt-ad-1506841771279-2\\');\\r\\n                         //googletag.pubads();\\r\\n                       });\\r\\n                    </script>\\r\\n                </div>\\r\\n            </div>\\r\\n            <div class=\"right\">\\r\\n                <!-- /9168657/PC_一覧_フッター右_300x250 -->\\r\\n                <div id=\"div-gpt-ad-1506841771279-3\">\\r\\n                    <script>\\r\\n                       googletag.cmd.push(function() {\\r\\n                         googletag.display(\\'div-gpt-ad-1506841771279-3\\');\\r\\n                         //googletag.pubads();\\r\\n                       });\\r\\n                    </script>\\r\\n                </div>\\r\\n            </div>\\r\\n        </div>\\r\\n    </div>\\r\\n    \\r\\n    \\r\\n    \\r\\n    <div id=\"side_left_banner\" class=\"fixed_area_l\" style=\"position:absolute;top:238px;\">\\r\\n        <div id=\"div-gpt-ad-1515057359832-0\">\\r\\n            <script>\\r\\n               googletag.cmd.push(function() {\\r\\n                 googletag.display(\\'div-gpt-ad-1515057359832-0\\');\\r\\n                 //googletag.pubads();\\r\\n               });\\r\\n            </script>\\r\\n         </div>       \\r\\n    </div>\\r\\n\\r\\n    \\r\\n    <div id=\"side_right_banner\" class=\"fixed_area_r\" style=\"position:absolute;top:238px;\">\\r\\n        <div id=\"div-gpt-ad-1515057359832-1\">\\r\\n            <script>\\r\\n               googletag.cmd.push(function() {\\r\\n                 googletag.display(\\'div-gpt-ad-1515057359832-1\\');\\r\\n                 //googletag.pubads();\\r\\n               });\\r\\n            </script>\\r\\n        </div>\\r\\n    </div>\\r\\n</div>\\r\\n\\r\\n\\r\\n<div id=\"footer_to_top\"><a href=\"#top\"><span>TOP</span></a></div>\\r\\n<div id=\"footer_map\">\\r\\n\\t<div class=\"inner clearfix\">\\r\\n\\t\\t<dl>\\r\\n\\t\\t\\t<dt><span>歌詞検索の方法</span></dt>\\r\\n\\t\\t\\t<dd>\\r\\n\\t\\t\\t\\t<ul>\\r\\n\\t\\t\\t\\t\\t<li><a href=\"https://www.uta-net.com/name_list/\">アーティスト名インデックス</a></li>\\r\\n\\t\\t\\t\\t\\t<li><a href=\"https://www.uta-net.com/user/search/anime_list.html\">アニソン検索・索引</a></li>\\r\\n\\t\\t\\t\\t\\t<li><a href=\"https://www.uta-net.com/user/search_index/name.html\">アルバム検索</a></li>\\r\\n\\t\\t\\t\\t\\t<li><a href=\"https://www.uta-net.com/user/index_search/search1.html\">歌詞全文（フレーズ）検索</a></li>\\r\\n\\t\\t\\t\\t\\t<li><a href=\"https://www.uta-net.com/user/timemachine/index.html\">タイムマシン検索</a></li>\\r\\n\\t\\t\\t\\t</ul>\\r\\n\\t\\t\\t</dd>\\r\\n\\t\\t</dl>\\r\\n\\t\\t<dl>\\r\\n\\t\\t\\t<dt><span>歌詞更新リスト</span></dt>\\r\\n\\t\\t\\t<dd>\\r\\n\\t\\t\\t\\t<ul>\\r\\n\\t\\t\\t\\t\\t<li><a href=\"https://www.uta-net.com/user/newsong/release_top.html\">新曲歌詞情報</a></li>\\r\\n\\t\\t\\t\\t\\t<li><a href=\"https://www.uta-net.com/user/newsong/release_top_2.html\">新曲歌詞情報（演歌・歌謡曲）</a></li>\\r\\n\\t\\t\\t\\t\\t<li><a href=\"https://www.uta-net.com/user/search_index/album_index.html\">今月のアルバム特集</a></li>\\r\\n\\t\\t\\t\\t\\t<li><a href=\"https://www.uta-net.com/info/mail.html\">リクエストフォーム</a></li>\\r\\n\\t\\t\\t\\t</ul>\\r\\n\\t\\t\\t</dd>\\r\\n\\t\\t</dl>\\r\\n\\t\\t<dl>\\r\\n\\t\\t\\t<dt><span>歌詞検索ランキング</span></dt>\\r\\n\\t\\t\\t<dd>\\r\\n\\t\\t\\t\\t<ul>\\r\\n\\t\\t\\t\\t\\t<li><a href=\"https://www.uta-net.com/user/ranking/daily.html\">総合ランキング</a></li>\\r\\n\\t\\t\\t\\t\\t<li><a href=\"https://www.uta-net.com/user/otona/access_ranking.html\">演歌歌謡曲ランキング</a></li>\\r\\n\\t\\t\\t\\t\\t<li><a href=\"https://www.uta-net.com/user/otona/karaoke_ranking_sogo.html\">カラオケランキング</a></li>\\r\\n\\t\\t\\t\\t\\t<li><a href=\"https://www.uta-net.com/user/poplist.html?sort=4\">歴代人気曲ランキング</a></li>\\r\\n\\t\\t\\t\\t\\t<li><a href=\"https://www.uta-net.com/renew/myutanet/index.php?mode=week\">お気に入りアーティストランキング</a></li>\\r\\n\\t\\t\\t\\t</ul>\\r\\n\\t\\t\\t</dd>\\r\\n\\t\\t</dl>\\r\\n\\t\\t<dl>\\r\\n\\t\\t\\t<dt><span>コンテンツ1</span></dt>\\r\\n\\t\\t\\t<dd>\\r\\n\\t\\t\\t\\t<ul>\\r\\n\\t\\t\\t\\t\\t<li><a href=\"https://www.uta-net.com/movie/\">動画プラス</a></li>\\r\\n\\t\\t\\t\\t\\t<li><a href=\"https://www.uta-net.com/user/otona/index.html\">音楽番組情報</a></li>\\r\\n\\t\\t\\t\\t\\t\\r\\n\\t\\t\\t\\t\\t<li><a href=\"https://www.uta-net.com/user/watafure/watafure_top.html\">コトバのキモチ（ワタフレ）</a></li>\\r\\n\\t\\t\\t\\t\\t\\r\\n\\t\\t\\t\\t\\t<li><a href=\"https://www.uta-net.com/livereport/\">ライブレポート</a></li>\\r\\n\\t\\t\\t\\t</ul>\\r\\n\\t\\t\\t</dd>\\r\\n\\t\\t</dl>\\r\\n\\t\\t<dl>\\r\\n\\t\\t\\t<dt><span>コンテンツ2</span></dt>\\r\\n\\t\\t\\t<dd>\\r\\n\\t\\t\\t\\t<ul>\\r\\n\\t\\t\\t\\t\\t<li><a href=\"https://www.uta-net.com/user/writer/news.html\">音楽ニュース</a></li>\\r\\n\\t\\t\\t\\t\\t<li><a href=\"https://www.uta-net.com/user/close_up/index.html\">特集ピックアップ</a></li>\\r\\n\\t\\t\\t\\t\\t<li><a href=\"https://www.uta-net.com/user/interview/index.html\">インタビュー</a></li>\\r\\n\\t\\t\\t\\t\\t<li><a href=\"https://www.uta-net.com/user/column/index.html\">言葉の魔法</a></li>\\r\\n\\t\\t\\t\\t\\t<li><a href=\"https://www.uta-net.com/user/tatsujin/index.html\">言葉の達人</a></li>\\r\\n\\t\\t\\t\\t</ul>\\r\\n\\t\\t\\t</dd>\\r\\n\\t\\t</dl>\\r\\n\\t</div>\\r\\n</div>\\r\\n\\r\\n\\r\\n<!-- footerここから -->\\r\\n<div id=\"footer_bottom\">\\r\\n\\t\\r\\n\\t<div id=\"footer_links\">\\r\\n\\t\\t<ul>\\r\\n\\t\\t\\t<li><a href=\"https://www.uta-net.com/info/kiyaku.html\">利用規約</a></li>\\r\\n\\t\\t\\t<li><a href=\"https://www.uta-net.com/info/Privacy.html\">プライバシーポリシー</a></li>\\r\\n\\t\\t\\t<li><a href=\"https://www.uta-net.com/info/mail.html\">お問い合わせ・リクエスト</a></li>\\r\\n\\t\\t\\t<li><a href=\"https://www.uta-net.com/info/contents_info.html\">コンテンツ</a></li>\\r\\n\\t\\t\\t<li><a href=\"http://www.pageone.co.jp/ad/ad_info.html\" target=\"_blank\">広告掲載</a></li>\\r\\n\\t\\t\\t<li><a href=\"https://www.uta-net.com/info/staff_index.html\">スタッフ募集</a></li>\\r\\n\\t\\t</ul>\\r\\n\\t</div>\\r\\n\\t<div id=\"footer_text\">各ページに掲載されたジャケット画像、歌詞に関する著作権は、各レコード会社、アーティストなどに帰属します。</div>\\r\\n\\t\\r\\n\\t<div id=\"footer_copy\">\\r\\n\\t\\t<p class=\"copyright\">(C)2001 PAGE ONE All Rights Reserved.</p>\\r\\n\\t</div>\\r\\n</div>\\r\\n\\r\\n<!-- footerここまで -->\\r\\n</body>\\r\\n</html>\\r\\n'"
      ]
     },
     "execution_count": 40,
     "metadata": {},
     "output_type": "execute_result"
    }
   ],
   "source": [
    "artist_page"
   ]
  },
  {
   "cell_type": "code",
   "execution_count": 41,
   "metadata": {
    "colab": {},
    "colab_type": "code",
    "id": "zG65T3GTXRcZ"
   },
   "outputs": [],
   "source": [
    "# タグをすべて取得する関数\n",
    "def get_tags(page, target_tag):\n",
    "  soup = bs4.BeautifulSoup(str(page), 'html.parser')\n",
    "  tags = soup.find_all(target_tag)\n",
    "  return tags"
   ]
  },
  {
   "cell_type": "code",
   "execution_count": 42,
   "metadata": {
    "colab": {
     "base_uri": "https://localhost:8080/",
     "height": 1000
    },
    "colab_type": "code",
    "id": "4S3pgQScFc1o",
    "outputId": "282aa9a0-63c4-4fc4-ae05-4227f8b53a94",
    "scrolled": true
   },
   "outputs": [
    {
     "data": {
      "text/plain": [
       "[<td class=\"side td1\"><a href=\"/song/150571/\">I doubt it</a></td>,\n",
       " <td class=\"td2\"><a href=\"https://www.uta-net.com/artist/11591/\">LiSA</a></td>,\n",
       " <td class=\"td3\"><a href=\"https://www.uta-net.com/lyricist/40876/\">LiSA</a></td>,\n",
       " <td class=\"td4\"><a href=\"https://www.uta-net.com/composer/31643/\">岸田</a></td>,\n",
       " <td class=\"side td5\">確かな耳鳴りゆがんだ世界に</td>,\n",
       " <td class=\"side td1\"><a href=\"/song/198612/\">ID</a></td>,\n",
       " <td class=\"td2\"><a href=\"https://www.uta-net.com/artist/11591/\">LiSA</a></td>,\n",
       " <td class=\"td3\"><a href=\"https://www.uta-net.com/lyricist/10159/\">LiSA・古屋真</a></td>,\n",
       " <td class=\"td4\"><a href=\"https://www.uta-net.com/composer/39887/\">高橋浩一郎</a></td>,\n",
       " <td class=\"side td5\">全方向完全アウェイで</td>,\n",
       " <td class=\"side td1\"><a href=\"/song/144541/\">I'm a Rock star</a></td>,\n",
       " <td class=\"td2\"><a href=\"https://www.uta-net.com/artist/11591/\">LiSA</a></td>,\n",
       " <td class=\"td3\"><a href=\"https://www.uta-net.com/lyricist/10159/\">LiSA・古屋真</a></td>,\n",
       " <td class=\"td4\"><a href=\"https://www.uta-net.com/composer/36752/\">磯崎健史</a></td>,\n",
       " <td class=\"side td5\">ネオンの灯り染まった街中</td>,\n",
       " <td class=\"side td1\"><a href=\"/song/260369/\">赤い罠(who loves it?)</a></td>,\n",
       " <td class=\"td2\"><a href=\"https://www.uta-net.com/artist/11591/\">LiSA</a></td>,\n",
       " <td class=\"td3\"><a href=\"https://www.uta-net.com/lyricist/10160/\">LiSA・田淵智也</a></td>,\n",
       " <td class=\"td4\"><a href=\"https://www.uta-net.com/composer/36197/\">田淵智也</a></td>,\n",
       " <td class=\"side td5\">それでもアナタに惹かれて</td>,\n",
       " <td class=\"side td1\"><a href=\"/song/213432/\">AxxxiS</a></td>,\n",
       " <td class=\"td2\"><a href=\"https://www.uta-net.com/artist/11591/\">LiSA</a></td>,\n",
       " <td class=\"td3\"><a href=\"https://www.uta-net.com/lyricist/26419/\">古屋真</a></td>,\n",
       " <td class=\"td4\"><a href=\"https://www.uta-net.com/composer/5004/\">eba</a></td>,\n",
       " <td class=\"side td5\">前ならえに抵抗しだした僕らは</td>,\n",
       " <td class=\"side td1\"><a href=\"/song/181508/\">アコガレ望遠鏡</a></td>,\n",
       " <td class=\"td2\"><a href=\"https://www.uta-net.com/artist/11591/\">LiSA</a></td>,\n",
       " <td class=\"td3\"><a href=\"https://www.uta-net.com/lyricist/26419/\">古屋真</a></td>,\n",
       " <td class=\"td4\"><a href=\"https://www.uta-net.com/composer/5004/\">eba</a></td>,\n",
       " <td class=\"side td5\">ひとりぼっちには慣れてんだ</td>,\n",
       " <td class=\"side td1\"><a href=\"/song/163669/\">アシアトコンパス</a></td>,\n",
       " <td class=\"td2\"><a href=\"https://www.uta-net.com/artist/11591/\">LiSA</a></td>,\n",
       " <td class=\"td3\"><a href=\"https://www.uta-net.com/lyricist/40876/\">LiSA</a></td>,\n",
       " <td class=\"td4\"><a href=\"https://www.uta-net.com/composer/31202/\">山本陽介</a></td>,\n",
       " <td class=\"side td5\">更新した星占い期待してた</td>,\n",
       " <td class=\"side td1\"><a href=\"/song/257111/\">ADAMAS</a><a href=\"https://www.uta-net.com/user/poplist.html\"><img alt=\"GOLD LYLIC\" src=\"/libs/img/parts/icon_gold.gif\"/></a></td>,\n",
       " <td class=\"td2\"><a href=\"https://www.uta-net.com/artist/11591/\">LiSA</a></td>,\n",
       " <td class=\"td3\"><a href=\"https://www.uta-net.com/lyricist/40876/\">LiSA</a></td>,\n",
       " <td class=\"td4\"><a href=\"https://www.uta-net.com/composer/24062/\">カヨコ</a></td>,\n",
       " <td class=\"side td5\">大義名分に痺れ切らした</td>,\n",
       " <td class=\"side td1\"><a href=\"/song/240265/\">ASH</a></td>,\n",
       " <td class=\"td2\"><a href=\"https://www.uta-net.com/artist/11591/\">LiSA</a></td>,\n",
       " <td class=\"td3\"><a href=\"https://www.uta-net.com/lyricist/22971/\">マオ(シド)</a></td>,\n",
       " <td class=\"td4\"><a href=\"https://www.uta-net.com/composer/32265/\">御恵明希(シド)</a></td>,\n",
       " <td class=\"side td5\">雨の雫みたい迷いながら</td>,\n",
       " <td class=\"side td1\"><a href=\"/song/163579/\">雨上がりの空とキミ</a></td>,\n",
       " <td class=\"td2\"><a href=\"https://www.uta-net.com/artist/11591/\">LiSA</a></td>,\n",
       " <td class=\"td3\"><a href=\"https://www.uta-net.com/lyricist/27028/\">園田智也</a></td>,\n",
       " <td class=\"td4\"><a href=\"https://www.uta-net.com/composer/30123/\">宮城裕次</a></td>,\n",
       " <td class=\"side td5\">夜明け前の空雨音は遠くに</td>,\n",
       " <td class=\"side td1\"><a href=\"/song/181506/\">ANTIHERO</a></td>,\n",
       " <td class=\"td2\"><a href=\"https://www.uta-net.com/artist/11591/\">LiSA</a></td>,\n",
       " <td class=\"td3\"><a href=\"https://www.uta-net.com/lyricist/40876/\">LiSA</a></td>,\n",
       " <td class=\"td4\"><a href=\"https://www.uta-net.com/composer/23173/\">じん</a></td>,\n",
       " <td class=\"side td5\">カタチない世界にログイン</td>,\n",
       " <td class=\"side td1\"><a href=\"/song/126138/\">アンフィル</a></td>,\n",
       " <td class=\"td2\"><a href=\"https://www.uta-net.com/artist/11591/\">LiSA</a></td>,\n",
       " <td class=\"td3\"><a href=\"https://www.uta-net.com/lyricist/20551/\">とく</a></td>,\n",
       " <td class=\"td4\"><a href=\"https://www.uta-net.com/composer/23302/\">とく</a></td>,\n",
       " <td class=\"side td5\">肩にとまったため息ひとつ</td>,\n",
       " <td class=\"side td1\"><a href=\"/song/278546/\">unlasting</a></td>,\n",
       " <td class=\"td2\"><a href=\"https://www.uta-net.com/artist/11591/\">LiSA</a></td>,\n",
       " <td class=\"td3\"><a href=\"https://www.uta-net.com/lyricist/40876/\">LiSA</a></td>,\n",
       " <td class=\"td4\"><a href=\"https://www.uta-net.com/composer/37684/\">草野華余子</a></td>,\n",
       " <td class=\"side td5\">一人きりでも平気</td>,\n",
       " <td class=\"side td1\"><a href=\"/song/133655/\">いつかの手紙</a></td>,\n",
       " <td class=\"td2\"><a href=\"https://www.uta-net.com/artist/11591/\">LiSA</a></td>,\n",
       " <td class=\"td3\"><a href=\"https://www.uta-net.com/lyricist/26419/\">古屋真</a></td>,\n",
       " <td class=\"td4\"><a href=\"https://www.uta-net.com/composer/40211/\">黒須克彦</a></td>,\n",
       " <td class=\"side td5\">まるで心にいつでもある</td>,\n",
       " <td class=\"side td1\"><a href=\"/song/248506/\">WiLL～無色透明～</a></td>,\n",
       " <td class=\"td2\"><a href=\"https://www.uta-net.com/artist/11591/\">LiSA</a></td>,\n",
       " <td class=\"td3\"><a href=\"https://www.uta-net.com/lyricist/40876/\">LiSA</a></td>,\n",
       " <td class=\"td4\"><a href=\"https://www.uta-net.com/composer/27173/\">伊秩弘将</a></td>,\n",
       " <td class=\"side td5\">リュックの中希望を詰めたまま</td>,\n",
       " <td class=\"side td1\"><a href=\"/song/186930/\">Wake up! Sloth</a></td>,\n",
       " <td class=\"td2\"><a href=\"https://www.uta-net.com/artist/11591/\">LiSA</a></td>,\n",
       " <td class=\"td3\"><a href=\"https://www.uta-net.com/lyricist/40876/\">LiSA</a></td>,\n",
       " <td class=\"td4\"><a href=\"https://www.uta-net.com/composer/20668/\">Tom-H@ck</a></td>,\n",
       " <td class=\"side td5\">Wake up Wake up Wake up</td>,\n",
       " <td class=\"side td1\"><a href=\"/song/154518/\">うそつきの涙</a></td>,\n",
       " <td class=\"td2\"><a href=\"https://www.uta-net.com/artist/11591/\">LiSA</a></td>,\n",
       " <td class=\"td3\"><a href=\"https://www.uta-net.com/lyricist/26419/\">古屋真</a></td>,\n",
       " <td class=\"td4\"><a href=\"https://www.uta-net.com/composer/35416/\">清水葉子</a></td>,\n",
       " <td class=\"side td5\">近くにいるよすぐそばにいるんだよ</td>,\n",
       " <td class=\"side td1\"><a href=\"/song/115389/\">永遠</a></td>,\n",
       " <td class=\"td2\"><a href=\"https://www.uta-net.com/artist/11591/\">LiSA</a></td>,\n",
       " <td class=\"td3\"><a href=\"https://www.uta-net.com/lyricist/40876/\">LiSA</a></td>,\n",
       " <td class=\"td4\"><a href=\"https://www.uta-net.com/composer/31643/\">岸田</a></td>,\n",
       " <td class=\"side td5\">どうしてこうなるならどうして</td>,\n",
       " <td class=\"side td1\"><a href=\"/song/126143/\">EGOiSTiC SHOOTER</a></td>,\n",
       " <td class=\"td2\"><a href=\"https://www.uta-net.com/artist/11591/\">LiSA</a></td>,\n",
       " <td class=\"td3\"><a href=\"https://www.uta-net.com/lyricist/40876/\">LiSA</a></td>,\n",
       " <td class=\"td4\"><a href=\"https://www.uta-net.com/composer/21691/\">wowaka</a></td>,\n",
       " <td class=\"side td5\">いつまで隠してんのバレバレな</td>,\n",
       " <td class=\"side td1\"><a href=\"/song/115388/\">エスケープゲーム</a></td>,\n",
       " <td class=\"td2\"><a href=\"https://www.uta-net.com/artist/11591/\">LiSA</a></td>,\n",
       " <td class=\"td3\"><a href=\"https://www.uta-net.com/lyricist/40876/\">LiSA</a></td>,\n",
       " <td class=\"td4\"><a href=\"https://www.uta-net.com/composer/25067/\">ハチ</a></td>,\n",
       " <td class=\"side td5\">お訪ねしますがここはどこですか</td>,\n",
       " <td class=\"side td1\"><a href=\"/song/260496/\">1/f</a></td>,\n",
       " <td class=\"td2\"><a href=\"https://www.uta-net.com/artist/11591/\">LiSA</a></td>,\n",
       " <td class=\"td3\"><a href=\"https://www.uta-net.com/lyricist/35283/\">田中秀典</a></td>,\n",
       " <td class=\"td4\"><a href=\"https://www.uta-net.com/composer/6432/\">goodtimes</a></td>,\n",
       " <td class=\"side td5\">橙に浸されてゆく街</td>,\n",
       " <td class=\"side td1\"><a href=\"/song/170230/\">L.Miranic</a></td>,\n",
       " <td class=\"td2\"><a href=\"https://www.uta-net.com/artist/11591/\">LiSA</a></td>,\n",
       " <td class=\"td3\"><a href=\"https://www.uta-net.com/lyricist/40876/\">LiSA</a></td>,\n",
       " <td class=\"td4\"><a href=\"https://www.uta-net.com/composer/12336/\">MAH</a></td>,\n",
       " <td class=\"side td5\">ワガママを煮詰めたったなら</td>,\n",
       " <td class=\"side td1\"><a href=\"/song/181504/\">エレクトリリカル</a></td>,\n",
       " <td class=\"td2\"><a href=\"https://www.uta-net.com/artist/11591/\">LiSA</a></td>,\n",
       " <td class=\"td3\"><a href=\"https://www.uta-net.com/lyricist/26419/\">古屋真</a></td>,\n",
       " <td class=\"td4\"><a href=\"https://www.uta-net.com/composer/35554/\">渡辺翔</a></td>,\n",
       " <td class=\"side td5\">キミがアタシを選ぶのは</td>,\n",
       " <td class=\"side td1\"><a href=\"/song/194755/\">Empty MERMAiD</a></td>,\n",
       " <td class=\"td2\"><a href=\"https://www.uta-net.com/artist/11591/\">LiSA</a></td>,\n",
       " <td class=\"td3\"><a href=\"https://www.uta-net.com/lyricist/40876/\">LiSA</a></td>,\n",
       " <td class=\"td4\"><a href=\"https://www.uta-net.com/composer/22003/\">YOOKEY(from UPLIFT SPICE)</a></td>,\n",
       " <td class=\"side td5\">Damn まんまと開いたGATE</td>,\n",
       " <td class=\"side td1\"><a href=\"/song/229817/\">狼とミサンガ</a></td>,\n",
       " <td class=\"td2\"><a href=\"https://www.uta-net.com/artist/11591/\">LiSA</a></td>,\n",
       " <td class=\"td3\"><a href=\"https://www.uta-net.com/lyricist/40876/\">LiSA</a></td>,\n",
       " <td class=\"td4\"><a href=\"https://www.uta-net.com/composer/38903/\">野間康介</a></td>,\n",
       " <td class=\"side td5\">扉のむこうで止まる足音</td>,\n",
       " <td class=\"side td1\"><a href=\"/song/272261/\">オリオンをなぞる</a></td>,\n",
       " <td class=\"td2\"><a href=\"https://www.uta-net.com/artist/11591/\">LiSA</a></td>,\n",
       " <td class=\"td3\"><a href=\"https://www.uta-net.com/lyricist/35452/\">田淵智也</a></td>,\n",
       " <td class=\"td4\"><a href=\"https://www.uta-net.com/composer/36197/\">田淵智也</a></td>,\n",
       " <td class=\"side td5\">ごきげんようどうかしたんだろ</td>,\n",
       " <td class=\"side td1\"><a href=\"/song/186931/\">オレンジサイダー</a></td>,\n",
       " <td class=\"td2\"><a href=\"https://www.uta-net.com/artist/11591/\">LiSA</a></td>,\n",
       " <td class=\"td3\"><a href=\"https://www.uta-net.com/lyricist/40876/\">LiSA</a></td>,\n",
       " <td class=\"td4\"><a href=\"https://www.uta-net.com/composer/39887/\">高橋浩一郎</a></td>,\n",
       " <td class=\"side td5\">小さな奇跡を願って騒いだ</td>,\n",
       " <td class=\"side td1\"><a href=\"/song/206575/\">終わらない冒険</a></td>,\n",
       " <td class=\"td2\"><a href=\"https://www.uta-net.com/artist/11591/\">LiSA</a></td>,\n",
       " <td class=\"td3\"><a href=\"https://www.uta-net.com/lyricist/40876/\">LiSA</a></td>,\n",
       " <td class=\"td4\"><a href=\"https://www.uta-net.com/composer/39887/\">高橋浩一郎</a></td>,\n",
       " <td class=\"side td5\">少しずつ開いたつぼみに僕は</td>,\n",
       " <td class=\"side td1\"><a href=\"/song/126135/\">終わりのない歌</a></td>,\n",
       " <td class=\"td2\"><a href=\"https://www.uta-net.com/artist/11591/\">LiSA</a></td>,\n",
       " <td class=\"td3\"><a href=\"https://www.uta-net.com/lyricist/40125/\">麻枝准</a></td>,\n",
       " <td class=\"td4\"><a href=\"https://www.uta-net.com/composer/40116/\">麻枝准</a></td>,\n",
       " <td class=\"side td5\">ある日小さな村に旅する</td>,\n",
       " <td class=\"side td1\"><a href=\"/song/240263/\">ONLY≠LONELY</a></td>,\n",
       " <td class=\"td2\"><a href=\"https://www.uta-net.com/artist/11591/\">LiSA</a></td>,\n",
       " <td class=\"td3\"><a href=\"https://www.uta-net.com/lyricist/38706/\">金井政人(BIGMAMA)</a></td>,\n",
       " <td class=\"td4\"><a href=\"https://www.uta-net.com/composer/30397/\">小南泰葉</a></td>,\n",
       " <td class=\"side td5\">二人だけの最後の夜に</td>,\n",
       " <td class=\"side td1\"><a href=\"/song/122468/\">oath sign</a><a href=\"https://www.uta-net.com/user/poplist.html\"><img alt=\"GOLD LYLIC\" src=\"/libs/img/parts/icon_gold.gif\"/></a></td>,\n",
       " <td class=\"td2\"><a href=\"https://www.uta-net.com/artist/11591/\">LiSA</a></td>,\n",
       " <td class=\"td3\"><a href=\"https://www.uta-net.com/lyricist/34691/\">渡辺翔</a></td>,\n",
       " <td class=\"td4\"><a href=\"https://www.uta-net.com/composer/35554/\">渡辺翔</a></td>,\n",
       " <td class=\"side td5\">繰り返す世界何度手を</td>,\n",
       " <td class=\"side td1\"><a href=\"/song/115387/\">覚醒屋</a></td>,\n",
       " <td class=\"td2\"><a href=\"https://www.uta-net.com/artist/11591/\">LiSA</a></td>,\n",
       " <td class=\"td3\"><a href=\"https://www.uta-net.com/lyricist/40876/\">LiSA</a></td>,\n",
       " <td class=\"td4\"><a href=\"https://www.uta-net.com/composer/21691/\">wowaka</a></td>,\n",
       " <td class=\"side td5\">クチビル噛んでまたため息</td>,\n",
       " <td class=\"side td1\"><a href=\"/song/278748/\">KALEIDO</a></td>,\n",
       " <td class=\"td2\"><a href=\"https://www.uta-net.com/artist/11591/\">LiSA</a></td>,\n",
       " <td class=\"td3\"><a href=\"https://www.uta-net.com/lyricist/35283/\">田中秀典</a></td>,\n",
       " <td class=\"td4\"><a href=\"https://www.uta-net.com/composer/30397/\">小南泰葉</a></td>,\n",
       " <td class=\"side td5\">キミはやさしくて少し心配性</td>,\n",
       " <td class=\"side td1\"><a href=\"/song/133654/\">変わらない青</a></td>,\n",
       " <td class=\"td2\"><a href=\"https://www.uta-net.com/artist/11591/\">LiSA</a></td>,\n",
       " <td class=\"td3\"><a href=\"https://www.uta-net.com/lyricist/40876/\">LiSA</a></td>,\n",
       " <td class=\"td4\"><a href=\"https://www.uta-net.com/composer/35554/\">渡辺翔</a></td>,\n",
       " <td class=\"side td5\">カラフルにざわめく街時は</td>,\n",
       " <td class=\"side td1\"><a href=\"/song/133807/\">KiSS me PARADOX</a></td>,\n",
       " <td class=\"td2\"><a href=\"https://www.uta-net.com/artist/11591/\">LiSA</a></td>,\n",
       " <td class=\"td3\"><a href=\"https://www.uta-net.com/lyricist/26419/\">古屋真</a></td>,\n",
       " <td class=\"td4\"><a href=\"https://www.uta-net.com/composer/36752/\">磯崎健史</a></td>,\n",
       " <td class=\"side td5\">欲ばり言い過ぎそんなの</td>,\n",
       " <td class=\"side td1\"><a href=\"/song/181503/\">君にピエロ</a></td>,\n",
       " <td class=\"td2\"><a href=\"https://www.uta-net.com/artist/11591/\">LiSA</a></td>,\n",
       " <td class=\"td3\"><a href=\"https://www.uta-net.com/lyricist/40876/\">LiSA</a></td>,\n",
       " <td class=\"td4\"><a href=\"https://www.uta-net.com/composer/41053/\">LiSA</a></td>,\n",
       " <td class=\"side td5\">ねえ少し遊ぼうよ僕はピエロ</td>,\n",
       " <td class=\"side td1\"><a href=\"/song/186929/\">キモチファクトリー</a></td>,\n",
       " <td class=\"td2\"><a href=\"https://www.uta-net.com/artist/11591/\">LiSA</a></td>,\n",
       " <td class=\"td3\"><a href=\"https://www.uta-net.com/lyricist/26419/\">古屋真</a></td>,\n",
       " <td class=\"td4\"><a href=\"https://www.uta-net.com/composer/35554/\">渡辺翔</a></td>,\n",
       " <td class=\"side td5\">気持ち運ぶベルトコンベア</td>,\n",
       " <td class=\"side td1\"><a href=\"/song/224081/\">Catch the Moment</a><a href=\"https://www.uta-net.com/user/poplist.html\"><img alt=\"GOLD LYLIC\" src=\"/libs/img/parts/icon_gold.gif\"/></a></td>,\n",
       " <td class=\"td2\"><a href=\"https://www.uta-net.com/artist/11591/\">LiSA</a></td>,\n",
       " <td class=\"td3\"><a href=\"https://www.uta-net.com/lyricist/40876/\">LiSA</a></td>,\n",
       " <td class=\"td4\"><a href=\"https://www.uta-net.com/composer/36197/\">田淵智也</a></td>,\n",
       " <td class=\"side td5\">そっと吐き出すため息を</td>,\n",
       " <td class=\"side td1\"><a href=\"/song/154524/\">Canvas boy × Palette girl</a></td>,\n",
       " <td class=\"td2\"><a href=\"https://www.uta-net.com/artist/11591/\">LiSA</a></td>,\n",
       " <td class=\"td3\"><a href=\"https://www.uta-net.com/lyricist/26419/\">古屋真</a></td>,\n",
       " <td class=\"td4\"><a href=\"https://www.uta-net.com/composer/40211/\">黒須克彦</a></td>,\n",
       " <td class=\"side td5\">My boyキミは太陽って</td>,\n",
       " <td class=\"side td1\"><a href=\"/song/194753/\">虚無</a></td>,\n",
       " <td class=\"td2\"><a href=\"https://www.uta-net.com/artist/11591/\">LiSA</a></td>,\n",
       " <td class=\"td3\"><a href=\"https://www.uta-net.com/lyricist/40876/\">LiSA</a></td>,\n",
       " <td class=\"td4\"><a href=\"https://www.uta-net.com/composer/24062/\">カヨコ</a></td>,\n",
       " <td class=\"side td5\">さっきまで躊躇してたのに</td>,\n",
       " <td class=\"side td1\"><a href=\"/song/198611/\">ギフトギフト</a></td>,\n",
       " <td class=\"td2\"><a href=\"https://www.uta-net.com/artist/11591/\">LiSA</a></td>,\n",
       " <td class=\"td3\"><a href=\"https://www.uta-net.com/lyricist/40876/\">LiSA</a></td>,\n",
       " <td class=\"td4\"><a href=\"https://www.uta-net.com/composer/30397/\">小南泰葉</a></td>,\n",
       " <td class=\"side td5\">街じゅうハッピームードに</td>,\n",
       " <td class=\"side td1\"><a href=\"/song/154517/\">逆光オーケストラ</a></td>,\n",
       " <td class=\"td2\"><a href=\"https://www.uta-net.com/artist/11591/\">LiSA</a></td>,\n",
       " <td class=\"td3\"><a href=\"https://www.uta-net.com/lyricist/26419/\">古屋真</a></td>,\n",
       " <td class=\"td4\"><a href=\"https://www.uta-net.com/composer/36752/\">磯崎健史</a></td>,\n",
       " <td class=\"side td5\">想い出話なんて下手なままで</td>,\n",
       " <td class=\"side td1\"><a href=\"/song/133622/\">crossing field</a><a href=\"https://www.uta-net.com/user/poplist.html\"><img alt=\"GOLD LYLIC\" src=\"/libs/img/parts/icon_gold.gif\"/></a></td>,\n",
       " <td class=\"td2\"><a href=\"https://www.uta-net.com/artist/11591/\">LiSA</a></td>,\n",
       " <td class=\"td3\"><a href=\"https://www.uta-net.com/lyricist/34691/\">渡辺翔</a></td>,\n",
       " <td class=\"td4\"><a href=\"https://www.uta-net.com/composer/35554/\">渡辺翔</a></td>,\n",
       " <td class=\"side td5\">認めていた臆病な過去</td>,\n",
       " <td class=\"side td1\"><a href=\"/song/176156/\">crossing field -English ver.-</a></td>,\n",
       " <td class=\"td2\"><a href=\"https://www.uta-net.com/artist/11591/\">LiSA</a></td>,\n",
       " <td class=\"td3\"><a href=\"https://www.uta-net.com/lyricist/34694/\">渡辺翔・本山清治</a></td>,\n",
       " <td class=\"td4\"><a href=\"https://www.uta-net.com/composer/35554/\">渡辺翔</a></td>,\n",
       " <td class=\"side td5\">Cloudy memories Of the way</td>,\n",
       " <td class=\"side td1\"><a href=\"/song/270036/\">紅蓮華</a><a href=\"https://www.uta-net.com/user/poplist.html\"><img alt=\"MILLION LYLIC\" src=\"/libs/img/parts/icon_million.gif\"/></a></td>,\n",
       " <td class=\"td2\"><a href=\"https://www.uta-net.com/artist/11591/\">LiSA</a></td>,\n",
       " <td class=\"td3\"><a href=\"https://www.uta-net.com/lyricist/40876/\">LiSA</a></td>,\n",
       " <td class=\"td4\"><a href=\"https://www.uta-net.com/composer/37684/\">草野華余子</a></td>,\n",
       " <td class=\"side td5\">強くなれる理由を知った</td>,\n",
       " <td class=\"side td1\"><a href=\"/song/206576/\">Get free</a></td>,\n",
       " <td class=\"td2\"><a href=\"https://www.uta-net.com/artist/11591/\">LiSA</a></td>,\n",
       " <td class=\"td3\"><a href=\"https://www.uta-net.com/lyricist/10159/\">LiSA・古屋真</a></td>,\n",
       " <td class=\"td4\"><a href=\"https://www.uta-net.com/composer/16822/\">Ryota Kawamura・Rebecca Hollcraft</a></td>,\n",
       " <td class=\"side td5\">タクシーが止まんなきゃ歌って</td>,\n",
       " <td class=\"side td1\"><a href=\"/song/154523/\">コズミックジェットコースター</a></td>,\n",
       " <td class=\"td2\"><a href=\"https://www.uta-net.com/artist/11591/\">LiSA</a></td>,\n",
       " <td class=\"td3\"><a href=\"https://www.uta-net.com/lyricist/40876/\">LiSA</a></td>,\n",
       " <td class=\"td4\"><a href=\"https://www.uta-net.com/composer/40211/\">黒須克彦</a></td>,\n",
       " <td class=\"side td5\">Hi お待たせ待ちに待った</td>,\n",
       " <td class=\"side td1\"><a href=\"/song/122467/\">confidence driver</a></td>,\n",
       " <td class=\"td2\"><a href=\"https://www.uta-net.com/artist/11591/\">LiSA</a></td>,\n",
       " <td class=\"td3\"><a href=\"https://www.uta-net.com/lyricist/40876/\">LiSA</a></td>,\n",
       " <td class=\"td4\"><a href=\"https://www.uta-net.com/composer/36197/\">田淵智也</a></td>,\n",
       " <td class=\"side td5\">単調なリズムのmy life</td>,\n",
       " <td class=\"side td1\"><a href=\"/song/206579/\">Psychedelic Drive</a></td>,\n",
       " <td class=\"td2\"><a href=\"https://www.uta-net.com/artist/11591/\">LiSA</a></td>,\n",
       " <td class=\"td3\"><a href=\"https://www.uta-net.com/lyricist/40876/\">LiSA</a></td>,\n",
       " <td class=\"td4\"><a href=\"https://www.uta-net.com/composer/34418/\">横山直弘(from 感覚ピエロ)</a></td>,\n",
       " <td class=\"side td5\">誰が純情覚悟しててよ</td>,\n",
       " <td class=\"side td1\"><a href=\"/song/264752/\">サファイアの星</a></td>,\n",
       " <td class=\"td2\"><a href=\"https://www.uta-net.com/artist/11591/\">LiSA</a></td>,\n",
       " <td class=\"td3\"><a href=\"https://www.uta-net.com/lyricist/38145/\">谷中敦</a></td>,\n",
       " <td class=\"td4\"><a href=\"https://www.uta-net.com/composer/34959/\">沖祐市</a></td>,\n",
       " <td class=\"side td5\">ねぇまだ終わらない旅を続け</td>,\n",
       " <td class=\"side td1\"><a href=\"/song/240264/\">罪人</a></td>,\n",
       " <td class=\"td2\"><a href=\"https://www.uta-net.com/artist/11591/\">LiSA</a></td>,\n",
       " <td class=\"td3\"><a href=\"https://www.uta-net.com/lyricist/40876/\">LiSA</a></td>,\n",
       " <td class=\"td4\"><a href=\"https://www.uta-net.com/composer/17970/\">Sho(from MY FIRST STORY)</a></td>,\n",
       " <td class=\"side td5\">逃げたりしないでね理想を</td>,\n",
       " <td class=\"side td1\"><a href=\"/song/213430/\">シャッフル</a></td>,\n",
       " <td class=\"td2\"><a href=\"https://www.uta-net.com/artist/11591/\">LiSA</a></td>,\n",
       " <td class=\"td3\"><a href=\"https://www.uta-net.com/lyricist/26419/\">古屋真</a></td>,\n",
       " <td class=\"td4\"><a href=\"https://www.uta-net.com/composer/30397/\">小南泰葉</a></td>,\n",
       " <td class=\"side td5\">フライパンが音符になって</td>,\n",
       " <td class=\"side td1\"><a href=\"/song/176158/\">シルシ</a><a href=\"https://www.uta-net.com/user/poplist.html\"><img alt=\"GOLD LYLIC\" src=\"/libs/img/parts/icon_gold.gif\"/></a></td>,\n",
       " <td class=\"td2\"><a href=\"https://www.uta-net.com/artist/11591/\">LiSA</a></td>,\n",
       " <td class=\"td3\"><a href=\"https://www.uta-net.com/lyricist/40876/\">LiSA</a></td>,\n",
       " <td class=\"td4\"><a href=\"https://www.uta-net.com/composer/24062/\">カヨコ</a></td>,\n",
       " <td class=\"side td5\">街明かり照らした賑やかな</td>,\n",
       " <td class=\"side td1\"><a href=\"/song/144540/\">シロイトイキ</a></td>,\n",
       " <td class=\"td2\"><a href=\"https://www.uta-net.com/artist/11591/\">LiSA</a></td>,\n",
       " <td class=\"td3\"><a href=\"https://www.uta-net.com/lyricist/40876/\">LiSA</a></td>,\n",
       " <td class=\"td4\"><a href=\"https://www.uta-net.com/composer/23564/\">やしきん</a></td>,\n",
       " <td class=\"side td5\">たった一秒が不安で星を指で</td>,\n",
       " <td class=\"side td1\"><a href=\"/song/206578/\">She</a></td>,\n",
       " <td class=\"td2\"><a href=\"https://www.uta-net.com/artist/11591/\">LiSA</a></td>,\n",
       " <td class=\"td3\"><a href=\"https://www.uta-net.com/lyricist/40876/\">LiSA</a></td>,\n",
       " <td class=\"td4\"><a href=\"https://www.uta-net.com/composer/15333/\">PABLO a.k.a. WTF!?</a></td>,\n",
       " <td class=\"side td5\">雁字搦めのトラップに僕は</td>,\n",
       " <td class=\"side td1\"><a href=\"/song/126137/\">ジェットロケット</a></td>,\n",
       " <td class=\"td2\"><a href=\"https://www.uta-net.com/artist/11591/\">LiSA</a></td>,\n",
       " <td class=\"td3\"><a href=\"https://www.uta-net.com/lyricist/35452/\">田淵智也</a></td>,\n",
       " <td class=\"td4\"><a href=\"https://www.uta-net.com/composer/36197/\">田淵智也</a></td>,\n",
       " <td class=\"side td5\">そうだよ一個だって譲らないで</td>,\n",
       " <td class=\"side td1\"><a href=\"/song/229819/\">the end of my world</a></td>,\n",
       " <td class=\"td2\"><a href=\"https://www.uta-net.com/artist/11591/\">LiSA</a></td>,\n",
       " <td class=\"td3\"><a href=\"https://www.uta-net.com/lyricist/40876/\">LiSA</a></td>,\n",
       " <td class=\"td4\"><a href=\"https://www.uta-net.com/composer/24062/\">カヨコ</a></td>,\n",
       " <td class=\"side td5\">覚悟してたのロンリー</td>,\n",
       " <td class=\"side td1\"><a href=\"/song/229818/\">JUMP!!</a></td>,\n",
       " <td class=\"td2\"><a href=\"https://www.uta-net.com/artist/11591/\">LiSA</a></td>,\n",
       " <td class=\"td3\"><a href=\"https://www.uta-net.com/lyricist/26419/\">古屋真</a></td>,\n",
       " <td class=\"td4\"><a href=\"https://www.uta-net.com/composer/38903/\">野間康介</a></td>,\n",
       " <td class=\"side td5\">届くかな届くから飛べるから</td>,\n",
       " <td class=\"side td1\"><a href=\"/song/233632/\">sweet friendship</a></td>,\n",
       " <td class=\"td2\"><a href=\"https://www.uta-net.com/artist/11591/\">LiSA</a></td>,\n",
       " <td class=\"td3\"><a href=\"https://www.uta-net.com/lyricist/40876/\">LiSA</a></td>,\n",
       " <td class=\"td4\"><a href=\"https://www.uta-net.com/composer/5004/\">eba</a></td>,\n",
       " <td class=\"side td5\">帰路を急いだ風に吹かれ</td>,\n",
       " <td class=\"side td1\"><a href=\"/song/260497/\">スパイシーワールド</a></td>,\n",
       " <td class=\"td2\"><a href=\"https://www.uta-net.com/artist/11591/\">LiSA</a></td>,\n",
       " <td class=\"td3\"><a href=\"https://www.uta-net.com/lyricist/40876/\">LiSA</a></td>,\n",
       " <td class=\"td4\"><a href=\"https://www.uta-net.com/composer/41053/\">LiSA</a></td>,\n",
       " <td class=\"side td5\">あぁまた迷宮入り HOT</td>,\n",
       " <td class=\"side td1\"><a href=\"/song/150570/\">SPiCE</a></td>,\n",
       " <td class=\"td2\"><a href=\"https://www.uta-net.com/artist/11591/\">LiSA</a></td>,\n",
       " <td class=\"td3\"><a href=\"https://www.uta-net.com/lyricist/40876/\">LiSA</a></td>,\n",
       " <td class=\"td4\"><a href=\"https://www.uta-net.com/composer/28349/\">原一博</a></td>,\n",
       " <td class=\"side td5\">台無し鏡のベビーフェイス</td>,\n",
       " <td class=\"side td1\"><a href=\"/song/242577/\">Thrill, Risk, Heartless</a></td>,\n",
       " <td class=\"td2\"><a href=\"https://www.uta-net.com/artist/11591/\">LiSA</a></td>,\n",
       " <td class=\"td3\"><a href=\"https://www.uta-net.com/lyricist/35452/\">田淵智也</a></td>,\n",
       " <td class=\"td4\"><a href=\"https://www.uta-net.com/composer/24062/\">カヨコ</a></td>,\n",
       " <td class=\"side td5\">I'll be I'll be Repeat once</td>,\n",
       " <td class=\"side td1\"><a href=\"/song/154519/\">say my nameの片思い</a></td>,\n",
       " <td class=\"td2\"><a href=\"https://www.uta-net.com/artist/11591/\">LiSA</a></td>,\n",
       " <td class=\"td3\"><a href=\"https://www.uta-net.com/lyricist/10160/\">LiSA・田淵智也</a></td>,\n",
       " <td class=\"td4\"><a href=\"https://www.uta-net.com/composer/36197/\">田淵智也</a></td>,\n",
       " <td class=\"side td5\">いたずらなあくびを噛み殺して</td>,\n",
       " <td class=\"side td1\"><a href=\"/song/233631/\">Sailor Spark Operation!</a></td>,\n",
       " <td class=\"td2\"><a href=\"https://www.uta-net.com/artist/11591/\">LiSA</a></td>,\n",
       " <td class=\"td3\"><a href=\"https://www.uta-net.com/lyricist/35452/\">田淵智也</a></td>,\n",
       " <td class=\"td4\"><a href=\"https://www.uta-net.com/composer/9149/\">Jose(TOTALFAT)</a></td>,\n",
       " <td class=\"side td5\">炎天下続く毎日</td>,\n",
       " <td class=\"side td1\"><a href=\"/song/229813/\">そしてパレードは続く</a></td>,\n",
       " <td class=\"td2\"><a href=\"https://www.uta-net.com/artist/11591/\">LiSA</a></td>,\n",
       " <td class=\"td3\"><a href=\"https://www.uta-net.com/lyricist/35452/\">田淵智也</a></td>,\n",
       " <td class=\"td4\"><a href=\"https://www.uta-net.com/composer/36197/\">田淵智也</a></td>,\n",
       " <td class=\"side td5\">僕らGO EAST GO WESTどこまで</td>,\n",
       " <td class=\"side td1\"><a href=\"/song/233633/\">だってアタシのヒーロー。</a><a href=\"https://www.uta-net.com/user/poplist.html\"><img alt=\"GOLD LYLIC\" src=\"/libs/img/parts/icon_gold.gif\"/></a></td>,\n",
       " <td class=\"td2\"><a href=\"https://www.uta-net.com/artist/11591/\">LiSA</a></td>,\n",
       " <td class=\"td3\"><a href=\"https://www.uta-net.com/lyricist/10159/\">LiSA・古屋真</a></td>,\n",
       " <td class=\"td4\"><a href=\"https://www.uta-net.com/composer/35554/\">渡辺翔</a></td>,\n",
       " <td class=\"side td5\">キミが諦めるトコ</td>,\n",
       " <td class=\"side td1\"><a href=\"/song/278747/\">Chill-Chill-Dal-Da</a></td>,\n",
       " <td class=\"td2\"><a href=\"https://www.uta-net.com/artist/11591/\">LiSA</a></td>,\n",
       " <td class=\"td3\"><a href=\"https://www.uta-net.com/lyricist/35452/\">田淵智也</a></td>,\n",
       " <td class=\"td4\"><a href=\"https://www.uta-net.com/composer/27173/\">伊秩弘将</a></td>,\n",
       " <td class=\"side td5\">生活は難しい鬱屈止められない</td>,\n",
       " <td class=\"side td1\"><a href=\"/song/213431/\">ツヨガリ・ファンファーレ</a></td>,\n",
       " <td class=\"td2\"><a href=\"https://www.uta-net.com/artist/11591/\">LiSA</a></td>,\n",
       " <td class=\"td3\"><a href=\"https://www.uta-net.com/lyricist/40876/\">LiSA</a></td>,\n",
       " <td class=\"td4\"><a href=\"https://www.uta-net.com/composer/36197/\">田淵智也</a></td>,\n",
       " <td class=\"side td5\">手グシさえ指が通らない</td>,\n",
       " <td class=\"side td1\"><a href=\"/song/280570/\">THIS ILLUSION</a></td>,\n",
       " <td class=\"td2\"><a href=\"https://www.uta-net.com/artist/11591/\">LiSA</a></td>,\n",
       " <td class=\"td3\"><a href=\"https://www.uta-net.com/lyricist/37149/\">芳賀敬太</a></td>,\n",
       " <td class=\"td4\"><a href=\"https://www.uta-net.com/composer/15030/\">NUMBER 201</a></td>,\n",
       " <td class=\"side td5\">夢に見ていたあの日の影に</td>,\n",
       " <td class=\"side td1\"><a href=\"/song/229814/\">TODAY</a></td>,\n",
       " <td class=\"td2\"><a href=\"https://www.uta-net.com/artist/11591/\">LiSA</a></td>,\n",
       " <td class=\"td3\"><a href=\"https://www.uta-net.com/lyricist/40876/\">LiSA</a></td>,\n",
       " <td class=\"td4\"><a href=\"https://www.uta-net.com/composer/30397/\">小南泰葉</a></td>,\n",
       " <td class=\"side td5\">いつの間にか随分遠くまで</td>,\n",
       " <td class=\"side td1\"><a href=\"/song/170229/\">東京ラヴソング</a></td>,\n",
       " <td class=\"td2\"><a href=\"https://www.uta-net.com/artist/11591/\">LiSA</a></td>,\n",
       " <td class=\"td3\"><a href=\"https://www.uta-net.com/lyricist/40876/\">LiSA</a></td>,\n",
       " <td class=\"td4\"><a href=\"https://www.uta-net.com/composer/41053/\">LiSA</a></td>,\n",
       " <td class=\"side td5\">けたたましくなる目覚まし時計</td>,\n",
       " <td class=\"side td1\"><a href=\"/song/150572/\">traumerei</a></td>,\n",
       " <td class=\"td2\"><a href=\"https://www.uta-net.com/artist/11591/\">LiSA</a></td>,\n",
       " <td class=\"td3\"><a href=\"https://www.uta-net.com/lyricist/5781/\">HIDEO NEKOTA</a></td>,\n",
       " <td class=\"td4\"><a href=\"https://www.uta-net.com/composer/7107/\">HIDEO NEKOTA</a></td>,\n",
       " <td class=\"side td5\">奪ってスローモーション</td>,\n",
       " <td class=\"side td1\"><a href=\"/song/154522/\">DOCTOR</a></td>,\n",
       " <td class=\"td2\"><a href=\"https://www.uta-net.com/artist/11591/\">LiSA</a></td>,\n",
       " <td class=\"td3\"><a href=\"https://www.uta-net.com/lyricist/40876/\">LiSA</a></td>,\n",
       " <td class=\"td4\"><a href=\"https://www.uta-net.com/composer/24062/\">カヨコ</a></td>,\n",
       " <td class=\"side td5\">誘われて到着甘蜜の闇</td>,\n",
       " <td class=\"side td1\"><a href=\"/song/126144/\">now and future</a></td>,\n",
       " <td class=\"td2\"><a href=\"https://www.uta-net.com/artist/11591/\">LiSA</a></td>,\n",
       " <td class=\"td3\"><a href=\"https://www.uta-net.com/lyricist/40876/\">LiSA</a></td>,\n",
       " <td class=\"td4\"><a href=\"https://www.uta-net.com/composer/36197/\">田淵智也</a></td>,\n",
       " <td class=\"side td5\">イメージを明日の向こうに</td>,\n",
       " <td class=\"side td1\"><a href=\"/song/122465/\">ナミダ流星群</a></td>,\n",
       " <td class=\"td2\"><a href=\"https://www.uta-net.com/artist/11591/\">LiSA</a></td>,\n",
       " <td class=\"td3\"><a href=\"https://www.uta-net.com/lyricist/11366/\">meg rock</a></td>,\n",
       " <td class=\"td4\"><a href=\"https://www.uta-net.com/composer/35404/\">清水武仁</a></td>,\n",
       " <td class=\"side td5\">真夜中たったひとり悴む星</td>,\n",
       " <td class=\"side td1\"><a href=\"/song/249480/\">NIPPON</a></td>,\n",
       " <td class=\"td2\"><a href=\"https://www.uta-net.com/artist/11591/\">LiSA</a></td>,\n",
       " <td class=\"td3\"><a href=\"https://www.uta-net.com/lyricist/33281/\">椎名林檎</a></td>,\n",
       " <td class=\"td4\"><a href=\"https://www.uta-net.com/composer/34308/\">椎名林檎</a></td>,\n",
       " <td class=\"side td5\">万歳万歳日本晴れ列島</td>,\n",
       " <td class=\"side td1\"><a href=\"/song/176157/\">No More Time Machine</a></td>,\n",
       " <td class=\"td2\"><a href=\"https://www.uta-net.com/artist/11591/\">LiSA</a></td>,\n",
       " <td class=\"td3\"><a href=\"https://www.uta-net.com/lyricist/26419/\">古屋真</a></td>,\n",
       " <td class=\"td4\"><a href=\"https://www.uta-net.com/composer/38904/\">野間康介(agehasprings)</a></td>,\n",
       " <td class=\"side td5\">You need a time machine</td>,\n",
       " <td class=\"side td1\"><a href=\"/song/206580/\">Hi FiVE!</a></td>,\n",
       " <td class=\"td2\"><a href=\"https://www.uta-net.com/artist/11591/\">LiSA</a></td>,\n",
       " <td class=\"td3\"><a href=\"https://www.uta-net.com/lyricist/10160/\">LiSA・田淵智也</a></td>,\n",
       " <td class=\"td4\"><a href=\"https://www.uta-net.com/composer/36197/\">田淵智也</a></td>,\n",
       " <td class=\"side td5\">願い星掴んだ汗だくのTシャツ</td>,\n",
       " <td class=\"side td1\"><a href=\"/song/278749/\">ハウル</a></td>,\n",
       " <td class=\"td2\"><a href=\"https://www.uta-net.com/artist/11591/\">LiSA</a></td>,\n",
       " <td class=\"td3\"><a href=\"https://www.uta-net.com/lyricist/40876/\">LiSA</a></td>,\n",
       " <td class=\"td4\"><a href=\"https://www.uta-net.com/composer/7107/\">HIDEO NEKOTA</a></td>,\n",
       " <td class=\"side td5\">立ち止まって嘆いても</td>,\n",
       " <td class=\"side td1\"><a href=\"/song/126141/\">花とミツバチ</a></td>,\n",
       " <td class=\"td2\"><a href=\"https://www.uta-net.com/artist/11591/\">LiSA</a></td>,\n",
       " <td class=\"td3\"><a href=\"https://www.uta-net.com/lyricist/26419/\">古屋真</a></td>,\n",
       " <td class=\"td4\"><a href=\"https://www.uta-net.com/composer/40211/\">黒須克彦</a></td>,\n",
       " <td class=\"side td5\">なんで取り替えっこなんてきっと</td>,\n",
       " <td class=\"side td1\"><a href=\"/song/183192/\">晴れたらいいね</a></td>,\n",
       " <td class=\"td2\"><a href=\"https://www.uta-net.com/artist/11591/\">LiSA</a></td>,\n",
       " <td class=\"td3\"><a href=\"https://www.uta-net.com/lyricist/26713/\">吉田美和</a></td>,\n",
       " <td class=\"td4\"><a href=\"https://www.uta-net.com/composer/28696/\">吉田美和</a></td>,\n",
       " <td class=\"side td5\">山へ行こう次の日曜昔みたいに</td>,\n",
       " <td class=\"side td1\"><a href=\"/song/248505/\">ハローグッデイ</a></td>,\n",
       " <td class=\"td2\"><a href=\"https://www.uta-net.com/artist/11591/\">LiSA</a></td>,\n",
       " <td class=\"td3\"><a href=\"https://www.uta-net.com/lyricist/40876/\">LiSA</a></td>,\n",
       " <td class=\"td4\"><a href=\"https://www.uta-net.com/composer/11889/\">LiSA・堀江晶太</a></td>,\n",
       " <td class=\"side td5\">移り行く季節がまるでいたずら</td>,\n",
       " <td class=\"side td1\"><a href=\"/song/206577/\">halo-halo</a></td>,\n",
       " <td class=\"td2\"><a href=\"https://www.uta-net.com/artist/11591/\">LiSA</a></td>,\n",
       " <td class=\"td3\"><a href=\"https://www.uta-net.com/lyricist/40876/\">LiSA</a></td>,\n",
       " <td class=\"td4\"><a href=\"https://www.uta-net.com/composer/30397/\">小南泰葉</a></td>,\n",
       " <td class=\"side td5\">我愛 CINTA LOVE AMOR</td>,\n",
       " <td class=\"side td1\"><a href=\"/song/122466/\">HANDS &amp; SMiLE</a></td>,\n",
       " <td class=\"td2\"><a href=\"https://www.uta-net.com/artist/11591/\">LiSA</a></td>,\n",
       " <td class=\"td3\"><a href=\"https://www.uta-net.com/lyricist/40876/\">LiSA</a></td>,\n",
       " <td class=\"td4\"><a href=\"https://www.uta-net.com/composer/24042/\">カノン</a></td>,\n",
       " <td class=\"side td5\">雨のち太陽強がりな</td>,\n",
       " <td class=\"side td1\"><a href=\"/song/181505/\">Bad Sweet Trap</a></td>,\n",
       " <td class=\"td2\"><a href=\"https://www.uta-net.com/artist/11591/\">LiSA</a></td>,\n",
       " <td class=\"td3\"><a href=\"https://www.uta-net.com/lyricist/10160/\">LiSA・田淵智也</a></td>,\n",
       " <td class=\"td4\"><a href=\"https://www.uta-net.com/composer/36197/\">田淵智也</a></td>,\n",
       " <td class=\"side td5\">さあ見つかったらそれが最後</td>,\n",
       " <td class=\"side td1\"><a href=\"/song/154520/\">ヒトリワラッテ</a></td>,\n",
       " <td class=\"td2\"><a href=\"https://www.uta-net.com/artist/11591/\">LiSA</a></td>,\n",
       " <td class=\"td3\"><a href=\"https://www.uta-net.com/lyricist/18746/\">wowaka</a></td>,\n",
       " <td class=\"td4\"><a href=\"https://www.uta-net.com/composer/21691/\">wowaka</a></td>,\n",
       " <td class=\"side td5\">私は独り笑ってた言葉にならぬ</td>,\n",
       " <td class=\"side td1\"><a href=\"/song/248504/\">Believe in ourselves</a></td>,\n",
       " <td class=\"td2\"><a href=\"https://www.uta-net.com/artist/11591/\">LiSA</a></td>,\n",
       " <td class=\"td3\"><a href=\"https://www.uta-net.com/lyricist/10160/\">LiSA・田淵智也</a></td>,\n",
       " <td class=\"td4\"><a href=\"https://www.uta-net.com/composer/36197/\">田淵智也</a></td>,\n",
       " <td class=\"side td5\">一瞬だけ懐かしい匂いが僕の横</td>,\n",
       " <td class=\"side td1\"><a href=\"/song/115391/\">Believe in myself</a></td>,\n",
       " <td class=\"td2\"><a href=\"https://www.uta-net.com/artist/11591/\">LiSA</a></td>,\n",
       " <td class=\"td3\"><a href=\"https://www.uta-net.com/lyricist/40876/\">LiSA</a></td>,\n",
       " <td class=\"td4\"><a href=\"https://www.uta-net.com/composer/41053/\">LiSA</a></td>,\n",
       " <td class=\"side td5\">Believe in myselfいつか</td>,\n",
       " <td class=\"side td1\"><a href=\"/song/229816/\">Peace Beat Beast</a></td>,\n",
       " <td class=\"td2\"><a href=\"https://www.uta-net.com/artist/11591/\">LiSA</a></td>,\n",
       " <td class=\"td3\"><a href=\"https://www.uta-net.com/lyricist/26419/\">古屋真</a></td>,\n",
       " <td class=\"td4\"><a href=\"https://www.uta-net.com/composer/28319/\">南田健吾</a></td>,\n",
       " <td class=\"side td5\">Show me I'm a 猛獣マスター</td>,\n",
       " <td class=\"side td1\"><a href=\"/song/181507/\">FRAGILE VAMPIRE</a></td>,\n",
       " <td class=\"td2\"><a href=\"https://www.uta-net.com/artist/11591/\">LiSA</a></td>,\n",
       " <td class=\"td3\"><a href=\"https://www.uta-net.com/lyricist/26419/\">古屋真</a></td>,\n",
       " <td class=\"td4\"><a href=\"https://www.uta-net.com/composer/5004/\">eba</a></td>,\n",
       " <td class=\"side td5\">解って欲しいそれだけなのに</td>,\n",
       " <td class=\"side td1\"><a href=\"/song/170231/\">BRiGHT FLiGHT</a></td>,\n",
       " <td class=\"td2\"><a href=\"https://www.uta-net.com/artist/11591/\">LiSA</a></td>,\n",
       " <td class=\"td3\"><a href=\"https://www.uta-net.com/lyricist/40876/\">LiSA</a></td>,\n",
       " <td class=\"td4\"><a href=\"https://www.uta-net.com/composer/38903/\">野間康介</a></td>,\n",
       " <td class=\"side td5\">澄みきった大空一気にフライト</td>,\n",
       " <td class=\"side td1\"><a href=\"/song/229815/\">Blue Moon</a></td>,\n",
       " <td class=\"td2\"><a href=\"https://www.uta-net.com/artist/11591/\">LiSA</a></td>,\n",
       " <td class=\"td3\"><a href=\"https://www.uta-net.com/lyricist/40876/\">LiSA</a></td>,\n",
       " <td class=\"td4\"><a href=\"https://www.uta-net.com/composer/24062/\">カヨコ</a></td>,\n",
       " <td class=\"side td5\">無限に広がる涙の湖</td>,\n",
       " <td class=\"side td1\"><a href=\"/song/213433/\">Brave Freak Out</a></td>,\n",
       " <td class=\"td2\"><a href=\"https://www.uta-net.com/artist/11591/\">LiSA</a></td>,\n",
       " <td class=\"td3\"><a href=\"https://www.uta-net.com/lyricist/35452/\">田淵智也</a></td>,\n",
       " <td class=\"td4\"><a href=\"https://www.uta-net.com/composer/39887/\">高橋浩一郎</a></td>,\n",
       " <td class=\"side td5\">Let me think また一つ</td>,\n",
       " <td class=\"side td1\"><a href=\"/song/270035/\">“PROPAGANDA”</a></td>,\n",
       " <td class=\"td2\"><a href=\"https://www.uta-net.com/artist/11591/\">LiSA</a></td>,\n",
       " <td class=\"td3\"><a href=\"https://www.uta-net.com/lyricist/31355/\">日高央</a></td>,\n",
       " <td class=\"td4\"><a href=\"https://www.uta-net.com/composer/15333/\">PABLO a.k.a. WTF!?</a></td>,\n",
       " <td class=\"side td5\">Find Out By yourself</td>,\n",
       " <td class=\"side td1\"><a href=\"/song/144542/\">best day, best way</a><a href=\"https://www.uta-net.com/user/poplist.html\"><img alt=\"GOLD LYLIC\" src=\"/libs/img/parts/icon_gold.gif\"/></a></td>,\n",
       " <td class=\"td2\"><a href=\"https://www.uta-net.com/artist/11591/\">LiSA</a></td>,\n",
       " <td class=\"td3\"><a href=\"https://www.uta-net.com/lyricist/35452/\">田淵智也</a></td>,\n",
       " <td class=\"td4\"><a href=\"https://www.uta-net.com/composer/36197/\">田淵智也</a></td>,\n",
       " <td class=\"side td5\">走り出した心もう止まれない</td>,\n",
       " <td class=\"side td1\"><a href=\"/song/154521/\">僕の言葉で</a></td>,\n",
       " <td class=\"td2\"><a href=\"https://www.uta-net.com/artist/11591/\">LiSA</a></td>,\n",
       " <td class=\"td3\"><a href=\"https://www.uta-net.com/lyricist/40876/\">LiSA</a></td>,\n",
       " <td class=\"td4\"><a href=\"https://www.uta-net.com/composer/40211/\">黒須克彦</a></td>,\n",
       " <td class=\"side td5\">外灯が夕闇彩って進まない</td>,\n",
       " <td class=\"side td1\"><a href=\"/song/163580/\">ポーカーフェイス</a></td>,\n",
       " <td class=\"td2\"><a href=\"https://www.uta-net.com/artist/11591/\">LiSA</a></td>,\n",
       " <td class=\"td3\"><a href=\"https://www.uta-net.com/lyricist/40876/\">LiSA</a></td>,\n",
       " <td class=\"td4\"><a href=\"https://www.uta-net.com/composer/24062/\">カヨコ</a></td>,\n",
       " <td class=\"side td5\">通り過ぎた幾つもの偶然は</td>,\n",
       " <td class=\"side td1\"><a href=\"/song/181511/\">Mr.Launcher</a></td>,\n",
       " <td class=\"td2\"><a href=\"https://www.uta-net.com/artist/11591/\">LiSA</a></td>,\n",
       " <td class=\"td3\"><a href=\"https://www.uta-net.com/lyricist/40876/\">LiSA</a></td>,\n",
       " <td class=\"td4\"><a href=\"https://www.uta-net.com/composer/7107/\">HIDEO NEKOTA</a></td>,\n",
       " <td class=\"side td5\">土砂降り続きの辛い日々に</td>,\n",
       " <td class=\"side td1\"><a href=\"/song/181509/\">蜜</a></td>,\n",
       " <td class=\"td2\"><a href=\"https://www.uta-net.com/artist/11591/\">LiSA</a></td>,\n",
       " <td class=\"td3\"><a href=\"https://www.uta-net.com/lyricist/40876/\">LiSA</a></td>,\n",
       " <td class=\"td4\"><a href=\"https://www.uta-net.com/composer/24062/\">カヨコ</a></td>,\n",
       " <td class=\"side td5\">嘘が交差したmidnight 濡れた</td>,\n",
       " <td class=\"side td1\"><a href=\"/song/115390/\">ミライカゼ</a></td>,\n",
       " <td class=\"td2\"><a href=\"https://www.uta-net.com/artist/11591/\">LiSA</a></td>,\n",
       " <td class=\"td3\"><a href=\"https://www.uta-net.com/lyricist/10157/\">LiSA・あにー</a></td>,\n",
       " <td class=\"td4\"><a href=\"https://www.uta-net.com/composer/22832/\">あにー</a></td>,\n",
       " <td class=\"side td5\">きらめく春風が初めて南から</td>,\n",
       " <td class=\"side td1\"><a href=\"/song/115385/\">無色透明</a></td>,\n",
       " <td class=\"td2\"><a href=\"https://www.uta-net.com/artist/11591/\">LiSA</a></td>,\n",
       " <td class=\"td3\"><a href=\"https://www.uta-net.com/lyricist/40876/\">LiSA</a></td>,\n",
       " <td class=\"td4\"><a href=\"https://www.uta-net.com/composer/24042/\">カノン</a></td>,\n",
       " <td class=\"side td5\">時計の針が始りを知らせる</td>,\n",
       " <td class=\"side td1\"><a href=\"/song/247337/\">ムーンライト伝説</a></td>,\n",
       " <td class=\"td2\"><a href=\"https://www.uta-net.com/artist/11591/\">LiSA</a></td>,\n",
       " <td class=\"td3\"><a href=\"https://www.uta-net.com/lyricist/29026/\">小田佳奈子</a></td>,\n",
       " <td class=\"td4\"><a href=\"https://www.uta-net.com/composer/30767/\">小諸鉄矢</a></td>,\n",
       " <td class=\"side td5\">ゴメンね素直じゃなくて</td>,\n",
       " <td class=\"side td1\"><a href=\"/song/224079/\">Merry Hurry Berry</a></td>,\n",
       " <td class=\"td2\"><a href=\"https://www.uta-net.com/artist/11591/\">LiSA</a></td>,\n",
       " <td class=\"td3\"><a href=\"https://www.uta-net.com/lyricist/26419/\">古屋真</a></td>,\n",
       " <td class=\"td4\"><a href=\"https://www.uta-net.com/composer/27923/\">前山田健一</a></td>,\n",
       " <td class=\"side td5\">Merry Very Very イイじゃない</td>,\n",
       " <td class=\"side td1\"><a href=\"/song/115386/\">妄想コントローラー</a></td>,\n",
       " <td class=\"td2\"><a href=\"https://www.uta-net.com/artist/11591/\">LiSA</a></td>,\n",
       " <td class=\"td3\"><a href=\"https://www.uta-net.com/lyricist/40876/\">LiSA</a></td>,\n",
       " <td class=\"td4\"><a href=\"https://www.uta-net.com/composer/36197/\">田淵智也</a></td>,\n",
       " <td class=\"side td5\">さっきおとぎの国からもって</td>,\n",
       " <td class=\"side td1\"><a href=\"/song/270034/\">やくそくのうた</a></td>,\n",
       " <td class=\"td2\"><a href=\"https://www.uta-net.com/artist/11591/\">LiSA</a></td>,\n",
       " <td class=\"td3\"><a href=\"https://www.uta-net.com/lyricist/35452/\">田淵智也</a></td>,\n",
       " <td class=\"td4\"><a href=\"https://www.uta-net.com/composer/36197/\">田淵智也</a></td>,\n",
       " <td class=\"side td5\">胸がいっぱいで大渋滞だ</td>,\n",
       " <td class=\"side td1\"><a href=\"/song/126145/\">優しさに辿りつくまで</a></td>,\n",
       " <td class=\"td2\"><a href=\"https://www.uta-net.com/artist/11591/\">LiSA</a></td>,\n",
       " <td class=\"td3\"><a href=\"https://www.uta-net.com/lyricist/40876/\">LiSA</a></td>,\n",
       " <td class=\"td4\"><a href=\"https://www.uta-net.com/composer/35554/\">渡辺翔</a></td>,\n",
       " <td class=\"side td5\">ボロボロになって聴こえた</td>,\n",
       " <td class=\"side td1\"><a href=\"/song/150569/\">夕焼けノスタルジア</a></td>,\n",
       " <td class=\"td2\"><a href=\"https://www.uta-net.com/artist/11591/\">LiSA</a></td>,\n",
       " <td class=\"td3\"><a href=\"https://www.uta-net.com/lyricist/26419/\">古屋真</a></td>,\n",
       " <td class=\"td4\"><a href=\"https://www.uta-net.com/composer/40211/\">黒須克彦</a></td>,\n",
       " <td class=\"side td5\">夕暮れ君は今も憶えてるかな</td>,\n",
       " <td class=\"side td1\"><a href=\"/song/163581/\">Rising Hope</a><a href=\"https://www.uta-net.com/user/poplist.html\"><img alt=\"PLATINA LYLIC\" src=\"/libs/img/parts/icon_platina.gif\"/></a></td>,\n",
       " <td class=\"td2\"><a href=\"https://www.uta-net.com/artist/11591/\">LiSA</a></td>,\n",
       " <td class=\"td3\"><a href=\"https://www.uta-net.com/lyricist/10160/\">LiSA・田淵智也</a></td>,\n",
       " <td class=\"td4\"><a href=\"https://www.uta-net.com/composer/36197/\">田淵智也</a></td>,\n",
       " <td class=\"side td5\">握ったメッセージ that's</td>,\n",
       " <td class=\"side td1\"><a href=\"/song/126136/\">LOVER“S”MiLE</a></td>,\n",
       " <td class=\"td2\"><a href=\"https://www.uta-net.com/artist/11591/\">LiSA</a></td>,\n",
       " <td class=\"td3\"><a href=\"https://www.uta-net.com/lyricist/40876/\">LiSA</a></td>,\n",
       " <td class=\"td4\"><a href=\"https://www.uta-net.com/composer/28349/\">原一博</a></td>,\n",
       " <td class=\"side td5\">隣に居るけど手も握れるけど</td>,\n",
       " <td class=\"side td1\"><a href=\"/song/181510/\">rapid life シンドローム</a></td>,\n",
       " <td class=\"td2\"><a href=\"https://www.uta-net.com/artist/11591/\">LiSA</a></td>,\n",
       " <td class=\"td3\"><a href=\"https://www.uta-net.com/lyricist/35452/\">田淵智也</a></td>,\n",
       " <td class=\"td4\"><a href=\"https://www.uta-net.com/composer/36197/\">田淵智也</a></td>,\n",
       " <td class=\"side td5\">boys and girls say life is rapid</td>,\n",
       " <td class=\"side td1\"><a href=\"/song/206581/\">ラブリーデイ</a></td>,\n",
       " <td class=\"td2\"><a href=\"https://www.uta-net.com/artist/11591/\">LiSA</a></td>,\n",
       " <td class=\"td3\"><a href=\"https://www.uta-net.com/lyricist/10159/\">LiSA・古屋真</a></td>,\n",
       " <td class=\"td4\"><a href=\"https://www.uta-net.com/composer/38904/\">野間康介(agehasprings)</a></td>,\n",
       " <td class=\"side td5\">愛をそっと勇気をもっと</td>,\n",
       " <td class=\"side td1\"><a href=\"/song/186932/\">Rally Go Round</a><a href=\"https://www.uta-net.com/user/poplist.html\"><img alt=\"GOLD LYLIC\" src=\"/libs/img/parts/icon_gold.gif\"/></a></td>,\n",
       " <td class=\"td2\"><a href=\"https://www.uta-net.com/artist/11591/\">LiSA</a></td>,\n",
       " <td class=\"td3\"><a href=\"https://www.uta-net.com/lyricist/10159/\">LiSA・古屋真</a></td>,\n",
       " <td class=\"td4\"><a href=\"https://www.uta-net.com/composer/23173/\">じん</a></td>,\n",
       " <td class=\"side td5\">もう散々ぐるぐるしたじゃない</td>,\n",
       " <td class=\"side td1\"><a href=\"/song/194754/\">リスキー</a></td>,\n",
       " <td class=\"td2\"><a href=\"https://www.uta-net.com/artist/11591/\">LiSA</a></td>,\n",
       " <td class=\"td3\"><a href=\"https://www.uta-net.com/lyricist/40876/\">LiSA</a></td>,\n",
       " <td class=\"td4\"><a href=\"https://www.uta-net.com/composer/30397/\">小南泰葉</a></td>,\n",
       " <td class=\"side td5\">なんでもない出来事で</td>,\n",
       " <td class=\"side td1\"><a href=\"/song/229821/\">LiTTLE DEViL PARADE</a></td>,\n",
       " <td class=\"td2\"><a href=\"https://www.uta-net.com/artist/11591/\">LiSA</a></td>,\n",
       " <td class=\"td3\"><a href=\"https://www.uta-net.com/lyricist/40876/\">LiSA</a></td>,\n",
       " <td class=\"td4\"><a href=\"https://www.uta-net.com/composer/15332/\">PABLO a.k.a WTF!?</a></td>,\n",
       " <td class=\"side td5\">ココロの泣いてる声が聴こえる</td>,\n",
       " <td class=\"side td1\"><a href=\"/song/224080/\">リングアベル</a></td>,\n",
       " <td class=\"td2\"><a href=\"https://www.uta-net.com/artist/11591/\">LiSA</a></td>,\n",
       " <td class=\"td3\"><a href=\"https://www.uta-net.com/lyricist/40876/\">LiSA</a></td>,\n",
       " <td class=\"td4\"><a href=\"https://www.uta-net.com/composer/38904/\">野間康介(agehasprings)</a></td>,\n",
       " <td class=\"side td5\">あの日こっそり僕に</td>,\n",
       " <td class=\"side td1\"><a href=\"/song/229820/\">LOSER　～希望と未来に無縁のカタルシス～</a></td>,\n",
       " <td class=\"td2\"><a href=\"https://www.uta-net.com/artist/11591/\">LiSA</a></td>,\n",
       " <td class=\"td3\"><a href=\"https://www.uta-net.com/lyricist/40876/\">LiSA</a></td>,\n",
       " <td class=\"td4\"><a href=\"https://www.uta-net.com/composer/24062/\">カヨコ</a></td>,\n",
       " <td class=\"side td5\">不平等に与えられた手の中の</td>,\n",
       " <td class=\"side td1\"><a href=\"/song/126140/\">ROCK-mode</a><a href=\"https://www.uta-net.com/user/poplist.html\"><img alt=\"GOLD LYLIC\" src=\"/libs/img/parts/icon_gold.gif\"/></a></td>,\n",
       " <td class=\"td2\"><a href=\"https://www.uta-net.com/artist/11591/\">LiSA</a></td>,\n",
       " <td class=\"td3\"><a href=\"https://www.uta-net.com/lyricist/10160/\">LiSA・田淵智也</a></td>,\n",
       " <td class=\"td4\"><a href=\"https://www.uta-net.com/composer/36197/\">田淵智也</a></td>,\n",
       " <td class=\"side td5\">即効性の不安材料で毎日が</td>,\n",
       " <td class=\"side td1\"><a href=\"/song/126142/\">WiLD CANDY</a></td>,\n",
       " <td class=\"td2\"><a href=\"https://www.uta-net.com/artist/11591/\">LiSA</a></td>,\n",
       " <td class=\"td3\"><a href=\"https://www.uta-net.com/lyricist/26419/\">古屋真</a></td>,\n",
       " <td class=\"td4\"><a href=\"https://www.uta-net.com/composer/36776/\">礒崎健史</a></td>,\n",
       " <td class=\"side td5\">ドロップの箱ふってこれが</td>,\n",
       " <td class=\"side td1\"><a href=\"/song/154516/\">winding road</a></td>,\n",
       " <td class=\"td2\"><a href=\"https://www.uta-net.com/artist/11591/\">LiSA</a></td>,\n",
       " <td class=\"td3\"><a href=\"https://www.uta-net.com/lyricist/40876/\">LiSA</a></td>,\n",
       " <td class=\"td4\"><a href=\"https://www.uta-net.com/composer/41053/\">LiSA</a></td>,\n",
       " <td class=\"side td5\">最後の1ページそっと書き足す</td>,\n",
       " <td class=\"side td1\"><a href=\"/song/126139/\">笑ってほしくて</a></td>,\n",
       " <td class=\"td2\"><a href=\"https://www.uta-net.com/artist/11591/\">LiSA</a></td>,\n",
       " <td class=\"td3\"><a href=\"https://www.uta-net.com/lyricist/40876/\">LiSA</a></td>,\n",
       " <td class=\"td4\"><a href=\"https://www.uta-net.com/composer/31764/\">川原祥太</a></td>,\n",
       " <td class=\"side td5\">曇り空の下ひまわりはうつむき</td>]"
      ]
     },
     "execution_count": 42,
     "metadata": {},
     "output_type": "execute_result"
    }
   ],
   "source": [
    "# td タグをすべて取得\n",
    "td_list = get_tags(artist_page, 'td')\n",
    "td_list"
   ]
  },
  {
   "cell_type": "code",
   "execution_count": null,
   "metadata": {
    "colab": {
     "base_uri": "https://localhost:8080/",
     "height": 34
    },
    "colab_type": "code",
    "id": "jRYSrXbBHCAV",
    "outputId": "3ad27477-0100-4e65-e46f-606041da51c8"
   },
   "outputs": [],
   "source": [
    "# 最初のtdタグを取得\n",
    "td_list[0]"
   ]
  },
  {
   "cell_type": "code",
   "execution_count": null,
   "metadata": {
    "colab": {
     "base_uri": "https://localhost:8080/",
     "height": 35
    },
    "colab_type": "code",
    "id": "8L0y0EA2Gxmu",
    "outputId": "d484072c-9048-4bd6-92c7-f9e80c78aa3b"
   },
   "outputs": [],
   "source": [
    "# 最初のtdタグからaタグを取得\n",
    "a_list = get_tags(td_list[0], 'a')\n",
    "a_list"
   ]
  },
  {
   "cell_type": "code",
   "execution_count": null,
   "metadata": {
    "colab": {
     "base_uri": "https://localhost:8080/",
     "height": 35
    },
    "colab_type": "code",
    "id": "Qa9G7pROHoPd",
    "outputId": "48fbcacf-55ca-46ca-87c2-5c984d1ef931"
   },
   "outputs": [],
   "source": [
    "# href属性を見て、URLに'song'が含まれているかを確認\n",
    "a_list[0].get('href')"
   ]
  },
  {
   "cell_type": "code",
   "execution_count": null,
   "metadata": {
    "colab": {
     "base_uri": "https://localhost:8080/",
     "height": 35
    },
    "colab_type": "code",
    "id": "d0_ThwPkL4Ds",
    "outputId": "a0011636-560e-4e59-9b43-b60304533bd1"
   },
   "outputs": [],
   "source": [
    "if 'song' in a_list[0].get('href'):\n",
    "  print(BASE_URL + a_list[0].get('href'))"
   ]
  },
  {
   "cell_type": "code",
   "execution_count": null,
   "metadata": {
    "colab": {},
    "colab_type": "code",
    "id": "hCZ56DBoP_3_"
   },
   "outputs": [],
   "source": [
    "# 歌詞ページのURLのリスト\n",
    "track_urls = []"
   ]
  },
  {
   "cell_type": "code",
   "execution_count": null,
   "metadata": {
    "colab": {},
    "colab_type": "code",
    "id": "uTqoAl58_Zph"
   },
   "outputs": [],
   "source": [
    "# すべての曲のURLを取得\n",
    "# td タグのリストを1つずつ処理\n",
    "for td in td_list:\n",
    "  # a タグのリストを取得し、1つずつ処理\n",
    "  for a in get_tags(td, 'a'):\n",
    "    # aタグのhref属性を取得\n",
    "    href = a.get('href')\n",
    "    # URLに'song'が入っている場合\n",
    "    if 'song' in href:\n",
    "      # track_urls に完全なURLを追加\n",
    "      track_urls.append(BASE_URL + href)"
   ]
  },
  {
   "cell_type": "code",
   "execution_count": null,
   "metadata": {
    "colab": {
     "base_uri": "https://localhost:8080/",
     "height": 1000
    },
    "colab_type": "code",
    "id": "P9w4keyL-pIJ",
    "outputId": "2244d4e3-428a-4983-a68d-2d67cda4a0b3"
   },
   "outputs": [],
   "source": [
    "# URLのリスト\n",
    "track_urls"
   ]
  },
  {
   "cell_type": "markdown",
   "metadata": {
    "colab_type": "text",
    "id": "v8YjcZax_JD8"
   },
   "source": [
    "## 歌詞ページから歌詞を取得"
   ]
  },
  {
   "cell_type": "markdown",
   "metadata": {
    "colab_type": "text",
    "id": "-HK9vV4XDTw1"
   },
   "source": [
    "歌詞ページの例: https://www.uta-net.com/song/162135/"
   ]
  },
  {
   "cell_type": "code",
   "execution_count": null,
   "metadata": {
    "colab": {
     "base_uri": "https://localhost:8080/",
     "height": 35
    },
    "colab_type": "code",
    "id": "gj3IMq8dCIau",
    "outputId": "2b855d89-af79-4892-b452-9741ca31b59a"
   },
   "outputs": [],
   "source": [
    "track_urls[0]"
   ]
  },
  {
   "cell_type": "code",
   "execution_count": null,
   "metadata": {
    "colab": {},
    "colab_type": "code",
    "id": "pYFybvjkCj3h"
   },
   "outputs": [],
   "source": [
    "lyric_page = load_page(track_urls[0])"
   ]
  },
  {
   "cell_type": "code",
   "execution_count": null,
   "metadata": {
    "colab": {
     "base_uri": "https://localhost:8080/",
     "height": 55
    },
    "colab_type": "code",
    "id": "KRyMecrU0-5N",
    "outputId": "13bb3a06-3e68-4e0b-aa33-2c8573df84e1",
    "scrolled": true
   },
   "outputs": [],
   "source": [
    "lyric_page"
   ]
  },
  {
   "cell_type": "code",
   "execution_count": null,
   "metadata": {
    "colab": {},
    "colab_type": "code",
    "id": "YT7nFvfxPDnJ"
   },
   "outputs": [],
   "source": [
    "soup = bs4.BeautifulSoup(lyric_page, 'html.parser')"
   ]
  },
  {
   "cell_type": "code",
   "execution_count": null,
   "metadata": {
    "colab": {
     "base_uri": "https://localhost:8080/",
     "height": 55
    },
    "colab_type": "code",
    "id": "qEitOfHtPUZM",
    "outputId": "e0d8f5c3-85cb-463c-9af8-063cee1eb4ef"
   },
   "outputs": [],
   "source": [
    "# id が kashi_area のタグを探す\n",
    "soup.find(id='kashi_area')"
   ]
  },
  {
   "cell_type": "code",
   "execution_count": null,
   "metadata": {
    "colab": {
     "base_uri": "https://localhost:8080/",
     "height": 55
    },
    "colab_type": "code",
    "id": "h_lJtRAbP6rg",
    "outputId": "8afb690a-4408-41ab-87de-1e5f426450f4"
   },
   "outputs": [],
   "source": [
    "# テキストのみを抽出\n",
    "soup.find(id='kashi_area').text"
   ]
  },
  {
   "cell_type": "code",
   "execution_count": null,
   "metadata": {
    "colab": {
     "base_uri": "https://localhost:8080/",
     "height": 55
    },
    "colab_type": "code",
    "id": "cAXwuRU0QMfB",
    "outputId": "46f98fc4-0b9d-4db7-e1a4-96983e33e2e3"
   },
   "outputs": [],
   "source": [
    "# 全角スペースが文字化けしているので、半角スペースに置換\n",
    "soup.find(id='kashi_area').text.replace('　', '\\n')"
   ]
  },
  {
   "cell_type": "code",
   "execution_count": null,
   "metadata": {
    "colab": {
     "base_uri": "https://localhost:8080/",
     "height": 163
    },
    "colab_type": "code",
    "id": "ZVvh28vp2VZN",
    "outputId": "f699c378-81f9-4864-e2b7-053667e95e60"
   },
   "outputs": [],
   "source": [
    "soup.find(id='kashi_area').text.split('')"
   ]
  },
  {
   "cell_type": "code",
   "execution_count": null,
   "metadata": {
    "colab": {
     "base_uri": "https://localhost:8080/",
     "height": 665
    },
    "colab_type": "code",
    "id": "U4p9RPSt2Ekr",
    "outputId": "9fce6bd2-8120-453e-ea2c-6bd827489a3e"
   },
   "outputs": [],
   "source": [
    "for sentence in soup.find(id='kashi_area').text.split('　'):\n",
    "  print(sentence)"
   ]
  },
  {
   "cell_type": "code",
   "execution_count": null,
   "metadata": {
    "colab": {},
    "colab_type": "code",
    "id": "jeUgNY3axYc9"
   },
   "outputs": [],
   "source": [
    "# 歌詞を入れるリスト\n",
    "lyrics = []"
   ]
  },
  {
   "cell_type": "code",
   "execution_count": null,
   "metadata": {
    "colab": {},
    "colab_type": "code",
    "id": "OHh4j-rZQMvb"
   },
   "outputs": [],
   "source": [
    "# すべての曲の歌詞をlyricsに入れる\n",
    "for track_url in track_urls:\n",
    "  lyric_page = load_page(track_url)\n",
    "  soup = bs4.BeautifulSoup(lyric_page, 'html.parser')\n",
    "  lyrics.append(soup.find(id='kashi_area').text.replace('　', ' '))\n",
    "  time.sleep(1)"
   ]
  },
  {
   "cell_type": "code",
   "execution_count": null,
   "metadata": {
    "colab": {
     "base_uri": "https://localhost:8080/",
     "height": 217
    },
    "colab_type": "code",
    "id": "2nh8jp92yLPG",
    "outputId": "4db98d06-05d0-411d-d6b0-f4c95135427e"
   },
   "outputs": [],
   "source": [
    "lyrics[:10]"
   ]
  },
  {
   "cell_type": "code",
   "execution_count": null,
   "metadata": {
    "colab": {
     "base_uri": "https://localhost:8080/",
     "height": 35
    },
    "colab_type": "code",
    "id": "KrEZDP3DzLLx",
    "outputId": "6c5b3cec-a220-4c31-8a93-9b3d4a99a7e3"
   },
   "outputs": [],
   "source": [
    "len(lyrics)"
   ]
  },
  {
   "cell_type": "markdown",
   "metadata": {
    "colab_type": "text",
    "id": "ON3UHZkcqofI"
   },
   "source": [
    "## MeCab を用いて形態素解析"
   ]
  },
  {
   "cell_type": "markdown",
   "metadata": {
    "colab_type": "text",
    "id": "exeH_C3bqtHL"
   },
   "source": [
    "MeCabのインストール"
   ]
  },
  {
   "cell_type": "code",
   "execution_count": 43,
   "metadata": {
    "colab": {
     "base_uri": "https://localhost:8080/",
     "height": 1000
    },
    "colab_type": "code",
    "id": "V5i_oGZKqwkv",
    "outputId": "6f8bde20-3462-4222-ab0a-9ca777cd0128"
   },
   "outputs": [
    {
     "name": "stdout",
     "output_type": "stream",
     "text": [
      "E: Could not open lock file /var/lib/dpkg/lock - open (13: Permission denied)\n",
      "E: Unable to lock the administration directory (/var/lib/dpkg/), are you root?\n",
      "/bin/sh: 1: aptitude: not found\n",
      "Requirement already satisfied: mecab-python3 in /opt/anaconda3/lib/python3.7/site-packages (0.996.3)\n"
     ]
    }
   ],
   "source": [
    "!apt install aptitude\n",
    "!aptitude install mecab libmecab-dev mecab-ipadic-utf8 git make curl xz-utils file -y\n",
    "!pip install mecab-python3"
   ]
  },
  {
   "cell_type": "code",
   "execution_count": 44,
   "metadata": {
    "colab": {
     "base_uri": "https://localhost:8080/",
     "height": 1000
    },
    "colab_type": "code",
    "id": "k5wrG6ecsgGN",
    "outputId": "7ba116ec-1ff4-423c-fb0c-e618673b1905"
   },
   "outputs": [
    {
     "name": "stdout",
     "output_type": "stream",
     "text": [
      "fatal: destination path 'mecab-ipadic-neologd' already exists and is not an empty directory.\n",
      "[install-mecab-ipadic-NEologd] : Start..\n",
      "[install-mecab-ipadic-NEologd] : Check the existance of libraries\n",
      "[install-mecab-ipadic-NEologd] :     find => ok\n",
      "[install-mecab-ipadic-NEologd] :     sort => ok\n",
      "[install-mecab-ipadic-NEologd] :     head => ok\n",
      "[install-mecab-ipadic-NEologd] :     cut => ok\n",
      "[install-mecab-ipadic-NEologd] :     egrep => ok\n",
      "[install-mecab-ipadic-NEologd] :     mecab is not found.\n"
     ]
    }
   ],
   "source": [
    "# 最新の辞書をダウンロード\n",
    "!git clone --depth 1 https://github.com/neologd/mecab-ipadic-neologd.git\n",
    "!echo yes | mecab-ipadic-neologd/bin/install-mecab-ipadic-neologd -n -a"
   ]
  },
  {
   "cell_type": "markdown",
   "metadata": {
    "colab_type": "text",
    "id": "5HA2qcn7sr6L"
   },
   "source": [
    "# MeCabで1曲ずつ形態素解析を行う"
   ]
  },
  {
   "cell_type": "markdown",
   "metadata": {},
   "source": [
    "正直いらないかも。。。"
   ]
  },
  {
   "cell_type": "markdown",
   "metadata": {
    "colab_type": "text",
    "id": "KiEN9_Kol03X"
   },
   "source": [
    "形態素解析とは\n",
    "\n",
    "文章を意味をもつ最小単位の表現に分解すること。最小単位は単語になることが多い。"
   ]
  },
  {
   "cell_type": "code",
   "execution_count": 3,
   "metadata": {
    "colab": {
     "base_uri": "https://localhost:8080/",
     "height": 35
    },
    "colab_type": "code",
    "id": "wklK-An9zf2f",
    "outputId": "8fc4f718-7013-4f5d-c5b1-d1db984161e1"
   },
   "outputs": [
    {
     "ename": "RuntimeError",
     "evalue": "",
     "output_type": "error",
     "traceback": [
      "\u001b[0;31m---------------------------------------------------------------------------\u001b[0m",
      "\u001b[0;31mRuntimeError\u001b[0m                              Traceback (most recent call last)",
      "\u001b[0;32m<ipython-input-3-98a6aba29adc>\u001b[0m in \u001b[0;36m<module>\u001b[0;34m\u001b[0m\n\u001b[1;32m      6\u001b[0m path = (subprocess.Popen(cmd, stdout=subprocess.PIPE,\n\u001b[1;32m      7\u001b[0m                            shell=True).communicate()[0]).decode('utf-8')\n\u001b[0;32m----> 8\u001b[0;31m \u001b[0mmecab\u001b[0m \u001b[0;34m=\u001b[0m \u001b[0mMeCab\u001b[0m\u001b[0;34m.\u001b[0m\u001b[0mTagger\u001b[0m\u001b[0;34m(\u001b[0m\u001b[0;34m\"-d {0}\"\u001b[0m\u001b[0;34m.\u001b[0m\u001b[0mformat\u001b[0m\u001b[0;34m(\u001b[0m\u001b[0mpath\u001b[0m\u001b[0;34m)\u001b[0m\u001b[0;34m)\u001b[0m\u001b[0;34m\u001b[0m\u001b[0;34m\u001b[0m\u001b[0m\n\u001b[0m\u001b[1;32m      9\u001b[0m \u001b[0mmecab\u001b[0m\u001b[0;34m.\u001b[0m\u001b[0mparse\u001b[0m\u001b[0;34m(\u001b[0m\u001b[0;34m''\u001b[0m\u001b[0;34m)\u001b[0m\u001b[0;34m\u001b[0m\u001b[0;34m\u001b[0m\u001b[0m\n",
      "\u001b[0;32m/opt/anaconda3/lib/python3.7/site-packages/MeCab/__init__.py\u001b[0m in \u001b[0;36m__init__\u001b[0;34m(self, *args)\u001b[0m\n\u001b[1;32m     97\u001b[0m     \u001b[0;32mdef\u001b[0m \u001b[0m__init__\u001b[0m\u001b[0;34m(\u001b[0m\u001b[0mself\u001b[0m\u001b[0;34m,\u001b[0m \u001b[0;34m*\u001b[0m\u001b[0margs\u001b[0m\u001b[0;34m)\u001b[0m\u001b[0;34m:\u001b[0m\u001b[0;34m\u001b[0m\u001b[0;34m\u001b[0m\u001b[0m\n\u001b[1;32m     98\u001b[0m         \u001b[0;32mwith\u001b[0m \u001b[0m_mecabrc_for_bundled_dictionary\u001b[0m\u001b[0;34m(\u001b[0m\u001b[0;34m)\u001b[0m\u001b[0;34m:\u001b[0m\u001b[0;34m\u001b[0m\u001b[0;34m\u001b[0m\u001b[0m\n\u001b[0;32m---> 99\u001b[0;31m             \u001b[0msuper\u001b[0m\u001b[0;34m(\u001b[0m\u001b[0mTagger\u001b[0m\u001b[0;34m,\u001b[0m \u001b[0mself\u001b[0m\u001b[0;34m)\u001b[0m\u001b[0;34m.\u001b[0m\u001b[0m__init__\u001b[0m\u001b[0;34m(\u001b[0m\u001b[0;34m*\u001b[0m\u001b[0margs\u001b[0m\u001b[0;34m)\u001b[0m\u001b[0;34m\u001b[0m\u001b[0;34m\u001b[0m\u001b[0m\n\u001b[0m\u001b[1;32m    100\u001b[0m \u001b[0;34m\u001b[0m\u001b[0m\n\u001b[1;32m    101\u001b[0m \u001b[0;34m\u001b[0m\u001b[0m\n",
      "\u001b[0;31mRuntimeError\u001b[0m: "
     ]
    }
   ],
   "source": [
    "# MeCab セットアップ\n",
    "import MeCab\n",
    "import subprocess\n",
    "\n",
    "cmd='echo `mecab-config --dicdir`\"/mecab-ipadic-neologd\"'\n",
    "path = (subprocess.Popen(cmd, stdout=subprocess.PIPE,\n",
    "                           shell=True).communicate()[0]).decode('utf-8')\n",
    "mecab = MeCab.Tagger(\"-d {0}\".format(path))\n",
    "mecab.parse('')"
   ]
  },
  {
   "cell_type": "code",
   "execution_count": 6,
   "metadata": {},
   "outputs": [],
   "source": [
    "mecab_parser=lambda x: MeCab.Tagger(\"-Owakati\").parse(x).split(\" \")"
   ]
  },
  {
   "cell_type": "code",
   "execution_count": 7,
   "metadata": {},
   "outputs": [
    {
     "data": {
      "text/plain": [
       "['選挙',\n",
       " 'の',\n",
       " '日',\n",
       " 'って',\n",
       " 'うち',\n",
       " 'じゃ',\n",
       " 'なぜ',\n",
       " 'か',\n",
       " '投票',\n",
       " '行っ',\n",
       " 'て',\n",
       " '外食',\n",
       " 'する',\n",
       " 'ん',\n",
       " 'だ',\n",
       " '\\n']"
      ]
     },
     "execution_count": 7,
     "metadata": {},
     "output_type": "execute_result"
    }
   ],
   "source": [
    "mecab_parser('選挙の日ってうちじゃなぜか投票行って外食するんだ')"
   ]
  },
  {
   "cell_type": "code",
   "execution_count": 9,
   "metadata": {
    "colab": {
     "base_uri": "https://localhost:8080/",
     "height": 287
    },
    "colab_type": "code",
    "id": "xPr9KCCs1cW1",
    "outputId": "d7b0ecd6-8697-46e6-e786-7a1629757d09"
   },
   "outputs": [
    {
     "ename": "RuntimeError",
     "evalue": "",
     "output_type": "error",
     "traceback": [
      "\u001b[0;31m---------------------------------------------------------------------------\u001b[0m",
      "\u001b[0;31mRuntimeError\u001b[0m                              Traceback (most recent call last)",
      "\u001b[0;32m<ipython-input-9-223d9748178d>\u001b[0m in \u001b[0;36m<module>\u001b[0;34m\u001b[0m\n\u001b[0;32m----> 1\u001b[0;31m \u001b[0mmecab\u001b[0m \u001b[0;34m=\u001b[0m \u001b[0mMeCab\u001b[0m\u001b[0;34m.\u001b[0m\u001b[0mTagger\u001b[0m\u001b[0;34m(\u001b[0m\u001b[0;34m\"-d {0}\"\u001b[0m\u001b[0;34m.\u001b[0m\u001b[0mformat\u001b[0m\u001b[0;34m(\u001b[0m\u001b[0mpath\u001b[0m\u001b[0;34m)\u001b[0m\u001b[0;34m)\u001b[0m\u001b[0;34m\u001b[0m\u001b[0;34m\u001b[0m\u001b[0m\n\u001b[0m\u001b[1;32m      2\u001b[0m \u001b[0mmecab\u001b[0m\u001b[0;34m.\u001b[0m\u001b[0mparse\u001b[0m\u001b[0;34m(\u001b[0m\u001b[0;34m''\u001b[0m\u001b[0;34m)\u001b[0m\u001b[0;34m\u001b[0m\u001b[0;34m\u001b[0m\u001b[0m\n\u001b[1;32m      3\u001b[0m \u001b[0;32mfor\u001b[0m \u001b[0mword\u001b[0m \u001b[0;32min\u001b[0m \u001b[0mmecab\u001b[0m\u001b[0;34m.\u001b[0m\u001b[0mparse\u001b[0m\u001b[0;34m(\u001b[0m\u001b[0;34m'選挙の日ってうちじゃなぜか投票行って外食するんだ'\u001b[0m\u001b[0;34m)\u001b[0m\u001b[0;34m.\u001b[0m\u001b[0msplit\u001b[0m\u001b[0;34m(\u001b[0m\u001b[0;34m'\\n'\u001b[0m\u001b[0;34m)\u001b[0m\u001b[0;34m:\u001b[0m\u001b[0;34m\u001b[0m\u001b[0;34m\u001b[0m\u001b[0m\n\u001b[1;32m      4\u001b[0m   \u001b[0mprint\u001b[0m\u001b[0;34m(\u001b[0m\u001b[0mword\u001b[0m\u001b[0;34m)\u001b[0m\u001b[0;34m\u001b[0m\u001b[0;34m\u001b[0m\u001b[0m\n",
      "\u001b[0;32m/opt/anaconda3/lib/python3.7/site-packages/MeCab/__init__.py\u001b[0m in \u001b[0;36m__init__\u001b[0;34m(self, *args)\u001b[0m\n\u001b[1;32m     97\u001b[0m     \u001b[0;32mdef\u001b[0m \u001b[0m__init__\u001b[0m\u001b[0;34m(\u001b[0m\u001b[0mself\u001b[0m\u001b[0;34m,\u001b[0m \u001b[0;34m*\u001b[0m\u001b[0margs\u001b[0m\u001b[0;34m)\u001b[0m\u001b[0;34m:\u001b[0m\u001b[0;34m\u001b[0m\u001b[0;34m\u001b[0m\u001b[0m\n\u001b[1;32m     98\u001b[0m         \u001b[0;32mwith\u001b[0m \u001b[0m_mecabrc_for_bundled_dictionary\u001b[0m\u001b[0;34m(\u001b[0m\u001b[0;34m)\u001b[0m\u001b[0;34m:\u001b[0m\u001b[0;34m\u001b[0m\u001b[0;34m\u001b[0m\u001b[0m\n\u001b[0;32m---> 99\u001b[0;31m             \u001b[0msuper\u001b[0m\u001b[0;34m(\u001b[0m\u001b[0mTagger\u001b[0m\u001b[0;34m,\u001b[0m \u001b[0mself\u001b[0m\u001b[0;34m)\u001b[0m\u001b[0;34m.\u001b[0m\u001b[0m__init__\u001b[0m\u001b[0;34m(\u001b[0m\u001b[0;34m*\u001b[0m\u001b[0margs\u001b[0m\u001b[0;34m)\u001b[0m\u001b[0;34m\u001b[0m\u001b[0;34m\u001b[0m\u001b[0m\n\u001b[0m\u001b[1;32m    100\u001b[0m \u001b[0;34m\u001b[0m\u001b[0m\n\u001b[1;32m    101\u001b[0m \u001b[0;34m\u001b[0m\u001b[0m\n",
      "\u001b[0;31mRuntimeError\u001b[0m: "
     ]
    }
   ],
   "source": [
    "# mecab = MeCab.Tagger(\"-d {0}\".format(path))\n",
    "# mecab.parse('')\n",
    "# for word in mecab.parse('選挙の日ってうちじゃなぜか投票行って外食するんだ').split('\\n'):\n",
    "#   print(word)"
   ]
  },
  {
   "cell_type": "code",
   "execution_count": 13,
   "metadata": {
    "colab": {
     "base_uri": "https://localhost:8080/",
     "height": 35
    },
    "colab_type": "code",
    "id": "nWmg2CRk7eKM",
    "outputId": "10825685-6ed7-47b1-8e0d-648523e557ab"
   },
   "outputs": [
    {
     "data": {
      "text/plain": [
       "['おの', 'の', 'の', 'か', '\\n']"
      ]
     },
     "execution_count": 13,
     "metadata": {},
     "output_type": "execute_result"
    }
   ],
   "source": [
    "mecab_parser('おのののか')"
   ]
  },
  {
   "cell_type": "code",
   "execution_count": null,
   "metadata": {
    "colab": {
     "base_uri": "https://localhost:8080/",
     "height": 55
    },
    "colab_type": "code",
    "id": "VIKEjexJ10h6",
    "outputId": "b0629e7d-5715-4490-d507-27df2434d8f9"
   },
   "outputs": [],
   "source": [
    "mecab.parse(lyrics[0])"
   ]
  },
  {
   "cell_type": "code",
   "execution_count": null,
   "metadata": {
    "colab": {},
    "colab_type": "code",
    "id": "l7ZokQRfzxVh"
   },
   "outputs": [],
   "source": [
    "node = mecab.parseToNode(lyrics[0])"
   ]
  },
  {
   "cell_type": "code",
   "execution_count": null,
   "metadata": {
    "colab": {
     "base_uri": "https://localhost:8080/",
     "height": 1000
    },
    "colab_type": "code",
    "id": "pe_CqIMCztfx",
    "outputId": "7e20470c-93d1-4b7c-d3e7-6d2d6df49eed"
   },
   "outputs": [],
   "source": [
    "while node:\n",
    "  #単語を取得\n",
    "  word = node.surface\n",
    "  #品詞を取得\n",
    "  pos = node.feature.split(',')[0]\n",
    "  if pos in ['名詞','形容詞','副詞','動詞']:\n",
    "    print(word)\n",
    "  #次の単語に進める\n",
    "  node = node.next"
   ]
  },
  {
   "cell_type": "code",
   "execution_count": null,
   "metadata": {
    "colab": {},
    "colab_type": "code",
    "id": "3IDO-FnPI2VJ"
   },
   "outputs": [],
   "source": [
    "# すべての曲の単語を入れる配列\n",
    "words = []\n",
    "\n",
    "for lyric in lyrics:\n",
    "  node = mecab.parseToNode(lyric)\n",
    "  while node:\n",
    "    #単語を取得\n",
    "    word = node.surface\n",
    "    #品詞を取得\n",
    "    pos = node.feature.split(',')[0]\n",
    "    if pos in ['名詞','形容詞','副詞','動詞']:\n",
    "      words.append(word)\n",
    "    #次の単語に進める\n",
    "    node = node.next"
   ]
  },
  {
   "cell_type": "code",
   "execution_count": null,
   "metadata": {
    "colab": {
     "base_uri": "https://localhost:8080/",
     "height": 35
    },
    "colab_type": "code",
    "id": "-o9ECpFSJwlN",
    "outputId": "93469c9e-fb04-4d7d-f08e-ac8ed6d02749"
   },
   "outputs": [],
   "source": [
    "len(words)"
   ]
  },
  {
   "cell_type": "markdown",
   "metadata": {
    "colab_type": "text",
    "id": "eKcSUYxdOYoj"
   },
   "source": [
    "collections.Counter を使って単語の出現回数をカウント\n",
    "\n"
   ]
  },
  {
   "cell_type": "code",
   "execution_count": null,
   "metadata": {
    "colab": {},
    "colab_type": "code",
    "id": "VgsLmUNqIhmF"
   },
   "outputs": [],
   "source": [
    "import collections\n",
    "\n",
    "word_counter = collections.Counter(words)"
   ]
  },
  {
   "cell_type": "code",
   "execution_count": null,
   "metadata": {
    "colab": {
     "base_uri": "https://localhost:8080/",
     "height": 35
    },
    "colab_type": "code",
    "id": "-gMhebJ8OIEo",
    "outputId": "89f65988-9e20-42da-8da8-0e52c1d41b93"
   },
   "outputs": [],
   "source": [
    "# 何種類の単語があるか\n",
    "len(word_counter)"
   ]
  },
  {
   "cell_type": "code",
   "execution_count": null,
   "metadata": {
    "colab": {
     "base_uri": "https://localhost:8080/",
     "height": 35
    },
    "colab_type": "code",
    "id": "DyUYiRdVWDmi",
    "outputId": "3a8e920f-ec9e-44a9-b802-6c6c60768ffb"
   },
   "outputs": [],
   "source": [
    "# 単語の出現回数\n",
    "word_counter['あなた']"
   ]
  },
  {
   "cell_type": "code",
   "execution_count": null,
   "metadata": {
    "colab": {
     "base_uri": "https://localhost:8080/",
     "height": 1000
    },
    "colab_type": "code",
    "id": "PTQodZbAetly",
    "outputId": "e261affe-1747-4c03-c41f-2722a42c247a"
   },
   "outputs": [],
   "source": [
    "# 出現回数が多い順に並べる\n",
    "word_counter.most_common()"
   ]
  },
  {
   "cell_type": "markdown",
   "metadata": {
    "colab_type": "text",
    "id": "2MkjiIl14oSH"
   },
   "source": [
    "## ワードクラウドで可視化する"
   ]
  },
  {
   "cell_type": "markdown",
   "metadata": {
    "colab_type": "text",
    "id": "mwWfU7AWevr1"
   },
   "source": [
    "ワードクラウド（word cloud）とは単語を出現回数に比例する大きさで雲のように並べたもの\n",
    "\n",
    "\n",
    "例\n",
    "\n",
    "![代替テキスト](https://oku.edu.mie-u.ac.jp/~okumura/python/img/wc1.png)\n",
    "\n",
    "\n",
    "Python では wordcloud モジュールで作成"
   ]
  },
  {
   "cell_type": "code",
   "execution_count": null,
   "metadata": {
    "colab": {
     "base_uri": "https://localhost:8080/",
     "height": 487
    },
    "colab_type": "code",
    "id": "HPGIzVLUkr6y",
    "outputId": "0a676833-b2c4-41e4-f72b-a85773024482"
   },
   "outputs": [],
   "source": [
    "# 日本語フォントをインストール\n",
    "!apt-get -y install fonts-ipafont-gothic"
   ]
  },
  {
   "cell_type": "code",
   "execution_count": null,
   "metadata": {
    "colab": {},
    "colab_type": "code",
    "id": "L8S0pAQI4tQu"
   },
   "outputs": [],
   "source": [
    "import matplotlib.pyplot as plt\n",
    "import wordcloud"
   ]
  },
  {
   "cell_type": "code",
   "execution_count": null,
   "metadata": {
    "colab": {},
    "colab_type": "code",
    "id": "Bqjwb3uSk7PY"
   },
   "outputs": [],
   "source": [
    "# 日本語フォントのパス\n",
    "fpath = '/usr/share/fonts/truetype/fonts-japanese-gothic.ttf'"
   ]
  },
  {
   "cell_type": "code",
   "execution_count": null,
   "metadata": {
    "colab": {},
    "colab_type": "code",
    "id": "xk6saA-Qj0fb"
   },
   "outputs": [],
   "source": [
    "# wordcloud で使うために、単語のリストをスペース区切りの文字列に変換\n",
    "words_str = ' '.join(words)"
   ]
  },
  {
   "cell_type": "code",
   "execution_count": null,
   "metadata": {
    "colab": {},
    "colab_type": "code",
    "id": "x0Bp2NZQx1hW"
   },
   "outputs": [],
   "source": [
    "lyric_cloud = wordcloud.WordCloud(background_color=\"white\", \n",
    "                                  font_path=fpath, \n",
    "                                  width=900, \n",
    "                                  height=500).generate(words_str)"
   ]
  },
  {
   "cell_type": "code",
   "execution_count": null,
   "metadata": {
    "colab": {
     "base_uri": "https://localhost:8080/",
     "height": 496
    },
    "colab_type": "code",
    "id": "CGEfhw9ijDEq",
    "outputId": "ceb18330-b556-42e9-b4b0-8b30859340b7"
   },
   "outputs": [],
   "source": [
    "plt.figure(figsize=(15,12))\n",
    "plt.imshow(lyric_cloud)\n",
    "plt.axis(\"off\")\n",
    "plt.show()"
   ]
  },
  {
   "cell_type": "markdown",
   "metadata": {
    "colab_type": "text",
    "id": "qTVCsrMkmpzg"
   },
   "source": [
    "意味を持たない単語が多くなってしまう\n",
    "\n",
    "これを防ぐのが、stopwords。stopwordsで与えられた単語をword cloud から除外する"
   ]
  },
  {
   "cell_type": "code",
   "execution_count": null,
   "metadata": {
    "colab": {},
    "colab_type": "code",
    "id": "URDidTodlQRu"
   },
   "outputs": [],
   "source": [
    "stop_words = [ 'てる', 'いる', 'なる', 'れる', 'する', 'ある', 'こと', 'これ', 'さん', 'して', \\\n",
    "             'くれる', 'やる', 'くださる', 'そう', 'せる', 'した',  '思う',  \\\n",
    "             'それ', 'ここ', 'ちゃん', 'くん', '', 'て','に','を','は','の', 'が', 'と', 'た', 'し', 'で', \\\n",
    "             'ない', 'も', 'な', 'い', 'か', 'ので', 'よう', '']"
   ]
  },
  {
   "cell_type": "code",
   "execution_count": null,
   "metadata": {
    "colab": {},
    "colab_type": "code",
    "id": "QHA5fH3XmI33"
   },
   "outputs": [],
   "source": [
    "lyric_cloud = wordcloud.WordCloud(background_color=\"white\", \n",
    "                                  font_path=fpath,\n",
    "                                  width=900, \n",
    "                                  height=500,\n",
    "                                  stopwords=stop_words).generate(words_str)"
   ]
  },
  {
   "cell_type": "code",
   "execution_count": null,
   "metadata": {
    "colab": {
     "base_uri": "https://localhost:8080/",
     "height": 496
    },
    "colab_type": "code",
    "id": "QM5qCwz3mWiU",
    "outputId": "cf39d686-4b5e-45a6-ef3d-34c021a18da5"
   },
   "outputs": [],
   "source": [
    "plt.figure(figsize=(15,12))\n",
    "plt.imshow(lyric_cloud)\n",
    "plt.axis(\"off\")\n",
    "plt.show()"
   ]
  },
  {
   "cell_type": "markdown",
   "metadata": {
    "colab_type": "text",
    "id": "fatGHYIgql1Y"
   },
   "source": [
    "# BERTで歌詞をしてみる（秋元康編）\n"
   ]
  },
  {
   "cell_type": "code",
   "execution_count": 1,
   "metadata": {
    "colab": {},
    "colab_type": "code",
    "id": "lowerWxp9SqV",
    "scrolled": true
   },
   "outputs": [
    {
     "name": "stdout",
     "output_type": "stream",
     "text": [
      "Requirement already satisfied: tqdm in /opt/anaconda3/lib/python3.7/site-packages (4.40.2)\n",
      "Enabling notebook extension jupyter-js-widgets/extension...\n",
      "      - Validating: \u001b[32mOK\u001b[0m\n"
     ]
    }
   ],
   "source": [
    "!pip install tqdm\n",
    "!jupyter nbextension enable --py --sys-prefix widgetsnbextension"
   ]
  },
  {
   "cell_type": "code",
   "execution_count": 2,
   "metadata": {
    "colab": {
     "base_uri": "https://localhost:8080/",
     "height": 136
    },
    "colab_type": "code",
    "id": "QWffTx9YFus4",
    "outputId": "88d8c5b2-ba5f-4a51-bb0c-04eb26808c33",
    "scrolled": true
   },
   "outputs": [
    {
     "name": "stdout",
     "output_type": "stream",
     "text": [
      "Requirement already satisfied: transformers in /opt/anaconda3/lib/python3.7/site-packages (2.4.1)\n",
      "Requirement already satisfied: sentencepiece in /opt/anaconda3/lib/python3.7/site-packages (from transformers) (0.1.85)\n",
      "Requirement already satisfied: requests in /opt/anaconda3/lib/python3.7/site-packages (from transformers) (2.22.0)\n",
      "Requirement already satisfied: filelock in /opt/anaconda3/lib/python3.7/site-packages (from transformers) (3.0.12)\n",
      "Requirement already satisfied: sacremoses in /opt/anaconda3/lib/python3.7/site-packages (from transformers) (0.0.38)\n",
      "Requirement already satisfied: regex!=2019.12.17 in /opt/anaconda3/lib/python3.7/site-packages (from transformers) (2019.8.19)\n",
      "Requirement already satisfied: tokenizers==0.0.11 in /opt/anaconda3/lib/python3.7/site-packages (from transformers) (0.0.11)\n",
      "Requirement already satisfied: boto3 in /opt/anaconda3/lib/python3.7/site-packages (from transformers) (1.11.9)\n",
      "Requirement already satisfied: tqdm>=4.27 in /opt/anaconda3/lib/python3.7/site-packages (from transformers) (4.40.2)\n",
      "Requirement already satisfied: numpy in /opt/anaconda3/lib/python3.7/site-packages (from transformers) (1.18.1)\n",
      "Requirement already satisfied: certifi>=2017.4.17 in /opt/anaconda3/lib/python3.7/site-packages (from requests->transformers) (2019.11.28)\n",
      "Requirement already satisfied: idna<2.9,>=2.5 in /opt/anaconda3/lib/python3.7/site-packages (from requests->transformers) (2.8)\n",
      "Requirement already satisfied: urllib3!=1.25.0,!=1.25.1,<1.26,>=1.21.1 in /opt/anaconda3/lib/python3.7/site-packages (from requests->transformers) (1.24.3)\n",
      "Requirement already satisfied: chardet<3.1.0,>=3.0.2 in /opt/anaconda3/lib/python3.7/site-packages (from requests->transformers) (3.0.4)\n",
      "Requirement already satisfied: six in /opt/anaconda3/lib/python3.7/site-packages (from sacremoses->transformers) (1.14.0)\n",
      "Requirement already satisfied: joblib in /opt/anaconda3/lib/python3.7/site-packages (from sacremoses->transformers) (0.14.1)\n",
      "Requirement already satisfied: click in /opt/anaconda3/lib/python3.7/site-packages (from sacremoses->transformers) (7.0)\n",
      "Requirement already satisfied: jmespath<1.0.0,>=0.7.1 in /opt/anaconda3/lib/python3.7/site-packages (from boto3->transformers) (0.9.4)\n",
      "Requirement already satisfied: botocore<1.15.0,>=1.14.9 in /opt/anaconda3/lib/python3.7/site-packages (from boto3->transformers) (1.14.9)\n",
      "Requirement already satisfied: s3transfer<0.4.0,>=0.3.0 in /opt/anaconda3/lib/python3.7/site-packages (from boto3->transformers) (0.3.2)\n",
      "Requirement already satisfied: python-dateutil<3.0.0,>=2.1 in /opt/anaconda3/lib/python3.7/site-packages (from botocore<1.15.0,>=1.14.9->boto3->transformers) (2.8.1)\n",
      "Collecting docutils<0.16,>=0.10\n",
      "  Downloading docutils-0.15.2-py3-none-any.whl (547 kB)\n",
      "\u001b[K     |████████████████████████████████| 547 kB 4.8 MB/s eta 0:00:01\n",
      "\u001b[?25hInstalling collected packages: docutils\n",
      "  Attempting uninstall: docutils\n",
      "    Found existing installation: docutils 0.16\n",
      "    Uninstalling docutils-0.16:\n",
      "      Successfully uninstalled docutils-0.16\n",
      "Successfully installed docutils-0.15.2\n",
      "fatal: destination path 'transformers' already exists and is not an empty directory.\n",
      "mkdir: cannot create directory ‘output’: File exists\n"
     ]
    }
   ],
   "source": [
    "# Bertのコンポーネントの transformers をダウンロード\n",
    "!pip install transformers\n",
    "!git clone https://github.com/loverico/transformers.git\n",
    "!mkdir output\n"
   ]
  },
  {
   "cell_type": "markdown",
   "metadata": {},
   "source": [
    "## BERT とは\n",
    "自然言語処理に特化した事前学習済み機械学習モデル。\n",
    "人間の文章認識能力を超えたことが話題になった。\n",
    "### 事前学習済みモデルとは\n",
    "あらかじめ汎化性のあるタスクを学習しておいたモデルのこと。\n",
    "例えば、BERT の場合は、欠損した文章を与えてその欠損した箇所にはどんな単語が入るか推測させるなどのタスクを行う\n",
    "その学習されたモデルを用いて、個別のタスクで更に学習させることによって効果的な学習結果が期待できる(→転移学習と呼ぶ）\n",
    "\n"
   ]
  },
  {
   "cell_type": "markdown",
   "metadata": {},
   "source": [
    "### 先ほどのスクレイピングメソッドをクラス化"
   ]
  },
  {
   "cell_type": "code",
   "execution_count": 13,
   "metadata": {
    "colab": {},
    "colab_type": "code",
    "id": "moHpzooAqvXX"
   },
   "outputs": [],
   "source": [
    "# url\n",
    "import urllib.parse\n",
    "from tqdm import tqdm_notebook as tqdm\n",
    "#人気順（昇順）\n",
    "POPULAR_ASC = 3\n",
    "# 人気順（降順)\n",
    "POPULAR_DESC = 4\n",
    "# 作詞者氏名で検索\n",
    "SEARCH_TYPE_WRITER=3\n",
    "\n",
    "class LyricFetcher():\n",
    "    artist_name = None\n",
    "    base_url = None\n",
    "    lyrics_list =None\n",
    "    stop_words = []\n",
    "    # 初期化メソッド\n",
    "    def __init__(self,artist_name,base_url=BASE_URL):\n",
    "        self.lyrics_list= []\n",
    "        self.artist_name = artist_name\n",
    "\n",
    "    def build_list_url(self, keyword, search_type=SEARCH_TYPE_WRITER, sort_type=POPULAR_ASC, page_num=1):\n",
    "        return f\"https://www.uta-net.com/search/?Aselect={search_type}&Bselect=3&Keyword={urllib.parse.quote(keyword)}&sort={sort_type}&pnum={page_num}\"\n",
    "    \n",
    "    def remove_stop_words(self,words=[], stop_words=[]):\n",
    "        if len(stop_words)> 0:\n",
    "            self.stop_wrods = stop_words\n",
    "        return [word for word in words if word not in self.stop_words]\n",
    "        \n",
    "    def extract_track_urls(self, td_list, fetch_cnt):\n",
    "        track_urls = []\n",
    "        for td in td_list:\n",
    "          # a タグのリストを取得し、1つずつ処理\n",
    "          for a in self.get_tags(td, 'a'):\n",
    "            # aタグのhref属性を取得\n",
    "            href = a.get('href')\n",
    "            # URLに'song'が入っている場合\n",
    "            if 'song' in href:\n",
    "              # track_urls に完全なURLを追加\n",
    "              track_urls.append(BASE_URL + href)\n",
    "        print(len(track_urls[:fetch_cnt]))\n",
    "        return track_urls[:fetch_cnt]\n",
    "\n",
    "    def get_tags(self, page, target_tag):\n",
    "        soup = bs4.BeautifulSoup(str(page), 'html.parser')\n",
    "        tags = soup.find_all(target_tag)\n",
    "        return tags\n",
    "\n",
    "    def load_page(self, url):\n",
    "        response = requests.get(url)\n",
    "        response.raise_for_status()\n",
    "        return response.text \n",
    "\n",
    "    def fetch_lyric(self, track_url):\n",
    "        if track_url == \"\":\n",
    "            return None\n",
    "        lyric_page = self.load_page(track_url)\n",
    "        soup = bs4.BeautifulSoup(lyric_page, 'html.parser')\n",
    "        # アクセス過多を防ぐために１秒間休止\n",
    "        time.sleep(1)\n",
    "        return soup.find(id='kashi_area').text.replace('　', ' ')\n",
    "\n",
    "    def run_fetch(self, fetch_cnt=10, sort_type=POPULAR_ASC):\n",
    "        page_num= int(fetch_cnt / 200) if fetch_cnt % 200 == 0 else int(fetch_cnt / 200) +1\n",
    "        for page in tqdm(range(1, page_num + 1)):\n",
    "        # url 作成\n",
    "            url= self.build_list_url(self.artist_name, sort_type,page)\n",
    "            try:\n",
    "            # アーティストページ取得\n",
    "                artist_page= self.load_page(url)\n",
    "            except Exception as e:\n",
    "                print(e)\n",
    "                break\n",
    "            # td_list を作成\n",
    "            td_list = self.get_tags(artist_page, 'td')\n",
    "            # そこから曲のurlリストを抽出\n",
    "            track_urls= self.extract_track_urls(td_list, fetch_cnt)\n",
    "\n",
    "            for track_url in tqdm(track_urls):\n",
    "                self.lyrics_list.append(self.fetch_lyric(track_url))\n",
    "\n",
    "    # return self.lyrics_list"
   ]
  },
  {
   "cell_type": "code",
   "execution_count": 14,
   "metadata": {
    "colab": {
     "base_uri": "https://localhost:8080/",
     "height": 443,
     "referenced_widgets": [
      "dddf7e91294a440aa87c8685e4156e73",
      "b53e63945ae44423bdbb59b7b128ab75",
      "dff0df5b98dd4ea4a83ad850bab4ce4d",
      "cb57607642b44d2badd2362ebbffd896",
      "e21b8159e7bc4d4e8c06aad3ceca5d3d",
      "a6af5129790b4da9a34ff02b85b6aa83",
      "c77fa8d06ff640b9822db7abf34e0e55",
      "d95f842c3723449588ca92a839fed2c9"
     ]
    },
    "colab_type": "code",
    "id": "NUGYGjRW1b0J",
    "outputId": "01e30419-44de-41e3-cd23-04734230fb55"
   },
   "outputs": [
    {
     "name": "stderr",
     "output_type": "stream",
     "text": [
      "/opt/anaconda3/lib/python3.7/site-packages/ipykernel_launcher.py:64: TqdmDeprecationWarning: This function will be removed in tqdm==5.0.0\n",
      "Please use `tqdm.notebook.tqdm` instead of `tqdm.tqdm_notebook`\n"
     ]
    },
    {
     "data": {
      "application/vnd.jupyter.widget-view+json": {
       "model_id": "dd0afc0bf1b04e0ba77c3539798624af",
       "version_major": 2,
       "version_minor": 0
      },
      "text/plain": [
       "HBox(children=(FloatProgress(value=0.0, max=10.0), HTML(value='')))"
      ]
     },
     "metadata": {},
     "output_type": "display_data"
    },
    {
     "name": "stdout",
     "output_type": "stream",
     "text": [
      "200\n"
     ]
    },
    {
     "name": "stderr",
     "output_type": "stream",
     "text": [
      "/opt/anaconda3/lib/python3.7/site-packages/ipykernel_launcher.py:74: TqdmDeprecationWarning: This function will be removed in tqdm==5.0.0\n",
      "Please use `tqdm.notebook.tqdm` instead of `tqdm.tqdm_notebook`\n"
     ]
    },
    {
     "data": {
      "application/vnd.jupyter.widget-view+json": {
       "model_id": "37af74a904bc454ea8e602cb67b12fd4",
       "version_major": 2,
       "version_minor": 0
      },
      "text/plain": [
       "HBox(children=(FloatProgress(value=0.0, max=200.0), HTML(value='')))"
      ]
     },
     "metadata": {},
     "output_type": "display_data"
    },
    {
     "name": "stdout",
     "output_type": "stream",
     "text": [
      "\n",
      "200\n"
     ]
    },
    {
     "data": {
      "application/vnd.jupyter.widget-view+json": {
       "model_id": "20f1ffa40eee415ab3d7378235a852cc",
       "version_major": 2,
       "version_minor": 0
      },
      "text/plain": [
       "HBox(children=(FloatProgress(value=0.0, max=200.0), HTML(value='')))"
      ]
     },
     "metadata": {},
     "output_type": "display_data"
    },
    {
     "name": "stdout",
     "output_type": "stream",
     "text": [
      "\n",
      "200\n"
     ]
    },
    {
     "data": {
      "application/vnd.jupyter.widget-view+json": {
       "model_id": "fb79987d5b024262abd63083c1c4c712",
       "version_major": 2,
       "version_minor": 0
      },
      "text/plain": [
       "HBox(children=(FloatProgress(value=0.0, max=200.0), HTML(value='')))"
      ]
     },
     "metadata": {},
     "output_type": "display_data"
    },
    {
     "name": "stdout",
     "output_type": "stream",
     "text": [
      "\n",
      "200\n"
     ]
    },
    {
     "data": {
      "application/vnd.jupyter.widget-view+json": {
       "model_id": "b4f99b9429664582a388d7fd69dbe5e6",
       "version_major": 2,
       "version_minor": 0
      },
      "text/plain": [
       "HBox(children=(FloatProgress(value=0.0, max=200.0), HTML(value='')))"
      ]
     },
     "metadata": {},
     "output_type": "display_data"
    },
    {
     "name": "stdout",
     "output_type": "stream",
     "text": [
      "\n",
      "200\n"
     ]
    },
    {
     "data": {
      "application/vnd.jupyter.widget-view+json": {
       "model_id": "5982c9679c984ee3b299d9732dae536e",
       "version_major": 2,
       "version_minor": 0
      },
      "text/plain": [
       "HBox(children=(FloatProgress(value=0.0, max=200.0), HTML(value='')))"
      ]
     },
     "metadata": {},
     "output_type": "display_data"
    },
    {
     "name": "stdout",
     "output_type": "stream",
     "text": [
      "\n",
      "200\n"
     ]
    },
    {
     "data": {
      "application/vnd.jupyter.widget-view+json": {
       "model_id": "9d1f8385350744eb843817cb7ab2245a",
       "version_major": 2,
       "version_minor": 0
      },
      "text/plain": [
       "HBox(children=(FloatProgress(value=0.0, max=200.0), HTML(value='')))"
      ]
     },
     "metadata": {},
     "output_type": "display_data"
    },
    {
     "name": "stdout",
     "output_type": "stream",
     "text": [
      "\n",
      "200\n"
     ]
    },
    {
     "data": {
      "application/vnd.jupyter.widget-view+json": {
       "model_id": "18b7f5e9ebb348478163e6aae3cd65f5",
       "version_major": 2,
       "version_minor": 0
      },
      "text/plain": [
       "HBox(children=(FloatProgress(value=0.0, max=200.0), HTML(value='')))"
      ]
     },
     "metadata": {},
     "output_type": "display_data"
    },
    {
     "name": "stdout",
     "output_type": "stream",
     "text": [
      "\n",
      "200\n"
     ]
    },
    {
     "data": {
      "application/vnd.jupyter.widget-view+json": {
       "model_id": "0606a3e9704e47749dd2d89f0b14eae1",
       "version_major": 2,
       "version_minor": 0
      },
      "text/plain": [
       "HBox(children=(FloatProgress(value=0.0, max=200.0), HTML(value='')))"
      ]
     },
     "metadata": {},
     "output_type": "display_data"
    },
    {
     "name": "stdout",
     "output_type": "stream",
     "text": [
      "\n",
      "200\n"
     ]
    },
    {
     "data": {
      "application/vnd.jupyter.widget-view+json": {
       "model_id": "51a5346c6b08480c85dc9684324dd2cf",
       "version_major": 2,
       "version_minor": 0
      },
      "text/plain": [
       "HBox(children=(FloatProgress(value=0.0, max=200.0), HTML(value='')))"
      ]
     },
     "metadata": {},
     "output_type": "display_data"
    },
    {
     "name": "stdout",
     "output_type": "stream",
     "text": [
      "\n",
      "200\n"
     ]
    },
    {
     "data": {
      "application/vnd.jupyter.widget-view+json": {
       "model_id": "530a42a895fd4c3aaa5ea66920d40390",
       "version_major": 2,
       "version_minor": 0
      },
      "text/plain": [
       "HBox(children=(FloatProgress(value=0.0, max=200.0), HTML(value='')))"
      ]
     },
     "metadata": {},
     "output_type": "display_data"
    },
    {
     "name": "stdout",
     "output_type": "stream",
     "text": [
      "\n",
      "\n"
     ]
    }
   ],
   "source": [
    "akimoto_lyrics = LyricFetcher(\"秋元康\")\n",
    "akimoto_lyrics.run_fetch(fetch_cnt=20, sort_type=POPULAR_ASC)"
   ]
  },
  {
   "cell_type": "code",
   "execution_count": 20,
   "metadata": {},
   "outputs": [],
   "source": [
    "from sklearn.model_selection import train_test_split\n",
    "train, valid,_,_= train_test_split(total, list(range(2000)),test_size =.15,random_state=0)\n",
    "\n",
    "import gc\n",
    "# del akimoto_lyrics, _\n",
    "# gc.collect()\n",
    "\n",
    "path_w = \"./train.txt\"\n",
    "with open(path_w, mode='w') as f:\n",
    "    \n",
    "    for lyric in train:\n",
    "        row= mecab_parser(lyric)\n",
    "        f.write(\" \".join(row))  \n",
    "path_w = \"./valid.txt\"\n",
    "with open(path_w, mode='w') as f:\n",
    "    \n",
    "    for lyric in valid:\n",
    "        row= mecab_parser(lyric)\n",
    "        f.write(\" \".join(row)) "
   ]
  },
  {
   "cell_type": "code",
   "execution_count": 56,
   "metadata": {},
   "outputs": [
    {
     "data": {
      "text/plain": [
       "\"思い出マイフレンド今でもマイフレンドああ 白い風力発電の羽がゆっくり 回っているよああ 僕が生まれた大地はいつだってどこからか風が吹いていた変わらない毎日が退屈で嫌だったトランクに夢詰めて1人 飛び乗った長距離バスHow are you doing？ 久しぶりだラベンダーの香りの季節深呼吸をしたくなる空気帰って来た気がするよHow are you doing？ 懐かしいねあの頃のみんなは元気なのか？新しい自分探して遠くまで行ったけれど青い空が続いてただけだ故郷(ふるさと)マイフレンドあれからマイフレンドああ 国道沿いの看板には未来の街が描(えが)かれてるよああ いつか過ぎてく時代に挫折した僕だけが取り残されるんだ旧式のトラクター煙吐(は)き やって来た大声で叫ぶのは何も変わらない幼馴染I'm fine, and you？ ボチボチだよ都会暮らしに疲れてしまった自然だけしかないと思ってた実家が恋しくなったI'm fine, and you？ いつの間にか僕たちは大人になったのかな送ろうか？と言われたけどありがとうと断った自分の足で歩いて行くよ思い出マイフレンドHow are you doing？ 久しぶりだラベンダーの香りの季節深呼吸をしたくなる空気帰って来た気がするよHow are you doing？ 懐かしいねあの頃のみんなは元気なのか？新しい自分探して遠くまで行ったけれど夢の涯(はて)にあったもの青い空がずっと続くだけ思い出マイフレンドただいまマイフレンド\""
      ]
     },
     "execution_count": 56,
     "metadata": {},
     "output_type": "execute_result"
    }
   ],
   "source": [
    "akimoto_lyrics.lyrics_list[0]"
   ]
  },
  {
   "cell_type": "code",
   "execution_count": 21,
   "metadata": {
    "colab": {},
    "colab_type": "code",
    "id": "aQaMKJ8tuo3a"
   },
   "outputs": [],
   "source": [
    "from transformers import BertJapaneseTokenizer\n",
    "tokenizer = BertJapaneseTokenizer.from_pretrained('bert-base-japanese-whole-word-masking')\n",
    "track_tokens=[tokenizer.tokenize(lyrics) for lyrics in akimoto_lyrics.lyrics_list]"
   ]
  },
  {
   "cell_type": "code",
   "execution_count": 24,
   "metadata": {
    "colab": {},
    "colab_type": "code",
    "id": "i5IiKemYCHH5"
   },
   "outputs": [
    {
     "data": {
      "text/plain": [
       "['思い出', 'マイ', 'フレンド', '今', 'でも', 'マイ', '##フレンド', 'あ', '##あ', '白い']"
      ]
     },
     "execution_count": 24,
     "metadata": {},
     "output_type": "execute_result"
    }
   ],
   "source": [
    "track_tokens[0][:10]"
   ]
  },
  {
   "cell_type": "code",
   "execution_count": 19,
   "metadata": {},
   "outputs": [
    {
     "ename": "ImportError",
     "evalue": "cannot import name 'WarmupLinearSchedule' from 'transformers.optimization' (/opt/anaconda3/lib/python3.7/site-packages/transformers/optimization.py)",
     "output_type": "error",
     "traceback": [
      "\u001b[0;31m---------------------------------------------------------------------------\u001b[0m",
      "\u001b[0;31mImportError\u001b[0m                               Traceback (most recent call last)",
      "\u001b[0;32m<ipython-input-19-4c6ddc82461a>\u001b[0m in \u001b[0;36m<module>\u001b[0;34m\u001b[0m\n\u001b[0;32m----> 1\u001b[0;31m \u001b[0;32mfrom\u001b[0m \u001b[0mtransformers\u001b[0m\u001b[0;34m.\u001b[0m\u001b[0moptimization\u001b[0m \u001b[0;32mimport\u001b[0m \u001b[0mAdamW\u001b[0m\u001b[0;34m,\u001b[0m \u001b[0mWarmupLinearSchedule\u001b[0m\u001b[0;34m\u001b[0m\u001b[0;34m\u001b[0m\u001b[0m\n\u001b[0m",
      "\u001b[0;31mImportError\u001b[0m: cannot import name 'WarmupLinearSchedule' from 'transformers.optimization' (/opt/anaconda3/lib/python3.7/site-packages/transformers/optimization.py)"
     ]
    }
   ],
   "source": [
    "from transformers.optimization import AdamW, WarmupLinearSchedule"
   ]
  },
  {
   "cell_type": "code",
   "execution_count": 96,
   "metadata": {},
   "outputs": [],
   "source": [
    "from transformers import get_linear_schedule_with_warmup"
   ]
  },
  {
   "cell_type": "code",
   "execution_count": 34,
   "metadata": {},
   "outputs": [
    {
     "data": {
      "text/plain": [
       "10"
      ]
     },
     "execution_count": 34,
     "metadata": {},
     "output_type": "execute_result"
    }
   ],
   "source": [
    "lys= _akimoto_lyrics.lyrics_list[40:]\n",
    "len(lys)"
   ]
  }
 ],
 "metadata": {
  "colab": {
   "collapsed_sections": [],
   "include_colab_link": true,
   "name": "[Python講座]第5回歌詞サイトのスクレイピング.ipynb",
   "provenance": [],
   "toc_visible": true
  },
  "kernelspec": {
   "display_name": "Python 3",
   "language": "python",
   "name": "python3"
  },
  "language_info": {
   "codemirror_mode": {
    "name": "ipython",
    "version": 3
   },
   "file_extension": ".py",
   "mimetype": "text/x-python",
   "name": "python",
   "nbconvert_exporter": "python",
   "pygments_lexer": "ipython3",
   "version": "3.7.4"
  },
  "toc-autonumbering": true,
  "widgets": {
   "application/vnd.jupyter.widget-state+json": {
    "a6af5129790b4da9a34ff02b85b6aa83": {
     "model_module": "@jupyter-widgets/base",
     "model_name": "LayoutModel",
     "state": {
      "_model_module": "@jupyter-widgets/base",
      "_model_module_version": "1.2.0",
      "_model_name": "LayoutModel",
      "_view_count": null,
      "_view_module": "@jupyter-widgets/base",
      "_view_module_version": "1.2.0",
      "_view_name": "LayoutView",
      "align_content": null,
      "align_items": null,
      "align_self": null,
      "border": null,
      "bottom": null,
      "display": null,
      "flex": null,
      "flex_flow": null,
      "grid_area": null,
      "grid_auto_columns": null,
      "grid_auto_flow": null,
      "grid_auto_rows": null,
      "grid_column": null,
      "grid_gap": null,
      "grid_row": null,
      "grid_template_areas": null,
      "grid_template_columns": null,
      "grid_template_rows": null,
      "height": null,
      "justify_content": null,
      "justify_items": null,
      "left": null,
      "margin": null,
      "max_height": null,
      "max_width": null,
      "min_height": null,
      "min_width": null,
      "object_fit": null,
      "object_position": null,
      "order": null,
      "overflow": null,
      "overflow_x": null,
      "overflow_y": null,
      "padding": null,
      "right": null,
      "top": null,
      "visibility": null,
      "width": null
     }
    },
    "b53e63945ae44423bdbb59b7b128ab75": {
     "model_module": "@jupyter-widgets/base",
     "model_name": "LayoutModel",
     "state": {
      "_model_module": "@jupyter-widgets/base",
      "_model_module_version": "1.2.0",
      "_model_name": "LayoutModel",
      "_view_count": null,
      "_view_module": "@jupyter-widgets/base",
      "_view_module_version": "1.2.0",
      "_view_name": "LayoutView",
      "align_content": null,
      "align_items": null,
      "align_self": null,
      "border": null,
      "bottom": null,
      "display": null,
      "flex": null,
      "flex_flow": null,
      "grid_area": null,
      "grid_auto_columns": null,
      "grid_auto_flow": null,
      "grid_auto_rows": null,
      "grid_column": null,
      "grid_gap": null,
      "grid_row": null,
      "grid_template_areas": null,
      "grid_template_columns": null,
      "grid_template_rows": null,
      "height": null,
      "justify_content": null,
      "justify_items": null,
      "left": null,
      "margin": null,
      "max_height": null,
      "max_width": null,
      "min_height": null,
      "min_width": null,
      "object_fit": null,
      "object_position": null,
      "order": null,
      "overflow": null,
      "overflow_x": null,
      "overflow_y": null,
      "padding": null,
      "right": null,
      "top": null,
      "visibility": null,
      "width": null
     }
    },
    "c77fa8d06ff640b9822db7abf34e0e55": {
     "model_module": "@jupyter-widgets/controls",
     "model_name": "DescriptionStyleModel",
     "state": {
      "_model_module": "@jupyter-widgets/controls",
      "_model_module_version": "1.5.0",
      "_model_name": "DescriptionStyleModel",
      "_view_count": null,
      "_view_module": "@jupyter-widgets/base",
      "_view_module_version": "1.2.0",
      "_view_name": "StyleView",
      "description_width": ""
     }
    },
    "cb57607642b44d2badd2362ebbffd896": {
     "model_module": "@jupyter-widgets/controls",
     "model_name": "HTMLModel",
     "state": {
      "_dom_classes": [],
      "_model_module": "@jupyter-widgets/controls",
      "_model_module_version": "1.5.0",
      "_model_name": "HTMLModel",
      "_view_count": null,
      "_view_module": "@jupyter-widgets/controls",
      "_view_module_version": "1.5.0",
      "_view_name": "HTMLView",
      "description": "",
      "description_tooltip": null,
      "layout": "IPY_MODEL_d95f842c3723449588ca92a839fed2c9",
      "placeholder": "​",
      "style": "IPY_MODEL_c77fa8d06ff640b9822db7abf34e0e55",
      "value": "100% 20/20 [00:26&lt;00:00,  1.32s/it]"
     }
    },
    "d95f842c3723449588ca92a839fed2c9": {
     "model_module": "@jupyter-widgets/base",
     "model_name": "LayoutModel",
     "state": {
      "_model_module": "@jupyter-widgets/base",
      "_model_module_version": "1.2.0",
      "_model_name": "LayoutModel",
      "_view_count": null,
      "_view_module": "@jupyter-widgets/base",
      "_view_module_version": "1.2.0",
      "_view_name": "LayoutView",
      "align_content": null,
      "align_items": null,
      "align_self": null,
      "border": null,
      "bottom": null,
      "display": null,
      "flex": null,
      "flex_flow": null,
      "grid_area": null,
      "grid_auto_columns": null,
      "grid_auto_flow": null,
      "grid_auto_rows": null,
      "grid_column": null,
      "grid_gap": null,
      "grid_row": null,
      "grid_template_areas": null,
      "grid_template_columns": null,
      "grid_template_rows": null,
      "height": null,
      "justify_content": null,
      "justify_items": null,
      "left": null,
      "margin": null,
      "max_height": null,
      "max_width": null,
      "min_height": null,
      "min_width": null,
      "object_fit": null,
      "object_position": null,
      "order": null,
      "overflow": null,
      "overflow_x": null,
      "overflow_y": null,
      "padding": null,
      "right": null,
      "top": null,
      "visibility": null,
      "width": null
     }
    },
    "dddf7e91294a440aa87c8685e4156e73": {
     "model_module": "@jupyter-widgets/controls",
     "model_name": "HBoxModel",
     "state": {
      "_dom_classes": [],
      "_model_module": "@jupyter-widgets/controls",
      "_model_module_version": "1.5.0",
      "_model_name": "HBoxModel",
      "_view_count": null,
      "_view_module": "@jupyter-widgets/controls",
      "_view_module_version": "1.5.0",
      "_view_name": "HBoxView",
      "box_style": "",
      "children": [
       "IPY_MODEL_dff0df5b98dd4ea4a83ad850bab4ce4d",
       "IPY_MODEL_cb57607642b44d2badd2362ebbffd896"
      ],
      "layout": "IPY_MODEL_b53e63945ae44423bdbb59b7b128ab75"
     }
    },
    "dff0df5b98dd4ea4a83ad850bab4ce4d": {
     "model_module": "@jupyter-widgets/controls",
     "model_name": "IntProgressModel",
     "state": {
      "_dom_classes": [],
      "_model_module": "@jupyter-widgets/controls",
      "_model_module_version": "1.5.0",
      "_model_name": "IntProgressModel",
      "_view_count": null,
      "_view_module": "@jupyter-widgets/controls",
      "_view_module_version": "1.5.0",
      "_view_name": "ProgressView",
      "bar_style": "success",
      "description": "",
      "description_tooltip": null,
      "layout": "IPY_MODEL_a6af5129790b4da9a34ff02b85b6aa83",
      "max": 20,
      "min": 0,
      "orientation": "horizontal",
      "style": "IPY_MODEL_e21b8159e7bc4d4e8c06aad3ceca5d3d",
      "value": 20
     }
    },
    "e21b8159e7bc4d4e8c06aad3ceca5d3d": {
     "model_module": "@jupyter-widgets/controls",
     "model_name": "ProgressStyleModel",
     "state": {
      "_model_module": "@jupyter-widgets/controls",
      "_model_module_version": "1.5.0",
      "_model_name": "ProgressStyleModel",
      "_view_count": null,
      "_view_module": "@jupyter-widgets/base",
      "_view_module_version": "1.2.0",
      "_view_name": "StyleView",
      "bar_color": null,
      "description_width": ""
     }
    }
   }
  }
 },
 "nbformat": 4,
 "nbformat_minor": 4
}
