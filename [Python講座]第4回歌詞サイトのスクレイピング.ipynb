{
 "cells": [
  {
   "cell_type": "markdown",
   "metadata": {
    "colab_type": "text",
    "id": "view-in-github"
   },
   "source": [
    "<a href=\"https://colab.research.google.com/github/EAakiyama3104/python_lecture/blob/master/%5BPython%E8%AC%9B%E5%BA%A7%5D%E7%AC%AC5%E5%9B%9E%E6%AD%8C%E8%A9%9E%E3%82%B5%E3%82%A4%E3%83%88%E3%81%AE%E3%82%B9%E3%82%AF%E3%83%AC%E3%82%A4%E3%83%94%E3%83%B3%E3%82%B0.ipynb\" target=\"_parent\"><img src=\"https://colab.research.google.com/assets/colab-badge.svg\" alt=\"Open In Colab\"/></a>"
   ]
  },
  {
   "cell_type": "markdown",
   "metadata": {
    "colab_type": "text",
    "id": "TD6cWizB3oJW"
   },
   "source": [
    "Webスクレイピングとは\n",
    "\n",
    "\n",
    "* Webサイトから情報を取得する技術\n",
    "* APIを公開していないサイトの情報も取得できる\n",
    "* HTMLを読み込んで、必要な情報を抜き出す必要がある\n",
    "\n",
    "手順\n",
    "\n",
    "\n",
    "1. HTTPリクエストを送り、HTMLのレスポンスを取得\n",
    "2. HTMLの中身を見て、必要な情報がある場所を確認\n",
    "3. HTMLから必要な情報を抽出\n",
    "\n",
    "\n",
    "\n"
   ]
  },
  {
   "cell_type": "markdown",
   "metadata": {
    "colab_type": "text",
    "id": "8nJ_uQ0N-5Xa"
   },
   "source": [
    "## アーティストのページから歌詞ページ一覧を取得"
   ]
  },
  {
   "cell_type": "markdown",
   "metadata": {
    "colab_type": "text",
    "id": "pQIP7r-K7Enp"
   },
   "source": [
    "今回は、Uta-Net からあるアーティスト(米津玄師)の歌詞をすべて取得。\n",
    "\n",
    "以下のページから情報を取得\n",
    "\n",
    "* アーティストページ - 曲ページのURLをすべて取得\n",
    "* 曲ページ(歌詞ページ) - 歌詞を取得"
   ]
  },
  {
   "cell_type": "markdown",
   "metadata": {
    "colab_type": "text",
    "id": "6EF2_GVE-3fA"
   },
   "source": [
    "requests について\n",
    "\n",
    "* PythonのコードからHTTPリクエストを送るためのライブラリ\n",
    "* 使い方が簡単\n",
    "\n",
    "\n",
    "https://requests-docs-ja.readthedocs.io/en/latest/"
   ]
  },
  {
   "cell_type": "markdown",
   "metadata": {
    "colab_type": "text",
    "id": "YxdTsRHiAA31"
   },
   "source": [
    "beatiful soup について\n",
    "\n",
    "* HTMLやXMLからデータを抽出するためのライブラリ\n",
    "* 様々な条件でHTML上のデータの位置を指定\n",
    "\n",
    "機能が多いので、使用の際はリファレンスを読むことをおすすめします。\n",
    "http://kondou.com/BS4/"
   ]
  },
  {
   "cell_type": "code",
   "execution_count": 36,
   "metadata": {
    "colab": {},
    "colab_type": "code",
    "id": "04XakvAP3fnP"
   },
   "outputs": [],
   "source": [
    "# 必要なライブラリをインポート\n",
    "import bs4\n",
    "import requests\n",
    "import time\n",
    "from pprint import pprint"
   ]
  },
  {
   "cell_type": "code",
   "execution_count": 37,
   "metadata": {
    "colab": {},
    "colab_type": "code",
    "id": "hWIhXU0XOOoJ"
   },
   "outputs": [],
   "source": [
    "# アーティストページ(米津玄師)のアドレス\n",
    "ARTIST_URL = 'https://www.uta-net.com/artist/11591/'\n",
    "\n",
    "# 曲ページの先頭アドレス\n",
    "BASE_URL = 'https://www.uta-net.com'"
   ]
  },
  {
   "cell_type": "code",
   "execution_count": 38,
   "metadata": {
    "colab": {},
    "colab_type": "code",
    "id": "VOB5hZ5eCQOf"
   },
   "outputs": [],
   "source": [
    "# ページを読み込むFunction\n",
    "def load_page(url):\n",
    "  response = requests.get(url)\n",
    "  response.raise_for_status()\n",
    "  return response.text"
   ]
  },
  {
   "cell_type": "code",
   "execution_count": 39,
   "metadata": {
    "colab": {},
    "colab_type": "code",
    "id": "psB7BJQrOeFG"
   },
   "outputs": [],
   "source": [
    "artist_page = load_page(ARTIST_URL)"
   ]
  },
  {
   "cell_type": "code",
   "execution_count": 40,
   "metadata": {
    "colab": {
     "base_uri": "https://localhost:8080/",
     "height": 54
    },
    "colab_type": "code",
    "id": "L_hFWQJiwKwN",
    "outputId": "cd9660d7-4e14-4bc2-bc9e-f02dc96af21f",
    "scrolled": true
   },
   "outputs": [
    {
     "data": {
      "text/plain": [
       "'<!DOCTYPE html PUBLIC \"-//W3C//DTD HTML 4.01 Transitional//EN\" \"//www.w3.org/TR/html4/loose.dtd\">\\r\\n<html xmlns:og=\"http://ogp.me/ns#\" xmlns:mixi=\"http://mixi-platform.com/ns#\" lang=\"ja\">\\r\\n<head>\\r\\n\\t<meta http-equiv=\"Content-Type\" content=\"text/html; charset=UTF-8\">\\r\\n\\t<title>LiSAの歌詞一覧リスト - 歌ネット</title>\\r\\n\\t<meta name=\"description\" content=\"LiSAの歌詞一覧リストページです。歌詞検索サービス歌ネットに登録されている「LiSA」の歌詞の曲目一覧を掲載しています。I doubt it,ID,I&#039;m a Rock star,赤い罠(who loves it?),AxxxiS,アコガレ望遠鏡,アシアトコンパス,ADAMAS\\u3000歌ネットは無料の歌詞検索サービスです。 \">\\r\\n\\t<meta name=\"keywords\" content=\"LiSA,歌詞,I doubt it,ID,I&#039;m a Rock star,赤い罠(who loves it?),AxxxiS,アコガレ望遠鏡,アシアトコンパス,ADAMAS\">\\r\\n\\t<meta name=\"viewport\" content=\"width=1190, maximum-scale=1, user-scalable=1\">\\r\\n\\t<link rel=\"Bookmark\" href=\"https://www.uta-net.com/\" title=\"歌詞検索の歌ネット\">\\r\\n\\t<link rel=\"canonical\" href=\"https://www.uta-net.com/artist/11591/\">\\r\\n\\t<link rel=\"alternate\" media=\"only screen and (max-width: 640px)\" href=\"https://sp.uta-net.com/artist/11591/\">\\r\\n\\t<meta http-equiv=\"Content-Style-Type\" content=\"text/css\">\\r\\n\\t<meta http-equiv=\"content-script-type\" content=\"text/javascript\">\\r\\n\\t<link rel=\"stylesheet\" href=\"/libs/css/import.css?20181220\" type=\"text/css\">\\r\\n\\t<link rel=\"stylesheet\" href=\"/libs/css/search.css?20200310\" type=\"text/css\">\\r\\n\\t<!-- Google Tag Manager -->\\r\\n\\t<script>(function(w,d,s,l,i){w[l]=w[l]||[];w[l].push({\\'gtm.start\\':\\r\\n\\tnew Date().getTime(),event:\\'gtm.js\\'});var f=d.getElementsByTagName(s)[0],\\r\\n\\tj=d.createElement(s),dl=l!=\\'dataLayer\\'?\\'&l=\\'+l:\\'\\';j.async=true;j.src=\\r\\n\\t\\'https://www.googletagmanager.com/gtm.js?id=\\'+i+dl;f.parentNode.insertBefore(j,f);\\r\\n\\t})(window,document,\\'script\\',\\'dataLayer\\',\\'GTM-KKM6Z39\\');</script>\\r\\n\\t<!-- End Google Tag Manager -->\\r\\n\\t<script type=\"text/javascript\" src=\"//ajax.googleapis.com/ajax/libs/jquery/1.6.1/jquery.min.js\"></script>\\r\\n\\t<script type=\"text/javascript\" src=\"/libs/js/common.js?2018020801\"></script>\\r\\n\\t<script type=\"text/javascript\" src=\"/libs/js/navimenu.js\"></script>\\r\\n\\t<script type=\"text/javascript\" src=\"/libs/js/movie.js?20190910\"></script>\\r\\n\\t<!-- flashbanner表示用ライブラリ -->\\r\\n\\t<script type=\"text/javascript\" src=\"/libs/js/swfwrite.js\"></script>\\r\\n\\t<!-- 動画バナー用スタイル追加 2013.10.16 -->\\r\\n\\t<script type=\"text/javascript\" src=\"/libs/js/thickbox_usr.js\" charset=\"utf-8\"></script>\\r\\n\\t<link rel=\"stylesheet\" href=\"/libs/css/thickbox.css?20150315\" type=\"text/css\">\\r\\n\\r\\n<script type=\"text/javascript\">\\r\\n(function(){\\r\\nvar script = document.createElement(\\'script\\');\\r\\nscript.async = true;\\r\\nscript.type = \\'text/javascript\\';\\r\\nscript.src = \\'https://ads.pubmatic.com/AdServer/js/userSync.js\\';\\r\\nscript.onload = function(){\\r\\nPubMaticSync.sync({\\r\\npubId:158337,\\r\\nurl: \\'https://publisher.com/cookieSyncEndPoint?pubmatic_uid=(PM_UID)\\',\\r\\nmacro: \\'(PM_UID)\\',\\r\\n});   \\r\\n}\\r\\nvar node = document.getElementsByTagName(\\'script\\')[0];\\r\\nnode.parentNode.insertBefore(script, node);\\r\\n})();\\r\\n</script>\\r\\n<!-- https://support.google.com/dfp_premium/answer/4578089?hl=ja -->\\r\\n<script async=\\'async\\' src=\\'https://www.googletagservices.com/tag/js/gpt.js\\'></script>\\r\\n<script type=\"text/javascript\" src=\"//ads.rubiconproject.com/prebid/18866_v2_prod.js\"></script>\\r\\n<script>\\r\\n\\tvar googletag = googletag || {};\\r\\n\\tgoogletag.cmd = googletag.cmd || [];\\r\\n\\r\\n    var headerBiddingSlots = [];\\r\\n    var nonHeaderBiddingSlots = [];\\r\\n\\r\\n    var pbjs = pbjs || {};\\r\\n    pbjs.que = pbjs.que || [];\\r\\n</script>\\r\\n<script>\\r\\nvar slotA;\\r\\nvar slotB;\\r\\nvar slotC;\\r\\nvar slotD;\\r\\nvar slot1;\\r\\nvar slot2;\\r\\ngoogletag.cmd.push(function() {\\r\\n\\r\\n\\t// 出し分け\\r\\n\\tvar mappingPC = googletag.sizeMapping()\\r\\n\\t\\t\\t.addSize([1500, 10], [[160, 600], [300, 600]]) // 横幅1500~\\r\\n\\t\\t\\t.addSize([1220, 10], [[160, 600]]) // 横幅1220-1499~\\r\\n\\t\\t\\t.addSize([0, 0], []) // 横幅1219以下非表示\\r\\n\\t\\t\\t.build();\\r\\n\\r\\n\\t// 一覧ビルボード 常にだす\\r\\n\\tslotA = googletag.defineSlot(\\'/9168657/PC_一覧_ビルボード_900x200or970x250\\',\\r\\n\\t\\t\\t[[900, 200], [970, 250], [1, 1]], \\'div-gpt-ad-1512553058814-0\\')\\r\\n\\t\\t\\t.addService(googletag.pubads().addEventListener(\\'slotRenderEnded\\', function (event) {\\r\\n\\t\\t\\t\\t// 関数内部でslot名を使用。変更時は要確認\\r\\n\\t\\t\\t\\tcallback_getSize(event);\\r\\n\\t\\t\\t})).setCollapseEmptyDiv(true, true);\\r\\n\\r\\n\\t// 最上部[1] 常にだす\\r\\n\\tslotB = googletag.defineSlot(\\'/9168657/PC_一覧_ヘッダー_728x90\\', [728, 90], \\'div-gpt-ad-1506841771279-0\\')\\r\\n\\t\\t\\t.addService(googletag.pubads());\\r\\n\\r\\n\\t// 最下部左[3] 常にだす\\r\\n\\tslotC = googletag.defineSlot(\\'/9168657/PC_一覧_フッター左_300x250\\', [300, 250], \\'div-gpt-ad-1506841771279-2\\')\\r\\n\\t\\t\\t.addService(googletag.pubads());\\r\\n\\r\\n\\t// 最下部右[4] 常にだす\\r\\n\\tslotD = googletag.defineSlot(\\'/9168657/PC_一覧_フッター右_300x250\\', [300, 250], \\'div-gpt-ad-1506841771279-3\\')\\r\\n\\t\\t\\t.addService(googletag.pubads());\\r\\n\\r\\n\\t// 以下出し分け\\r\\n\\tslot1 = googletag.defineSlot(\\'/9168657/PC_一覧_サイド左_160x600or300x600\\', [[160, 600], [300, 600]], \\'div-gpt-ad-1515057359832-0\\')\\r\\n\\t\\t\\t.defineSizeMapping(mappingPC)\\r\\n\\t\\t\\t.addService(googletag.pubads());\\r\\n\\r\\n\\tslot2 = googletag.defineSlot(\\'/9168657/PC_一覧_サイド右_160x600or300x600\\', [[160, 600], [300, 600]], \\'div-gpt-ad-1515057359832-1\\')\\r\\n\\t\\t\\t.defineSizeMapping(mappingPC)\\r\\n\\t\\t\\t.addService(googletag.pubads());\\r\\n\\r\\n\\t// Prebid.jsの対象枠設定\\r\\n\\theaderBiddingSlots.push(slotB);\\r\\n\\theaderBiddingSlots.push(slotC);\\r\\n\\theaderBiddingSlots.push(slotD);\\r\\n\\theaderBiddingSlots.push(slot1);\\r\\n\\theaderBiddingSlots.push(slot2);\\r\\n\\r\\n\\t// HeaderBiddingの対象枠外枠の設定\\r\\n\\tnonHeaderBiddingSlots.push(slotA);\\r\\n\\r\\n\\r\\n    googletag.pubads().disableInitialLoad();\\r\\n    googletag.pubads().enableSingleRequest();\\r\\n    googletag.pubads().collapseEmptyDivs();\\r\\n    googletag.enableServices();\\r\\n\\t\\r\\n\\t\\t// HeaderBiddingの対象枠外枠は即座にrefresh\\r\\n\\tgoogletag.pubads().refresh(nonHeaderBiddingSlots);\\r\\n\\r\\n\\t// Prebid.jsの呼び出し\\r\\n\\tpbjs.rp.requestBids({\\r\\n\\t\\tcallback: sendAdserverRequest,\\r\\n\\t\\tgptSlotObjects: headerBiddingSlots\\r\\n\\t});\\r\\n\\t\\t\\r\\n  });\\r\\n</script>\\r\\n<!-- Prebid.js + Amazon aspstag common beging -->\\r\\n<script type=\"text/javascript\">\\r\\n\\tvar isBidDone = {\\r\\n\\t\\tprebid: false,\\r\\n\\t\\tamazon: false\\r\\n\\t};\\r\\n\\tvar commonSendAdserverRequest = function () {\\r\\n\\t\\tif (!isBidDone.prebid || !isBidDone.amazon) {\\r\\n\\t\\t\\treturn;\\r\\n\\t\\t}\\r\\n\\t\\tgoogletag.cmd.push(function () {\\r\\n\\t\\t\\tapstag.setDisplayBids();\\r\\n\\t\\t\\tgoogletag.pubads().refresh(headerBiddingSlots);\\r\\n\\t\\t});\\r\\n\\t};\\r\\n\\r\\n    pbjs.adserverRequestSent = false;\\r\\n\\tfunction sendAdserverRequest() {\\r\\n\\t\\tif (pbjs.adserverRequestSent)\\r\\n\\t\\t\\treturn;\\r\\n\\t\\tpbjs.adserverRequestSent = true;\\r\\n\\t\\tisBidDone.prebid = true;\\r\\n\\t\\tcommonSendAdserverRequest();\\r\\n\\t}\\r\\n</script>\\r\\n<!-- Prebid.js + Amazon aspstag common end -->\\r\\n\\r\\n<!--Amazonタグ/headに入れるタグ-->\\r\\n<script>\\r\\n\\t!function (a9, a, p, s, t, A, g) {\\r\\n\\t\\tif (a[a9])\\r\\n\\t\\t\\treturn;\\r\\n\\t\\tfunction q(c, r) {\\r\\n\\t\\t\\ta[a9]._Q.push([c, r])\\r\\n\\t\\t}\\r\\n\\t\\ta[a9] = {init: function () {\\r\\n\\t\\t\\t\\tq(\"i\", arguments)\\r\\n\\t\\t\\t}, fetchBids: function ()\\r\\n\\t\\t\\t{\\r\\n\\t\\t\\t\\tq(\"f\", arguments)\\r\\n\\t\\t\\t}, setDisplayBids: function () {}, _Q: []};\\r\\n\\t\\tA = p.createElement(s);\\r\\n\\t\\tA.async = !0;\\r\\n\\t\\tA.src = t;\\r\\n\\t\\tg = p.getElementsByTagName(s)[0];\\r\\n\\t\\tg.parentNode.insertBefore(A, g)\\r\\n\\t}(\"apstag\", window, document, \"script\", \"//c.amazon-adsystem.com/aax2/apstag.js\");\\r\\n\\tapstag.init({\\r\\n\\t\\tpubID: \\'3663\\', adServer: \\'googletag\\'\\r\\n\\t});\\r\\n\\r\\n\\tapstag.fetchBids({\\r\\n\\t\\tslots: [\\r\\n\\t\\t\\t{\\r\\n\\t\\t\\t\\tslotID: \\'div-gpt-ad-1506841771279-0\\',\\r\\n\\t\\t\\t\\tslotName: \\'9168657/PC_ichiran_header728x90\\',\\r\\n\\t\\t\\t\\tsizes: [[728, 90]]\\r\\n\\t\\t\\t},\\r\\n\\t\\t\\t{\\r\\n\\t\\t\\t\\tslotID: \\'div-gpt-ad-1515057359832-0\\',\\r\\n\\t\\t\\t\\tslotName: \\'9168657/PC_ichiran_sideLeft\\',\\r\\n\\t\\t\\t\\tsizes: [[300, 600], [160, 600]]\\r\\n\\t\\t\\t},\\r\\n\\t\\t\\t{\\r\\n\\t\\t\\t\\tslotID: \\'div-gpt-ad-1515057359832-1\\',\\r\\n\\t\\t\\t\\tslotName: \\'9168657/PC_ichiran_sideright\\',\\r\\n\\t\\t\\t\\tsizes: [[300, 600], [160, 600]]\\r\\n\\t\\t\\t},\\r\\n\\t\\t\\t{\\r\\n\\t\\t\\t\\tslotID: \\'div-gpt-ad-1506841771279-2\\',\\r\\n\\t\\t\\t\\tslotName: \\'9168657/PC_ichiran_footerrec_left\\',\\r\\n\\t\\t\\t\\tsizes: [[300, 250]]\\r\\n\\t\\t\\t},\\r\\n\\t\\t\\t{\\r\\n\\t\\t\\t\\tslotID: \\'div-gpt-ad-1506841771279-3\\',\\r\\n\\t\\t\\t\\tslotName: \\'9168657/PC_ichiran_footerrec_right\\',\\r\\n\\t\\t\\t\\tsizes: [[300, 250]]\\r\\n\\t\\t\\t},\\r\\n\\t\\t],\\r\\n\\t\\ttimeout: 2e3\\r\\n\\t}, function (bids) {\\r\\n\\t\\t// call common callback among pbjs and apstag\\r\\n\\t\\tisBidDone.amazon = true;\\r\\n\\t\\tcommonSendAdserverRequest();\\r\\n\\t});\\r\\n</script>\\r\\n<!--ココまでAmazonタグ/headに入れるタグ-->\\r\\n\\r\\n<!-- Prebid.js START -->\\r\\n<script type=\"text/javascript\">\\r\\n\\tvar FAILSAFE_TIMEOUT = 3000;\\r\\n\\r\\n\\tsetTimeout(function () {\\r\\n\\t\\tsendAdserverRequest();\\r\\n\\t}, FAILSAFE_TIMEOUT);\\r\\n</script>\\r\\n<!-- Prebid.js END -->\\r\\n\\r\\n\\r\\n<script type=\"application/ld+json\">\\r\\n[{\\r\\n\\t\"@context\": \"http://schema.org\",\\r\\n\\t\"@type\": \"MusicGroup\",\\r\\n\\t\"name\": \"LiSA\",\\r\\n\\t\"url\": \"https://www.uta-net.com/artist/11591/\"\\r\\n},{\\r\\n\\t\"@context\": \"http://schema.org\",\\r\\n\\t\"@type\": \"WebPage\",\\r\\n\\t\"name\":\"LiSAの歌詞一覧リスト - 歌ネット\",\\r\\n\\t\"url\":\"https://www.uta-net.com/artist/11591/\",\\r\\n\\t\"description\":\"LiSAの歌詞一覧リストページです。歌詞検索サービス歌ネットに登録されている「LiSA」の歌詞の曲目一覧を掲載しています。I doubt it,ID,I&#039;m a Rock star,赤い罠(who loves it?),AxxxiS,アコガレ望遠鏡,アシアトコンパス,ADAMAS\\u3000歌ネットは無料の歌詞検索サービスです。 \",\\r\\n\\t\"keywords\":\"LiSA,歌詞,I doubt it,ID,I&#039;m a Rock star,赤い罠(who loves it?),AxxxiS,アコガレ望遠鏡,アシアトコンパス,ADAMAS\",\\r\\n\\t\"copyrightHolder\":{\\r\\n     \"@type\": \"Organization\",\\r\\n     \"logo\":\"https://www.uta-net.com/reverse/mixi_check/uta_net_logo_m.gif\"\\r\\n }\\r\\n}]\\r\\n</script>\\r\\n</head>\\r\\n<body>\\r\\n\\r\\n<script type=\"text/javascript\" src=\"//d-cache.microad.jp/js/td_un_access.js\"></script>\\r\\n<script type=\"text/javascript\">\\r\\n  microadTd.UN.start({\"artist_id\": \"11591\" , \"artist_name\": \"LiSA\"})\\r\\n</script>\\r\\n\\r\\n<!-- Google Tag Manager (noscript) -->\\r\\n<noscript><iframe src=\"https://www.googletagmanager.com/ns.html?id=GTM-KKM6Z39\"\\r\\nheight=\"0\" width=\"0\" style=\"display:none;visibility:hidden\"></iframe></noscript>\\r\\n<!-- End Google Tag Manager (noscript) -->\\r\\n<!-- headerここから -->\\r\\n<div id=\"global_header\"><div id=\"h_top\"><div class=\"h_top_all clearfix\"><h1 style=\"max-width: 530px;text-overflow: ellipsis;overflow: hidden;white-space: nowrap;\">LiSA\\u3000歌詞リスト - 歌ネット</h1><ul class=\"sns_area\"><li class=\"facebook\"><a href=\"https://www.facebook.com/sharer.php?t=%E6%AD%8C%E8%A9%9E%E6%A4%9C%E7%B4%A2%E3%82%B5%E3%83%BC%E3%83%93%E3%82%B9%E3%80%8C%E6%AD%8C%E3%83%8D%E3%83%83%E3%83%88%E3%80%8D%E3%81%A9%E3%81%93%E3%82%88%E3%82%8A%E3%82%82%E6%97%A9%E3%81%84%E6%96%B0%E6%9B%B2%E6%AD%8C%E8%A9%9E%E3%82%92%E6%8E%B2%E8%BC%89%EF%BC%81$&amp;u=https%3A%2F%2Fwww.uta-net.com\" class=\"popWin\"><img src=\"/libs/img/block/icon_facebook.png\" alt=\"Face book\" width=\"24\" height=\"24\"></a></li><li class=\"twitter\"><a href=\"javascript:void(0);\"onclick=\"window.open(\\'https://twitter.com/share?url=https%3A%2F%2Fwww.uta-net.com&text=%E6%AD%8C%E8%A9%9E%E6%A4%9C%E7%B4%A2%E3%82%B5%E3%83%BC%E3%83%93%E3%82%B9%E3%80%8C%E6%AD%8C%E3%83%8D%E3%83%83%E3%83%88%E3%80%8D%E3%81%A9%E3%81%93%E3%82%88%E3%82%8A%E3%82%82%E6%97%A9%E3%81%84%E6%96%B0%E6%9B%B2%E6%AD%8C%E8%A9%9E%E3%82%92%E6%8E%B2%E8%BC%89%EF%BC%81&hashtags=utanet\\',\\'twitter\\',\\'width=632, height=456, location=yes, resizable=yes, toolbar=no, menubar=no, scrollbars=no, status=no\\');\"><img src=\"/libs/img/block/icon_twitter.png\" alt=\"Twitter\" width=\"24\" height=\"24\"></a></li><li class=\"mixi\"><a href=\"javascript:void(0);\" onClick=\"window.open(\\'https://mixi.jp/share.pl?u=https://www.uta-net.com&amp;k=5242948b9e5484677f6e1a9be6f404725cb4c334\\',\\'share\\',[\\'width=632\\',\\'height=456\\',\\'location=yes\\',\\'resizable=yes\\',\\'toolbar=no\\',\\'menubar=no\\',\\'scrollbars=no\\',\\'status=no\\'].join(\\',\\'));\"><img src=\"/libs/img/block/icon_mixi.png\" alt=\"mixiチェック\" width=\"24\" height=\"24\"></a></li></ul><ul class=\"link\"><li><a class=\"login\" href=\"https://www.uta-net.com/mypage/\">マイ歌ネット</a>\\t</li><li>｜\\t</li><li><a href=\"https://www.uta-net.com/sitemap/sitemap.html\">サイトマップ</a>\\t</li><li>｜\\t</li><li><a href=\"https://twitter.com/UTANET_STAFF/\" class=\"popWin\">オフィシャルツイッター</a></li></ul></div></div><div id=\"h_main\" class=\"clearfix\"><div class=\"logo\"><a href=\"https://www.uta-net.com/\"><img alt=\"歌詞検索サービス「歌ネット」\" src=\"/reverse/common/uta_net_logo.png\"></a></div><div class=\"header_banner\"><!-- /9168657/PC_一覧_ヘッダー_728x90 -->\\r\\n<div id=\"div-gpt-ad-1506841771279-0\">\\r\\n    <script>\\r\\n       googletag.cmd.push(function() {\\r\\n         googletag.display(\\'div-gpt-ad-1506841771279-0\\');\\r\\n         googletag.pubads();\\r\\n       });\\r\\n    </script>\\r\\n</div></div></div><iframe src=\"/search/_blank.html\" scrolling = \"no\" frameborder=\"0\" id=\"shim\" title=\"shim\"></iframe><div id=\"nav-area\"><ul id=\"nav-one\" class=\"nav clearfix\"><li id=\"menu_top\"><a href=\"https://www.uta-net.com/\">ホーム</a></li><li class=\"openSub\" id=\"menu_search\"><a href=\"https://www.uta-net.com/name_list/\" class=\"active\">歌詞検索</a><ul><li><a href=\"https://www.uta-net.com/name_list/\">アーティスト名インデックス検索</a></li><li><a href=\"https://www.uta-net.com/lyricist_list/\">作詞者名インデックス検索</a></li><li><a href=\"https://www.uta-net.com/composer_list/\">作曲者名インデックス検索</a></li><li><a href=\"https://www.uta-net.com/record_label_list/\">レーベル名インデックス検索</a></li><li><a href=\"https://www.uta-net.com/user/index_search/search1.html\">歌詞全文（フレーズ）検索</a></li><li><a href=\"https://www.uta-net.com/user/search/anime_list.html\">アニソン検索</a></li><li><a href=\"https://www.uta-net.com/user/search_index/name.html\">アルバム検索</a></li><li><a href=\"https://www.uta-net.com/user/timemachine/index.html\">タイムマシン検索</a></li></ul></li><li class=\"openSub\" id=\"menu_newsong\"><a href=\"https://www.uta-net.com/user/newsong/release_top.html\">新曲歌詞情報</a><ul><li><a href=\"https://www.uta-net.com/user/newsong/release_top.html\">新曲歌詞情報（総合）</a></li><li><a href=\"https://www.uta-net.com/user/newsong/release_top_2.html\">新曲歌詞情報（演歌・歌謡曲）</a></li><li><a href=\"https://www.uta-net.com/info/mail.html\">リクエストフォーム</a></li></ul></li><li class=\"openSub\" id=\"menu_ranking\"><a href=\"https://www.uta-net.com/user/ranking/daily.html\">ランキング</a><ul><li><a href=\"https://www.uta-net.com/user/ranking/daily.html\">総合ランキング</a></li><li><a href=\"https://www.uta-net.com/user/otona/access_ranking.html\">演歌・歌謡曲ランキング</a></li><li><a href=\"https://www.uta-net.com/user/poplist.html?sort=4\">歴代人気曲ランキング</a></li><li><a href=\"https://www.uta-net.com/user/ranking/attention.html\">注目度ランキング</a></li><li><a href=\"https://www.uta-net.com/renew/myutanet/index.php?mode=week\">お気に入りアーティストランキング</a></li><li><a href=\"https://www.uta-net.com/user/otona/karaoke_ranking_sogo.html\">カラオケランキング</a></li></ul></li><li class=\"openSub\" id=\"menu_watafure\"><a href=\"https://www.uta-net.com/user/watafure/watafure_ichiran.html\">コトバのキモチ</a><ul><li><a href=\"https://www.uta-net.com/user/watafure/watafure_top.html\">新規投稿フレーズ</a></li><li><a href=\"https://www.uta-net.com/user/watafure/watafure_ichiran.html\">コトバのキモチ</a></li><li><a href=\"https://www.uta-net.com/user/watafure/watafure_ichiran.html#search_box\">コトバのキモチ検索</a></li><li><a href=\"https://www.uta-net.com/user/watafure/watafure_ranking.php\">コトバのキモチBEST10</a></li><li><a href=\"https://www.uta-net.com/user/watafure/questionbox1/question1t.html\">歌詞フレーズ投稿</a></li></ul></li><li class=\"openSub\" id=\"menu_timemachine\"><a href=\"https://www.uta-net.com/user/timemachine/index.html\">タイムマシン</a><ul><li><a href=\"https://www.uta-net.com/user/timemachine/index.html\">タイムマシンTOP</a></li><li><a href=\"https://www.uta-net.com/user/timemachine/best10/index.html\">今月のスポットライト </a></li><li><a href=\"https://www.uta-net.com/user/jake_uta/jake_uta_top.html\">歌謡界50年史1960-2000年代</a></li><li><a href=\"https://www.uta-net.com/user/tvdorama_song/1960.html\">年代別テレビドラマ主題歌</a></li><li><a href=\"https://www.uta-net.com/user/record_taisyo/index.html\">年代別日本レコード大賞</a></li><li><a href=\"https://www.uta-net.com/user/anime60_90/anime60_90.html\">年代別アニメソング特集</a></li><li><a href=\"https://www.uta-net.com/user/kashiken/kashiken.html\">年代別歌詞検定</a></li></ul></li><li class=\"openSub\" id=\"menu_otona\"><a href=\"https://www.uta-net.com/user/otona/index.html\">音楽番組情報</a><ul><li><a href=\"https://www.uta-net.com/user/otona/index.html\">音楽番組情報TOP</a></li><li><a href=\"https://www.uta-net.com/user/search_index/index.html\">TVドラマ主題歌</a></li><li><a href=\"https://www.uta-net.com/user/search_index/anime.html\">TVアニメソング</a></li><li><a href=\"https://www.uta-net.com/user/otona/m_station/m_station_songlist.html\">MUSIC STATION放送曲目リスト</a></li><li><a href=\"https://www.uta-net.com/user/otona/nipon/nipon_songlist.html\">新・BS日本のうた放送曲目リスト</a></li></ul></li><li id=\"menu_movie\"><a href=\"https://www.uta-net.com/movie/\">動画プラス</a></li></ul></div><div id=\"nav-area2\"><ul><li><a href=\"https://www.uta-net.com/user/writer/today.html\">コラム&amp;ニュース</a></li><li><a href=\"https://www.uta-net.com/livereport/\">ライブレポート</a></li><li><a href=\"https://www.uta-net.com/user/interview/index.html\">インタビュー</a></li><li><a href=\"https://www.uta-net.com/anime/index.html\">アニメ</a></li><li><a href=\"https://www.uta-net.com/user/close_up/index.html\">特集ピックアップ</a></li><li><a href=\"https://www.uta-net.com/user/column/index.html\">言葉の魔法</a></li><li><a href=\"https://www.uta-net.com/user/tatsujin/index.html\">言葉の達人</a></li></ul></div>\\r\\n</div>\\r\\n<!-- headerここまで -->\\r\\n\\r\\n\\r\\n\\r\\n<div id=\"search_fixed_parent\" style=\"min-height: 582px;\">\\r\\n    <div id=\"banner_relation\">\\r\\n        <!-- /9168657/PC_一覧_ビルボード_900x200or970x250 -->\\r\\n        <div id=\"div-gpt-ad-1512553058814-0\">\\r\\n        <script>\\r\\n            googletag.cmd.push(function() {\\r\\n              googletag.display(\\'div-gpt-ad-1512553058814-0\\');\\r\\n              //googletag.pubads();\\r\\n        });\\r\\n        </script>\\r\\n        </div>\\r\\n    \\r\\n    </div>\\r\\n\\r\\n    <div id=\"artist\">\\r\\n    <div id=\"search_form\" class=\"artist_relation\">\\r\\n\\t<form method=\"get\" action=\"https://www.uta-net.com/search/\" name=\"Search\">\\r\\n\\t\\t<div class=\"inner_box\">\\r\\n\\t\\t\\t<div class=\"inner_form\">\\r\\n\\t\\t\\t\\t<p class=\"select_a\"><select class=\"se_style\" name=\"Aselect\"><option value=\"1\" selected=\"selected\">歌手名</option>\\n<option value=\"2\">曲名</option>\\n<option value=\"5\">歌手名ひらがな</option>\\n<option value=\"6\">曲名ひらがな</option>\\n<option value=\"3\">作詞者名</option>\\n<option value=\"8\">作曲者名</option>\\n<option value=\"4\">歌い出し</option>\\n<option value=\"10\">歌詞の一部・フレーズ</option>\\n<option value=\"7\">番組名・タイアップ名</option>\\n</select><span>に</span></p><p class=\"input_keyword\"><input class=\"s_input\" name=\"Keyword\" value=\"\" type=\"text\"></p><p class=\"select_b\"><select class=\"se_style\" name=\"Bselect\"><option value=\"3\" selected=\"selected\">が含まれる</option>\\n<option value=\"1\">で始まる</option>\\n<option value=\"2\">で終わる</option>\\n<option value=\"4\">完全一致</option>\\n</select><span>歌詞を</span></p>\\r\\n\\t\\t\\t\\t<p class=\"submit\"><input type=\"image\" src=\"/libs/img/search/search_submit.png\" width=\"54\" height=\"28\" alt=\"検索\"></p>\\r\\n\\t\\t\\t\\t<p class=\"help\"><a href=\"https://www.uta-net.com/info/help.html\"><img class=\"help_btn\" alt=\"ヘルプ\" src=\"/libs/img/index/button_search_help.gif\" width=\"24\" height=\"24\"></a></p>\\r\\n\\t\\t\\t</div>\\r\\n\\t\\t</div>\\r\\n\\t</form>\\r\\n</div>\\r\\n\\r\\n                <div id=\"search_result\">\\r\\n         <div class=\"s_result clearfix\">\\r\\n          <div class=\"s_re_left\">\\r\\n           <h2 class=\"search_keyword\">LiSAの歌詞一覧リスト</h2>\\r\\n           <span class=\"f_style3\">120</span>\\r\\n           <span class=\"f_style2\">曲中 </span>\\r\\n           <span class=\"f_style3\">1-120</span>\\r\\n           <span class=\"f_style2\">曲を表示</span>\\r\\n          </div>\\r\\n          <div class=\"s_re_right\">\\r\\n           <span>2020年3月23日（月）更新</span>\\r\\n          </div>\\r\\n         </div>\\r\\n\\r\\n         <div class=\"sort_page\">\\r\\n          <dl class=\"sort_list clearfix\">\\r\\n           <dt>並び順：</dt>\\r\\n           <dd><ul><li>[</li><li><a href=\"https://www.uta-net.com/artist/11591/2/\" class=\"sort_up\">曲名順</a></li><li>|</li><li><a href=\"https://www.uta-net.com/artist/11591/4/\" >人気順</a></li><li>|</li><li><a href=\"https://www.uta-net.com/artist/11591/6/\" >発売日順</a></li><li>|</li><li><span>歌手名順</span></li><li>]</li></ul>\\r\\n           </dd>\\r\\n          </dl>\\r\\n          <div class=\"upper_page_list\">\\r\\n           <span class=\"pa\">全1ページ中\\u30001ページを表示</span>\\r\\n                     </div>\\r\\n         </div>\\r\\n        </div>\\r\\n\\r\\n                 <div class=\"result_table \">\\r\\n          <table summary=\"曲一覧1\">\\r\\n           <thead>\\r\\n            <tr>\\r\\n             <th class=\"th1\">曲名</th>\\r\\n             <th class=\"th2\">歌手名</th>\\r\\n             <th class=\"th3\">作詞者名</th>\\r\\n             <th class=\"th4\">作曲者名</th>\\r\\n             <th class=\"th5\">歌い出し</th>\\r\\n            </tr>\\r\\n           </thead>\\r\\n           <tbody>\\r\\n                       <tr><td class=\"side td1\"><a href=\"/song/150571/\">I doubt it</a></td><td class=\"td2\"><a href=\"https://www.uta-net.com/artist/11591/\">LiSA</a></td><td class=\"td3\"><a href=\"https://www.uta-net.com/lyricist/40876/\">LiSA</a></td><td class=\"td4\"><a href=\"https://www.uta-net.com/composer/31643/\">岸田</a></td><td class=\"side td5\">確かな耳鳴りゆがんだ世界に</td></tr>\\r\\n                       <tr><td class=\"side td1\"><a href=\"/song/198612/\">ID</a></td><td class=\"td2\"><a href=\"https://www.uta-net.com/artist/11591/\">LiSA</a></td><td class=\"td3\"><a href=\"https://www.uta-net.com/lyricist/10159/\">LiSA・古屋真</a></td><td class=\"td4\"><a href=\"https://www.uta-net.com/composer/39887/\">高橋浩一郎</a></td><td class=\"side td5\">全方向完全アウェイで</td></tr>\\r\\n                       <tr><td class=\"side td1\"><a href=\"/song/144541/\">I\\'m a Rock star</a></td><td class=\"td2\"><a href=\"https://www.uta-net.com/artist/11591/\">LiSA</a></td><td class=\"td3\"><a href=\"https://www.uta-net.com/lyricist/10159/\">LiSA・古屋真</a></td><td class=\"td4\"><a href=\"https://www.uta-net.com/composer/36752/\">磯崎健史</a></td><td class=\"side td5\">ネオンの灯り染まった街中</td></tr>\\r\\n                       <tr><td class=\"side td1\"><a href=\"/song/260369/\">赤い罠(who loves it?)</a></td><td class=\"td2\"><a href=\"https://www.uta-net.com/artist/11591/\">LiSA</a></td><td class=\"td3\"><a href=\"https://www.uta-net.com/lyricist/10160/\">LiSA・田淵智也</a></td><td class=\"td4\"><a href=\"https://www.uta-net.com/composer/36197/\">田淵智也</a></td><td class=\"side td5\">それでもアナタに惹かれて</td></tr>\\r\\n                       <tr><td class=\"side td1\"><a href=\"/song/213432/\">AxxxiS</a></td><td class=\"td2\"><a href=\"https://www.uta-net.com/artist/11591/\">LiSA</a></td><td class=\"td3\"><a href=\"https://www.uta-net.com/lyricist/26419/\">古屋真</a></td><td class=\"td4\"><a href=\"https://www.uta-net.com/composer/5004/\">eba</a></td><td class=\"side td5\">前ならえに抵抗しだした僕らは</td></tr>\\r\\n                       <tr><td class=\"side td1\"><a href=\"/song/181508/\">アコガレ望遠鏡</a></td><td class=\"td2\"><a href=\"https://www.uta-net.com/artist/11591/\">LiSA</a></td><td class=\"td3\"><a href=\"https://www.uta-net.com/lyricist/26419/\">古屋真</a></td><td class=\"td4\"><a href=\"https://www.uta-net.com/composer/5004/\">eba</a></td><td class=\"side td5\">ひとりぼっちには慣れてんだ</td></tr>\\r\\n                       <tr><td class=\"side td1\"><a href=\"/song/163669/\">アシアトコンパス</a></td><td class=\"td2\"><a href=\"https://www.uta-net.com/artist/11591/\">LiSA</a></td><td class=\"td3\"><a href=\"https://www.uta-net.com/lyricist/40876/\">LiSA</a></td><td class=\"td4\"><a href=\"https://www.uta-net.com/composer/31202/\">山本陽介</a></td><td class=\"side td5\">更新した星占い期待してた</td></tr>\\r\\n                       <tr><td class=\"side td1\"><a href=\"/song/257111/\">ADAMAS</a><a href=\"https://www.uta-net.com/user/poplist.html\"><img src=\"/libs/img/parts/icon_gold.gif\" alt=\"GOLD LYLIC\" ></a></td><td class=\"td2\"><a href=\"https://www.uta-net.com/artist/11591/\">LiSA</a></td><td class=\"td3\"><a href=\"https://www.uta-net.com/lyricist/40876/\">LiSA</a></td><td class=\"td4\"><a href=\"https://www.uta-net.com/composer/24062/\">カヨコ</a></td><td class=\"side td5\">大義名分に痺れ切らした</td></tr>\\r\\n                       <tr><td class=\"side td1\"><a href=\"/song/240265/\">ASH</a></td><td class=\"td2\"><a href=\"https://www.uta-net.com/artist/11591/\">LiSA</a></td><td class=\"td3\"><a href=\"https://www.uta-net.com/lyricist/22971/\">マオ(シド)</a></td><td class=\"td4\"><a href=\"https://www.uta-net.com/composer/32265/\">御恵明希(シド)</a></td><td class=\"side td5\">雨の雫みたい迷いながら</td></tr>\\r\\n                       <tr><td class=\"side td1\"><a href=\"/song/163579/\">雨上がりの空とキミ</a></td><td class=\"td2\"><a href=\"https://www.uta-net.com/artist/11591/\">LiSA</a></td><td class=\"td3\"><a href=\"https://www.uta-net.com/lyricist/27028/\">園田智也</a></td><td class=\"td4\"><a href=\"https://www.uta-net.com/composer/30123/\">宮城裕次</a></td><td class=\"side td5\">夜明け前の空雨音は遠くに</td></tr>\\r\\n                       <tr><td class=\"side td1\"><a href=\"/song/181506/\">ANTIHERO</a></td><td class=\"td2\"><a href=\"https://www.uta-net.com/artist/11591/\">LiSA</a></td><td class=\"td3\"><a href=\"https://www.uta-net.com/lyricist/40876/\">LiSA</a></td><td class=\"td4\"><a href=\"https://www.uta-net.com/composer/23173/\">じん</a></td><td class=\"side td5\">カタチない世界にログイン</td></tr>\\r\\n                       <tr><td class=\"side td1\"><a href=\"/song/126138/\">アンフィル</a></td><td class=\"td2\"><a href=\"https://www.uta-net.com/artist/11591/\">LiSA</a></td><td class=\"td3\"><a href=\"https://www.uta-net.com/lyricist/20551/\">とく</a></td><td class=\"td4\"><a href=\"https://www.uta-net.com/composer/23302/\">とく</a></td><td class=\"side td5\">肩にとまったため息ひとつ</td></tr>\\r\\n                       <tr><td class=\"side td1\"><a href=\"/song/278546/\">unlasting</a></td><td class=\"td2\"><a href=\"https://www.uta-net.com/artist/11591/\">LiSA</a></td><td class=\"td3\"><a href=\"https://www.uta-net.com/lyricist/40876/\">LiSA</a></td><td class=\"td4\"><a href=\"https://www.uta-net.com/composer/37684/\">草野華余子</a></td><td class=\"side td5\">一人きりでも平気</td></tr>\\r\\n                       <tr><td class=\"side td1\"><a href=\"/song/133655/\">いつかの手紙</a></td><td class=\"td2\"><a href=\"https://www.uta-net.com/artist/11591/\">LiSA</a></td><td class=\"td3\"><a href=\"https://www.uta-net.com/lyricist/26419/\">古屋真</a></td><td class=\"td4\"><a href=\"https://www.uta-net.com/composer/40211/\">黒須克彦</a></td><td class=\"side td5\">まるで心にいつでもある</td></tr>\\r\\n                       <tr><td class=\"side td1\"><a href=\"/song/248506/\">WiLL～無色透明～</a></td><td class=\"td2\"><a href=\"https://www.uta-net.com/artist/11591/\">LiSA</a></td><td class=\"td3\"><a href=\"https://www.uta-net.com/lyricist/40876/\">LiSA</a></td><td class=\"td4\"><a href=\"https://www.uta-net.com/composer/27173/\">伊秩弘将</a></td><td class=\"side td5\">リュックの中希望を詰めたまま</td></tr>\\r\\n                       <tr><td class=\"side td1\"><a href=\"/song/186930/\">Wake up! Sloth</a></td><td class=\"td2\"><a href=\"https://www.uta-net.com/artist/11591/\">LiSA</a></td><td class=\"td3\"><a href=\"https://www.uta-net.com/lyricist/40876/\">LiSA</a></td><td class=\"td4\"><a href=\"https://www.uta-net.com/composer/20668/\">Tom-H@ck</a></td><td class=\"side td5\">Wake up Wake up Wake up</td></tr>\\r\\n                       <tr><td class=\"side td1\"><a href=\"/song/154518/\">うそつきの涙</a></td><td class=\"td2\"><a href=\"https://www.uta-net.com/artist/11591/\">LiSA</a></td><td class=\"td3\"><a href=\"https://www.uta-net.com/lyricist/26419/\">古屋真</a></td><td class=\"td4\"><a href=\"https://www.uta-net.com/composer/35416/\">清水葉子</a></td><td class=\"side td5\">近くにいるよすぐそばにいるんだよ</td></tr>\\r\\n                       <tr><td class=\"side td1\"><a href=\"/song/115389/\">永遠</a></td><td class=\"td2\"><a href=\"https://www.uta-net.com/artist/11591/\">LiSA</a></td><td class=\"td3\"><a href=\"https://www.uta-net.com/lyricist/40876/\">LiSA</a></td><td class=\"td4\"><a href=\"https://www.uta-net.com/composer/31643/\">岸田</a></td><td class=\"side td5\">どうしてこうなるならどうして</td></tr>\\r\\n                       <tr><td class=\"side td1\"><a href=\"/song/126143/\">EGOiSTiC SHOOTER</a></td><td class=\"td2\"><a href=\"https://www.uta-net.com/artist/11591/\">LiSA</a></td><td class=\"td3\"><a href=\"https://www.uta-net.com/lyricist/40876/\">LiSA</a></td><td class=\"td4\"><a href=\"https://www.uta-net.com/composer/21691/\">wowaka</a></td><td class=\"side td5\">いつまで隠してんのバレバレな</td></tr>\\r\\n                       <tr><td class=\"side td1\"><a href=\"/song/115388/\">エスケープゲーム</a></td><td class=\"td2\"><a href=\"https://www.uta-net.com/artist/11591/\">LiSA</a></td><td class=\"td3\"><a href=\"https://www.uta-net.com/lyricist/40876/\">LiSA</a></td><td class=\"td4\"><a href=\"https://www.uta-net.com/composer/25067/\">ハチ</a></td><td class=\"side td5\">お訪ねしますがここはどこですか</td></tr>\\r\\n                       <tr><td class=\"side td1\"><a href=\"/song/260496/\">1/f</a></td><td class=\"td2\"><a href=\"https://www.uta-net.com/artist/11591/\">LiSA</a></td><td class=\"td3\"><a href=\"https://www.uta-net.com/lyricist/35283/\">田中秀典</a></td><td class=\"td4\"><a href=\"https://www.uta-net.com/composer/6432/\">goodtimes</a></td><td class=\"side td5\">橙に浸されてゆく街</td></tr>\\r\\n                       <tr><td class=\"side td1\"><a href=\"/song/170230/\">L.Miranic</a></td><td class=\"td2\"><a href=\"https://www.uta-net.com/artist/11591/\">LiSA</a></td><td class=\"td3\"><a href=\"https://www.uta-net.com/lyricist/40876/\">LiSA</a></td><td class=\"td4\"><a href=\"https://www.uta-net.com/composer/12336/\">MAH</a></td><td class=\"side td5\">ワガママを煮詰めたったなら</td></tr>\\r\\n                       <tr><td class=\"side td1\"><a href=\"/song/181504/\">エレクトリリカル</a></td><td class=\"td2\"><a href=\"https://www.uta-net.com/artist/11591/\">LiSA</a></td><td class=\"td3\"><a href=\"https://www.uta-net.com/lyricist/26419/\">古屋真</a></td><td class=\"td4\"><a href=\"https://www.uta-net.com/composer/35554/\">渡辺翔</a></td><td class=\"side td5\">キミがアタシを選ぶのは</td></tr>\\r\\n                       <tr><td class=\"side td1\"><a href=\"/song/194755/\">Empty MERMAiD</a></td><td class=\"td2\"><a href=\"https://www.uta-net.com/artist/11591/\">LiSA</a></td><td class=\"td3\"><a href=\"https://www.uta-net.com/lyricist/40876/\">LiSA</a></td><td class=\"td4\"><a href=\"https://www.uta-net.com/composer/22003/\">YOOKEY(from UPLIFT SPICE)</a></td><td class=\"side td5\">Damn まんまと開いたGATE</td></tr>\\r\\n                       <tr><td class=\"side td1\"><a href=\"/song/229817/\">狼とミサンガ</a></td><td class=\"td2\"><a href=\"https://www.uta-net.com/artist/11591/\">LiSA</a></td><td class=\"td3\"><a href=\"https://www.uta-net.com/lyricist/40876/\">LiSA</a></td><td class=\"td4\"><a href=\"https://www.uta-net.com/composer/38903/\">野間康介</a></td><td class=\"side td5\">扉のむこうで止まる足音</td></tr>\\r\\n                       <tr><td class=\"side td1\"><a href=\"/song/272261/\">オリオンをなぞる</a></td><td class=\"td2\"><a href=\"https://www.uta-net.com/artist/11591/\">LiSA</a></td><td class=\"td3\"><a href=\"https://www.uta-net.com/lyricist/35452/\">田淵智也</a></td><td class=\"td4\"><a href=\"https://www.uta-net.com/composer/36197/\">田淵智也</a></td><td class=\"side td5\">ごきげんようどうかしたんだろ</td></tr>\\r\\n                       <tr><td class=\"side td1\"><a href=\"/song/186931/\">オレンジサイダー</a></td><td class=\"td2\"><a href=\"https://www.uta-net.com/artist/11591/\">LiSA</a></td><td class=\"td3\"><a href=\"https://www.uta-net.com/lyricist/40876/\">LiSA</a></td><td class=\"td4\"><a href=\"https://www.uta-net.com/composer/39887/\">高橋浩一郎</a></td><td class=\"side td5\">小さな奇跡を願って騒いだ</td></tr>\\r\\n                       <tr><td class=\"side td1\"><a href=\"/song/206575/\">終わらない冒険</a></td><td class=\"td2\"><a href=\"https://www.uta-net.com/artist/11591/\">LiSA</a></td><td class=\"td3\"><a href=\"https://www.uta-net.com/lyricist/40876/\">LiSA</a></td><td class=\"td4\"><a href=\"https://www.uta-net.com/composer/39887/\">高橋浩一郎</a></td><td class=\"side td5\">少しずつ開いたつぼみに僕は</td></tr>\\r\\n                       <tr><td class=\"side td1\"><a href=\"/song/126135/\">終わりのない歌</a></td><td class=\"td2\"><a href=\"https://www.uta-net.com/artist/11591/\">LiSA</a></td><td class=\"td3\"><a href=\"https://www.uta-net.com/lyricist/40125/\">麻枝准</a></td><td class=\"td4\"><a href=\"https://www.uta-net.com/composer/40116/\">麻枝准</a></td><td class=\"side td5\">ある日小さな村に旅する</td></tr>\\r\\n                       <tr><td class=\"side td1\"><a href=\"/song/240263/\">ONLY≠LONELY</a></td><td class=\"td2\"><a href=\"https://www.uta-net.com/artist/11591/\">LiSA</a></td><td class=\"td3\"><a href=\"https://www.uta-net.com/lyricist/38706/\">金井政人(BIGMAMA)</a></td><td class=\"td4\"><a href=\"https://www.uta-net.com/composer/30397/\">小南泰葉</a></td><td class=\"side td5\">二人だけの最後の夜に</td></tr>\\r\\n                      </tbody>\\r\\n          </table>\\r\\n\\r\\n          \\r\\n         </div>\\r\\n                 <div class=\"result_table \">\\r\\n          <table summary=\"曲一覧2\">\\r\\n           <thead>\\r\\n            <tr>\\r\\n             <th class=\"th1\">曲名</th>\\r\\n             <th class=\"th2\">歌手名</th>\\r\\n             <th class=\"th3\">作詞者名</th>\\r\\n             <th class=\"th4\">作曲者名</th>\\r\\n             <th class=\"th5\">歌い出し</th>\\r\\n            </tr>\\r\\n           </thead>\\r\\n           <tbody>\\r\\n                       <tr><td class=\"side td1\"><a href=\"/song/122468/\">oath sign</a><a href=\"https://www.uta-net.com/user/poplist.html\"><img src=\"/libs/img/parts/icon_gold.gif\" alt=\"GOLD LYLIC\" ></a></td><td class=\"td2\"><a href=\"https://www.uta-net.com/artist/11591/\">LiSA</a></td><td class=\"td3\"><a href=\"https://www.uta-net.com/lyricist/34691/\">渡辺翔</a></td><td class=\"td4\"><a href=\"https://www.uta-net.com/composer/35554/\">渡辺翔</a></td><td class=\"side td5\">繰り返す世界何度手を</td></tr>\\r\\n                       <tr><td class=\"side td1\"><a href=\"/song/115387/\">覚醒屋</a></td><td class=\"td2\"><a href=\"https://www.uta-net.com/artist/11591/\">LiSA</a></td><td class=\"td3\"><a href=\"https://www.uta-net.com/lyricist/40876/\">LiSA</a></td><td class=\"td4\"><a href=\"https://www.uta-net.com/composer/21691/\">wowaka</a></td><td class=\"side td5\">クチビル噛んでまたため息</td></tr>\\r\\n                       <tr><td class=\"side td1\"><a href=\"/song/278748/\">KALEIDO</a></td><td class=\"td2\"><a href=\"https://www.uta-net.com/artist/11591/\">LiSA</a></td><td class=\"td3\"><a href=\"https://www.uta-net.com/lyricist/35283/\">田中秀典</a></td><td class=\"td4\"><a href=\"https://www.uta-net.com/composer/30397/\">小南泰葉</a></td><td class=\"side td5\">キミはやさしくて少し心配性</td></tr>\\r\\n                       <tr><td class=\"side td1\"><a href=\"/song/133654/\">変わらない青</a></td><td class=\"td2\"><a href=\"https://www.uta-net.com/artist/11591/\">LiSA</a></td><td class=\"td3\"><a href=\"https://www.uta-net.com/lyricist/40876/\">LiSA</a></td><td class=\"td4\"><a href=\"https://www.uta-net.com/composer/35554/\">渡辺翔</a></td><td class=\"side td5\">カラフルにざわめく街時は</td></tr>\\r\\n                       <tr><td class=\"side td1\"><a href=\"/song/133807/\">KiSS me PARADOX</a></td><td class=\"td2\"><a href=\"https://www.uta-net.com/artist/11591/\">LiSA</a></td><td class=\"td3\"><a href=\"https://www.uta-net.com/lyricist/26419/\">古屋真</a></td><td class=\"td4\"><a href=\"https://www.uta-net.com/composer/36752/\">磯崎健史</a></td><td class=\"side td5\">欲ばり言い過ぎそんなの</td></tr>\\r\\n                       <tr><td class=\"side td1\"><a href=\"/song/181503/\">君にピエロ</a></td><td class=\"td2\"><a href=\"https://www.uta-net.com/artist/11591/\">LiSA</a></td><td class=\"td3\"><a href=\"https://www.uta-net.com/lyricist/40876/\">LiSA</a></td><td class=\"td4\"><a href=\"https://www.uta-net.com/composer/41053/\">LiSA</a></td><td class=\"side td5\">ねえ少し遊ぼうよ僕はピエロ</td></tr>\\r\\n                       <tr><td class=\"side td1\"><a href=\"/song/186929/\">キモチファクトリー</a></td><td class=\"td2\"><a href=\"https://www.uta-net.com/artist/11591/\">LiSA</a></td><td class=\"td3\"><a href=\"https://www.uta-net.com/lyricist/26419/\">古屋真</a></td><td class=\"td4\"><a href=\"https://www.uta-net.com/composer/35554/\">渡辺翔</a></td><td class=\"side td5\">気持ち運ぶベルトコンベア</td></tr>\\r\\n                       <tr><td class=\"side td1\"><a href=\"/song/224081/\">Catch the Moment</a><a href=\"https://www.uta-net.com/user/poplist.html\"><img src=\"/libs/img/parts/icon_gold.gif\" alt=\"GOLD LYLIC\" ></a></td><td class=\"td2\"><a href=\"https://www.uta-net.com/artist/11591/\">LiSA</a></td><td class=\"td3\"><a href=\"https://www.uta-net.com/lyricist/40876/\">LiSA</a></td><td class=\"td4\"><a href=\"https://www.uta-net.com/composer/36197/\">田淵智也</a></td><td class=\"side td5\">そっと吐き出すため息を</td></tr>\\r\\n                       <tr><td class=\"side td1\"><a href=\"/song/154524/\">Canvas boy × Palette girl</a></td><td class=\"td2\"><a href=\"https://www.uta-net.com/artist/11591/\">LiSA</a></td><td class=\"td3\"><a href=\"https://www.uta-net.com/lyricist/26419/\">古屋真</a></td><td class=\"td4\"><a href=\"https://www.uta-net.com/composer/40211/\">黒須克彦</a></td><td class=\"side td5\">My boyキミは太陽って</td></tr>\\r\\n                       <tr><td class=\"side td1\"><a href=\"/song/194753/\">虚無</a></td><td class=\"td2\"><a href=\"https://www.uta-net.com/artist/11591/\">LiSA</a></td><td class=\"td3\"><a href=\"https://www.uta-net.com/lyricist/40876/\">LiSA</a></td><td class=\"td4\"><a href=\"https://www.uta-net.com/composer/24062/\">カヨコ</a></td><td class=\"side td5\">さっきまで躊躇してたのに</td></tr>\\r\\n                       <tr><td class=\"side td1\"><a href=\"/song/198611/\">ギフトギフト</a></td><td class=\"td2\"><a href=\"https://www.uta-net.com/artist/11591/\">LiSA</a></td><td class=\"td3\"><a href=\"https://www.uta-net.com/lyricist/40876/\">LiSA</a></td><td class=\"td4\"><a href=\"https://www.uta-net.com/composer/30397/\">小南泰葉</a></td><td class=\"side td5\">街じゅうハッピームードに</td></tr>\\r\\n                       <tr><td class=\"side td1\"><a href=\"/song/154517/\">逆光オーケストラ</a></td><td class=\"td2\"><a href=\"https://www.uta-net.com/artist/11591/\">LiSA</a></td><td class=\"td3\"><a href=\"https://www.uta-net.com/lyricist/26419/\">古屋真</a></td><td class=\"td4\"><a href=\"https://www.uta-net.com/composer/36752/\">磯崎健史</a></td><td class=\"side td5\">想い出話なんて下手なままで</td></tr>\\r\\n                       <tr><td class=\"side td1\"><a href=\"/song/133622/\">crossing field</a><a href=\"https://www.uta-net.com/user/poplist.html\"><img src=\"/libs/img/parts/icon_gold.gif\" alt=\"GOLD LYLIC\" ></a></td><td class=\"td2\"><a href=\"https://www.uta-net.com/artist/11591/\">LiSA</a></td><td class=\"td3\"><a href=\"https://www.uta-net.com/lyricist/34691/\">渡辺翔</a></td><td class=\"td4\"><a href=\"https://www.uta-net.com/composer/35554/\">渡辺翔</a></td><td class=\"side td5\">認めていた臆病な過去</td></tr>\\r\\n                       <tr><td class=\"side td1\"><a href=\"/song/176156/\">crossing field -English ver.-</a></td><td class=\"td2\"><a href=\"https://www.uta-net.com/artist/11591/\">LiSA</a></td><td class=\"td3\"><a href=\"https://www.uta-net.com/lyricist/34694/\">渡辺翔・本山清治</a></td><td class=\"td4\"><a href=\"https://www.uta-net.com/composer/35554/\">渡辺翔</a></td><td class=\"side td5\">Cloudy memories Of the way</td></tr>\\r\\n                       <tr><td class=\"side td1\"><a href=\"/song/270036/\">紅蓮華</a><a href=\"https://www.uta-net.com/user/poplist.html\"><img src=\"/libs/img/parts/icon_million.gif\" alt=\"MILLION LYLIC\" ></a></td><td class=\"td2\"><a href=\"https://www.uta-net.com/artist/11591/\">LiSA</a></td><td class=\"td3\"><a href=\"https://www.uta-net.com/lyricist/40876/\">LiSA</a></td><td class=\"td4\"><a href=\"https://www.uta-net.com/composer/37684/\">草野華余子</a></td><td class=\"side td5\">強くなれる理由を知った</td></tr>\\r\\n                       <tr><td class=\"side td1\"><a href=\"/song/206576/\">Get free</a></td><td class=\"td2\"><a href=\"https://www.uta-net.com/artist/11591/\">LiSA</a></td><td class=\"td3\"><a href=\"https://www.uta-net.com/lyricist/10159/\">LiSA・古屋真</a></td><td class=\"td4\"><a href=\"https://www.uta-net.com/composer/16822/\">Ryota Kawamura・Rebecca Hollcraft</a></td><td class=\"side td5\">タクシーが止まんなきゃ歌って</td></tr>\\r\\n                       <tr><td class=\"side td1\"><a href=\"/song/154523/\">コズミックジェットコースター</a></td><td class=\"td2\"><a href=\"https://www.uta-net.com/artist/11591/\">LiSA</a></td><td class=\"td3\"><a href=\"https://www.uta-net.com/lyricist/40876/\">LiSA</a></td><td class=\"td4\"><a href=\"https://www.uta-net.com/composer/40211/\">黒須克彦</a></td><td class=\"side td5\">Hi お待たせ待ちに待った</td></tr>\\r\\n                       <tr><td class=\"side td1\"><a href=\"/song/122467/\">confidence driver</a></td><td class=\"td2\"><a href=\"https://www.uta-net.com/artist/11591/\">LiSA</a></td><td class=\"td3\"><a href=\"https://www.uta-net.com/lyricist/40876/\">LiSA</a></td><td class=\"td4\"><a href=\"https://www.uta-net.com/composer/36197/\">田淵智也</a></td><td class=\"side td5\">単調なリズムのmy life</td></tr>\\r\\n                       <tr><td class=\"side td1\"><a href=\"/song/206579/\">Psychedelic Drive</a></td><td class=\"td2\"><a href=\"https://www.uta-net.com/artist/11591/\">LiSA</a></td><td class=\"td3\"><a href=\"https://www.uta-net.com/lyricist/40876/\">LiSA</a></td><td class=\"td4\"><a href=\"https://www.uta-net.com/composer/34418/\">横山直弘(from 感覚ピエロ)</a></td><td class=\"side td5\">誰が純情覚悟しててよ</td></tr>\\r\\n                       <tr><td class=\"side td1\"><a href=\"/song/264752/\">サファイアの星</a></td><td class=\"td2\"><a href=\"https://www.uta-net.com/artist/11591/\">LiSA</a></td><td class=\"td3\"><a href=\"https://www.uta-net.com/lyricist/38145/\">谷中敦</a></td><td class=\"td4\"><a href=\"https://www.uta-net.com/composer/34959/\">沖祐市</a></td><td class=\"side td5\">ねぇまだ終わらない旅を続け</td></tr>\\r\\n                       <tr><td class=\"side td1\"><a href=\"/song/240264/\">罪人</a></td><td class=\"td2\"><a href=\"https://www.uta-net.com/artist/11591/\">LiSA</a></td><td class=\"td3\"><a href=\"https://www.uta-net.com/lyricist/40876/\">LiSA</a></td><td class=\"td4\"><a href=\"https://www.uta-net.com/composer/17970/\">Sho(from MY FIRST STORY)</a></td><td class=\"side td5\">逃げたりしないでね理想を</td></tr>\\r\\n                       <tr><td class=\"side td1\"><a href=\"/song/213430/\">シャッフル</a></td><td class=\"td2\"><a href=\"https://www.uta-net.com/artist/11591/\">LiSA</a></td><td class=\"td3\"><a href=\"https://www.uta-net.com/lyricist/26419/\">古屋真</a></td><td class=\"td4\"><a href=\"https://www.uta-net.com/composer/30397/\">小南泰葉</a></td><td class=\"side td5\">フライパンが音符になって</td></tr>\\r\\n                       <tr><td class=\"side td1\"><a href=\"/song/176158/\">シルシ</a><a href=\"https://www.uta-net.com/user/poplist.html\"><img src=\"/libs/img/parts/icon_gold.gif\" alt=\"GOLD LYLIC\" ></a></td><td class=\"td2\"><a href=\"https://www.uta-net.com/artist/11591/\">LiSA</a></td><td class=\"td3\"><a href=\"https://www.uta-net.com/lyricist/40876/\">LiSA</a></td><td class=\"td4\"><a href=\"https://www.uta-net.com/composer/24062/\">カヨコ</a></td><td class=\"side td5\">街明かり照らした賑やかな</td></tr>\\r\\n                       <tr><td class=\"side td1\"><a href=\"/song/144540/\">シロイトイキ</a></td><td class=\"td2\"><a href=\"https://www.uta-net.com/artist/11591/\">LiSA</a></td><td class=\"td3\"><a href=\"https://www.uta-net.com/lyricist/40876/\">LiSA</a></td><td class=\"td4\"><a href=\"https://www.uta-net.com/composer/23564/\">やしきん</a></td><td class=\"side td5\">たった一秒が不安で星を指で</td></tr>\\r\\n                       <tr><td class=\"side td1\"><a href=\"/song/206578/\">She</a></td><td class=\"td2\"><a href=\"https://www.uta-net.com/artist/11591/\">LiSA</a></td><td class=\"td3\"><a href=\"https://www.uta-net.com/lyricist/40876/\">LiSA</a></td><td class=\"td4\"><a href=\"https://www.uta-net.com/composer/15333/\">PABLO a.k.a. WTF!?</a></td><td class=\"side td5\">雁字搦めのトラップに僕は</td></tr>\\r\\n                       <tr><td class=\"side td1\"><a href=\"/song/126137/\">ジェットロケット</a></td><td class=\"td2\"><a href=\"https://www.uta-net.com/artist/11591/\">LiSA</a></td><td class=\"td3\"><a href=\"https://www.uta-net.com/lyricist/35452/\">田淵智也</a></td><td class=\"td4\"><a href=\"https://www.uta-net.com/composer/36197/\">田淵智也</a></td><td class=\"side td5\">そうだよ一個だって譲らないで</td></tr>\\r\\n                       <tr><td class=\"side td1\"><a href=\"/song/229819/\">the end of my world</a></td><td class=\"td2\"><a href=\"https://www.uta-net.com/artist/11591/\">LiSA</a></td><td class=\"td3\"><a href=\"https://www.uta-net.com/lyricist/40876/\">LiSA</a></td><td class=\"td4\"><a href=\"https://www.uta-net.com/composer/24062/\">カヨコ</a></td><td class=\"side td5\">覚悟してたのロンリー</td></tr>\\r\\n                       <tr><td class=\"side td1\"><a href=\"/song/229818/\">JUMP!!</a></td><td class=\"td2\"><a href=\"https://www.uta-net.com/artist/11591/\">LiSA</a></td><td class=\"td3\"><a href=\"https://www.uta-net.com/lyricist/26419/\">古屋真</a></td><td class=\"td4\"><a href=\"https://www.uta-net.com/composer/38903/\">野間康介</a></td><td class=\"side td5\">届くかな届くから飛べるから</td></tr>\\r\\n                       <tr><td class=\"side td1\"><a href=\"/song/233632/\">sweet friendship</a></td><td class=\"td2\"><a href=\"https://www.uta-net.com/artist/11591/\">LiSA</a></td><td class=\"td3\"><a href=\"https://www.uta-net.com/lyricist/40876/\">LiSA</a></td><td class=\"td4\"><a href=\"https://www.uta-net.com/composer/5004/\">eba</a></td><td class=\"side td5\">帰路を急いだ風に吹かれ</td></tr>\\r\\n                       <tr><td class=\"side td1\"><a href=\"/song/260497/\">スパイシーワールド</a></td><td class=\"td2\"><a href=\"https://www.uta-net.com/artist/11591/\">LiSA</a></td><td class=\"td3\"><a href=\"https://www.uta-net.com/lyricist/40876/\">LiSA</a></td><td class=\"td4\"><a href=\"https://www.uta-net.com/composer/41053/\">LiSA</a></td><td class=\"side td5\">あぁまた迷宮入り HOT</td></tr>\\r\\n                      </tbody>\\r\\n          </table>\\r\\n\\r\\n          \\r\\n         </div>\\r\\n                 <div class=\"result_table \">\\r\\n          <table summary=\"曲一覧3\">\\r\\n           <thead>\\r\\n            <tr>\\r\\n             <th class=\"th1\">曲名</th>\\r\\n             <th class=\"th2\">歌手名</th>\\r\\n             <th class=\"th3\">作詞者名</th>\\r\\n             <th class=\"th4\">作曲者名</th>\\r\\n             <th class=\"th5\">歌い出し</th>\\r\\n            </tr>\\r\\n           </thead>\\r\\n           <tbody>\\r\\n                       <tr><td class=\"side td1\"><a href=\"/song/150570/\">SPiCE</a></td><td class=\"td2\"><a href=\"https://www.uta-net.com/artist/11591/\">LiSA</a></td><td class=\"td3\"><a href=\"https://www.uta-net.com/lyricist/40876/\">LiSA</a></td><td class=\"td4\"><a href=\"https://www.uta-net.com/composer/28349/\">原一博</a></td><td class=\"side td5\">台無し鏡のベビーフェイス</td></tr>\\r\\n                       <tr><td class=\"side td1\"><a href=\"/song/242577/\">Thrill, Risk, Heartless</a></td><td class=\"td2\"><a href=\"https://www.uta-net.com/artist/11591/\">LiSA</a></td><td class=\"td3\"><a href=\"https://www.uta-net.com/lyricist/35452/\">田淵智也</a></td><td class=\"td4\"><a href=\"https://www.uta-net.com/composer/24062/\">カヨコ</a></td><td class=\"side td5\">I\\'ll be I\\'ll be Repeat once</td></tr>\\r\\n                       <tr><td class=\"side td1\"><a href=\"/song/154519/\">say my nameの片思い</a></td><td class=\"td2\"><a href=\"https://www.uta-net.com/artist/11591/\">LiSA</a></td><td class=\"td3\"><a href=\"https://www.uta-net.com/lyricist/10160/\">LiSA・田淵智也</a></td><td class=\"td4\"><a href=\"https://www.uta-net.com/composer/36197/\">田淵智也</a></td><td class=\"side td5\">いたずらなあくびを噛み殺して</td></tr>\\r\\n                       <tr><td class=\"side td1\"><a href=\"/song/233631/\">Sailor Spark Operation!</a></td><td class=\"td2\"><a href=\"https://www.uta-net.com/artist/11591/\">LiSA</a></td><td class=\"td3\"><a href=\"https://www.uta-net.com/lyricist/35452/\">田淵智也</a></td><td class=\"td4\"><a href=\"https://www.uta-net.com/composer/9149/\">Jose(TOTALFAT)</a></td><td class=\"side td5\">炎天下続く毎日</td></tr>\\r\\n                       <tr><td class=\"side td1\"><a href=\"/song/229813/\">そしてパレードは続く</a></td><td class=\"td2\"><a href=\"https://www.uta-net.com/artist/11591/\">LiSA</a></td><td class=\"td3\"><a href=\"https://www.uta-net.com/lyricist/35452/\">田淵智也</a></td><td class=\"td4\"><a href=\"https://www.uta-net.com/composer/36197/\">田淵智也</a></td><td class=\"side td5\">僕らGO EAST GO WESTどこまで</td></tr>\\r\\n                       <tr><td class=\"side td1\"><a href=\"/song/233633/\">だってアタシのヒーロー。</a><a href=\"https://www.uta-net.com/user/poplist.html\"><img src=\"/libs/img/parts/icon_gold.gif\" alt=\"GOLD LYLIC\" ></a></td><td class=\"td2\"><a href=\"https://www.uta-net.com/artist/11591/\">LiSA</a></td><td class=\"td3\"><a href=\"https://www.uta-net.com/lyricist/10159/\">LiSA・古屋真</a></td><td class=\"td4\"><a href=\"https://www.uta-net.com/composer/35554/\">渡辺翔</a></td><td class=\"side td5\">キミが諦めるトコ</td></tr>\\r\\n                       <tr><td class=\"side td1\"><a href=\"/song/278747/\">Chill-Chill-Dal-Da</a></td><td class=\"td2\"><a href=\"https://www.uta-net.com/artist/11591/\">LiSA</a></td><td class=\"td3\"><a href=\"https://www.uta-net.com/lyricist/35452/\">田淵智也</a></td><td class=\"td4\"><a href=\"https://www.uta-net.com/composer/27173/\">伊秩弘将</a></td><td class=\"side td5\">生活は難しい鬱屈止められない</td></tr>\\r\\n                       <tr><td class=\"side td1\"><a href=\"/song/213431/\">ツヨガリ・ファンファーレ</a></td><td class=\"td2\"><a href=\"https://www.uta-net.com/artist/11591/\">LiSA</a></td><td class=\"td3\"><a href=\"https://www.uta-net.com/lyricist/40876/\">LiSA</a></td><td class=\"td4\"><a href=\"https://www.uta-net.com/composer/36197/\">田淵智也</a></td><td class=\"side td5\">手グシさえ指が通らない</td></tr>\\r\\n                       <tr><td class=\"side td1\"><a href=\"/song/280570/\">THIS ILLUSION</a></td><td class=\"td2\"><a href=\"https://www.uta-net.com/artist/11591/\">LiSA</a></td><td class=\"td3\"><a href=\"https://www.uta-net.com/lyricist/37149/\">芳賀敬太</a></td><td class=\"td4\"><a href=\"https://www.uta-net.com/composer/15030/\">NUMBER 201</a></td><td class=\"side td5\">夢に見ていたあの日の影に</td></tr>\\r\\n                       <tr><td class=\"side td1\"><a href=\"/song/229814/\">TODAY</a></td><td class=\"td2\"><a href=\"https://www.uta-net.com/artist/11591/\">LiSA</a></td><td class=\"td3\"><a href=\"https://www.uta-net.com/lyricist/40876/\">LiSA</a></td><td class=\"td4\"><a href=\"https://www.uta-net.com/composer/30397/\">小南泰葉</a></td><td class=\"side td5\">いつの間にか随分遠くまで</td></tr>\\r\\n                       <tr><td class=\"side td1\"><a href=\"/song/170229/\">東京ラヴソング</a></td><td class=\"td2\"><a href=\"https://www.uta-net.com/artist/11591/\">LiSA</a></td><td class=\"td3\"><a href=\"https://www.uta-net.com/lyricist/40876/\">LiSA</a></td><td class=\"td4\"><a href=\"https://www.uta-net.com/composer/41053/\">LiSA</a></td><td class=\"side td5\">けたたましくなる目覚まし時計</td></tr>\\r\\n                       <tr><td class=\"side td1\"><a href=\"/song/150572/\">traumerei</a></td><td class=\"td2\"><a href=\"https://www.uta-net.com/artist/11591/\">LiSA</a></td><td class=\"td3\"><a href=\"https://www.uta-net.com/lyricist/5781/\">HIDEO NEKOTA</a></td><td class=\"td4\"><a href=\"https://www.uta-net.com/composer/7107/\">HIDEO NEKOTA</a></td><td class=\"side td5\">奪ってスローモーション</td></tr>\\r\\n                       <tr><td class=\"side td1\"><a href=\"/song/154522/\">DOCTOR</a></td><td class=\"td2\"><a href=\"https://www.uta-net.com/artist/11591/\">LiSA</a></td><td class=\"td3\"><a href=\"https://www.uta-net.com/lyricist/40876/\">LiSA</a></td><td class=\"td4\"><a href=\"https://www.uta-net.com/composer/24062/\">カヨコ</a></td><td class=\"side td5\">誘われて到着甘蜜の闇</td></tr>\\r\\n                       <tr><td class=\"side td1\"><a href=\"/song/126144/\">now and future</a></td><td class=\"td2\"><a href=\"https://www.uta-net.com/artist/11591/\">LiSA</a></td><td class=\"td3\"><a href=\"https://www.uta-net.com/lyricist/40876/\">LiSA</a></td><td class=\"td4\"><a href=\"https://www.uta-net.com/composer/36197/\">田淵智也</a></td><td class=\"side td5\">イメージを明日の向こうに</td></tr>\\r\\n                       <tr><td class=\"side td1\"><a href=\"/song/122465/\">ナミダ流星群</a></td><td class=\"td2\"><a href=\"https://www.uta-net.com/artist/11591/\">LiSA</a></td><td class=\"td3\"><a href=\"https://www.uta-net.com/lyricist/11366/\">meg rock</a></td><td class=\"td4\"><a href=\"https://www.uta-net.com/composer/35404/\">清水武仁</a></td><td class=\"side td5\">真夜中たったひとり悴む星</td></tr>\\r\\n                       <tr><td class=\"side td1\"><a href=\"/song/249480/\">NIPPON</a></td><td class=\"td2\"><a href=\"https://www.uta-net.com/artist/11591/\">LiSA</a></td><td class=\"td3\"><a href=\"https://www.uta-net.com/lyricist/33281/\">椎名林檎</a></td><td class=\"td4\"><a href=\"https://www.uta-net.com/composer/34308/\">椎名林檎</a></td><td class=\"side td5\">万歳万歳日本晴れ列島</td></tr>\\r\\n                       <tr><td class=\"side td1\"><a href=\"/song/176157/\">No More Time Machine</a></td><td class=\"td2\"><a href=\"https://www.uta-net.com/artist/11591/\">LiSA</a></td><td class=\"td3\"><a href=\"https://www.uta-net.com/lyricist/26419/\">古屋真</a></td><td class=\"td4\"><a href=\"https://www.uta-net.com/composer/38904/\">野間康介(agehasprings)</a></td><td class=\"side td5\">You need a time machine</td></tr>\\r\\n                       <tr><td class=\"side td1\"><a href=\"/song/206580/\">Hi FiVE!</a></td><td class=\"td2\"><a href=\"https://www.uta-net.com/artist/11591/\">LiSA</a></td><td class=\"td3\"><a href=\"https://www.uta-net.com/lyricist/10160/\">LiSA・田淵智也</a></td><td class=\"td4\"><a href=\"https://www.uta-net.com/composer/36197/\">田淵智也</a></td><td class=\"side td5\">願い星掴んだ汗だくのTシャツ</td></tr>\\r\\n                       <tr><td class=\"side td1\"><a href=\"/song/278749/\">ハウル</a></td><td class=\"td2\"><a href=\"https://www.uta-net.com/artist/11591/\">LiSA</a></td><td class=\"td3\"><a href=\"https://www.uta-net.com/lyricist/40876/\">LiSA</a></td><td class=\"td4\"><a href=\"https://www.uta-net.com/composer/7107/\">HIDEO NEKOTA</a></td><td class=\"side td5\">立ち止まって嘆いても</td></tr>\\r\\n                       <tr><td class=\"side td1\"><a href=\"/song/126141/\">花とミツバチ</a></td><td class=\"td2\"><a href=\"https://www.uta-net.com/artist/11591/\">LiSA</a></td><td class=\"td3\"><a href=\"https://www.uta-net.com/lyricist/26419/\">古屋真</a></td><td class=\"td4\"><a href=\"https://www.uta-net.com/composer/40211/\">黒須克彦</a></td><td class=\"side td5\">なんで取り替えっこなんてきっと</td></tr>\\r\\n                       <tr><td class=\"side td1\"><a href=\"/song/183192/\">晴れたらいいね</a></td><td class=\"td2\"><a href=\"https://www.uta-net.com/artist/11591/\">LiSA</a></td><td class=\"td3\"><a href=\"https://www.uta-net.com/lyricist/26713/\">吉田美和</a></td><td class=\"td4\"><a href=\"https://www.uta-net.com/composer/28696/\">吉田美和</a></td><td class=\"side td5\">山へ行こう次の日曜昔みたいに</td></tr>\\r\\n                       <tr><td class=\"side td1\"><a href=\"/song/248505/\">ハローグッデイ</a></td><td class=\"td2\"><a href=\"https://www.uta-net.com/artist/11591/\">LiSA</a></td><td class=\"td3\"><a href=\"https://www.uta-net.com/lyricist/40876/\">LiSA</a></td><td class=\"td4\"><a href=\"https://www.uta-net.com/composer/11889/\">LiSA・堀江晶太</a></td><td class=\"side td5\">移り行く季節がまるでいたずら</td></tr>\\r\\n                       <tr><td class=\"side td1\"><a href=\"/song/206577/\">halo-halo</a></td><td class=\"td2\"><a href=\"https://www.uta-net.com/artist/11591/\">LiSA</a></td><td class=\"td3\"><a href=\"https://www.uta-net.com/lyricist/40876/\">LiSA</a></td><td class=\"td4\"><a href=\"https://www.uta-net.com/composer/30397/\">小南泰葉</a></td><td class=\"side td5\">我愛 CINTA LOVE AMOR</td></tr>\\r\\n                       <tr><td class=\"side td1\"><a href=\"/song/122466/\">HANDS &amp; SMiLE</a></td><td class=\"td2\"><a href=\"https://www.uta-net.com/artist/11591/\">LiSA</a></td><td class=\"td3\"><a href=\"https://www.uta-net.com/lyricist/40876/\">LiSA</a></td><td class=\"td4\"><a href=\"https://www.uta-net.com/composer/24042/\">カノン</a></td><td class=\"side td5\">雨のち太陽強がりな</td></tr>\\r\\n                       <tr><td class=\"side td1\"><a href=\"/song/181505/\">Bad Sweet Trap</a></td><td class=\"td2\"><a href=\"https://www.uta-net.com/artist/11591/\">LiSA</a></td><td class=\"td3\"><a href=\"https://www.uta-net.com/lyricist/10160/\">LiSA・田淵智也</a></td><td class=\"td4\"><a href=\"https://www.uta-net.com/composer/36197/\">田淵智也</a></td><td class=\"side td5\">さあ見つかったらそれが最後</td></tr>\\r\\n                       <tr><td class=\"side td1\"><a href=\"/song/154520/\">ヒトリワラッテ</a></td><td class=\"td2\"><a href=\"https://www.uta-net.com/artist/11591/\">LiSA</a></td><td class=\"td3\"><a href=\"https://www.uta-net.com/lyricist/18746/\">wowaka</a></td><td class=\"td4\"><a href=\"https://www.uta-net.com/composer/21691/\">wowaka</a></td><td class=\"side td5\">私は独り笑ってた言葉にならぬ</td></tr>\\r\\n                       <tr><td class=\"side td1\"><a href=\"/song/248504/\">Believe in ourselves</a></td><td class=\"td2\"><a href=\"https://www.uta-net.com/artist/11591/\">LiSA</a></td><td class=\"td3\"><a href=\"https://www.uta-net.com/lyricist/10160/\">LiSA・田淵智也</a></td><td class=\"td4\"><a href=\"https://www.uta-net.com/composer/36197/\">田淵智也</a></td><td class=\"side td5\">一瞬だけ懐かしい匂いが僕の横</td></tr>\\r\\n                       <tr><td class=\"side td1\"><a href=\"/song/115391/\">Believe in myself</a></td><td class=\"td2\"><a href=\"https://www.uta-net.com/artist/11591/\">LiSA</a></td><td class=\"td3\"><a href=\"https://www.uta-net.com/lyricist/40876/\">LiSA</a></td><td class=\"td4\"><a href=\"https://www.uta-net.com/composer/41053/\">LiSA</a></td><td class=\"side td5\">Believe in myselfいつか</td></tr>\\r\\n                       <tr><td class=\"side td1\"><a href=\"/song/229816/\">Peace Beat Beast</a></td><td class=\"td2\"><a href=\"https://www.uta-net.com/artist/11591/\">LiSA</a></td><td class=\"td3\"><a href=\"https://www.uta-net.com/lyricist/26419/\">古屋真</a></td><td class=\"td4\"><a href=\"https://www.uta-net.com/composer/28319/\">南田健吾</a></td><td class=\"side td5\">Show me I\\'m a 猛獣マスター</td></tr>\\r\\n                       <tr><td class=\"side td1\"><a href=\"/song/181507/\">FRAGILE VAMPIRE</a></td><td class=\"td2\"><a href=\"https://www.uta-net.com/artist/11591/\">LiSA</a></td><td class=\"td3\"><a href=\"https://www.uta-net.com/lyricist/26419/\">古屋真</a></td><td class=\"td4\"><a href=\"https://www.uta-net.com/composer/5004/\">eba</a></td><td class=\"side td5\">解って欲しいそれだけなのに</td></tr>\\r\\n                      </tbody>\\r\\n          </table>\\r\\n\\r\\n          \\r\\n         </div>\\r\\n                 <div class=\"result_table last\">\\r\\n          <table summary=\"曲一覧4\">\\r\\n           <thead>\\r\\n            <tr>\\r\\n             <th class=\"th1\">曲名</th>\\r\\n             <th class=\"th2\">歌手名</th>\\r\\n             <th class=\"th3\">作詞者名</th>\\r\\n             <th class=\"th4\">作曲者名</th>\\r\\n             <th class=\"th5\">歌い出し</th>\\r\\n            </tr>\\r\\n           </thead>\\r\\n           <tbody>\\r\\n                       <tr><td class=\"side td1\"><a href=\"/song/170231/\">BRiGHT FLiGHT</a></td><td class=\"td2\"><a href=\"https://www.uta-net.com/artist/11591/\">LiSA</a></td><td class=\"td3\"><a href=\"https://www.uta-net.com/lyricist/40876/\">LiSA</a></td><td class=\"td4\"><a href=\"https://www.uta-net.com/composer/38903/\">野間康介</a></td><td class=\"side td5\">澄みきった大空一気にフライト</td></tr>\\r\\n                       <tr><td class=\"side td1\"><a href=\"/song/229815/\">Blue Moon</a></td><td class=\"td2\"><a href=\"https://www.uta-net.com/artist/11591/\">LiSA</a></td><td class=\"td3\"><a href=\"https://www.uta-net.com/lyricist/40876/\">LiSA</a></td><td class=\"td4\"><a href=\"https://www.uta-net.com/composer/24062/\">カヨコ</a></td><td class=\"side td5\">無限に広がる涙の湖</td></tr>\\r\\n                       <tr><td class=\"side td1\"><a href=\"/song/213433/\">Brave Freak Out</a></td><td class=\"td2\"><a href=\"https://www.uta-net.com/artist/11591/\">LiSA</a></td><td class=\"td3\"><a href=\"https://www.uta-net.com/lyricist/35452/\">田淵智也</a></td><td class=\"td4\"><a href=\"https://www.uta-net.com/composer/39887/\">高橋浩一郎</a></td><td class=\"side td5\">Let me think また一つ</td></tr>\\r\\n                       <tr><td class=\"side td1\"><a href=\"/song/270035/\">“PROPAGANDA”</a></td><td class=\"td2\"><a href=\"https://www.uta-net.com/artist/11591/\">LiSA</a></td><td class=\"td3\"><a href=\"https://www.uta-net.com/lyricist/31355/\">日高央</a></td><td class=\"td4\"><a href=\"https://www.uta-net.com/composer/15333/\">PABLO a.k.a. WTF!?</a></td><td class=\"side td5\">Find Out By yourself</td></tr>\\r\\n                       <tr><td class=\"side td1\"><a href=\"/song/144542/\">best day, best way</a><a href=\"https://www.uta-net.com/user/poplist.html\"><img src=\"/libs/img/parts/icon_gold.gif\" alt=\"GOLD LYLIC\" ></a></td><td class=\"td2\"><a href=\"https://www.uta-net.com/artist/11591/\">LiSA</a></td><td class=\"td3\"><a href=\"https://www.uta-net.com/lyricist/35452/\">田淵智也</a></td><td class=\"td4\"><a href=\"https://www.uta-net.com/composer/36197/\">田淵智也</a></td><td class=\"side td5\">走り出した心もう止まれない</td></tr>\\r\\n                       <tr><td class=\"side td1\"><a href=\"/song/154521/\">僕の言葉で</a></td><td class=\"td2\"><a href=\"https://www.uta-net.com/artist/11591/\">LiSA</a></td><td class=\"td3\"><a href=\"https://www.uta-net.com/lyricist/40876/\">LiSA</a></td><td class=\"td4\"><a href=\"https://www.uta-net.com/composer/40211/\">黒須克彦</a></td><td class=\"side td5\">外灯が夕闇彩って進まない</td></tr>\\r\\n                       <tr><td class=\"side td1\"><a href=\"/song/163580/\">ポーカーフェイス</a></td><td class=\"td2\"><a href=\"https://www.uta-net.com/artist/11591/\">LiSA</a></td><td class=\"td3\"><a href=\"https://www.uta-net.com/lyricist/40876/\">LiSA</a></td><td class=\"td4\"><a href=\"https://www.uta-net.com/composer/24062/\">カヨコ</a></td><td class=\"side td5\">通り過ぎた幾つもの偶然は</td></tr>\\r\\n                       <tr><td class=\"side td1\"><a href=\"/song/181511/\">Mr.Launcher</a></td><td class=\"td2\"><a href=\"https://www.uta-net.com/artist/11591/\">LiSA</a></td><td class=\"td3\"><a href=\"https://www.uta-net.com/lyricist/40876/\">LiSA</a></td><td class=\"td4\"><a href=\"https://www.uta-net.com/composer/7107/\">HIDEO NEKOTA</a></td><td class=\"side td5\">土砂降り続きの辛い日々に</td></tr>\\r\\n                       <tr><td class=\"side td1\"><a href=\"/song/181509/\">蜜</a></td><td class=\"td2\"><a href=\"https://www.uta-net.com/artist/11591/\">LiSA</a></td><td class=\"td3\"><a href=\"https://www.uta-net.com/lyricist/40876/\">LiSA</a></td><td class=\"td4\"><a href=\"https://www.uta-net.com/composer/24062/\">カヨコ</a></td><td class=\"side td5\">嘘が交差したmidnight 濡れた</td></tr>\\r\\n                       <tr><td class=\"side td1\"><a href=\"/song/115390/\">ミライカゼ</a></td><td class=\"td2\"><a href=\"https://www.uta-net.com/artist/11591/\">LiSA</a></td><td class=\"td3\"><a href=\"https://www.uta-net.com/lyricist/10157/\">LiSA・あにー</a></td><td class=\"td4\"><a href=\"https://www.uta-net.com/composer/22832/\">あにー</a></td><td class=\"side td5\">きらめく春風が初めて南から</td></tr>\\r\\n                       <tr><td class=\"side td1\"><a href=\"/song/115385/\">無色透明</a></td><td class=\"td2\"><a href=\"https://www.uta-net.com/artist/11591/\">LiSA</a></td><td class=\"td3\"><a href=\"https://www.uta-net.com/lyricist/40876/\">LiSA</a></td><td class=\"td4\"><a href=\"https://www.uta-net.com/composer/24042/\">カノン</a></td><td class=\"side td5\">時計の針が始りを知らせる</td></tr>\\r\\n                       <tr><td class=\"side td1\"><a href=\"/song/247337/\">ムーンライト伝説</a></td><td class=\"td2\"><a href=\"https://www.uta-net.com/artist/11591/\">LiSA</a></td><td class=\"td3\"><a href=\"https://www.uta-net.com/lyricist/29026/\">小田佳奈子</a></td><td class=\"td4\"><a href=\"https://www.uta-net.com/composer/30767/\">小諸鉄矢</a></td><td class=\"side td5\">ゴメンね素直じゃなくて</td></tr>\\r\\n                       <tr><td class=\"side td1\"><a href=\"/song/224079/\">Merry Hurry Berry</a></td><td class=\"td2\"><a href=\"https://www.uta-net.com/artist/11591/\">LiSA</a></td><td class=\"td3\"><a href=\"https://www.uta-net.com/lyricist/26419/\">古屋真</a></td><td class=\"td4\"><a href=\"https://www.uta-net.com/composer/27923/\">前山田健一</a></td><td class=\"side td5\">Merry Very Very イイじゃない</td></tr>\\r\\n                       <tr><td class=\"side td1\"><a href=\"/song/115386/\">妄想コントローラー</a></td><td class=\"td2\"><a href=\"https://www.uta-net.com/artist/11591/\">LiSA</a></td><td class=\"td3\"><a href=\"https://www.uta-net.com/lyricist/40876/\">LiSA</a></td><td class=\"td4\"><a href=\"https://www.uta-net.com/composer/36197/\">田淵智也</a></td><td class=\"side td5\">さっきおとぎの国からもって</td></tr>\\r\\n                       <tr><td class=\"side td1\"><a href=\"/song/270034/\">やくそくのうた</a></td><td class=\"td2\"><a href=\"https://www.uta-net.com/artist/11591/\">LiSA</a></td><td class=\"td3\"><a href=\"https://www.uta-net.com/lyricist/35452/\">田淵智也</a></td><td class=\"td4\"><a href=\"https://www.uta-net.com/composer/36197/\">田淵智也</a></td><td class=\"side td5\">胸がいっぱいで大渋滞だ</td></tr>\\r\\n                       <tr><td class=\"side td1\"><a href=\"/song/126145/\">優しさに辿りつくまで</a></td><td class=\"td2\"><a href=\"https://www.uta-net.com/artist/11591/\">LiSA</a></td><td class=\"td3\"><a href=\"https://www.uta-net.com/lyricist/40876/\">LiSA</a></td><td class=\"td4\"><a href=\"https://www.uta-net.com/composer/35554/\">渡辺翔</a></td><td class=\"side td5\">ボロボロになって聴こえた</td></tr>\\r\\n                       <tr><td class=\"side td1\"><a href=\"/song/150569/\">夕焼けノスタルジア</a></td><td class=\"td2\"><a href=\"https://www.uta-net.com/artist/11591/\">LiSA</a></td><td class=\"td3\"><a href=\"https://www.uta-net.com/lyricist/26419/\">古屋真</a></td><td class=\"td4\"><a href=\"https://www.uta-net.com/composer/40211/\">黒須克彦</a></td><td class=\"side td5\">夕暮れ君は今も憶えてるかな</td></tr>\\r\\n                       <tr><td class=\"side td1\"><a href=\"/song/163581/\">Rising Hope</a><a href=\"https://www.uta-net.com/user/poplist.html\"><img src=\"/libs/img/parts/icon_platina.gif\" alt=\"PLATINA LYLIC\" ></a></td><td class=\"td2\"><a href=\"https://www.uta-net.com/artist/11591/\">LiSA</a></td><td class=\"td3\"><a href=\"https://www.uta-net.com/lyricist/10160/\">LiSA・田淵智也</a></td><td class=\"td4\"><a href=\"https://www.uta-net.com/composer/36197/\">田淵智也</a></td><td class=\"side td5\">握ったメッセージ that\\'s</td></tr>\\r\\n                       <tr><td class=\"side td1\"><a href=\"/song/126136/\">LOVER“S”MiLE</a></td><td class=\"td2\"><a href=\"https://www.uta-net.com/artist/11591/\">LiSA</a></td><td class=\"td3\"><a href=\"https://www.uta-net.com/lyricist/40876/\">LiSA</a></td><td class=\"td4\"><a href=\"https://www.uta-net.com/composer/28349/\">原一博</a></td><td class=\"side td5\">隣に居るけど手も握れるけど</td></tr>\\r\\n                       <tr><td class=\"side td1\"><a href=\"/song/181510/\">rapid life シンドローム</a></td><td class=\"td2\"><a href=\"https://www.uta-net.com/artist/11591/\">LiSA</a></td><td class=\"td3\"><a href=\"https://www.uta-net.com/lyricist/35452/\">田淵智也</a></td><td class=\"td4\"><a href=\"https://www.uta-net.com/composer/36197/\">田淵智也</a></td><td class=\"side td5\">boys and girls say life is rapid</td></tr>\\r\\n                       <tr><td class=\"side td1\"><a href=\"/song/206581/\">ラブリーデイ</a></td><td class=\"td2\"><a href=\"https://www.uta-net.com/artist/11591/\">LiSA</a></td><td class=\"td3\"><a href=\"https://www.uta-net.com/lyricist/10159/\">LiSA・古屋真</a></td><td class=\"td4\"><a href=\"https://www.uta-net.com/composer/38904/\">野間康介(agehasprings)</a></td><td class=\"side td5\">愛をそっと勇気をもっと</td></tr>\\r\\n                       <tr><td class=\"side td1\"><a href=\"/song/186932/\">Rally Go Round</a><a href=\"https://www.uta-net.com/user/poplist.html\"><img src=\"/libs/img/parts/icon_gold.gif\" alt=\"GOLD LYLIC\" ></a></td><td class=\"td2\"><a href=\"https://www.uta-net.com/artist/11591/\">LiSA</a></td><td class=\"td3\"><a href=\"https://www.uta-net.com/lyricist/10159/\">LiSA・古屋真</a></td><td class=\"td4\"><a href=\"https://www.uta-net.com/composer/23173/\">じん</a></td><td class=\"side td5\">もう散々ぐるぐるしたじゃない</td></tr>\\r\\n                       <tr><td class=\"side td1\"><a href=\"/song/194754/\">リスキー</a></td><td class=\"td2\"><a href=\"https://www.uta-net.com/artist/11591/\">LiSA</a></td><td class=\"td3\"><a href=\"https://www.uta-net.com/lyricist/40876/\">LiSA</a></td><td class=\"td4\"><a href=\"https://www.uta-net.com/composer/30397/\">小南泰葉</a></td><td class=\"side td5\">なんでもない出来事で</td></tr>\\r\\n                       <tr><td class=\"side td1\"><a href=\"/song/229821/\">LiTTLE DEViL PARADE</a></td><td class=\"td2\"><a href=\"https://www.uta-net.com/artist/11591/\">LiSA</a></td><td class=\"td3\"><a href=\"https://www.uta-net.com/lyricist/40876/\">LiSA</a></td><td class=\"td4\"><a href=\"https://www.uta-net.com/composer/15332/\">PABLO a.k.a WTF!?</a></td><td class=\"side td5\">ココロの泣いてる声が聴こえる</td></tr>\\r\\n                       <tr><td class=\"side td1\"><a href=\"/song/224080/\">リングアベル</a></td><td class=\"td2\"><a href=\"https://www.uta-net.com/artist/11591/\">LiSA</a></td><td class=\"td3\"><a href=\"https://www.uta-net.com/lyricist/40876/\">LiSA</a></td><td class=\"td4\"><a href=\"https://www.uta-net.com/composer/38904/\">野間康介(agehasprings)</a></td><td class=\"side td5\">あの日こっそり僕に</td></tr>\\r\\n                       <tr><td class=\"side td1\"><a href=\"/song/229820/\">LOSER\\u3000～希望と未来に無縁のカタルシス～</a></td><td class=\"td2\"><a href=\"https://www.uta-net.com/artist/11591/\">LiSA</a></td><td class=\"td3\"><a href=\"https://www.uta-net.com/lyricist/40876/\">LiSA</a></td><td class=\"td4\"><a href=\"https://www.uta-net.com/composer/24062/\">カヨコ</a></td><td class=\"side td5\">不平等に与えられた手の中の</td></tr>\\r\\n                       <tr><td class=\"side td1\"><a href=\"/song/126140/\">ROCK-mode</a><a href=\"https://www.uta-net.com/user/poplist.html\"><img src=\"/libs/img/parts/icon_gold.gif\" alt=\"GOLD LYLIC\" ></a></td><td class=\"td2\"><a href=\"https://www.uta-net.com/artist/11591/\">LiSA</a></td><td class=\"td3\"><a href=\"https://www.uta-net.com/lyricist/10160/\">LiSA・田淵智也</a></td><td class=\"td4\"><a href=\"https://www.uta-net.com/composer/36197/\">田淵智也</a></td><td class=\"side td5\">即効性の不安材料で毎日が</td></tr>\\r\\n                       <tr><td class=\"side td1\"><a href=\"/song/126142/\">WiLD CANDY</a></td><td class=\"td2\"><a href=\"https://www.uta-net.com/artist/11591/\">LiSA</a></td><td class=\"td3\"><a href=\"https://www.uta-net.com/lyricist/26419/\">古屋真</a></td><td class=\"td4\"><a href=\"https://www.uta-net.com/composer/36776/\">礒崎健史</a></td><td class=\"side td5\">ドロップの箱ふってこれが</td></tr>\\r\\n                       <tr><td class=\"side td1\"><a href=\"/song/154516/\">winding road</a></td><td class=\"td2\"><a href=\"https://www.uta-net.com/artist/11591/\">LiSA</a></td><td class=\"td3\"><a href=\"https://www.uta-net.com/lyricist/40876/\">LiSA</a></td><td class=\"td4\"><a href=\"https://www.uta-net.com/composer/41053/\">LiSA</a></td><td class=\"side td5\">最後の1ページそっと書き足す</td></tr>\\r\\n                       <tr><td class=\"side td1\"><a href=\"/song/126139/\">笑ってほしくて</a></td><td class=\"td2\"><a href=\"https://www.uta-net.com/artist/11591/\">LiSA</a></td><td class=\"td3\"><a href=\"https://www.uta-net.com/lyricist/40876/\">LiSA</a></td><td class=\"td4\"><a href=\"https://www.uta-net.com/composer/31764/\">川原祥太</a></td><td class=\"side td5\">曇り空の下ひまわりはうつむき</td></tr>\\r\\n                      </tbody>\\r\\n          </table>\\r\\n\\r\\n          \\r\\n         </div>\\r\\n        \\r\\n        <div class=\"bottom clearfix\">\\r\\n         <div id=\"page_list\">\\r\\n                  </div>\\r\\n        </div>\\r\\n        \\r\\n                 <div id=\"wiki\">\\r\\n          <div class=\"main\">\\r\\n           <p class=\"body\">\\r\\n            LiSA（リサ、1987年6月24日 - ）は、日本の女性歌手。岐阜県関市出身。PARKING OUTのメンバーと結成したロックバンド「Love is Same All」のボーカリスト。「Love is Same All」は「LiSA」という名前から命名。血液型はB型。 <a href=\"http://ja.wikipedia.org/wiki/LiSA\" class=\"popWin\">wikipedia</a>\\r\\n           </p>\\r\\n          </div>\\r\\n          <div class=\"foot\"></div>\\r\\n         </div>\\r\\n        \\r\\n        \\r\\n        \\r\\n        <div id=\"bottom_banner\" class=\"clearfix\">\\r\\n            <div class=\"left\">\\r\\n               <!-- /9168657/PC_一覧_フッター左_300x250 -->\\r\\n                <div id=\"div-gpt-ad-1506841771279-2\">\\r\\n                    <script>\\r\\n                       googletag.cmd.push(function() {\\r\\n                         googletag.display(\\'div-gpt-ad-1506841771279-2\\');\\r\\n                         //googletag.pubads();\\r\\n                       });\\r\\n                    </script>\\r\\n                </div>\\r\\n            </div>\\r\\n            <div class=\"right\">\\r\\n                <!-- /9168657/PC_一覧_フッター右_300x250 -->\\r\\n                <div id=\"div-gpt-ad-1506841771279-3\">\\r\\n                    <script>\\r\\n                       googletag.cmd.push(function() {\\r\\n                         googletag.display(\\'div-gpt-ad-1506841771279-3\\');\\r\\n                         //googletag.pubads();\\r\\n                       });\\r\\n                    </script>\\r\\n                </div>\\r\\n            </div>\\r\\n        </div>\\r\\n    </div>\\r\\n    \\r\\n    \\r\\n    \\r\\n    <div id=\"side_left_banner\" class=\"fixed_area_l\" style=\"position:absolute;top:238px;\">\\r\\n        <div id=\"div-gpt-ad-1515057359832-0\">\\r\\n            <script>\\r\\n               googletag.cmd.push(function() {\\r\\n                 googletag.display(\\'div-gpt-ad-1515057359832-0\\');\\r\\n                 //googletag.pubads();\\r\\n               });\\r\\n            </script>\\r\\n         </div>       \\r\\n    </div>\\r\\n\\r\\n    \\r\\n    <div id=\"side_right_banner\" class=\"fixed_area_r\" style=\"position:absolute;top:238px;\">\\r\\n        <div id=\"div-gpt-ad-1515057359832-1\">\\r\\n            <script>\\r\\n               googletag.cmd.push(function() {\\r\\n                 googletag.display(\\'div-gpt-ad-1515057359832-1\\');\\r\\n                 //googletag.pubads();\\r\\n               });\\r\\n            </script>\\r\\n        </div>\\r\\n    </div>\\r\\n</div>\\r\\n\\r\\n\\r\\n<div id=\"footer_to_top\"><a href=\"#top\"><span>TOP</span></a></div>\\r\\n<div id=\"footer_map\">\\r\\n\\t<div class=\"inner clearfix\">\\r\\n\\t\\t<dl>\\r\\n\\t\\t\\t<dt><span>歌詞検索の方法</span></dt>\\r\\n\\t\\t\\t<dd>\\r\\n\\t\\t\\t\\t<ul>\\r\\n\\t\\t\\t\\t\\t<li><a href=\"https://www.uta-net.com/name_list/\">アーティスト名インデックス</a></li>\\r\\n\\t\\t\\t\\t\\t<li><a href=\"https://www.uta-net.com/user/search/anime_list.html\">アニソン検索・索引</a></li>\\r\\n\\t\\t\\t\\t\\t<li><a href=\"https://www.uta-net.com/user/search_index/name.html\">アルバム検索</a></li>\\r\\n\\t\\t\\t\\t\\t<li><a href=\"https://www.uta-net.com/user/index_search/search1.html\">歌詞全文（フレーズ）検索</a></li>\\r\\n\\t\\t\\t\\t\\t<li><a href=\"https://www.uta-net.com/user/timemachine/index.html\">タイムマシン検索</a></li>\\r\\n\\t\\t\\t\\t</ul>\\r\\n\\t\\t\\t</dd>\\r\\n\\t\\t</dl>\\r\\n\\t\\t<dl>\\r\\n\\t\\t\\t<dt><span>歌詞更新リスト</span></dt>\\r\\n\\t\\t\\t<dd>\\r\\n\\t\\t\\t\\t<ul>\\r\\n\\t\\t\\t\\t\\t<li><a href=\"https://www.uta-net.com/user/newsong/release_top.html\">新曲歌詞情報</a></li>\\r\\n\\t\\t\\t\\t\\t<li><a href=\"https://www.uta-net.com/user/newsong/release_top_2.html\">新曲歌詞情報（演歌・歌謡曲）</a></li>\\r\\n\\t\\t\\t\\t\\t<li><a href=\"https://www.uta-net.com/user/search_index/album_index.html\">今月のアルバム特集</a></li>\\r\\n\\t\\t\\t\\t\\t<li><a href=\"https://www.uta-net.com/info/mail.html\">リクエストフォーム</a></li>\\r\\n\\t\\t\\t\\t</ul>\\r\\n\\t\\t\\t</dd>\\r\\n\\t\\t</dl>\\r\\n\\t\\t<dl>\\r\\n\\t\\t\\t<dt><span>歌詞検索ランキング</span></dt>\\r\\n\\t\\t\\t<dd>\\r\\n\\t\\t\\t\\t<ul>\\r\\n\\t\\t\\t\\t\\t<li><a href=\"https://www.uta-net.com/user/ranking/daily.html\">総合ランキング</a></li>\\r\\n\\t\\t\\t\\t\\t<li><a href=\"https://www.uta-net.com/user/otona/access_ranking.html\">演歌歌謡曲ランキング</a></li>\\r\\n\\t\\t\\t\\t\\t<li><a href=\"https://www.uta-net.com/user/otona/karaoke_ranking_sogo.html\">カラオケランキング</a></li>\\r\\n\\t\\t\\t\\t\\t<li><a href=\"https://www.uta-net.com/user/poplist.html?sort=4\">歴代人気曲ランキング</a></li>\\r\\n\\t\\t\\t\\t\\t<li><a href=\"https://www.uta-net.com/renew/myutanet/index.php?mode=week\">お気に入りアーティストランキング</a></li>\\r\\n\\t\\t\\t\\t</ul>\\r\\n\\t\\t\\t</dd>\\r\\n\\t\\t</dl>\\r\\n\\t\\t<dl>\\r\\n\\t\\t\\t<dt><span>コンテンツ1</span></dt>\\r\\n\\t\\t\\t<dd>\\r\\n\\t\\t\\t\\t<ul>\\r\\n\\t\\t\\t\\t\\t<li><a href=\"https://www.uta-net.com/movie/\">動画プラス</a></li>\\r\\n\\t\\t\\t\\t\\t<li><a href=\"https://www.uta-net.com/user/otona/index.html\">音楽番組情報</a></li>\\r\\n\\t\\t\\t\\t\\t\\r\\n\\t\\t\\t\\t\\t<li><a href=\"https://www.uta-net.com/user/watafure/watafure_top.html\">コトバのキモチ（ワタフレ）</a></li>\\r\\n\\t\\t\\t\\t\\t\\r\\n\\t\\t\\t\\t\\t<li><a href=\"https://www.uta-net.com/livereport/\">ライブレポート</a></li>\\r\\n\\t\\t\\t\\t</ul>\\r\\n\\t\\t\\t</dd>\\r\\n\\t\\t</dl>\\r\\n\\t\\t<dl>\\r\\n\\t\\t\\t<dt><span>コンテンツ2</span></dt>\\r\\n\\t\\t\\t<dd>\\r\\n\\t\\t\\t\\t<ul>\\r\\n\\t\\t\\t\\t\\t<li><a href=\"https://www.uta-net.com/user/writer/news.html\">音楽ニュース</a></li>\\r\\n\\t\\t\\t\\t\\t<li><a href=\"https://www.uta-net.com/user/close_up/index.html\">特集ピックアップ</a></li>\\r\\n\\t\\t\\t\\t\\t<li><a href=\"https://www.uta-net.com/user/interview/index.html\">インタビュー</a></li>\\r\\n\\t\\t\\t\\t\\t<li><a href=\"https://www.uta-net.com/user/column/index.html\">言葉の魔法</a></li>\\r\\n\\t\\t\\t\\t\\t<li><a href=\"https://www.uta-net.com/user/tatsujin/index.html\">言葉の達人</a></li>\\r\\n\\t\\t\\t\\t</ul>\\r\\n\\t\\t\\t</dd>\\r\\n\\t\\t</dl>\\r\\n\\t</div>\\r\\n</div>\\r\\n\\r\\n\\r\\n<!-- footerここから -->\\r\\n<div id=\"footer_bottom\">\\r\\n\\t\\r\\n\\t<div id=\"footer_links\">\\r\\n\\t\\t<ul>\\r\\n\\t\\t\\t<li><a href=\"https://www.uta-net.com/info/kiyaku.html\">利用規約</a></li>\\r\\n\\t\\t\\t<li><a href=\"https://www.uta-net.com/info/Privacy.html\">プライバシーポリシー</a></li>\\r\\n\\t\\t\\t<li><a href=\"https://www.uta-net.com/info/mail.html\">お問い合わせ・リクエスト</a></li>\\r\\n\\t\\t\\t<li><a href=\"https://www.uta-net.com/info/contents_info.html\">コンテンツ</a></li>\\r\\n\\t\\t\\t<li><a href=\"http://www.pageone.co.jp/ad/ad_info.html\" target=\"_blank\">広告掲載</a></li>\\r\\n\\t\\t\\t<li><a href=\"https://www.uta-net.com/info/staff_index.html\">スタッフ募集</a></li>\\r\\n\\t\\t</ul>\\r\\n\\t</div>\\r\\n\\t<div id=\"footer_text\">各ページに掲載されたジャケット画像、歌詞に関する著作権は、各レコード会社、アーティストなどに帰属します。</div>\\r\\n\\t\\r\\n\\t<div id=\"footer_copy\">\\r\\n\\t\\t<p class=\"copyright\">(C)2001 PAGE ONE All Rights Reserved.</p>\\r\\n\\t</div>\\r\\n</div>\\r\\n\\r\\n<!-- footerここまで -->\\r\\n</body>\\r\\n</html>\\r\\n'"
      ]
     },
     "execution_count": 40,
     "metadata": {},
     "output_type": "execute_result"
    }
   ],
   "source": [
    "artist_page"
   ]
  },
  {
   "cell_type": "code",
   "execution_count": 41,
   "metadata": {
    "colab": {},
    "colab_type": "code",
    "id": "zG65T3GTXRcZ"
   },
   "outputs": [],
   "source": [
    "# タグをすべて取得する関数\n",
    "def get_tags(page, target_tag):\n",
    "  soup = bs4.BeautifulSoup(str(page), 'html.parser')\n",
    "  tags = soup.find_all(target_tag)\n",
    "  return tags"
   ]
  },
  {
   "cell_type": "code",
   "execution_count": 42,
   "metadata": {
    "colab": {
     "base_uri": "https://localhost:8080/",
     "height": 1000
    },
    "colab_type": "code",
    "id": "4S3pgQScFc1o",
    "outputId": "282aa9a0-63c4-4fc4-ae05-4227f8b53a94",
    "scrolled": true
   },
   "outputs": [
    {
     "data": {
      "text/plain": [
       "[<td class=\"side td1\"><a href=\"/song/150571/\">I doubt it</a></td>,\n",
       " <td class=\"td2\"><a href=\"https://www.uta-net.com/artist/11591/\">LiSA</a></td>,\n",
       " <td class=\"td3\"><a href=\"https://www.uta-net.com/lyricist/40876/\">LiSA</a></td>,\n",
       " <td class=\"td4\"><a href=\"https://www.uta-net.com/composer/31643/\">岸田</a></td>,\n",
       " <td class=\"side td5\">確かな耳鳴りゆがんだ世界に</td>,\n",
       " <td class=\"side td1\"><a href=\"/song/198612/\">ID</a></td>,\n",
       " <td class=\"td2\"><a href=\"https://www.uta-net.com/artist/11591/\">LiSA</a></td>,\n",
       " <td class=\"td3\"><a href=\"https://www.uta-net.com/lyricist/10159/\">LiSA・古屋真</a></td>,\n",
       " <td class=\"td4\"><a href=\"https://www.uta-net.com/composer/39887/\">高橋浩一郎</a></td>,\n",
       " <td class=\"side td5\">全方向完全アウェイで</td>,\n",
       " <td class=\"side td1\"><a href=\"/song/144541/\">I'm a Rock star</a></td>,\n",
       " <td class=\"td2\"><a href=\"https://www.uta-net.com/artist/11591/\">LiSA</a></td>,\n",
       " <td class=\"td3\"><a href=\"https://www.uta-net.com/lyricist/10159/\">LiSA・古屋真</a></td>,\n",
       " <td class=\"td4\"><a href=\"https://www.uta-net.com/composer/36752/\">磯崎健史</a></td>,\n",
       " <td class=\"side td5\">ネオンの灯り染まった街中</td>,\n",
       " <td class=\"side td1\"><a href=\"/song/260369/\">赤い罠(who loves it?)</a></td>,\n",
       " <td class=\"td2\"><a href=\"https://www.uta-net.com/artist/11591/\">LiSA</a></td>,\n",
       " <td class=\"td3\"><a href=\"https://www.uta-net.com/lyricist/10160/\">LiSA・田淵智也</a></td>,\n",
       " <td class=\"td4\"><a href=\"https://www.uta-net.com/composer/36197/\">田淵智也</a></td>,\n",
       " <td class=\"side td5\">それでもアナタに惹かれて</td>,\n",
       " <td class=\"side td1\"><a href=\"/song/213432/\">AxxxiS</a></td>,\n",
       " <td class=\"td2\"><a href=\"https://www.uta-net.com/artist/11591/\">LiSA</a></td>,\n",
       " <td class=\"td3\"><a href=\"https://www.uta-net.com/lyricist/26419/\">古屋真</a></td>,\n",
       " <td class=\"td4\"><a href=\"https://www.uta-net.com/composer/5004/\">eba</a></td>,\n",
       " <td class=\"side td5\">前ならえに抵抗しだした僕らは</td>,\n",
       " <td class=\"side td1\"><a href=\"/song/181508/\">アコガレ望遠鏡</a></td>,\n",
       " <td class=\"td2\"><a href=\"https://www.uta-net.com/artist/11591/\">LiSA</a></td>,\n",
       " <td class=\"td3\"><a href=\"https://www.uta-net.com/lyricist/26419/\">古屋真</a></td>,\n",
       " <td class=\"td4\"><a href=\"https://www.uta-net.com/composer/5004/\">eba</a></td>,\n",
       " <td class=\"side td5\">ひとりぼっちには慣れてんだ</td>,\n",
       " <td class=\"side td1\"><a href=\"/song/163669/\">アシアトコンパス</a></td>,\n",
       " <td class=\"td2\"><a href=\"https://www.uta-net.com/artist/11591/\">LiSA</a></td>,\n",
       " <td class=\"td3\"><a href=\"https://www.uta-net.com/lyricist/40876/\">LiSA</a></td>,\n",
       " <td class=\"td4\"><a href=\"https://www.uta-net.com/composer/31202/\">山本陽介</a></td>,\n",
       " <td class=\"side td5\">更新した星占い期待してた</td>,\n",
       " <td class=\"side td1\"><a href=\"/song/257111/\">ADAMAS</a><a href=\"https://www.uta-net.com/user/poplist.html\"><img alt=\"GOLD LYLIC\" src=\"/libs/img/parts/icon_gold.gif\"/></a></td>,\n",
       " <td class=\"td2\"><a href=\"https://www.uta-net.com/artist/11591/\">LiSA</a></td>,\n",
       " <td class=\"td3\"><a href=\"https://www.uta-net.com/lyricist/40876/\">LiSA</a></td>,\n",
       " <td class=\"td4\"><a href=\"https://www.uta-net.com/composer/24062/\">カヨコ</a></td>,\n",
       " <td class=\"side td5\">大義名分に痺れ切らした</td>,\n",
       " <td class=\"side td1\"><a href=\"/song/240265/\">ASH</a></td>,\n",
       " <td class=\"td2\"><a href=\"https://www.uta-net.com/artist/11591/\">LiSA</a></td>,\n",
       " <td class=\"td3\"><a href=\"https://www.uta-net.com/lyricist/22971/\">マオ(シド)</a></td>,\n",
       " <td class=\"td4\"><a href=\"https://www.uta-net.com/composer/32265/\">御恵明希(シド)</a></td>,\n",
       " <td class=\"side td5\">雨の雫みたい迷いながら</td>,\n",
       " <td class=\"side td1\"><a href=\"/song/163579/\">雨上がりの空とキミ</a></td>,\n",
       " <td class=\"td2\"><a href=\"https://www.uta-net.com/artist/11591/\">LiSA</a></td>,\n",
       " <td class=\"td3\"><a href=\"https://www.uta-net.com/lyricist/27028/\">園田智也</a></td>,\n",
       " <td class=\"td4\"><a href=\"https://www.uta-net.com/composer/30123/\">宮城裕次</a></td>,\n",
       " <td class=\"side td5\">夜明け前の空雨音は遠くに</td>,\n",
       " <td class=\"side td1\"><a href=\"/song/181506/\">ANTIHERO</a></td>,\n",
       " <td class=\"td2\"><a href=\"https://www.uta-net.com/artist/11591/\">LiSA</a></td>,\n",
       " <td class=\"td3\"><a href=\"https://www.uta-net.com/lyricist/40876/\">LiSA</a></td>,\n",
       " <td class=\"td4\"><a href=\"https://www.uta-net.com/composer/23173/\">じん</a></td>,\n",
       " <td class=\"side td5\">カタチない世界にログイン</td>,\n",
       " <td class=\"side td1\"><a href=\"/song/126138/\">アンフィル</a></td>,\n",
       " <td class=\"td2\"><a href=\"https://www.uta-net.com/artist/11591/\">LiSA</a></td>,\n",
       " <td class=\"td3\"><a href=\"https://www.uta-net.com/lyricist/20551/\">とく</a></td>,\n",
       " <td class=\"td4\"><a href=\"https://www.uta-net.com/composer/23302/\">とく</a></td>,\n",
       " <td class=\"side td5\">肩にとまったため息ひとつ</td>,\n",
       " <td class=\"side td1\"><a href=\"/song/278546/\">unlasting</a></td>,\n",
       " <td class=\"td2\"><a href=\"https://www.uta-net.com/artist/11591/\">LiSA</a></td>,\n",
       " <td class=\"td3\"><a href=\"https://www.uta-net.com/lyricist/40876/\">LiSA</a></td>,\n",
       " <td class=\"td4\"><a href=\"https://www.uta-net.com/composer/37684/\">草野華余子</a></td>,\n",
       " <td class=\"side td5\">一人きりでも平気</td>,\n",
       " <td class=\"side td1\"><a href=\"/song/133655/\">いつかの手紙</a></td>,\n",
       " <td class=\"td2\"><a href=\"https://www.uta-net.com/artist/11591/\">LiSA</a></td>,\n",
       " <td class=\"td3\"><a href=\"https://www.uta-net.com/lyricist/26419/\">古屋真</a></td>,\n",
       " <td class=\"td4\"><a href=\"https://www.uta-net.com/composer/40211/\">黒須克彦</a></td>,\n",
       " <td class=\"side td5\">まるで心にいつでもある</td>,\n",
       " <td class=\"side td1\"><a href=\"/song/248506/\">WiLL～無色透明～</a></td>,\n",
       " <td class=\"td2\"><a href=\"https://www.uta-net.com/artist/11591/\">LiSA</a></td>,\n",
       " <td class=\"td3\"><a href=\"https://www.uta-net.com/lyricist/40876/\">LiSA</a></td>,\n",
       " <td class=\"td4\"><a href=\"https://www.uta-net.com/composer/27173/\">伊秩弘将</a></td>,\n",
       " <td class=\"side td5\">リュックの中希望を詰めたまま</td>,\n",
       " <td class=\"side td1\"><a href=\"/song/186930/\">Wake up! Sloth</a></td>,\n",
       " <td class=\"td2\"><a href=\"https://www.uta-net.com/artist/11591/\">LiSA</a></td>,\n",
       " <td class=\"td3\"><a href=\"https://www.uta-net.com/lyricist/40876/\">LiSA</a></td>,\n",
       " <td class=\"td4\"><a href=\"https://www.uta-net.com/composer/20668/\">Tom-H@ck</a></td>,\n",
       " <td class=\"side td5\">Wake up Wake up Wake up</td>,\n",
       " <td class=\"side td1\"><a href=\"/song/154518/\">うそつきの涙</a></td>,\n",
       " <td class=\"td2\"><a href=\"https://www.uta-net.com/artist/11591/\">LiSA</a></td>,\n",
       " <td class=\"td3\"><a href=\"https://www.uta-net.com/lyricist/26419/\">古屋真</a></td>,\n",
       " <td class=\"td4\"><a href=\"https://www.uta-net.com/composer/35416/\">清水葉子</a></td>,\n",
       " <td class=\"side td5\">近くにいるよすぐそばにいるんだよ</td>,\n",
       " <td class=\"side td1\"><a href=\"/song/115389/\">永遠</a></td>,\n",
       " <td class=\"td2\"><a href=\"https://www.uta-net.com/artist/11591/\">LiSA</a></td>,\n",
       " <td class=\"td3\"><a href=\"https://www.uta-net.com/lyricist/40876/\">LiSA</a></td>,\n",
       " <td class=\"td4\"><a href=\"https://www.uta-net.com/composer/31643/\">岸田</a></td>,\n",
       " <td class=\"side td5\">どうしてこうなるならどうして</td>,\n",
       " <td class=\"side td1\"><a href=\"/song/126143/\">EGOiSTiC SHOOTER</a></td>,\n",
       " <td class=\"td2\"><a href=\"https://www.uta-net.com/artist/11591/\">LiSA</a></td>,\n",
       " <td class=\"td3\"><a href=\"https://www.uta-net.com/lyricist/40876/\">LiSA</a></td>,\n",
       " <td class=\"td4\"><a href=\"https://www.uta-net.com/composer/21691/\">wowaka</a></td>,\n",
       " <td class=\"side td5\">いつまで隠してんのバレバレな</td>,\n",
       " <td class=\"side td1\"><a href=\"/song/115388/\">エスケープゲーム</a></td>,\n",
       " <td class=\"td2\"><a href=\"https://www.uta-net.com/artist/11591/\">LiSA</a></td>,\n",
       " <td class=\"td3\"><a href=\"https://www.uta-net.com/lyricist/40876/\">LiSA</a></td>,\n",
       " <td class=\"td4\"><a href=\"https://www.uta-net.com/composer/25067/\">ハチ</a></td>,\n",
       " <td class=\"side td5\">お訪ねしますがここはどこですか</td>,\n",
       " <td class=\"side td1\"><a href=\"/song/260496/\">1/f</a></td>,\n",
       " <td class=\"td2\"><a href=\"https://www.uta-net.com/artist/11591/\">LiSA</a></td>,\n",
       " <td class=\"td3\"><a href=\"https://www.uta-net.com/lyricist/35283/\">田中秀典</a></td>,\n",
       " <td class=\"td4\"><a href=\"https://www.uta-net.com/composer/6432/\">goodtimes</a></td>,\n",
       " <td class=\"side td5\">橙に浸されてゆく街</td>,\n",
       " <td class=\"side td1\"><a href=\"/song/170230/\">L.Miranic</a></td>,\n",
       " <td class=\"td2\"><a href=\"https://www.uta-net.com/artist/11591/\">LiSA</a></td>,\n",
       " <td class=\"td3\"><a href=\"https://www.uta-net.com/lyricist/40876/\">LiSA</a></td>,\n",
       " <td class=\"td4\"><a href=\"https://www.uta-net.com/composer/12336/\">MAH</a></td>,\n",
       " <td class=\"side td5\">ワガママを煮詰めたったなら</td>,\n",
       " <td class=\"side td1\"><a href=\"/song/181504/\">エレクトリリカル</a></td>,\n",
       " <td class=\"td2\"><a href=\"https://www.uta-net.com/artist/11591/\">LiSA</a></td>,\n",
       " <td class=\"td3\"><a href=\"https://www.uta-net.com/lyricist/26419/\">古屋真</a></td>,\n",
       " <td class=\"td4\"><a href=\"https://www.uta-net.com/composer/35554/\">渡辺翔</a></td>,\n",
       " <td class=\"side td5\">キミがアタシを選ぶのは</td>,\n",
       " <td class=\"side td1\"><a href=\"/song/194755/\">Empty MERMAiD</a></td>,\n",
       " <td class=\"td2\"><a href=\"https://www.uta-net.com/artist/11591/\">LiSA</a></td>,\n",
       " <td class=\"td3\"><a href=\"https://www.uta-net.com/lyricist/40876/\">LiSA</a></td>,\n",
       " <td class=\"td4\"><a href=\"https://www.uta-net.com/composer/22003/\">YOOKEY(from UPLIFT SPICE)</a></td>,\n",
       " <td class=\"side td5\">Damn まんまと開いたGATE</td>,\n",
       " <td class=\"side td1\"><a href=\"/song/229817/\">狼とミサンガ</a></td>,\n",
       " <td class=\"td2\"><a href=\"https://www.uta-net.com/artist/11591/\">LiSA</a></td>,\n",
       " <td class=\"td3\"><a href=\"https://www.uta-net.com/lyricist/40876/\">LiSA</a></td>,\n",
       " <td class=\"td4\"><a href=\"https://www.uta-net.com/composer/38903/\">野間康介</a></td>,\n",
       " <td class=\"side td5\">扉のむこうで止まる足音</td>,\n",
       " <td class=\"side td1\"><a href=\"/song/272261/\">オリオンをなぞる</a></td>,\n",
       " <td class=\"td2\"><a href=\"https://www.uta-net.com/artist/11591/\">LiSA</a></td>,\n",
       " <td class=\"td3\"><a href=\"https://www.uta-net.com/lyricist/35452/\">田淵智也</a></td>,\n",
       " <td class=\"td4\"><a href=\"https://www.uta-net.com/composer/36197/\">田淵智也</a></td>,\n",
       " <td class=\"side td5\">ごきげんようどうかしたんだろ</td>,\n",
       " <td class=\"side td1\"><a href=\"/song/186931/\">オレンジサイダー</a></td>,\n",
       " <td class=\"td2\"><a href=\"https://www.uta-net.com/artist/11591/\">LiSA</a></td>,\n",
       " <td class=\"td3\"><a href=\"https://www.uta-net.com/lyricist/40876/\">LiSA</a></td>,\n",
       " <td class=\"td4\"><a href=\"https://www.uta-net.com/composer/39887/\">高橋浩一郎</a></td>,\n",
       " <td class=\"side td5\">小さな奇跡を願って騒いだ</td>,\n",
       " <td class=\"side td1\"><a href=\"/song/206575/\">終わらない冒険</a></td>,\n",
       " <td class=\"td2\"><a href=\"https://www.uta-net.com/artist/11591/\">LiSA</a></td>,\n",
       " <td class=\"td3\"><a href=\"https://www.uta-net.com/lyricist/40876/\">LiSA</a></td>,\n",
       " <td class=\"td4\"><a href=\"https://www.uta-net.com/composer/39887/\">高橋浩一郎</a></td>,\n",
       " <td class=\"side td5\">少しずつ開いたつぼみに僕は</td>,\n",
       " <td class=\"side td1\"><a href=\"/song/126135/\">終わりのない歌</a></td>,\n",
       " <td class=\"td2\"><a href=\"https://www.uta-net.com/artist/11591/\">LiSA</a></td>,\n",
       " <td class=\"td3\"><a href=\"https://www.uta-net.com/lyricist/40125/\">麻枝准</a></td>,\n",
       " <td class=\"td4\"><a href=\"https://www.uta-net.com/composer/40116/\">麻枝准</a></td>,\n",
       " <td class=\"side td5\">ある日小さな村に旅する</td>,\n",
       " <td class=\"side td1\"><a href=\"/song/240263/\">ONLY≠LONELY</a></td>,\n",
       " <td class=\"td2\"><a href=\"https://www.uta-net.com/artist/11591/\">LiSA</a></td>,\n",
       " <td class=\"td3\"><a href=\"https://www.uta-net.com/lyricist/38706/\">金井政人(BIGMAMA)</a></td>,\n",
       " <td class=\"td4\"><a href=\"https://www.uta-net.com/composer/30397/\">小南泰葉</a></td>,\n",
       " <td class=\"side td5\">二人だけの最後の夜に</td>,\n",
       " <td class=\"side td1\"><a href=\"/song/122468/\">oath sign</a><a href=\"https://www.uta-net.com/user/poplist.html\"><img alt=\"GOLD LYLIC\" src=\"/libs/img/parts/icon_gold.gif\"/></a></td>,\n",
       " <td class=\"td2\"><a href=\"https://www.uta-net.com/artist/11591/\">LiSA</a></td>,\n",
       " <td class=\"td3\"><a href=\"https://www.uta-net.com/lyricist/34691/\">渡辺翔</a></td>,\n",
       " <td class=\"td4\"><a href=\"https://www.uta-net.com/composer/35554/\">渡辺翔</a></td>,\n",
       " <td class=\"side td5\">繰り返す世界何度手を</td>,\n",
       " <td class=\"side td1\"><a href=\"/song/115387/\">覚醒屋</a></td>,\n",
       " <td class=\"td2\"><a href=\"https://www.uta-net.com/artist/11591/\">LiSA</a></td>,\n",
       " <td class=\"td3\"><a href=\"https://www.uta-net.com/lyricist/40876/\">LiSA</a></td>,\n",
       " <td class=\"td4\"><a href=\"https://www.uta-net.com/composer/21691/\">wowaka</a></td>,\n",
       " <td class=\"side td5\">クチビル噛んでまたため息</td>,\n",
       " <td class=\"side td1\"><a href=\"/song/278748/\">KALEIDO</a></td>,\n",
       " <td class=\"td2\"><a href=\"https://www.uta-net.com/artist/11591/\">LiSA</a></td>,\n",
       " <td class=\"td3\"><a href=\"https://www.uta-net.com/lyricist/35283/\">田中秀典</a></td>,\n",
       " <td class=\"td4\"><a href=\"https://www.uta-net.com/composer/30397/\">小南泰葉</a></td>,\n",
       " <td class=\"side td5\">キミはやさしくて少し心配性</td>,\n",
       " <td class=\"side td1\"><a href=\"/song/133654/\">変わらない青</a></td>,\n",
       " <td class=\"td2\"><a href=\"https://www.uta-net.com/artist/11591/\">LiSA</a></td>,\n",
       " <td class=\"td3\"><a href=\"https://www.uta-net.com/lyricist/40876/\">LiSA</a></td>,\n",
       " <td class=\"td4\"><a href=\"https://www.uta-net.com/composer/35554/\">渡辺翔</a></td>,\n",
       " <td class=\"side td5\">カラフルにざわめく街時は</td>,\n",
       " <td class=\"side td1\"><a href=\"/song/133807/\">KiSS me PARADOX</a></td>,\n",
       " <td class=\"td2\"><a href=\"https://www.uta-net.com/artist/11591/\">LiSA</a></td>,\n",
       " <td class=\"td3\"><a href=\"https://www.uta-net.com/lyricist/26419/\">古屋真</a></td>,\n",
       " <td class=\"td4\"><a href=\"https://www.uta-net.com/composer/36752/\">磯崎健史</a></td>,\n",
       " <td class=\"side td5\">欲ばり言い過ぎそんなの</td>,\n",
       " <td class=\"side td1\"><a href=\"/song/181503/\">君にピエロ</a></td>,\n",
       " <td class=\"td2\"><a href=\"https://www.uta-net.com/artist/11591/\">LiSA</a></td>,\n",
       " <td class=\"td3\"><a href=\"https://www.uta-net.com/lyricist/40876/\">LiSA</a></td>,\n",
       " <td class=\"td4\"><a href=\"https://www.uta-net.com/composer/41053/\">LiSA</a></td>,\n",
       " <td class=\"side td5\">ねえ少し遊ぼうよ僕はピエロ</td>,\n",
       " <td class=\"side td1\"><a href=\"/song/186929/\">キモチファクトリー</a></td>,\n",
       " <td class=\"td2\"><a href=\"https://www.uta-net.com/artist/11591/\">LiSA</a></td>,\n",
       " <td class=\"td3\"><a href=\"https://www.uta-net.com/lyricist/26419/\">古屋真</a></td>,\n",
       " <td class=\"td4\"><a href=\"https://www.uta-net.com/composer/35554/\">渡辺翔</a></td>,\n",
       " <td class=\"side td5\">気持ち運ぶベルトコンベア</td>,\n",
       " <td class=\"side td1\"><a href=\"/song/224081/\">Catch the Moment</a><a href=\"https://www.uta-net.com/user/poplist.html\"><img alt=\"GOLD LYLIC\" src=\"/libs/img/parts/icon_gold.gif\"/></a></td>,\n",
       " <td class=\"td2\"><a href=\"https://www.uta-net.com/artist/11591/\">LiSA</a></td>,\n",
       " <td class=\"td3\"><a href=\"https://www.uta-net.com/lyricist/40876/\">LiSA</a></td>,\n",
       " <td class=\"td4\"><a href=\"https://www.uta-net.com/composer/36197/\">田淵智也</a></td>,\n",
       " <td class=\"side td5\">そっと吐き出すため息を</td>,\n",
       " <td class=\"side td1\"><a href=\"/song/154524/\">Canvas boy × Palette girl</a></td>,\n",
       " <td class=\"td2\"><a href=\"https://www.uta-net.com/artist/11591/\">LiSA</a></td>,\n",
       " <td class=\"td3\"><a href=\"https://www.uta-net.com/lyricist/26419/\">古屋真</a></td>,\n",
       " <td class=\"td4\"><a href=\"https://www.uta-net.com/composer/40211/\">黒須克彦</a></td>,\n",
       " <td class=\"side td5\">My boyキミは太陽って</td>,\n",
       " <td class=\"side td1\"><a href=\"/song/194753/\">虚無</a></td>,\n",
       " <td class=\"td2\"><a href=\"https://www.uta-net.com/artist/11591/\">LiSA</a></td>,\n",
       " <td class=\"td3\"><a href=\"https://www.uta-net.com/lyricist/40876/\">LiSA</a></td>,\n",
       " <td class=\"td4\"><a href=\"https://www.uta-net.com/composer/24062/\">カヨコ</a></td>,\n",
       " <td class=\"side td5\">さっきまで躊躇してたのに</td>,\n",
       " <td class=\"side td1\"><a href=\"/song/198611/\">ギフトギフト</a></td>,\n",
       " <td class=\"td2\"><a href=\"https://www.uta-net.com/artist/11591/\">LiSA</a></td>,\n",
       " <td class=\"td3\"><a href=\"https://www.uta-net.com/lyricist/40876/\">LiSA</a></td>,\n",
       " <td class=\"td4\"><a href=\"https://www.uta-net.com/composer/30397/\">小南泰葉</a></td>,\n",
       " <td class=\"side td5\">街じゅうハッピームードに</td>,\n",
       " <td class=\"side td1\"><a href=\"/song/154517/\">逆光オーケストラ</a></td>,\n",
       " <td class=\"td2\"><a href=\"https://www.uta-net.com/artist/11591/\">LiSA</a></td>,\n",
       " <td class=\"td3\"><a href=\"https://www.uta-net.com/lyricist/26419/\">古屋真</a></td>,\n",
       " <td class=\"td4\"><a href=\"https://www.uta-net.com/composer/36752/\">磯崎健史</a></td>,\n",
       " <td class=\"side td5\">想い出話なんて下手なままで</td>,\n",
       " <td class=\"side td1\"><a href=\"/song/133622/\">crossing field</a><a href=\"https://www.uta-net.com/user/poplist.html\"><img alt=\"GOLD LYLIC\" src=\"/libs/img/parts/icon_gold.gif\"/></a></td>,\n",
       " <td class=\"td2\"><a href=\"https://www.uta-net.com/artist/11591/\">LiSA</a></td>,\n",
       " <td class=\"td3\"><a href=\"https://www.uta-net.com/lyricist/34691/\">渡辺翔</a></td>,\n",
       " <td class=\"td4\"><a href=\"https://www.uta-net.com/composer/35554/\">渡辺翔</a></td>,\n",
       " <td class=\"side td5\">認めていた臆病な過去</td>,\n",
       " <td class=\"side td1\"><a href=\"/song/176156/\">crossing field -English ver.-</a></td>,\n",
       " <td class=\"td2\"><a href=\"https://www.uta-net.com/artist/11591/\">LiSA</a></td>,\n",
       " <td class=\"td3\"><a href=\"https://www.uta-net.com/lyricist/34694/\">渡辺翔・本山清治</a></td>,\n",
       " <td class=\"td4\"><a href=\"https://www.uta-net.com/composer/35554/\">渡辺翔</a></td>,\n",
       " <td class=\"side td5\">Cloudy memories Of the way</td>,\n",
       " <td class=\"side td1\"><a href=\"/song/270036/\">紅蓮華</a><a href=\"https://www.uta-net.com/user/poplist.html\"><img alt=\"MILLION LYLIC\" src=\"/libs/img/parts/icon_million.gif\"/></a></td>,\n",
       " <td class=\"td2\"><a href=\"https://www.uta-net.com/artist/11591/\">LiSA</a></td>,\n",
       " <td class=\"td3\"><a href=\"https://www.uta-net.com/lyricist/40876/\">LiSA</a></td>,\n",
       " <td class=\"td4\"><a href=\"https://www.uta-net.com/composer/37684/\">草野華余子</a></td>,\n",
       " <td class=\"side td5\">強くなれる理由を知った</td>,\n",
       " <td class=\"side td1\"><a href=\"/song/206576/\">Get free</a></td>,\n",
       " <td class=\"td2\"><a href=\"https://www.uta-net.com/artist/11591/\">LiSA</a></td>,\n",
       " <td class=\"td3\"><a href=\"https://www.uta-net.com/lyricist/10159/\">LiSA・古屋真</a></td>,\n",
       " <td class=\"td4\"><a href=\"https://www.uta-net.com/composer/16822/\">Ryota Kawamura・Rebecca Hollcraft</a></td>,\n",
       " <td class=\"side td5\">タクシーが止まんなきゃ歌って</td>,\n",
       " <td class=\"side td1\"><a href=\"/song/154523/\">コズミックジェットコースター</a></td>,\n",
       " <td class=\"td2\"><a href=\"https://www.uta-net.com/artist/11591/\">LiSA</a></td>,\n",
       " <td class=\"td3\"><a href=\"https://www.uta-net.com/lyricist/40876/\">LiSA</a></td>,\n",
       " <td class=\"td4\"><a href=\"https://www.uta-net.com/composer/40211/\">黒須克彦</a></td>,\n",
       " <td class=\"side td5\">Hi お待たせ待ちに待った</td>,\n",
       " <td class=\"side td1\"><a href=\"/song/122467/\">confidence driver</a></td>,\n",
       " <td class=\"td2\"><a href=\"https://www.uta-net.com/artist/11591/\">LiSA</a></td>,\n",
       " <td class=\"td3\"><a href=\"https://www.uta-net.com/lyricist/40876/\">LiSA</a></td>,\n",
       " <td class=\"td4\"><a href=\"https://www.uta-net.com/composer/36197/\">田淵智也</a></td>,\n",
       " <td class=\"side td5\">単調なリズムのmy life</td>,\n",
       " <td class=\"side td1\"><a href=\"/song/206579/\">Psychedelic Drive</a></td>,\n",
       " <td class=\"td2\"><a href=\"https://www.uta-net.com/artist/11591/\">LiSA</a></td>,\n",
       " <td class=\"td3\"><a href=\"https://www.uta-net.com/lyricist/40876/\">LiSA</a></td>,\n",
       " <td class=\"td4\"><a href=\"https://www.uta-net.com/composer/34418/\">横山直弘(from 感覚ピエロ)</a></td>,\n",
       " <td class=\"side td5\">誰が純情覚悟しててよ</td>,\n",
       " <td class=\"side td1\"><a href=\"/song/264752/\">サファイアの星</a></td>,\n",
       " <td class=\"td2\"><a href=\"https://www.uta-net.com/artist/11591/\">LiSA</a></td>,\n",
       " <td class=\"td3\"><a href=\"https://www.uta-net.com/lyricist/38145/\">谷中敦</a></td>,\n",
       " <td class=\"td4\"><a href=\"https://www.uta-net.com/composer/34959/\">沖祐市</a></td>,\n",
       " <td class=\"side td5\">ねぇまだ終わらない旅を続け</td>,\n",
       " <td class=\"side td1\"><a href=\"/song/240264/\">罪人</a></td>,\n",
       " <td class=\"td2\"><a href=\"https://www.uta-net.com/artist/11591/\">LiSA</a></td>,\n",
       " <td class=\"td3\"><a href=\"https://www.uta-net.com/lyricist/40876/\">LiSA</a></td>,\n",
       " <td class=\"td4\"><a href=\"https://www.uta-net.com/composer/17970/\">Sho(from MY FIRST STORY)</a></td>,\n",
       " <td class=\"side td5\">逃げたりしないでね理想を</td>,\n",
       " <td class=\"side td1\"><a href=\"/song/213430/\">シャッフル</a></td>,\n",
       " <td class=\"td2\"><a href=\"https://www.uta-net.com/artist/11591/\">LiSA</a></td>,\n",
       " <td class=\"td3\"><a href=\"https://www.uta-net.com/lyricist/26419/\">古屋真</a></td>,\n",
       " <td class=\"td4\"><a href=\"https://www.uta-net.com/composer/30397/\">小南泰葉</a></td>,\n",
       " <td class=\"side td5\">フライパンが音符になって</td>,\n",
       " <td class=\"side td1\"><a href=\"/song/176158/\">シルシ</a><a href=\"https://www.uta-net.com/user/poplist.html\"><img alt=\"GOLD LYLIC\" src=\"/libs/img/parts/icon_gold.gif\"/></a></td>,\n",
       " <td class=\"td2\"><a href=\"https://www.uta-net.com/artist/11591/\">LiSA</a></td>,\n",
       " <td class=\"td3\"><a href=\"https://www.uta-net.com/lyricist/40876/\">LiSA</a></td>,\n",
       " <td class=\"td4\"><a href=\"https://www.uta-net.com/composer/24062/\">カヨコ</a></td>,\n",
       " <td class=\"side td5\">街明かり照らした賑やかな</td>,\n",
       " <td class=\"side td1\"><a href=\"/song/144540/\">シロイトイキ</a></td>,\n",
       " <td class=\"td2\"><a href=\"https://www.uta-net.com/artist/11591/\">LiSA</a></td>,\n",
       " <td class=\"td3\"><a href=\"https://www.uta-net.com/lyricist/40876/\">LiSA</a></td>,\n",
       " <td class=\"td4\"><a href=\"https://www.uta-net.com/composer/23564/\">やしきん</a></td>,\n",
       " <td class=\"side td5\">たった一秒が不安で星を指で</td>,\n",
       " <td class=\"side td1\"><a href=\"/song/206578/\">She</a></td>,\n",
       " <td class=\"td2\"><a href=\"https://www.uta-net.com/artist/11591/\">LiSA</a></td>,\n",
       " <td class=\"td3\"><a href=\"https://www.uta-net.com/lyricist/40876/\">LiSA</a></td>,\n",
       " <td class=\"td4\"><a href=\"https://www.uta-net.com/composer/15333/\">PABLO a.k.a. WTF!?</a></td>,\n",
       " <td class=\"side td5\">雁字搦めのトラップに僕は</td>,\n",
       " <td class=\"side td1\"><a href=\"/song/126137/\">ジェットロケット</a></td>,\n",
       " <td class=\"td2\"><a href=\"https://www.uta-net.com/artist/11591/\">LiSA</a></td>,\n",
       " <td class=\"td3\"><a href=\"https://www.uta-net.com/lyricist/35452/\">田淵智也</a></td>,\n",
       " <td class=\"td4\"><a href=\"https://www.uta-net.com/composer/36197/\">田淵智也</a></td>,\n",
       " <td class=\"side td5\">そうだよ一個だって譲らないで</td>,\n",
       " <td class=\"side td1\"><a href=\"/song/229819/\">the end of my world</a></td>,\n",
       " <td class=\"td2\"><a href=\"https://www.uta-net.com/artist/11591/\">LiSA</a></td>,\n",
       " <td class=\"td3\"><a href=\"https://www.uta-net.com/lyricist/40876/\">LiSA</a></td>,\n",
       " <td class=\"td4\"><a href=\"https://www.uta-net.com/composer/24062/\">カヨコ</a></td>,\n",
       " <td class=\"side td5\">覚悟してたのロンリー</td>,\n",
       " <td class=\"side td1\"><a href=\"/song/229818/\">JUMP!!</a></td>,\n",
       " <td class=\"td2\"><a href=\"https://www.uta-net.com/artist/11591/\">LiSA</a></td>,\n",
       " <td class=\"td3\"><a href=\"https://www.uta-net.com/lyricist/26419/\">古屋真</a></td>,\n",
       " <td class=\"td4\"><a href=\"https://www.uta-net.com/composer/38903/\">野間康介</a></td>,\n",
       " <td class=\"side td5\">届くかな届くから飛べるから</td>,\n",
       " <td class=\"side td1\"><a href=\"/song/233632/\">sweet friendship</a></td>,\n",
       " <td class=\"td2\"><a href=\"https://www.uta-net.com/artist/11591/\">LiSA</a></td>,\n",
       " <td class=\"td3\"><a href=\"https://www.uta-net.com/lyricist/40876/\">LiSA</a></td>,\n",
       " <td class=\"td4\"><a href=\"https://www.uta-net.com/composer/5004/\">eba</a></td>,\n",
       " <td class=\"side td5\">帰路を急いだ風に吹かれ</td>,\n",
       " <td class=\"side td1\"><a href=\"/song/260497/\">スパイシーワールド</a></td>,\n",
       " <td class=\"td2\"><a href=\"https://www.uta-net.com/artist/11591/\">LiSA</a></td>,\n",
       " <td class=\"td3\"><a href=\"https://www.uta-net.com/lyricist/40876/\">LiSA</a></td>,\n",
       " <td class=\"td4\"><a href=\"https://www.uta-net.com/composer/41053/\">LiSA</a></td>,\n",
       " <td class=\"side td5\">あぁまた迷宮入り HOT</td>,\n",
       " <td class=\"side td1\"><a href=\"/song/150570/\">SPiCE</a></td>,\n",
       " <td class=\"td2\"><a href=\"https://www.uta-net.com/artist/11591/\">LiSA</a></td>,\n",
       " <td class=\"td3\"><a href=\"https://www.uta-net.com/lyricist/40876/\">LiSA</a></td>,\n",
       " <td class=\"td4\"><a href=\"https://www.uta-net.com/composer/28349/\">原一博</a></td>,\n",
       " <td class=\"side td5\">台無し鏡のベビーフェイス</td>,\n",
       " <td class=\"side td1\"><a href=\"/song/242577/\">Thrill, Risk, Heartless</a></td>,\n",
       " <td class=\"td2\"><a href=\"https://www.uta-net.com/artist/11591/\">LiSA</a></td>,\n",
       " <td class=\"td3\"><a href=\"https://www.uta-net.com/lyricist/35452/\">田淵智也</a></td>,\n",
       " <td class=\"td4\"><a href=\"https://www.uta-net.com/composer/24062/\">カヨコ</a></td>,\n",
       " <td class=\"side td5\">I'll be I'll be Repeat once</td>,\n",
       " <td class=\"side td1\"><a href=\"/song/154519/\">say my nameの片思い</a></td>,\n",
       " <td class=\"td2\"><a href=\"https://www.uta-net.com/artist/11591/\">LiSA</a></td>,\n",
       " <td class=\"td3\"><a href=\"https://www.uta-net.com/lyricist/10160/\">LiSA・田淵智也</a></td>,\n",
       " <td class=\"td4\"><a href=\"https://www.uta-net.com/composer/36197/\">田淵智也</a></td>,\n",
       " <td class=\"side td5\">いたずらなあくびを噛み殺して</td>,\n",
       " <td class=\"side td1\"><a href=\"/song/233631/\">Sailor Spark Operation!</a></td>,\n",
       " <td class=\"td2\"><a href=\"https://www.uta-net.com/artist/11591/\">LiSA</a></td>,\n",
       " <td class=\"td3\"><a href=\"https://www.uta-net.com/lyricist/35452/\">田淵智也</a></td>,\n",
       " <td class=\"td4\"><a href=\"https://www.uta-net.com/composer/9149/\">Jose(TOTALFAT)</a></td>,\n",
       " <td class=\"side td5\">炎天下続く毎日</td>,\n",
       " <td class=\"side td1\"><a href=\"/song/229813/\">そしてパレードは続く</a></td>,\n",
       " <td class=\"td2\"><a href=\"https://www.uta-net.com/artist/11591/\">LiSA</a></td>,\n",
       " <td class=\"td3\"><a href=\"https://www.uta-net.com/lyricist/35452/\">田淵智也</a></td>,\n",
       " <td class=\"td4\"><a href=\"https://www.uta-net.com/composer/36197/\">田淵智也</a></td>,\n",
       " <td class=\"side td5\">僕らGO EAST GO WESTどこまで</td>,\n",
       " <td class=\"side td1\"><a href=\"/song/233633/\">だってアタシのヒーロー。</a><a href=\"https://www.uta-net.com/user/poplist.html\"><img alt=\"GOLD LYLIC\" src=\"/libs/img/parts/icon_gold.gif\"/></a></td>,\n",
       " <td class=\"td2\"><a href=\"https://www.uta-net.com/artist/11591/\">LiSA</a></td>,\n",
       " <td class=\"td3\"><a href=\"https://www.uta-net.com/lyricist/10159/\">LiSA・古屋真</a></td>,\n",
       " <td class=\"td4\"><a href=\"https://www.uta-net.com/composer/35554/\">渡辺翔</a></td>,\n",
       " <td class=\"side td5\">キミが諦めるトコ</td>,\n",
       " <td class=\"side td1\"><a href=\"/song/278747/\">Chill-Chill-Dal-Da</a></td>,\n",
       " <td class=\"td2\"><a href=\"https://www.uta-net.com/artist/11591/\">LiSA</a></td>,\n",
       " <td class=\"td3\"><a href=\"https://www.uta-net.com/lyricist/35452/\">田淵智也</a></td>,\n",
       " <td class=\"td4\"><a href=\"https://www.uta-net.com/composer/27173/\">伊秩弘将</a></td>,\n",
       " <td class=\"side td5\">生活は難しい鬱屈止められない</td>,\n",
       " <td class=\"side td1\"><a href=\"/song/213431/\">ツヨガリ・ファンファーレ</a></td>,\n",
       " <td class=\"td2\"><a href=\"https://www.uta-net.com/artist/11591/\">LiSA</a></td>,\n",
       " <td class=\"td3\"><a href=\"https://www.uta-net.com/lyricist/40876/\">LiSA</a></td>,\n",
       " <td class=\"td4\"><a href=\"https://www.uta-net.com/composer/36197/\">田淵智也</a></td>,\n",
       " <td class=\"side td5\">手グシさえ指が通らない</td>,\n",
       " <td class=\"side td1\"><a href=\"/song/280570/\">THIS ILLUSION</a></td>,\n",
       " <td class=\"td2\"><a href=\"https://www.uta-net.com/artist/11591/\">LiSA</a></td>,\n",
       " <td class=\"td3\"><a href=\"https://www.uta-net.com/lyricist/37149/\">芳賀敬太</a></td>,\n",
       " <td class=\"td4\"><a href=\"https://www.uta-net.com/composer/15030/\">NUMBER 201</a></td>,\n",
       " <td class=\"side td5\">夢に見ていたあの日の影に</td>,\n",
       " <td class=\"side td1\"><a href=\"/song/229814/\">TODAY</a></td>,\n",
       " <td class=\"td2\"><a href=\"https://www.uta-net.com/artist/11591/\">LiSA</a></td>,\n",
       " <td class=\"td3\"><a href=\"https://www.uta-net.com/lyricist/40876/\">LiSA</a></td>,\n",
       " <td class=\"td4\"><a href=\"https://www.uta-net.com/composer/30397/\">小南泰葉</a></td>,\n",
       " <td class=\"side td5\">いつの間にか随分遠くまで</td>,\n",
       " <td class=\"side td1\"><a href=\"/song/170229/\">東京ラヴソング</a></td>,\n",
       " <td class=\"td2\"><a href=\"https://www.uta-net.com/artist/11591/\">LiSA</a></td>,\n",
       " <td class=\"td3\"><a href=\"https://www.uta-net.com/lyricist/40876/\">LiSA</a></td>,\n",
       " <td class=\"td4\"><a href=\"https://www.uta-net.com/composer/41053/\">LiSA</a></td>,\n",
       " <td class=\"side td5\">けたたましくなる目覚まし時計</td>,\n",
       " <td class=\"side td1\"><a href=\"/song/150572/\">traumerei</a></td>,\n",
       " <td class=\"td2\"><a href=\"https://www.uta-net.com/artist/11591/\">LiSA</a></td>,\n",
       " <td class=\"td3\"><a href=\"https://www.uta-net.com/lyricist/5781/\">HIDEO NEKOTA</a></td>,\n",
       " <td class=\"td4\"><a href=\"https://www.uta-net.com/composer/7107/\">HIDEO NEKOTA</a></td>,\n",
       " <td class=\"side td5\">奪ってスローモーション</td>,\n",
       " <td class=\"side td1\"><a href=\"/song/154522/\">DOCTOR</a></td>,\n",
       " <td class=\"td2\"><a href=\"https://www.uta-net.com/artist/11591/\">LiSA</a></td>,\n",
       " <td class=\"td3\"><a href=\"https://www.uta-net.com/lyricist/40876/\">LiSA</a></td>,\n",
       " <td class=\"td4\"><a href=\"https://www.uta-net.com/composer/24062/\">カヨコ</a></td>,\n",
       " <td class=\"side td5\">誘われて到着甘蜜の闇</td>,\n",
       " <td class=\"side td1\"><a href=\"/song/126144/\">now and future</a></td>,\n",
       " <td class=\"td2\"><a href=\"https://www.uta-net.com/artist/11591/\">LiSA</a></td>,\n",
       " <td class=\"td3\"><a href=\"https://www.uta-net.com/lyricist/40876/\">LiSA</a></td>,\n",
       " <td class=\"td4\"><a href=\"https://www.uta-net.com/composer/36197/\">田淵智也</a></td>,\n",
       " <td class=\"side td5\">イメージを明日の向こうに</td>,\n",
       " <td class=\"side td1\"><a href=\"/song/122465/\">ナミダ流星群</a></td>,\n",
       " <td class=\"td2\"><a href=\"https://www.uta-net.com/artist/11591/\">LiSA</a></td>,\n",
       " <td class=\"td3\"><a href=\"https://www.uta-net.com/lyricist/11366/\">meg rock</a></td>,\n",
       " <td class=\"td4\"><a href=\"https://www.uta-net.com/composer/35404/\">清水武仁</a></td>,\n",
       " <td class=\"side td5\">真夜中たったひとり悴む星</td>,\n",
       " <td class=\"side td1\"><a href=\"/song/249480/\">NIPPON</a></td>,\n",
       " <td class=\"td2\"><a href=\"https://www.uta-net.com/artist/11591/\">LiSA</a></td>,\n",
       " <td class=\"td3\"><a href=\"https://www.uta-net.com/lyricist/33281/\">椎名林檎</a></td>,\n",
       " <td class=\"td4\"><a href=\"https://www.uta-net.com/composer/34308/\">椎名林檎</a></td>,\n",
       " <td class=\"side td5\">万歳万歳日本晴れ列島</td>,\n",
       " <td class=\"side td1\"><a href=\"/song/176157/\">No More Time Machine</a></td>,\n",
       " <td class=\"td2\"><a href=\"https://www.uta-net.com/artist/11591/\">LiSA</a></td>,\n",
       " <td class=\"td3\"><a href=\"https://www.uta-net.com/lyricist/26419/\">古屋真</a></td>,\n",
       " <td class=\"td4\"><a href=\"https://www.uta-net.com/composer/38904/\">野間康介(agehasprings)</a></td>,\n",
       " <td class=\"side td5\">You need a time machine</td>,\n",
       " <td class=\"side td1\"><a href=\"/song/206580/\">Hi FiVE!</a></td>,\n",
       " <td class=\"td2\"><a href=\"https://www.uta-net.com/artist/11591/\">LiSA</a></td>,\n",
       " <td class=\"td3\"><a href=\"https://www.uta-net.com/lyricist/10160/\">LiSA・田淵智也</a></td>,\n",
       " <td class=\"td4\"><a href=\"https://www.uta-net.com/composer/36197/\">田淵智也</a></td>,\n",
       " <td class=\"side td5\">願い星掴んだ汗だくのTシャツ</td>,\n",
       " <td class=\"side td1\"><a href=\"/song/278749/\">ハウル</a></td>,\n",
       " <td class=\"td2\"><a href=\"https://www.uta-net.com/artist/11591/\">LiSA</a></td>,\n",
       " <td class=\"td3\"><a href=\"https://www.uta-net.com/lyricist/40876/\">LiSA</a></td>,\n",
       " <td class=\"td4\"><a href=\"https://www.uta-net.com/composer/7107/\">HIDEO NEKOTA</a></td>,\n",
       " <td class=\"side td5\">立ち止まって嘆いても</td>,\n",
       " <td class=\"side td1\"><a href=\"/song/126141/\">花とミツバチ</a></td>,\n",
       " <td class=\"td2\"><a href=\"https://www.uta-net.com/artist/11591/\">LiSA</a></td>,\n",
       " <td class=\"td3\"><a href=\"https://www.uta-net.com/lyricist/26419/\">古屋真</a></td>,\n",
       " <td class=\"td4\"><a href=\"https://www.uta-net.com/composer/40211/\">黒須克彦</a></td>,\n",
       " <td class=\"side td5\">なんで取り替えっこなんてきっと</td>,\n",
       " <td class=\"side td1\"><a href=\"/song/183192/\">晴れたらいいね</a></td>,\n",
       " <td class=\"td2\"><a href=\"https://www.uta-net.com/artist/11591/\">LiSA</a></td>,\n",
       " <td class=\"td3\"><a href=\"https://www.uta-net.com/lyricist/26713/\">吉田美和</a></td>,\n",
       " <td class=\"td4\"><a href=\"https://www.uta-net.com/composer/28696/\">吉田美和</a></td>,\n",
       " <td class=\"side td5\">山へ行こう次の日曜昔みたいに</td>,\n",
       " <td class=\"side td1\"><a href=\"/song/248505/\">ハローグッデイ</a></td>,\n",
       " <td class=\"td2\"><a href=\"https://www.uta-net.com/artist/11591/\">LiSA</a></td>,\n",
       " <td class=\"td3\"><a href=\"https://www.uta-net.com/lyricist/40876/\">LiSA</a></td>,\n",
       " <td class=\"td4\"><a href=\"https://www.uta-net.com/composer/11889/\">LiSA・堀江晶太</a></td>,\n",
       " <td class=\"side td5\">移り行く季節がまるでいたずら</td>,\n",
       " <td class=\"side td1\"><a href=\"/song/206577/\">halo-halo</a></td>,\n",
       " <td class=\"td2\"><a href=\"https://www.uta-net.com/artist/11591/\">LiSA</a></td>,\n",
       " <td class=\"td3\"><a href=\"https://www.uta-net.com/lyricist/40876/\">LiSA</a></td>,\n",
       " <td class=\"td4\"><a href=\"https://www.uta-net.com/composer/30397/\">小南泰葉</a></td>,\n",
       " <td class=\"side td5\">我愛 CINTA LOVE AMOR</td>,\n",
       " <td class=\"side td1\"><a href=\"/song/122466/\">HANDS &amp; SMiLE</a></td>,\n",
       " <td class=\"td2\"><a href=\"https://www.uta-net.com/artist/11591/\">LiSA</a></td>,\n",
       " <td class=\"td3\"><a href=\"https://www.uta-net.com/lyricist/40876/\">LiSA</a></td>,\n",
       " <td class=\"td4\"><a href=\"https://www.uta-net.com/composer/24042/\">カノン</a></td>,\n",
       " <td class=\"side td5\">雨のち太陽強がりな</td>,\n",
       " <td class=\"side td1\"><a href=\"/song/181505/\">Bad Sweet Trap</a></td>,\n",
       " <td class=\"td2\"><a href=\"https://www.uta-net.com/artist/11591/\">LiSA</a></td>,\n",
       " <td class=\"td3\"><a href=\"https://www.uta-net.com/lyricist/10160/\">LiSA・田淵智也</a></td>,\n",
       " <td class=\"td4\"><a href=\"https://www.uta-net.com/composer/36197/\">田淵智也</a></td>,\n",
       " <td class=\"side td5\">さあ見つかったらそれが最後</td>,\n",
       " <td class=\"side td1\"><a href=\"/song/154520/\">ヒトリワラッテ</a></td>,\n",
       " <td class=\"td2\"><a href=\"https://www.uta-net.com/artist/11591/\">LiSA</a></td>,\n",
       " <td class=\"td3\"><a href=\"https://www.uta-net.com/lyricist/18746/\">wowaka</a></td>,\n",
       " <td class=\"td4\"><a href=\"https://www.uta-net.com/composer/21691/\">wowaka</a></td>,\n",
       " <td class=\"side td5\">私は独り笑ってた言葉にならぬ</td>,\n",
       " <td class=\"side td1\"><a href=\"/song/248504/\">Believe in ourselves</a></td>,\n",
       " <td class=\"td2\"><a href=\"https://www.uta-net.com/artist/11591/\">LiSA</a></td>,\n",
       " <td class=\"td3\"><a href=\"https://www.uta-net.com/lyricist/10160/\">LiSA・田淵智也</a></td>,\n",
       " <td class=\"td4\"><a href=\"https://www.uta-net.com/composer/36197/\">田淵智也</a></td>,\n",
       " <td class=\"side td5\">一瞬だけ懐かしい匂いが僕の横</td>,\n",
       " <td class=\"side td1\"><a href=\"/song/115391/\">Believe in myself</a></td>,\n",
       " <td class=\"td2\"><a href=\"https://www.uta-net.com/artist/11591/\">LiSA</a></td>,\n",
       " <td class=\"td3\"><a href=\"https://www.uta-net.com/lyricist/40876/\">LiSA</a></td>,\n",
       " <td class=\"td4\"><a href=\"https://www.uta-net.com/composer/41053/\">LiSA</a></td>,\n",
       " <td class=\"side td5\">Believe in myselfいつか</td>,\n",
       " <td class=\"side td1\"><a href=\"/song/229816/\">Peace Beat Beast</a></td>,\n",
       " <td class=\"td2\"><a href=\"https://www.uta-net.com/artist/11591/\">LiSA</a></td>,\n",
       " <td class=\"td3\"><a href=\"https://www.uta-net.com/lyricist/26419/\">古屋真</a></td>,\n",
       " <td class=\"td4\"><a href=\"https://www.uta-net.com/composer/28319/\">南田健吾</a></td>,\n",
       " <td class=\"side td5\">Show me I'm a 猛獣マスター</td>,\n",
       " <td class=\"side td1\"><a href=\"/song/181507/\">FRAGILE VAMPIRE</a></td>,\n",
       " <td class=\"td2\"><a href=\"https://www.uta-net.com/artist/11591/\">LiSA</a></td>,\n",
       " <td class=\"td3\"><a href=\"https://www.uta-net.com/lyricist/26419/\">古屋真</a></td>,\n",
       " <td class=\"td4\"><a href=\"https://www.uta-net.com/composer/5004/\">eba</a></td>,\n",
       " <td class=\"side td5\">解って欲しいそれだけなのに</td>,\n",
       " <td class=\"side td1\"><a href=\"/song/170231/\">BRiGHT FLiGHT</a></td>,\n",
       " <td class=\"td2\"><a href=\"https://www.uta-net.com/artist/11591/\">LiSA</a></td>,\n",
       " <td class=\"td3\"><a href=\"https://www.uta-net.com/lyricist/40876/\">LiSA</a></td>,\n",
       " <td class=\"td4\"><a href=\"https://www.uta-net.com/composer/38903/\">野間康介</a></td>,\n",
       " <td class=\"side td5\">澄みきった大空一気にフライト</td>,\n",
       " <td class=\"side td1\"><a href=\"/song/229815/\">Blue Moon</a></td>,\n",
       " <td class=\"td2\"><a href=\"https://www.uta-net.com/artist/11591/\">LiSA</a></td>,\n",
       " <td class=\"td3\"><a href=\"https://www.uta-net.com/lyricist/40876/\">LiSA</a></td>,\n",
       " <td class=\"td4\"><a href=\"https://www.uta-net.com/composer/24062/\">カヨコ</a></td>,\n",
       " <td class=\"side td5\">無限に広がる涙の湖</td>,\n",
       " <td class=\"side td1\"><a href=\"/song/213433/\">Brave Freak Out</a></td>,\n",
       " <td class=\"td2\"><a href=\"https://www.uta-net.com/artist/11591/\">LiSA</a></td>,\n",
       " <td class=\"td3\"><a href=\"https://www.uta-net.com/lyricist/35452/\">田淵智也</a></td>,\n",
       " <td class=\"td4\"><a href=\"https://www.uta-net.com/composer/39887/\">高橋浩一郎</a></td>,\n",
       " <td class=\"side td5\">Let me think また一つ</td>,\n",
       " <td class=\"side td1\"><a href=\"/song/270035/\">“PROPAGANDA”</a></td>,\n",
       " <td class=\"td2\"><a href=\"https://www.uta-net.com/artist/11591/\">LiSA</a></td>,\n",
       " <td class=\"td3\"><a href=\"https://www.uta-net.com/lyricist/31355/\">日高央</a></td>,\n",
       " <td class=\"td4\"><a href=\"https://www.uta-net.com/composer/15333/\">PABLO a.k.a. WTF!?</a></td>,\n",
       " <td class=\"side td5\">Find Out By yourself</td>,\n",
       " <td class=\"side td1\"><a href=\"/song/144542/\">best day, best way</a><a href=\"https://www.uta-net.com/user/poplist.html\"><img alt=\"GOLD LYLIC\" src=\"/libs/img/parts/icon_gold.gif\"/></a></td>,\n",
       " <td class=\"td2\"><a href=\"https://www.uta-net.com/artist/11591/\">LiSA</a></td>,\n",
       " <td class=\"td3\"><a href=\"https://www.uta-net.com/lyricist/35452/\">田淵智也</a></td>,\n",
       " <td class=\"td4\"><a href=\"https://www.uta-net.com/composer/36197/\">田淵智也</a></td>,\n",
       " <td class=\"side td5\">走り出した心もう止まれない</td>,\n",
       " <td class=\"side td1\"><a href=\"/song/154521/\">僕の言葉で</a></td>,\n",
       " <td class=\"td2\"><a href=\"https://www.uta-net.com/artist/11591/\">LiSA</a></td>,\n",
       " <td class=\"td3\"><a href=\"https://www.uta-net.com/lyricist/40876/\">LiSA</a></td>,\n",
       " <td class=\"td4\"><a href=\"https://www.uta-net.com/composer/40211/\">黒須克彦</a></td>,\n",
       " <td class=\"side td5\">外灯が夕闇彩って進まない</td>,\n",
       " <td class=\"side td1\"><a href=\"/song/163580/\">ポーカーフェイス</a></td>,\n",
       " <td class=\"td2\"><a href=\"https://www.uta-net.com/artist/11591/\">LiSA</a></td>,\n",
       " <td class=\"td3\"><a href=\"https://www.uta-net.com/lyricist/40876/\">LiSA</a></td>,\n",
       " <td class=\"td4\"><a href=\"https://www.uta-net.com/composer/24062/\">カヨコ</a></td>,\n",
       " <td class=\"side td5\">通り過ぎた幾つもの偶然は</td>,\n",
       " <td class=\"side td1\"><a href=\"/song/181511/\">Mr.Launcher</a></td>,\n",
       " <td class=\"td2\"><a href=\"https://www.uta-net.com/artist/11591/\">LiSA</a></td>,\n",
       " <td class=\"td3\"><a href=\"https://www.uta-net.com/lyricist/40876/\">LiSA</a></td>,\n",
       " <td class=\"td4\"><a href=\"https://www.uta-net.com/composer/7107/\">HIDEO NEKOTA</a></td>,\n",
       " <td class=\"side td5\">土砂降り続きの辛い日々に</td>,\n",
       " <td class=\"side td1\"><a href=\"/song/181509/\">蜜</a></td>,\n",
       " <td class=\"td2\"><a href=\"https://www.uta-net.com/artist/11591/\">LiSA</a></td>,\n",
       " <td class=\"td3\"><a href=\"https://www.uta-net.com/lyricist/40876/\">LiSA</a></td>,\n",
       " <td class=\"td4\"><a href=\"https://www.uta-net.com/composer/24062/\">カヨコ</a></td>,\n",
       " <td class=\"side td5\">嘘が交差したmidnight 濡れた</td>,\n",
       " <td class=\"side td1\"><a href=\"/song/115390/\">ミライカゼ</a></td>,\n",
       " <td class=\"td2\"><a href=\"https://www.uta-net.com/artist/11591/\">LiSA</a></td>,\n",
       " <td class=\"td3\"><a href=\"https://www.uta-net.com/lyricist/10157/\">LiSA・あにー</a></td>,\n",
       " <td class=\"td4\"><a href=\"https://www.uta-net.com/composer/22832/\">あにー</a></td>,\n",
       " <td class=\"side td5\">きらめく春風が初めて南から</td>,\n",
       " <td class=\"side td1\"><a href=\"/song/115385/\">無色透明</a></td>,\n",
       " <td class=\"td2\"><a href=\"https://www.uta-net.com/artist/11591/\">LiSA</a></td>,\n",
       " <td class=\"td3\"><a href=\"https://www.uta-net.com/lyricist/40876/\">LiSA</a></td>,\n",
       " <td class=\"td4\"><a href=\"https://www.uta-net.com/composer/24042/\">カノン</a></td>,\n",
       " <td class=\"side td5\">時計の針が始りを知らせる</td>,\n",
       " <td class=\"side td1\"><a href=\"/song/247337/\">ムーンライト伝説</a></td>,\n",
       " <td class=\"td2\"><a href=\"https://www.uta-net.com/artist/11591/\">LiSA</a></td>,\n",
       " <td class=\"td3\"><a href=\"https://www.uta-net.com/lyricist/29026/\">小田佳奈子</a></td>,\n",
       " <td class=\"td4\"><a href=\"https://www.uta-net.com/composer/30767/\">小諸鉄矢</a></td>,\n",
       " <td class=\"side td5\">ゴメンね素直じゃなくて</td>,\n",
       " <td class=\"side td1\"><a href=\"/song/224079/\">Merry Hurry Berry</a></td>,\n",
       " <td class=\"td2\"><a href=\"https://www.uta-net.com/artist/11591/\">LiSA</a></td>,\n",
       " <td class=\"td3\"><a href=\"https://www.uta-net.com/lyricist/26419/\">古屋真</a></td>,\n",
       " <td class=\"td4\"><a href=\"https://www.uta-net.com/composer/27923/\">前山田健一</a></td>,\n",
       " <td class=\"side td5\">Merry Very Very イイじゃない</td>,\n",
       " <td class=\"side td1\"><a href=\"/song/115386/\">妄想コントローラー</a></td>,\n",
       " <td class=\"td2\"><a href=\"https://www.uta-net.com/artist/11591/\">LiSA</a></td>,\n",
       " <td class=\"td3\"><a href=\"https://www.uta-net.com/lyricist/40876/\">LiSA</a></td>,\n",
       " <td class=\"td4\"><a href=\"https://www.uta-net.com/composer/36197/\">田淵智也</a></td>,\n",
       " <td class=\"side td5\">さっきおとぎの国からもって</td>,\n",
       " <td class=\"side td1\"><a href=\"/song/270034/\">やくそくのうた</a></td>,\n",
       " <td class=\"td2\"><a href=\"https://www.uta-net.com/artist/11591/\">LiSA</a></td>,\n",
       " <td class=\"td3\"><a href=\"https://www.uta-net.com/lyricist/35452/\">田淵智也</a></td>,\n",
       " <td class=\"td4\"><a href=\"https://www.uta-net.com/composer/36197/\">田淵智也</a></td>,\n",
       " <td class=\"side td5\">胸がいっぱいで大渋滞だ</td>,\n",
       " <td class=\"side td1\"><a href=\"/song/126145/\">優しさに辿りつくまで</a></td>,\n",
       " <td class=\"td2\"><a href=\"https://www.uta-net.com/artist/11591/\">LiSA</a></td>,\n",
       " <td class=\"td3\"><a href=\"https://www.uta-net.com/lyricist/40876/\">LiSA</a></td>,\n",
       " <td class=\"td4\"><a href=\"https://www.uta-net.com/composer/35554/\">渡辺翔</a></td>,\n",
       " <td class=\"side td5\">ボロボロになって聴こえた</td>,\n",
       " <td class=\"side td1\"><a href=\"/song/150569/\">夕焼けノスタルジア</a></td>,\n",
       " <td class=\"td2\"><a href=\"https://www.uta-net.com/artist/11591/\">LiSA</a></td>,\n",
       " <td class=\"td3\"><a href=\"https://www.uta-net.com/lyricist/26419/\">古屋真</a></td>,\n",
       " <td class=\"td4\"><a href=\"https://www.uta-net.com/composer/40211/\">黒須克彦</a></td>,\n",
       " <td class=\"side td5\">夕暮れ君は今も憶えてるかな</td>,\n",
       " <td class=\"side td1\"><a href=\"/song/163581/\">Rising Hope</a><a href=\"https://www.uta-net.com/user/poplist.html\"><img alt=\"PLATINA LYLIC\" src=\"/libs/img/parts/icon_platina.gif\"/></a></td>,\n",
       " <td class=\"td2\"><a href=\"https://www.uta-net.com/artist/11591/\">LiSA</a></td>,\n",
       " <td class=\"td3\"><a href=\"https://www.uta-net.com/lyricist/10160/\">LiSA・田淵智也</a></td>,\n",
       " <td class=\"td4\"><a href=\"https://www.uta-net.com/composer/36197/\">田淵智也</a></td>,\n",
       " <td class=\"side td5\">握ったメッセージ that's</td>,\n",
       " <td class=\"side td1\"><a href=\"/song/126136/\">LOVER“S”MiLE</a></td>,\n",
       " <td class=\"td2\"><a href=\"https://www.uta-net.com/artist/11591/\">LiSA</a></td>,\n",
       " <td class=\"td3\"><a href=\"https://www.uta-net.com/lyricist/40876/\">LiSA</a></td>,\n",
       " <td class=\"td4\"><a href=\"https://www.uta-net.com/composer/28349/\">原一博</a></td>,\n",
       " <td class=\"side td5\">隣に居るけど手も握れるけど</td>,\n",
       " <td class=\"side td1\"><a href=\"/song/181510/\">rapid life シンドローム</a></td>,\n",
       " <td class=\"td2\"><a href=\"https://www.uta-net.com/artist/11591/\">LiSA</a></td>,\n",
       " <td class=\"td3\"><a href=\"https://www.uta-net.com/lyricist/35452/\">田淵智也</a></td>,\n",
       " <td class=\"td4\"><a href=\"https://www.uta-net.com/composer/36197/\">田淵智也</a></td>,\n",
       " <td class=\"side td5\">boys and girls say life is rapid</td>,\n",
       " <td class=\"side td1\"><a href=\"/song/206581/\">ラブリーデイ</a></td>,\n",
       " <td class=\"td2\"><a href=\"https://www.uta-net.com/artist/11591/\">LiSA</a></td>,\n",
       " <td class=\"td3\"><a href=\"https://www.uta-net.com/lyricist/10159/\">LiSA・古屋真</a></td>,\n",
       " <td class=\"td4\"><a href=\"https://www.uta-net.com/composer/38904/\">野間康介(agehasprings)</a></td>,\n",
       " <td class=\"side td5\">愛をそっと勇気をもっと</td>,\n",
       " <td class=\"side td1\"><a href=\"/song/186932/\">Rally Go Round</a><a href=\"https://www.uta-net.com/user/poplist.html\"><img alt=\"GOLD LYLIC\" src=\"/libs/img/parts/icon_gold.gif\"/></a></td>,\n",
       " <td class=\"td2\"><a href=\"https://www.uta-net.com/artist/11591/\">LiSA</a></td>,\n",
       " <td class=\"td3\"><a href=\"https://www.uta-net.com/lyricist/10159/\">LiSA・古屋真</a></td>,\n",
       " <td class=\"td4\"><a href=\"https://www.uta-net.com/composer/23173/\">じん</a></td>,\n",
       " <td class=\"side td5\">もう散々ぐるぐるしたじゃない</td>,\n",
       " <td class=\"side td1\"><a href=\"/song/194754/\">リスキー</a></td>,\n",
       " <td class=\"td2\"><a href=\"https://www.uta-net.com/artist/11591/\">LiSA</a></td>,\n",
       " <td class=\"td3\"><a href=\"https://www.uta-net.com/lyricist/40876/\">LiSA</a></td>,\n",
       " <td class=\"td4\"><a href=\"https://www.uta-net.com/composer/30397/\">小南泰葉</a></td>,\n",
       " <td class=\"side td5\">なんでもない出来事で</td>,\n",
       " <td class=\"side td1\"><a href=\"/song/229821/\">LiTTLE DEViL PARADE</a></td>,\n",
       " <td class=\"td2\"><a href=\"https://www.uta-net.com/artist/11591/\">LiSA</a></td>,\n",
       " <td class=\"td3\"><a href=\"https://www.uta-net.com/lyricist/40876/\">LiSA</a></td>,\n",
       " <td class=\"td4\"><a href=\"https://www.uta-net.com/composer/15332/\">PABLO a.k.a WTF!?</a></td>,\n",
       " <td class=\"side td5\">ココロの泣いてる声が聴こえる</td>,\n",
       " <td class=\"side td1\"><a href=\"/song/224080/\">リングアベル</a></td>,\n",
       " <td class=\"td2\"><a href=\"https://www.uta-net.com/artist/11591/\">LiSA</a></td>,\n",
       " <td class=\"td3\"><a href=\"https://www.uta-net.com/lyricist/40876/\">LiSA</a></td>,\n",
       " <td class=\"td4\"><a href=\"https://www.uta-net.com/composer/38904/\">野間康介(agehasprings)</a></td>,\n",
       " <td class=\"side td5\">あの日こっそり僕に</td>,\n",
       " <td class=\"side td1\"><a href=\"/song/229820/\">LOSER　～希望と未来に無縁のカタルシス～</a></td>,\n",
       " <td class=\"td2\"><a href=\"https://www.uta-net.com/artist/11591/\">LiSA</a></td>,\n",
       " <td class=\"td3\"><a href=\"https://www.uta-net.com/lyricist/40876/\">LiSA</a></td>,\n",
       " <td class=\"td4\"><a href=\"https://www.uta-net.com/composer/24062/\">カヨコ</a></td>,\n",
       " <td class=\"side td5\">不平等に与えられた手の中の</td>,\n",
       " <td class=\"side td1\"><a href=\"/song/126140/\">ROCK-mode</a><a href=\"https://www.uta-net.com/user/poplist.html\"><img alt=\"GOLD LYLIC\" src=\"/libs/img/parts/icon_gold.gif\"/></a></td>,\n",
       " <td class=\"td2\"><a href=\"https://www.uta-net.com/artist/11591/\">LiSA</a></td>,\n",
       " <td class=\"td3\"><a href=\"https://www.uta-net.com/lyricist/10160/\">LiSA・田淵智也</a></td>,\n",
       " <td class=\"td4\"><a href=\"https://www.uta-net.com/composer/36197/\">田淵智也</a></td>,\n",
       " <td class=\"side td5\">即効性の不安材料で毎日が</td>,\n",
       " <td class=\"side td1\"><a href=\"/song/126142/\">WiLD CANDY</a></td>,\n",
       " <td class=\"td2\"><a href=\"https://www.uta-net.com/artist/11591/\">LiSA</a></td>,\n",
       " <td class=\"td3\"><a href=\"https://www.uta-net.com/lyricist/26419/\">古屋真</a></td>,\n",
       " <td class=\"td4\"><a href=\"https://www.uta-net.com/composer/36776/\">礒崎健史</a></td>,\n",
       " <td class=\"side td5\">ドロップの箱ふってこれが</td>,\n",
       " <td class=\"side td1\"><a href=\"/song/154516/\">winding road</a></td>,\n",
       " <td class=\"td2\"><a href=\"https://www.uta-net.com/artist/11591/\">LiSA</a></td>,\n",
       " <td class=\"td3\"><a href=\"https://www.uta-net.com/lyricist/40876/\">LiSA</a></td>,\n",
       " <td class=\"td4\"><a href=\"https://www.uta-net.com/composer/41053/\">LiSA</a></td>,\n",
       " <td class=\"side td5\">最後の1ページそっと書き足す</td>,\n",
       " <td class=\"side td1\"><a href=\"/song/126139/\">笑ってほしくて</a></td>,\n",
       " <td class=\"td2\"><a href=\"https://www.uta-net.com/artist/11591/\">LiSA</a></td>,\n",
       " <td class=\"td3\"><a href=\"https://www.uta-net.com/lyricist/40876/\">LiSA</a></td>,\n",
       " <td class=\"td4\"><a href=\"https://www.uta-net.com/composer/31764/\">川原祥太</a></td>,\n",
       " <td class=\"side td5\">曇り空の下ひまわりはうつむき</td>]"
      ]
     },
     "execution_count": 42,
     "metadata": {},
     "output_type": "execute_result"
    }
   ],
   "source": [
    "# td タグをすべて取得\n",
    "td_list = get_tags(artist_page, 'td')\n",
    "td_list"
   ]
  },
  {
   "cell_type": "code",
   "execution_count": null,
   "metadata": {
    "colab": {
     "base_uri": "https://localhost:8080/",
     "height": 34
    },
    "colab_type": "code",
    "id": "jRYSrXbBHCAV",
    "outputId": "3ad27477-0100-4e65-e46f-606041da51c8"
   },
   "outputs": [],
   "source": [
    "# 最初のtdタグを取得\n",
    "td_list[0]"
   ]
  },
  {
   "cell_type": "code",
   "execution_count": null,
   "metadata": {
    "colab": {
     "base_uri": "https://localhost:8080/",
     "height": 35
    },
    "colab_type": "code",
    "id": "8L0y0EA2Gxmu",
    "outputId": "d484072c-9048-4bd6-92c7-f9e80c78aa3b"
   },
   "outputs": [],
   "source": [
    "# 最初のtdタグからaタグを取得\n",
    "a_list = get_tags(td_list[0], 'a')\n",
    "a_list"
   ]
  },
  {
   "cell_type": "code",
   "execution_count": null,
   "metadata": {
    "colab": {
     "base_uri": "https://localhost:8080/",
     "height": 35
    },
    "colab_type": "code",
    "id": "Qa9G7pROHoPd",
    "outputId": "48fbcacf-55ca-46ca-87c2-5c984d1ef931"
   },
   "outputs": [],
   "source": [
    "# href属性を見て、URLに'song'が含まれているかを確認\n",
    "a_list[0].get('href')"
   ]
  },
  {
   "cell_type": "code",
   "execution_count": null,
   "metadata": {
    "colab": {
     "base_uri": "https://localhost:8080/",
     "height": 35
    },
    "colab_type": "code",
    "id": "d0_ThwPkL4Ds",
    "outputId": "a0011636-560e-4e59-9b43-b60304533bd1"
   },
   "outputs": [],
   "source": [
    "if 'song' in a_list[0].get('href'):\n",
    "  print(BASE_URL + a_list[0].get('href'))"
   ]
  },
  {
   "cell_type": "code",
   "execution_count": null,
   "metadata": {
    "colab": {},
    "colab_type": "code",
    "id": "hCZ56DBoP_3_"
   },
   "outputs": [],
   "source": [
    "# 歌詞ページのURLのリスト\n",
    "track_urls = []"
   ]
  },
  {
   "cell_type": "code",
   "execution_count": null,
   "metadata": {
    "colab": {},
    "colab_type": "code",
    "id": "uTqoAl58_Zph"
   },
   "outputs": [],
   "source": [
    "# すべての曲のURLを取得\n",
    "# td タグのリストを1つずつ処理\n",
    "for td in td_list:\n",
    "  # a タグのリストを取得し、1つずつ処理\n",
    "  for a in get_tags(td, 'a'):\n",
    "    # aタグのhref属性を取得\n",
    "    href = a.get('href')\n",
    "    # URLに'song'が入っている場合\n",
    "    if 'song' in href:\n",
    "      # track_urls に完全なURLを追加\n",
    "      track_urls.append(BASE_URL + href)"
   ]
  },
  {
   "cell_type": "code",
   "execution_count": null,
   "metadata": {
    "colab": {
     "base_uri": "https://localhost:8080/",
     "height": 1000
    },
    "colab_type": "code",
    "id": "P9w4keyL-pIJ",
    "outputId": "2244d4e3-428a-4983-a68d-2d67cda4a0b3"
   },
   "outputs": [],
   "source": [
    "# URLのリスト\n",
    "track_urls"
   ]
  },
  {
   "cell_type": "markdown",
   "metadata": {
    "colab_type": "text",
    "id": "v8YjcZax_JD8"
   },
   "source": [
    "## 歌詞ページから歌詞を取得"
   ]
  },
  {
   "cell_type": "markdown",
   "metadata": {
    "colab_type": "text",
    "id": "-HK9vV4XDTw1"
   },
   "source": [
    "歌詞ページの例: https://www.uta-net.com/song/162135/"
   ]
  },
  {
   "cell_type": "code",
   "execution_count": null,
   "metadata": {
    "colab": {
     "base_uri": "https://localhost:8080/",
     "height": 35
    },
    "colab_type": "code",
    "id": "gj3IMq8dCIau",
    "outputId": "2b855d89-af79-4892-b452-9741ca31b59a"
   },
   "outputs": [],
   "source": [
    "track_urls[0]"
   ]
  },
  {
   "cell_type": "code",
   "execution_count": null,
   "metadata": {
    "colab": {},
    "colab_type": "code",
    "id": "pYFybvjkCj3h"
   },
   "outputs": [],
   "source": [
    "lyric_page = load_page(track_urls[0])"
   ]
  },
  {
   "cell_type": "code",
   "execution_count": null,
   "metadata": {
    "colab": {
     "base_uri": "https://localhost:8080/",
     "height": 55
    },
    "colab_type": "code",
    "id": "KRyMecrU0-5N",
    "outputId": "13bb3a06-3e68-4e0b-aa33-2c8573df84e1",
    "scrolled": true
   },
   "outputs": [],
   "source": [
    "lyric_page"
   ]
  },
  {
   "cell_type": "code",
   "execution_count": null,
   "metadata": {
    "colab": {},
    "colab_type": "code",
    "id": "YT7nFvfxPDnJ"
   },
   "outputs": [],
   "source": [
    "soup = bs4.BeautifulSoup(lyric_page, 'html.parser')"
   ]
  },
  {
   "cell_type": "code",
   "execution_count": null,
   "metadata": {
    "colab": {
     "base_uri": "https://localhost:8080/",
     "height": 55
    },
    "colab_type": "code",
    "id": "qEitOfHtPUZM",
    "outputId": "e0d8f5c3-85cb-463c-9af8-063cee1eb4ef"
   },
   "outputs": [],
   "source": [
    "# id が kashi_area のタグを探す\n",
    "soup.find(id='kashi_area')"
   ]
  },
  {
   "cell_type": "code",
   "execution_count": null,
   "metadata": {
    "colab": {
     "base_uri": "https://localhost:8080/",
     "height": 55
    },
    "colab_type": "code",
    "id": "h_lJtRAbP6rg",
    "outputId": "8afb690a-4408-41ab-87de-1e5f426450f4"
   },
   "outputs": [],
   "source": [
    "# テキストのみを抽出\n",
    "soup.find(id='kashi_area').text"
   ]
  },
  {
   "cell_type": "code",
   "execution_count": null,
   "metadata": {
    "colab": {
     "base_uri": "https://localhost:8080/",
     "height": 55
    },
    "colab_type": "code",
    "id": "cAXwuRU0QMfB",
    "outputId": "46f98fc4-0b9d-4db7-e1a4-96983e33e2e3"
   },
   "outputs": [],
   "source": [
    "# 全角スペースが文字化けしているので、半角スペースに置換\n",
    "soup.find(id='kashi_area').text.replace('　', '\\n')"
   ]
  },
  {
   "cell_type": "code",
   "execution_count": null,
   "metadata": {
    "colab": {
     "base_uri": "https://localhost:8080/",
     "height": 163
    },
    "colab_type": "code",
    "id": "ZVvh28vp2VZN",
    "outputId": "f699c378-81f9-4864-e2b7-053667e95e60"
   },
   "outputs": [],
   "source": [
    "soup.find(id='kashi_area').text.split('')"
   ]
  },
  {
   "cell_type": "code",
   "execution_count": null,
   "metadata": {
    "colab": {
     "base_uri": "https://localhost:8080/",
     "height": 665
    },
    "colab_type": "code",
    "id": "U4p9RPSt2Ekr",
    "outputId": "9fce6bd2-8120-453e-ea2c-6bd827489a3e"
   },
   "outputs": [],
   "source": [
    "for sentence in soup.find(id='kashi_area').text.split('　'):\n",
    "  print(sentence)"
   ]
  },
  {
   "cell_type": "code",
   "execution_count": null,
   "metadata": {
    "colab": {},
    "colab_type": "code",
    "id": "jeUgNY3axYc9"
   },
   "outputs": [],
   "source": [
    "# 歌詞を入れるリスト\n",
    "lyrics = []"
   ]
  },
  {
   "cell_type": "code",
   "execution_count": null,
   "metadata": {
    "colab": {},
    "colab_type": "code",
    "id": "OHh4j-rZQMvb"
   },
   "outputs": [],
   "source": [
    "# すべての曲の歌詞をlyricsに入れる\n",
    "for track_url in track_urls:\n",
    "  lyric_page = load_page(track_url)\n",
    "  soup = bs4.BeautifulSoup(lyric_page, 'html.parser')\n",
    "  lyrics.append(soup.find(id='kashi_area').text.replace('　', ' '))\n",
    "  time.sleep(1)"
   ]
  },
  {
   "cell_type": "code",
   "execution_count": null,
   "metadata": {
    "colab": {
     "base_uri": "https://localhost:8080/",
     "height": 217
    },
    "colab_type": "code",
    "id": "2nh8jp92yLPG",
    "outputId": "4db98d06-05d0-411d-d6b0-f4c95135427e"
   },
   "outputs": [],
   "source": [
    "lyrics[:10]"
   ]
  },
  {
   "cell_type": "code",
   "execution_count": null,
   "metadata": {
    "colab": {
     "base_uri": "https://localhost:8080/",
     "height": 35
    },
    "colab_type": "code",
    "id": "KrEZDP3DzLLx",
    "outputId": "6c5b3cec-a220-4c31-8a93-9b3d4a99a7e3"
   },
   "outputs": [],
   "source": [
    "len(lyrics)"
   ]
  },
  {
   "cell_type": "markdown",
   "metadata": {
    "colab_type": "text",
    "id": "ON3UHZkcqofI"
   },
   "source": [
    "## MeCab を用いて形態素解析"
   ]
  },
  {
   "cell_type": "markdown",
   "metadata": {
    "colab_type": "text",
    "id": "exeH_C3bqtHL"
   },
   "source": [
    "MeCabのインストール"
   ]
  },
  {
   "cell_type": "code",
   "execution_count": 43,
   "metadata": {
    "colab": {
     "base_uri": "https://localhost:8080/",
     "height": 1000
    },
    "colab_type": "code",
    "id": "V5i_oGZKqwkv",
    "outputId": "6f8bde20-3462-4222-ab0a-9ca777cd0128"
   },
   "outputs": [
    {
     "name": "stdout",
     "output_type": "stream",
     "text": [
      "E: Could not open lock file /var/lib/dpkg/lock - open (13: Permission denied)\n",
      "E: Unable to lock the administration directory (/var/lib/dpkg/), are you root?\n",
      "/bin/sh: 1: aptitude: not found\n",
      "Requirement already satisfied: mecab-python3 in /opt/anaconda3/lib/python3.7/site-packages (0.996.3)\n"
     ]
    }
   ],
   "source": [
    "!apt install aptitude\n",
    "!aptitude install mecab libmecab-dev mecab-ipadic-utf8 git make curl xz-utils file -y\n",
    "!pip install mecab-python3"
   ]
  },
  {
   "cell_type": "code",
   "execution_count": 44,
   "metadata": {
    "colab": {
     "base_uri": "https://localhost:8080/",
     "height": 1000
    },
    "colab_type": "code",
    "id": "k5wrG6ecsgGN",
    "outputId": "7ba116ec-1ff4-423c-fb0c-e618673b1905"
   },
   "outputs": [
    {
     "name": "stdout",
     "output_type": "stream",
     "text": [
      "fatal: destination path 'mecab-ipadic-neologd' already exists and is not an empty directory.\n",
      "[install-mecab-ipadic-NEologd] : Start..\n",
      "[install-mecab-ipadic-NEologd] : Check the existance of libraries\n",
      "[install-mecab-ipadic-NEologd] :     find => ok\n",
      "[install-mecab-ipadic-NEologd] :     sort => ok\n",
      "[install-mecab-ipadic-NEologd] :     head => ok\n",
      "[install-mecab-ipadic-NEologd] :     cut => ok\n",
      "[install-mecab-ipadic-NEologd] :     egrep => ok\n",
      "[install-mecab-ipadic-NEologd] :     mecab is not found.\n"
     ]
    }
   ],
   "source": [
    "# 最新の辞書をダウンロード\n",
    "!git clone --depth 1 https://github.com/neologd/mecab-ipadic-neologd.git\n",
    "!echo yes | mecab-ipadic-neologd/bin/install-mecab-ipadic-neologd -n -a"
   ]
  },
  {
   "cell_type": "markdown",
   "metadata": {
    "colab_type": "text",
    "id": "5HA2qcn7sr6L"
   },
   "source": [
    "# MeCabで1曲ずつ形態素解析を行う"
   ]
  },
  {
   "cell_type": "markdown",
   "metadata": {},
   "source": [
    "正直いらないかも。。。"
   ]
  },
  {
   "cell_type": "markdown",
   "metadata": {
    "colab_type": "text",
    "id": "KiEN9_Kol03X"
   },
   "source": [
    "形態素解析とは\n",
    "\n",
    "文章を意味をもつ最小単位の表現に分解すること。最小単位は単語になることが多い。"
   ]
  },
  {
   "cell_type": "code",
   "execution_count": 45,
   "metadata": {
    "colab": {
     "base_uri": "https://localhost:8080/",
     "height": 35
    },
    "colab_type": "code",
    "id": "wklK-An9zf2f",
    "outputId": "8fc4f718-7013-4f5d-c5b1-d1db984161e1"
   },
   "outputs": [
    {
     "ename": "RuntimeError",
     "evalue": "",
     "output_type": "error",
     "traceback": [
      "\u001b[0;31m---------------------------------------------------------------------------\u001b[0m",
      "\u001b[0;31mRuntimeError\u001b[0m                              Traceback (most recent call last)",
      "\u001b[0;32m<ipython-input-45-98a6aba29adc>\u001b[0m in \u001b[0;36m<module>\u001b[0;34m\u001b[0m\n\u001b[1;32m      6\u001b[0m path = (subprocess.Popen(cmd, stdout=subprocess.PIPE,\n\u001b[1;32m      7\u001b[0m                            shell=True).communicate()[0]).decode('utf-8')\n\u001b[0;32m----> 8\u001b[0;31m \u001b[0mmecab\u001b[0m \u001b[0;34m=\u001b[0m \u001b[0mMeCab\u001b[0m\u001b[0;34m.\u001b[0m\u001b[0mTagger\u001b[0m\u001b[0;34m(\u001b[0m\u001b[0;34m\"-d {0}\"\u001b[0m\u001b[0;34m.\u001b[0m\u001b[0mformat\u001b[0m\u001b[0;34m(\u001b[0m\u001b[0mpath\u001b[0m\u001b[0;34m)\u001b[0m\u001b[0;34m)\u001b[0m\u001b[0;34m\u001b[0m\u001b[0;34m\u001b[0m\u001b[0m\n\u001b[0m\u001b[1;32m      9\u001b[0m \u001b[0mmecab\u001b[0m\u001b[0;34m.\u001b[0m\u001b[0mparse\u001b[0m\u001b[0;34m(\u001b[0m\u001b[0;34m''\u001b[0m\u001b[0;34m)\u001b[0m\u001b[0;34m\u001b[0m\u001b[0;34m\u001b[0m\u001b[0m\n",
      "\u001b[0;32m/opt/anaconda3/lib/python3.7/site-packages/MeCab/__init__.py\u001b[0m in \u001b[0;36m__init__\u001b[0;34m(self, *args)\u001b[0m\n\u001b[1;32m     97\u001b[0m     \u001b[0;32mdef\u001b[0m \u001b[0m__init__\u001b[0m\u001b[0;34m(\u001b[0m\u001b[0mself\u001b[0m\u001b[0;34m,\u001b[0m \u001b[0;34m*\u001b[0m\u001b[0margs\u001b[0m\u001b[0;34m)\u001b[0m\u001b[0;34m:\u001b[0m\u001b[0;34m\u001b[0m\u001b[0;34m\u001b[0m\u001b[0m\n\u001b[1;32m     98\u001b[0m         \u001b[0;32mwith\u001b[0m \u001b[0m_mecabrc_for_bundled_dictionary\u001b[0m\u001b[0;34m(\u001b[0m\u001b[0;34m)\u001b[0m\u001b[0;34m:\u001b[0m\u001b[0;34m\u001b[0m\u001b[0;34m\u001b[0m\u001b[0m\n\u001b[0;32m---> 99\u001b[0;31m             \u001b[0msuper\u001b[0m\u001b[0;34m(\u001b[0m\u001b[0mTagger\u001b[0m\u001b[0;34m,\u001b[0m \u001b[0mself\u001b[0m\u001b[0;34m)\u001b[0m\u001b[0;34m.\u001b[0m\u001b[0m__init__\u001b[0m\u001b[0;34m(\u001b[0m\u001b[0;34m*\u001b[0m\u001b[0margs\u001b[0m\u001b[0;34m)\u001b[0m\u001b[0;34m\u001b[0m\u001b[0;34m\u001b[0m\u001b[0m\n\u001b[0m\u001b[1;32m    100\u001b[0m \u001b[0;34m\u001b[0m\u001b[0m\n\u001b[1;32m    101\u001b[0m \u001b[0;34m\u001b[0m\u001b[0m\n",
      "\u001b[0;31mRuntimeError\u001b[0m: "
     ]
    }
   ],
   "source": [
    "# MeCab セットアップ\n",
    "import MeCab\n",
    "import subprocess\n",
    "\n",
    "cmd='echo `mecab-config --dicdir`\"/mecab-ipadic-neologd\"'\n",
    "path = (subprocess.Popen(cmd, stdout=subprocess.PIPE,\n",
    "                           shell=True).communicate()[0]).decode('utf-8')\n",
    "mecab = MeCab.Tagger(\"-d {0}\".format(path))\n",
    "mecab.parse('')"
   ]
  },
  {
   "cell_type": "code",
   "execution_count": 46,
   "metadata": {},
   "outputs": [],
   "source": [
    "mecab_parser=lambda x: MeCab.Tagger(\"-Owakati\").parse(x).split(\" \")"
   ]
  },
  {
   "cell_type": "code",
   "execution_count": 110,
   "metadata": {},
   "outputs": [
    {
     "data": {
      "text/plain": [
       "['選挙',\n",
       " 'の',\n",
       " '日',\n",
       " 'って',\n",
       " 'うち',\n",
       " 'じゃ',\n",
       " 'なぜ',\n",
       " 'か',\n",
       " '投票',\n",
       " '行っ',\n",
       " 'て',\n",
       " '外食',\n",
       " 'する',\n",
       " 'ん',\n",
       " 'だ',\n",
       " '\\n']"
      ]
     },
     "execution_count": 110,
     "metadata": {},
     "output_type": "execute_result"
    }
   ],
   "source": [
    "mecab_parser('選挙の日ってうちじゃなぜか投票行って外食するんだ')"
   ]
  },
  {
   "cell_type": "code",
   "execution_count": 111,
   "metadata": {
    "colab": {
     "base_uri": "https://localhost:8080/",
     "height": 287
    },
    "colab_type": "code",
    "id": "xPr9KCCs1cW1",
    "outputId": "d7b0ecd6-8697-46e6-e786-7a1629757d09"
   },
   "outputs": [
    {
     "ename": "AttributeError",
     "evalue": "'function' object has no attribute 'parse'",
     "output_type": "error",
     "traceback": [
      "\u001b[0;31m---------------------------------------------------------------------------\u001b[0m",
      "\u001b[0;31mAttributeError\u001b[0m                            Traceback (most recent call last)",
      "\u001b[0;32m<ipython-input-111-c0bec4d1b3a3>\u001b[0m in \u001b[0;36m<module>\u001b[0;34m\u001b[0m\n\u001b[0;32m----> 1\u001b[0;31m \u001b[0;32mfor\u001b[0m \u001b[0mword\u001b[0m \u001b[0;32min\u001b[0m \u001b[0mmecab\u001b[0m\u001b[0;34m.\u001b[0m\u001b[0mparse\u001b[0m\u001b[0;34m(\u001b[0m\u001b[0;34m'選挙の日ってうちじゃなぜか投票行って外食するんだ'\u001b[0m\u001b[0;34m)\u001b[0m\u001b[0;34m.\u001b[0m\u001b[0msplit\u001b[0m\u001b[0;34m(\u001b[0m\u001b[0;34m'\\n'\u001b[0m\u001b[0;34m)\u001b[0m\u001b[0;34m:\u001b[0m\u001b[0;34m\u001b[0m\u001b[0;34m\u001b[0m\u001b[0m\n\u001b[0m\u001b[1;32m      2\u001b[0m   \u001b[0mprint\u001b[0m\u001b[0;34m(\u001b[0m\u001b[0mword\u001b[0m\u001b[0;34m)\u001b[0m\u001b[0;34m\u001b[0m\u001b[0;34m\u001b[0m\u001b[0m\n",
      "\u001b[0;31mAttributeError\u001b[0m: 'function' object has no attribute 'parse'"
     ]
    }
   ],
   "source": [
    "for word in mecab.parse('選挙の日ってうちじゃなぜか投票行って外食するんだ').split('\\n'):\n",
    "  print(word)"
   ]
  },
  {
   "cell_type": "code",
   "execution_count": null,
   "metadata": {
    "colab": {
     "base_uri": "https://localhost:8080/",
     "height": 35
    },
    "colab_type": "code",
    "id": "nWmg2CRk7eKM",
    "outputId": "10825685-6ed7-47b1-8e0d-648523e557ab"
   },
   "outputs": [],
   "source": [
    "mecab.parse('おのののか')"
   ]
  },
  {
   "cell_type": "code",
   "execution_count": null,
   "metadata": {
    "colab": {
     "base_uri": "https://localhost:8080/",
     "height": 55
    },
    "colab_type": "code",
    "id": "VIKEjexJ10h6",
    "outputId": "b0629e7d-5715-4490-d507-27df2434d8f9"
   },
   "outputs": [],
   "source": [
    "mecab.parse(lyrics[0])"
   ]
  },
  {
   "cell_type": "code",
   "execution_count": null,
   "metadata": {
    "colab": {},
    "colab_type": "code",
    "id": "l7ZokQRfzxVh"
   },
   "outputs": [],
   "source": [
    "node = mecab.parseToNode(lyrics[0])"
   ]
  },
  {
   "cell_type": "code",
   "execution_count": null,
   "metadata": {
    "colab": {
     "base_uri": "https://localhost:8080/",
     "height": 1000
    },
    "colab_type": "code",
    "id": "pe_CqIMCztfx",
    "outputId": "7e20470c-93d1-4b7c-d3e7-6d2d6df49eed"
   },
   "outputs": [],
   "source": [
    "while node:\n",
    "  #単語を取得\n",
    "  word = node.surface\n",
    "  #品詞を取得\n",
    "  pos = node.feature.split(',')[0]\n",
    "  if pos in ['名詞','形容詞','副詞','動詞']:\n",
    "    print(word)\n",
    "  #次の単語に進める\n",
    "  node = node.next"
   ]
  },
  {
   "cell_type": "code",
   "execution_count": null,
   "metadata": {
    "colab": {},
    "colab_type": "code",
    "id": "3IDO-FnPI2VJ"
   },
   "outputs": [],
   "source": [
    "# すべての曲の単語を入れる配列\n",
    "words = []\n",
    "\n",
    "for lyric in lyrics:\n",
    "  node = mecab.parseToNode(lyric)\n",
    "  while node:\n",
    "    #単語を取得\n",
    "    word = node.surface\n",
    "    #品詞を取得\n",
    "    pos = node.feature.split(',')[0]\n",
    "    if pos in ['名詞','形容詞','副詞','動詞']:\n",
    "      words.append(word)\n",
    "    #次の単語に進める\n",
    "    node = node.next"
   ]
  },
  {
   "cell_type": "code",
   "execution_count": null,
   "metadata": {
    "colab": {
     "base_uri": "https://localhost:8080/",
     "height": 35
    },
    "colab_type": "code",
    "id": "-o9ECpFSJwlN",
    "outputId": "93469c9e-fb04-4d7d-f08e-ac8ed6d02749"
   },
   "outputs": [],
   "source": [
    "len(words)"
   ]
  },
  {
   "cell_type": "markdown",
   "metadata": {
    "colab_type": "text",
    "id": "eKcSUYxdOYoj"
   },
   "source": [
    "collections.Counter を使って単語の出現回数をカウント\n",
    "\n"
   ]
  },
  {
   "cell_type": "code",
   "execution_count": null,
   "metadata": {
    "colab": {},
    "colab_type": "code",
    "id": "VgsLmUNqIhmF"
   },
   "outputs": [],
   "source": [
    "import collections\n",
    "\n",
    "word_counter = collections.Counter(words)"
   ]
  },
  {
   "cell_type": "code",
   "execution_count": null,
   "metadata": {
    "colab": {
     "base_uri": "https://localhost:8080/",
     "height": 35
    },
    "colab_type": "code",
    "id": "-gMhebJ8OIEo",
    "outputId": "89f65988-9e20-42da-8da8-0e52c1d41b93"
   },
   "outputs": [],
   "source": [
    "# 何種類の単語があるか\n",
    "len(word_counter)"
   ]
  },
  {
   "cell_type": "code",
   "execution_count": null,
   "metadata": {
    "colab": {
     "base_uri": "https://localhost:8080/",
     "height": 35
    },
    "colab_type": "code",
    "id": "DyUYiRdVWDmi",
    "outputId": "3a8e920f-ec9e-44a9-b802-6c6c60768ffb"
   },
   "outputs": [],
   "source": [
    "# 単語の出現回数\n",
    "word_counter['あなた']"
   ]
  },
  {
   "cell_type": "code",
   "execution_count": null,
   "metadata": {
    "colab": {
     "base_uri": "https://localhost:8080/",
     "height": 1000
    },
    "colab_type": "code",
    "id": "PTQodZbAetly",
    "outputId": "e261affe-1747-4c03-c41f-2722a42c247a"
   },
   "outputs": [],
   "source": [
    "# 出現回数が多い順に並べる\n",
    "word_counter.most_common()"
   ]
  },
  {
   "cell_type": "markdown",
   "metadata": {
    "colab_type": "text",
    "id": "2MkjiIl14oSH"
   },
   "source": [
    "## ワードクラウドで可視化する"
   ]
  },
  {
   "cell_type": "markdown",
   "metadata": {
    "colab_type": "text",
    "id": "mwWfU7AWevr1"
   },
   "source": [
    "ワードクラウド（word cloud）とは単語を出現回数に比例する大きさで雲のように並べたもの\n",
    "\n",
    "\n",
    "例\n",
    "\n",
    "![代替テキスト](https://oku.edu.mie-u.ac.jp/~okumura/python/img/wc1.png)\n",
    "\n",
    "\n",
    "Python では wordcloud モジュールで作成"
   ]
  },
  {
   "cell_type": "code",
   "execution_count": null,
   "metadata": {
    "colab": {
     "base_uri": "https://localhost:8080/",
     "height": 487
    },
    "colab_type": "code",
    "id": "HPGIzVLUkr6y",
    "outputId": "0a676833-b2c4-41e4-f72b-a85773024482"
   },
   "outputs": [],
   "source": [
    "# 日本語フォントをインストール\n",
    "!apt-get -y install fonts-ipafont-gothic"
   ]
  },
  {
   "cell_type": "code",
   "execution_count": null,
   "metadata": {
    "colab": {},
    "colab_type": "code",
    "id": "L8S0pAQI4tQu"
   },
   "outputs": [],
   "source": [
    "import matplotlib.pyplot as plt\n",
    "import wordcloud"
   ]
  },
  {
   "cell_type": "code",
   "execution_count": null,
   "metadata": {
    "colab": {},
    "colab_type": "code",
    "id": "Bqjwb3uSk7PY"
   },
   "outputs": [],
   "source": [
    "# 日本語フォントのパス\n",
    "fpath = '/usr/share/fonts/truetype/fonts-japanese-gothic.ttf'"
   ]
  },
  {
   "cell_type": "code",
   "execution_count": null,
   "metadata": {
    "colab": {},
    "colab_type": "code",
    "id": "xk6saA-Qj0fb"
   },
   "outputs": [],
   "source": [
    "# wordcloud で使うために、単語のリストをスペース区切りの文字列に変換\n",
    "words_str = ' '.join(words)"
   ]
  },
  {
   "cell_type": "code",
   "execution_count": null,
   "metadata": {
    "colab": {},
    "colab_type": "code",
    "id": "x0Bp2NZQx1hW"
   },
   "outputs": [],
   "source": [
    "lyric_cloud = wordcloud.WordCloud(background_color=\"white\", \n",
    "                                  font_path=fpath, \n",
    "                                  width=900, \n",
    "                                  height=500).generate(words_str)"
   ]
  },
  {
   "cell_type": "code",
   "execution_count": null,
   "metadata": {
    "colab": {
     "base_uri": "https://localhost:8080/",
     "height": 496
    },
    "colab_type": "code",
    "id": "CGEfhw9ijDEq",
    "outputId": "ceb18330-b556-42e9-b4b0-8b30859340b7"
   },
   "outputs": [],
   "source": [
    "plt.figure(figsize=(15,12))\n",
    "plt.imshow(lyric_cloud)\n",
    "plt.axis(\"off\")\n",
    "plt.show()"
   ]
  },
  {
   "cell_type": "markdown",
   "metadata": {
    "colab_type": "text",
    "id": "qTVCsrMkmpzg"
   },
   "source": [
    "意味を持たない単語が多くなってしまう\n",
    "\n",
    "これを防ぐのが、stopwords。stopwordsで与えられた単語をword cloud から除外する"
   ]
  },
  {
   "cell_type": "code",
   "execution_count": null,
   "metadata": {
    "colab": {},
    "colab_type": "code",
    "id": "URDidTodlQRu"
   },
   "outputs": [],
   "source": [
    "stop_words = [ 'てる', 'いる', 'なる', 'れる', 'する', 'ある', 'こと', 'これ', 'さん', 'して', \\\n",
    "             'くれる', 'やる', 'くださる', 'そう', 'せる', 'した',  '思う',  \\\n",
    "             'それ', 'ここ', 'ちゃん', 'くん', '', 'て','に','を','は','の', 'が', 'と', 'た', 'し', 'で', \\\n",
    "             'ない', 'も', 'な', 'い', 'か', 'ので', 'よう', '']"
   ]
  },
  {
   "cell_type": "code",
   "execution_count": null,
   "metadata": {
    "colab": {},
    "colab_type": "code",
    "id": "QHA5fH3XmI33"
   },
   "outputs": [],
   "source": [
    "lyric_cloud = wordcloud.WordCloud(background_color=\"white\", \n",
    "                                  font_path=fpath,\n",
    "                                  width=900, \n",
    "                                  height=500,\n",
    "                                  stopwords=stop_words).generate(words_str)"
   ]
  },
  {
   "cell_type": "code",
   "execution_count": null,
   "metadata": {
    "colab": {
     "base_uri": "https://localhost:8080/",
     "height": 496
    },
    "colab_type": "code",
    "id": "QM5qCwz3mWiU",
    "outputId": "cf39d686-4b5e-45a6-ef3d-34c021a18da5"
   },
   "outputs": [],
   "source": [
    "plt.figure(figsize=(15,12))\n",
    "plt.imshow(lyric_cloud)\n",
    "plt.axis(\"off\")\n",
    "plt.show()"
   ]
  },
  {
   "cell_type": "markdown",
   "metadata": {
    "colab_type": "text",
    "id": "fatGHYIgql1Y"
   },
   "source": [
    "# BERTで歌詞をしてみる（秋元康編）\n"
   ]
  },
  {
   "cell_type": "code",
   "execution_count": 1,
   "metadata": {
    "colab": {},
    "colab_type": "code",
    "id": "lowerWxp9SqV",
    "scrolled": true
   },
   "outputs": [
    {
     "name": "stdout",
     "output_type": "stream",
     "text": [
      "Requirement already satisfied: tqdm in /opt/anaconda3/lib/python3.7/site-packages (4.40.2)\n",
      "Enabling notebook extension jupyter-js-widgets/extension...\n",
      "      - Validating: \u001b[32mOK\u001b[0m\n"
     ]
    }
   ],
   "source": [
    "!pip install tqdm\n",
    "!jupyter nbextension enable --py --sys-prefix widgetsnbextension"
   ]
  },
  {
   "cell_type": "code",
   "execution_count": 2,
   "metadata": {
    "colab": {
     "base_uri": "https://localhost:8080/",
     "height": 136
    },
    "colab_type": "code",
    "id": "QWffTx9YFus4",
    "outputId": "88d8c5b2-ba5f-4a51-bb0c-04eb26808c33",
    "scrolled": true
   },
   "outputs": [
    {
     "name": "stdout",
     "output_type": "stream",
     "text": [
      "Requirement already satisfied: transformers in /opt/anaconda3/lib/python3.7/site-packages (2.4.1)\n",
      "Requirement already satisfied: sentencepiece in /opt/anaconda3/lib/python3.7/site-packages (from transformers) (0.1.85)\n",
      "Requirement already satisfied: requests in /opt/anaconda3/lib/python3.7/site-packages (from transformers) (2.22.0)\n",
      "Requirement already satisfied: filelock in /opt/anaconda3/lib/python3.7/site-packages (from transformers) (3.0.12)\n",
      "Requirement already satisfied: sacremoses in /opt/anaconda3/lib/python3.7/site-packages (from transformers) (0.0.38)\n",
      "Requirement already satisfied: regex!=2019.12.17 in /opt/anaconda3/lib/python3.7/site-packages (from transformers) (2019.8.19)\n",
      "Requirement already satisfied: tokenizers==0.0.11 in /opt/anaconda3/lib/python3.7/site-packages (from transformers) (0.0.11)\n",
      "Requirement already satisfied: boto3 in /opt/anaconda3/lib/python3.7/site-packages (from transformers) (1.11.9)\n",
      "Requirement already satisfied: tqdm>=4.27 in /opt/anaconda3/lib/python3.7/site-packages (from transformers) (4.40.2)\n",
      "Requirement already satisfied: numpy in /opt/anaconda3/lib/python3.7/site-packages (from transformers) (1.18.1)\n",
      "Requirement already satisfied: certifi>=2017.4.17 in /opt/anaconda3/lib/python3.7/site-packages (from requests->transformers) (2019.11.28)\n",
      "Requirement already satisfied: idna<2.9,>=2.5 in /opt/anaconda3/lib/python3.7/site-packages (from requests->transformers) (2.8)\n",
      "Requirement already satisfied: urllib3!=1.25.0,!=1.25.1,<1.26,>=1.21.1 in /opt/anaconda3/lib/python3.7/site-packages (from requests->transformers) (1.24.3)\n",
      "Requirement already satisfied: chardet<3.1.0,>=3.0.2 in /opt/anaconda3/lib/python3.7/site-packages (from requests->transformers) (3.0.4)\n",
      "Requirement already satisfied: six in /opt/anaconda3/lib/python3.7/site-packages (from sacremoses->transformers) (1.14.0)\n",
      "Requirement already satisfied: joblib in /opt/anaconda3/lib/python3.7/site-packages (from sacremoses->transformers) (0.14.1)\n",
      "Requirement already satisfied: click in /opt/anaconda3/lib/python3.7/site-packages (from sacremoses->transformers) (7.0)\n",
      "Requirement already satisfied: jmespath<1.0.0,>=0.7.1 in /opt/anaconda3/lib/python3.7/site-packages (from boto3->transformers) (0.9.4)\n",
      "Requirement already satisfied: botocore<1.15.0,>=1.14.9 in /opt/anaconda3/lib/python3.7/site-packages (from boto3->transformers) (1.14.9)\n",
      "Requirement already satisfied: s3transfer<0.4.0,>=0.3.0 in /opt/anaconda3/lib/python3.7/site-packages (from boto3->transformers) (0.3.2)\n",
      "Requirement already satisfied: python-dateutil<3.0.0,>=2.1 in /opt/anaconda3/lib/python3.7/site-packages (from botocore<1.15.0,>=1.14.9->boto3->transformers) (2.8.1)\n",
      "Collecting docutils<0.16,>=0.10\n",
      "  Downloading docutils-0.15.2-py3-none-any.whl (547 kB)\n",
      "\u001b[K     |████████████████████████████████| 547 kB 4.8 MB/s eta 0:00:01\n",
      "\u001b[?25hInstalling collected packages: docutils\n",
      "  Attempting uninstall: docutils\n",
      "    Found existing installation: docutils 0.16\n",
      "    Uninstalling docutils-0.16:\n",
      "      Successfully uninstalled docutils-0.16\n",
      "Successfully installed docutils-0.15.2\n",
      "fatal: destination path 'transformers' already exists and is not an empty directory.\n",
      "mkdir: cannot create directory ‘output’: File exists\n"
     ]
    }
   ],
   "source": [
    "# Bertのコンポーネントの transformers をダウンロード\n",
    "!pip install transformers\n",
    "!git clone https://github.com/loverico/transformers.git\n",
    "!mkdir output\n"
   ]
  },
  {
   "cell_type": "markdown",
   "metadata": {},
   "source": [
    "## BERT とは\n",
    "自然言語処理に特化した事前学習済み機械学習モデル。\n",
    "人間の文章認識能力を超えたことが話題になった。\n",
    "### 事前学習済みモデルとは\n",
    "あらかじめ汎化性のあるタスクを学習しておいたモデルのこと。\n",
    "例えば、BERT の場合は、欠損した文章を与えてその欠損した箇所にはどんな単語が入るか推測させるなどのタスクを行う\n",
    "その学習されたモデルを用いて、個別のタスクで更に学習させることによって効果的な学習結果が期待できる(→転移学習と呼ぶ）\n",
    "\n"
   ]
  },
  {
   "cell_type": "markdown",
   "metadata": {},
   "source": [
    "### 先ほどのスクレイピングメソッドをクラス化"
   ]
  },
  {
   "cell_type": "code",
   "execution_count": 52,
   "metadata": {
    "colab": {},
    "colab_type": "code",
    "id": "moHpzooAqvXX"
   },
   "outputs": [],
   "source": [
    "# url\n",
    "import urllib.parse\n",
    "from tqdm import tqdm_notebook as tqdm\n",
    "#人気順（昇順）\n",
    "POPULAR_ASC = 3\n",
    "# 人気順（降順)\n",
    "POPULAR_DESC = 4\n",
    "# 作詞者氏名で検索\n",
    "SEARCH_TYPE_WRITER=3\n",
    "\n",
    "class LyricFetcher():\n",
    "    artist_name = None\n",
    "    base_url = None\n",
    "    lyrics_list = []\n",
    "    stop_words = []\n",
    "    # 初期化メソッド\n",
    "    def __init__(self,artist_name,base_url=BASE_URL):\n",
    "        self.artist_name = artist_name\n",
    "\n",
    "    def build_list_url(self, keyword, search_type=SEARCH_TYPE_WRITER, sort_type=POPULAR_ASC):\n",
    "        return f\"https://www.uta-net.com/search/?Aselect={search_type}&Bselect=3&Keyword={urllib.parse.quote(keyword)}&sort={sort_type}\"\n",
    "    \n",
    "    def remove_stop_words(self,words=[], stop_words=[]):\n",
    "        if len(stop_words)> 0:\n",
    "            self.stop_wrods = stop_words\n",
    "        return [word for word in words if word not in self.stop_words]\n",
    "        \n",
    "    def extract_track_urls(self, td_list, fetch_cnt):\n",
    "        track_urls = []\n",
    "        for td in td_list:\n",
    "          # a タグのリストを取得し、1つずつ処理\n",
    "          for a in self.get_tags(td, 'a'):\n",
    "            # aタグのhref属性を取得\n",
    "            href = a.get('href')\n",
    "            # URLに'song'が入っている場合\n",
    "            if 'song' in href:\n",
    "              # track_urls に完全なURLを追加\n",
    "              track_urls.append(BASE_URL + href)\n",
    "        print(len(track_urls[:fetch_cnt]))\n",
    "        return track_urls[:fetch_cnt]\n",
    "\n",
    "    def get_tags(self, page, target_tag):\n",
    "        soup = bs4.BeautifulSoup(str(page), 'html.parser')\n",
    "        tags = soup.find_all(target_tag)\n",
    "        return tags\n",
    "\n",
    "    def load_page(self, url):\n",
    "        response = requests.get(url)\n",
    "        response.raise_for_status()\n",
    "        return response.text \n",
    "\n",
    "    def fetch_lyric(self, track_url):\n",
    "        if track_url == \"\":\n",
    "            return None\n",
    "        lyric_page = self.load_page(track_url)\n",
    "        soup = bs4.BeautifulSoup(lyric_page, 'html.parser')\n",
    "        # アクセス過多を防ぐために１秒間休止\n",
    "        time.sleep(1)\n",
    "        return soup.find(id='kashi_area').text.replace('　', ' ')\n",
    "\n",
    "    def run_fetch(self, fetch_cnt=10, sort_type=POPULAR_ASC):\n",
    "        # url 作成\n",
    "        url= self.build_list_url(self.artist_name, sort_type)\n",
    "        # アーティストページ取得\n",
    "        artist_page= self.load_page(url)\n",
    "        # td_list を作成\n",
    "        td_list = self.get_tags(artist_page, 'td')\n",
    "        # そこから曲のurlリストを抽出\n",
    "        track_urls= self.extract_track_urls(td_list, fetch_cnt)\n",
    "\n",
    "        for track_url in tqdm(track_urls):\n",
    "            self.lyrics_list.append(self.fetch_lyric(track_url))\n",
    "    \n",
    "    # return self.lyrics_list"
   ]
  },
  {
   "cell_type": "code",
   "execution_count": 54,
   "metadata": {
    "colab": {
     "base_uri": "https://localhost:8080/",
     "height": 443,
     "referenced_widgets": [
      "dddf7e91294a440aa87c8685e4156e73",
      "b53e63945ae44423bdbb59b7b128ab75",
      "dff0df5b98dd4ea4a83ad850bab4ce4d",
      "cb57607642b44d2badd2362ebbffd896",
      "e21b8159e7bc4d4e8c06aad3ceca5d3d",
      "a6af5129790b4da9a34ff02b85b6aa83",
      "c77fa8d06ff640b9822db7abf34e0e55",
      "d95f842c3723449588ca92a839fed2c9"
     ]
    },
    "colab_type": "code",
    "id": "NUGYGjRW1b0J",
    "outputId": "01e30419-44de-41e3-cd23-04734230fb55"
   },
   "outputs": [
    {
     "name": "stdout",
     "output_type": "stream",
     "text": [
      "20\n"
     ]
    },
    {
     "name": "stderr",
     "output_type": "stream",
     "text": [
      "/opt/anaconda3/lib/python3.7/site-packages/ipykernel_launcher.py:71: TqdmDeprecationWarning: This function will be removed in tqdm==5.0.0\n",
      "Please use `tqdm.notebook.tqdm` instead of `tqdm.tqdm_notebook`\n"
     ]
    },
    {
     "data": {
      "application/vnd.jupyter.widget-view+json": {
       "model_id": "13516733f6224aec98b7fcb8ac02c3b8",
       "version_major": 2,
       "version_minor": 0
      },
      "text/plain": [
       "HBox(children=(FloatProgress(value=0.0, max=20.0), HTML(value='')))"
      ]
     },
     "metadata": {},
     "output_type": "display_data"
    },
    {
     "name": "stdout",
     "output_type": "stream",
     "text": [
      "\n"
     ]
    }
   ],
   "source": [
    "akimoto_lyrics = LyricFetcher(\"秋元康\")\n",
    "akimoto_lyrics.run_fetch(fetch_cnt=20, sort_type=POPULAR_ASC)"
   ]
  },
  {
   "cell_type": "code",
   "execution_count": 56,
   "metadata": {},
   "outputs": [
    {
     "data": {
      "text/plain": [
       "\"思い出マイフレンド今でもマイフレンドああ 白い風力発電の羽がゆっくり 回っているよああ 僕が生まれた大地はいつだってどこからか風が吹いていた変わらない毎日が退屈で嫌だったトランクに夢詰めて1人 飛び乗った長距離バスHow are you doing？ 久しぶりだラベンダーの香りの季節深呼吸をしたくなる空気帰って来た気がするよHow are you doing？ 懐かしいねあの頃のみんなは元気なのか？新しい自分探して遠くまで行ったけれど青い空が続いてただけだ故郷(ふるさと)マイフレンドあれからマイフレンドああ 国道沿いの看板には未来の街が描(えが)かれてるよああ いつか過ぎてく時代に挫折した僕だけが取り残されるんだ旧式のトラクター煙吐(は)き やって来た大声で叫ぶのは何も変わらない幼馴染I'm fine, and you？ ボチボチだよ都会暮らしに疲れてしまった自然だけしかないと思ってた実家が恋しくなったI'm fine, and you？ いつの間にか僕たちは大人になったのかな送ろうか？と言われたけどありがとうと断った自分の足で歩いて行くよ思い出マイフレンドHow are you doing？ 久しぶりだラベンダーの香りの季節深呼吸をしたくなる空気帰って来た気がするよHow are you doing？ 懐かしいねあの頃のみんなは元気なのか？新しい自分探して遠くまで行ったけれど夢の涯(はて)にあったもの青い空がずっと続くだけ思い出マイフレンドただいまマイフレンド\""
      ]
     },
     "execution_count": 56,
     "metadata": {},
     "output_type": "execute_result"
    }
   ],
   "source": [
    "akimoto_lyrics.lyrics_list[0]"
   ]
  },
  {
   "cell_type": "code",
   "execution_count": 21,
   "metadata": {
    "colab": {},
    "colab_type": "code",
    "id": "aQaMKJ8tuo3a"
   },
   "outputs": [],
   "source": [
    "from transformers import BertJapaneseTokenizer\n",
    "tokenizer = BertJapaneseTokenizer.from_pretrained('bert-base-japanese-whole-word-masking')\n",
    "track_tokens=[tokenizer.tokenize(lyrics) for lyrics in akimoto_lyrics.lyrics_list]"
   ]
  },
  {
   "cell_type": "code",
   "execution_count": 24,
   "metadata": {
    "colab": {},
    "colab_type": "code",
    "id": "i5IiKemYCHH5"
   },
   "outputs": [
    {
     "data": {
      "text/plain": [
       "['思い出', 'マイ', 'フレンド', '今', 'でも', 'マイ', '##フレンド', 'あ', '##あ', '白い']"
      ]
     },
     "execution_count": 24,
     "metadata": {},
     "output_type": "execute_result"
    }
   ],
   "source": [
    "track_tokens[0][:10]"
   ]
  },
  {
   "cell_type": "code",
   "execution_count": 19,
   "metadata": {},
   "outputs": [
    {
     "ename": "ImportError",
     "evalue": "cannot import name 'WarmupLinearSchedule' from 'transformers.optimization' (/opt/anaconda3/lib/python3.7/site-packages/transformers/optimization.py)",
     "output_type": "error",
     "traceback": [
      "\u001b[0;31m---------------------------------------------------------------------------\u001b[0m",
      "\u001b[0;31mImportError\u001b[0m                               Traceback (most recent call last)",
      "\u001b[0;32m<ipython-input-19-4c6ddc82461a>\u001b[0m in \u001b[0;36m<module>\u001b[0;34m\u001b[0m\n\u001b[0;32m----> 1\u001b[0;31m \u001b[0;32mfrom\u001b[0m \u001b[0mtransformers\u001b[0m\u001b[0;34m.\u001b[0m\u001b[0moptimization\u001b[0m \u001b[0;32mimport\u001b[0m \u001b[0mAdamW\u001b[0m\u001b[0;34m,\u001b[0m \u001b[0mWarmupLinearSchedule\u001b[0m\u001b[0;34m\u001b[0m\u001b[0;34m\u001b[0m\u001b[0m\n\u001b[0m",
      "\u001b[0;31mImportError\u001b[0m: cannot import name 'WarmupLinearSchedule' from 'transformers.optimization' (/opt/anaconda3/lib/python3.7/site-packages/transformers/optimization.py)"
     ]
    }
   ],
   "source": [
    "from transformers.optimization import AdamW, WarmupLinearSchedule"
   ]
  },
  {
   "cell_type": "code",
   "execution_count": 96,
   "metadata": {},
   "outputs": [],
   "source": [
    "from transformers import get_linear_schedule_with_warmup"
   ]
  },
  {
   "cell_type": "code",
   "execution_count": 61,
   "metadata": {},
   "outputs": [],
   "source": [
    "path_w = \"./hoge.txt\"\n",
    "with open(path_w, mode='w') as f:\n",
    "    \n",
    "    for lyric in akimoto_lyrics.lyrics_list:\n",
    "        row= mecab_parser(lyric)\n",
    "        f.write(\" \".join(row))\n",
    "#         f.write(lyric)    "
   ]
  },
  {
   "cell_type": "code",
   "execution_count": 26,
   "metadata": {},
   "outputs": [
    {
     "name": "stdout",
     "output_type": "stream",
     "text": [
      "30\n"
     ]
    },
    {
     "name": "stderr",
     "output_type": "stream",
     "text": [
      "/opt/anaconda3/lib/python3.7/site-packages/ipykernel_launcher.py:71: TqdmDeprecationWarning: This function will be removed in tqdm==5.0.0\n",
      "Please use `tqdm.notebook.tqdm` instead of `tqdm.tqdm_notebook`\n"
     ]
    },
    {
     "data": {
      "application/vnd.jupyter.widget-view+json": {
       "model_id": "20988b0c284741268519f584e1fc67bd",
       "version_major": 2,
       "version_minor": 0
      },
      "text/plain": [
       "HBox(children=(FloatProgress(value=0.0, max=30.0), HTML(value='')))"
      ]
     },
     "metadata": {},
     "output_type": "display_data"
    },
    {
     "name": "stdout",
     "output_type": "stream",
     "text": [
      "\n"
     ]
    },
    {
     "data": {
      "text/plain": [
       "[\"思い出マイフレンド今でもマイフレンドああ 白い風力発電の羽がゆっくり 回っているよああ 僕が生まれた大地はいつだってどこからか風が吹いていた変わらない毎日が退屈で嫌だったトランクに夢詰めて1人 飛び乗った長距離バスHow are you doing？ 久しぶりだラベンダーの香りの季節深呼吸をしたくなる空気帰って来た気がするよHow are you doing？ 懐かしいねあの頃のみんなは元気なのか？新しい自分探して遠くまで行ったけれど青い空が続いてただけだ故郷(ふるさと)マイフレンドあれからマイフレンドああ 国道沿いの看板には未来の街が描(えが)かれてるよああ いつか過ぎてく時代に挫折した僕だけが取り残されるんだ旧式のトラクター煙吐(は)き やって来た大声で叫ぶのは何も変わらない幼馴染I'm fine, and you？ ボチボチだよ都会暮らしに疲れてしまった自然だけしかないと思ってた実家が恋しくなったI'm fine, and you？ いつの間にか僕たちは大人になったのかな送ろうか？と言われたけどありがとうと断った自分の足で歩いて行くよ思い出マイフレンドHow are you doing？ 久しぶりだラベンダーの香りの季節深呼吸をしたくなる空気帰って来た気がするよHow are you doing？ 懐かしいねあの頃のみんなは元気なのか？新しい自分探して遠くまで行ったけれど夢の涯(はて)にあったもの青い空がずっと続くだけ思い出マイフレンドただいまマイフレンド\",\n",
       " 'オー オーオーオーオー オーオーオーオー オーオーオーオーオーオーオー荒れた地はこのままでいいのかい？あの頃の情熱を もう失くしたと言うならそれでも構わない一人で立ち上がる今空に雨雲 希望は隠れて太陽は味方するのか？最悪のこの状況でも引き下がらなくていいここにいるのは運命さ僕らがやらなけりゃ 誰が戦うんだ？奪われた夢と愛とプライドさあもう一度奪い返せよここで死ぬ気でやるしかないだろう転がりながら泥だらけになって大事な何かを思い出すんだ判断しない大人になるな嫌なこと(嫌なこと)嫌と言え(嫌と言え)ジタバタ暴れるしかないオー オーオーオーオー オーオーオーオー オーオーオーオーオーオーオー栄光のは強者(つわもの) 残っていない下ろされたその旗は もう歳月に踏まれて色褪せてしまった嘆いているだけだろうああ風が叫んで 引き裂かれた木々過去だけじゃ答えは出ない後悔は何もしないこと自分を責めるんじゃない力尽きても本望だ僕らがやらなけりゃ 誰が始めるんだ？見渡す限りの心の廃墟もう二度とは負けたくないよここで死んだら骨を拾ってくれ輝いてた日々 すべてを忘れて新しい時代 0(ゼロ)から始めろ！イノセントな少年のままこうしたい(こうしたい)ああしたい(ああしたい)ジタバタ理想を語ろう土砂降りの雨 ずぶ濡れのまま殴りかかるしかない傷だらけになったって欲しかった未来が懸かってる僕らがやらなけりゃ 誰が伝えればいい？奪われた夢と愛とプライドさあもう一度奪い返せよここで死ぬ気でやるしかないだろう転がりながら泥だらけになって大事な何かを思い出すんだ判断しない大人になるな嫌なこと(嫌なこと)嫌と言え(嫌と言え)ジタバタ暴れるしかないオー オーオーオーオー オーオーオーオー オーオーオーオーオーオーオー手と足を思い切り広げたままでジタバタ生きて行く',\n",
       " '君も頑張れ そうだ みんなして頑張ろうしあわせは誰かからもらうものじゃなく掴むものその手を伸ばせよ今 この世界には見えない悲しみがどれだけ存在して 人々を泣かすのか？地球上のどこかに涙を溜めてる貯水池とかがあるなら 底の栓を抜いてしまえ一日が終わるまでに日向(ひなた)を探そう暖かくてほっとするそう 自分の居場所がきっと見つかるだろう僕も頑張る だから みんなも頑張れ誰も諦めなければ 未来だって輝いてるよ夢を見続けよう もしもそれが叶わなくても何かゴールがあったらモチベーションだ一緒に笑顔になろうなぜ笑ってる人と泣いてる人がいるの？しあわせの分配は 元々 同じなのに…誰かが何かを独り占めしたのか？それとも誰かに何かをただ押し付けられたのか？眠れない長い夜は夢でも見るんだわくわくして楽しいよああ 他人と比較をしても意味がない空を頑張る 天気 まだまだ崩れるな雨 落ちて来なければ 夕陽だって美しいだろう夜は待っているか？ やがて星は仲間を連れて暗い時間に希望を生(う)もうとするすべてを全力で行こう僕も頑張る だから みんなも頑張れ誰も諦めなければ 未来だって輝いてるよ夢を見続けよう もしもそれが叶わなくても何かゴールがあったらモチベーションだ一緒に笑顔になろう',\n",
       " '君は僕を待ってるか？今日の誓い ずっと信じるか？どんなに遅くなっても必ず戻るメロス約束を守るため 何差し出せばいい？命の代わりに未来を懸けてやる夜更けに語り合った遠い夢は僅(わず)かの勝算も成り立ってない愚かな選択と誰もが馬鹿にしているけど君だけが背中を押してくれたこの道僕は君を待たせない一度頷いたら裏切らないどんな誘惑でも振り切る自信がある(友情)生きることのその意味をいつの日にか きっと知ることができたらこれからの道を僕は迷わないWow wow wow...運命なんだ 走れ約束破ったら すべて失ってもいいこの世に生きてる価値さえなくなるよ最後に言いたかった僕の言葉わかっているさと君は微笑む帰って来るわけがないって噂されてるけど僕たちの絆が切れることはないんだ君は僕を信じてる何も疑わず見つめているどんな逆境でも乗り切る覚悟がある(全力)一人きりじゃないことを手を握った君が教えてくれたんだ暗闇の時も僕は恐れない理屈ばかり言って走り出さない者たちを僕は一番軽蔑する世界は思うよりも希望に満ち溢れてるだから絶望しなくてもいい君は僕を待ってるか？今日の誓い ずっと信じるか？どんなに遅くなっても必ず戻る僕は君を待たせない一度頷いたら裏切らないどんな誘惑でも振り切る自信がある(友情)生きることのその意味をいつの日にかきっと知ることができたらこれからの道を僕は迷わないWow wow wow...走るしかない メロス',\n",
       " 'なぜ僕は生きているのか 立ち止まって考えた生まれた意味が誰にもあるとずっと信じている暮れなずむ空に 自分だけ置いて行かれる気がして今日という日が無駄ではなかった大切な一日だったと帰りたい愛する人(愛する人)今いますか？(今いますか？)その人の笑顔 見ているだけでなぜかいつでも しあわせになる世界中で(世界中で)たった一人(たった一人)その誰かと巡り逢うためこんな孤独を抱きしめ生きているんだ夜空の片隅 輝いた星をようやく見つけて暗闇でさえほっとするように僕だけが寂しいんじゃないと呟(つぶや)いた愛する人(愛する人)まだいなくても(まだいなくても)未来の笑顔を夢に見てれば悲しみだって 乗り越えられるいつの日にか(いつの日にか)運命の人(運命の人)その隣に辿り着くため愛とは何か問いかけ続けるのだろう愛する人(愛する人)今いますか？(今いますか？)その人の笑顔 見ているだけでなぜかいつでも しあわせになる世界中で(世界中で)たった一人(たった一人)その誰かと巡り逢うためこんな孤独を抱きしめ生きているんだ愛する人 今いますか？愛する人 こんなそばに愛する人 もういたのに愛する人 気づかなくて',\n",
       " \"振出した雨に 追われるように夜更けの街角 屋根を探していた公衆電話のボックスにずぶぬれのままで逃げ込んで白い息のカーテン引いてLongdistance-Callかける振りしたDon't Stop Kiss Don't Stop Kiss3分以上Don't Stop Kiss Don't Stop Kissねえ キスをとめないであのビルの右が 明るくなれば夜が明けるから ここで待ってようね2人は雨に隠れながらロマンティックになれてしまういつもどこかが意地っぱりで言えなかった事が言えるわDon't Stop Love Don't Stop Love永遠がいいDon't Stop Love Don't Stop Loveねえ 愛をとめないでI Can't Stop I Can't StopずっとこのままI Can't Stop I Can't Stopねえ キスをとめないでDon't Stop Kiss Don't Stop Kiss雨は止まないDon't Stop Kiss Don't Stop Kissもうキスが止まらない\",\n",
       " '最後くらいは ちゃんとしなくちゃ鏡の前で微笑んでみた旅立つ私 見送る人に涙見せたら心配でしょうサヨナラと言えば 別れになるまたねって言えば いつか会える歳上なのに 頼りにならず迷惑ばかりかけてごめんねそれでもずっと 私なりにはみんなのことを思っていたの思い出はいつも やさしすぎて未来っていつも １人ぼっち誰もみな この場所に立ち止まっていられない遠くに行っても見守っているからサヨナラと言えば 別れになるまたねって言えば いつか会える今日の日をずっと 忘れないわいつの日かきっと 語りましょうラララ…',\n",
       " '灰皿に置いた吸いかけの煙草むせながらふかすいたずらよしなよいつもの俺ならふいに抱きしめておまえのすべてを奪おうとしただろう最後でためらうのはこれが初めてだよマジになりすぎて馬鹿だね帰りな うまく言えないけれど帰りな 大切にしたいよ西向きの窓に右頬をつけてひんやりするわと俯(うつむ)いてた夜腕の時計まで外(はず)してるおまえ長い髪さえも洗って来たと言った触れたらこわれそうな愛を教えられた今までの女(ひと)と違うよ帰りな そっと包むように帰りな 守りたいだけさ帰りな 迎えに行く日まで帰りな 1人でいてくれよ',\n",
       " '夜が明けてく瞬間悲しいね高層ビルにブルーのシャドー線で描いた都会をはみ出して古いクーペを飛ばしたロードドアの隙間はさんだラストグッバイどうせ君を不幸にするだけ「めんどくさいんだよ 女なんて…」夏のナイフ 痛みを堪えて愛の翳り削ぎおとすのさ夏のナイフ 切り裂くメモリー涙みたいににぶく光ってた高速道路沿いに見えてきた工業地帯 重たい空気夢のかけらを心に埋めたてた俺に似ている 風景だね今も君を愛しているけど立ち止まって 接吻(くちづけ)出来ない「しあわせになれよ じゃあな…」尖っていたい 怪我するくらい細い刃先 自分に向けて傷つくのは 俺だけでいい妥協しないさ 孤独なマインドで夏のナイフ 痛みを堪えて愛の翳り削ぎおとすのさ夏のナイフ 切り裂くメモリー涙みたいににぶく光ってた',\n",
       " '君の恋愛は考え過ぎだよ理屈ばかり並べたところで意味がないあの言葉がどうだとかこうだとか分析したって 本音なんかわからない人間の感情なんてあやふや思いつきで絶対動いているんだストレートな純情全身で受け止めればいい もっと素直に Oh余計な先入観 全部 捨ててしまえ深読みは無駄だ そのままで行こう僕のアドバイス 偉そうでごめんね客観的に思ったことを言っただけ君側から見えている風景とこちら側からでは きっと違うってことさ目の前の真実なんて錯覚思い込みで結局終わってしまうんだ不器用な愛情大胆に受け止めるしかない もっと自然に Oh少し重荷でも いつか 何とかなる自分の人生 背負って行こうストレートな純情目を閉じて受け入れてごらんよ 楽になるだろう Oh抵抗してみたって やがて 気づくだろう偽りじゃない 本当の自分ストレートな純情全身で受け止めればいい もっと素直に Oh余計な先入観 全部 捨ててしまえ深読みは無駄だ そのままで行こう',\n",
       " '好きだ Yeah Yeah Yeah Yeah Yeahちゃんと言えなかったけどYeah Yeah Yeah Yeah Yeahでっかい声で言おう好きだ Yeah Yeah Yeah Yeah Yeahみんなで歌えば オーライYeah Yeah Yeah Yeah Yeahどさくさに紛れて…モテるタイプじゃないし 告白できない断られた時に立ち直れないそもそも恋なんて縁がなかったし免疫ってやつが全くなかっただけど本気で君に恋したから正面突破しよう好きさ Yeah Yeah Yeah Yeah Yeahここで言わなきゃいつ言うんだ？Yeah Yeah Yeah Yeah Yeah当たって砕けようぜ好きさ Yeah Yeah Yeah Yeah Yeah盛り上がっていれば オーライYeah Yeah Yeah Yeah Yeah全力で頑張ろう失恋した時を考えていたらマジで恥ずかしくて臆病になる恋に破れる方が大多数だろうカッコ悪くなんてちっともないんだ人間にとって一番大事なのは正直になること好きだ Yeah Yeah Yeah Yeah Yeahその手を振り上げようぜYeah Yeah Yeah Yeah Yeah心を一つにしよう好きだ Yeah Yeah Yeah Yeah Yeahホントの気持ち伝えたいYeah Yeah Yeah Yeah Yeahなんとかなるもんさ好きさ Yeah Yeah Yeah Yeah Yeahここで言わなきゃいつ言うんだ？Yeah Yeah Yeah Yeah Yeah当たって砕けようぜ好きさ Yeah Yeah Yeah Yeah Yeah盛り上がっていれば オーライYeah Yeah Yeah Yeah Yeah全力で頑張ろう好きだと言ってみよう',\n",
       " '足を洗え！すべてを忘れるんだ前へ進め新しい道を生きるべきだ賢くなりなよ思い出は邪魔だろう心が縛られるだけもしもここで振り向いたら夢は終わるだろうおまえらしくないまっすぐ行くんだ足を洗え！過去なんか捨てて行け！前へ進め何も持たなくていい足を洗え！未来はまっさらだゼロになれよ今日から生まれ変わって見知らぬ世界へ悲しみは残らない涙が教えてくれた誰かに助け求めるなよ道に倒れても…たった一人きり無様が似合いだ裸になれプライドは役立たず這いつくばれ泥だらけになるんだ裸になれみっともなくていいだけど生きろくだらない人生なんかさあやり直そう今さら失うものなんか何もないだろう？そう どうせいつかは誰も死んでく足を洗え！過去なんか捨てて行け！前へ進め何も持たなくていい足を洗え！未来はまっさらだゼロになれよ今日から生まれ変わって見知らぬ世界へ見知らぬ世界へ見知らぬ自分に…',\n",
       " '失恋 ありがとう 思い出がいっぱい(ラララ…)涙を拭いたら サヨナラ悲しみよ(ラララ…)この世界の恋のほとんどは上手くはいかないものなんだ好きになるのは簡単だけど両想いになるのは難しいこれが運命と思い込んで死ぬの生きるのって騒いでた自分が勝手に夢を見て勝手に夢から覚めただけ息をするのも苦しいくらい眠れぬ夜を乗り越えられた失恋 ありがとう でも会えてよかった(ラララ…)笑顔をもう一度 今日から強くなれる(ラララ…)親友に相談したってどうにかなるようなことじゃないいつしか悩んでる自分に酔っていたのかもしれないまた新しい恋をすればいい未来の長さだけ出会いは待ってる失恋 ありがとう 強がって言わせて(ラララ…)さあ前を向いたら ゆっくり忘れよう(ラララ…)ラララ…ラララ…失恋 ありがとう 思い出がいっぱい(ラララ…)涙を拭いたら サヨナラ悲しみよ(ラララ…)失恋 バカヤロー 忘れられるわけない(ラララ…)ホントは ホントは 今でも大好きだ(ラララ…)',\n",
       " 'なかなか開(あ)かない 踏切りみたいに待たされ続けて僕のこの胸は もう死んだように諦めかけてた(眩(まぶ)しい)夕陽の中(ベンチを)立ち上がる(その時)通りを駆けて来る君が見えたんだ願いはいつも手に届かない遠くにあるものだけどその眼差しはこっちを見ているだから勝手に背中を向けちゃチャンスを逃すよどれだけ本気で思っているか試してるのさ(チュチュルチュ チュチュルチュ)瞼(まぶた)を開ければ 夢がそこで終わってしまうようで僕はいつまでも 今の現実見たくなかった(突然)雨が降って(心が)濡れたって(どんなに)悲しい噂さえ耳を塞いでいた願いは時に雲に隠れて見えなくなるものだけどその眼差しはそれでも見ているきっと叶わない 俯いちゃったら視線は合わない希望とは一人で待ち続けることいつかはきっと…(チュチュルチュ チュチュルチュ…)叶う日が来る(どこかで)そんな想い(誰かが)遠くから(やさしく)日差しのように見守っているよ願いはいつも手に届かない遠くにあるものだけどその眼差しはこっちを見ているだから勝手に背中を向けちゃチャンスを逃すよどれだけ本気で思っているか試してるのさ(チュチュルチュ チュチュルチュ)',\n",
       " '全力で頑張ってやり切った最高の汗をかいたそりゃ納得できない悔しさもあるでも もう一度 やってみればいいオーオー 君がいてくれたら何度もオーオー チャレンジNever ending time 夢が叶うまでどんな壁も 絶対 あきらめるな負けた数だけ 挫折の数だけ必ず オーオオーオー 強くなれるよ僕たちは喜びも悲しみも一緒だ言いたいこと言い合いながら 歩いて行こう誰かが落ちこぼれても 一人も置いて行かないオーオオーオー やり直せるんだ悪戦苦闘したステージもあっという間だったよ横一列 並べば感動的でほら 全員が 目がうるうるしてるオーオー 誰一人欠けても成功オーオー できないNever ending time みんなで微笑んで辛いことも 全部 報われたよ泣いた数だけ 悩んだ数だけ過ぎれば オーオオーオー いい思い出さおまえたちも一緒にCome on！Yeah まだまだな今を見ててくれBIGになるんだ そんなスタートの目撃者だぜEverybodyWow Wow...Never ending time 声を 上げようぜどんな夢も 必ず 叶うんだよそう僕たちが 証明してやるそれまで オーオオーオーWowNever ending time 夢が叶うまでどんな壁も 絶対 あきらめるな負けた数だけ 挫折の数だけ必ず オーオオーオー 強くなれるよ僕たちは喜びも悲しみも一緒だ言いたいこと言い合いながら 歩いて行こう誰かが落ちこぼれても 一人も置いて行かないオーオオーオー やり直せるんだ',\n",
       " '緑色した何でもないビー玉を教室の床にそっと置いて君は世界が傾いているってことを証明しようと言った何かに引かれるようにゆっくりと転がり始めて壁まで 止まらない気づかなかったくらいこの校舎が傾いてるだけのことだろう驚くのは その後だ今度は逆に転がった水平なものはどこにもないんだバランスなんか悪くたっていいんじゃない？どちらかに傾けば傾くほど正直だ「すべては不公平だってことさ」まっすぐなものがどこにあると言うのか？アンバランスな真実 受け止めてよ転がってく転がってく転がってく転がってくどうでもいいさ僕らの環境窓の光に透かしてみたビー玉は視界を遮る汚(よご)れはない君はどんなにイノセントでいたところでなんかおかしいと嘆く平等に見えていたってこっちとあっちじゃ高低差があるんだよしかも その高低差はその時々 マジョリティーで変わって行くさっきまでと 逆の方へ正義は転がり続ける水平なものはどこにもないけど僕らがここに水平に立ってりゃいい世の中がどちらかに傾いても関係ない「目を閉じてごらん」正しい角度なんかないんだ自分たちでルールを作ればいい転がらない転がらない転がらない転がらないそれが意志だブレない環境ホントは気づいてたよこの世界がフェアでないってことくらい大事なのは この場所で踏ん張って立つことだろう水平なものはどこにもないんだバランスなんか悪くたっていいんじゃない？どちらかに傾けば傾くほど正直だ「妥協することを覚えた」まっすぐなものがどこにあると言うのか？アンバランスな真実受け止めてよ転がってく転がってく転がってく転がってくどうでもいいさ僕らの環境',\n",
       " \"Don't stop！(Don't stop！)こんなとこで立ち止まるながむしゃらに走れ あの地平線へDon't stop！(Don't stop！)白み出した東の空祈るより願え 昇る太陽よ昨日の悲しみは乗り越えた夜の露思うより君はもう強くなったんだ夢はSunrise 何度だって そのチャンスは巡って来る眩(まぶ)しいSunrise 手を伸ばせば いつか必ず届くだろう絶対 ウウウ ウウウ 諦めちゃダメだよいつかは ウウウ ウウウ 約束の地へ行き着くはずさBrother(Brother)もしも俺が倒れようと振り向かず走れ 一直線に…Brother(Brother)草木もない荒野の涯(はて)嘆くより生きろ 過酷な運命始まる一日は苦しみの長い道行かなけりゃ人生が無駄になるだけだだからSunrise 悩んでいた遠回りを許してくれ次のSunrise 暗い闇も やがて光が差して来るこのまま ウウウ ウウウ 希望が照らすだろう歩こう ウウウ ウウウ 約束の地は逃げたりしない夢はSunrise 何度だって そのチャンスは巡って来る眩(まぶ)しいSunrise 手を伸ばせば いつか必ず届くだろう絶対 ウウウ ウウウ 諦めちゃダメだよいつかは ウウウ ウウウ 約束の地へ行き着くはずさ\",\n",
       " '「まあまあ そんなカッカせんとちょっと 冷静になった方がええってそんなもん どついたって一銭の得にもならへんで」オーノーノーノー 世界は争いごとがいっぱいだオーイエーイエーイエー そんなに腹 立てたら疲れるよアーア 許しなさいアーア 譲りなさい堪忍袋の緒 切ったらおしまい平和が一番どつくより 笑わせろどついたとこで どつき返されるどつくより 笑わせろ笑わせたら 言い返せなくなる気の荒い者たちよ悔しけりゃボケてみやがれオーノーノーノー どこかで泣いている誰かがいるのならばオーイエーイエーイエー 自分にできることは何だ？アーア 頬の涙アーア 拭ってあげても本当の悲しみわかってあげられない笑わせてやるよ泣いてないで笑えばいい流す涙 キリがないから泣いてないで笑えばいい泣いたってどうにもならないよふしあわせなんかとっておきのネタになるどんなことがあったって笑っていれば何とかなる笑わしてやろうと考えるそれだけで思わず笑っちゃうどつくより 笑わせろどついたとこで どつき返されるどつくより 笑わせろ笑わせたら 言い返せなくなる気の荒い者たちよ悔しけりゃボケてみやがれ',\n",
       " '停留所でいつも会う学生服の男子になんか見られているようなそんな気がしていたけど…もし君がよかったら映画に行きませんか？バスのドアが開(あ)いた瞬間(とき)遠慮がちに誘われた私のことを何も知らないくせになぜ声を掛けてくれたのかな恋はいつも何が根拠なんだろう？どこを好きになったとかこういうきっかけで惹かれたんだとかそういう理由一つあげてくれなきゃ信じられやしないよ自分に自信ないもっと もっと話を聞きたいの私のこと声を掛けてくれたのは本当に嬉しいけど素直には喜べないへそ曲がりの私がいる特別な美人とかスタイルが抜群とかルックスで目を惹くような長所があればよかった他人(ひと)と較べて誇れるところがないそうだから消極的になるの恋はなぜふいにやって来るのでしょう何の前振(まえふ)りさえなく誰かのサプライズに言葉を失う疑っているわけではないけど理由が知りたいだけ大勢いる中選ぶ基準教えて欲しい人は何があって好きになるのかそれを知りたいだけなの私を誘ったのはなぜですか？恋はいつも何が根拠なんだろう？どこを好きになったとかこういうきっかけで惹かれたんだとかそういう理由一つあげてくれなきゃ信じられやしないよ自分に自信ないもっと もっと話を聞きたいの私のこと',\n",
       " '青空のその下 君とどこまでも歩いたあの頃お互いが見つけた 夢を語り合い時間も忘れた恋愛じゃないけれど 友情もちょっと違う一番自分をわかってくれるかけがえない存在とは 何だったんだろう君のいない世界を 僕は一人歩いている孤独な街は迷路のようだ憧れてたここまで やって来たけど想像していたあの景色とは違う気がする Ah千切れてく雲たち どこへ向かうのかぼんやり眺めて…僕たちはいつしか 別の空見上げ逸(はぐ)れてしまった誠実じゃないけれど 誤魔化したわけでもなく一番自分が楽な姿勢で後悔しない生き方とは どう生きればいい？君がいたら世界は どんな風に変わっただろう信じることは ゼロになること守りたいと思える明日(あす)があるからいつでも自由を疑いながら慎重になるんだ Ah君はどこにいるのか？君は何をしてるの？いつか君に会いたい Ahあれから ずっと歩き続けたどんな思いも きっと誰かに届くはずだよ君のいない世界は意味があるのか君のいない世界を 僕は一人歩いている孤独な街は迷路のようだ憧れてたここまで やって来たけど想像していたあの景色とは違う気がする Ah僕はここにいるのに僕は待っているのに何で君に会えない？',\n",
       " '瞳を閉じて そこに立ったままでやがて 私は 真っ白になる風は静かに 私の近くをすり抜けて季節の花の 香りを運んだ考えない もう何も考えない この時間いつまでも そこにいるだけ太陽のように緑の木々が やさしく ささやくみたいに私の耳に 自由を伝える考えない もう何も考えない この時間いつまでも そこにいるだけ太陽のように私は生きてる今は体で感じてるそう理屈じゃなくて新しい力よたいしたことじゃない たいしたことじゃない深呼吸をしながら この胸のすべてを 吐き出そう太陽は沈んでも 太陽はまた昇るよ考えもなく…考えないもう何も…',\n",
       " '偉そうなことなんて語れる俺じゃないが君より長く生きた分 思い知ったことがある人生ってやつは でこぼこ道ばかりでいつも何かに躓(つまず)くもんだそれでも一つだけ 俺と約束してくれ死ぬな 何があっても 生きろ 歯を食いしばって生きろ勉強なんかしなくてもいい生きることが勉強だ悲しい時は我慢せずに声を出して泣いてみろ話しておきたいことは いろいろあるけれど大人の話ってのは退屈すぎるだろう余計なお世話だといつも思ってたあの頃の俺がきっと笑ってるそれでも一つだけ 俺と約束してくれ死ぬな 何があっても 生きろ 歯を食いしばって生きろどん底にいても 空を見上げて諦めなきゃ 明日は来る勉強なんかしなくてもいい生きていろよ また会おう',\n",
       " 'Baby そんな拗ねてないでBaby ねえこっちおいでよBaby 僕がいけないんだごめんね 許して欲しいBaby 彼女は無関係Baby ただ話してただけBaby 君の誤解なんだ今すぐ 機嫌なおして愛とジェラシー オセロのように表と裏だ白か黒かはほんの一瞬の気分次第Not Not Not Not Guilty僕を信じてくれ好きだ その言葉に好きだ 嘘はないよキスをして キスをしてさあ この愛を確かめ合おう好きだ 僕の瞳好きだ 見ればわかるキスをして キスをして キスをして仲直り何も変わらない 二人だけの愛一度きりのLife 君を見ていたい望みがあるなら全て叶えよう俺がバトラーで君はプリンスまた喧嘩 その分Step Up前よりもっと深まった愛さLet me share this whole new world二人で分かち合おうHoney 膨らんだほっぺもHoney 世界一可愛いHoney 胸がキュンとするよお願い 笑顔を見せて君か彼女か 一人を選べと言われたら当たり前だろう100対0で君だよYes Yes Yes Yes I love you！僕をいじめないでマジで 24時間マジで 夢中なんだ永遠に 永遠に もう 瞳に君しか映らないマジで この腕からマジで 離さないぜ永遠に 永遠に 永遠に首ったけ愛しさの 角(かど)を取って形勢は大逆転白黒つけて ハートのオセロを独占中帰ろうかこのまま一緒に自転車で帰ろうかLove Love Love 最高帰ろうか色々あるから刺激的もう一度 もう一度 オセロをしようよ君か君以外か好きだ その言葉に好きだ 嘘はないよキスをして キスをしてさあ この愛を確かめ合おう好きだ 僕の瞳好きだ 見ればわかるキスをして キスをして キスをして仲直りWOW WOW WOWWOW WOW WOW',\n",
       " '鉄橋の下にいつも僕たちは集まっていた何かあるとここまで来て語り合って答えを探したんだあの青春はSecret Base殴り合ったら分かり合えるそんな単純な生き方だった頭の上を 電車がゴーゴー走って言いたいことは 全部吐き出せた近くの川はキラキラしててどんな悩みも流してくれた恥ずかしいほど大きな夢も叶う気がしたよいつの間にスーツ着てアスファルト 歩いてる僕たちは変わったか？大人には(大人には)なりたくない 今も…故郷(ふるさと)の県境を風の電車が走ってる生まれた街 出て行くにはそう何か捨てなくちゃ鉄橋を見上げた時隙間から見える太陽どんな時も眩(まぶ)しかった青い空は何を言いたかったのか？瞼(まぶた)閉じればSecret Baseずっとこのまま続くような永遠の風 吹いていたんだ時折 急に みんな黙ってしまった気まずい空気 覚えているよ本当はきっと 気づいてたんだろうこの場所にもう いられないこと片道切符 1人で買った僕を許してよ連絡を取ってないお互いのその事情僕たちは目指してるまだ夢に(まだ夢に)届いてない 今も…木洩れ陽のトンネル抜け青い電車が走ってる遠い都会(まち)で探してたもの見つかると言い張るのか？鉄橋を渡って行く懐かしい車輪の音よバツの悪いその別れに何を思い送り出したのだろう？胸のどこかにSecret Base夕焼けに染まるあの日の鉄橋が思い出と現実を繋ぐよあいつらに会いたくなったそろそろ帰ろう故郷(ふるさと)の県境を風の電車が走ってる生まれた街 出て行くにはそう何か捨てなくちゃ鉄橋を見上げた時隙間から見える太陽どんな時も眩(まぶ)しかった青い空は何を言いたかったのか？瞼(まぶた)閉じればSecret Base',\n",
       " '何をやってみたってうまくいかなかったダメなやつだ ポンコツだって 馬鹿にされて来たよ自慢できることなんか 何もなかった人生だそれでも俺だって 今日まで何とか生きて来た偉そうなことなんか 言う資格はないけどどんなに辛いことあったって 命は獲(と)られないどん底を味わって 大事なことを知った絶対 死ぬんじゃねえぞ 生きてろ明日になったら どうにかなるかもそう信じて 頑張っても 何も変わらない明後日になったら どうにかなるかもそうやって自分のこと騙し騙しでも生きてりゃ めっけもん夢なんか見たって腹の足しにならない世の中 不公平だって ひがんでどうなるものか勝ち組と負け組にはっきりと分かれてるそれでも 生きてさえいりゃ引き分けだ明日も一日 頑張ってみよういいことがあるかもと希望は持つな明後日も一日 頑張ってみよういつの日か少しだけいいことあるまで死ななきゃ いいんだウォウ ウォウ ウォウ ウォウ ウォウついてなくてもウォウ ウォウ ウォウ ウォウ ウォウボロボロでもいいウォウ ウォウ ウォウ ウォウ ウォウそんな時代をしぶとく生きろよ明日になったら どうにかなるかもそう信じて 頑張っても 何も変わらない明後日になったら どうにかなるかもそうやって自分のこと騙し騙しでも生きてりゃ めっけもん命は最高のめっけもん',\n",
       " '椅子とテーブルがカフェの外に出たら太陽の季節が近いニットのカーディガン羽織っているのにかき氷 オーダーしたのか？気が早いのは恋だって同じ海へ行こうと今から君を誘いたいよ渚を走る僕らのイメージ波打ち際を飛沫(しぶき)上げて追いかけっこしながら砂の上って走りにくくてなぜか二人は 何度も笑ってしまうそんな夏休みがもうすぐ来るよ白いパラソルはどれも閉じたままで強くなる日差しの準備君がお気に入りのノースリーブ 選んだら日焼け止め そろそろ塗ろうか？小麦色した君も好きだけど肌をケアする麦わら帽子の君も好き夕陽の中の僕らのイメージオレンジ色に染まる海がキラキラ輝いて何も言わず見つめ合ったら二つの影は 一つに重なるだろうそんなロマンティックな期待をしてるああ 何となくそんな勝手な想像をしてただ にやけてるこの顔見られたら 一番恥ずかしい渚を走る僕らのイメージ波打ち際を飛沫(しぶき)上げて追いかけっこしながら砂の上って走りにくくてなぜか二人は 何度も笑ってしまうそんな夏休みがもうすぐ来るよ',\n",
       " '巡り逢って 燃え上がって灰になってしまいたい運命の糸 引き寄せられた一瞬のスリル街角 全力で走ってた時店から出て来た人とぶつかって道に落として散らばった荷物を一緒に拾うのがきっかけだったなんてそんなあるわけない ドラマティックなこと驚くような奇跡がなくちゃだめねハッとしたい キュンとしたいドキッとしてしまいたい理屈ではなく 言葉でもなく感じたいの 本能的に巡り逢って 燃え上がって灰になってしまいたい運命の糸 引き寄せられた一瞬のスリル誰かとの出会い 求めているようじゃホントの恋愛をできるわけない何も期待なんかしていないのに知らぬ間に落ちているのがロマンスでしょうそう計算高い思惑があると上手くいかなくなるものだと思う…まさかなんて 嘘だなんてありえない出来事が現実でも起きちゃうような予想外の展開もいいそうギリギリ そうクラクラいつだってめまいがする感情がごちゃごちゃになってしまう一瞬の狂気冷静でいたら愛せはしないわ衝動だけでも長続きしないどんなことがあったかなんて思い出せない入り口がいいハッとしたい キュンとしたいドキッとしてしまいたい理屈ではなく 言葉でもなく感じたいの 本能的に巡り逢って 燃え上がって灰になってしまいたい運命の糸 引き寄せられた一瞬のスリル',\n",
       " 'どうせ 誰もが俺らのことを悪い奴だと噂をするぜ好きで選んだ宿命じゃないがそんな孤独を愛してるのさあんたは汚れてないのかい？心は いつも 青空かい？あんたは汚れてないのかい？生きてりゃどこかが ばっちくなるよ俺らは 悲しいベンゼン星人何もそんなに嫌わなくてもつき合い方が問題なのさ誰かが 俺らをきれいにすれば緑の地球にゃ迷惑かけない俺らにやさしくしてくれよ仲間はずれは淋しいのさ俺らにやさしくしてくれよ生まれた時から ばっちいけれど愛には飢えてるベンゼン星人あんたは汚れてないのかい？心は いつも 青空かい？あんたは汚れてないのかい？生きてりゃどこかが ばっちくなるよ俺らは 悲しいベンゼン星人',\n",
       " 'この手が届く世界は想像ついてしまう僕らが目指す夢は今まで行ったこともない場所にある一人きりで頑張っても大きな車輪を 動かすことはできないここから始まる(ここから始まる)奇跡という名のストーリー自分の可能性 信じてみようかここから始まる(ここから始まる)未来への道がヒストリー誰かがきっと見守っててくれるサクセスロード微(かす)かに見える灯りはどれだけ離れているのか？そこまで行ってみなきゃ僕らが語ることはできないだろう流れ落ちた汗の分だけ約束の土地は昨日より近づいたはず今日から始まる(今日から始まる)希望という名のデスティニー確率低くてもチャレンジしようか今日から始まる(今日から始まる)仲間との絆 ファイナリーみんなでずっと支え合って行こうロングロード諦めてしまえばそこで終わりあの美しい(あの美しい)空は見られないよ(見られないよ)ここから始まる(ここから始まる)奇跡という名のストーリー自分の可能性 信じてみようかここから始まる(ここから始まる)未来への道がヒストリー誰かがきっと見守っててくれるサクセスロード',\n",
       " '岬への坂道をどれだけ一緒に歩いたか？まだ幼い手を引いて遠ざかる船を見た大人になんかなりたくはないと化粧とかしなかったのに久しぶりにちゃんと話した時綺麗になっていた瀬戸内の妹よしあわせになるんだよそう声を掛けただけで涙 滲んで来る瀬戸内の妹よ故郷(ふるさと)はここにある今日の日の夕焼けをずっと忘れるな港まで続く道こんなに星が見えるなんて新しいその門出祝ってくれるのかいつでも俺が繋いでいたのに今はもうあいつが手を取るどこに連れてってくれるのだろう桟橋で見送った瀬戸内の花嫁よいい人に出会えたな今日からは二人きり力 合わせるんだ瀬戸内の花嫁よ笑顔を忘れないで穏やかなこの海はずっと 見守ってる瀬戸内の妹よしあわせになるんだよそう声を掛けただけで涙 滲んで来る瀬戸内の妹よ故郷(ふるさと)はここにある今日の日の夕焼けをずっと忘れるな瀬戸内の花嫁よしあわせになるんだよもし家族 増えたなら顔を見せに来いきっといつの日か']"
      ]
     },
     "execution_count": 26,
     "metadata": {},
     "output_type": "execute_result"
    }
   ],
   "source": [
    "_akimoto_lyrics = LyricFetcher(\"秋元康\")\n",
    "_akimoto_lyrics.run_fetch(fetch_cnt=30, sort_type=POPULAR_ASC)\n",
    "_akimoto_lyrics.lyrics_list[20:]"
   ]
  },
  {
   "cell_type": "code",
   "execution_count": 34,
   "metadata": {},
   "outputs": [
    {
     "data": {
      "text/plain": [
       "10"
      ]
     },
     "execution_count": 34,
     "metadata": {},
     "output_type": "execute_result"
    }
   ],
   "source": [
    "lys= _akimoto_lyrics.lyrics_list[40:]\n",
    "len(lys)"
   ]
  },
  {
   "cell_type": "code",
   "execution_count": 48,
   "metadata": {},
   "outputs": [],
   "source": [
    "#file　書き込み\n",
    "path_w = \"./valid.txt\"\n",
    "with open(path_w, mode='w') as f:\n",
    "    \n",
    "    for lyric in lys:\n",
    "        row= mecab_parser(lyric)\n",
    "        f.write(\" \".join(row))    "
   ]
  },
  {
   "cell_type": "code",
   "execution_count": null,
   "metadata": {},
   "outputs": [],
   "source": []
  }
 ],
 "metadata": {
  "colab": {
   "collapsed_sections": [],
   "include_colab_link": true,
   "name": "[Python講座]第5回歌詞サイトのスクレイピング.ipynb",
   "provenance": [],
   "toc_visible": true
  },
  "kernelspec": {
   "display_name": "Python 3",
   "language": "python",
   "name": "python3"
  },
  "language_info": {
   "codemirror_mode": {
    "name": "ipython",
    "version": 3
   },
   "file_extension": ".py",
   "mimetype": "text/x-python",
   "name": "python",
   "nbconvert_exporter": "python",
   "pygments_lexer": "ipython3",
   "version": "3.7.4"
  },
  "toc-autonumbering": true,
  "widgets": {
   "application/vnd.jupyter.widget-state+json": {
    "a6af5129790b4da9a34ff02b85b6aa83": {
     "model_module": "@jupyter-widgets/base",
     "model_name": "LayoutModel",
     "state": {
      "_model_module": "@jupyter-widgets/base",
      "_model_module_version": "1.2.0",
      "_model_name": "LayoutModel",
      "_view_count": null,
      "_view_module": "@jupyter-widgets/base",
      "_view_module_version": "1.2.0",
      "_view_name": "LayoutView",
      "align_content": null,
      "align_items": null,
      "align_self": null,
      "border": null,
      "bottom": null,
      "display": null,
      "flex": null,
      "flex_flow": null,
      "grid_area": null,
      "grid_auto_columns": null,
      "grid_auto_flow": null,
      "grid_auto_rows": null,
      "grid_column": null,
      "grid_gap": null,
      "grid_row": null,
      "grid_template_areas": null,
      "grid_template_columns": null,
      "grid_template_rows": null,
      "height": null,
      "justify_content": null,
      "justify_items": null,
      "left": null,
      "margin": null,
      "max_height": null,
      "max_width": null,
      "min_height": null,
      "min_width": null,
      "object_fit": null,
      "object_position": null,
      "order": null,
      "overflow": null,
      "overflow_x": null,
      "overflow_y": null,
      "padding": null,
      "right": null,
      "top": null,
      "visibility": null,
      "width": null
     }
    },
    "b53e63945ae44423bdbb59b7b128ab75": {
     "model_module": "@jupyter-widgets/base",
     "model_name": "LayoutModel",
     "state": {
      "_model_module": "@jupyter-widgets/base",
      "_model_module_version": "1.2.0",
      "_model_name": "LayoutModel",
      "_view_count": null,
      "_view_module": "@jupyter-widgets/base",
      "_view_module_version": "1.2.0",
      "_view_name": "LayoutView",
      "align_content": null,
      "align_items": null,
      "align_self": null,
      "border": null,
      "bottom": null,
      "display": null,
      "flex": null,
      "flex_flow": null,
      "grid_area": null,
      "grid_auto_columns": null,
      "grid_auto_flow": null,
      "grid_auto_rows": null,
      "grid_column": null,
      "grid_gap": null,
      "grid_row": null,
      "grid_template_areas": null,
      "grid_template_columns": null,
      "grid_template_rows": null,
      "height": null,
      "justify_content": null,
      "justify_items": null,
      "left": null,
      "margin": null,
      "max_height": null,
      "max_width": null,
      "min_height": null,
      "min_width": null,
      "object_fit": null,
      "object_position": null,
      "order": null,
      "overflow": null,
      "overflow_x": null,
      "overflow_y": null,
      "padding": null,
      "right": null,
      "top": null,
      "visibility": null,
      "width": null
     }
    },
    "c77fa8d06ff640b9822db7abf34e0e55": {
     "model_module": "@jupyter-widgets/controls",
     "model_name": "DescriptionStyleModel",
     "state": {
      "_model_module": "@jupyter-widgets/controls",
      "_model_module_version": "1.5.0",
      "_model_name": "DescriptionStyleModel",
      "_view_count": null,
      "_view_module": "@jupyter-widgets/base",
      "_view_module_version": "1.2.0",
      "_view_name": "StyleView",
      "description_width": ""
     }
    },
    "cb57607642b44d2badd2362ebbffd896": {
     "model_module": "@jupyter-widgets/controls",
     "model_name": "HTMLModel",
     "state": {
      "_dom_classes": [],
      "_model_module": "@jupyter-widgets/controls",
      "_model_module_version": "1.5.0",
      "_model_name": "HTMLModel",
      "_view_count": null,
      "_view_module": "@jupyter-widgets/controls",
      "_view_module_version": "1.5.0",
      "_view_name": "HTMLView",
      "description": "",
      "description_tooltip": null,
      "layout": "IPY_MODEL_d95f842c3723449588ca92a839fed2c9",
      "placeholder": "​",
      "style": "IPY_MODEL_c77fa8d06ff640b9822db7abf34e0e55",
      "value": "100% 20/20 [00:26&lt;00:00,  1.32s/it]"
     }
    },
    "d95f842c3723449588ca92a839fed2c9": {
     "model_module": "@jupyter-widgets/base",
     "model_name": "LayoutModel",
     "state": {
      "_model_module": "@jupyter-widgets/base",
      "_model_module_version": "1.2.0",
      "_model_name": "LayoutModel",
      "_view_count": null,
      "_view_module": "@jupyter-widgets/base",
      "_view_module_version": "1.2.0",
      "_view_name": "LayoutView",
      "align_content": null,
      "align_items": null,
      "align_self": null,
      "border": null,
      "bottom": null,
      "display": null,
      "flex": null,
      "flex_flow": null,
      "grid_area": null,
      "grid_auto_columns": null,
      "grid_auto_flow": null,
      "grid_auto_rows": null,
      "grid_column": null,
      "grid_gap": null,
      "grid_row": null,
      "grid_template_areas": null,
      "grid_template_columns": null,
      "grid_template_rows": null,
      "height": null,
      "justify_content": null,
      "justify_items": null,
      "left": null,
      "margin": null,
      "max_height": null,
      "max_width": null,
      "min_height": null,
      "min_width": null,
      "object_fit": null,
      "object_position": null,
      "order": null,
      "overflow": null,
      "overflow_x": null,
      "overflow_y": null,
      "padding": null,
      "right": null,
      "top": null,
      "visibility": null,
      "width": null
     }
    },
    "dddf7e91294a440aa87c8685e4156e73": {
     "model_module": "@jupyter-widgets/controls",
     "model_name": "HBoxModel",
     "state": {
      "_dom_classes": [],
      "_model_module": "@jupyter-widgets/controls",
      "_model_module_version": "1.5.0",
      "_model_name": "HBoxModel",
      "_view_count": null,
      "_view_module": "@jupyter-widgets/controls",
      "_view_module_version": "1.5.0",
      "_view_name": "HBoxView",
      "box_style": "",
      "children": [
       "IPY_MODEL_dff0df5b98dd4ea4a83ad850bab4ce4d",
       "IPY_MODEL_cb57607642b44d2badd2362ebbffd896"
      ],
      "layout": "IPY_MODEL_b53e63945ae44423bdbb59b7b128ab75"
     }
    },
    "dff0df5b98dd4ea4a83ad850bab4ce4d": {
     "model_module": "@jupyter-widgets/controls",
     "model_name": "IntProgressModel",
     "state": {
      "_dom_classes": [],
      "_model_module": "@jupyter-widgets/controls",
      "_model_module_version": "1.5.0",
      "_model_name": "IntProgressModel",
      "_view_count": null,
      "_view_module": "@jupyter-widgets/controls",
      "_view_module_version": "1.5.0",
      "_view_name": "ProgressView",
      "bar_style": "success",
      "description": "",
      "description_tooltip": null,
      "layout": "IPY_MODEL_a6af5129790b4da9a34ff02b85b6aa83",
      "max": 20,
      "min": 0,
      "orientation": "horizontal",
      "style": "IPY_MODEL_e21b8159e7bc4d4e8c06aad3ceca5d3d",
      "value": 20
     }
    },
    "e21b8159e7bc4d4e8c06aad3ceca5d3d": {
     "model_module": "@jupyter-widgets/controls",
     "model_name": "ProgressStyleModel",
     "state": {
      "_model_module": "@jupyter-widgets/controls",
      "_model_module_version": "1.5.0",
      "_model_name": "ProgressStyleModel",
      "_view_count": null,
      "_view_module": "@jupyter-widgets/base",
      "_view_module_version": "1.2.0",
      "_view_name": "StyleView",
      "bar_color": null,
      "description_width": ""
     }
    }
   }
  }
 },
 "nbformat": 4,
 "nbformat_minor": 4
}
