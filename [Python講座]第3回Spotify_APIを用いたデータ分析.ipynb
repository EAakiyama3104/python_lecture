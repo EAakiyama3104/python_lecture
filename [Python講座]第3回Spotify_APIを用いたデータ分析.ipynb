{
 "cells": [
  {
   "cell_type": "markdown",
   "metadata": {
    "colab_type": "text",
    "id": "view-in-github"
   },
   "source": [
    "<a href=\"https://colab.research.google.com/github/EAakiyama3104/python_lecture/blob/master/%5BPython%E8%AC%9B%E5%BA%A7%5D%E7%AC%AC4%E5%9B%9ESpotify_API%E3%82%92%E7%94%A8%E3%81%84%E3%81%9F%E3%83%87%E3%83%BC%E3%82%BF%E5%88%86%E6%9E%90.ipynb\" target=\"_parent\"><img src=\"https://colab.research.google.com/assets/colab-badge.svg\" alt=\"Open In Colab\"/></a>"
   ]
  },
  {
   "cell_type": "markdown",
   "metadata": {
    "colab_type": "text",
    "id": "Y94VkoovflJe"
   },
   "source": [
    "## Spotify API とは\n",
    "\n",
    "* Spotify 上の音楽データを提供しているWeb API\n",
    "* Spotify上のアーティスト情報や曲の情報などを取得できる\n",
    "\n",
    "詳細: https://developer.spotify.com/documentation/web-api/reference/"
   ]
  },
  {
   "cell_type": "markdown",
   "metadata": {
    "colab_type": "text",
    "id": "3tKQXhZ0KMiP"
   },
   "source": [
    "Spotify API の特徴\n",
    "\n",
    "![代替テキスト](https://cdn-ssl-devio-img.classmethod.jp/wp-content/uploads/2017/12/spotify-api-overview.png)\n",
    "\n",
    "* Spotify URIやSpotify IDなど、Spotify特有のパラメータ情報をリクエスト、レスポンス時に扱うことがあります。\n",
    "* レート制限に引っかかるとステータスコード429が返却される。これが返ってきた場合は、Retry-Afterヘッダーの値を確認し、そこに記載されている秒の間はAPIをコールすることができない。\n",
    "\n",
    "* レスポンスデータは、JSON Object形式で取得します。\n",
    "\n",
    "* タイムスタンプはUTC zero offset形式（YYYY-MM-DDTHH:MM:SSZ）\n",
    "\n",
    "* 一部のAPIではページネーションをサポート（offset、limitパラメータで指定）\n",
    "\n",
    "* 多くのAPIでは、クライアント側でレスポンスデータのキャッシュを行うためのヘッダー情報が付与される。\n",
    "\n",
    "* レスポンスステータスコードは、RFC 2616 と RFC 6585に則って2xx、3xx、4xx、5xxを返す。\n",
    "\n",
    "* レスポンスデータのエラー表現には、下記2種類のフォーマットを使用する。\n",
    "\n",
    "  * Authentication Error Object\n",
    "  * Regular Error Object\n",
    "*APIをコールするにはOAuthアクセストークンが必要。"
   ]
  },
  {
   "cell_type": "markdown",
   "metadata": {
    "colab_type": "text",
    "id": "sxPITjDVKo13"
   },
   "source": [
    "認証方法の種類\n",
    "\n",
    "![代替テキスト](https://cdn-ssl-devio-img.classmethod.jp/wp-content/uploads/2017/12/Obtaining-Authorization.png)\n",
    "\n",
    "* App Authorization\n",
    "  * システム（Spotify）が、クライアントアプリケーションに、Spotify Platform (APIs, SDKs and Widgets)へアクセスすることを許可します。\n",
    "* User Authorization\n",
    "  * エンドユーザー（Spotifyのエンドユーザー）が、クライアントアプリケーションに、エンドユーザーが所有するデータへアクセスすることを許可します。"
   ]
  },
  {
   "cell_type": "markdown",
   "metadata": {
    "colab_type": "text",
    "id": "A1hBlVzKLdAg"
   },
   "source": [
    "アプリが認証の許可を得るための3つの方法\n",
    "\n",
    "\n",
    "* Refreshable user authorization: Authorization Code\n",
    "  * このフローでは、エンドユーザーはクライアントアプリケーションがリソースへアクセスすることを1度だけ許可します。そのため長期間稼働させるアプリケーションに適しています。 アプリケーションにはリフレッシュ可能なアクセストークンを提供されます。ちなみにトークン交換には秘密鍵の送信が含まれるため、ブラウザやモバイルアプリなどのクライアントからではなく、バックエンドサービスなどの安全な場所でこれを実行します。\n",
    "* Temporary user authorization: Implicit Grant\n",
    "  * このフローは、JavaScriptを使用するため、リソース所有者のブラウザで実行されるクライアントアプリケーション向けです。サーバー側のコードを使用する必要はありません。リクエストのレート制限は改善されていますが、リフレッシュトークンは提供されていません。このフローはRFC-6749で定義されています。\n",
    "* Refreshable app authorization: Client Credentials Flow\n",
    "  * このフローは、サーバー間認証で使用されます。エンドユーザー情報にアクセスしないエンドポイントのみにアクセスが可能です。\n",
    "  * このセミナーではこの認証方法を使用"
   ]
  },
  {
   "cell_type": "markdown",
   "metadata": {
    "colab_type": "text",
    "id": "9eYsUYrOfWsv"
   },
   "source": [
    "## アカウントを作る\n",
    "\n",
    "1. https://www.spotify.com/ にアクセスしてアカウントを作る。\n",
    "2. https://developer.spotify.com/my-applications に行ってログイン\n",
    "3. Create an Application に Application Name と Description を入れる\n",
    "4. Are you developing a commercial integration? と聞かれたら、この講座では NO を選択\n",
    "5. チェックボックスをオンにして Submit\n",
    "6. Client ID と Client Secret メモしておく。APIを呼ぶ際に使います。"
   ]
  },
  {
   "cell_type": "markdown",
   "metadata": {
    "colab_type": "text",
    "id": "qrWHr-hdn3Vf"
   },
   "source": [
    "## Spotipyのインストール\n",
    "\n",
    "Spotipy とは、Spotify APIを呼ぶためのPythonライブラリ\n",
    "\n",
    "* HTTPリクエストを送る操作をライブラリ内で行っているため、リクエストを意識せずに使うことができる\n",
    "* pip install spotipy でインストール"
   ]
  },
  {
   "cell_type": "code",
   "execution_count": 1,
   "metadata": {
    "colab": {},
    "colab_type": "code",
    "id": "5enT2VJVoIKr",
    "scrolled": true
   },
   "outputs": [
    {
     "name": "stdout",
     "output_type": "stream",
     "text": [
      "Collecting spotipy\n",
      "  Downloading https://files.pythonhosted.org/packages/d5/da/f6f71a33c99af2a22b3f885d290116d0e963afa095bf77aba4226f88a876/spotipy-2.9.0-py3-none-any.whl\n",
      "Requirement already satisfied: requests>=2.20.0 in /opt/anaconda3/lib/python3.7/site-packages (from spotipy) (2.22.0)\n",
      "Requirement already satisfied: six>=1.10.0 in /opt/anaconda3/lib/python3.7/site-packages (from spotipy) (1.14.0)\n",
      "Requirement already satisfied: certifi>=2017.4.17 in /opt/anaconda3/lib/python3.7/site-packages (from requests>=2.20.0->spotipy) (2019.11.28)\n",
      "Requirement already satisfied: urllib3!=1.25.0,!=1.25.1,<1.26,>=1.21.1 in /opt/anaconda3/lib/python3.7/site-packages (from requests>=2.20.0->spotipy) (1.24.2)\n",
      "Requirement already satisfied: idna<2.9,>=2.5 in /opt/anaconda3/lib/python3.7/site-packages (from requests>=2.20.0->spotipy) (2.8)\n",
      "Requirement already satisfied: chardet<3.1.0,>=3.0.2 in /opt/anaconda3/lib/python3.7/site-packages (from requests>=2.20.0->spotipy) (3.0.4)\n",
      "Installing collected packages: spotipy\n",
      "Successfully installed spotipy-2.9.0\n"
     ]
    }
   ],
   "source": [
    "!pip install spotipy"
   ]
  },
  {
   "cell_type": "code",
   "execution_count": 1,
   "metadata": {
    "colab": {},
    "colab_type": "code",
    "id": "BOUzK1idfFr7"
   },
   "outputs": [],
   "source": [
    "import spotipy"
   ]
  },
  {
   "cell_type": "markdown",
   "metadata": {
    "colab_type": "text",
    "id": "DArFr-R0eSLz"
   },
   "source": [
    "spotipy.Spotify クラスがAPIへ様々なリクエストを送る\n",
    "\n",
    "https://spotipy.readthedocs.io/en/latest/#module-spotipy.client"
   ]
  },
  {
   "cell_type": "code",
   "execution_count": 11,
   "metadata": {
    "colab": {},
    "colab_type": "code",
    "id": "n_4yp8T2aAEP"
   },
   "outputs": [],
   "source": [
    "import spotipy\n",
    "from spotipy.oauth2 import SpotifyClientCredentials\n",
    "\n",
    "CLIENT_ID = \"ここに ClientIDを登録\"\n",
    "CLIENT_SECRET = \"ここに ClientSeacret を登録\"\n",
    "\n",
    "# 認証情報をセット\n",
    "client_credentials_manager = SpotifyClientCredentials(client_id=CLIENT_ID, client_secret=CLIENT_SECRET)\n",
    "# 認証情報を元に、APIクライアントを作成\n",
    "sp = spotipy.Spotify(client_credentials_manager=client_credentials_manager)"
   ]
  },
  {
   "cell_type": "markdown",
   "metadata": {
    "colab_type": "text",
    "id": "lTK59tTLfVL1"
   },
   "source": [
    "プレイリストを取得\n",
    "\n",
    "公式リファレンス: https://developer.spotify.com/documentation/web-api/reference/playlists/get-list-users-playlists/\n",
    "\n",
    "Spotipyリファレンス: https://spotipy.readthedocs.io/en/latest/#spotipy.client.Spotify.user_playlist"
   ]
  },
  {
   "cell_type": "markdown",
   "metadata": {
    "colab_type": "text",
    "id": "x-PpDzJOkVmh"
   },
   "source": [
    "例: プレイリストのタイトルとURLを取得する"
   ]
  },
  {
   "cell_type": "code",
   "execution_count": 77,
   "metadata": {
    "colab": {},
    "colab_type": "code",
    "id": "dn_fjMgB0mML",
    "scrolled": true
   },
   "outputs": [],
   "source": [
    "# Spotify 公式のプレイリストから2つ取得\n",
    "playlists = sp.user_playlists('spotify',limit=2)\n"
   ]
  },
  {
   "cell_type": "markdown",
   "metadata": {
    "colab_type": "text",
    "id": "lUGSw_aSj000"
   },
   "source": [
    "pprint を用いるとよりきれいにデータを表示できる\n",
    "\n",
    "https://docs.python.org/ja/3/library/pprint.html"
   ]
  },
  {
   "cell_type": "code",
   "execution_count": 78,
   "metadata": {
    "colab": {},
    "colab_type": "code",
    "id": "s02XUFWmjyAs"
   },
   "outputs": [],
   "source": [
    "from pprint import pprint"
   ]
  },
  {
   "cell_type": "code",
   "execution_count": 145,
   "metadata": {
    "colab": {},
    "colab_type": "code",
    "id": "ZLo90ITfjXAN",
    "scrolled": true
   },
   "outputs": [
    {
     "name": "stdout",
     "output_type": "stream",
     "text": [
      "{'href': 'https://api.spotify.com/v1/users/spotify/playlists?offset=0&limit=2',\n",
      " 'items': [{'collaborative': False,\n",
      "            'description': 'Justin Bieber is on top of the Hottest 50!',\n",
      "            'external_urls': {'spotify': 'https://open.spotify.com/playlist/37i9dQZF1DXcBWIGoYBM5M'},\n",
      "            'href': 'https://api.spotify.com/v1/playlists/37i9dQZF1DXcBWIGoYBM5M',\n",
      "            'id': '37i9dQZF1DXcBWIGoYBM5M',\n",
      "            'images': [{'height': None,\n",
      "                        'url': 'https://i.scdn.co/image/ab67706f00000002d64a11668f38098bed858dcd',\n",
      "                        'width': None}],\n",
      "            'name': \"Today's Top Hits\",\n",
      "            'owner': {'display_name': 'Spotify',\n",
      "                      'external_urls': {'spotify': 'https://open.spotify.com/user/spotify'},\n",
      "                      'href': 'https://api.spotify.com/v1/users/spotify',\n",
      "                      'id': 'spotify',\n",
      "                      'type': 'user',\n",
      "                      'uri': 'spotify:user:spotify'},\n",
      "            'primary_color': None,\n",
      "            'public': True,\n",
      "            'snapshot_id': 'MTU4MjA4ODQ2MCwwMDAwMDNjMjAwMDAwMTcwNWJkMjE3MzAwMDAwMDE3MDQxY2Y1ZGQz',\n",
      "            'tracks': {'href': 'https://api.spotify.com/v1/playlists/37i9dQZF1DXcBWIGoYBM5M/tracks',\n",
      "                       'total': 50},\n",
      "            'type': 'playlist',\n",
      "            'uri': 'spotify:playlist:37i9dQZF1DXcBWIGoYBM5M'},\n",
      "           {'collaborative': False,\n",
      "            'description': 'New music from A Boogie Wit da Hoodie, Migos, '\n",
      "                           'YoungBoy Never Broke Again and Polo G.',\n",
      "            'external_urls': {'spotify': 'https://open.spotify.com/playlist/37i9dQZF1DX0XUsuxWHRQd'},\n",
      "            'href': 'https://api.spotify.com/v1/playlists/37i9dQZF1DX0XUsuxWHRQd',\n",
      "            'id': '37i9dQZF1DX0XUsuxWHRQd',\n",
      "            'images': [{'height': None,\n",
      "                        'url': 'https://i.scdn.co/image/ab67706f0000000291467e20c8bb04f43c720e3f',\n",
      "                        'width': None}],\n",
      "            'name': 'RapCaviar',\n",
      "            'owner': {'display_name': 'Spotify',\n",
      "                      'external_urls': {'spotify': 'https://open.spotify.com/user/spotify'},\n",
      "                      'href': 'https://api.spotify.com/v1/users/spotify',\n",
      "                      'id': 'spotify',\n",
      "                      'type': 'user',\n",
      "                      'uri': 'spotify:user:spotify'},\n",
      "            'primary_color': None,\n",
      "            'public': True,\n",
      "            'snapshot_id': 'MTU4MjA4ODQ2MCwwMDAwMDQyMDAwMDAwMTcwNWJkMjE3MmMwMDAwMDE3MDNmNWMwODMy',\n",
      "            'tracks': {'href': 'https://api.spotify.com/v1/playlists/37i9dQZF1DX0XUsuxWHRQd/tracks',\n",
      "                       'total': 54},\n",
      "            'type': 'playlist',\n",
      "            'uri': 'spotify:playlist:37i9dQZF1DX0XUsuxWHRQd'}],\n",
      " 'limit': 2,\n",
      " 'next': 'https://api.spotify.com/v1/users/spotify/playlists?offset=2&limit=2',\n",
      " 'offset': 0,\n",
      " 'previous': None,\n",
      " 'total': 1451}\n"
     ]
    }
   ],
   "source": [
    "pprint(playlists)"
   ]
  },
  {
   "cell_type": "code",
   "execution_count": 80,
   "metadata": {
    "colab": {},
    "colab_type": "code",
    "id": "s2mwk2UrkA4Q"
   },
   "outputs": [
    {
     "name": "stdout",
     "output_type": "stream",
     "text": [
      "[{'collaborative': False,\n",
      "  'description': 'Justin Bieber is on top of the Hottest 50!',\n",
      "  'external_urls': {'spotify': 'https://open.spotify.com/playlist/37i9dQZF1DXcBWIGoYBM5M'},\n",
      "  'href': 'https://api.spotify.com/v1/playlists/37i9dQZF1DXcBWIGoYBM5M',\n",
      "  'id': '37i9dQZF1DXcBWIGoYBM5M',\n",
      "  'images': [{'height': None,\n",
      "              'url': 'https://i.scdn.co/image/ab67706f00000002d64a11668f38098bed858dcd',\n",
      "              'width': None}],\n",
      "  'name': \"Today's Top Hits\",\n",
      "  'owner': {'display_name': 'Spotify',\n",
      "            'external_urls': {'spotify': 'https://open.spotify.com/user/spotify'},\n",
      "            'href': 'https://api.spotify.com/v1/users/spotify',\n",
      "            'id': 'spotify',\n",
      "            'type': 'user',\n",
      "            'uri': 'spotify:user:spotify'},\n",
      "  'primary_color': None,\n",
      "  'public': True,\n",
      "  'snapshot_id': 'MTU4MjA4ODQ2MCwwMDAwMDNjMjAwMDAwMTcwNWJkMjE3MzAwMDAwMDE3MDQxY2Y1ZGQz',\n",
      "  'tracks': {'href': 'https://api.spotify.com/v1/playlists/37i9dQZF1DXcBWIGoYBM5M/tracks',\n",
      "             'total': 50},\n",
      "  'type': 'playlist',\n",
      "  'uri': 'spotify:playlist:37i9dQZF1DXcBWIGoYBM5M'},\n",
      " {'collaborative': False,\n",
      "  'description': 'New music from A Boogie Wit da Hoodie, Migos, YoungBoy Never '\n",
      "                 'Broke Again and Polo G.',\n",
      "  'external_urls': {'spotify': 'https://open.spotify.com/playlist/37i9dQZF1DX0XUsuxWHRQd'},\n",
      "  'href': 'https://api.spotify.com/v1/playlists/37i9dQZF1DX0XUsuxWHRQd',\n",
      "  'id': '37i9dQZF1DX0XUsuxWHRQd',\n",
      "  'images': [{'height': None,\n",
      "              'url': 'https://i.scdn.co/image/ab67706f0000000291467e20c8bb04f43c720e3f',\n",
      "              'width': None}],\n",
      "  'name': 'RapCaviar',\n",
      "  'owner': {'display_name': 'Spotify',\n",
      "            'external_urls': {'spotify': 'https://open.spotify.com/user/spotify'},\n",
      "            'href': 'https://api.spotify.com/v1/users/spotify',\n",
      "            'id': 'spotify',\n",
      "            'type': 'user',\n",
      "            'uri': 'spotify:user:spotify'},\n",
      "  'primary_color': None,\n",
      "  'public': True,\n",
      "  'snapshot_id': 'MTU4MjA4ODQ2MCwwMDAwMDQyMDAwMDAwMTcwNWJkMjE3MmMwMDAwMDE3MDNmNWMwODMy',\n",
      "  'tracks': {'href': 'https://api.spotify.com/v1/playlists/37i9dQZF1DX0XUsuxWHRQd/tracks',\n",
      "             'total': 54},\n",
      "  'type': 'playlist',\n",
      "  'uri': 'spotify:playlist:37i9dQZF1DX0XUsuxWHRQd'}]\n"
     ]
    }
   ],
   "source": [
    "pprint(playlists['items'])"
   ]
  },
  {
   "cell_type": "code",
   "execution_count": 81,
   "metadata": {
    "colab": {},
    "colab_type": "code",
    "id": "lFKaZuweNSR_"
   },
   "outputs": [
    {
     "name": "stdout",
     "output_type": "stream",
     "text": [
      "{'collaborative': False,\n",
      " 'description': 'Justin Bieber is on top of the Hottest 50!',\n",
      " 'external_urls': {'spotify': 'https://open.spotify.com/playlist/37i9dQZF1DXcBWIGoYBM5M'},\n",
      " 'href': 'https://api.spotify.com/v1/playlists/37i9dQZF1DXcBWIGoYBM5M',\n",
      " 'id': '37i9dQZF1DXcBWIGoYBM5M',\n",
      " 'images': [{'height': None,\n",
      "             'url': 'https://i.scdn.co/image/ab67706f00000002d64a11668f38098bed858dcd',\n",
      "             'width': None}],\n",
      " 'name': \"Today's Top Hits\",\n",
      " 'owner': {'display_name': 'Spotify',\n",
      "           'external_urls': {'spotify': 'https://open.spotify.com/user/spotify'},\n",
      "           'href': 'https://api.spotify.com/v1/users/spotify',\n",
      "           'id': 'spotify',\n",
      "           'type': 'user',\n",
      "           'uri': 'spotify:user:spotify'},\n",
      " 'primary_color': None,\n",
      " 'public': True,\n",
      " 'snapshot_id': 'MTU4MjA4ODQ2MCwwMDAwMDNjMjAwMDAwMTcwNWJkMjE3MzAwMDAwMDE3MDQxY2Y1ZGQz',\n",
      " 'tracks': {'href': 'https://api.spotify.com/v1/playlists/37i9dQZF1DXcBWIGoYBM5M/tracks',\n",
      "            'total': 50},\n",
      " 'type': 'playlist',\n",
      " 'uri': 'spotify:playlist:37i9dQZF1DXcBWIGoYBM5M'}\n"
     ]
    }
   ],
   "source": [
    "pprint(playlists['items'][0])"
   ]
  },
  {
   "cell_type": "code",
   "execution_count": 82,
   "metadata": {
    "colab": {},
    "colab_type": "code",
    "id": "es62AMXdOGWs"
   },
   "outputs": [
    {
     "name": "stdout",
     "output_type": "stream",
     "text": [
      "[\"Today's Top Hits\", 'RapCaviar']\n"
     ]
    }
   ],
   "source": [
    "# タイトルを取得\n",
    "pprint([x[\"name\"] for x in playlists['items']])"
   ]
  },
  {
   "cell_type": "code",
   "execution_count": 18,
   "metadata": {
    "colab": {},
    "colab_type": "code",
    "id": "o0AlZtitOaQu"
   },
   "outputs": [
    {
     "name": "stdout",
     "output_type": "stream",
     "text": [
      "'https://open.spotify.com/playlist/37i9dQZF1DXcBWIGoYBM5M'\n"
     ]
    }
   ],
   "source": [
    "# URLを取得\n",
    "pprint(playlists['items'][0]['external_urls']['spotify'])"
   ]
  },
  {
   "cell_type": "code",
   "execution_count": 19,
   "metadata": {
    "colab": {},
    "colab_type": "code",
    "id": "tggqeHOxP2iJ"
   },
   "outputs": [
    {
     "name": "stdout",
     "output_type": "stream",
     "text": [
      "\"タイトル: Today's Top Hits\"\n",
      "'URL: https://open.spotify.com/playlist/37i9dQZF1DXcBWIGoYBM5M'\n",
      "'タイトル: RapCaviar'\n",
      "'URL: https://open.spotify.com/playlist/37i9dQZF1DX0XUsuxWHRQd'\n"
     ]
    }
   ],
   "source": [
    "# 複数のタイトルとURLを取得\n",
    "for playlist in playlists['items']:\n",
    "  # playlists['items'][0] を playlist で置き換える\n",
    "  pprint('タイトル: ' + playlist['name'])\n",
    "  pprint('URL: ' + playlist['external_urls']['spotify'])"
   ]
  },
  {
   "cell_type": "code",
   "execution_count": 83,
   "metadata": {
    "colab": {},
    "colab_type": "code",
    "id": "50-vfnZO0PkP"
   },
   "outputs": [
    {
     "name": "stdout",
     "output_type": "stream",
     "text": [
      "Beautiful Lies\n",
      "Beautiful Lies\n",
      "Beautiful Lies (Deluxe)\n",
      "Beautiful Lies (Deluxe)\n",
      "Fire Within\n",
      "Fire Within\n",
      "Fire Within (Deluxe)\n",
      "Fire Within (Deluxe)\n",
      "Fire Within (Deluxe)\n",
      "Live in London\n",
      "Birdy\n",
      "Birdy\n",
      "Birdy\n",
      "Birdy\n",
      "Birdy (Deluxe Version)\n"
     ]
    }
   ],
   "source": [
    "birdy_uri = 'spotify:artist:2WX2uTcsvV5OnS0inACecP'\n",
    "spotify = spotipy.Spotify()\n",
    "\n",
    "results = sp.artist_albums(birdy_uri, album_type='album')\n",
    "albums = results['items']\n",
    "while results['next']:\n",
    "  results = sp.next(results)\n",
    "  albums.extend(results['items'])\n",
    "\n",
    "for album in albums:\n",
    "  print(album['name'])"
   ]
  },
  {
   "cell_type": "markdown",
   "metadata": {
    "colab_type": "text",
    "id": "etsCeyF_S_JM"
   },
   "source": [
    "必要なライブラリを読み込み"
   ]
  },
  {
   "cell_type": "code",
   "execution_count": 13,
   "metadata": {
    "colab": {},
    "colab_type": "code",
    "id": "Tz0P9ohlTBdx"
   },
   "outputs": [],
   "source": [
    "import pandas as pd\n",
    "import seaborn as sns"
   ]
  },
  {
   "cell_type": "markdown",
   "metadata": {
    "colab_type": "text",
    "id": "jXtETRbTSy5g"
   },
   "source": [
    "ジャンル情報を取得"
   ]
  },
  {
   "cell_type": "code",
   "execution_count": 36,
   "metadata": {
    "colab": {},
    "colab_type": "code",
    "id": "2F-w7A11c49h"
   },
   "outputs": [
    {
     "data": {
      "text/plain": [
       "{'genres': ['acoustic',\n",
       "  'afrobeat',\n",
       "  'alt-rock',\n",
       "  'alternative',\n",
       "  'ambient',\n",
       "  'anime',\n",
       "  'black-metal',\n",
       "  'bluegrass',\n",
       "  'blues',\n",
       "  'bossanova',\n",
       "  'brazil',\n",
       "  'breakbeat',\n",
       "  'british',\n",
       "  'cantopop',\n",
       "  'chicago-house',\n",
       "  'children',\n",
       "  'chill',\n",
       "  'classical',\n",
       "  'club',\n",
       "  'comedy',\n",
       "  'country',\n",
       "  'dance',\n",
       "  'dancehall',\n",
       "  'death-metal',\n",
       "  'deep-house',\n",
       "  'detroit-techno',\n",
       "  'disco',\n",
       "  'disney',\n",
       "  'drum-and-bass',\n",
       "  'dub',\n",
       "  'dubstep',\n",
       "  'edm',\n",
       "  'electro',\n",
       "  'electronic',\n",
       "  'emo',\n",
       "  'folk',\n",
       "  'forro',\n",
       "  'french',\n",
       "  'funk',\n",
       "  'garage',\n",
       "  'german',\n",
       "  'gospel',\n",
       "  'goth',\n",
       "  'grindcore',\n",
       "  'groove',\n",
       "  'grunge',\n",
       "  'guitar',\n",
       "  'happy',\n",
       "  'hard-rock',\n",
       "  'hardcore',\n",
       "  'hardstyle',\n",
       "  'heavy-metal',\n",
       "  'hip-hop',\n",
       "  'holidays',\n",
       "  'honky-tonk',\n",
       "  'house',\n",
       "  'idm',\n",
       "  'indian',\n",
       "  'indie',\n",
       "  'indie-pop',\n",
       "  'industrial',\n",
       "  'iranian',\n",
       "  'j-dance',\n",
       "  'j-idol',\n",
       "  'j-pop',\n",
       "  'j-rock',\n",
       "  'jazz',\n",
       "  'k-pop',\n",
       "  'kids',\n",
       "  'latin',\n",
       "  'latino',\n",
       "  'malay',\n",
       "  'mandopop',\n",
       "  'metal',\n",
       "  'metal-misc',\n",
       "  'metalcore',\n",
       "  'minimal-techno',\n",
       "  'movies',\n",
       "  'mpb',\n",
       "  'new-age',\n",
       "  'new-release',\n",
       "  'opera',\n",
       "  'pagode',\n",
       "  'party',\n",
       "  'philippines-opm',\n",
       "  'piano',\n",
       "  'pop',\n",
       "  'pop-film',\n",
       "  'post-dubstep',\n",
       "  'power-pop',\n",
       "  'progressive-house',\n",
       "  'psych-rock',\n",
       "  'punk',\n",
       "  'punk-rock',\n",
       "  'r-n-b',\n",
       "  'rainy-day',\n",
       "  'reggae',\n",
       "  'reggaeton',\n",
       "  'road-trip',\n",
       "  'rock',\n",
       "  'rock-n-roll',\n",
       "  'rockabilly',\n",
       "  'romance',\n",
       "  'sad',\n",
       "  'salsa',\n",
       "  'samba',\n",
       "  'sertanejo',\n",
       "  'show-tunes',\n",
       "  'singer-songwriter',\n",
       "  'ska',\n",
       "  'sleep',\n",
       "  'songwriter',\n",
       "  'soul',\n",
       "  'soundtracks',\n",
       "  'spanish',\n",
       "  'study',\n",
       "  'summer',\n",
       "  'swedish',\n",
       "  'synth-pop',\n",
       "  'tango',\n",
       "  'techno',\n",
       "  'trance',\n",
       "  'trip-hop',\n",
       "  'turkish',\n",
       "  'work-out',\n",
       "  'world-music']}"
      ]
     },
     "execution_count": 36,
     "metadata": {},
     "output_type": "execute_result"
    }
   ],
   "source": [
    "sp.recommendation_genre_seeds()"
   ]
  },
  {
   "cell_type": "code",
   "execution_count": 37,
   "metadata": {
    "colab": {},
    "colab_type": "code",
    "id": "iRW_dGQ7dLlt"
   },
   "outputs": [
    {
     "data": {
      "text/html": [
       "<div>\n",
       "<style scoped>\n",
       "    .dataframe tbody tr th:only-of-type {\n",
       "        vertical-align: middle;\n",
       "    }\n",
       "\n",
       "    .dataframe tbody tr th {\n",
       "        vertical-align: top;\n",
       "    }\n",
       "\n",
       "    .dataframe thead th {\n",
       "        text-align: right;\n",
       "    }\n",
       "</style>\n",
       "<table border=\"1\" class=\"dataframe\">\n",
       "  <thead>\n",
       "    <tr style=\"text-align: right;\">\n",
       "      <th></th>\n",
       "      <th>genres</th>\n",
       "    </tr>\n",
       "  </thead>\n",
       "  <tbody>\n",
       "    <tr>\n",
       "      <th>0</th>\n",
       "      <td>acoustic</td>\n",
       "    </tr>\n",
       "    <tr>\n",
       "      <th>1</th>\n",
       "      <td>afrobeat</td>\n",
       "    </tr>\n",
       "    <tr>\n",
       "      <th>2</th>\n",
       "      <td>alt-rock</td>\n",
       "    </tr>\n",
       "    <tr>\n",
       "      <th>3</th>\n",
       "      <td>alternative</td>\n",
       "    </tr>\n",
       "    <tr>\n",
       "      <th>4</th>\n",
       "      <td>ambient</td>\n",
       "    </tr>\n",
       "    <tr>\n",
       "      <th>...</th>\n",
       "      <td>...</td>\n",
       "    </tr>\n",
       "    <tr>\n",
       "      <th>121</th>\n",
       "      <td>trance</td>\n",
       "    </tr>\n",
       "    <tr>\n",
       "      <th>122</th>\n",
       "      <td>trip-hop</td>\n",
       "    </tr>\n",
       "    <tr>\n",
       "      <th>123</th>\n",
       "      <td>turkish</td>\n",
       "    </tr>\n",
       "    <tr>\n",
       "      <th>124</th>\n",
       "      <td>work-out</td>\n",
       "    </tr>\n",
       "    <tr>\n",
       "      <th>125</th>\n",
       "      <td>world-music</td>\n",
       "    </tr>\n",
       "  </tbody>\n",
       "</table>\n",
       "<p>126 rows × 1 columns</p>\n",
       "</div>"
      ],
      "text/plain": [
       "          genres\n",
       "0       acoustic\n",
       "1       afrobeat\n",
       "2       alt-rock\n",
       "3    alternative\n",
       "4        ambient\n",
       "..           ...\n",
       "121       trance\n",
       "122     trip-hop\n",
       "123      turkish\n",
       "124     work-out\n",
       "125  world-music\n",
       "\n",
       "[126 rows x 1 columns]"
      ]
     },
     "execution_count": 37,
     "metadata": {},
     "output_type": "execute_result"
    }
   ],
   "source": [
    "pd.DataFrame(sp.recommendation_genre_seeds())"
   ]
  },
  {
   "cell_type": "code",
   "execution_count": 38,
   "metadata": {
    "colab": {},
    "colab_type": "code",
    "id": "B0xhaAVsWPX1"
   },
   "outputs": [],
   "source": [
    "genres_df = pd.DataFrame(sp.recommendation_genre_seeds())"
   ]
  },
  {
   "cell_type": "markdown",
   "metadata": {
    "colab_type": "text",
    "id": "IiofTWnHWZBl"
   },
   "source": [
    "特定のジャンルの曲を取得\n",
    "\n",
    "/search API を用いる\n",
    "\n",
    "* 公式リファレンス: https://developer.spotify.com/documentation/web-api/reference/search/search/\n",
    "* spotipy のリファレンス: https://spotipy.readthedocs.io/en/latest/#spotipy.client.Spotify.search"
   ]
  },
  {
   "cell_type": "code",
   "execution_count": 39,
   "metadata": {
    "colab": {},
    "colab_type": "code",
    "id": "eqNSmhxf0D_n"
   },
   "outputs": [
    {
     "name": "stdout",
     "output_type": "stream",
     "text": [
      "{'tracks': {'href': 'https://api.spotify.com/v1/search?query=genre%3Aacoustic&type=track&offset=0&limit=1',\n",
      "            'items': [{'album': {'album_type': 'single',\n",
      "                                 'artists': [{'external_urls': {'spotify': 'https://open.spotify.com/artist/5D3muNJhYYunbRkh3FKgX0'},\n",
      "                                              'href': 'https://api.spotify.com/v1/artists/5D3muNJhYYunbRkh3FKgX0',\n",
      "                                              'id': '5D3muNJhYYunbRkh3FKgX0',\n",
      "                                              'name': 'Chord Overstreet',\n",
      "                                              'type': 'artist',\n",
      "                                              'uri': 'spotify:artist:5D3muNJhYYunbRkh3FKgX0'}],\n",
      "                                 'available_markets': ['AD',\n",
      "                                                       'AE',\n",
      "                                                       'AR',\n",
      "                                                       'AT',\n",
      "                                                       'AU',\n",
      "                                                       'BE',\n",
      "                                                       'BG',\n",
      "                                                       'BH',\n",
      "                                                       'BO',\n",
      "                                                       'BR',\n",
      "                                                       'CA',\n",
      "                                                       'CH',\n",
      "                                                       'CL',\n",
      "                                                       'CO',\n",
      "                                                       'CR',\n",
      "                                                       'CY',\n",
      "                                                       'CZ',\n",
      "                                                       'DE',\n",
      "                                                       'DK',\n",
      "                                                       'DO',\n",
      "                                                       'DZ',\n",
      "                                                       'EC',\n",
      "                                                       'EE',\n",
      "                                                       'EG',\n",
      "                                                       'ES',\n",
      "                                                       'FI',\n",
      "                                                       'FR',\n",
      "                                                       'GB',\n",
      "                                                       'GR',\n",
      "                                                       'GT',\n",
      "                                                       'HK',\n",
      "                                                       'HN',\n",
      "                                                       'HU',\n",
      "                                                       'ID',\n",
      "                                                       'IE',\n",
      "                                                       'IL',\n",
      "                                                       'IN',\n",
      "                                                       'IS',\n",
      "                                                       'IT',\n",
      "                                                       'JO',\n",
      "                                                       'JP',\n",
      "                                                       'KW',\n",
      "                                                       'LB',\n",
      "                                                       'LI',\n",
      "                                                       'LT',\n",
      "                                                       'LU',\n",
      "                                                       'LV',\n",
      "                                                       'MA',\n",
      "                                                       'MC',\n",
      "                                                       'MT',\n",
      "                                                       'MX',\n",
      "                                                       'MY',\n",
      "                                                       'NI',\n",
      "                                                       'NL',\n",
      "                                                       'NO',\n",
      "                                                       'NZ',\n",
      "                                                       'OM',\n",
      "                                                       'PA',\n",
      "                                                       'PE',\n",
      "                                                       'PH',\n",
      "                                                       'PL',\n",
      "                                                       'PS',\n",
      "                                                       'PT',\n",
      "                                                       'PY',\n",
      "                                                       'QA',\n",
      "                                                       'RO',\n",
      "                                                       'SA',\n",
      "                                                       'SE',\n",
      "                                                       'SG',\n",
      "                                                       'SK',\n",
      "                                                       'SV',\n",
      "                                                       'TH',\n",
      "                                                       'TN',\n",
      "                                                       'TR',\n",
      "                                                       'TW',\n",
      "                                                       'US',\n",
      "                                                       'UY',\n",
      "                                                       'VN',\n",
      "                                                       'ZA'],\n",
      "                                 'external_urls': {'spotify': 'https://open.spotify.com/album/2EfmyRWheMtmVTCIsptsLi'},\n",
      "                                 'href': 'https://api.spotify.com/v1/albums/2EfmyRWheMtmVTCIsptsLi',\n",
      "                                 'id': '2EfmyRWheMtmVTCIsptsLi',\n",
      "                                 'images': [{'height': 640,\n",
      "                                             'url': 'https://i.scdn.co/image/bbf0818eba3b1fd85a4b737b8464fac1ff9609a8',\n",
      "                                             'width': 640},\n",
      "                                            {'height': 300,\n",
      "                                             'url': 'https://i.scdn.co/image/cea87b9099170adf673a610084f187f60c745fc3',\n",
      "                                             'width': 300},\n",
      "                                            {'height': 64,\n",
      "                                             'url': 'https://i.scdn.co/image/32e22b621cefd4cca9afbdfc7fa86e7e901a8250',\n",
      "                                             'width': 64}],\n",
      "                                 'name': 'Hold On',\n",
      "                                 'release_date': '2017-02-03',\n",
      "                                 'release_date_precision': 'day',\n",
      "                                 'total_tracks': 1,\n",
      "                                 'type': 'album',\n",
      "                                 'uri': 'spotify:album:2EfmyRWheMtmVTCIsptsLi'},\n",
      "                       'artists': [{'external_urls': {'spotify': 'https://open.spotify.com/artist/5D3muNJhYYunbRkh3FKgX0'},\n",
      "                                    'href': 'https://api.spotify.com/v1/artists/5D3muNJhYYunbRkh3FKgX0',\n",
      "                                    'id': '5D3muNJhYYunbRkh3FKgX0',\n",
      "                                    'name': 'Chord Overstreet',\n",
      "                                    'type': 'artist',\n",
      "                                    'uri': 'spotify:artist:5D3muNJhYYunbRkh3FKgX0'}],\n",
      "                       'available_markets': ['AD',\n",
      "                                             'AE',\n",
      "                                             'AR',\n",
      "                                             'AT',\n",
      "                                             'AU',\n",
      "                                             'BE',\n",
      "                                             'BG',\n",
      "                                             'BH',\n",
      "                                             'BO',\n",
      "                                             'BR',\n",
      "                                             'CA',\n",
      "                                             'CH',\n",
      "                                             'CL',\n",
      "                                             'CO',\n",
      "                                             'CR',\n",
      "                                             'CY',\n",
      "                                             'CZ',\n",
      "                                             'DE',\n",
      "                                             'DK',\n",
      "                                             'DO',\n",
      "                                             'DZ',\n",
      "                                             'EC',\n",
      "                                             'EE',\n",
      "                                             'EG',\n",
      "                                             'ES',\n",
      "                                             'FI',\n",
      "                                             'FR',\n",
      "                                             'GB',\n",
      "                                             'GR',\n",
      "                                             'GT',\n",
      "                                             'HK',\n",
      "                                             'HN',\n",
      "                                             'HU',\n",
      "                                             'ID',\n",
      "                                             'IE',\n",
      "                                             'IL',\n",
      "                                             'IN',\n",
      "                                             'IS',\n",
      "                                             'IT',\n",
      "                                             'JO',\n",
      "                                             'JP',\n",
      "                                             'KW',\n",
      "                                             'LB',\n",
      "                                             'LI',\n",
      "                                             'LT',\n",
      "                                             'LU',\n",
      "                                             'LV',\n",
      "                                             'MA',\n",
      "                                             'MC',\n",
      "                                             'MT',\n",
      "                                             'MX',\n",
      "                                             'MY',\n",
      "                                             'NI',\n",
      "                                             'NL',\n",
      "                                             'NO',\n",
      "                                             'NZ',\n",
      "                                             'OM',\n",
      "                                             'PA',\n",
      "                                             'PE',\n",
      "                                             'PH',\n",
      "                                             'PL',\n",
      "                                             'PS',\n",
      "                                             'PT',\n",
      "                                             'PY',\n",
      "                                             'QA',\n",
      "                                             'RO',\n",
      "                                             'SA',\n",
      "                                             'SE',\n",
      "                                             'SG',\n",
      "                                             'SK',\n",
      "                                             'SV',\n",
      "                                             'TH',\n",
      "                                             'TN',\n",
      "                                             'TR',\n",
      "                                             'TW',\n",
      "                                             'US',\n",
      "                                             'UY',\n",
      "                                             'VN',\n",
      "                                             'ZA'],\n",
      "                       'disc_number': 1,\n",
      "                       'duration_ms': 198853,\n",
      "                       'explicit': False,\n",
      "                       'external_ids': {'isrc': 'USUM71615568'},\n",
      "                       'external_urls': {'spotify': 'https://open.spotify.com/track/5vjLSffimiIP26QG5WcN2K'},\n",
      "                       'href': 'https://api.spotify.com/v1/tracks/5vjLSffimiIP26QG5WcN2K',\n",
      "                       'id': '5vjLSffimiIP26QG5WcN2K',\n",
      "                       'is_local': False,\n",
      "                       'name': 'Hold On',\n",
      "                       'popularity': 77,\n",
      "                       'preview_url': None,\n",
      "                       'track_number': 1,\n",
      "                       'type': 'track',\n",
      "                       'uri': 'spotify:track:5vjLSffimiIP26QG5WcN2K'}],\n",
      "            'limit': 1,\n",
      "            'next': 'https://api.spotify.com/v1/search?query=genre%3Aacoustic&type=track&offset=1&limit=1',\n",
      "            'offset': 0,\n",
      "            'previous': None,\n",
      "            'total': 65814}}\n"
     ]
    }
   ],
   "source": [
    "# ジャンルで検索\n",
    "search_genre = sp.search(q='genre:acoustic', type='track', offset=0, limit=1)\n",
    "pprint(search_genre)"
   ]
  },
  {
   "cell_type": "markdown",
   "metadata": {
    "colab_type": "text",
    "id": "wOSrf-zF20B_"
   },
   "source": [
    "検索結果の例\n",
    "\n",
    "```\n",
    "{'tracks': {'href': 'https://api.spotify.com/v1/search?query=genre%3Aacoustic&type=track&offset=0&limit=1',\n",
    "            'items': [{'album': {'album_type': 'single',\n",
    "                                 'artists': [{'external_urls': {'spotify': 'https://open.spotify.com/artist/5D3muNJhYYunbRkh3FKgX0'},\n",
    "                                              'href': 'https://api.spotify.com/v1/artists/5D3muNJhYYunbRkh3FKgX0',\n",
    "                                              'id': '5D3muNJhYYunbRkh3FKgX0',\n",
    "                                              'name': 'Chord Overstreet',\n",
    "                                              'type': 'artist',\n",
    "                                              'uri': 'spotify:artist:5D3muNJhYYunbRkh3FKgX0'}],\n",
    "                                 'available_markets': ['AD',\n",
    "                                                       'AE',\n",
    "                                                       'AR',\n",
    "                                                       'AT',\n",
    "                                                       'AU',\n",
    "                                                       'BE',\n",
    "                                                       'BG',\n",
    "                                                       'BH',\n",
    "                                                       'BO',\n",
    "                                                       'BR',\n",
    "                                                       'CA',\n",
    "                                                       'CH',\n",
    "                                                       'CL',\n",
    "                                                       'CO',\n",
    "                                                       'CR',\n",
    "                                                       'CY',\n",
    "                                                       'CZ',\n",
    "                                                       'DE',\n",
    "                                                       'DK',\n",
    "                                                       'DO',\n",
    "                                                       'DZ',\n",
    "                                                       'EC',\n",
    "                                                       'EE',\n",
    "                                                       'EG',\n",
    "                                                       'ES',\n",
    "                                                       'FI',\n",
    "                                                       'FR',\n",
    "                                                       'GB',\n",
    "                                                       'GR',\n",
    "                                                       'GT',\n",
    "                                                       'HK',\n",
    "                                                       'HN',\n",
    "                                                       'HU',\n",
    "                                                       'ID',\n",
    "                                                       'IE',\n",
    "                                                       'IL',\n",
    "                                                       'IN',\n",
    "                                                       'IS',\n",
    "                                                       'IT',\n",
    "                                                       'JO',\n",
    "                                                       'JP',\n",
    "                                                       'KW',\n",
    "                                                       'LB',\n",
    "                                                       'LI',\n",
    "                                                       'LT',\n",
    "                                                       'LU',\n",
    "                                                       'LV',\n",
    "                                                       'MA',\n",
    "                                                       'MC',\n",
    "                                                       'MT',\n",
    "                                                       'MX',\n",
    "                                                       'MY',\n",
    "                                                       'NI',\n",
    "                                                       'NL',\n",
    "                                                       'NO',\n",
    "                                                       'NZ',\n",
    "                                                       'OM',\n",
    "                                                       'PA',\n",
    "                                                       'PE',\n",
    "                                                       'PH',\n",
    "                                                       'PL',\n",
    "                                                       'PS',\n",
    "                                                       'PT',\n",
    "                                                       'PY',\n",
    "                                                       'QA',\n",
    "                                                       'RO',\n",
    "                                                       'SA',\n",
    "                                                       'SE',\n",
    "                                                       'SG',\n",
    "                                                       'SK',\n",
    "                                                       'SV',\n",
    "                                                       'TH',\n",
    "                                                       'TN',\n",
    "                                                       'TR',\n",
    "                                                       'TW',\n",
    "                                                       'US',\n",
    "                                                       'UY',\n",
    "                                                       'VN',\n",
    "                                                       'ZA'],\n",
    "                                 'external_urls': {'spotify': 'https://open.spotify.com/album/2EfmyRWheMtmVTCIsptsLi'},\n",
    "                                 'href': 'https://api.spotify.com/v1/albums/2EfmyRWheMtmVTCIsptsLi',\n",
    "                                 'id': '2EfmyRWheMtmVTCIsptsLi',\n",
    "                                 'images': [{'height': 640,\n",
    "                                             'url': 'https://i.scdn.co/image/bbf0818eba3b1fd85a4b737b8464fac1ff9609a8',\n",
    "                                             'width': 640},\n",
    "                                            {'height': 300,\n",
    "                                             'url': 'https://i.scdn.co/image/cea87b9099170adf673a610084f187f60c745fc3',\n",
    "                                             'width': 300},\n",
    "                                            {'height': 64,\n",
    "                                             'url': 'https://i.scdn.co/image/32e22b621cefd4cca9afbdfc7fa86e7e901a8250',\n",
    "                                             'width': 64}],\n",
    "                                 'name': 'Hold On',\n",
    "                                 'release_date': '2017-02-03',\n",
    "                                 'release_date_precision': 'day',\n",
    "                                 'total_tracks': 1,\n",
    "                                 'type': 'album',\n",
    "                                 'uri': 'spotify:album:2EfmyRWheMtmVTCIsptsLi'},\n",
    "                       'artists': [{'external_urls': {'spotify': 'https://open.spotify.com/artist/5D3muNJhYYunbRkh3FKgX0'},\n",
    "                                    'href': 'https://api.spotify.com/v1/artists/5D3muNJhYYunbRkh3FKgX0',\n",
    "                                    'id': '5D3muNJhYYunbRkh3FKgX0',\n",
    "                                    'name': 'Chord Overstreet',\n",
    "                                    'type': 'artist',\n",
    "                                    'uri': 'spotify:artist:5D3muNJhYYunbRkh3FKgX0'}],\n",
    "                       'available_markets': ['AD',\n",
    "                                             'AE',\n",
    "                                             'AR',\n",
    "                                             'AT',\n",
    "                                             'AU',\n",
    "                                             'BE',\n",
    "                                             'BG',\n",
    "                                             'BH',\n",
    "                                             'BO',\n",
    "                                             'BR',\n",
    "                                             'CA',\n",
    "                                             'CH',\n",
    "                                             'CL',\n",
    "                                             'CO',\n",
    "                                             'CR',\n",
    "                                             'CY',\n",
    "                                             'CZ',\n",
    "                                             'DE',\n",
    "                                             'DK',\n",
    "                                             'DO',\n",
    "                                             'DZ',\n",
    "                                             'EC',\n",
    "                                             'EE',\n",
    "                                             'EG',\n",
    "                                             'ES',\n",
    "                                             'FI',\n",
    "                                             'FR',\n",
    "                                             'GB',\n",
    "                                             'GR',\n",
    "                                             'GT',\n",
    "                                             'HK',\n",
    "                                             'HN',\n",
    "                                             'HU',\n",
    "                                             'ID',\n",
    "                                             'IE',\n",
    "                                             'IL',\n",
    "                                             'IN',\n",
    "                                             'IS',\n",
    "                                             'IT',\n",
    "                                             'JO',\n",
    "                                             'JP',\n",
    "                                             'KW',\n",
    "                                             'LB',\n",
    "                                             'LI',\n",
    "                                             'LT',\n",
    "                                             'LU',\n",
    "                                             'LV',\n",
    "                                             'MA',\n",
    "                                             'MC',\n",
    "                                             'MT',\n",
    "                                             'MX',\n",
    "                                             'MY',\n",
    "                                             'NI',\n",
    "                                             'NL',\n",
    "                                             'NO',\n",
    "                                             'NZ',\n",
    "                                             'OM',\n",
    "                                             'PA',\n",
    "                                             'PE',\n",
    "                                             'PH',\n",
    "                                             'PL',\n",
    "                                             'PS',\n",
    "                                             'PT',\n",
    "                                             'PY',\n",
    "                                             'QA',\n",
    "                                             'RO',\n",
    "                                             'SA',\n",
    "                                             'SE',\n",
    "                                             'SG',\n",
    "                                             'SK',\n",
    "                                             'SV',\n",
    "                                             'TH',\n",
    "                                             'TN',\n",
    "                                             'TR',\n",
    "                                             'TW',\n",
    "                                             'US',\n",
    "                                             'UY',\n",
    "                                             'VN',\n",
    "                                             'ZA'],\n",
    "                       'disc_number': 1,\n",
    "                       'duration_ms': 198853,\n",
    "                       'explicit': False,\n",
    "                       'external_ids': {'isrc': 'USUM71615568'},\n",
    "                       'external_urls': {'spotify': 'https://open.spotify.com/track/5vjLSffimiIP26QG5WcN2K'},\n",
    "                       'href': 'https://api.spotify.com/v1/tracks/5vjLSffimiIP26QG5WcN2K',\n",
    "                       'id': '5vjLSffimiIP26QG5WcN2K',\n",
    "                       'is_local': False,\n",
    "                       'name': 'Hold On',\n",
    "                       'popularity': 79,\n",
    "                       'preview_url': None,\n",
    "                       'track_number': 1,\n",
    "                       'type': 'track',\n",
    "                       'uri': 'spotify:track:5vjLSffimiIP26QG5WcN2K'}],\n",
    "            'limit': 1,\n",
    "            'next': 'https://api.spotify.com/v1/search?query=genre%3Aacoustic&type=track&offset=1&limit=1',\n",
    "            'offset': 0,\n",
    "            'previous': None,\n",
    "            'total': 64838}}\n",
    "```\n",
    "\n"
   ]
  },
  {
   "cell_type": "markdown",
   "metadata": {
    "colab_type": "text",
    "id": "TJx5uikB6xl_"
   },
   "source": [
    "## 問題: 検索結果から曲名を取得して表示してください。"
   ]
  },
  {
   "cell_type": "code",
   "execution_count": null,
   "metadata": {
    "colab": {},
    "colab_type": "code",
    "id": "JL4ZqdDiEHeU"
   },
   "outputs": [],
   "source": []
  },
  {
   "cell_type": "markdown",
   "metadata": {
    "colab_type": "text",
    "id": "mgwP2bnt6r0A"
   },
   "source": [
    "## 解答"
   ]
  },
  {
   "cell_type": "code",
   "execution_count": 40,
   "metadata": {
    "colab": {},
    "colab_type": "code",
    "id": "My4KQ3JQ29HJ"
   },
   "outputs": [
    {
     "name": "stdout",
     "output_type": "stream",
     "text": [
      "[{'album': {'album_type': 'single',\n",
      "            'artists': [{'external_urls': {'spotify': 'https://open.spotify.com/artist/5D3muNJhYYunbRkh3FKgX0'},\n",
      "                         'href': 'https://api.spotify.com/v1/artists/5D3muNJhYYunbRkh3FKgX0',\n",
      "                         'id': '5D3muNJhYYunbRkh3FKgX0',\n",
      "                         'name': 'Chord Overstreet',\n",
      "                         'type': 'artist',\n",
      "                         'uri': 'spotify:artist:5D3muNJhYYunbRkh3FKgX0'}],\n",
      "            'available_markets': ['AD',\n",
      "                                  'AE',\n",
      "                                  'AR',\n",
      "                                  'AT',\n",
      "                                  'AU',\n",
      "                                  'BE',\n",
      "                                  'BG',\n",
      "                                  'BH',\n",
      "                                  'BO',\n",
      "                                  'BR',\n",
      "                                  'CA',\n",
      "                                  'CH',\n",
      "                                  'CL',\n",
      "                                  'CO',\n",
      "                                  'CR',\n",
      "                                  'CY',\n",
      "                                  'CZ',\n",
      "                                  'DE',\n",
      "                                  'DK',\n",
      "                                  'DO',\n",
      "                                  'DZ',\n",
      "                                  'EC',\n",
      "                                  'EE',\n",
      "                                  'EG',\n",
      "                                  'ES',\n",
      "                                  'FI',\n",
      "                                  'FR',\n",
      "                                  'GB',\n",
      "                                  'GR',\n",
      "                                  'GT',\n",
      "                                  'HK',\n",
      "                                  'HN',\n",
      "                                  'HU',\n",
      "                                  'ID',\n",
      "                                  'IE',\n",
      "                                  'IL',\n",
      "                                  'IN',\n",
      "                                  'IS',\n",
      "                                  'IT',\n",
      "                                  'JO',\n",
      "                                  'JP',\n",
      "                                  'KW',\n",
      "                                  'LB',\n",
      "                                  'LI',\n",
      "                                  'LT',\n",
      "                                  'LU',\n",
      "                                  'LV',\n",
      "                                  'MA',\n",
      "                                  'MC',\n",
      "                                  'MT',\n",
      "                                  'MX',\n",
      "                                  'MY',\n",
      "                                  'NI',\n",
      "                                  'NL',\n",
      "                                  'NO',\n",
      "                                  'NZ',\n",
      "                                  'OM',\n",
      "                                  'PA',\n",
      "                                  'PE',\n",
      "                                  'PH',\n",
      "                                  'PL',\n",
      "                                  'PS',\n",
      "                                  'PT',\n",
      "                                  'PY',\n",
      "                                  'QA',\n",
      "                                  'RO',\n",
      "                                  'SA',\n",
      "                                  'SE',\n",
      "                                  'SG',\n",
      "                                  'SK',\n",
      "                                  'SV',\n",
      "                                  'TH',\n",
      "                                  'TN',\n",
      "                                  'TR',\n",
      "                                  'TW',\n",
      "                                  'US',\n",
      "                                  'UY',\n",
      "                                  'VN',\n",
      "                                  'ZA'],\n",
      "            'external_urls': {'spotify': 'https://open.spotify.com/album/2EfmyRWheMtmVTCIsptsLi'},\n",
      "            'href': 'https://api.spotify.com/v1/albums/2EfmyRWheMtmVTCIsptsLi',\n",
      "            'id': '2EfmyRWheMtmVTCIsptsLi',\n",
      "            'images': [{'height': 640,\n",
      "                        'url': 'https://i.scdn.co/image/bbf0818eba3b1fd85a4b737b8464fac1ff9609a8',\n",
      "                        'width': 640},\n",
      "                       {'height': 300,\n",
      "                        'url': 'https://i.scdn.co/image/cea87b9099170adf673a610084f187f60c745fc3',\n",
      "                        'width': 300},\n",
      "                       {'height': 64,\n",
      "                        'url': 'https://i.scdn.co/image/32e22b621cefd4cca9afbdfc7fa86e7e901a8250',\n",
      "                        'width': 64}],\n",
      "            'name': 'Hold On',\n",
      "            'release_date': '2017-02-03',\n",
      "            'release_date_precision': 'day',\n",
      "            'total_tracks': 1,\n",
      "            'type': 'album',\n",
      "            'uri': 'spotify:album:2EfmyRWheMtmVTCIsptsLi'},\n",
      "  'artists': [{'external_urls': {'spotify': 'https://open.spotify.com/artist/5D3muNJhYYunbRkh3FKgX0'},\n",
      "               'href': 'https://api.spotify.com/v1/artists/5D3muNJhYYunbRkh3FKgX0',\n",
      "               'id': '5D3muNJhYYunbRkh3FKgX0',\n",
      "               'name': 'Chord Overstreet',\n",
      "               'type': 'artist',\n",
      "               'uri': 'spotify:artist:5D3muNJhYYunbRkh3FKgX0'}],\n",
      "  'available_markets': ['AD',\n",
      "                        'AE',\n",
      "                        'AR',\n",
      "                        'AT',\n",
      "                        'AU',\n",
      "                        'BE',\n",
      "                        'BG',\n",
      "                        'BH',\n",
      "                        'BO',\n",
      "                        'BR',\n",
      "                        'CA',\n",
      "                        'CH',\n",
      "                        'CL',\n",
      "                        'CO',\n",
      "                        'CR',\n",
      "                        'CY',\n",
      "                        'CZ',\n",
      "                        'DE',\n",
      "                        'DK',\n",
      "                        'DO',\n",
      "                        'DZ',\n",
      "                        'EC',\n",
      "                        'EE',\n",
      "                        'EG',\n",
      "                        'ES',\n",
      "                        'FI',\n",
      "                        'FR',\n",
      "                        'GB',\n",
      "                        'GR',\n",
      "                        'GT',\n",
      "                        'HK',\n",
      "                        'HN',\n",
      "                        'HU',\n",
      "                        'ID',\n",
      "                        'IE',\n",
      "                        'IL',\n",
      "                        'IN',\n",
      "                        'IS',\n",
      "                        'IT',\n",
      "                        'JO',\n",
      "                        'JP',\n",
      "                        'KW',\n",
      "                        'LB',\n",
      "                        'LI',\n",
      "                        'LT',\n",
      "                        'LU',\n",
      "                        'LV',\n",
      "                        'MA',\n",
      "                        'MC',\n",
      "                        'MT',\n",
      "                        'MX',\n",
      "                        'MY',\n",
      "                        'NI',\n",
      "                        'NL',\n",
      "                        'NO',\n",
      "                        'NZ',\n",
      "                        'OM',\n",
      "                        'PA',\n",
      "                        'PE',\n",
      "                        'PH',\n",
      "                        'PL',\n",
      "                        'PS',\n",
      "                        'PT',\n",
      "                        'PY',\n",
      "                        'QA',\n",
      "                        'RO',\n",
      "                        'SA',\n",
      "                        'SE',\n",
      "                        'SG',\n",
      "                        'SK',\n",
      "                        'SV',\n",
      "                        'TH',\n",
      "                        'TN',\n",
      "                        'TR',\n",
      "                        'TW',\n",
      "                        'US',\n",
      "                        'UY',\n",
      "                        'VN',\n",
      "                        'ZA'],\n",
      "  'disc_number': 1,\n",
      "  'duration_ms': 198853,\n",
      "  'explicit': False,\n",
      "  'external_ids': {'isrc': 'USUM71615568'},\n",
      "  'external_urls': {'spotify': 'https://open.spotify.com/track/5vjLSffimiIP26QG5WcN2K'},\n",
      "  'href': 'https://api.spotify.com/v1/tracks/5vjLSffimiIP26QG5WcN2K',\n",
      "  'id': '5vjLSffimiIP26QG5WcN2K',\n",
      "  'is_local': False,\n",
      "  'name': 'Hold On',\n",
      "  'popularity': 77,\n",
      "  'preview_url': None,\n",
      "  'track_number': 1,\n",
      "  'type': 'track',\n",
      "  'uri': 'spotify:track:5vjLSffimiIP26QG5WcN2K'}]\n"
     ]
    }
   ],
   "source": [
    "# tracks > items から検索結果を取得\n",
    "pprint(search_genre['tracks']['items'])"
   ]
  },
  {
   "cell_type": "code",
   "execution_count": 41,
   "metadata": {
    "colab": {},
    "colab_type": "code",
    "id": "wIpt94G_3UeW"
   },
   "outputs": [
    {
     "name": "stdout",
     "output_type": "stream",
     "text": [
      "{'album': {'album_type': 'single',\n",
      "           'artists': [{'external_urls': {'spotify': 'https://open.spotify.com/artist/5D3muNJhYYunbRkh3FKgX0'},\n",
      "                        'href': 'https://api.spotify.com/v1/artists/5D3muNJhYYunbRkh3FKgX0',\n",
      "                        'id': '5D3muNJhYYunbRkh3FKgX0',\n",
      "                        'name': 'Chord Overstreet',\n",
      "                        'type': 'artist',\n",
      "                        'uri': 'spotify:artist:5D3muNJhYYunbRkh3FKgX0'}],\n",
      "           'available_markets': ['AD',\n",
      "                                 'AE',\n",
      "                                 'AR',\n",
      "                                 'AT',\n",
      "                                 'AU',\n",
      "                                 'BE',\n",
      "                                 'BG',\n",
      "                                 'BH',\n",
      "                                 'BO',\n",
      "                                 'BR',\n",
      "                                 'CA',\n",
      "                                 'CH',\n",
      "                                 'CL',\n",
      "                                 'CO',\n",
      "                                 'CR',\n",
      "                                 'CY',\n",
      "                                 'CZ',\n",
      "                                 'DE',\n",
      "                                 'DK',\n",
      "                                 'DO',\n",
      "                                 'DZ',\n",
      "                                 'EC',\n",
      "                                 'EE',\n",
      "                                 'EG',\n",
      "                                 'ES',\n",
      "                                 'FI',\n",
      "                                 'FR',\n",
      "                                 'GB',\n",
      "                                 'GR',\n",
      "                                 'GT',\n",
      "                                 'HK',\n",
      "                                 'HN',\n",
      "                                 'HU',\n",
      "                                 'ID',\n",
      "                                 'IE',\n",
      "                                 'IL',\n",
      "                                 'IN',\n",
      "                                 'IS',\n",
      "                                 'IT',\n",
      "                                 'JO',\n",
      "                                 'JP',\n",
      "                                 'KW',\n",
      "                                 'LB',\n",
      "                                 'LI',\n",
      "                                 'LT',\n",
      "                                 'LU',\n",
      "                                 'LV',\n",
      "                                 'MA',\n",
      "                                 'MC',\n",
      "                                 'MT',\n",
      "                                 'MX',\n",
      "                                 'MY',\n",
      "                                 'NI',\n",
      "                                 'NL',\n",
      "                                 'NO',\n",
      "                                 'NZ',\n",
      "                                 'OM',\n",
      "                                 'PA',\n",
      "                                 'PE',\n",
      "                                 'PH',\n",
      "                                 'PL',\n",
      "                                 'PS',\n",
      "                                 'PT',\n",
      "                                 'PY',\n",
      "                                 'QA',\n",
      "                                 'RO',\n",
      "                                 'SA',\n",
      "                                 'SE',\n",
      "                                 'SG',\n",
      "                                 'SK',\n",
      "                                 'SV',\n",
      "                                 'TH',\n",
      "                                 'TN',\n",
      "                                 'TR',\n",
      "                                 'TW',\n",
      "                                 'US',\n",
      "                                 'UY',\n",
      "                                 'VN',\n",
      "                                 'ZA'],\n",
      "           'external_urls': {'spotify': 'https://open.spotify.com/album/2EfmyRWheMtmVTCIsptsLi'},\n",
      "           'href': 'https://api.spotify.com/v1/albums/2EfmyRWheMtmVTCIsptsLi',\n",
      "           'id': '2EfmyRWheMtmVTCIsptsLi',\n",
      "           'images': [{'height': 640,\n",
      "                       'url': 'https://i.scdn.co/image/bbf0818eba3b1fd85a4b737b8464fac1ff9609a8',\n",
      "                       'width': 640},\n",
      "                      {'height': 300,\n",
      "                       'url': 'https://i.scdn.co/image/cea87b9099170adf673a610084f187f60c745fc3',\n",
      "                       'width': 300},\n",
      "                      {'height': 64,\n",
      "                       'url': 'https://i.scdn.co/image/32e22b621cefd4cca9afbdfc7fa86e7e901a8250',\n",
      "                       'width': 64}],\n",
      "           'name': 'Hold On',\n",
      "           'release_date': '2017-02-03',\n",
      "           'release_date_precision': 'day',\n",
      "           'total_tracks': 1,\n",
      "           'type': 'album',\n",
      "           'uri': 'spotify:album:2EfmyRWheMtmVTCIsptsLi'},\n",
      " 'artists': [{'external_urls': {'spotify': 'https://open.spotify.com/artist/5D3muNJhYYunbRkh3FKgX0'},\n",
      "              'href': 'https://api.spotify.com/v1/artists/5D3muNJhYYunbRkh3FKgX0',\n",
      "              'id': '5D3muNJhYYunbRkh3FKgX0',\n",
      "              'name': 'Chord Overstreet',\n",
      "              'type': 'artist',\n",
      "              'uri': 'spotify:artist:5D3muNJhYYunbRkh3FKgX0'}],\n",
      " 'available_markets': ['AD',\n",
      "                       'AE',\n",
      "                       'AR',\n",
      "                       'AT',\n",
      "                       'AU',\n",
      "                       'BE',\n",
      "                       'BG',\n",
      "                       'BH',\n",
      "                       'BO',\n",
      "                       'BR',\n",
      "                       'CA',\n",
      "                       'CH',\n",
      "                       'CL',\n",
      "                       'CO',\n",
      "                       'CR',\n",
      "                       'CY',\n",
      "                       'CZ',\n",
      "                       'DE',\n",
      "                       'DK',\n",
      "                       'DO',\n",
      "                       'DZ',\n",
      "                       'EC',\n",
      "                       'EE',\n",
      "                       'EG',\n",
      "                       'ES',\n",
      "                       'FI',\n",
      "                       'FR',\n",
      "                       'GB',\n",
      "                       'GR',\n",
      "                       'GT',\n",
      "                       'HK',\n",
      "                       'HN',\n",
      "                       'HU',\n",
      "                       'ID',\n",
      "                       'IE',\n",
      "                       'IL',\n",
      "                       'IN',\n",
      "                       'IS',\n",
      "                       'IT',\n",
      "                       'JO',\n",
      "                       'JP',\n",
      "                       'KW',\n",
      "                       'LB',\n",
      "                       'LI',\n",
      "                       'LT',\n",
      "                       'LU',\n",
      "                       'LV',\n",
      "                       'MA',\n",
      "                       'MC',\n",
      "                       'MT',\n",
      "                       'MX',\n",
      "                       'MY',\n",
      "                       'NI',\n",
      "                       'NL',\n",
      "                       'NO',\n",
      "                       'NZ',\n",
      "                       'OM',\n",
      "                       'PA',\n",
      "                       'PE',\n",
      "                       'PH',\n",
      "                       'PL',\n",
      "                       'PS',\n",
      "                       'PT',\n",
      "                       'PY',\n",
      "                       'QA',\n",
      "                       'RO',\n",
      "                       'SA',\n",
      "                       'SE',\n",
      "                       'SG',\n",
      "                       'SK',\n",
      "                       'SV',\n",
      "                       'TH',\n",
      "                       'TN',\n",
      "                       'TR',\n",
      "                       'TW',\n",
      "                       'US',\n",
      "                       'UY',\n",
      "                       'VN',\n",
      "                       'ZA'],\n",
      " 'disc_number': 1,\n",
      " 'duration_ms': 198853,\n",
      " 'explicit': False,\n",
      " 'external_ids': {'isrc': 'USUM71615568'},\n",
      " 'external_urls': {'spotify': 'https://open.spotify.com/track/5vjLSffimiIP26QG5WcN2K'},\n",
      " 'href': 'https://api.spotify.com/v1/tracks/5vjLSffimiIP26QG5WcN2K',\n",
      " 'id': '5vjLSffimiIP26QG5WcN2K',\n",
      " 'is_local': False,\n",
      " 'name': 'Hold On',\n",
      " 'popularity': 77,\n",
      " 'preview_url': None,\n",
      " 'track_number': 1,\n",
      " 'type': 'track',\n",
      " 'uri': 'spotify:track:5vjLSffimiIP26QG5WcN2K'}\n"
     ]
    }
   ],
   "source": [
    "# 最初のトラックを取得\n",
    "pprint(search_genre['tracks']['items'][0])"
   ]
  },
  {
   "cell_type": "code",
   "execution_count": 42,
   "metadata": {
    "colab": {},
    "colab_type": "code",
    "id": "EN0JrJJ14qbA"
   },
   "outputs": [
    {
     "name": "stdout",
     "output_type": "stream",
     "text": [
      "'Hold On'\n"
     ]
    }
   ],
   "source": [
    "# 曲名を取得\n",
    "pprint(search_genre['tracks']['items'][0]['name'])"
   ]
  },
  {
   "cell_type": "code",
   "execution_count": 43,
   "metadata": {
    "colab": {},
    "colab_type": "code",
    "id": "uV0bOZEM5Iz6"
   },
   "outputs": [
    {
     "name": "stdout",
     "output_type": "stream",
     "text": [
      "'5vjLSffimiIP26QG5WcN2K'\n"
     ]
    }
   ],
   "source": [
    "# 曲のIDを取得\n",
    "pprint(search_genre['tracks']['items'][0]['id'])"
   ]
  },
  {
   "cell_type": "markdown",
   "metadata": {
    "colab_type": "text",
    "id": "4un5CeWyHuKJ"
   },
   "source": [
    "## トラック ID から曲の特徴を取得\n",
    "\n",
    "/tracks/get-several-audio-features API を用いる\n",
    "\n",
    "spotipy では audio_features メソッド\n",
    "\n",
    "* https://developer.spotify.com/documentation/web-api/reference/tracks/get-several-audio-features/\n",
    "* https://spotipy.readthedocs.io/en/latest/#spotipy.client.Spotify.audio_features"
   ]
  },
  {
   "cell_type": "markdown",
   "metadata": {
    "colab_type": "text",
    "id": "TPiYqEKmIRkp"
   },
   "source": [
    "danceability\n",
    "\n",
    "danceability(踊りやすさ)は、テンポ、リズムの安定性、ビートの強さ、全体的な規則性などの音楽要素の組み合わせに基づいて、ダンスのための曲であるかを示します。0.0の値は、最も踊りずらいことを、1.0は、最も踊りやすいことを示します。\n",
    "\n",
    "energy\n",
    "\n",
    "エネルギーは、0.0から1.0の指標で、強度およびアクティブ度を表します。一般的には、エネルギッシュなトラックは、速く、音が大きく、騒々しい感じがします。例えば、デスメタルは高いエネルギーを持っていますが、バッハのプレリュードは低い値になります。この属性に寄与する知覚的属性は、ダイナミックレンジ、聴覚が感じる音量、音色、開始時点のレート、および一般的なエントロピーを含みます。\n",
    "\n",
    "loudness\n",
    "\n",
    "ラウドネスは、曲の全体的な音量をデシベル（dB）で表したものです。値は曲全体で平均化され、他の曲との相対的なラウドネスを比較するのに役立ちます。値の典型的な範囲は-60から0dbです。\n",
    "\n",
    "speechiness\n",
    "\n",
    "スピーチは、曲の中で話された単語の存在を検出します。録音（例えば、トークショー、オーディオブック、詩）のように、音声が占める割合が大きくなるほど、値は1.0に近くなります。0.66を超える値は、ほぼ完全に発声された単語で構成されている曲を表します。0.33と0.66の間の値は、ラップ音楽などのセクションまたはレイヤーのいずれかで、音楽とスピーチの両方を含む可能性がある曲を表します。0.33未満の値は、音楽やその他の非音声のような曲を表す可能性がかなり高いことを示します。\n",
    "\n",
    "acousticness\n",
    "\n",
    "曲がアコースティックかどうかを示す0.0から1.0の指標です。 1.0は曲がアコースティックであるということが高いということを意味します。\n",
    "\n",
    "instrumentalness\n",
    "\n",
    "曲にボーカルがないかどうかを予測します。この指標では、 “オー(Ooh)”とか “アー(aah)”の音は楽器の出した音として扱われます。ラップや話し言葉はボーカルとして扱われます。インストゥルメンタルネスの値が1.0に近いほど、曲にはボーカル・コンテンツが含まれていない可能性が高くなります。 0.5を超える値は、インストゥルメンタルの曲が通常示す値ですが、値が1.0に近づくほど信頼度が高くなります。\n",
    "\n",
    "liveness\n",
    "\n",
    "録音中に聴衆が存在したかを検出します。この値が高いほど、曲がライブで実行された可能性が高くなります。値が0.8を超えると、曲がライブである可能性が高くなります。\n",
    "\n",
    "valence\n",
    "\n",
    "曲が伝える音楽のポジティブ性を表す0.0から1.0の尺度。この指数の高い値の曲はより陽性（例えば、幸せ、陽気、陶酔）であり、低い指数の曲はより陰性となります（例えば、悲しい、落ち込んだ、怒る）。\n",
    "\n",
    "tempo\n",
    "\n",
    "曲の全体的な推定テンポ。1分あたりのビート(BPM)。音楽用語では、テンポは、ある曲のスピードまたはペースであり、平均ビート期間から導出されます。\n",
    "\n",
    "\n",
    "以下の記事より引用\n",
    "https://exploratory.io/note/2ac8ae888097/SpotifyJRockRockHard-Rock-7183595689717906"
   ]
  },
  {
   "cell_type": "code",
   "execution_count": 44,
   "metadata": {
    "colab": {},
    "colab_type": "code",
    "id": "2omnaCfrM6yI"
   },
   "outputs": [
    {
     "name": "stdout",
     "output_type": "stream",
     "text": [
      "[{'acousticness': 0.469,\n",
      "  'analysis_url': 'https://api.spotify.com/v1/audio-analysis/5vjLSffimiIP26QG5WcN2K',\n",
      "  'danceability': 0.618,\n",
      "  'duration_ms': 198853,\n",
      "  'energy': 0.443,\n",
      "  'id': '5vjLSffimiIP26QG5WcN2K',\n",
      "  'instrumentalness': 0,\n",
      "  'key': 2,\n",
      "  'liveness': 0.0829,\n",
      "  'loudness': -9.681,\n",
      "  'mode': 1,\n",
      "  'speechiness': 0.0526,\n",
      "  'tempo': 119.949,\n",
      "  'time_signature': 4,\n",
      "  'track_href': 'https://api.spotify.com/v1/tracks/5vjLSffimiIP26QG5WcN2K',\n",
      "  'type': 'audio_features',\n",
      "  'uri': 'spotify:track:5vjLSffimiIP26QG5WcN2K',\n",
      "  'valence': 0.167}]\n"
     ]
    }
   ],
   "source": [
    "# 曲の特徴を取得\n",
    "pprint(sp.audio_features(tracks=[search_genre['tracks']['items'][0]['id']]))"
   ]
  },
  {
   "cell_type": "markdown",
   "metadata": {
    "colab_type": "text",
    "id": "SzD-_vxFWibp"
   },
   "source": [
    "\n",
    "\n",
    "```\n",
    "[{'acousticness': 0.469,\n",
    "  'analysis_url': 'https://api.spotify.com/v1/audio-analysis/5vjLSffimiIP26QG5WcN2K',\n",
    "  'danceability': 0.618,\n",
    "  'duration_ms': 198853,\n",
    "  'energy': 0.443,\n",
    "  'id': '5vjLSffimiIP26QG5WcN2K',\n",
    "  'instrumentalness': 0,\n",
    "  'key': 2,\n",
    "  'liveness': 0.0829,\n",
    "  'loudness': -9.681,\n",
    "  'mode': 1,\n",
    "  'speechiness': 0.0526,\n",
    "  'tempo': 119.949,\n",
    "  'time_signature': 4,\n",
    "  'track_href': 'https://api.spotify.com/v1/tracks/5vjLSffimiIP26QG5WcN2K',\n",
    "  'type': 'audio_features',\n",
    "  'uri': 'spotify:track:5vjLSffimiIP26QG5WcN2K',\n",
    "  'valence': 0.167}]\n",
    "```\n",
    "\n"
   ]
  },
  {
   "cell_type": "markdown",
   "metadata": {
    "colab_type": "text",
    "id": "8Ty0tVtpsULH"
   },
   "source": [
    "## ジャンル毎に100曲を取得"
   ]
  },
  {
   "cell_type": "code",
   "execution_count": null,
   "metadata": {
    "colab": {},
    "colab_type": "code",
    "id": "IkHVgMNuW4xI"
   },
   "outputs": [],
   "source": [
    "# キーを定数に保存\n",
    "ACOUSTICNESS = 'acousticness'\n",
    "DANCEABILITY = 'danceability'\n",
    "INSTRUMENTALNESS = 'instrumentalness'\n",
    "LIVENESS = 'liveness'\n",
    "LOUDNESS = 'loudness'\n",
    "SPEECHINESS = 'speechiness'\n",
    "TEMPO = 'tempo'\n",
    "VALENCE = 'valence'"
   ]
  },
  {
   "cell_type": "code",
   "execution_count": null,
   "metadata": {
    "colab": {},
    "colab_type": "code",
    "id": "A4zK5tA9sYaw"
   },
   "outputs": [],
   "source": [
    "# データ格納用のdictionaryを用意\n",
    "tracks = {}\n",
    "tracks['id'] = []\n",
    "tracks['name'] = []\n",
    "tracks['genre'] = []\n",
    "tracks[ACOUSTICNESS] = []\n",
    "tracks[DANCEABILITY] = []\n",
    "tracks[INSTRUMENTALNESS] = []\n",
    "tracks[LIVENESS] = []\n",
    "tracks[LOUDNESS] = []\n",
    "tracks[SPEECHINESS] = []\n",
    "tracks[TEMPO] = []\n",
    "tracks[VALENCE] = []"
   ]
  },
  {
   "cell_type": "code",
   "execution_count": null,
   "metadata": {
    "colab": {},
    "colab_type": "code",
    "id": "NouNhOoov0Tf"
   },
   "outputs": [],
   "source": [
    "# ジャンル毎に1000個のトラックを取得し、tracks に保存\n",
    "TRACK_COUNT_PER_GENRE = 100 # ジャンル毎の曲数\n",
    "TRACK_COUNT_PER_SEARCH = 50 # 1回の検索で取得する曲数\n",
    "SEARCH_COUNT = int(TRACK_COUNT_PER_GENRE / TRACK_COUNT_PER_SEARCH) # 検索を行う回数 - この場合は2回になる\n",
    "\n",
    "for genre in genres_df['genres']:\n",
    "  for search_count in range(SEARCH_COUNT):\n",
    "    query = 'genre:' + genre # ジャンルで検索するようにクエリを作成\n",
    "    offset = TRACK_COUNT_PER_SEARCH * search_count # offsetで検索結果をページのようにズラしていく\n",
    "    search_results = sp.search(q=query, type='track', offset=offset, limit=TRACK_COUNT_PER_SEARCH) # 検索を行う\n",
    "    # items が空の場合は、そのジャンルの取得を終了\n",
    "    if not search_results['tracks']['items']: \n",
    "      break\n",
    "    # 取得したトラックのID\n",
    "    track_ids = []\n",
    "    # 各トラックに対して id などを track_ids, tracks に保存\n",
    "    for track in search_results['tracks']['items']:\n",
    "      track_ids.append(track.get('id'))\n",
    "      tracks['id'].append(track.get('id'))\n",
    "      tracks['name'].append(track.get('name'))\n",
    "      tracks['genre'].append(genre)\n",
    "    # 曲の特徴を取得\n",
    "    audio_features = sp.audio_features(tracks=track_ids)\n",
    "    # 各トラックに対して、曲の特徴を tracks に保存\n",
    "    for audio_feature in audio_features:\n",
    "      tracks[ACOUSTICNESS].append(audio_feature.get(ACOUSTICNESS))\n",
    "      tracks[DANCEABILITY].append(audio_feature.get(DANCEABILITY))\n",
    "      tracks[INSTRUMENTALNESS].append(audio_feature.get(INSTRUMENTALNESS))\n",
    "      tracks[LIVENESS].append(audio_feature.get(LIVENESS))\n",
    "      tracks[LOUDNESS].append(audio_feature.get(LOUDNESS))\n",
    "      tracks[SPEECHINESS].append(audio_feature.get(SPEECHINESS))\n",
    "      tracks[TEMPO].append(audio_feature.get(TEMPO))\n",
    "      tracks[VALENCE].append(audio_feature.get(VALENCE))"
   ]
  },
  {
   "cell_type": "code",
   "execution_count": null,
   "metadata": {
    "colab": {},
    "colab_type": "code",
    "id": "XQz5od5aE0Ov"
   },
   "outputs": [],
   "source": [
    "for key in tracks:\n",
    "  print(f'{key}: {len(tracks[key])}')"
   ]
  },
  {
   "cell_type": "code",
   "execution_count": null,
   "metadata": {
    "colab": {},
    "colab_type": "code",
    "id": "r78PVwjUF3Es"
   },
   "outputs": [],
   "source": [
    "tracks_df = pd.DataFrame(tracks)"
   ]
  },
  {
   "cell_type": "code",
   "execution_count": null,
   "metadata": {
    "colab": {},
    "colab_type": "code",
    "id": "JjeB6WPxQB1T"
   },
   "outputs": [],
   "source": [
    "tracks_df"
   ]
  },
  {
   "cell_type": "markdown",
   "metadata": {
    "colab_type": "text",
    "id": "9jnQhFx4Mp1y"
   },
   "source": [
    "ジャンルの数と曲数が合わない理由\n",
    "\n",
    "どのトラックにも該当しないジャンルがある"
   ]
  },
  {
   "cell_type": "code",
   "execution_count": null,
   "metadata": {
    "colab": {},
    "colab_type": "code",
    "id": "21eZ3Z0BJ_DI"
   },
   "outputs": [],
   "source": [
    "tracks_df['genre'].unique()"
   ]
  },
  {
   "cell_type": "code",
   "execution_count": null,
   "metadata": {
    "colab": {},
    "colab_type": "code",
    "id": "7uxI5mZwKkz3"
   },
   "outputs": [],
   "source": [
    "genres_df['genres'].unique()"
   ]
  },
  {
   "cell_type": "markdown",
   "metadata": {
    "colab_type": "text",
    "id": "sFDyedlXsWXZ"
   },
   "source": [
    "## 課題\n",
    "tracks_df のデータを seaborn などで可視化してグラフに表示してください。"
   ]
  },
  {
   "cell_type": "code",
   "execution_count": null,
   "metadata": {},
   "outputs": [],
   "source": []
  },
  {
   "cell_type": "markdown",
   "metadata": {},
   "source": [
    "## Spotify データでトレンドを推定する。(時系列分析)\n",
    "\n",
    "### 時系列分析とは?\n",
    "時間とともに変化する現象を分析する事\n",
    "ex) 株価推移の予測, ウィルスの感染者推移など\n",
    "\n",
    "今回はARIMAモデル（自己回帰和分移動平均モデル)を用いて、トレンドをストリーミング数を予測する。"
   ]
  },
  {
   "cell_type": "code",
   "execution_count": 3,
   "metadata": {
    "colab": {},
    "colab_type": "code",
    "id": "RfR6ptzaYP4W"
   },
   "outputs": [
    {
     "ename": "NameError",
     "evalue": "name 'pd' is not defined",
     "output_type": "error",
     "traceback": [
      "\u001b[0;31m---------------------------------------------------------------------------\u001b[0m",
      "\u001b[0;31mNameError\u001b[0m                                 Traceback (most recent call last)",
      "\u001b[0;32m<ipython-input-3-6ebacc53c060>\u001b[0m in \u001b[0;36m<module>\u001b[0;34m\u001b[0m\n\u001b[1;32m      2\u001b[0m \u001b[0;31m# spotify_streaming= pd.read_csv(\"./files/Spotify_Daily_Streaming.csv\")\u001b[0m\u001b[0;34m\u001b[0m\u001b[0;34m\u001b[0m\u001b[0;34m\u001b[0m\u001b[0m\n\u001b[1;32m      3\u001b[0m \u001b[0;31m# date型に変換\u001b[0m\u001b[0;34m\u001b[0m\u001b[0;34m\u001b[0m\u001b[0;34m\u001b[0m\u001b[0m\n\u001b[0;32m----> 4\u001b[0;31m \u001b[0mspotify_streaming\u001b[0m\u001b[0;34m[\u001b[0m\u001b[0;34m\"Date\"\u001b[0m\u001b[0;34m]\u001b[0m \u001b[0;34m=\u001b[0m\u001b[0mpd\u001b[0m\u001b[0;34m.\u001b[0m\u001b[0mto_datetime\u001b[0m\u001b[0;34m(\u001b[0m\u001b[0mspotify_streaming\u001b[0m\u001b[0;34m[\u001b[0m\u001b[0;34m\"Date\"\u001b[0m\u001b[0;34m]\u001b[0m\u001b[0;34m)\u001b[0m\u001b[0;34m\u001b[0m\u001b[0;34m\u001b[0m\u001b[0m\n\u001b[0m",
      "\u001b[0;31mNameError\u001b[0m: name 'pd' is not defined"
     ]
    }
   ],
   "source": [
    "#ストリーミングランキングを取得\n",
    "# spotify_streaming= pd.read_csv(\"./files/Spotify_Daily_Streaming.csv\")\n",
    "# date型に変換\n",
    "spotify_streaming[\"Date\"] =pd.to_datetime(spotify_streaming[\"Date\"])"
   ]
  },
  {
   "cell_type": "markdown",
   "metadata": {
    "toc-hr-collapsed": false
   },
   "source": [
    "## ストリーミングランキングを保存 & ロード"
   ]
  },
  {
   "cell_type": "code",
   "execution_count": 1,
   "metadata": {},
   "outputs": [],
   "source": [
    "# from util.util import ps_dump, ps_load,get_var_names\n",
    "# ps_dump(get_var_names(spotify_streaming))\n",
    "# spotify_streaming \n",
    "import pickle\n",
    "import pandas as pd\n",
    "# with open(\"./files/spotify_streaming.pkl\", \"wb\") as f:\n",
    "#     pickle.dump(spotify_streaming,f)\n",
    "with open(\"./files/spotify_streaming.pkl\", \"rb\") as f:\n",
    "    spotify_streaming = pickle.load(f)\n"
   ]
  },
  {
   "cell_type": "code",
   "execution_count": 2,
   "metadata": {},
   "outputs": [
    {
     "data": {
      "text/html": [
       "<div>\n",
       "<style scoped>\n",
       "    .dataframe tbody tr th:only-of-type {\n",
       "        vertical-align: middle;\n",
       "    }\n",
       "\n",
       "    .dataframe tbody tr th {\n",
       "        vertical-align: top;\n",
       "    }\n",
       "\n",
       "    .dataframe thead th {\n",
       "        text-align: right;\n",
       "    }\n",
       "</style>\n",
       "<table border=\"1\" class=\"dataframe\">\n",
       "  <thead>\n",
       "    <tr style=\"text-align: right;\">\n",
       "      <th></th>\n",
       "      <th>Date</th>\n",
       "      <th>Track URL</th>\n",
       "      <th>Position</th>\n",
       "      <th>Track Name</th>\n",
       "      <th>Artist</th>\n",
       "      <th>Streams</th>\n",
       "      <th>Country</th>\n",
       "    </tr>\n",
       "  </thead>\n",
       "  <tbody>\n",
       "    <tr>\n",
       "      <th>0</th>\n",
       "      <td>2017-07-20</td>\n",
       "      <td>https://open.spotify.com/track/3RXkboS74UYzN14...</td>\n",
       "      <td>1</td>\n",
       "      <td>NaN</td>\n",
       "      <td>NaN</td>\n",
       "      <td>3457</td>\n",
       "      <td>Lithuania</td>\n",
       "    </tr>\n",
       "    <tr>\n",
       "      <th>1</th>\n",
       "      <td>2018-07-31</td>\n",
       "      <td>https://open.spotify.com/track/77wz2VtAwxAwYOG...</td>\n",
       "      <td>1</td>\n",
       "      <td>Miljonair (feat. SBMG, Lil' Kleine, Boef &amp; Ron...</td>\n",
       "      <td>$hirak</td>\n",
       "      <td>238729</td>\n",
       "      <td>Netherlands</td>\n",
       "    </tr>\n",
       "    <tr>\n",
       "      <th>2</th>\n",
       "      <td>2018-08-02</td>\n",
       "      <td>https://open.spotify.com/track/77wz2VtAwxAwYOG...</td>\n",
       "      <td>1</td>\n",
       "      <td>Miljonair (feat. SBMG, Lil' Kleine, Boef &amp; Ron...</td>\n",
       "      <td>$hirak</td>\n",
       "      <td>245639</td>\n",
       "      <td>Netherlands</td>\n",
       "    </tr>\n",
       "    <tr>\n",
       "      <th>3</th>\n",
       "      <td>2017-07-23</td>\n",
       "      <td>https://open.spotify.com/track/6mw02h3qbWmuq2b...</td>\n",
       "      <td>1</td>\n",
       "      <td>Millionär</td>\n",
       "      <td>187 Strassenbande</td>\n",
       "      <td>387632</td>\n",
       "      <td>Germany</td>\n",
       "    </tr>\n",
       "    <tr>\n",
       "      <th>4</th>\n",
       "      <td>2018-06-29</td>\n",
       "      <td>https://open.spotify.com/track/2iUXsYOEPhVqEBw...</td>\n",
       "      <td>1</td>\n",
       "      <td>Youngblood</td>\n",
       "      <td>5 Seconds of Summer</td>\n",
       "      <td>261795</td>\n",
       "      <td>Australia</td>\n",
       "    </tr>\n",
       "  </tbody>\n",
       "</table>\n",
       "</div>"
      ],
      "text/plain": [
       "        Date                                          Track URL  Position  \\\n",
       "0 2017-07-20  https://open.spotify.com/track/3RXkboS74UYzN14...         1   \n",
       "1 2018-07-31  https://open.spotify.com/track/77wz2VtAwxAwYOG...         1   \n",
       "2 2018-08-02  https://open.spotify.com/track/77wz2VtAwxAwYOG...         1   \n",
       "3 2017-07-23  https://open.spotify.com/track/6mw02h3qbWmuq2b...         1   \n",
       "4 2018-06-29  https://open.spotify.com/track/2iUXsYOEPhVqEBw...         1   \n",
       "\n",
       "                                          Track Name               Artist  \\\n",
       "0                                                NaN                  NaN   \n",
       "1  Miljonair (feat. SBMG, Lil' Kleine, Boef & Ron...               $hirak   \n",
       "2  Miljonair (feat. SBMG, Lil' Kleine, Boef & Ron...               $hirak   \n",
       "3                                          Millionär    187 Strassenbande   \n",
       "4                                         Youngblood  5 Seconds of Summer   \n",
       "\n",
       "   Streams      Country  \n",
       "0     3457    Lithuania  \n",
       "1   238729  Netherlands  \n",
       "2   245639  Netherlands  \n",
       "3   387632      Germany  \n",
       "4   261795    Australia  "
      ]
     },
     "execution_count": 2,
     "metadata": {},
     "output_type": "execute_result"
    }
   ],
   "source": [
    "spotify_streaming.head()\n",
    "# Date：取得日にち, Track URL:曲のURL, Position :順位, Track Name: 曲名, Artist: アーティスト名, Streams: 再生回数, Country:国"
   ]
  },
  {
   "cell_type": "code",
   "execution_count": 3,
   "metadata": {},
   "outputs": [
    {
     "data": {
      "text/html": [
       "<div>\n",
       "<style scoped>\n",
       "    .dataframe tbody tr th:only-of-type {\n",
       "        vertical-align: middle;\n",
       "    }\n",
       "\n",
       "    .dataframe tbody tr th {\n",
       "        vertical-align: top;\n",
       "    }\n",
       "\n",
       "    .dataframe thead th {\n",
       "        text-align: right;\n",
       "    }\n",
       "</style>\n",
       "<table border=\"1\" class=\"dataframe\">\n",
       "  <thead>\n",
       "    <tr style=\"text-align: right;\">\n",
       "      <th></th>\n",
       "      <th></th>\n",
       "      <th></th>\n",
       "      <th>Streams</th>\n",
       "    </tr>\n",
       "    <tr>\n",
       "      <th>Track URL</th>\n",
       "      <th>Artist</th>\n",
       "      <th>Track Name</th>\n",
       "      <th></th>\n",
       "    </tr>\n",
       "  </thead>\n",
       "  <tbody>\n",
       "    <tr>\n",
       "      <th>https://open.spotify.com/track/7qiZfU4dY1lWllzX7mPBI3</th>\n",
       "      <th>Ed Sheeran</th>\n",
       "      <th>Shape of You</th>\n",
       "      <td>19198274</td>\n",
       "    </tr>\n",
       "    <tr>\n",
       "      <th>https://open.spotify.com/track/4IouQaO9GkaHC7AtMErdSa</th>\n",
       "      <th>DAOKO×米津玄師</th>\n",
       "      <th>打上花火</th>\n",
       "      <td>14040152</td>\n",
       "    </tr>\n",
       "    <tr>\n",
       "      <th>https://open.spotify.com/track/59eluCMn0XbOWqeWQ91FTM</th>\n",
       "      <th>Aimyon</th>\n",
       "      <th>君はロックを聴かない</th>\n",
       "      <td>12872578</td>\n",
       "    </tr>\n",
       "    <tr>\n",
       "      <th>https://open.spotify.com/track/7CmWXD3w1xOO53AAO4LRVQ</th>\n",
       "      <th>Superfly</th>\n",
       "      <th>愛をこめて花束を</th>\n",
       "      <td>12373371</td>\n",
       "    </tr>\n",
       "    <tr>\n",
       "      <th>https://open.spotify.com/track/0ve9Tpz8Yw0I4eXhWsy21o</th>\n",
       "      <th>[ALEXANDROS]</th>\n",
       "      <th>ワタリドリ</th>\n",
       "      <td>12302172</td>\n",
       "    </tr>\n",
       "    <tr>\n",
       "      <th>https://open.spotify.com/track/46gSY0U7ZZCmd7EuJuo15N</th>\n",
       "      <th>AAA</th>\n",
       "      <th>恋音と雨空</th>\n",
       "      <td>12184666</td>\n",
       "    </tr>\n",
       "    <tr>\n",
       "      <th>https://open.spotify.com/track/7swIKcU4tFRk4iFJpi12Fg</th>\n",
       "      <th>MONGOL800</th>\n",
       "      <th>小さな恋のうた</th>\n",
       "      <td>12005169</td>\n",
       "    </tr>\n",
       "    <tr>\n",
       "      <th>https://open.spotify.com/track/0YAMQSmHk6BSUGTYpaoqTJ</th>\n",
       "      <th>ONE OK ROCK</th>\n",
       "      <th>Wherever you are</th>\n",
       "      <td>11954194</td>\n",
       "    </tr>\n",
       "    <tr>\n",
       "      <th>https://open.spotify.com/track/2gasr6aemUqZIBBN05EO03</th>\n",
       "      <th>Shota Shimizu</th>\n",
       "      <th>My Boo</th>\n",
       "      <td>11604135</td>\n",
       "    </tr>\n",
       "    <tr>\n",
       "      <th>https://open.spotify.com/track/77lmDcPPyY6kK907gdgC6i</th>\n",
       "      <th>Mr.Children</th>\n",
       "      <th>HANABI</th>\n",
       "      <td>10300233</td>\n",
       "    </tr>\n",
       "    <tr>\n",
       "      <th>https://open.spotify.com/track/7iXHLtPosbHvglVSJ4rxLq</th>\n",
       "      <th>GReeeeN</th>\n",
       "      <th>愛唄</th>\n",
       "      <td>10118455</td>\n",
       "    </tr>\n",
       "    <tr>\n",
       "      <th>https://open.spotify.com/track/7BKLCZ1jbUBVqRi2FVlTVw</th>\n",
       "      <th>The Chainsmokers</th>\n",
       "      <th>Closer</th>\n",
       "      <td>9768546</td>\n",
       "    </tr>\n",
       "    <tr>\n",
       "      <th>https://open.spotify.com/track/0N8Xztr4pBHJ7V0moJWhbO</th>\n",
       "      <th>Aimyon</th>\n",
       "      <th>愛を伝えたいだとか</th>\n",
       "      <td>9393932</td>\n",
       "    </tr>\n",
       "    <tr>\n",
       "      <th>https://open.spotify.com/track/2cKiHG16JBiqHdi7Llq0r7</th>\n",
       "      <th>Aimyon</th>\n",
       "      <th>マリーゴールド</th>\n",
       "      <td>9385615</td>\n",
       "    </tr>\n",
       "    <tr>\n",
       "      <th>https://open.spotify.com/track/7ztdl6cnbJgHRdMkKldkts</th>\n",
       "      <th>GReeeeN</th>\n",
       "      <th>キセキ</th>\n",
       "      <td>9314273</td>\n",
       "    </tr>\n",
       "    <tr>\n",
       "      <th>https://open.spotify.com/track/0QKmcZNAST4GytJYmkN05D</th>\n",
       "      <th>Masaki Suda</th>\n",
       "      <th>Sayonara Elegy</th>\n",
       "      <td>9107300</td>\n",
       "    </tr>\n",
       "    <tr>\n",
       "      <th>https://open.spotify.com/track/22aZD7yaGYfhgCYazL4nbc</th>\n",
       "      <th>HY</th>\n",
       "      <th>366日</th>\n",
       "      <td>8946691</td>\n",
       "    </tr>\n",
       "    <tr>\n",
       "      <th>https://open.spotify.com/track/0V2axJ946WH1vt9t5SGMLV</th>\n",
       "      <th>AI</th>\n",
       "      <th>Story</th>\n",
       "      <td>8613668</td>\n",
       "    </tr>\n",
       "    <tr>\n",
       "      <th>https://open.spotify.com/track/6RUKPb4LETWmmr3iAEQktW</th>\n",
       "      <th>The Chainsmokers</th>\n",
       "      <th>Something Just Like This</th>\n",
       "      <td>8063436</td>\n",
       "    </tr>\n",
       "    <tr>\n",
       "      <th>https://open.spotify.com/track/7vwXjDrZT2mqiFynlEwwgG</th>\n",
       "      <th>AAA</th>\n",
       "      <th>さよならの前に</th>\n",
       "      <td>7909565</td>\n",
       "    </tr>\n",
       "  </tbody>\n",
       "</table>\n",
       "</div>"
      ],
      "text/plain": [
       "                                                                                               Streams\n",
       "Track URL                                          Artist           Track Name                        \n",
       "https://open.spotify.com/track/7qiZfU4dY1lWllzX... Ed Sheeran       Shape of You              19198274\n",
       "https://open.spotify.com/track/4IouQaO9GkaHC7At... DAOKO×米津玄師       打上花火                      14040152\n",
       "https://open.spotify.com/track/59eluCMn0XbOWqeW... Aimyon           君はロックを聴かない                12872578\n",
       "https://open.spotify.com/track/7CmWXD3w1xOO53AA... Superfly         愛をこめて花束を                  12373371\n",
       "https://open.spotify.com/track/0ve9Tpz8Yw0I4eXh... [ALEXANDROS]     ワタリドリ                     12302172\n",
       "https://open.spotify.com/track/46gSY0U7ZZCmd7Eu... AAA              恋音と雨空                     12184666\n",
       "https://open.spotify.com/track/7swIKcU4tFRk4iFJ... MONGOL800        小さな恋のうた                   12005169\n",
       "https://open.spotify.com/track/0YAMQSmHk6BSUGTY... ONE OK ROCK      Wherever you are          11954194\n",
       "https://open.spotify.com/track/2gasr6aemUqZIBBN... Shota Shimizu    My Boo                    11604135\n",
       "https://open.spotify.com/track/77lmDcPPyY6kK907... Mr.Children      HANABI                    10300233\n",
       "https://open.spotify.com/track/7iXHLtPosbHvglVS... GReeeeN          愛唄                        10118455\n",
       "https://open.spotify.com/track/7BKLCZ1jbUBVqRi2... The Chainsmokers Closer                     9768546\n",
       "https://open.spotify.com/track/0N8Xztr4pBHJ7V0m... Aimyon           愛を伝えたいだとか                  9393932\n",
       "https://open.spotify.com/track/2cKiHG16JBiqHdi7... Aimyon           マリーゴールド                    9385615\n",
       "https://open.spotify.com/track/7ztdl6cnbJgHRdMk... GReeeeN          キセキ                        9314273\n",
       "https://open.spotify.com/track/0QKmcZNAST4GytJY... Masaki Suda      Sayonara Elegy             9107300\n",
       "https://open.spotify.com/track/22aZD7yaGYfhgCYa... HY               366日                       8946691\n",
       "https://open.spotify.com/track/0V2axJ946WH1vt9t... AI               Story                      8613668\n",
       "https://open.spotify.com/track/6RUKPb4LETWmmr3i... The Chainsmokers Something Just Like This   8063436\n",
       "https://open.spotify.com/track/7vwXjDrZT2mqiFyn... AAA              さよならの前に                    7909565"
      ]
     },
     "execution_count": 3,
     "metadata": {},
     "output_type": "execute_result"
    }
   ],
   "source": [
    "#累計ストリーミング再生回数トップ２０を表示\n",
    "spotify_streaming[spotify_streaming.Country == \"Japan\"] \\\n",
    ".groupby([\"Track URL\",\"Artist\",\"Track Name\"]) \\\n",
    ".sum() \\\n",
    ".sort_values(\"Streams\",ascending=False) \\\n",
    ".drop(\"Position\", axis=1) \\\n",
    ".iloc[:20,:]\n",
    "\n"
   ]
  },
  {
   "cell_type": "markdown",
   "metadata": {
    "toc-hr-collapsed": false
   },
   "source": [
    "## shape of you のトレンドをみてみる\n",
    "できれば、季節性の考慮したトレンド推定モデルSARIMAを使いたいので、打ち上げ花火とかもみてみるか\n",
    "\n",
    "### 自己回帰（Auto Regression）モデル\n",
    "現在のデータは、過去のデータからどれだけ変化したかで表すことができるモデル。\n",
    "\n",
    "現在のデータ = 過去データ + ランダムの変化量\n",
    "### 移動平均(Moving Average)モデル\n",
    "\n",
    "現在のデータを、平均値＋ある時点までのホワイトノイズ（満遍なく出現されるランダムな数字）の合計+それらを調整する定数で表現することができるモデル(移動平均の計算と異なることに注意！）\n",
    "\n",
    "## それを合わせたのをARMAモデルと呼ぶ\n",
    "\n",
    "→でもそれだと非定常性の時系列に対応できない。。。。\n",
    "### 定常、非定常とは\n",
    "続く...\n",
    "## 非定常過程（ここでは和分過程と呼ぶ)に対しても推定できるようにするのがARIMAモデル\n",
    "さらに、季節などといった周期性のあるものを捉えられるようにするために必要なのがSARIMAモデル"
   ]
  },
  {
   "cell_type": "code",
   "execution_count": 4,
   "metadata": {},
   "outputs": [],
   "source": [
    "track_url_SoY =\"https://open.spotify.com/track/7qiZfU4dY1lWllzX7mPBI3\"\n",
    "track_url_Utiage =\"https://open.spotify.com/track/4IouQaO9GkaHC7AtMErdSa\""
   ]
  },
  {
   "cell_type": "code",
   "execution_count": 5,
   "metadata": {},
   "outputs": [],
   "source": [
    "SoY_trend = spotify_streaming[(spotify_streaming[\"Track URL\"] == track_url_SoY) & (spotify_streaming.Country == \"Japan\")].sort_values(\"Date\")\n",
    "Utiage_trend = spotify_streaming[(spotify_streaming[\"Track URL\"] == track_url_Utiage) & (spotify_streaming.Country == \"Japan\")].sort_values(\"Date\")\n",
    "wataridori_trend = spotify_streaming[(spotify_streaming[\"Track URL\"] == \"https://open.spotify.com/track/0ve9Tpz8Yw0I4eXhWsy21o\") & (spotify_streaming.Country == \"Japan\")].sort_values(\"Date\")\n"
   ]
  },
  {
   "cell_type": "code",
   "execution_count": null,
   "metadata": {},
   "outputs": [],
   "source": [
    "SoY_trend.head()"
   ]
  },
  {
   "cell_type": "code",
   "execution_count": null,
   "metadata": {},
   "outputs": [],
   "source": []
  },
  {
   "cell_type": "code",
   "execution_count": 14,
   "metadata": {},
   "outputs": [
    {
     "data": {
      "text/plain": [
       "<matplotlib.axes._subplots.AxesSubplot at 0x7eff04343210>"
      ]
     },
     "execution_count": 14,
     "metadata": {},
     "output_type": "execute_result"
    },
    {
     "data": {
      "image/png": "[encoded data removed]",
      "text/plain": [
       "<Figure size 720x720 with 1 Axes>"
      ]
     },
     "metadata": {
      "needs_background": "light"
     },
     "output_type": "display_data"
    }
   ],
   "source": [
    "# 今までのトレンド\n",
    "\n",
    "import seaborn as sns\n",
    "import matplotlib.pyplot as plt\n",
    "%matplotlib inline\n",
    "plt.subplots( figsize=(10, 10))\n",
    "sns.lineplot(x=\"Date\",y=\"Streams\",data=wataridori_trend )"
   ]
  },
  {
   "cell_type": "code",
   "execution_count": 7,
   "metadata": {},
   "outputs": [
    {
     "data": {
      "text/html": [
       "<div>\n",
       "<style scoped>\n",
       "    .dataframe tbody tr th:only-of-type {\n",
       "        vertical-align: middle;\n",
       "    }\n",
       "\n",
       "    .dataframe tbody tr th {\n",
       "        vertical-align: top;\n",
       "    }\n",
       "\n",
       "    .dataframe thead th {\n",
       "        text-align: right;\n",
       "    }\n",
       "</style>\n",
       "<table border=\"1\" class=\"dataframe\">\n",
       "  <thead>\n",
       "    <tr style=\"text-align: right;\">\n",
       "      <th></th>\n",
       "      <th>Date</th>\n",
       "      <th>Track URL</th>\n",
       "      <th>Position</th>\n",
       "      <th>Track Name</th>\n",
       "      <th>Artist</th>\n",
       "      <th>Streams</th>\n",
       "      <th>Country</th>\n",
       "    </tr>\n",
       "  </thead>\n",
       "  <tbody>\n",
       "    <tr>\n",
       "      <th>7088711</th>\n",
       "      <td>2017-01-06</td>\n",
       "      <td>https://open.spotify.com/track/7qiZfU4dY1lWllz...</td>\n",
       "      <td>18</td>\n",
       "      <td>Shape of You</td>\n",
       "      <td>Ed Sheeran</td>\n",
       "      <td>4639</td>\n",
       "      <td>Japan</td>\n",
       "    </tr>\n",
       "    <tr>\n",
       "      <th>1355924</th>\n",
       "      <td>2017-01-07</td>\n",
       "      <td>https://open.spotify.com/track/7qiZfU4dY1lWllz...</td>\n",
       "      <td>2</td>\n",
       "      <td>Shape of You</td>\n",
       "      <td>Ed Sheeran</td>\n",
       "      <td>7313</td>\n",
       "      <td>Japan</td>\n",
       "    </tr>\n",
       "    <tr>\n",
       "      <th>4171080</th>\n",
       "      <td>2017-01-08</td>\n",
       "      <td>https://open.spotify.com/track/7qiZfU4dY1lWllz...</td>\n",
       "      <td>1</td>\n",
       "      <td>Shape of You</td>\n",
       "      <td>Ed Sheeran</td>\n",
       "      <td>8851</td>\n",
       "      <td>Japan</td>\n",
       "    </tr>\n",
       "    <tr>\n",
       "      <th>5255748</th>\n",
       "      <td>2017-01-09</td>\n",
       "      <td>https://open.spotify.com/track/7qiZfU4dY1lWllz...</td>\n",
       "      <td>1</td>\n",
       "      <td>Shape of You</td>\n",
       "      <td>Ed Sheeran</td>\n",
       "      <td>9827</td>\n",
       "      <td>Japan</td>\n",
       "    </tr>\n",
       "    <tr>\n",
       "      <th>7848617</th>\n",
       "      <td>2017-01-10</td>\n",
       "      <td>https://open.spotify.com/track/7qiZfU4dY1lWllz...</td>\n",
       "      <td>1</td>\n",
       "      <td>Shape of You</td>\n",
       "      <td>Ed Sheeran</td>\n",
       "      <td>10352</td>\n",
       "      <td>Japan</td>\n",
       "    </tr>\n",
       "    <tr>\n",
       "      <th>...</th>\n",
       "      <td>...</td>\n",
       "      <td>...</td>\n",
       "      <td>...</td>\n",
       "      <td>...</td>\n",
       "      <td>...</td>\n",
       "      <td>...</td>\n",
       "      <td>...</td>\n",
       "    </tr>\n",
       "    <tr>\n",
       "      <th>1029543</th>\n",
       "      <td>2018-12-27</td>\n",
       "      <td>https://open.spotify.com/track/7qiZfU4dY1lWllz...</td>\n",
       "      <td>9</td>\n",
       "      <td>Shape of You</td>\n",
       "      <td>Ed Sheeran</td>\n",
       "      <td>25225</td>\n",
       "      <td>Japan</td>\n",
       "    </tr>\n",
       "    <tr>\n",
       "      <th>635379</th>\n",
       "      <td>2018-12-28</td>\n",
       "      <td>https://open.spotify.com/track/7qiZfU4dY1lWllz...</td>\n",
       "      <td>7</td>\n",
       "      <td>Shape of You</td>\n",
       "      <td>Ed Sheeran</td>\n",
       "      <td>26494</td>\n",
       "      <td>Japan</td>\n",
       "    </tr>\n",
       "    <tr>\n",
       "      <th>6441010</th>\n",
       "      <td>2018-12-29</td>\n",
       "      <td>https://open.spotify.com/track/7qiZfU4dY1lWllz...</td>\n",
       "      <td>6</td>\n",
       "      <td>Shape of You</td>\n",
       "      <td>Ed Sheeran</td>\n",
       "      <td>31486</td>\n",
       "      <td>Japan</td>\n",
       "    </tr>\n",
       "    <tr>\n",
       "      <th>570691</th>\n",
       "      <td>2018-12-30</td>\n",
       "      <td>https://open.spotify.com/track/7qiZfU4dY1lWllz...</td>\n",
       "      <td>6</td>\n",
       "      <td>Shape of You</td>\n",
       "      <td>Ed Sheeran</td>\n",
       "      <td>32270</td>\n",
       "      <td>Japan</td>\n",
       "    </tr>\n",
       "    <tr>\n",
       "      <th>6675274</th>\n",
       "      <td>2018-12-31</td>\n",
       "      <td>https://open.spotify.com/track/7qiZfU4dY1lWllz...</td>\n",
       "      <td>6</td>\n",
       "      <td>Shape of You</td>\n",
       "      <td>Ed Sheeran</td>\n",
       "      <td>29173</td>\n",
       "      <td>Japan</td>\n",
       "    </tr>\n",
       "  </tbody>\n",
       "</table>\n",
       "<p>722 rows × 7 columns</p>\n",
       "</div>"
      ],
      "text/plain": [
       "              Date                                          Track URL  \\\n",
       "7088711 2017-01-06  https://open.spotify.com/track/7qiZfU4dY1lWllz...   \n",
       "1355924 2017-01-07  https://open.spotify.com/track/7qiZfU4dY1lWllz...   \n",
       "4171080 2017-01-08  https://open.spotify.com/track/7qiZfU4dY1lWllz...   \n",
       "5255748 2017-01-09  https://open.spotify.com/track/7qiZfU4dY1lWllz...   \n",
       "7848617 2017-01-10  https://open.spotify.com/track/7qiZfU4dY1lWllz...   \n",
       "...            ...                                                ...   \n",
       "1029543 2018-12-27  https://open.spotify.com/track/7qiZfU4dY1lWllz...   \n",
       "635379  2018-12-28  https://open.spotify.com/track/7qiZfU4dY1lWllz...   \n",
       "6441010 2018-12-29  https://open.spotify.com/track/7qiZfU4dY1lWllz...   \n",
       "570691  2018-12-30  https://open.spotify.com/track/7qiZfU4dY1lWllz...   \n",
       "6675274 2018-12-31  https://open.spotify.com/track/7qiZfU4dY1lWllz...   \n",
       "\n",
       "         Position    Track Name      Artist  Streams Country  \n",
       "7088711        18  Shape of You  Ed Sheeran     4639   Japan  \n",
       "1355924         2  Shape of You  Ed Sheeran     7313   Japan  \n",
       "4171080         1  Shape of You  Ed Sheeran     8851   Japan  \n",
       "5255748         1  Shape of You  Ed Sheeran     9827   Japan  \n",
       "7848617         1  Shape of You  Ed Sheeran    10352   Japan  \n",
       "...           ...           ...         ...      ...     ...  \n",
       "1029543         9  Shape of You  Ed Sheeran    25225   Japan  \n",
       "635379          7  Shape of You  Ed Sheeran    26494   Japan  \n",
       "6441010         6  Shape of You  Ed Sheeran    31486   Japan  \n",
       "570691          6  Shape of You  Ed Sheeran    32270   Japan  \n",
       "6675274         6  Shape of You  Ed Sheeran    29173   Japan  \n",
       "\n",
       "[722 rows x 7 columns]"
      ]
     },
     "execution_count": 7,
     "metadata": {},
     "output_type": "execute_result"
    }
   ],
   "source": [
    "SoY_trend[SoY_trend.Date < \"2019-01-01\"]"
   ]
  },
  {
   "cell_type": "code",
   "execution_count": 42,
   "metadata": {},
   "outputs": [],
   "source": [
    "#2019年を予測検証データに用いるため分ける\n",
    "train= wataridori_trend[ \n",
    "    #(wataridori_trend.Date >= \"2018-01-01\")&\n",
    "    \n",
    "    (wataridori_trend.Date < \"2018-12-27\")].set_index(\"Date\")[[\"Streams\"]]\n",
    "\n",
    "test = wataridori_trend[wataridori_trend.Date >= \"2018-12-27\"].set_index(\"Date\")[[\"Streams\"]]"
   ]
  },
  {
   "cell_type": "code",
   "execution_count": 10,
   "metadata": {},
   "outputs": [
    {
     "data": {
      "text/plain": [
       "<matplotlib.axes._subplots.AxesSubplot at 0x7eff044588d0>"
      ]
     },
     "execution_count": 10,
     "metadata": {},
     "output_type": "execute_result"
    },
    {
     "data": {
      "image/png": "[encoded data removed]",
      "text/plain": [
       "<Figure size 432x288 with 1 Axes>"
      ]
     },
     "metadata": {
      "needs_background": "light"
     },
     "output_type": "display_data"
    }
   ],
   "source": [
    "train.plot()"
   ]
  },
  {
   "cell_type": "code",
   "execution_count": 44,
   "metadata": {},
   "outputs": [
    {
     "data": {
      "text/plain": [
       "2018-01-03     9707.037578\n",
       "2018-01-04    10080.750007\n",
       "2018-01-05    11003.550083\n",
       "2018-01-06    11559.487267\n",
       "2018-01-07    12145.977249\n",
       "                  ...     \n",
       "2019-06-28    19947.365663\n",
       "2019-06-29    20653.633157\n",
       "2019-06-30    21006.641707\n",
       "2019-07-01    20125.086564\n",
       "2019-07-02    20147.058843\n",
       "Freq: D, Length: 546, dtype: float64"
      ]
     },
     "execution_count": 44,
     "metadata": {},
     "output_type": "execute_result"
    }
   ],
   "source": [
    "arima_model.predict(start=2,end=len(total_kunren))"
   ]
  },
  {
   "cell_type": "code",
   "execution_count": 9,
   "metadata": {},
   "outputs": [
    {
     "ename": "NameError",
     "evalue": "name 'total_kunren' is not defined",
     "output_type": "error",
     "traceback": [
      "\u001b[0;31m---------------------------------------------------------------------------\u001b[0m",
      "\u001b[0;31mNameError\u001b[0m                                 Traceback (most recent call last)",
      "\u001b[0;32m<ipython-input-9-811f7632f0a8>\u001b[0m in \u001b[0;36m<module>\u001b[0;34m\u001b[0m\n\u001b[0;32m----> 1\u001b[0;31m \u001b[0mplt\u001b[0m\u001b[0;34m.\u001b[0m\u001b[0mplot\u001b[0m\u001b[0;34m(\u001b[0m\u001b[0mtotal_kunren\u001b[0m\u001b[0;34m,\u001b[0m\u001b[0mc\u001b[0m\u001b[0;34m=\u001b[0m\u001b[0;34m\"blue\"\u001b[0m\u001b[0;34m,\u001b[0m \u001b[0malpha\u001b[0m\u001b[0;34m=\u001b[0m\u001b[0;36m0.5\u001b[0m\u001b[0;34m)\u001b[0m\u001b[0;34m\u001b[0m\u001b[0;34m\u001b[0m\u001b[0m\n\u001b[0m\u001b[1;32m      2\u001b[0m \u001b[0mplt\u001b[0m\u001b[0;34m.\u001b[0m\u001b[0mplot\u001b[0m\u001b[0;34m(\u001b[0m\u001b[0marima_model\u001b[0m\u001b[0;34m.\u001b[0m\u001b[0mpredict\u001b[0m\u001b[0;34m(\u001b[0m\u001b[0mstart\u001b[0m\u001b[0;34m=\u001b[0m\u001b[0;36m2\u001b[0m\u001b[0;34m,\u001b[0m\u001b[0mend\u001b[0m\u001b[0;34m=\u001b[0m\u001b[0mz\u001b[0m\u001b[0;34m)\u001b[0m\u001b[0;34m,\u001b[0m\u001b[0mc\u001b[0m\u001b[0;34m=\u001b[0m\u001b[0;34m\"red\"\u001b[0m\u001b[0;34m)\u001b[0m\u001b[0;34m\u001b[0m\u001b[0;34m\u001b[0m\u001b[0m\n",
      "\u001b[0;31mNameError\u001b[0m: name 'total_kunren' is not defined"
     ]
    }
   ],
   "source": [
    "plt.plot(total_kunren,c=\"blue\", alpha=0.5)\n",
    "plt.plot(arima_model.predict(start=2,end=z),c=\"red\")"
   ]
  },
  {
   "cell_type": "code",
   "execution_count": 74,
   "metadata": {},
   "outputs": [
    {
     "name": "stderr",
     "output_type": "stream",
     "text": [
      "/opt/anaconda3/lib/python3.7/site-packages/statsmodels/tsa/base/tsa_model.py:576: ValueWarning: No supported index is available. Prediction results will be given with an integer index beginning at `start`.\n",
      "  ValueWarning)\n"
     ]
    },
    {
     "data": {
      "text/plain": [
       "[<matplotlib.lines.Line2D at 0x7f13af9ceb90>]"
      ]
     },
     "execution_count": 74,
     "metadata": {},
     "output_type": "execute_result"
    },
    {
     "data": {
      "image/png": "[encoded data removed]",
      "text/plain": [
       "<Figure size 432x288 with 1 Axes>"
      ]
     },
     "metadata": {
      "needs_background": "light"
     },
     "output_type": "display_data"
    }
   ],
   "source": [
    "plt.plot(total_kunren.reset_index(drop=True),c=\"blue\", alpha=0.5)\n",
    "plt.plot(arima_model.predict(start=2,end=len(total_kunren)).reset_index(drop=True),c=\"red\")"
   ]
  },
  {
   "cell_type": "code",
   "execution_count": 21,
   "metadata": {},
   "outputs": [
    {
     "name": "stderr",
     "output_type": "stream",
     "text": [
      "/opt/anaconda3/lib/python3.7/site-packages/statsmodels/tsa/base/tsa_model.py:165: ValueWarning: No frequency information was provided, so inferred frequency D will be used.\n",
      "  % freq, ValueWarning)\n"
     ]
    },
    {
     "name": "stdout",
     "output_type": "stream",
     "text": [
      "CPU times: user 5min 48s, sys: 6.09 s, total: 5min 55s\n",
      "Wall time: 22.6 s\n"
     ]
    },
    {
     "name": "stderr",
     "output_type": "stream",
     "text": [
      "/opt/anaconda3/lib/python3.7/site-packages/statsmodels/base/model.py:492: HessianInversionWarning: Inverting hessian failed, no bse or cov_params available\n",
      "  'available', HessianInversionWarning)\n",
      "/opt/anaconda3/lib/python3.7/site-packages/statsmodels/base/model.py:512: ConvergenceWarning: Maximum Likelihood optimization failed to converge. Check mle_retvals\n",
      "  \"Check mle_retvals\", ConvergenceWarning)\n"
     ]
    },
    {
     "data": {
      "text/plain": [
       "[<matplotlib.lines.Line2D at 0x7efe4b3f4150>]"
      ]
     },
     "execution_count": 21,
     "metadata": {},
     "output_type": "execute_result"
    },
    {
     "data": {
      "image/png": "[encoded data removed]",
      "text/plain": [
       "<Figure size 432x288 with 1 Axes>"
      ]
     },
     "metadata": {
      "needs_background": "light"
     },
     "output_type": "display_data"
    }
   ],
   "source": [
    "%%time\n",
    "from statsmodels.tsa.arima_model import ARIMA\n",
    "total_kunren=pd.concat([train.Streams, test.Streams])\n",
    "arima_model = ARIMA(train.Streams, order=(5,0,7\n",
    "                                         )).fit(dist=False,enforce_stationarity=False,)\n",
    "# plt.plot(arima_model.resid)\n",
    "plt.plot(total_kunren.reset_index(drop=True),c=\"blue\", alpha=0.5)\n",
    "plt.plot(arima_model.predict(start=2,end=len(total_kunren)).reset_index(drop=True),c=\"red\")\n"
   ]
  },
  {
   "cell_type": "code",
   "execution_count": 10,
   "metadata": {},
   "outputs": [
    {
     "data": {
      "text/plain": [
       "0       NaN\n",
       "1    2674.0\n",
       "2    1538.0\n",
       "3     976.0\n",
       "4     525.0\n",
       "Name: Streams, dtype: float64"
      ]
     },
     "execution_count": 10,
     "metadata": {},
     "output_type": "execute_result"
    }
   ],
   "source": [
    "train_diff1.head()"
   ]
  },
  {
   "cell_type": "code",
   "execution_count": 15,
   "metadata": {},
   "outputs": [
    {
     "name": "stderr",
     "output_type": "stream",
     "text": [
      "/opt/anaconda3/lib/python3.7/site-packages/statsmodels/base/model.py:512: ConvergenceWarning: Maximum Likelihood optimization failed to converge. Check mle_retvals\n",
      "  \"Check mle_retvals\", ConvergenceWarning)\n"
     ]
    },
    {
     "data": {
      "text/plain": [
       "{'aic':              0            1            2\n",
       " 0  6041.288677  5981.098141  5968.471831\n",
       " 1  6016.448307  5973.171630  5969.761071\n",
       " 2  5973.712990  5968.415922  5914.017362\n",
       " 3  5970.083351  5965.720237  5884.737567\n",
       " 4  5968.690571  5964.564691  5886.746684, 'aic_min_order': (3, 2)}"
      ]
     },
     "execution_count": 15,
     "metadata": {},
     "output_type": "execute_result"
    }
   ],
   "source": [
    "params = sm.tsa.arma_order_select_ic(train_diff1.dropna(), ic='aic', trend='c')\n",
    "params"
   ]
  },
  {
   "cell_type": "markdown",
   "metadata": {},
   "source": [
    "階差と、コレログラムをプロット"
   ]
  },
  {
   "cell_type": "code",
   "execution_count": 43,
   "metadata": {},
   "outputs": [
    {
     "data": {
      "image/png": "[encoded data removed]",
      "text/plain": [
       "<Figure size 1440x576 with 6 Axes>"
      ]
     },
     "metadata": {
      "needs_background": "light"
     },
     "output_type": "display_data"
    }
   ],
   "source": [
    "import statsmodels.api as sm\n",
    "import matplotlib.pyplot as plt\n",
    "import datetime\n",
    "%matplotlib inline\n",
    "plt.rcParams[\"font.size\"] = 10\n",
    "fig, ax = plt.subplots(2, 3, figsize=(20, 8))\n",
    "axes = ax.flatten()\n",
    "diff_color = \"blue\"\n",
    "# 階差を取得\n",
    "raw_data = train.Streams\n",
    "train_diff1 = raw_data.diff()\n",
    "axes[0].plot(raw_data)\n",
    "axes[0].set_title(\"raw_data\")\n",
    "fig = sm.graphics.tsa.plot_acf(raw_data, lags=350, ax=axes[1])\n",
    "fig = sm.graphics.tsa.plot_pacf(raw_data, lags=350, ax=axes[2])\n",
    "\n",
    "axes[3].plot(train_diff1.dropna(), color=diff_color, alpha=1)\n",
    "axes[3].set_title(\"diff1\")\n",
    "fig = sm.graphics.tsa.plot_acf(train_diff1, lags=40, ax=axes[4], color=diff_color)\n",
    "fig = sm.graphics.tsa.plot_pacf(train_diff1, lags=40, ax=axes[5], color=diff_color)\n",
    "# 左から、時系列グラフ、自己相関係数。偏自己相関係数（コレログラム）をプロットしたもの\n",
    "# 下図は、階差をした上でのグラフとなっている。"
   ]
  },
  {
   "cell_type": "code",
   "execution_count": 14,
   "metadata": {},
   "outputs": [
    {
     "ename": "NameError",
     "evalue": "name 'seasonal' is not defined",
     "output_type": "error",
     "traceback": [
      "\u001b[0;31m---------------------------------------------------------------------------\u001b[0m",
      "\u001b[0;31mNameError\u001b[0m                                 Traceback (most recent call last)",
      "\u001b[0;32m<ipython-input-14-9c9500564ea4>\u001b[0m in \u001b[0;36m<module>\u001b[0;34m\u001b[0m\n\u001b[0;32m----> 1\u001b[0;31m \u001b[0mres\u001b[0m \u001b[0;34m=\u001b[0m \u001b[0msm\u001b[0m\u001b[0;34m.\u001b[0m\u001b[0mtsa\u001b[0m\u001b[0;34m.\u001b[0m\u001b[0marma_order_select_ic\u001b[0m\u001b[0;34m(\u001b[0m\u001b[0mseasonal\u001b[0m\u001b[0;34m.\u001b[0m\u001b[0mresid\u001b[0m\u001b[0;34m[\u001b[0m\u001b[0;34m~\u001b[0m\u001b[0mseasonal\u001b[0m\u001b[0;34m.\u001b[0m\u001b[0mresid\u001b[0m\u001b[0;34m.\u001b[0m\u001b[0misna\u001b[0m\u001b[0;34m(\u001b[0m\u001b[0;34m)\u001b[0m\u001b[0;34m]\u001b[0m\u001b[0;34m,\u001b[0m \u001b[0mmax_ar\u001b[0m\u001b[0;34m=\u001b[0m\u001b[0;36m5\u001b[0m\u001b[0;34m,\u001b[0m \u001b[0mmax_ma\u001b[0m\u001b[0;34m=\u001b[0m\u001b[0;36m7\u001b[0m\u001b[0;34m,\u001b[0m \u001b[0mic\u001b[0m\u001b[0;34m=\u001b[0m\u001b[0;34m'aic'\u001b[0m\u001b[0;34m)\u001b[0m\u001b[0;34m\u001b[0m\u001b[0;34m\u001b[0m\u001b[0m\n\u001b[0m\u001b[1;32m      2\u001b[0m \u001b[0mprint\u001b[0m\u001b[0;34m(\u001b[0m\u001b[0mres\u001b[0m\u001b[0;34m.\u001b[0m\u001b[0maic_min_order\u001b[0m\u001b[0;34m)\u001b[0m\u001b[0;34m\u001b[0m\u001b[0;34m\u001b[0m\u001b[0m\n",
      "\u001b[0;31mNameError\u001b[0m: name 'seasonal' is not defined"
     ]
    }
   ],
   "source": [
    "res = sm.tsa.arma_order_select_ic(seasonal.resid[~seasonal.resid.isna()], max_ar=5, max_ma=7, ic='aic')\n",
    "print(res.aic_min_order)"
   ]
  },
  {
   "cell_type": "code",
   "execution_count": 17,
   "metadata": {},
   "outputs": [
    {
     "ename": "NameError",
     "evalue": "name 'seasonal' is not defined",
     "output_type": "error",
     "traceback": [
      "\u001b[0;31m---------------------------------------------------------------------------\u001b[0m",
      "\u001b[0;31mNameError\u001b[0m                                 Traceback (most recent call last)",
      "\u001b[0;32m<ipython-input-17-330a15e61811>\u001b[0m in \u001b[0;36m<module>\u001b[0;34m\u001b[0m\n\u001b[0;32m----> 1\u001b[0;31m \u001b[0mseasonal\u001b[0m\u001b[0;34m.\u001b[0m\u001b[0mresid\u001b[0m\u001b[0;34m[\u001b[0m\u001b[0;34m~\u001b[0m\u001b[0mseasonal\u001b[0m\u001b[0;34m.\u001b[0m\u001b[0mresid\u001b[0m\u001b[0;34m.\u001b[0m\u001b[0misna\u001b[0m\u001b[0;34m(\u001b[0m\u001b[0;34m)\u001b[0m\u001b[0;34m]\u001b[0m\u001b[0;34m\u001b[0m\u001b[0;34m\u001b[0m\u001b[0m\n\u001b[0m",
      "\u001b[0;31mNameError\u001b[0m: name 'seasonal' is not defined"
     ]
    }
   ],
   "source": [
    "seasonal.resid[~seasonal.resid.isna()]"
   ]
  },
  {
   "cell_type": "code",
   "execution_count": 18,
   "metadata": {},
   "outputs": [
    {
     "data": {
      "image/png": "[encoded data removed]",
      "text/plain": [
       "<Figure size 432x288 with 4 Axes>"
      ]
     },
     "execution_count": 18,
     "metadata": {},
     "output_type": "execute_result"
    },
    {
     "data": {
      "image/png": "[encoded data removed]",
      "text/plain": [
       "<Figure size 432x288 with 4 Axes>"
      ]
     },
     "metadata": {
      "needs_background": "light"
     },
     "output_type": "display_data"
    }
   ],
   "source": [
    "seasonal = sm.tsa.seasonal_decompose(raw_data, freq=200)\n",
    "seasonal.plot()"
   ]
  },
  {
   "cell_type": "code",
   "execution_count": 22,
   "metadata": {},
   "outputs": [
    {
     "data": {
      "text/plain": [
       "(-0.7501568569030147,\n",
       " 0.8333266796710319,\n",
       " 15,\n",
       " 344,\n",
       " {'1%': -3.4495033946549123,\n",
       "  '5%': -2.8699787979596136,\n",
       "  '10%': -2.5712658305164955},\n",
       " 5530.4816709177485)"
      ]
     },
     "execution_count": 22,
     "metadata": {},
     "output_type": "execute_result"
    }
   ],
   "source": [
    "# ADF検定(上の時系列が単位根過程であるかを検定する)\n",
    "sm.tsa.stattools.adfuller(raw_data, \n",
    "                                   maxlag=None, \n",
    "                                   regression='c', \n",
    "                                   autolag='AIC', \n",
    "                                   store=False, \n",
    "                                   regresults=False)\n"
   ]
  },
  {
   "cell_type": "code",
   "execution_count": null,
   "metadata": {},
   "outputs": [],
   "source": [
    "\n",
    "total_data=pd.concat([train.Streams, test.Streams]).reset_index(drop=True)"
   ]
  },
  {
   "cell_type": "code",
   "execution_count": null,
   "metadata": {},
   "outputs": [],
   "source": []
  },
  {
   "cell_type": "code",
   "execution_count": 83,
   "metadata": {},
   "outputs": [
    {
     "name": "stderr",
     "output_type": "stream",
     "text": [
      "/opt/anaconda3/lib/python3.7/site-packages/statsmodels/tsa/base/tsa_model.py:219: ValueWarning: A date index has been provided, but it has no associated frequency information and so will be ignored when e.g. forecasting.\n",
      "  ' ignored when e.g. forecasting.', ValueWarning)\n",
      "/opt/anaconda3/lib/python3.7/site-packages/statsmodels/tsa/base/tsa_model.py:576: ValueWarning: No supported index is available. Prediction results will be given with an integer index beginning at `start`.\n",
      "  ValueWarning)\n"
     ]
    },
    {
     "ename": "UFuncTypeError",
     "evalue": "Cannot cast ufunc 'subtract' output from dtype('float64') to dtype('int64') with casting rule 'same_kind'",
     "output_type": "error",
     "traceback": [
      "\u001b[0;31m---------------------------------------------------------------------------\u001b[0m",
      "\u001b[0;31mUFuncTypeError\u001b[0m                            Traceback (most recent call last)",
      "\u001b[0;32m<ipython-input-83-6bf9f0007acd>\u001b[0m in \u001b[0;36m<module>\u001b[0;34m\u001b[0m\n\u001b[1;32m      5\u001b[0m \u001b[0mplt\u001b[0m\u001b[0;34m.\u001b[0m\u001b[0mclf\u001b[0m\u001b[0;34m(\u001b[0m\u001b[0;34m)\u001b[0m\u001b[0;34m\u001b[0m\u001b[0;34m\u001b[0m\u001b[0m\n\u001b[1;32m      6\u001b[0m \u001b[0mplt\u001b[0m\u001b[0;34m.\u001b[0m\u001b[0mplot\u001b[0m\u001b[0;34m(\u001b[0m\u001b[0mpd\u001b[0m\u001b[0;34m.\u001b[0m\u001b[0mconcat\u001b[0m\u001b[0;34m(\u001b[0m\u001b[0;34m[\u001b[0m\u001b[0mtrain\u001b[0m\u001b[0;34m.\u001b[0m\u001b[0mStreams\u001b[0m\u001b[0;34m,\u001b[0m \u001b[0mtest\u001b[0m\u001b[0;34m.\u001b[0m\u001b[0mStreams\u001b[0m\u001b[0;34m]\u001b[0m\u001b[0;34m)\u001b[0m\u001b[0;34m.\u001b[0m\u001b[0mreset_index\u001b[0m\u001b[0;34m(\u001b[0m\u001b[0mdrop\u001b[0m\u001b[0;34m=\u001b[0m\u001b[0;32mTrue\u001b[0m\u001b[0;34m)\u001b[0m\u001b[0;34m,\u001b[0m\u001b[0mc\u001b[0m\u001b[0;34m=\u001b[0m\u001b[0;34m\"blue\"\u001b[0m\u001b[0;34m,\u001b[0m \u001b[0malpha\u001b[0m\u001b[0;34m=\u001b[0m\u001b[0;36m0.5\u001b[0m\u001b[0;34m)\u001b[0m\u001b[0;34m\u001b[0m\u001b[0;34m\u001b[0m\u001b[0m\n\u001b[0;32m----> 7\u001b[0;31m \u001b[0mplt\u001b[0m\u001b[0;34m.\u001b[0m\u001b[0mplot\u001b[0m\u001b[0;34m(\u001b[0m\u001b[0mresults\u001b[0m\u001b[0;34m.\u001b[0m\u001b[0mpredict\u001b[0m\u001b[0;34m(\u001b[0m\u001b[0mstart\u001b[0m\u001b[0;34m=\u001b[0m\u001b[0;36m1\u001b[0m\u001b[0;34m,\u001b[0m\u001b[0mend\u001b[0m\u001b[0;34m=\u001b[0m\u001b[0;36m730\u001b[0m\u001b[0;34m)\u001b[0m\u001b[0;34m,\u001b[0m\u001b[0mc\u001b[0m\u001b[0;34m=\u001b[0m\u001b[0;34m\"red\"\u001b[0m\u001b[0;34m)\u001b[0m\u001b[0;34m\u001b[0m\u001b[0;34m\u001b[0m\u001b[0m\n\u001b[0m\u001b[1;32m      8\u001b[0m \u001b[0mplt\u001b[0m\u001b[0;34m.\u001b[0m\u001b[0mlegend\u001b[0m\u001b[0;34m(\u001b[0m\u001b[0;34m[\u001b[0m\u001b[0;34m\"data\"\u001b[0m\u001b[0;34m,\u001b[0m\u001b[0;34m\"predict\"\u001b[0m\u001b[0;34m]\u001b[0m\u001b[0;34m)\u001b[0m\u001b[0;34m\u001b[0m\u001b[0;34m\u001b[0m\u001b[0m\n",
      "\u001b[0;32m/opt/anaconda3/lib/python3.7/site-packages/statsmodels/base/wrapper.py\u001b[0m in \u001b[0;36mwrapper\u001b[0;34m(self, *args, **kwargs)\u001b[0m\n\u001b[1;32m     93\u001b[0m             \u001b[0mobj\u001b[0m \u001b[0;34m=\u001b[0m \u001b[0mdata\u001b[0m\u001b[0;34m.\u001b[0m\u001b[0mwrap_output\u001b[0m\u001b[0;34m(\u001b[0m\u001b[0mfunc\u001b[0m\u001b[0;34m(\u001b[0m\u001b[0mresults\u001b[0m\u001b[0;34m,\u001b[0m \u001b[0;34m*\u001b[0m\u001b[0margs\u001b[0m\u001b[0;34m,\u001b[0m \u001b[0;34m**\u001b[0m\u001b[0mkwargs\u001b[0m\u001b[0;34m)\u001b[0m\u001b[0;34m,\u001b[0m \u001b[0mhow\u001b[0m\u001b[0;34m[\u001b[0m\u001b[0;36m0\u001b[0m\u001b[0;34m]\u001b[0m\u001b[0;34m,\u001b[0m \u001b[0mhow\u001b[0m\u001b[0;34m[\u001b[0m\u001b[0;36m1\u001b[0m\u001b[0;34m:\u001b[0m\u001b[0;34m]\u001b[0m\u001b[0;34m)\u001b[0m\u001b[0;34m\u001b[0m\u001b[0;34m\u001b[0m\u001b[0m\n\u001b[1;32m     94\u001b[0m         \u001b[0;32melif\u001b[0m \u001b[0mhow\u001b[0m\u001b[0;34m:\u001b[0m\u001b[0;34m\u001b[0m\u001b[0;34m\u001b[0m\u001b[0m\n\u001b[0;32m---> 95\u001b[0;31m             \u001b[0mobj\u001b[0m \u001b[0;34m=\u001b[0m \u001b[0mdata\u001b[0m\u001b[0;34m.\u001b[0m\u001b[0mwrap_output\u001b[0m\u001b[0;34m(\u001b[0m\u001b[0mfunc\u001b[0m\u001b[0;34m(\u001b[0m\u001b[0mresults\u001b[0m\u001b[0;34m,\u001b[0m \u001b[0;34m*\u001b[0m\u001b[0margs\u001b[0m\u001b[0;34m,\u001b[0m \u001b[0;34m**\u001b[0m\u001b[0mkwargs\u001b[0m\u001b[0;34m)\u001b[0m\u001b[0;34m,\u001b[0m \u001b[0mhow\u001b[0m\u001b[0;34m)\u001b[0m\u001b[0;34m\u001b[0m\u001b[0;34m\u001b[0m\u001b[0m\n\u001b[0m\u001b[1;32m     96\u001b[0m         \u001b[0;32mreturn\u001b[0m \u001b[0mobj\u001b[0m\u001b[0;34m\u001b[0m\u001b[0;34m\u001b[0m\u001b[0m\n\u001b[1;32m     97\u001b[0m \u001b[0;34m\u001b[0m\u001b[0m\n",
      "\u001b[0;32m/opt/anaconda3/lib/python3.7/site-packages/statsmodels/tsa/arima_model.py\u001b[0m in \u001b[0;36mpredict\u001b[0;34m(self, start, end, exog, dynamic)\u001b[0m\n\u001b[1;32m   1490\u001b[0m \u001b[0;34m\u001b[0m\u001b[0m\n\u001b[1;32m   1491\u001b[0m     \u001b[0;32mdef\u001b[0m \u001b[0mpredict\u001b[0m\u001b[0;34m(\u001b[0m\u001b[0mself\u001b[0m\u001b[0;34m,\u001b[0m \u001b[0mstart\u001b[0m\u001b[0;34m=\u001b[0m\u001b[0;32mNone\u001b[0m\u001b[0;34m,\u001b[0m \u001b[0mend\u001b[0m\u001b[0;34m=\u001b[0m\u001b[0;32mNone\u001b[0m\u001b[0;34m,\u001b[0m \u001b[0mexog\u001b[0m\u001b[0;34m=\u001b[0m\u001b[0;32mNone\u001b[0m\u001b[0;34m,\u001b[0m \u001b[0mdynamic\u001b[0m\u001b[0;34m=\u001b[0m\u001b[0;32mFalse\u001b[0m\u001b[0;34m)\u001b[0m\u001b[0;34m:\u001b[0m\u001b[0;34m\u001b[0m\u001b[0;34m\u001b[0m\u001b[0m\n\u001b[0;32m-> 1492\u001b[0;31m         \u001b[0;32mreturn\u001b[0m \u001b[0mself\u001b[0m\u001b[0;34m.\u001b[0m\u001b[0mmodel\u001b[0m\u001b[0;34m.\u001b[0m\u001b[0mpredict\u001b[0m\u001b[0;34m(\u001b[0m\u001b[0mself\u001b[0m\u001b[0;34m.\u001b[0m\u001b[0mparams\u001b[0m\u001b[0;34m,\u001b[0m \u001b[0mstart\u001b[0m\u001b[0;34m,\u001b[0m \u001b[0mend\u001b[0m\u001b[0;34m,\u001b[0m \u001b[0mexog\u001b[0m\u001b[0;34m,\u001b[0m \u001b[0mdynamic\u001b[0m\u001b[0;34m)\u001b[0m\u001b[0;34m\u001b[0m\u001b[0;34m\u001b[0m\u001b[0m\n\u001b[0m\u001b[1;32m   1493\u001b[0m     \u001b[0mpredict\u001b[0m\u001b[0;34m.\u001b[0m\u001b[0m__doc__\u001b[0m \u001b[0;34m=\u001b[0m \u001b[0m_arma_results_predict\u001b[0m\u001b[0;34m\u001b[0m\u001b[0;34m\u001b[0m\u001b[0m\n\u001b[1;32m   1494\u001b[0m \u001b[0;34m\u001b[0m\u001b[0m\n",
      "\u001b[0;32m/opt/anaconda3/lib/python3.7/site-packages/statsmodels/tsa/arima_model.py\u001b[0m in \u001b[0;36mpredict\u001b[0;34m(self, params, start, end, exog, dynamic)\u001b[0m\n\u001b[1;32m    715\u001b[0m \u001b[0;34m\u001b[0m\u001b[0m\n\u001b[1;32m    716\u001b[0m         \u001b[0mendog\u001b[0m \u001b[0;34m=\u001b[0m \u001b[0mself\u001b[0m\u001b[0;34m.\u001b[0m\u001b[0mendog\u001b[0m\u001b[0;34m\u001b[0m\u001b[0;34m\u001b[0m\u001b[0m\n\u001b[0;32m--> 717\u001b[0;31m         \u001b[0mresid\u001b[0m \u001b[0;34m=\u001b[0m \u001b[0mself\u001b[0m\u001b[0;34m.\u001b[0m\u001b[0mgeterrors\u001b[0m\u001b[0;34m(\u001b[0m\u001b[0mparams\u001b[0m\u001b[0;34m)\u001b[0m\u001b[0;34m\u001b[0m\u001b[0;34m\u001b[0m\u001b[0m\n\u001b[0m\u001b[1;32m    718\u001b[0m         \u001b[0mk_ar\u001b[0m \u001b[0;34m=\u001b[0m \u001b[0mself\u001b[0m\u001b[0;34m.\u001b[0m\u001b[0mk_ar\u001b[0m\u001b[0;34m\u001b[0m\u001b[0;34m\u001b[0m\u001b[0m\n\u001b[1;32m    719\u001b[0m \u001b[0;34m\u001b[0m\u001b[0m\n",
      "\u001b[0;32m/opt/anaconda3/lib/python3.7/site-packages/statsmodels/tsa/arima_model.py\u001b[0m in \u001b[0;36mgeterrors\u001b[0;34m(self, params)\u001b[0m\n\u001b[1;32m    686\u001b[0m             \u001b[0mk\u001b[0m \u001b[0;34m=\u001b[0m \u001b[0mself\u001b[0m\u001b[0;34m.\u001b[0m\u001b[0mk_exog\u001b[0m \u001b[0;34m+\u001b[0m \u001b[0mself\u001b[0m\u001b[0;34m.\u001b[0m\u001b[0mk_trend\u001b[0m\u001b[0;34m\u001b[0m\u001b[0;34m\u001b[0m\u001b[0m\n\u001b[1;32m    687\u001b[0m             \u001b[0;32mif\u001b[0m \u001b[0mk\u001b[0m \u001b[0;34m>\u001b[0m \u001b[0;36m0\u001b[0m\u001b[0;34m:\u001b[0m\u001b[0;34m\u001b[0m\u001b[0;34m\u001b[0m\u001b[0m\n\u001b[0;32m--> 688\u001b[0;31m                 \u001b[0my\u001b[0m \u001b[0;34m-=\u001b[0m \u001b[0mdot\u001b[0m\u001b[0;34m(\u001b[0m\u001b[0mself\u001b[0m\u001b[0;34m.\u001b[0m\u001b[0mexog\u001b[0m\u001b[0;34m,\u001b[0m \u001b[0mparams\u001b[0m\u001b[0;34m[\u001b[0m\u001b[0;34m:\u001b[0m\u001b[0mk\u001b[0m\u001b[0;34m]\u001b[0m\u001b[0;34m)\u001b[0m\u001b[0;34m\u001b[0m\u001b[0;34m\u001b[0m\u001b[0m\n\u001b[0m\u001b[1;32m    689\u001b[0m \u001b[0;34m\u001b[0m\u001b[0m\n\u001b[1;32m    690\u001b[0m             \u001b[0mk_ar\u001b[0m \u001b[0;34m=\u001b[0m \u001b[0mself\u001b[0m\u001b[0;34m.\u001b[0m\u001b[0mk_ar\u001b[0m\u001b[0;34m\u001b[0m\u001b[0;34m\u001b[0m\u001b[0m\n",
      "\u001b[0;31mUFuncTypeError\u001b[0m: Cannot cast ufunc 'subtract' output from dtype('float64') to dtype('int64') with casting rule 'same_kind'"
     ]
    },
    {
     "data": {
      "image/png": "[encoded data removed]",
      "text/plain": [
       "<Figure size 432x288 with 1 Axes>"
      ]
     },
     "metadata": {
      "needs_background": "light"
     },
     "output_type": "display_data"
    }
   ],
   "source": [
    "from statsmodels.tsa import arima_model\n",
    "import matplotlib.pyplot as plt\n",
    "\n",
    "results=arima_model.ARIMA(train.Streams,order = [0,0,0]).fit()\n",
    "plt.clf()\n",
    "plt.plot(pd.concat([train.Streams, test.Streams]).reset_index(drop=True),c=\"blue\", alpha=0.5)\n",
    "plt.plot(results.predict(start=1,end=730),c=\"red\")\n",
    "plt.legend([\"data\",\"predict\"])\n"
   ]
  },
  {
   "cell_type": "code",
   "execution_count": 272,
   "metadata": {},
   "outputs": [
    {
     "data": {
      "text/html": [
       "<div>\n",
       "<style scoped>\n",
       "    .dataframe tbody tr th:only-of-type {\n",
       "        vertical-align: middle;\n",
       "    }\n",
       "\n",
       "    .dataframe tbody tr th {\n",
       "        vertical-align: top;\n",
       "    }\n",
       "\n",
       "    .dataframe thead th {\n",
       "        text-align: right;\n",
       "    }\n",
       "</style>\n",
       "<table border=\"1\" class=\"dataframe\">\n",
       "  <thead>\n",
       "    <tr style=\"text-align: right;\">\n",
       "      <th></th>\n",
       "      <th>Date</th>\n",
       "      <th>Streams</th>\n",
       "      <th>diff1</th>\n",
       "    </tr>\n",
       "  </thead>\n",
       "  <tbody>\n",
       "    <tr>\n",
       "      <th>838</th>\n",
       "      <td>2019-04-28</td>\n",
       "      <td>30299</td>\n",
       "      <td>186.0</td>\n",
       "    </tr>\n",
       "    <tr>\n",
       "      <th>839</th>\n",
       "      <td>2019-04-29</td>\n",
       "      <td>29256</td>\n",
       "      <td>-1043.0</td>\n",
       "    </tr>\n",
       "    <tr>\n",
       "      <th>840</th>\n",
       "      <td>2019-04-30</td>\n",
       "      <td>27721</td>\n",
       "      <td>-1535.0</td>\n",
       "    </tr>\n",
       "    <tr>\n",
       "      <th>841</th>\n",
       "      <td>2019-05-01</td>\n",
       "      <td>27827</td>\n",
       "      <td>106.0</td>\n",
       "    </tr>\n",
       "    <tr>\n",
       "      <th>842</th>\n",
       "      <td>2019-05-02</td>\n",
       "      <td>29113</td>\n",
       "      <td>1286.0</td>\n",
       "    </tr>\n",
       "  </tbody>\n",
       "</table>\n",
       "</div>"
      ],
      "text/plain": [
       "          Date  Streams   diff1\n",
       "838 2019-04-28    30299   186.0\n",
       "839 2019-04-29    29256 -1043.0\n",
       "840 2019-04-30    27721 -1535.0\n",
       "841 2019-05-01    27827   106.0\n",
       "842 2019-05-02    29113  1286.0"
      ]
     },
     "execution_count": 272,
     "metadata": {},
     "output_type": "execute_result"
    }
   ],
   "source": [
    "train.tail()"
   ]
  },
  {
   "cell_type": "code",
   "execution_count": null,
   "metadata": {},
   "outputs": [],
   "source": [
    "import itertools\n",
    "p = [5]\n",
    "d = [0,1]\n",
    "q = [10]\n",
    "sp = [1,2]\n",
    "sd = [0,2]\n",
    "sq = [0,1,2]\n",
    "pdq = list(itertools.product(p, d, q))\n",
    "# P, D, Q　の組み合わせを列挙するリストを作成すると同時に、後ろに　s = 7　を決め打ちでつけている。\n",
    "seasonal_pdq = [[x[0], x[1], x[2],\n",
    "                x[3],x[4],x[5],\n",
    "    360] for x in list(itertools.product(p,d,q,\n",
    "                                                                      sp, sd, sq))]\n",
    "print(pdq, f\"配列長は：{len(pdq)}\")\n",
    "print(seasonal_pdq,f\"配列長は{len(seasonal_pdq)}\")"
   ]
  },
  {
   "cell_type": "code",
   "execution_count": 22,
   "metadata": {},
   "outputs": [
    {
     "data": {
      "text/plain": [
       "[0, 0, 10000000]"
      ]
     },
     "execution_count": 22,
     "metadata": {},
     "output_type": "execute_result"
    }
   ],
   "source": [
    "best_result"
   ]
  },
  {
   "cell_type": "code",
   "execution_count": null,
   "metadata": {},
   "outputs": [
    {
     "name": "stderr",
     "output_type": "stream",
     "text": [
      "/opt/anaconda3/lib/python3.7/site-packages/statsmodels/tsa/statespace/sarimax.py:949: UserWarning: Non-stationary starting autoregressive parameters found. Using zeros as starting parameters.\n",
      "  warn('Non-stationary starting autoregressive parameters'\n",
      "/opt/anaconda3/lib/python3.7/site-packages/statsmodels/base/model.py:512: ConvergenceWarning: Maximum Likelihood optimization failed to converge. Check mle_retvals\n",
      "  \"Check mle_retvals\", ConvergenceWarning)\n"
     ]
    },
    {
     "name": "stdout",
     "output_type": "stream",
     "text": [
      "order(5, 0, 5), s_order[0, 0, 0, 365] - AIC: 12292.966014202508\n"
     ]
    },
    {
     "name": "stderr",
     "output_type": "stream",
     "text": [
      "/opt/anaconda3/lib/python3.7/site-packages/statsmodels/base/model.py:512: ConvergenceWarning: Maximum Likelihood optimization failed to converge. Check mle_retvals\n",
      "  \"Check mle_retvals\", ConvergenceWarning)\n"
     ]
    },
    {
     "name": "stdout",
     "output_type": "stream",
     "text": [
      "order(5, 0, 5), s_order[0, 1, 0, 365] - AIC: 6284.460742766235\n"
     ]
    },
    {
     "name": "stderr",
     "output_type": "stream",
     "text": [
      "/opt/anaconda3/lib/python3.7/site-packages/statsmodels/tsa/statespace/sarimax.py:981: UserWarning: Non-stationary starting seasonal autoregressive Using zeros as starting parameters.\n",
      "  warn('Non-stationary starting seasonal autoregressive'\n",
      "/opt/anaconda3/lib/python3.7/site-packages/statsmodels/base/model.py:512: ConvergenceWarning: Maximum Likelihood optimization failed to converge. Check mle_retvals\n",
      "  \"Check mle_retvals\", ConvergenceWarning)\n"
     ]
    },
    {
     "name": "stdout",
     "output_type": "stream",
     "text": [
      "order(5, 0, 5), s_order[1, 0, 0, 365] - AIC: 12300.36036234298\n"
     ]
    },
    {
     "name": "stderr",
     "output_type": "stream",
     "text": [
      "/opt/anaconda3/lib/python3.7/site-packages/statsmodels/base/model.py:512: ConvergenceWarning: Maximum Likelihood optimization failed to converge. Check mle_retvals\n",
      "  \"Check mle_retvals\", ConvergenceWarning)\n"
     ]
    },
    {
     "name": "stdout",
     "output_type": "stream",
     "text": [
      "order(5, 1, 5), s_order[0, 0, 0, 365] - AIC: 12132.447704740618\n"
     ]
    }
   ],
   "source": [
    " \n",
    "best_result = [0, 0, 10000000]\n",
    "for param in pdq:\n",
    "    for param_seasonal in seasonal_pdq:\n",
    "        try:\n",
    "            mod = sm.tsa.statespace.SARIMAX(train.Streams,\n",
    "                          order = param,\n",
    "                          seasonal_order=param_seasonal,\n",
    "                          enforce_stationarity=False,\n",
    "                          enforce_invertibility=False)\n",
    " \n",
    "            results = mod.fit()\n",
    "             \n",
    "            print('order{}, s_order{} - AIC: {}'.format(param, param_seasonal, results.aic))\n",
    " \n",
    "            if results.aic > best_result[2]:\n",
    "                best_result = [param, param_seasonal, results.aic]\n",
    "        except:\n",
    "            continue"
   ]
  },
  {
   "cell_type": "code",
   "execution_count": 40,
   "metadata": {},
   "outputs": [
    {
     "ename": "NameError",
     "evalue": "name 'diff1' is not defined",
     "output_type": "error",
     "traceback": [
      "\u001b[0;31m---------------------------------------------------------------------------\u001b[0m",
      "\u001b[0;31mNameError\u001b[0m                                 Traceback (most recent call last)",
      "\u001b[0;32m<ipython-input-40-f52c4f6ea14f>\u001b[0m in \u001b[0;36m<module>\u001b[0;34m\u001b[0m\n\u001b[0;32m----> 1\u001b[0;31m \u001b[0mdiff1\u001b[0m\u001b[0;34m\u001b[0m\u001b[0;34m\u001b[0m\u001b[0m\n\u001b[0m",
      "\u001b[0;31mNameError\u001b[0m: name 'diff1' is not defined"
     ]
    }
   ],
   "source": []
  },
  {
   "cell_type": "code",
   "execution_count": null,
   "metadata": {},
   "outputs": [],
   "source": [
    "def aic_calculater(train_data,param):\n",
    "    try:\n",
    "        result = sm.tsa.statespace.SARIMAX(train_data,\n",
    "                                        order=(param[0], param[1], param[2]),\n",
    "                                   seasonal_order=(param[3], param[4], param[5], param[6]),\n",
    "                                        enforce_invertibility = False, enforce_stationarity = False,\n",
    "                                          trend=\"ct\").fit()\n",
    "#         aic = reuslt.aic\n",
    "    \n",
    "        return result\n",
    "    except:\n",
    "        return 0"
   ]
  },
  {
   "cell_type": "code",
   "execution_count": 24,
   "metadata": {},
   "outputs": [
    {
     "ename": "NameError",
     "evalue": "name 'ps_dump' is not defined",
     "output_type": "error",
     "traceback": [
      "\u001b[0;31m---------------------------------------------------------------------------\u001b[0m",
      "\u001b[0;31mNameError\u001b[0m                                 Traceback (most recent call last)",
      "\u001b[0;32m<ipython-input-24-d050d78bb38f>\u001b[0m in \u001b[0;36m<module>\u001b[0;34m\u001b[0m\n\u001b[0;32m----> 1\u001b[0;31m \u001b[0mps_dump\u001b[0m\u001b[0;34m(\u001b[0m\u001b[0;34m{\u001b[0m\u001b[0;34m\"hoge\"\u001b[0m\u001b[0;34m:\u001b[0m\u001b[0;34m\"hoge\"\u001b[0m\u001b[0;34m}\u001b[0m\u001b[0;34m)\u001b[0m\u001b[0;34m\u001b[0m\u001b[0;34m\u001b[0m\u001b[0m\n\u001b[0m",
      "\u001b[0;31mNameError\u001b[0m: name 'ps_dump' is not defined"
     ]
    }
   ],
   "source": []
  },
  {
   "cell_type": "code",
   "execution_count": null,
   "metadata": {},
   "outputs": [],
   "source": [
    "%%time\n",
    "\n",
    "import joblib\n",
    "res_list = joblib.Parallel(n_jobs=-1, verbose=10)([joblib.delayed(aic_calculater)(train.Streams,param) for param in seasonal_pdq])\n",
    " \n",
    "# # AICが小さくなる順にのパラメータの組み合わせを並べ変え\n"
   ]
  },
  {
   "cell_type": "code",
   "execution_count": 20,
   "metadata": {},
   "outputs": [
    {
     "ename": "NameError",
     "evalue": "name 'res_list' is not defined",
     "output_type": "error",
     "traceback": [
      "\u001b[0;31m---------------------------------------------------------------------------\u001b[0m",
      "\u001b[0;31mNameError\u001b[0m                                 Traceback (most recent call last)",
      "\u001b[0;32m<ipython-input-20-8fb03fcea2a6>\u001b[0m in \u001b[0;36m<module>\u001b[0;34m\u001b[0m\n\u001b[0;32m----> 1\u001b[0;31m \u001b[0mres_list\u001b[0m\u001b[0;34m\u001b[0m\u001b[0;34m\u001b[0m\u001b[0m\n\u001b[0m",
      "\u001b[0;31mNameError\u001b[0m: name 'res_list' is not defined"
     ]
    }
   ],
   "source": [
    "with open(\"./files/sarima_results.pkl\", \"wb\") as f:\n",
    "    pickle.dump(res_list,f)"
   ]
  },
  {
   "cell_type": "code",
   "execution_count": 15,
   "metadata": {},
   "outputs": [],
   "source": [
    "res_list = [{\"gege\":\"saaa\"},0]"
   ]
  },
  {
   "cell_type": "code",
   "execution_count": 23,
   "metadata": {},
   "outputs": [
    {
     "data": {
      "text/plain": [
       "['saaa', 0]"
      ]
     },
     "execution_count": 23,
     "metadata": {},
     "output_type": "execute_result"
    }
   ],
   "source": [
    "[r if r == 0 else r[\"gege\"] for r in res_list  ]"
   ]
  },
  {
   "cell_type": "code",
   "execution_count": null,
   "metadata": {},
   "outputs": [],
   "source": [
    "aic_df = pd.DataFrame({\"params\": seasonal_pdq, \"aic\": [r.aic if r == 0 else 0 for r in res_list]})\n",
    "aic_df.sort_values(\"aic\", inplace=True)\n",
    "aic_df"
   ]
  },
  {
   "cell_type": "code",
   "execution_count": null,
   "metadata": {},
   "outputs": [],
   "source": [
    "aic_df.head(10)"
   ]
  },
  {
   "cell_type": "code",
   "execution_count": 37,
   "metadata": {},
   "outputs": [],
   "source": [
    "# import pandas as pd\n",
    "# use_columns = [\"p\", \"d\", \"q\", \"AIC\"]\n",
    "info_df = pd.DataFrame(columns=use_columns)"
   ]
  },
  {
   "cell_type": "code",
   "execution_count": 45,
   "metadata": {},
   "outputs": [
    {
     "name": "stderr",
     "output_type": "stream",
     "text": [
      "/opt/anaconda3/lib/python3.7/site-packages/statsmodels/base/model.py:512: ConvergenceWarning: Maximum Likelihood optimization failed to converge. Check mle_retvals\n",
      "  \"Check mle_retvals\", ConvergenceWarning)\n"
     ]
    },
    {
     "name": "stdout",
     "output_type": "stream",
     "text": [
      "iter 0 finished... param :(4, 0, 3), aic14470.473082995488\n"
     ]
    },
    {
     "name": "stderr",
     "output_type": "stream",
     "text": [
      "/opt/anaconda3/lib/python3.7/site-packages/statsmodels/base/model.py:512: ConvergenceWarning: Maximum Likelihood optimization failed to converge. Check mle_retvals\n",
      "  \"Check mle_retvals\", ConvergenceWarning)\n"
     ]
    },
    {
     "name": "stdout",
     "output_type": "stream",
     "text": [
      "iter 1 finished... param :(4, 0, 4), aic14422.988875771864\n"
     ]
    },
    {
     "name": "stderr",
     "output_type": "stream",
     "text": [
      "/opt/anaconda3/lib/python3.7/site-packages/statsmodels/base/model.py:512: ConvergenceWarning: Maximum Likelihood optimization failed to converge. Check mle_retvals\n",
      "  \"Check mle_retvals\", ConvergenceWarning)\n"
     ]
    },
    {
     "name": "stdout",
     "output_type": "stream",
     "text": [
      "iter 2 finished... param :(4, 0, 5), aic14378.301322314604\n"
     ]
    },
    {
     "name": "stderr",
     "output_type": "stream",
     "text": [
      "/opt/anaconda3/lib/python3.7/site-packages/statsmodels/base/model.py:512: ConvergenceWarning: Maximum Likelihood optimization failed to converge. Check mle_retvals\n",
      "  \"Check mle_retvals\", ConvergenceWarning)\n"
     ]
    },
    {
     "name": "stdout",
     "output_type": "stream",
     "text": [
      "iter 3 finished... param :(4, 1, 3), aic14326.940804186019\n"
     ]
    },
    {
     "name": "stderr",
     "output_type": "stream",
     "text": [
      "/opt/anaconda3/lib/python3.7/site-packages/statsmodels/base/model.py:512: ConvergenceWarning: Maximum Likelihood optimization failed to converge. Check mle_retvals\n",
      "  \"Check mle_retvals\", ConvergenceWarning)\n"
     ]
    },
    {
     "name": "stdout",
     "output_type": "stream",
     "text": [
      "iter 4 finished... param :(4, 1, 4), aic14336.548555424903\n"
     ]
    },
    {
     "name": "stderr",
     "output_type": "stream",
     "text": [
      "/opt/anaconda3/lib/python3.7/site-packages/statsmodels/base/model.py:512: ConvergenceWarning: Maximum Likelihood optimization failed to converge. Check mle_retvals\n",
      "  \"Check mle_retvals\", ConvergenceWarning)\n"
     ]
    },
    {
     "name": "stdout",
     "output_type": "stream",
     "text": [
      "iter 5 finished... param :(4, 1, 5), aic14261.905609171314\n",
      "iter 6 finished... param :(4, 2, 3), aic14436.371483751755\n"
     ]
    },
    {
     "name": "stderr",
     "output_type": "stream",
     "text": [
      "/opt/anaconda3/lib/python3.7/site-packages/statsmodels/base/model.py:512: ConvergenceWarning: Maximum Likelihood optimization failed to converge. Check mle_retvals\n",
      "  \"Check mle_retvals\", ConvergenceWarning)\n"
     ]
    },
    {
     "name": "stdout",
     "output_type": "stream",
     "text": [
      "iter 7 finished... param :(4, 2, 4), aic14409.605093594371\n"
     ]
    },
    {
     "name": "stderr",
     "output_type": "stream",
     "text": [
      "/opt/anaconda3/lib/python3.7/site-packages/statsmodels/base/model.py:512: ConvergenceWarning: Maximum Likelihood optimization failed to converge. Check mle_retvals\n",
      "  \"Check mle_retvals\", ConvergenceWarning)\n"
     ]
    },
    {
     "name": "stdout",
     "output_type": "stream",
     "text": [
      "iter 8 finished... param :(4, 2, 5), aic14379.079233190983\n"
     ]
    },
    {
     "name": "stderr",
     "output_type": "stream",
     "text": [
      "/opt/anaconda3/lib/python3.7/site-packages/statsmodels/base/model.py:512: ConvergenceWarning: Maximum Likelihood optimization failed to converge. Check mle_retvals\n",
      "  \"Check mle_retvals\", ConvergenceWarning)\n"
     ]
    },
    {
     "name": "stdout",
     "output_type": "stream",
     "text": [
      "iter 9 finished... param :(5, 0, 3), aic14434.226485915256\n"
     ]
    },
    {
     "name": "stderr",
     "output_type": "stream",
     "text": [
      "/opt/anaconda3/lib/python3.7/site-packages/statsmodels/base/model.py:512: ConvergenceWarning: Maximum Likelihood optimization failed to converge. Check mle_retvals\n",
      "  \"Check mle_retvals\", ConvergenceWarning)\n"
     ]
    },
    {
     "name": "stdout",
     "output_type": "stream",
     "text": [
      "iter 10 finished... param :(5, 0, 4), aic14354.932488315348\n"
     ]
    },
    {
     "name": "stderr",
     "output_type": "stream",
     "text": [
      "/opt/anaconda3/lib/python3.7/site-packages/statsmodels/base/model.py:512: ConvergenceWarning: Maximum Likelihood optimization failed to converge. Check mle_retvals\n",
      "  \"Check mle_retvals\", ConvergenceWarning)\n"
     ]
    },
    {
     "name": "stdout",
     "output_type": "stream",
     "text": [
      "iter 11 finished... param :(5, 0, 5), aic14352.487057624134\n"
     ]
    },
    {
     "name": "stderr",
     "output_type": "stream",
     "text": [
      "/opt/anaconda3/lib/python3.7/site-packages/statsmodels/base/model.py:512: ConvergenceWarning: Maximum Likelihood optimization failed to converge. Check mle_retvals\n",
      "  \"Check mle_retvals\", ConvergenceWarning)\n"
     ]
    },
    {
     "name": "stdout",
     "output_type": "stream",
     "text": [
      "iter 12 finished... param :(5, 1, 3), aic14276.780453344385\n"
     ]
    },
    {
     "name": "stderr",
     "output_type": "stream",
     "text": [
      "/opt/anaconda3/lib/python3.7/site-packages/statsmodels/base/model.py:512: ConvergenceWarning: Maximum Likelihood optimization failed to converge. Check mle_retvals\n",
      "  \"Check mle_retvals\", ConvergenceWarning)\n"
     ]
    },
    {
     "name": "stdout",
     "output_type": "stream",
     "text": [
      "iter 13 finished... param :(5, 1, 4), aic14227.51366391924\n"
     ]
    },
    {
     "name": "stderr",
     "output_type": "stream",
     "text": [
      "/opt/anaconda3/lib/python3.7/site-packages/statsmodels/base/model.py:512: ConvergenceWarning: Maximum Likelihood optimization failed to converge. Check mle_retvals\n",
      "  \"Check mle_retvals\", ConvergenceWarning)\n"
     ]
    },
    {
     "name": "stdout",
     "output_type": "stream",
     "text": [
      "iter 14 finished... param :(5, 1, 5), aic14231.896564833105\n"
     ]
    },
    {
     "name": "stderr",
     "output_type": "stream",
     "text": [
      "/opt/anaconda3/lib/python3.7/site-packages/statsmodels/base/model.py:512: ConvergenceWarning: Maximum Likelihood optimization failed to converge. Check mle_retvals\n",
      "  \"Check mle_retvals\", ConvergenceWarning)\n"
     ]
    },
    {
     "name": "stdout",
     "output_type": "stream",
     "text": [
      "iter 15 finished... param :(5, 2, 3), aic14400.208135195775\n"
     ]
    },
    {
     "name": "stderr",
     "output_type": "stream",
     "text": [
      "/opt/anaconda3/lib/python3.7/site-packages/statsmodels/base/model.py:512: ConvergenceWarning: Maximum Likelihood optimization failed to converge. Check mle_retvals\n",
      "  \"Check mle_retvals\", ConvergenceWarning)\n"
     ]
    },
    {
     "name": "stdout",
     "output_type": "stream",
     "text": [
      "iter 16 finished... param :(5, 2, 4), aic14342.73756882191\n",
      "iter 17 finished... param :(5, 2, 5), aic14356.469587458154\n"
     ]
    },
    {
     "name": "stderr",
     "output_type": "stream",
     "text": [
      "/opt/anaconda3/lib/python3.7/site-packages/statsmodels/base/model.py:512: ConvergenceWarning: Maximum Likelihood optimization failed to converge. Check mle_retvals\n",
      "  \"Check mle_retvals\", ConvergenceWarning)\n"
     ]
    }
   ],
   "source": [
    "import itertools\n",
    "# p = [4,5]\n",
    "# d = [0,1,2]\n",
    "# q = [3,4,5]\n",
    "sp = range(3)\n",
    "sd = range(2)\n",
    "sq = range(3)\n",
    "# pdq = list(itertools.product(p, d, q))\n",
    "# trial_num = len(p_list) * len(d_list) * len(q_list) *len(sp_list) * len(sd_list) * len(sq_list)\n",
    "\n",
    "use_columns = [\"p\", \"d\", \"q\", \"AIC\"]\n",
    "step_cnt = 0\n",
    "train_data = raw_data\n",
    "\n",
    "info_df = pd.DataFrame(columns=use_columns)\n",
    "for i,param in enumerate(pdq):\n",
    "    model = sm.tsa.statespace.SARIMAX(train.Streams, order=param, enforce_invertibility=False,\n",
    "#                                               trend='t'\n",
    "                                      \n",
    "                                     )\n",
    "    p,d,q = param\n",
    "\n",
    "    try:\n",
    "        \n",
    "        res = model.fit(disp=False)\n",
    "        info_df = info_df.append(pd.Series([p,d,q,res.aic], index=use_columns),ignore_index=True)\n",
    "    except:\n",
    "        pass\n",
    "    print(f\"iter {i} finished... param :{param}, aic{res.aic}\")\n",
    "# for p in range(p_num):\n",
    "#     for d in range(d_num):\n",
    "#         for q in range(q_num):\n",
    "#             if p == 0 and q == 0:\n",
    "#                 continue\n",
    "#             model = sm.tsa.statespace.SARIMAX(train.Streams, order=param, enforce_invertibility=True,\n",
    "#                                               trend='t')\n",
    "#             param_list = [p, d, q]\n",
    "#             for name, val in zip(use_columns[:-1], param_list):\n",
    "#                 info_df.iloc[step_cnt][name] = val\n",
    "#             try:\n",
    "#                 result = model.fit(disp=False)\n",
    "#                 # print(result.aic)\n",
    "#                 info_df.iloc[step_cnt][\"AIC\"] = result.aic\n",
    "#             except:\n",
    "#                 pass\n",
    "#             step_cnt += 1\n",
    "#             print(\"Finish trial No. {}, Param: {}\".format(step_cnt, param_list))"
   ]
  },
  {
   "cell_type": "code",
   "execution_count": 46,
   "metadata": {},
   "outputs": [
    {
     "data": {
      "text/html": [
       "<div>\n",
       "<style scoped>\n",
       "    .dataframe tbody tr th:only-of-type {\n",
       "        vertical-align: middle;\n",
       "    }\n",
       "\n",
       "    .dataframe tbody tr th {\n",
       "        vertical-align: top;\n",
       "    }\n",
       "\n",
       "    .dataframe thead th {\n",
       "        text-align: right;\n",
       "    }\n",
       "</style>\n",
       "<table border=\"1\" class=\"dataframe\">\n",
       "  <thead>\n",
       "    <tr style=\"text-align: right;\">\n",
       "      <th></th>\n",
       "      <th>p</th>\n",
       "      <th>d</th>\n",
       "      <th>q</th>\n",
       "      <th>AIC</th>\n",
       "    </tr>\n",
       "  </thead>\n",
       "  <tbody>\n",
       "    <tr>\n",
       "      <th>13</th>\n",
       "      <td>5.0</td>\n",
       "      <td>1.0</td>\n",
       "      <td>4.0</td>\n",
       "      <td>14227.513664</td>\n",
       "    </tr>\n",
       "    <tr>\n",
       "      <th>14</th>\n",
       "      <td>5.0</td>\n",
       "      <td>1.0</td>\n",
       "      <td>5.0</td>\n",
       "      <td>14231.896565</td>\n",
       "    </tr>\n",
       "    <tr>\n",
       "      <th>5</th>\n",
       "      <td>4.0</td>\n",
       "      <td>1.0</td>\n",
       "      <td>5.0</td>\n",
       "      <td>14261.905609</td>\n",
       "    </tr>\n",
       "    <tr>\n",
       "      <th>12</th>\n",
       "      <td>5.0</td>\n",
       "      <td>1.0</td>\n",
       "      <td>3.0</td>\n",
       "      <td>14276.780453</td>\n",
       "    </tr>\n",
       "    <tr>\n",
       "      <th>3</th>\n",
       "      <td>4.0</td>\n",
       "      <td>1.0</td>\n",
       "      <td>3.0</td>\n",
       "      <td>14326.940804</td>\n",
       "    </tr>\n",
       "    <tr>\n",
       "      <th>4</th>\n",
       "      <td>4.0</td>\n",
       "      <td>1.0</td>\n",
       "      <td>4.0</td>\n",
       "      <td>14336.548555</td>\n",
       "    </tr>\n",
       "    <tr>\n",
       "      <th>16</th>\n",
       "      <td>5.0</td>\n",
       "      <td>2.0</td>\n",
       "      <td>4.0</td>\n",
       "      <td>14342.737569</td>\n",
       "    </tr>\n",
       "    <tr>\n",
       "      <th>11</th>\n",
       "      <td>5.0</td>\n",
       "      <td>0.0</td>\n",
       "      <td>5.0</td>\n",
       "      <td>14352.487058</td>\n",
       "    </tr>\n",
       "    <tr>\n",
       "      <th>10</th>\n",
       "      <td>5.0</td>\n",
       "      <td>0.0</td>\n",
       "      <td>4.0</td>\n",
       "      <td>14354.932488</td>\n",
       "    </tr>\n",
       "    <tr>\n",
       "      <th>17</th>\n",
       "      <td>5.0</td>\n",
       "      <td>2.0</td>\n",
       "      <td>5.0</td>\n",
       "      <td>14356.469587</td>\n",
       "    </tr>\n",
       "    <tr>\n",
       "      <th>2</th>\n",
       "      <td>4.0</td>\n",
       "      <td>0.0</td>\n",
       "      <td>5.0</td>\n",
       "      <td>14378.301322</td>\n",
       "    </tr>\n",
       "    <tr>\n",
       "      <th>8</th>\n",
       "      <td>4.0</td>\n",
       "      <td>2.0</td>\n",
       "      <td>5.0</td>\n",
       "      <td>14379.079233</td>\n",
       "    </tr>\n",
       "    <tr>\n",
       "      <th>15</th>\n",
       "      <td>5.0</td>\n",
       "      <td>2.0</td>\n",
       "      <td>3.0</td>\n",
       "      <td>14400.208135</td>\n",
       "    </tr>\n",
       "    <tr>\n",
       "      <th>7</th>\n",
       "      <td>4.0</td>\n",
       "      <td>2.0</td>\n",
       "      <td>4.0</td>\n",
       "      <td>14409.605094</td>\n",
       "    </tr>\n",
       "    <tr>\n",
       "      <th>1</th>\n",
       "      <td>4.0</td>\n",
       "      <td>0.0</td>\n",
       "      <td>4.0</td>\n",
       "      <td>14422.988876</td>\n",
       "    </tr>\n",
       "    <tr>\n",
       "      <th>9</th>\n",
       "      <td>5.0</td>\n",
       "      <td>0.0</td>\n",
       "      <td>3.0</td>\n",
       "      <td>14434.226486</td>\n",
       "    </tr>\n",
       "    <tr>\n",
       "      <th>6</th>\n",
       "      <td>4.0</td>\n",
       "      <td>2.0</td>\n",
       "      <td>3.0</td>\n",
       "      <td>14436.371484</td>\n",
       "    </tr>\n",
       "    <tr>\n",
       "      <th>0</th>\n",
       "      <td>4.0</td>\n",
       "      <td>0.0</td>\n",
       "      <td>3.0</td>\n",
       "      <td>14470.473083</td>\n",
       "    </tr>\n",
       "  </tbody>\n",
       "</table>\n",
       "</div>"
      ],
      "text/plain": [
       "      p    d    q           AIC\n",
       "13  5.0  1.0  4.0  14227.513664\n",
       "14  5.0  1.0  5.0  14231.896565\n",
       "5   4.0  1.0  5.0  14261.905609\n",
       "12  5.0  1.0  3.0  14276.780453\n",
       "3   4.0  1.0  3.0  14326.940804\n",
       "4   4.0  1.0  4.0  14336.548555\n",
       "16  5.0  2.0  4.0  14342.737569\n",
       "11  5.0  0.0  5.0  14352.487058\n",
       "10  5.0  0.0  4.0  14354.932488\n",
       "17  5.0  2.0  5.0  14356.469587\n",
       "2   4.0  0.0  5.0  14378.301322\n",
       "8   4.0  2.0  5.0  14379.079233\n",
       "15  5.0  2.0  3.0  14400.208135\n",
       "7   4.0  2.0  4.0  14409.605094\n",
       "1   4.0  0.0  4.0  14422.988876\n",
       "9   5.0  0.0  3.0  14434.226486\n",
       "6   4.0  2.0  3.0  14436.371484\n",
       "0   4.0  0.0  3.0  14470.473083"
      ]
     },
     "execution_count": 46,
     "metadata": {},
     "output_type": "execute_result"
    }
   ],
   "source": [
    "info_df.sort_values(by=\"AIC\")"
   ]
  },
  {
   "cell_type": "code",
   "execution_count": 105,
   "metadata": {},
   "outputs": [],
   "source": [
    "def make_lbtest_df(test_data, lags=10):\n",
    "    test_result = sm.stats.diagnostic.acorr_ljungbox(test_data, lags=lags)\n",
    "    lbtest_df = pd.DataFrame({\n",
    "        \"Q\": test_result[0],\"p-value\": test_result[1]})\n",
    "    lbtest_df = lbtest_df[[\"Q\", \"p-value\"]]\n",
    "    return lbtest_df"
   ]
  },
  {
   "cell_type": "markdown",
   "metadata": {},
   "source": [
    "25分くらいかかる"
   ]
  },
  {
   "cell_type": "code",
   "execution_count": null,
   "metadata": {},
   "outputs": [
    {
     "name": "stderr",
     "output_type": "stream",
     "text": [
      "/opt/anaconda3/lib/python3.7/site-packages/statsmodels/tsa/base/tsa_model.py:219: ValueWarning: A date index has been provided, but it has no associated frequency information and so will be ignored when e.g. forecasting.\n",
      "  ' ignored when e.g. forecasting.', ValueWarning)\n"
     ]
    }
   ],
   "source": [
    "%%time\n",
    "model= sm.tsa.statespace.SARIMAX(train.Streams, order=(5,1,10),\n",
    "                                 seasonal_order= (1, 0, 0, 250),#(1,0,0)\n",
    "                                 trend=\"ct\",\n",
    "                                 enforce_stationarity = False,\n",
    "                                 enforce_invertibility=False)\n",
    "results = model.fit()\n",
    "print(results.summary())"
   ]
  },
  {
   "cell_type": "code",
   "execution_count": 39,
   "metadata": {},
   "outputs": [
    {
     "ename": "AttributeError",
     "evalue": "module 'statsmodels.tsa.statespace.api' has no attribute 'ARIMA'",
     "output_type": "error",
     "traceback": [
      "\u001b[0;31m---------------------------------------------------------------------------\u001b[0m",
      "\u001b[0;31mAttributeError\u001b[0m                            Traceback (most recent call last)",
      "\u001b[0;32m<ipython-input-39-5af68623d9a5>\u001b[0m in \u001b[0;36m<module>\u001b[0;34m\u001b[0m\n\u001b[0;32m----> 1\u001b[0;31m \u001b[0mmodel514\u001b[0m\u001b[0;34m=\u001b[0m \u001b[0msm\u001b[0m\u001b[0;34m.\u001b[0m\u001b[0mtsa\u001b[0m\u001b[0;34m.\u001b[0m\u001b[0mstatespace\u001b[0m\u001b[0;34m.\u001b[0m\u001b[0mARIMA\u001b[0m\u001b[0;34m(\u001b[0m\u001b[0mtrain\u001b[0m\u001b[0;34m.\u001b[0m\u001b[0mStreams\u001b[0m\u001b[0;34m,\u001b[0m \u001b[0morder\u001b[0m\u001b[0;34m=\u001b[0m\u001b[0;34m(\u001b[0m\u001b[0;36m5\u001b[0m\u001b[0;34m,\u001b[0m \u001b[0;36m1\u001b[0m\u001b[0;34m,\u001b[0m \u001b[0;36m5\u001b[0m\u001b[0;34m)\u001b[0m\u001b[0;34m,\u001b[0m \u001b[0mtrend\u001b[0m\u001b[0;34m=\u001b[0m\u001b[0;34m'c'\u001b[0m\u001b[0;34m)\u001b[0m\u001b[0;34m\u001b[0m\u001b[0;34m\u001b[0m\u001b[0m\n\u001b[0m\u001b[1;32m      2\u001b[0m \u001b[0;31m# order(5, 0, 5), s_order[0, 1, 0, 365]\u001b[0m\u001b[0;34m\u001b[0m\u001b[0;34m\u001b[0m\u001b[0;34m\u001b[0m\u001b[0m\n\u001b[1;32m      3\u001b[0m \u001b[0mresults514\u001b[0m \u001b[0;34m=\u001b[0m \u001b[0mmodel514\u001b[0m\u001b[0;34m.\u001b[0m\u001b[0mfit\u001b[0m\u001b[0;34m(\u001b[0m\u001b[0;34m)\u001b[0m\u001b[0;34m\u001b[0m\u001b[0;34m\u001b[0m\u001b[0m\n\u001b[1;32m      4\u001b[0m \u001b[0mprint\u001b[0m\u001b[0;34m(\u001b[0m\u001b[0mresults514\u001b[0m\u001b[0;34m.\u001b[0m\u001b[0msummary\u001b[0m\u001b[0;34m(\u001b[0m\u001b[0;34m)\u001b[0m\u001b[0;34m)\u001b[0m\u001b[0;34m\u001b[0m\u001b[0;34m\u001b[0m\u001b[0m\n",
      "\u001b[0;31mAttributeError\u001b[0m: module 'statsmodels.tsa.statespace.api' has no attribute 'ARIMA'"
     ]
    }
   ],
   "source": [
    "model514= sm.tsa.statespace.ARIMA(train.Streams, order=(5, 1, 5), trend='c')\n",
    "# order(5, 0, 5), s_order[0, 1, 0, 365]\n",
    "results514 = model514.fit()\n",
    "print(results514.summary())"
   ]
  },
  {
   "cell_type": "code",
   "execution_count": null,
   "metadata": {},
   "outputs": [],
   "source": [
    "resid = results.resid\n",
    "print(resid.mean())\n",
    "lbtest514 = make_lbtest_df(resid)\n",
    "# lbtest202.index = range(1, 11)\n",
    "lbtest514"
   ]
  },
  {
   "cell_type": "code",
   "execution_count": 142,
   "metadata": {},
   "outputs": [
    {
     "data": {
      "text/plain": [
       "<matplotlib.axes._subplots.AxesSubplot at 0x7fc104932390>"
      ]
     },
     "execution_count": 142,
     "metadata": {},
     "output_type": "execute_result"
    },
    {
     "data": {
      "image/png": "[encoded data removed]",
      "text/plain": [
       "<Figure size 432x288 with 1 Axes>"
      ]
     },
     "metadata": {
      "needs_background": "light"
     },
     "output_type": "display_data"
    }
   ],
   "source": [
    "results.resid.plot()"
   ]
  },
  {
   "cell_type": "code",
   "execution_count": 109,
   "metadata": {},
   "outputs": [
    {
     "data": {
      "text/plain": [
       "{'fopt': 5.901378495647604,\n",
       " 'gopt': array([-2.53832511e-06, -2.96424991e-03,  5.66136960e-03,  5.01785262e-03,\n",
       "        -1.09193437e-03, -6.25129637e-04,  7.41304262e-04,  8.02440958e-04,\n",
       "        -1.85590521e-03, -1.22629524e-03,  1.59606088e-03,  3.93594490e-05]),\n",
       " 'fcalls': 793,\n",
       " 'warnflag': 1,\n",
       " 'converged': False,\n",
       " 'iterations': 50}"
      ]
     },
     "execution_count": 109,
     "metadata": {},
     "output_type": "execute_result"
    }
   ],
   "source": [
    "results.mle_retvals"
   ]
  },
  {
   "cell_type": "code",
   "execution_count": 101,
   "metadata": {},
   "outputs": [
    {
     "data": {
      "text/plain": [
       "<matplotlib.legend.Legend at 0x7fc15d239490>"
      ]
     },
     "execution_count": 101,
     "metadata": {},
     "output_type": "execute_result"
    },
    {
     "ename": "ValueError",
     "evalue": "view limit minimum -36894.75 is less than 1 and is an invalid Matplotlib date value. This often happens if you pass a non-datetime value to an axis that has datetime units",
     "output_type": "error",
     "traceback": [
      "\u001b[0;31m---------------------------------------------------------------------------\u001b[0m",
      "\u001b[0;31mValueError\u001b[0m                                Traceback (most recent call last)",
      "\u001b[0;32m/opt/anaconda3/lib/python3.7/site-packages/ipykernel/pylab/backend_inline.py\u001b[0m in \u001b[0;36mshow\u001b[0;34m(close, block)\u001b[0m\n\u001b[1;32m     37\u001b[0m             display(\n\u001b[1;32m     38\u001b[0m                 \u001b[0mfigure_manager\u001b[0m\u001b[0;34m.\u001b[0m\u001b[0mcanvas\u001b[0m\u001b[0;34m.\u001b[0m\u001b[0mfigure\u001b[0m\u001b[0;34m,\u001b[0m\u001b[0;34m\u001b[0m\u001b[0;34m\u001b[0m\u001b[0m\n\u001b[0;32m---> 39\u001b[0;31m                 \u001b[0mmetadata\u001b[0m\u001b[0;34m=\u001b[0m\u001b[0m_fetch_figure_metadata\u001b[0m\u001b[0;34m(\u001b[0m\u001b[0mfigure_manager\u001b[0m\u001b[0;34m.\u001b[0m\u001b[0mcanvas\u001b[0m\u001b[0;34m.\u001b[0m\u001b[0mfigure\u001b[0m\u001b[0;34m)\u001b[0m\u001b[0;34m\u001b[0m\u001b[0;34m\u001b[0m\u001b[0m\n\u001b[0m\u001b[1;32m     40\u001b[0m             )\n\u001b[1;32m     41\u001b[0m     \u001b[0;32mfinally\u001b[0m\u001b[0;34m:\u001b[0m\u001b[0;34m\u001b[0m\u001b[0;34m\u001b[0m\u001b[0m\n",
      "\u001b[0;32m/opt/anaconda3/lib/python3.7/site-packages/ipykernel/pylab/backend_inline.py\u001b[0m in \u001b[0;36m_fetch_figure_metadata\u001b[0;34m(fig)\u001b[0m\n\u001b[1;32m    175\u001b[0m         \u001b[0;31m# the background is transparent\u001b[0m\u001b[0;34m\u001b[0m\u001b[0;34m\u001b[0m\u001b[0;34m\u001b[0m\u001b[0m\n\u001b[1;32m    176\u001b[0m         ticksLight = _is_light([label.get_color()\n\u001b[0;32m--> 177\u001b[0;31m                                 \u001b[0;32mfor\u001b[0m \u001b[0maxes\u001b[0m \u001b[0;32min\u001b[0m \u001b[0mfig\u001b[0m\u001b[0;34m.\u001b[0m\u001b[0maxes\u001b[0m\u001b[0;34m\u001b[0m\u001b[0;34m\u001b[0m\u001b[0m\n\u001b[0m\u001b[1;32m    178\u001b[0m                                 \u001b[0;32mfor\u001b[0m \u001b[0maxis\u001b[0m \u001b[0;32min\u001b[0m \u001b[0;34m(\u001b[0m\u001b[0maxes\u001b[0m\u001b[0;34m.\u001b[0m\u001b[0mxaxis\u001b[0m\u001b[0;34m,\u001b[0m \u001b[0maxes\u001b[0m\u001b[0;34m.\u001b[0m\u001b[0myaxis\u001b[0m\u001b[0;34m)\u001b[0m\u001b[0;34m\u001b[0m\u001b[0;34m\u001b[0m\u001b[0m\n\u001b[1;32m    179\u001b[0m                                 for label in axis.get_ticklabels()])\n",
      "\u001b[0;32m/opt/anaconda3/lib/python3.7/site-packages/ipykernel/pylab/backend_inline.py\u001b[0m in \u001b[0;36m<listcomp>\u001b[0;34m(.0)\u001b[0m\n\u001b[1;32m    177\u001b[0m                                 \u001b[0;32mfor\u001b[0m \u001b[0maxes\u001b[0m \u001b[0;32min\u001b[0m \u001b[0mfig\u001b[0m\u001b[0;34m.\u001b[0m\u001b[0maxes\u001b[0m\u001b[0;34m\u001b[0m\u001b[0;34m\u001b[0m\u001b[0m\n\u001b[1;32m    178\u001b[0m                                 \u001b[0;32mfor\u001b[0m \u001b[0maxis\u001b[0m \u001b[0;32min\u001b[0m \u001b[0;34m(\u001b[0m\u001b[0maxes\u001b[0m\u001b[0;34m.\u001b[0m\u001b[0mxaxis\u001b[0m\u001b[0;34m,\u001b[0m \u001b[0maxes\u001b[0m\u001b[0;34m.\u001b[0m\u001b[0myaxis\u001b[0m\u001b[0;34m)\u001b[0m\u001b[0;34m\u001b[0m\u001b[0;34m\u001b[0m\u001b[0m\n\u001b[0;32m--> 179\u001b[0;31m                                 for label in axis.get_ticklabels()])\n\u001b[0m\u001b[1;32m    180\u001b[0m         \u001b[0;32mif\u001b[0m \u001b[0mticksLight\u001b[0m\u001b[0;34m.\u001b[0m\u001b[0msize\u001b[0m \u001b[0;32mand\u001b[0m \u001b[0;34m(\u001b[0m\u001b[0mticksLight\u001b[0m \u001b[0;34m==\u001b[0m \u001b[0mticksLight\u001b[0m\u001b[0;34m[\u001b[0m\u001b[0;36m0\u001b[0m\u001b[0;34m]\u001b[0m\u001b[0;34m)\u001b[0m\u001b[0;34m.\u001b[0m\u001b[0mall\u001b[0m\u001b[0;34m(\u001b[0m\u001b[0;34m)\u001b[0m\u001b[0;34m:\u001b[0m\u001b[0;34m\u001b[0m\u001b[0;34m\u001b[0m\u001b[0m\n\u001b[1;32m    181\u001b[0m             \u001b[0;31m# there are one or more tick labels, all with the same lightness\u001b[0m\u001b[0;34m\u001b[0m\u001b[0;34m\u001b[0m\u001b[0;34m\u001b[0m\u001b[0m\n",
      "\u001b[0;32m/opt/anaconda3/lib/python3.7/site-packages/matplotlib/axis.py\u001b[0m in \u001b[0;36mget_ticklabels\u001b[0;34m(self, minor, which)\u001b[0m\n\u001b[1;32m   1294\u001b[0m         \u001b[0;32mif\u001b[0m \u001b[0mminor\u001b[0m\u001b[0;34m:\u001b[0m\u001b[0;34m\u001b[0m\u001b[0;34m\u001b[0m\u001b[0m\n\u001b[1;32m   1295\u001b[0m             \u001b[0;32mreturn\u001b[0m \u001b[0mself\u001b[0m\u001b[0;34m.\u001b[0m\u001b[0mget_minorticklabels\u001b[0m\u001b[0;34m(\u001b[0m\u001b[0;34m)\u001b[0m\u001b[0;34m\u001b[0m\u001b[0;34m\u001b[0m\u001b[0m\n\u001b[0;32m-> 1296\u001b[0;31m         \u001b[0;32mreturn\u001b[0m \u001b[0mself\u001b[0m\u001b[0;34m.\u001b[0m\u001b[0mget_majorticklabels\u001b[0m\u001b[0;34m(\u001b[0m\u001b[0;34m)\u001b[0m\u001b[0;34m\u001b[0m\u001b[0;34m\u001b[0m\u001b[0m\n\u001b[0m\u001b[1;32m   1297\u001b[0m \u001b[0;34m\u001b[0m\u001b[0m\n\u001b[1;32m   1298\u001b[0m     \u001b[0;32mdef\u001b[0m \u001b[0mget_majorticklines\u001b[0m\u001b[0;34m(\u001b[0m\u001b[0mself\u001b[0m\u001b[0;34m)\u001b[0m\u001b[0;34m:\u001b[0m\u001b[0;34m\u001b[0m\u001b[0;34m\u001b[0m\u001b[0m\n",
      "\u001b[0;32m/opt/anaconda3/lib/python3.7/site-packages/matplotlib/axis.py\u001b[0m in \u001b[0;36mget_majorticklabels\u001b[0;34m(self)\u001b[0m\n\u001b[1;32m   1250\u001b[0m     \u001b[0;32mdef\u001b[0m \u001b[0mget_majorticklabels\u001b[0m\u001b[0;34m(\u001b[0m\u001b[0mself\u001b[0m\u001b[0;34m)\u001b[0m\u001b[0;34m:\u001b[0m\u001b[0;34m\u001b[0m\u001b[0;34m\u001b[0m\u001b[0m\n\u001b[1;32m   1251\u001b[0m         \u001b[0;34m'Return a list of Text instances for the major ticklabels.'\u001b[0m\u001b[0;34m\u001b[0m\u001b[0;34m\u001b[0m\u001b[0m\n\u001b[0;32m-> 1252\u001b[0;31m         \u001b[0mticks\u001b[0m \u001b[0;34m=\u001b[0m \u001b[0mself\u001b[0m\u001b[0;34m.\u001b[0m\u001b[0mget_major_ticks\u001b[0m\u001b[0;34m(\u001b[0m\u001b[0;34m)\u001b[0m\u001b[0;34m\u001b[0m\u001b[0;34m\u001b[0m\u001b[0m\n\u001b[0m\u001b[1;32m   1253\u001b[0m         \u001b[0mlabels1\u001b[0m \u001b[0;34m=\u001b[0m \u001b[0;34m[\u001b[0m\u001b[0mtick\u001b[0m\u001b[0;34m.\u001b[0m\u001b[0mlabel1\u001b[0m \u001b[0;32mfor\u001b[0m \u001b[0mtick\u001b[0m \u001b[0;32min\u001b[0m \u001b[0mticks\u001b[0m \u001b[0;32mif\u001b[0m \u001b[0mtick\u001b[0m\u001b[0;34m.\u001b[0m\u001b[0mlabel1\u001b[0m\u001b[0;34m.\u001b[0m\u001b[0mget_visible\u001b[0m\u001b[0;34m(\u001b[0m\u001b[0;34m)\u001b[0m\u001b[0;34m]\u001b[0m\u001b[0;34m\u001b[0m\u001b[0;34m\u001b[0m\u001b[0m\n\u001b[1;32m   1254\u001b[0m         \u001b[0mlabels2\u001b[0m \u001b[0;34m=\u001b[0m \u001b[0;34m[\u001b[0m\u001b[0mtick\u001b[0m\u001b[0;34m.\u001b[0m\u001b[0mlabel2\u001b[0m \u001b[0;32mfor\u001b[0m \u001b[0mtick\u001b[0m \u001b[0;32min\u001b[0m \u001b[0mticks\u001b[0m \u001b[0;32mif\u001b[0m \u001b[0mtick\u001b[0m\u001b[0;34m.\u001b[0m\u001b[0mlabel2\u001b[0m\u001b[0;34m.\u001b[0m\u001b[0mget_visible\u001b[0m\u001b[0;34m(\u001b[0m\u001b[0;34m)\u001b[0m\u001b[0;34m]\u001b[0m\u001b[0;34m\u001b[0m\u001b[0;34m\u001b[0m\u001b[0m\n",
      "\u001b[0;32m/opt/anaconda3/lib/python3.7/site-packages/matplotlib/axis.py\u001b[0m in \u001b[0;36mget_major_ticks\u001b[0;34m(self, numticks)\u001b[0m\n\u001b[1;32m   1405\u001b[0m         \u001b[0;34m'Get the tick instances; grow as necessary.'\u001b[0m\u001b[0;34m\u001b[0m\u001b[0;34m\u001b[0m\u001b[0m\n\u001b[1;32m   1406\u001b[0m         \u001b[0;32mif\u001b[0m \u001b[0mnumticks\u001b[0m \u001b[0;32mis\u001b[0m \u001b[0;32mNone\u001b[0m\u001b[0;34m:\u001b[0m\u001b[0;34m\u001b[0m\u001b[0;34m\u001b[0m\u001b[0m\n\u001b[0;32m-> 1407\u001b[0;31m             \u001b[0mnumticks\u001b[0m \u001b[0;34m=\u001b[0m \u001b[0mlen\u001b[0m\u001b[0;34m(\u001b[0m\u001b[0mself\u001b[0m\u001b[0;34m.\u001b[0m\u001b[0mget_majorticklocs\u001b[0m\u001b[0;34m(\u001b[0m\u001b[0;34m)\u001b[0m\u001b[0;34m)\u001b[0m\u001b[0;34m\u001b[0m\u001b[0;34m\u001b[0m\u001b[0m\n\u001b[0m\u001b[1;32m   1408\u001b[0m \u001b[0;34m\u001b[0m\u001b[0m\n\u001b[1;32m   1409\u001b[0m         \u001b[0;32mwhile\u001b[0m \u001b[0mlen\u001b[0m\u001b[0;34m(\u001b[0m\u001b[0mself\u001b[0m\u001b[0;34m.\u001b[0m\u001b[0mmajorTicks\u001b[0m\u001b[0;34m)\u001b[0m \u001b[0;34m<\u001b[0m \u001b[0mnumticks\u001b[0m\u001b[0;34m:\u001b[0m\u001b[0;34m\u001b[0m\u001b[0;34m\u001b[0m\u001b[0m\n",
      "\u001b[0;32m/opt/anaconda3/lib/python3.7/site-packages/matplotlib/axis.py\u001b[0m in \u001b[0;36mget_majorticklocs\u001b[0;34m(self)\u001b[0m\n\u001b[1;32m   1322\u001b[0m     \u001b[0;32mdef\u001b[0m \u001b[0mget_majorticklocs\u001b[0m\u001b[0;34m(\u001b[0m\u001b[0mself\u001b[0m\u001b[0;34m)\u001b[0m\u001b[0;34m:\u001b[0m\u001b[0;34m\u001b[0m\u001b[0;34m\u001b[0m\u001b[0m\n\u001b[1;32m   1323\u001b[0m         \u001b[0;34m\"\"\"Get the array of major tick locations in data coordinates.\"\"\"\u001b[0m\u001b[0;34m\u001b[0m\u001b[0;34m\u001b[0m\u001b[0m\n\u001b[0;32m-> 1324\u001b[0;31m         \u001b[0;32mreturn\u001b[0m \u001b[0mself\u001b[0m\u001b[0;34m.\u001b[0m\u001b[0mmajor\u001b[0m\u001b[0;34m.\u001b[0m\u001b[0mlocator\u001b[0m\u001b[0;34m(\u001b[0m\u001b[0;34m)\u001b[0m\u001b[0;34m\u001b[0m\u001b[0;34m\u001b[0m\u001b[0m\n\u001b[0m\u001b[1;32m   1325\u001b[0m \u001b[0;34m\u001b[0m\u001b[0m\n\u001b[1;32m   1326\u001b[0m     \u001b[0;32mdef\u001b[0m \u001b[0mget_minorticklocs\u001b[0m\u001b[0;34m(\u001b[0m\u001b[0mself\u001b[0m\u001b[0;34m)\u001b[0m\u001b[0;34m:\u001b[0m\u001b[0;34m\u001b[0m\u001b[0;34m\u001b[0m\u001b[0m\n",
      "\u001b[0;32m/opt/anaconda3/lib/python3.7/site-packages/matplotlib/dates.py\u001b[0m in \u001b[0;36m__call__\u001b[0;34m(self)\u001b[0m\n\u001b[1;32m   1429\u001b[0m     \u001b[0;32mdef\u001b[0m \u001b[0m__call__\u001b[0m\u001b[0;34m(\u001b[0m\u001b[0mself\u001b[0m\u001b[0;34m)\u001b[0m\u001b[0;34m:\u001b[0m\u001b[0;34m\u001b[0m\u001b[0;34m\u001b[0m\u001b[0m\n\u001b[1;32m   1430\u001b[0m         \u001b[0;34m'Return the locations of the ticks'\u001b[0m\u001b[0;34m\u001b[0m\u001b[0;34m\u001b[0m\u001b[0m\n\u001b[0;32m-> 1431\u001b[0;31m         \u001b[0mself\u001b[0m\u001b[0;34m.\u001b[0m\u001b[0mrefresh\u001b[0m\u001b[0;34m(\u001b[0m\u001b[0;34m)\u001b[0m\u001b[0;34m\u001b[0m\u001b[0;34m\u001b[0m\u001b[0m\n\u001b[0m\u001b[1;32m   1432\u001b[0m         \u001b[0;32mreturn\u001b[0m \u001b[0mself\u001b[0m\u001b[0;34m.\u001b[0m\u001b[0m_locator\u001b[0m\u001b[0;34m(\u001b[0m\u001b[0;34m)\u001b[0m\u001b[0;34m\u001b[0m\u001b[0;34m\u001b[0m\u001b[0m\n\u001b[1;32m   1433\u001b[0m \u001b[0;34m\u001b[0m\u001b[0m\n",
      "\u001b[0;32m/opt/anaconda3/lib/python3.7/site-packages/matplotlib/dates.py\u001b[0m in \u001b[0;36mrefresh\u001b[0;34m(self)\u001b[0m\n\u001b[1;32m   1449\u001b[0m     \u001b[0;32mdef\u001b[0m \u001b[0mrefresh\u001b[0m\u001b[0;34m(\u001b[0m\u001b[0mself\u001b[0m\u001b[0;34m)\u001b[0m\u001b[0;34m:\u001b[0m\u001b[0;34m\u001b[0m\u001b[0;34m\u001b[0m\u001b[0m\n\u001b[1;32m   1450\u001b[0m         \u001b[0;34m'Refresh internal information based on current limits.'\u001b[0m\u001b[0;34m\u001b[0m\u001b[0;34m\u001b[0m\u001b[0m\n\u001b[0;32m-> 1451\u001b[0;31m         \u001b[0mdmin\u001b[0m\u001b[0;34m,\u001b[0m \u001b[0mdmax\u001b[0m \u001b[0;34m=\u001b[0m \u001b[0mself\u001b[0m\u001b[0;34m.\u001b[0m\u001b[0mviewlim_to_dt\u001b[0m\u001b[0;34m(\u001b[0m\u001b[0;34m)\u001b[0m\u001b[0;34m\u001b[0m\u001b[0;34m\u001b[0m\u001b[0m\n\u001b[0m\u001b[1;32m   1452\u001b[0m         \u001b[0mself\u001b[0m\u001b[0;34m.\u001b[0m\u001b[0m_locator\u001b[0m \u001b[0;34m=\u001b[0m \u001b[0mself\u001b[0m\u001b[0;34m.\u001b[0m\u001b[0mget_locator\u001b[0m\u001b[0;34m(\u001b[0m\u001b[0mdmin\u001b[0m\u001b[0;34m,\u001b[0m \u001b[0mdmax\u001b[0m\u001b[0;34m)\u001b[0m\u001b[0;34m\u001b[0m\u001b[0;34m\u001b[0m\u001b[0m\n\u001b[1;32m   1453\u001b[0m \u001b[0;34m\u001b[0m\u001b[0m\n",
      "\u001b[0;32m/opt/anaconda3/lib/python3.7/site-packages/matplotlib/dates.py\u001b[0m in \u001b[0;36mviewlim_to_dt\u001b[0;34m(self)\u001b[0m\n\u001b[1;32m   1200\u001b[0m                              \u001b[0;34m'often happens if you pass a non-datetime '\u001b[0m\u001b[0;34m\u001b[0m\u001b[0;34m\u001b[0m\u001b[0m\n\u001b[1;32m   1201\u001b[0m                              \u001b[0;34m'value to an axis that has datetime units'\u001b[0m\u001b[0;34m\u001b[0m\u001b[0;34m\u001b[0m\u001b[0m\n\u001b[0;32m-> 1202\u001b[0;31m                              .format(vmin))\n\u001b[0m\u001b[1;32m   1203\u001b[0m         \u001b[0;32mreturn\u001b[0m \u001b[0mnum2date\u001b[0m\u001b[0;34m(\u001b[0m\u001b[0mvmin\u001b[0m\u001b[0;34m,\u001b[0m \u001b[0mself\u001b[0m\u001b[0;34m.\u001b[0m\u001b[0mtz\u001b[0m\u001b[0;34m)\u001b[0m\u001b[0;34m,\u001b[0m \u001b[0mnum2date\u001b[0m\u001b[0;34m(\u001b[0m\u001b[0mvmax\u001b[0m\u001b[0;34m,\u001b[0m \u001b[0mself\u001b[0m\u001b[0;34m.\u001b[0m\u001b[0mtz\u001b[0m\u001b[0;34m)\u001b[0m\u001b[0;34m\u001b[0m\u001b[0;34m\u001b[0m\u001b[0m\n\u001b[1;32m   1204\u001b[0m \u001b[0;34m\u001b[0m\u001b[0m\n",
      "\u001b[0;31mValueError\u001b[0m: view limit minimum -36894.75 is less than 1 and is an invalid Matplotlib date value. This often happens if you pass a non-datetime value to an axis that has datetime units"
     ]
    }
   ],
   "source": [
    "plt.clf()\n",
    "pd.concat([train.Streams, test.Streams]).reset_index(drop=True)\n",
    "plt.plot(pd.concat([train.Streams, test.Streams]).reset_index(drop=True),c=\"blue\", alpha=0.5)\n",
    "plt.plot(results.predict(start=1,end=1200),c=\"red\")\n",
    "plt.legend([\"data\",\"predict\"])\n"
   ]
  },
  {
   "cell_type": "code",
   "execution_count": 23,
   "metadata": {},
   "outputs": [
    {
     "name": "stdout",
     "output_type": "stream",
     "text": [
      "904\n"
     ]
    }
   ],
   "source": [
    "print(len(pd.concat([train.Streams, test.Streams]).reset_index(drop=True)))"
   ]
  },
  {
   "cell_type": "code",
   "execution_count": 67,
   "metadata": {},
   "outputs": [
    {
     "data": {
      "text/plain": [
       "722"
      ]
     },
     "execution_count": 67,
     "metadata": {},
     "output_type": "execute_result"
    }
   ],
   "source": [
    "len(train.Streams)"
   ]
  },
  {
   "cell_type": "code",
   "execution_count": 31,
   "metadata": {},
   "outputs": [
    {
     "name": "stderr",
     "output_type": "stream",
     "text": [
      "/opt/anaconda3/lib/python3.7/site-packages/statsmodels/tsa/base/tsa_model.py:576: ValueWarning: No supported index is available. Prediction results will be given with an integer index beginning at `start`.\n",
      "  ValueWarning)\n"
     ]
    },
    {
     "data": {
      "text/plain": [
       "<matplotlib.legend.Legend at 0x7f085f96b7d0>"
      ]
     },
     "execution_count": 31,
     "metadata": {},
     "output_type": "execute_result"
    },
    {
     "data": {
      "image/png": "[encoded data removed]",
      "text/plain": [
       "<Figure size 432x288 with 1 Axes>"
      ]
     },
     "metadata": {
      "needs_background": "light"
     },
     "output_type": "display_data"
    }
   ],
   "source": [
    "# train.Streams, order=(5,1,10),\n",
    "#                                  seasonal_order= (1, 1, 0, 300)\n",
    "# trend = \"ct\"\n",
    "total_kunren=pd.concat([train.Streams, test.Streams])\n",
    "plt.plot(total_kunren.reset_index(drop=True),c=\"blue\", alpha=0.5)\n",
    "plt.plot(results.predict(start=1,end=len(total_kunren)),c=\"red\")\n",
    "plt.legend([\"data\",\"predict\"])"
   ]
  },
  {
   "cell_type": "code",
   "execution_count": null,
   "metadata": {},
   "outputs": [],
   "source": [
    "total_kunren=pd.concat([train.Streams, test.Streams])\n",
    "plt.plot(total_kunren.reset_index(drop=True),c=\"blue\", alpha=0.5)\n",
    "plt.plot(results.predict(start=1,end=730).reset_index(drop=True),c=\"red\")\n",
    "plt.legend([\"data\",\"predict\"])\n"
   ]
  },
  {
   "cell_type": "code",
   "execution_count": null,
   "metadata": {},
   "outputs": [],
   "source": []
  },
  {
   "cell_type": "code",
   "execution_count": 66,
   "metadata": {},
   "outputs": [
    {
     "name": "stderr",
     "output_type": "stream",
     "text": [
      "/opt/anaconda3/lib/python3.7/site-packages/statsmodels/tsa/base/tsa_model.py:576: ValueWarning: No supported index is available. Prediction results will be given with an integer index beginning at `start`.\n",
      "  ValueWarning)\n"
     ]
    },
    {
     "data": {
      "text/plain": [
       "837.7590202579155"
      ]
     },
     "execution_count": 66,
     "metadata": {},
     "output_type": "execute_result"
    }
   ],
   "source": [
    "results.predict(start=1,end=len(total_kunren)).min()"
   ]
  },
  {
   "cell_type": "code",
   "execution_count": 108,
   "metadata": {},
   "outputs": [
    {
     "data": {
      "text/plain": [
       "4296.598030848865"
      ]
     },
     "execution_count": 108,
     "metadata": {},
     "output_type": "execute_result"
    }
   ],
   "source": [
    "results.aic"
   ]
  },
  {
   "cell_type": "code",
   "execution_count": 72,
   "metadata": {},
   "outputs": [
    {
     "name": "stderr",
     "output_type": "stream",
     "text": [
      "/opt/anaconda3/lib/python3.7/site-packages/statsmodels/tsa/base/tsa_model.py:576: ValueWarning: No supported index is available. Prediction results will be given with an integer index beginning at `start`.\n",
      "  ValueWarning)\n"
     ]
    },
    {
     "data": {
      "text/plain": [
       "1       1527.225218\n",
       "2        837.759020\n",
       "3       1171.933239\n",
       "4       1486.985057\n",
       "5       1539.330749\n",
       "           ...     \n",
       "905    22582.838192\n",
       "906    23275.731019\n",
       "907    23638.616799\n",
       "908    23107.251837\n",
       "909    22734.424745\n",
       "Length: 909, dtype: float64"
      ]
     },
     "execution_count": 72,
     "metadata": {},
     "output_type": "execute_result"
    }
   ],
   "source": [
    "results.predict(start=1,end=len(total_kunren))"
   ]
  },
  {
   "cell_type": "code",
   "execution_count": null,
   "metadata": {},
   "outputs": [],
   "source": []
  }
 ],
 "metadata": {
  "colab": {
   "collapsed_sections": [
    "mgwP2bnt6r0A"
   ],
   "include_colab_link": true,
   "name": "[Python講座]第4回Spotify APIを用いたデータ分析.ipynb",
   "provenance": []
  },
  "kernelspec": {
   "display_name": "Python 3",
   "language": "python",
   "name": "python3"
  },
  "language_info": {
   "codemirror_mode": {
    "name": "ipython",
    "version": 3
   },
   "file_extension": ".py",
   "mimetype": "text/x-python",
   "name": "python",
   "nbconvert_exporter": "python",
   "pygments_lexer": "ipython3",
   "version": "3.7.4"
  },
  "toc-showmarkdowntxt": true
 },
 "nbformat": 4,
 "nbformat_minor": 4
}
