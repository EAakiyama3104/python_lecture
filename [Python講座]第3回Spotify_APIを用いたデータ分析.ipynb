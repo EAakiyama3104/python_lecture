{
  "nbformat": 4,
  "nbformat_minor": 0,
  "metadata": {
    "colab": {
      "name": "[Python講座]第3回Spotify APIを用いたデータ分析.ipynb",
      "provenance": [],
      "collapsed_sections": [],
      "include_colab_link": true
    },
    "kernelspec": {
      "display_name": "Python 3",
      "language": "python",
      "name": "python3"
    },
    "language_info": {
      "codemirror_mode": {
        "name": "ipython",
        "version": 3
      },
      "file_extension": ".py",
      "mimetype": "text/x-python",
      "name": "python",
      "nbconvert_exporter": "python",
      "pygments_lexer": "ipython3",
      "version": "3.7.4"
    },
    "toc-showmarkdowntxt": true
  },
  "cells": [
    {
      "cell_type": "markdown",
      "metadata": {
        "id": "view-in-github",
        "colab_type": "text"
      },
      "source": [
        "<a href=\"https://colab.research.google.com/github/EAakiyama3104/python_lecture/blob/master/%5BPython%E8%AC%9B%E5%BA%A7%5D%E7%AC%AC3%E5%9B%9ESpotify_API%E3%82%92%E7%94%A8%E3%81%84%E3%81%9F%E3%83%87%E3%83%BC%E3%82%BF%E5%88%86%E6%9E%90.ipynb\" target=\"_parent\"><img src=\"https://colab.research.google.com/assets/colab-badge.svg\" alt=\"Open In Colab\"/></a>"
      ]
    },
    {
      "cell_type": "markdown",
      "metadata": {
        "id": "bNehLd2cpdeZ",
        "colab_type": "text"
      },
      "source": [
        "# 今回学ぶこと\n",
        "- spotify API を使って、曲の特徴や、ジャンルごとの曲取得を行うやり方\n",
        "- 統計モデルを使って、spotify ストリーミング再生数の予測を行うやり方"
      ]
    },
    {
      "cell_type": "markdown",
      "metadata": {
        "colab_type": "text",
        "id": "Y94VkoovflJe"
      },
      "source": [
        "## Spotify API とは\n",
        "\n",
        "* Spotify 上の音楽データを提供しているWeb API\n",
        "* Spotify上のアーティスト情報や曲の情報などを取得できる\n",
        "\n",
        "詳細: https://developer.spotify.com/documentation/web-api/reference/"
      ]
    },
    {
      "cell_type": "markdown",
      "metadata": {
        "colab_type": "text",
        "id": "3tKQXhZ0KMiP"
      },
      "source": [
        "Spotify API の特徴\n",
        "\n",
        "![代替テキスト](https://cdn-ssl-devio-img.classmethod.jp/wp-content/uploads/2017/12/spotify-api-overview.png)\n",
        "\n",
        "* Spotify URIやSpotify IDなど、Spotify特有のパラメータ情報をリクエスト、レスポンス時に扱うことがあります。\n",
        "* レート制限に引っかかるとステータスコード429が返却される。これが返ってきた場合は、Retry-Afterヘッダーの値を確認し、そこに記載されている秒の間はAPIをコールすることができない。\n",
        "\n",
        "* レスポンスデータは、JSON Object形式で取得します。\n",
        "\n",
        "* タイムスタンプはUTC zero offset形式（YYYY-MM-DDTHH:MM:SSZ）\n",
        "\n",
        "* 一部のAPIではページネーションをサポート（offset、limitパラメータで指定）\n",
        "\n",
        "* 多くのAPIでは、クライアント側でレスポンスデータのキャッシュを行うためのヘッダー情報が付与される。\n",
        "\n",
        "* レスポンスステータスコードは、RFC 2616 と RFC 6585に則って2xx、3xx、4xx、5xxを返す。\n",
        "\n",
        "* レスポンスデータのエラー表現には、下記2種類のフォーマットを使用する。\n",
        "\n",
        "  * Authentication Error Object\n",
        "  * Regular Error Object\n",
        "*APIをコールするにはOAuthアクセストークンが必要。"
      ]
    },
    {
      "cell_type": "markdown",
      "metadata": {
        "colab_type": "text",
        "id": "sxPITjDVKo13"
      },
      "source": [
        "認証方法の種類\n",
        "\n",
        "![代替テキスト](https://cdn-ssl-devio-img.classmethod.jp/wp-content/uploads/2017/12/Obtaining-Authorization.png)\n",
        "\n",
        "* App Authorization\n",
        "  * システム（Spotify）が、クライアントアプリケーションに、Spotify Platform (APIs, SDKs and Widgets)へアクセスすることを許可します。\n",
        "* User Authorization\n",
        "  * エンドユーザー（Spotifyのエンドユーザー）が、クライアントアプリケーションに、エンドユーザーが所有するデータへアクセスすることを許可します。"
      ]
    },
    {
      "cell_type": "markdown",
      "metadata": {
        "colab_type": "text",
        "id": "A1hBlVzKLdAg"
      },
      "source": [
        "アプリが認証の許可を得るための3つの方法\n",
        "\n",
        "\n",
        "* Refreshable user authorization: Authorization Code\n",
        "  * このフローでは、エンドユーザーはクライアントアプリケーションがリソースへアクセスすることを1度だけ許可します。そのため長期間稼働させるアプリケーションに適しています。 アプリケーションにはリフレッシュ可能なアクセストークンを提供されます。ちなみにトークン交換には秘密鍵の送信が含まれるため、ブラウザやモバイルアプリなどのクライアントからではなく、バックエンドサービスなどの安全な場所でこれを実行します。\n",
        "* Temporary user authorization: Implicit Grant\n",
        "  * このフローは、JavaScriptを使用するため、リソース所有者のブラウザで実行されるクライアントアプリケーション向けです。サーバー側のコードを使用する必要はありません。リクエストのレート制限は改善されていますが、リフレッシュトークンは提供されていません。このフローはRFC-6749で定義されています。\n",
        "* Refreshable app authorization: Client Credentials Flow\n",
        "  * このフローは、サーバー間認証で使用されます。エンドユーザー情報にアクセスしないエンドポイントのみにアクセスが可能です。\n",
        "  * このセミナーではこの認証方法を使用"
      ]
    },
    {
      "cell_type": "markdown",
      "metadata": {
        "colab_type": "text",
        "id": "9eYsUYrOfWsv"
      },
      "source": [
        "## アカウントを作る\n",
        "\n",
        "1. https://www.spotify.com/ にアクセスしてアカウントを作る。\n",
        "2. https://developer.spotify.com/my-applications に行ってログイン\n",
        "3. Create an Application に Application Name と Description を入れる\n",
        "4. Are you developing a commercial integration? と聞かれたら、この講座では NO を選択\n",
        "5. チェックボックスをオンにして Submit\n",
        "6. Client ID と Client Secret メモしておく。APIを呼ぶ際に使います。"
      ]
    },
    {
      "cell_type": "markdown",
      "metadata": {
        "colab_type": "text",
        "id": "qrWHr-hdn3Vf"
      },
      "source": [
        "## Spotipyのインストール\n",
        "\n",
        "Spotipy とは、Spotify APIを呼ぶためのPythonライブラリ\n",
        "\n",
        "* HTTPリクエストを送る操作をライブラリ内で行っているため、リクエストを意識せずに使うことができる\n",
        "* pip install spotipy でインストール"
      ]
    },
    {
      "cell_type": "code",
      "metadata": {
        "colab_type": "code",
        "id": "5enT2VJVoIKr",
        "scrolled": true,
        "colab": {}
      },
      "source": [
        "!pip install spotipy"
      ],
      "execution_count": 0,
      "outputs": []
    },
    {
      "cell_type": "code",
      "metadata": {
        "colab_type": "code",
        "id": "BOUzK1idfFr7",
        "colab": {}
      },
      "source": [
        "import spotipy"
      ],
      "execution_count": 0,
      "outputs": []
    },
    {
      "cell_type": "markdown",
      "metadata": {
        "colab_type": "text",
        "id": "DArFr-R0eSLz"
      },
      "source": [
        "spotipy.Spotify クラスがAPIへ様々なリクエストを送る\n",
        "\n",
        "https://spotipy.readthedocs.io/en/latest/#module-spotipy.client"
      ]
    },
    {
      "cell_type": "code",
      "metadata": {
        "colab_type": "code",
        "id": "n_4yp8T2aAEP",
        "colab": {}
      },
      "source": [
        "import spotipy\n",
        "from spotipy.oauth2 import SpotifyClientCredentials\n",
        "\n",
        "CLIENT_ID = \"ここにクライアントIDを入力\"\n",
        "CLIENT_SECRET = \"ここにクライアントシークレットを入力\"\n",
        "\n",
        "# 認証情報をセット\n",
        "client_credentials_manager = SpotifyClientCredentials(client_id=CLIENT_ID, client_secret=CLIENT_SECRET)\n",
        "# 認証情報を元に、APIクライアントを作成\n",
        "sp = spotipy.Spotify(client_credentials_manager=client_credentials_manager)"
      ],
      "execution_count": 0,
      "outputs": []
    },
    {
      "cell_type": "markdown",
      "metadata": {
        "colab_type": "text",
        "id": "lTK59tTLfVL1"
      },
      "source": [
        "プレイリストを取得\n",
        "\n",
        "公式リファレンス: https://developer.spotify.com/documentation/web-api/reference/playlists/get-list-users-playlists/\n",
        "\n",
        "Spotipyリファレンス: https://spotipy.readthedocs.io/en/latest/#spotipy.client.Spotify.user_playlist"
      ]
    },
    {
      "cell_type": "markdown",
      "metadata": {
        "colab_type": "text",
        "id": "x-PpDzJOkVmh"
      },
      "source": [
        "例: プレイリストのタイトルとURLを取得する"
      ]
    },
    {
      "cell_type": "code",
      "metadata": {
        "colab_type": "code",
        "id": "dn_fjMgB0mML",
        "scrolled": true,
        "colab": {}
      },
      "source": [
        "# Spotify 公式のプレイリストから2つ取得\n",
        "playlists = sp.user_playlists('spotify',limit=2)\n",
        "# 辞書形式で返却される\n",
        "type(playlists)"
      ],
      "execution_count": 0,
      "outputs": []
    },
    {
      "cell_type": "code",
      "metadata": {
        "colab_type": "code",
        "id": "50-vfnZO0PkP",
        "colab": {}
      },
      "source": [
        "birdy_uri = 'spotify:artist:2WX2uTcsvV5OnS0inACecP'\n",
        "spotify = spotipy.Spotify()\n",
        "\n",
        "results = sp.artist_albums(birdy_uri, album_type='album')\n",
        "albums = results['items']\n",
        "while results['next']:\n",
        "  results = sp.next(results)\n",
        "  albums.extend(results['items'])\n",
        "\n",
        "for album in albums:\n",
        "  print(album['name'])"
      ],
      "execution_count": 0,
      "outputs": []
    },
    {
      "cell_type": "markdown",
      "metadata": {
        "colab_type": "text",
        "id": "etsCeyF_S_JM"
      },
      "source": [
        "## 必要なライブラリを読み込み"
      ]
    },
    {
      "cell_type": "code",
      "metadata": {
        "colab_type": "code",
        "id": "Tz0P9ohlTBdx",
        "colab": {}
      },
      "source": [
        "import pandas as pd\n",
        "import seaborn as sns"
      ],
      "execution_count": 0,
      "outputs": []
    },
    {
      "cell_type": "markdown",
      "metadata": {
        "colab_type": "text",
        "id": "jXtETRbTSy5g"
      },
      "source": [
        "ジャンル情報を取得"
      ]
    },
    {
      "cell_type": "code",
      "metadata": {
        "colab_type": "code",
        "id": "iRW_dGQ7dLlt",
        "colab": {}
      },
      "source": [
        "pd.DataFrame(sp.recommendation_genre_seeds())"
      ],
      "execution_count": 0,
      "outputs": []
    },
    {
      "cell_type": "markdown",
      "metadata": {
        "colab_type": "text",
        "id": "IiofTWnHWZBl"
      },
      "source": [
        "特定のジャンルの曲を取得\n",
        "\n",
        "/search API を用いる\n",
        "\n",
        "* 公式リファレンス: https://developer.spotify.com/documentation/web-api/reference/search/search/\n",
        "* spotipy のリファレンス: https://spotipy.readthedocs.io/en/latest/#spotipy.client.Spotify.search"
      ]
    },
    {
      "cell_type": "code",
      "metadata": {
        "colab_type": "code",
        "id": "eqNSmhxf0D_n",
        "colab": {}
      },
      "source": [
        "# ジャンルで検索\n",
        "search_genre = sp.search(q='genre:acoustic', type='track', offset=0, limit=1)\n",
        "pprint(search_genre)"
      ],
      "execution_count": 0,
      "outputs": []
    },
    {
      "cell_type": "code",
      "metadata": {
        "colab_type": "code",
        "id": "My4KQ3JQ29HJ",
        "colab": {}
      },
      "source": [
        "# tracks > items から検索結果を取得\n",
        "pprint(search_genre['tracks']['items'])"
      ],
      "execution_count": 0,
      "outputs": []
    },
    {
      "cell_type": "code",
      "metadata": {
        "colab_type": "code",
        "id": "EN0JrJJ14qbA",
        "colab": {}
      },
      "source": [
        "# 曲名,idを取得\n",
        "\n",
        "pprint([f\"タイトル : {item['name']}, ID: {item['id']}\"  for item in search_genre['tracks']['items']])\n",
        "# フォーマット文字リテラルと言う仕組みによって、文字列内に変数が展開される　https://note.nkmk.me/python-f-strings/"
      ],
      "execution_count": 0,
      "outputs": []
    },
    {
      "cell_type": "markdown",
      "metadata": {
        "colab_type": "text",
        "id": "4un5CeWyHuKJ"
      },
      "source": [
        "## トラック ID から曲の特徴を取得\n",
        "\n",
        "/tracks/get-several-audio-features API を用いる\n",
        "\n",
        "spotipy では audio_features メソッド\n",
        "\n",
        "* https://developer.spotify.com/documentation/web-api/reference/tracks/get-several-audio-features/\n",
        "* https://spotipy.readthedocs.io/en/latest/#spotipy.client.Spotify.audio_features"
      ]
    },
    {
      "cell_type": "markdown",
      "metadata": {
        "colab_type": "text",
        "id": "TPiYqEKmIRkp"
      },
      "source": [
        "danceability\n",
        "\n",
        "danceability(踊りやすさ)は、テンポ、リズムの安定性、ビートの強さ、全体的な規則性などの音楽要素の組み合わせに基づいて、ダンスのための曲であるかを示します。0.0の値は、最も踊りずらいことを、1.0は、最も踊りやすいことを示します。\n",
        "\n",
        "energy\n",
        "\n",
        "エネルギーは、0.0から1.0の指標で、強度およびアクティブ度を表します。一般的には、エネルギッシュなトラックは、速く、音が大きく、騒々しい感じがします。例えば、デスメタルは高いエネルギーを持っていますが、バッハのプレリュードは低い値になります。この属性に寄与する知覚的属性は、ダイナミックレンジ、聴覚が感じる音量、音色、開始時点のレート、および一般的なエントロピーを含みます。\n",
        "\n",
        "loudness\n",
        "\n",
        "ラウドネスは、曲の全体的な音量をデシベル（dB）で表したものです。値は曲全体で平均化され、他の曲との相対的なラウドネスを比較するのに役立ちます。値の典型的な範囲は-60から0dbです。\n",
        "\n",
        "speechiness\n",
        "\n",
        "スピーチは、曲の中で話された単語の存在を検出します。録音（例えば、トークショー、オーディオブック、詩）のように、音声が占める割合が大きくなるほど、値は1.0に近くなります。0.66を超える値は、ほぼ完全に発声された単語で構成されている曲を表します。0.33と0.66の間の値は、ラップ音楽などのセクションまたはレイヤーのいずれかで、音楽とスピーチの両方を含む可能性がある曲を表します。0.33未満の値は、音楽やその他の非音声のような曲を表す可能性がかなり高いことを示します。\n",
        "\n",
        "acousticness\n",
        "\n",
        "曲がアコースティックかどうかを示す0.0から1.0の指標です。 1.0は曲がアコースティックであるということが高いということを意味します。\n",
        "\n",
        "instrumentalness\n",
        "\n",
        "曲にボーカルがないかどうかを予測します。この指標では、 “オー(Ooh)”とか “アー(aah)”の音は楽器の出した音として扱われます。ラップや話し言葉はボーカルとして扱われます。インストゥルメンタルネスの値が1.0に近いほど、曲にはボーカル・コンテンツが含まれていない可能性が高くなります。 0.5を超える値は、インストゥルメンタルの曲が通常示す値ですが、値が1.0に近づくほど信頼度が高くなります。\n",
        "\n",
        "liveness\n",
        "\n",
        "録音中に聴衆が存在したかを検出します。この値が高いほど、曲がライブで実行された可能性が高くなります。値が0.8を超えると、曲がライブである可能性が高くなります。\n",
        "\n",
        "valence\n",
        "\n",
        "曲が伝える音楽のポジティブ性を表す0.0から1.0の尺度。この指数の高い値の曲はより陽性（例えば、幸せ、陽気、陶酔）であり、低い指数の曲はより陰性となります（例えば、悲しい、落ち込んだ、怒る）。\n",
        "\n",
        "tempo\n",
        "\n",
        "曲の全体的な推定テンポ。1分あたりのビート(BPM)。音楽用語では、テンポは、ある曲のスピードまたはペースであり、平均ビート期間から導出されます。\n",
        "\n",
        "\n",
        "以下の記事より引用\n",
        "https://exploratory.io/note/2ac8ae888097/SpotifyJRockRockHard-Rock-7183595689717906"
      ]
    },
    {
      "cell_type": "markdown",
      "metadata": {
        "id": "bY-plfuAoMJq",
        "colab_type": "text"
      },
      "source": [
        "## 考察ポイント\n",
        "- [こちら](https://qiita.com/kazuya-n/items/fbee07ef778e166cb6dd#%E3%82%AF%E3%83%A9%E3%82%B9%E9%96%93%E3%81%AE%E9%96%A2%E4%BF%82%E3%81%AE%E5%88%86%E6%9E%90)を参考に、例えば人気の曲の傾向を分析してみるのもいいのかもしれない"
      ]
    },
    {
      "cell_type": "code",
      "metadata": {
        "colab_type": "code",
        "id": "2omnaCfrM6yI",
        "colab": {}
      },
      "source": [
        "# 曲の特徴を取得\n",
        "pprint(sp.audio_features(tracks=[search_genre['tracks']['items'][0]['id']]))"
      ],
      "execution_count": 0,
      "outputs": []
    },
    {
      "cell_type": "markdown",
      "metadata": {
        "colab_type": "text",
        "id": "SzD-_vxFWibp"
      },
      "source": [
        "\n",
        "\n",
        "```\n",
        "[{'acousticness': 0.469,\n",
        "  'analysis_url': 'https://api.spotify.com/v1/audio-analysis/5vjLSffimiIP26QG5WcN2K',\n",
        "  'danceability': 0.618,\n",
        "  'duration_ms': 198853,\n",
        "  'energy': 0.443,\n",
        "  'id': '5vjLSffimiIP26QG5WcN2K',\n",
        "  'instrumentalness': 0,\n",
        "  'key': 2,\n",
        "  'liveness': 0.0829,\n",
        "  'loudness': -9.681,\n",
        "  'mode': 1,\n",
        "  'speechiness': 0.0526,\n",
        "  'tempo': 119.949,\n",
        "  'time_signature': 4,\n",
        "  'track_href': 'https://api.spotify.com/v1/tracks/5vjLSffimiIP26QG5WcN2K',\n",
        "  'type': 'audio_features',\n",
        "  'uri': 'spotify:track:5vjLSffimiIP26QG5WcN2K',\n",
        "  'valence': 0.167}]\n",
        "```\n",
        "\n"
      ]
    },
    {
      "cell_type": "markdown",
      "metadata": {
        "colab_type": "text",
        "id": "8Ty0tVtpsULH"
      },
      "source": [
        "## ジャンル毎に100曲を取得"
      ]
    },
    {
      "cell_type": "code",
      "metadata": {
        "colab_type": "code",
        "id": "IkHVgMNuW4xI",
        "colab": {}
      },
      "source": [
        "# キーを定数に保存\n",
        "ACOUSTICNESS = 'acousticness'\n",
        "DANCEABILITY = 'danceability'\n",
        "INSTRUMENTALNESS = 'instrumentalness'\n",
        "LIVENESS = 'liveness'\n",
        "LOUDNESS = 'loudness'\n",
        "SPEECHINESS = 'speechiness'\n",
        "TEMPO = 'tempo'\n",
        "VALENCE = 'valence'"
      ],
      "execution_count": 0,
      "outputs": []
    },
    {
      "cell_type": "code",
      "metadata": {
        "colab_type": "code",
        "id": "A4zK5tA9sYaw",
        "colab": {}
      },
      "source": [
        "# データ格納用のdictionaryを用意\n",
        "tracks = {}\n",
        "tracks['id'] = []\n",
        "tracks['name'] = []\n",
        "tracks['genre'] = []\n",
        "tracks[ACOUSTICNESS] = []\n",
        "tracks[DANCEABILITY] = []\n",
        "tracks[INSTRUMENTALNESS] = []\n",
        "tracks[LIVENESS] = []\n",
        "tracks[LOUDNESS] = []\n",
        "tracks[SPEECHINESS] = []\n",
        "tracks[TEMPO] = []\n",
        "tracks[VALENCE] = []"
      ],
      "execution_count": 0,
      "outputs": []
    },
    {
      "cell_type": "code",
      "metadata": {
        "colab_type": "code",
        "id": "NouNhOoov0Tf",
        "colab": {}
      },
      "source": [
        "# ジャンル毎に1000個のトラックを取得し、tracks に保存\n",
        "TRACK_COUNT_PER_GENRE = 100 # ジャンル毎の曲数\n",
        "TRACK_COUNT_PER_SEARCH = 50 # 1回の検索で取得する曲数\n",
        "SEARCH_COUNT = int(TRACK_COUNT_PER_GENRE / TRACK_COUNT_PER_SEARCH) # 検索を行う回数 - この場合は2回になる\n",
        "genres_df = pd.DataFrame(sp.recommendation_genre_seeds()) # ジャンルを取得して、データフレームに変換\n",
        "for genre in genres_df['genres']:\n",
        "  for search_count in range(SEARCH_COUNT):\n",
        "    query = 'genre:' + genre # ジャンルで検索するようにクエリを作成\n",
        "    offset = TRACK_COUNT_PER_SEARCH * search_count # offsetで検索結果をページのようにズラしていく\n",
        "    search_results = sp.search(q=query, type='track', offset=offset, limit=TRACK_COUNT_PER_SEARCH) # 検索を行う\n",
        "    # items が空の場合は、そのジャンルの取得を終了\n",
        "    if not search_results['tracks']['items']: \n",
        "      break\n",
        "    # 取得したトラックのID\n",
        "    track_ids = []\n",
        "    # 各トラックに対して id などを track_ids, tracks に保存\n",
        "    for track in search_results['tracks']['items']:\n",
        "      track_ids.append(track.get('id'))\n",
        "      tracks['id'].append(track.get('id'))\n",
        "      tracks['name'].append(track.get('name'))\n",
        "      tracks['genre'].append(genre)\n",
        "    # 曲の特徴を取得\n",
        "    audio_features = sp.audio_features(tracks=track_ids)\n",
        "    # 各トラックに対して、曲の特徴を tracks に保存\n",
        "    for audio_feature in audio_features:\n",
        "      tracks[ACOUSTICNESS].append(audio_feature.get(ACOUSTICNESS))\n",
        "      tracks[DANCEABILITY].append(audio_feature.get(DANCEABILITY))\n",
        "      tracks[INSTRUMENTALNESS].append(audio_feature.get(INSTRUMENTALNESS))\n",
        "      tracks[LIVENESS].append(audio_feature.get(LIVENESS))\n",
        "      tracks[LOUDNESS].append(audio_feature.get(LOUDNESS))\n",
        "      tracks[SPEECHINESS].append(audio_feature.get(SPEECHINESS))\n",
        "      tracks[TEMPO].append(audio_feature.get(TEMPO))\n",
        "      tracks[VALENCE].append(audio_feature.get(VALENCE))"
      ],
      "execution_count": 0,
      "outputs": []
    },
    {
      "cell_type": "code",
      "metadata": {
        "colab_type": "code",
        "id": "XQz5od5aE0Ov",
        "colab": {}
      },
      "source": [
        "for key in tracks:\n",
        "  print(f'{key}: {len(tracks[key])}')"
      ],
      "execution_count": 0,
      "outputs": []
    },
    {
      "cell_type": "code",
      "metadata": {
        "colab_type": "code",
        "id": "r78PVwjUF3Es",
        "colab": {}
      },
      "source": [
        "tracks_df = pd.DataFrame(tracks)"
      ],
      "execution_count": 0,
      "outputs": []
    },
    {
      "cell_type": "code",
      "metadata": {
        "colab_type": "code",
        "id": "JjeB6WPxQB1T",
        "colab": {}
      },
      "source": [
        "tracks_df"
      ],
      "execution_count": 0,
      "outputs": []
    },
    {
      "cell_type": "markdown",
      "metadata": {
        "colab_type": "text",
        "id": "9jnQhFx4Mp1y"
      },
      "source": [
        "ジャンルの数と曲数が合わない理由\n",
        "\n",
        "どのトラックにも該当しないジャンルがある"
      ]
    },
    {
      "cell_type": "code",
      "metadata": {
        "colab_type": "code",
        "id": "21eZ3Z0BJ_DI",
        "colab": {}
      },
      "source": [
        "tracks_df['genre'].unique()"
      ],
      "execution_count": 0,
      "outputs": []
    },
    {
      "cell_type": "code",
      "metadata": {
        "colab_type": "code",
        "id": "7uxI5mZwKkz3",
        "colab": {}
      },
      "source": [
        "genres_df['genres'].unique()"
      ],
      "execution_count": 0,
      "outputs": []
    },
    {
      "cell_type": "markdown",
      "metadata": {
        "id": "8SJqMnD54vOI",
        "colab_type": "text"
      },
      "source": [
        "## Spotify データでトレンドを推定する。(時系列分析)\n",
        "\n",
        "### 時系列分析とは?\n",
        "時間とともに変化する現象を分析する事\n",
        "ex) 株価推移の予測, ウィルスの感染者推移など\n",
        "\n",
        "今回はSARIMAモデル（季節調整済み自己回帰和分移動平均モデル)を用いて、トレンドをストリーミング数を予測する。"
      ]
    },
    {
      "cell_type": "markdown",
      "metadata": {
        "id": "iG51QQFc4vOJ",
        "colab_type": "text"
      },
      "source": [
        "## 週間チャートをまとめたcsvを読み込む(前回用いたcsv）\n",
        "こちらのスクリプトによって、チャートのデータを取得することができる\n",
        "https://github.com/fbkarsdorp/spotify-chart"
      ]
    },
    {
      "cell_type": "code",
      "metadata": {
        "id": "ubDXc0Ek5jNe",
        "colab_type": "code",
        "colab": {}
      },
      "source": [
        "#ドライブをマウント\n",
        "from google.colab import drive\n",
        "drive.mount('/content/drive')"
      ],
      "execution_count": 0,
      "outputs": []
    },
    {
      "cell_type": "code",
      "metadata": {
        "id": "J40QuQ1U4vOK",
        "colab_type": "code",
        "colab": {}
      },
      "source": [
        "spotify_streaming = pd.read_csv(\"drive/My Drive/chart_weekly.csv\").iloc[:,1:]"
      ],
      "execution_count": 0,
      "outputs": []
    },
    {
      "cell_type": "code",
      "metadata": {
        "id": "-KQ4dJQr4vOS",
        "colab_type": "code",
        "colab": {}
      },
      "source": [
        "spotify_streaming\n",
        "# Position :順位, Track Name: 曲名, Artist: アーティスト名,Streams: 再生回数, URL:曲のURL,  Date：取得日にち"
      ],
      "execution_count": 0,
      "outputs": []
    },
    {
      "cell_type": "markdown",
      "metadata": {
        "id": "-dcLrOpg7B6e",
        "colab_type": "text"
      },
      "source": [
        "## 打上花火のトレンドをみてみる。"
      ]
    },
    {
      "cell_type": "code",
      "metadata": {
        "id": "LxbKuUJi4vOV",
        "colab_type": "code",
        "colab": {}
      },
      "source": [
        "UchiageHanabi_trend = spotify_streaming[spotify_streaming[\"Track Name\"] == \"打上花火\"].sort_values('date')\n",
        "UchiageHanabi_trend.index = spotify_streaming[spotify_streaming[\"Track Name\"] ==  \"打上花火\"].sort_values('date').date # index を日付にする。"
      ],
      "execution_count": 0,
      "outputs": []
    },
    {
      "cell_type": "code",
      "metadata": {
        "id": "331zYgN44vOh",
        "colab_type": "code",
        "colab": {}
      },
      "source": [
        "import matplotlib.pyplot as plt\n",
        "%matplotlib inline\n",
        "plt.subplots( figsize=(20, 10))\n",
        "UchiageHanabi_trend.Streams.plot()"
      ],
      "execution_count": 0,
      "outputs": []
    },
    {
      "cell_type": "markdown",
      "metadata": {
        "id": "5nNcoJzE7TF-",
        "colab_type": "text"
      },
      "source": [
        "## 今回は、2019年6月30日以降の再生数を統計モデルを使って予測する。"
      ]
    },
    {
      "cell_type": "code",
      "metadata": {
        "id": "M2dC58Vn4vPG",
        "colab_type": "code",
        "colab": {}
      },
      "source": [
        "#2019年を予測検証データに用いるため分ける\n",
        "# 訓練用のデータ\n",
        "train= UchiageHanabi_trend[ \n",
        "    (UchiageHanabi_trend.date <= \"2019-06-30\")].set_index(\"date\")[[\"Streams\"]]\n",
        "# test（検証用のデータ)\n",
        "test = UchiageHanabi_trend[UchiageHanabi_trend.date > \"2019-06-30\"].set_index(\"date\")[[\"Streams\"]]"
      ],
      "execution_count": 0,
      "outputs": []
    },
    {
      "cell_type": "markdown",
      "metadata": {
        "toc-hr-collapsed": false,
        "id": "KrEyA5GJ4vOr",
        "colab_type": "text"
      },
      "source": [
        "## 使用する統計モデルについて\n",
        "### 自己回帰（Auto Regression）モデル\n",
        "現在のデータは、過去のデータからどれだけ変化したかで表すことができるモデル。\n",
        "\n",
        "現在のデータ = 過去データ + ランダムの変化量\n",
        "### 移動平均(Moving Average)モデル\n",
        "\n",
        "現在のデータを、平均値＋ある時点までのホワイトノイズ（満遍なく出現されるランダムな数字）の合計+それらを調整する定数で表現することができるモデル(移動平均の計算と異なることに注意！）\n",
        "\n",
        "###それを合わせたのをARMAモデルと呼ぶ\n",
        "\n",
        "→でもそれだと「非定常性」の時系列に対応できない。。。。\n",
        "### 定常、非定常とは\n",
        "自己共分散（相関係数のパーツ）が時点によって定まらず、時間差によってのみ定まること（その時系列は弱定常だと言える）\n",
        "$$ Corr(y_t,y_{t-k}) = \\frac{Cov(y_t,y_t-k)}{\\sqrt{var(y_t)}\\sqrt{var(y_{t-k})}}= \\frac{\\gamma_k}{\\gamma_0} = \\rho_k$$\n",
        "簡単に言うと、長期的には平均に収束する（回帰する）系列を定常過程と呼ぶ。\n",
        "\n",
        "グラフにするとこんな感じ（ホワイトノイズの例）\n",
        "\n",
        "![代替テキスト](https://upload.wikimedia.org/wikipedia/commons/8/8b/White_noise.png)\n",
        "\n",
        "また逆に非定常の過程では平均には収束しない。\n",
        "\n",
        "グラフにするとこんな感じ(月ごとの飛行機の乗客数の例）\n",
        "![代替テキスト](https://logics-of-blue.com/wp-content/uploads/2017/05/python-time-series-1-data.png)\n",
        "株価などのランダムウォークのようなものは下がり続けることもあるし、上がり続けることもありますので平均に回帰するとは言いにくいです。（ちなみに、純粋なランダムウォークでは、一つ昔のデータと、現在のデータの差である階差の過程が定常過程になる。１階分の階差で定常過程になるもの単位根過程、２階分以上の階差で定常過程になるものを和分過程とよぶ）\n",
        "参考：https://to-kei.net/time-series-analysis/time_analy_random_walk/#i-6\n",
        "\n",
        "## 非定常過程（の中でも和分過程）に対しても推定できるようにするのがARIMAモデル\n",
        "\n",
        "さらに、季節などといった周期性のあるものを捉えられるようにするために必要なのがSARIMAモデル\n",
        "\n",
        "\n"
      ]
    },
    {
      "cell_type": "code",
      "metadata": {
        "id": "pegw4PfYIXDV",
        "colab_type": "code",
        "colab": {}
      },
      "source": [
        "# statsmodels と言う、統計処理用のライブラリを用いる。\n",
        "#(ver0.11でないと、不具合もあるため、バージョンを指定する。)\n",
        "!pip install statsmodels==0.11\n"
      ],
      "execution_count": 0,
      "outputs": []
    },
    {
      "cell_type": "markdown",
      "metadata": {
        "id": "_oflM3vn4vPJ",
        "colab_type": "text"
      },
      "source": [
        "## 階差と、コレログラムをプロット"
      ]
    },
    {
      "cell_type": "code",
      "metadata": {
        "id": "y62KVNv04vPK",
        "colab_type": "code",
        "colab": {}
      },
      "source": [
        "import statsmodels.api as sm\n",
        "import matplotlib.pyplot as plt\n",
        "import datetime\n",
        "%matplotlib inline\n",
        "plt.rcParams[\"font.size\"] = 10\n",
        "fig, ax = plt.subplots(2, 3, figsize=(20, 8))\n",
        "axes = ax.flatten()\n",
        "diff_color = \"blue\"\n",
        "# 階差を取得\n",
        "raw_data = train.Streams\n",
        "train_diff1 = raw_data.diff()\n",
        "axes[0].plot(raw_data)\n",
        "axes[0].set_title(\"raw_data\")\n",
        "fig = sm.graphics.tsa.plot_acf(raw_data, lags=52, ax=axes[1])\n",
        "fig = sm.graphics.tsa.plot_pacf(raw_data, lags=52, ax=axes[2])\n",
        "\n",
        "axes[3].plot(train_diff1.dropna(), color=diff_color, alpha=1)\n",
        "axes[3].set_title(\"diff1\")\n",
        "fig = sm.graphics.tsa.plot_acf(train_diff1, lags=52, ax=axes[4], color=diff_color)\n",
        "fig = sm.graphics.tsa.plot_pacf(train_diff1, lags=52, ax=axes[5], color=diff_color)\n",
        "# 左から、時系列グラフ、自己相関係数。偏自己相関係数（コレログラム）をプロットしたもの\n",
        "# 下図は、階差をした上でのグラフとなっている。"
      ],
      "execution_count": 0,
      "outputs": []
    },
    {
      "cell_type": "code",
      "metadata": {
        "id": "AC3oQZdi4vPM",
        "colab_type": "code",
        "colab": {}
      },
      "source": [
        "# ADF検定(上の時系列が単位根過程であるかを検定する)\n",
        "sm.tsa.stattools.adfuller(raw_data, \n",
        "                                   maxlag=None, \n",
        "                                   regression='c', \n",
        "                                   autolag='AIC', \n",
        "                                   store=False, \n",
        "                                   regresults=False)[1]\n"
      ],
      "execution_count": 0,
      "outputs": []
    },
    {
      "cell_type": "markdown",
      "metadata": {
        "id": "I4z2fgLF4vPR",
        "colab_type": "text"
      },
      "source": [
        "この値が\n",
        "**0.05の場合、単位根過程がなく、SARIMAが使えないので注意** "
      ]
    },
    {
      "cell_type": "markdown",
      "metadata": {
        "id": "HPQQ0Iwd4vPS",
        "colab_type": "text"
      },
      "source": [
        "## AIRMAで予測する"
      ]
    },
    {
      "cell_type": "code",
      "metadata": {
        "id": "9OpS9Np44vPT",
        "colab_type": "code",
        "colab": {}
      },
      "source": [
        "from statsmodels.tsa import arima_model\n",
        "import matplotlib.pyplot as plt\n",
        "\n",
        "results=arima_model.ARIMA(train.Streams.astype(\"float64\").reset_index(drop=True),order = [5,0,5]).fit()\n",
        "plt.clf()\n",
        "# plt.plot(pd.concat([train.Streams, test.Streams]).reset_index(drop=True),c=\"blue\", alpha=0.5)\n",
        "# plt.plot(results.predict(start=1,end=133),c=\"red\")\n",
        "# plt.legend([\"data\",\"predict\"])\n",
        "predicted=results.predict(start=97,end=132).reset_index(drop=True)\n",
        "predicted.index =test.Streams.index\n",
        "plt.subplots( figsize=(50, 10))\n",
        "plt.plot(test.Streams,c=\"blue\", alpha=0.5)\n",
        "plt.plot(predicted,c=\"red\")\n",
        "plt.legend([\"data\",\"predict\"])"
      ],
      "execution_count": 0,
      "outputs": []
    },
    {
      "cell_type": "markdown",
      "metadata": {
        "jupyter": {
          "outputs_hidden": true
        },
        "id": "5JDHqt4o4vPh",
        "colab_type": "text"
      },
      "source": [
        "あまりうまく適合してない...。"
      ]
    },
    {
      "cell_type": "markdown",
      "metadata": {
        "id": "NjY3FV_Y4vPi",
        "colab_type": "text"
      },
      "source": [
        "## sarimaxで予測する。\n",
        "- ARIMA 過程に季節調整(seasonal arrange 時系列データに季節といった周期性があるもの)を加える"
      ]
    },
    {
      "cell_type": "code",
      "metadata": {
        "id": "x6acb7Uz4vPk",
        "colab_type": "code",
        "colab": {}
      },
      "source": [
        "model= sm.tsa.statespace.SARIMAX(train.Streams, order=(1,0,1),\n",
        "                                 seasonal_order= (1,1, 2, 50),#(1,0,0)\n",
        "                                 trend=\"ct\",\n",
        "                                 enforce_stationarity = False,\n",
        "                                 enforce_invertibility=False)\n",
        "results = model.fit()\n",
        "print(results.summary())"
      ],
      "execution_count": 0,
      "outputs": []
    },
    {
      "cell_type": "markdown",
      "metadata": {
        "id": "lMP0uFBf4vPp",
        "colab_type": "text"
      },
      "source": [
        "## テストデータの予測"
      ]
    },
    {
      "cell_type": "code",
      "metadata": {
        "id": "MUZ1vGzF4vPq",
        "colab_type": "code",
        "colab": {}
      },
      "source": [
        "predicted=results.predict(start=97,end=132).reset_index(drop=True)\n",
        "predicted.index =test.Streams.index\n",
        "plt.subplots( figsize=(50, 10))\n",
        "plt.plot(test.Streams,c=\"blue\", alpha=0.5)\n",
        "plt.plot(predicted,c=\"red\")\n",
        "plt.legend([\"data\",\"predict\"])"
      ],
      "execution_count": 0,
      "outputs": []
    },
    {
      "cell_type": "markdown",
      "metadata": {
        "id": "tjFUisws4vPs",
        "colab_type": "text"
      },
      "source": [
        "## 全期間の予測"
      ]
    },
    {
      "cell_type": "code",
      "metadata": {
        "id": "hnovm93C4vPw",
        "colab_type": "code",
        "colab": {}
      },
      "source": [
        "total_term=pd.concat([train.Streams, test.Streams])\n",
        "plt.plot(total_term.reset_index(drop=True),c=\"blue\", alpha=0.5)\n",
        "plt.plot(results.predict(start=1,end=len(total_term)).reset_index(drop=True),c=\"red\")\n",
        "plt.legend([\"data\",\"predict\"])"
      ],
      "execution_count": 0,
      "outputs": []
    },
    {
      "cell_type": "code",
      "metadata": {
        "id": "eNgIBKTOzkG7",
        "colab_type": "code",
        "colab": {}
      },
      "source": [
        "results.mle_retvals # converged がTrue になっていること(最尤法が収束していること)を確認"
      ],
      "execution_count": 0,
      "outputs": []
    },
    {
      "cell_type": "markdown",
      "metadata": {
        "id": "MaZ5f-Bn4vPz",
        "colab_type": "text"
      },
      "source": [
        "## 任意課題"
      ]
    },
    {
      "cell_type": "markdown",
      "metadata": {
        "id": "iUGIeNKQ4vP0",
        "colab_type": "text"
      },
      "source": [
        "## sarimaxのパラメータを最適化する\n",
        "- パラメータは７つある。（ ARIMAX用のパラメータ 3つ + 季節調整用のARIMA パラメータ 3つ　+ 季節周期 1つ）\n",
        "- そのうち、どのパラメータの組み合わせが最適なのかをAICと言う指標を使う(参考：https://bellcurve.jp/statistics/blog/15754.html　指標が小さいほど、有用である可能性が高い)\n"
      ]
    },
    {
      "cell_type": "code",
      "metadata": {
        "id": "8_9btVGU4vP1",
        "colab_type": "code",
        "colab": {}
      },
      "source": [
        "import itertools\n",
        "p = [0,3]\n",
        "d = [0,1]\n",
        "q = [0,5]\n",
        "sp = [0,1]\n",
        "sd = [0,1]\n",
        "sq = [0,2]\n",
        "pdq = list(itertools.product(p, d, q))\n",
        "# P, D, Q, 季節調整用 SP, SD, SQ　の組み合わせを列挙するリストを作成すると同時に、最後の　s = 52　を決め打ちでつけている。\n",
        "seasonal_pdq = [[x[0], x[1], x[2], x[3],x[4],x[5], 52] for x in list(itertools.product(p,d,q,#))]\n",
        "                                                                     sp, sd, sq))]\n",
        "print(seasonal_pdq,f\"配列長は{len(seasonal_pdq)}\")"
      ],
      "execution_count": 0,
      "outputs": []
    },
    {
      "cell_type": "code",
      "metadata": {
        "id": "Ri_C3Sk24vP5",
        "colab_type": "code",
        "colab": {}
      },
      "source": [
        "def sarimax_fit(train_data,param):\n",
        "    try:\n",
        "        result = sm.tsa.statespace.SARIMAX(train_data,\n",
        "                                        order=(param[0], param[1], param[2]),\n",
        "                                   seasonal_order=(param[3], param[4], param[5],param[6]),\n",
        "                                        enforce_invertibility = False, enforce_stationarity = False,\n",
        "                                          trend=\"ct\"\n",
        "                                          ).fit()\n",
        "        return result\n",
        "    except Exception as e:\n",
        "        print(e)\n",
        "        return 0"
      ],
      "execution_count": 0,
      "outputs": []
    },
    {
      "cell_type": "code",
      "metadata": {
        "jupyter": {
          "outputs_hidden": true
        },
        "id": "1kirUopS4vQD",
        "colab_type": "code",
        "colab": {}
      },
      "source": [
        "\n",
        "import joblib\n",
        "res_list = joblib.Parallel(n_jobs=-1, verbose=10)([joblib.delayed(sarimax_fit)(train.Streams,param) for param in seasonal_pdq])\n",
        " \n",
        "# # AICが小さくなる順にのパラメータの組み合わせを並べ変え\n",
        "res_list"
      ],
      "execution_count": 0,
      "outputs": []
    },
    {
      "cell_type": "markdown",
      "metadata": {
        "id": "V_b5edUC4vQJ",
        "colab_type": "text"
      },
      "source": [
        "### AICを取り出す"
      ]
    },
    {
      "cell_type": "code",
      "metadata": {
        "id": "knPz42Is4vQK",
        "colab_type": "code",
        "colab": {}
      },
      "source": [
        "best_aic=1000\n",
        "best_col = -1\n",
        "for i,res in enumerate(res_list):\n",
        "    if best_aic > res.aic:\n",
        "        best_aic = res.aic\n",
        "        \n",
        "        print(res.aic)\n",
        "        best_col = i\n",
        "## もっとも少ないAIC をもつモデルを代入\n",
        "best_sarimax= res_list[best_col]\n",
        "aic_df = pd.DataFrame({\"params\": seasonal_pdq, \"aic\": [r.aic if r == 0 else 0 for r in res_list]})\n",
        "aic_df.sort_values(\"aic\", inplace=True)\n",
        "aic_df"
      ],
      "execution_count": 0,
      "outputs": []
    },
    {
      "cell_type": "code",
      "metadata": {
        "id": "d0pLsnh64vQN",
        "colab_type": "code",
        "colab": {}
      },
      "source": [
        "aic_df.head(10)"
      ],
      "execution_count": 0,
      "outputs": []
    },
    {
      "cell_type": "code",
      "metadata": {
        "jupyter": {
          "outputs_hidden": true,
          "source_hidden": true
        },
        "id": "q9iR_pLe4vQS",
        "colab_type": "code",
        "colab": {}
      },
      "source": [
        "import itertools\n",
        "# p = [4,5]\n",
        "# d = [0,1,2]\n",
        "# q = [3,4,5]\n",
        "sp = range(3)\n",
        "sd = range(2)\n",
        "sq = range(3)\n",
        "# pdq = list(itertools.product(p, d, q))\n",
        "# trial_num = len(p_list) * len(d_list) * len(q_list) *len(sp_list) * len(sd_list) * len(sq_list)\n",
        "\n",
        "use_columns = [\"p\", \"d\", \"q\", \"AIC\"]\n",
        "step_cnt = 0\n",
        "train_data = raw_data\n",
        "\n",
        "info_df = pd.DataFrame(columns=use_columns)\n",
        "for i,param in enumerate(pdq):\n",
        "    model = sm.tsa.statespace.SARIMAX(train.Streams, order=param, enforce_invertibility=False,\n",
        "#                                               trend='t'\n",
        "                                      \n",
        "                                     )\n",
        "    p,d,q = param\n",
        "\n",
        "    try:\n",
        "        \n",
        "        res = model.fit(disp=False)\n",
        "        info_df = info_df.append(pd.Series([p,d,q,res.aic], index=use_columns),ignore_index=True)\n",
        "    except:\n",
        "        pass\n",
        "    print(f\"iter {i} finished... param :{param}, aic{res.aic}\")\n"
      ],
      "execution_count": 0,
      "outputs": []
    },
    {
      "cell_type": "code",
      "metadata": {
        "id": "E6g9MEGXzfDW",
        "colab_type": "code",
        "colab": {}
      },
      "source": [
        ""
      ],
      "execution_count": 0,
      "outputs": []
    }
  ]
}