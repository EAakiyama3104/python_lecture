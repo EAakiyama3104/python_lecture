{
  "nbformat": 4,
  "nbformat_minor": 0,
  "metadata": {
    "colab": {
      "name": "[Python講座]第3回APIを使ったデータ収集.ipynb",
      "provenance": [],
      "collapsed_sections": [],
      "include_colab_link": true
    },
    "kernelspec": {
      "name": "python3",
      "display_name": "Python 3"
    }
  },
  "cells": [
    {
      "cell_type": "markdown",
      "metadata": {
        "id": "view-in-github",
        "colab_type": "text"
      },
      "source": [
        "<a href=\"https://colab.research.google.com/github/EAakiyama3104/python_lecture/blob/master/%5BPython%E8%AC%9B%E5%BA%A7%5D%E7%AC%AC3%E5%9B%9EAPI%E3%82%92%E4%BD%BF%E3%81%A3%E3%81%9F%E3%83%87%E3%83%BC%E3%82%BF%E5%8F%8E%E9%9B%86.ipynb\" target=\"_parent\"><img src=\"https://colab.research.google.com/assets/colab-badge.svg\" alt=\"Open In Colab\"/></a>"
      ]
    },
    {
      "cell_type": "markdown",
      "metadata": {
        "id": "DTOuZ4t-_rKx",
        "colab_type": "text"
      },
      "source": [
        "今回学ぶこと\n",
        "\n",
        "\n",
        "* YouTube Data API を呼ぶ方法\n",
        "* API からのレスポンスを使いやすい形式にまとめる\n",
        "* データを可視化\n",
        "* 1つのチャンネルのデータを分析\n",
        "* 複数のチャンネルのデータを分析\n",
        "\n",
        "\n"
      ]
    },
    {
      "cell_type": "markdown",
      "metadata": {
        "id": "mrz8_wnO6gue",
        "colab_type": "text"
      },
      "source": [
        "前準備"
      ]
    },
    {
      "cell_type": "code",
      "metadata": {
        "id": "5mbjZNi24oZR",
        "colab_type": "code",
        "colab": {}
      },
      "source": [
        "# 日本語フォントをダウンロードする。\n",
        "!apt-get -y install fonts-ipafont-gothic\n",
        "\n",
        "# キャッシュを削除する。\n",
        "!rm /root/.cache/matplotlib/fontList.json　# 旧cache\n",
        "!rm /root/.cache/matplotlib/fontlist-v310.json # 消すべきcache"
      ],
      "execution_count": 0,
      "outputs": []
    },
    {
      "cell_type": "markdown",
      "metadata": {
        "id": "NE9A_k8k780j",
        "colab_type": "text"
      },
      "source": [
        "※フォントを読み込むため、ランタイムを再起動してください"
      ]
    },
    {
      "cell_type": "code",
      "metadata": {
        "id": "3Syo38ob6wUN",
        "colab_type": "code",
        "colab": {}
      },
      "source": [
        "import matplotlib\n",
        "matplotlib.get_cachedir()"
      ],
      "execution_count": 0,
      "outputs": []
    },
    {
      "cell_type": "code",
      "metadata": {
        "id": "w0JayhHI61yT",
        "colab_type": "code",
        "colab": {}
      },
      "source": [
        "!ls /root/.cache/matplotlib"
      ],
      "execution_count": 0,
      "outputs": []
    },
    {
      "cell_type": "markdown",
      "metadata": {
        "id": "OYipfNmCTRBr",
        "colab_type": "text"
      },
      "source": [
        "YouTube Data APIを用います\n",
        "\n",
        "[YouTube Data API の概要](https://developers.google.com/youtube/v3/getting-started)\n",
        "\n",
        "1. Google アカウントを作成\n",
        "2. [Google API Console](https://console.developers.google.com)からプロジェクトを作成\n",
        "3. 「APIとサービスを有効化」をクリックし、「YouTube Data API」と検索。「YouTube Data API v3」を選択\n",
        "4. 「有効にする」をクリック\n",
        "5. 「認証情報」タブから「認証情報を作成」をクリック。APIキーを選択。\n",
        "6. 表示されたAPIキーをコピー\n",
        "\n",
        "\n",
        "\n",
        "\n",
        "\n",
        "\n"
      ]
    },
    {
      "cell_type": "code",
      "metadata": {
        "id": "OdlIsAwaQwnE",
        "colab_type": "code",
        "colab": {}
      },
      "source": [
        "# APIキーを以下の値にセット\n",
        "API_KEY = \"作成したAPIキーを入れてください。\""
      ],
      "execution_count": 0,
      "outputs": []
    },
    {
      "cell_type": "code",
      "metadata": {
        "id": "harbe2TPvgYw",
        "colab_type": "code",
        "colab": {}
      },
      "source": [
        "import apiclient\n",
        "\n",
        "import pandas as pd\n",
        "import seaborn as sns"
      ],
      "execution_count": 0,
      "outputs": []
    },
    {
      "cell_type": "code",
      "metadata": {
        "id": "nmWHGOQlzaj_",
        "colab_type": "code",
        "colab": {}
      },
      "source": [
        "# グラフ描画の設定\n",
        "sns.set_style(\"whitegrid\")\n",
        "sns.set_palette(\"husl\")\n",
        "sns.set_context(\"notebook\")\n",
        "sns.set(font='IPAGothic')"
      ],
      "execution_count": 0,
      "outputs": []
    },
    {
      "cell_type": "code",
      "metadata": {
        "id": "HF8PUYFEtUZV",
        "colab_type": "code",
        "colab": {}
      },
      "source": [
        "youtube_service = apiclient.discovery.build(\"youtube\", \"v3\", developerKey=API_KEY)"
      ],
      "execution_count": 0,
      "outputs": []
    },
    {
      "cell_type": "markdown",
      "metadata": {
        "id": "bWBvsDtaXImk",
        "colab_type": "text"
      },
      "source": [
        "1 グループのデータを分析"
      ]
    },
    {
      "cell_type": "code",
      "metadata": {
        "id": "8nEaNuw3utlL",
        "colab_type": "code",
        "colab": {}
      },
      "source": [
        "CHANNEL_ID = \"UCDwcZ85zjLKD-3-jqlv1wQQ\""
      ],
      "execution_count": 0,
      "outputs": []
    },
    {
      "cell_type": "code",
      "metadata": {
        "id": "Sxnyls-MuJUC",
        "colab_type": "code",
        "colab": {}
      },
      "source": [
        "channel_response = youtube_service.channels().list(part=\"contentDetails\", id=CHANNEL_ID).execute()\n",
        "channel_response"
      ],
      "execution_count": 0,
      "outputs": []
    },
    {
      "cell_type": "code",
      "metadata": {
        "id": "oeIGKvKOKaMM",
        "colab_type": "code",
        "colab": {}
      },
      "source": [
        "upload_playlist = channel_response[\"items\"][0][\"contentDetails\"][\"relatedPlaylists\"][\"uploads\"]\n",
        "upload_playlist"
      ],
      "execution_count": 0,
      "outputs": []
    },
    {
      "cell_type": "code",
      "metadata": {
        "id": "S-XN2Rh0Aypf",
        "colab_type": "code",
        "colab": {}
      },
      "source": [
        "channel_stats = {}\n",
        "channel_stats[\"video_id\"] = []\n",
        "channel_stats[\"title\"] = []\n",
        "channel_stats[\"view_count\"] = []\n",
        "channel_stats[\"comment_count\"] = []\n",
        "channel_stats[\"like_count\"] = []\n",
        "channel_stats[\"dislike_count\"] = []\n",
        "\n",
        "page_token = None\n",
        "while True:\n",
        "  playlist_items_response = youtube_service.playlistItems().list(part=\"snippet\", playlistId=upload_playlist, maxResults=50, pageToken=page_token).execute()\n",
        "  items = playlist_items_response[\"items\"]\n",
        "  video_ids = [item[\"snippet\"][\"resourceId\"][\"videoId\"] for item in items]\n",
        "  videos_response = youtube_service.videos().list(part=\"statistics,snippet\", id=\",\".join(video_ids)).execute()\n",
        "  videos_stats = videos_response[\"items\"]\n",
        "  for stat in videos_stats:\n",
        "    channel_stats[\"video_id\"].append(stat[\"id\"])\n",
        "    channel_stats[\"title\"].append(stat[\"snippet\"][\"title\"])\n",
        "    channel_stats[\"view_count\"].append(int(stat[\"statistics\"].get(\"viewCount\")) if stat[\"statistics\"].get(\"viewCount\") else None)\n",
        "    channel_stats[\"comment_count\"].append(int(stat[\"statistics\"].get(\"commentCount\")) if stat[\"statistics\"].get(\"commentCount\") else None)\n",
        "    channel_stats[\"like_count\"].append(int(stat[\"statistics\"].get(\"likeCount\")) if stat[\"statistics\"].get(\"likeCount\") else None)\n",
        "    channel_stats[\"dislike_count\"].append(int(stat[\"statistics\"].get(\"dislikeCount\")) if stat[\"statistics\"].get(\"dislikeCount\") else None)\n",
        "  if not \"nextPageToken\" in playlist_items_response:\n",
        "    break\n",
        "  else:\n",
        "    page_token = playlist_items_response[\"nextPageToken\"]"
      ],
      "execution_count": 0,
      "outputs": []
    },
    {
      "cell_type": "code",
      "metadata": {
        "id": "RE_rWiVIUNoU",
        "colab_type": "code",
        "colab": {}
      },
      "source": [
        "# Pandas DataFrame に変換\n",
        "channel_df = pd.DataFrame(channel_stats).dropna()"
      ],
      "execution_count": 0,
      "outputs": []
    },
    {
      "cell_type": "code",
      "metadata": {
        "id": "Ev-P-l6JoTZO",
        "colab_type": "code",
        "colab": {}
      },
      "source": [
        "channel_df[\"comment_ratio\"] = channel_df[\"comment_count\"] / channel_df[\"view_count\"] * 100\n",
        "channel_df[\"like_ratio\"] = channel_df[\"like_count\"] / channel_df[\"view_count\"] * 100\n",
        "channel_df[\"dislike_ratio\"] = channel_df[\"dislike_count\"] / channel_df[\"view_count\"] * 100\n",
        "channel_df[\"like_dislike_ratio\"] = channel_df[\"like_count\"] / (channel_df[\"like_count\"] + channel_df[\"dislike_count\"]) * 100"
      ],
      "execution_count": 0,
      "outputs": []
    },
    {
      "cell_type": "markdown",
      "metadata": {
        "id": "z5UTlsFRx2Fk",
        "colab_type": "text"
      },
      "source": [
        "再生数が多い順に動画を表示"
      ]
    },
    {
      "cell_type": "code",
      "metadata": {
        "id": "GITBGU6KxN-g",
        "colab_type": "code",
        "colab": {}
      },
      "source": [
        "channel_df.sort_values(by=\"view_count\", ascending=False).head(15)"
      ],
      "execution_count": 0,
      "outputs": []
    },
    {
      "cell_type": "markdown",
      "metadata": {
        "id": "MxFa6UBojTMx",
        "colab_type": "text"
      },
      "source": [
        "高評価と低評価の割合\n",
        "\n",
        "ヒストグラムは distplot を使用"
      ]
    },
    {
      "cell_type": "code",
      "metadata": {
        "id": "8Ld02TrtYk5E",
        "colab_type": "code",
        "colab": {}
      },
      "source": [
        "_ = sns.distplot(channel_df.like_dislike_ratio.dropna())"
      ],
      "execution_count": 0,
      "outputs": []
    },
    {
      "cell_type": "markdown",
      "metadata": {
        "id": "vWx1lR-Qo1Xu",
        "colab_type": "text"
      },
      "source": [
        "指標対指標の相関関係\n",
        "\n",
        "全パターンを一度に見る場合は pairplot を使用"
      ]
    },
    {
      "cell_type": "code",
      "metadata": {
        "id": "gmzizEHvVJL7",
        "colab_type": "code",
        "colab": {}
      },
      "source": [
        "_ = sns.pairplot(channel_df, diag_kind=\"kde\")"
      ],
      "execution_count": 0,
      "outputs": []
    },
    {
      "cell_type": "markdown",
      "metadata": {
        "id": "X23qMXKPpWFV",
        "colab_type": "text"
      },
      "source": [
        "気になった指標どうしは jointplot で詳細を確認"
      ]
    },
    {
      "cell_type": "code",
      "metadata": {
        "id": "G0P5qMDyY7_k",
        "colab_type": "code",
        "colab": {}
      },
      "source": [
        "_ = sns.jointplot('comment_ratio', 'like_ratio', data=channel_df)"
      ],
      "execution_count": 0,
      "outputs": []
    },
    {
      "cell_type": "markdown",
      "metadata": {
        "id": "o2lxTvGRXPrA",
        "colab_type": "text"
      },
      "source": [
        "複数グループのデータを比較"
      ]
    },
    {
      "cell_type": "code",
      "metadata": {
        "id": "W511AnXbFlvD",
        "colab_type": "code",
        "colab": {}
      },
      "source": [
        "YOUTUBE_CHANNELS = (\n",
        "    \"UCoKXb95K5h3sME3c9OCBaeA\", # モーニング娘。 ’19\n",
        "    \"UCxjXU89x6owat9dA8Z-bzdw\", # AKB48\n",
        "    # \"UCDwcZ85zjLKD-3-jqlv1wQQ\", # アンジュルム\n",
        "    # \"UC6FadPgGviUcq6VQ0CEJqdQ\", # Juice=Juice\n",
        "    # \"UCoxHJjctNXq1UgGk1vx3LUw\", # カントリー・ガールズ\n",
        "    # \"UCt3f_Tu1lNua1xLQZu2Td-w\", # こぶしファクトリー\n",
        "    # \"UCXTsCXNGHmePgo3a47hnsAA\", # つばきファクトリー\n",
        "    # \"UCE5GP4BHm2EJx4xyxBVSLlg\", # BEYOOOOONDS\n",
        "    \"UCzgEXy7eTK9EyhUbU0DZ_Lg\", # 26時のマスカレイド\n",
        "    \"UCv7VutirxDn3RWIJXI68n_A\", # =LOVE\n",
        "    \"UC6YNWTm6zuMFsjqd0PO3G-Q\", # ももいろクローバーZ\n",
        "    \"UCUzpZpX2wRYOk3J8QTFGxDg\", # 乃木坂46\n",
        "    \"UCmr9bYmymcBmQ1p2tLBRvwg\", # 欅坂46\n",
        "    \"UCmo55h1NKPRnxiU21b4AHFg\", # 虹のコンキスタドール\n",
        "    \"UC29nPPYXVGIhE3ZDMzLSbPQ\", # フィロソフィーのダンス\n",
        "    \"UCfVA-R7NDd1QCuCtvWEusqQ\", # アップアップガールズ\n",
        "    \"UClrYrddWLPz-18PyGK_ADPg\", # でんぱ組.inc\n",
        "    # \"UCe_oTYByLWQYCUmgmOMU_xw\", # IZ*ONE\n",
        "    # \"UCCRb6nYKaT8tzLA8CwDdUtw\", # TWICE\n",
        "    \"UClhL_woWoXnmKvv2H8_mxwg\", # 神宿\n",
        ")"
      ],
      "execution_count": 0,
      "outputs": []
    },
    {
      "cell_type": "code",
      "metadata": {
        "id": "_-JAwimLBmD2",
        "colab_type": "code",
        "colab": {}
      },
      "source": [
        "channel_dfs = []\n",
        "for channel_id in YOUTUBE_CHANNELS:\n",
        "  channel_response = youtube_service.channels().list(part=\"contentDetails\", id=channel_id).execute()\n",
        "  upload_playlist = channel_response[\"items\"][0][\"contentDetails\"][\"relatedPlaylists\"][\"uploads\"]\n",
        "  channel_stats = {}\n",
        "  channel_stats[\"video_id\"] = []\n",
        "  channel_stats[\"title\"] = []\n",
        "  channel_stats[\"channel_id\"] = []\n",
        "  channel_stats[\"channel_title\"] = []\n",
        "  channel_stats[\"view_count\"] = []\n",
        "  channel_stats[\"comment_count\"] = []\n",
        "  channel_stats[\"like_count\"] = []\n",
        "  channel_stats[\"dislike_count\"] = []\n",
        "\n",
        "  page_token = None\n",
        "  while True:\n",
        "    playlist_items_response = youtube_service.playlistItems().list(part=\"snippet\", playlistId=upload_playlist, maxResults=50, pageToken=page_token).execute()\n",
        "    items = playlist_items_response[\"items\"]\n",
        "    video_ids = [item[\"snippet\"][\"resourceId\"][\"videoId\"] for item in items]\n",
        "    videos_response = youtube_service.videos().list(part=\"statistics,snippet\", id=\",\".join(video_ids)).execute()\n",
        "    videos_stats = videos_response[\"items\"]\n",
        "    for stat in videos_stats:\n",
        "      channel_stats[\"video_id\"].append(stat[\"id\"])\n",
        "      channel_stats[\"title\"].append(stat[\"snippet\"][\"title\"])\n",
        "      channel_stats[\"channel_id\"].append(channel_id)\n",
        "      channel_stats[\"channel_title\"].append(stat[\"snippet\"][\"channelTitle\"])\n",
        "      channel_stats[\"view_count\"].append(int(stat[\"statistics\"].get(\"viewCount\")) if stat[\"statistics\"].get(\"viewCount\") else None)\n",
        "      channel_stats[\"comment_count\"].append(int(stat[\"statistics\"].get(\"commentCount\")) if stat[\"statistics\"].get(\"commentCount\") else None)\n",
        "      channel_stats[\"like_count\"].append(int(stat[\"statistics\"].get(\"likeCount\")) if stat[\"statistics\"].get(\"likeCount\") else None)\n",
        "      channel_stats[\"dislike_count\"].append(int(stat[\"statistics\"].get(\"dislikeCount\")) if stat[\"statistics\"].get(\"dislikeCount\") else None)\n",
        "    if not \"nextPageToken\" in playlist_items_response:\n",
        "      break\n",
        "    else:\n",
        "      page_token = playlist_items_response[\"nextPageToken\"]\n",
        "  channel_df = pd.DataFrame(channel_stats).dropna()\n",
        "  channel_df[\"comment_ratio\"] = channel_df[\"comment_count\"] / channel_df[\"view_count\"] * 100\n",
        "  channel_df[\"like_ratio\"] = channel_df[\"like_count\"] / channel_df[\"view_count\"] * 100\n",
        "  channel_df[\"dislike_ratio\"] = channel_df[\"dislike_count\"] / channel_df[\"view_count\"] * 100\n",
        "  channel_df[\"like_dislike_ratio\"] = channel_df[\"like_count\"] / (channel_df[\"like_count\"] + channel_df[\"dislike_count\"]) * 100\n",
        "  channel_dfs.append(channel_df)"
      ],
      "execution_count": 0,
      "outputs": []
    },
    {
      "cell_type": "code",
      "metadata": {
        "id": "CTDIhJRCsXn9",
        "colab_type": "code",
        "colab": {}
      },
      "source": [
        "master_df = pd.concat(channel_dfs)"
      ],
      "execution_count": 0,
      "outputs": []
    },
    {
      "cell_type": "code",
      "metadata": {
        "id": "rM8dF-ORsX5g",
        "colab_type": "code",
        "colab": {}
      },
      "source": [
        "master_df.sort_values(by=\"view_count\", ascending=False).head(10)"
      ],
      "execution_count": 0,
      "outputs": []
    },
    {
      "cell_type": "markdown",
      "metadata": {
        "id": "8gm2p8x-BSD_",
        "colab_type": "text"
      },
      "source": [
        "複数のグループを比較する時は、boxplot を使用"
      ]
    },
    {
      "cell_type": "markdown",
      "metadata": {
        "id": "kRRlkFzi5Ji4",
        "colab_type": "text"
      },
      "source": [
        "高評価と低評価の割合をチャンネル毎に比較"
      ]
    },
    {
      "cell_type": "code",
      "metadata": {
        "id": "SVluwBdt391B",
        "colab_type": "code",
        "colab": {}
      },
      "source": [
        "_ = sns.boxplot(y=\"channel_title\", x=\"like_dislike_ratio\", data=master_df, orient=\"h\", showfliers=False)"
      ],
      "execution_count": 0,
      "outputs": []
    },
    {
      "cell_type": "markdown",
      "metadata": {
        "id": "C5vMWKVI9oXX",
        "colab_type": "text"
      },
      "source": [
        "チャンネル毎に、コメント率を比較"
      ]
    },
    {
      "cell_type": "code",
      "metadata": {
        "id": "I1puX-n88hoZ",
        "colab_type": "code",
        "colab": {}
      },
      "source": [
        "_ = sns.boxplot(y=\"channel_title\", x=\"comment_ratio\", data=master_df, orient=\"h\", showfliers=False)"
      ],
      "execution_count": 0,
      "outputs": []
    },
    {
      "cell_type": "markdown",
      "metadata": {
        "id": "DhKoWkZ48apE",
        "colab_type": "text"
      },
      "source": [
        "<考察例>\n",
        "コメント率が高いほど、熱心なファンが多いと言える。\n",
        "熱心なファンの割合が多いグループはまだライト層が相対的に少ないので、より人気が出る可能性が高い。"
      ]
    }
  ]
}