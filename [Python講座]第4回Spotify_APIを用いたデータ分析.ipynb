{
  "nbformat": 4,
  "nbformat_minor": 0,
  "metadata": {
    "colab": {
      "name": "[Python講座]第4回Spotify APIを用いたデータ分析.ipynb",
      "provenance": [],
      "collapsed_sections": [
        "mgwP2bnt6r0A"
      ],
      "include_colab_link": true
    },
    "kernelspec": {
      "name": "python3",
      "display_name": "Python 3"
    }
  },
  "cells": [
    {
      "cell_type": "markdown",
      "metadata": {
        "id": "view-in-github",
        "colab_type": "text"
      },
      "source": [
        "<a href=\"https://colab.research.google.com/github/EAakiyama3104/python_lecture/blob/master/%5BPython%E8%AC%9B%E5%BA%A7%5D%E7%AC%AC4%E5%9B%9ESpotify_API%E3%82%92%E7%94%A8%E3%81%84%E3%81%9F%E3%83%87%E3%83%BC%E3%82%BF%E5%88%86%E6%9E%90.ipynb\" target=\"_parent\"><img src=\"https://colab.research.google.com/assets/colab-badge.svg\" alt=\"Open In Colab\"/></a>"
      ]
    },
    {
      "cell_type": "markdown",
      "metadata": {
        "id": "Y94VkoovflJe",
        "colab_type": "text"
      },
      "source": [
        "## Spotify API とは\n",
        "\n",
        "* Spotify 上の音楽データを提供しているWeb API\n",
        "* Spotify上のアーティスト情報や曲の情報などを取得できる\n",
        "\n",
        "詳細: https://developer.spotify.com/documentation/web-api/reference/"
      ]
    },
    {
      "cell_type": "markdown",
      "metadata": {
        "id": "3tKQXhZ0KMiP",
        "colab_type": "text"
      },
      "source": [
        "Spotify API の特徴\n",
        "\n",
        "![代替テキスト](https://cdn-ssl-devio-img.classmethod.jp/wp-content/uploads/2017/12/spotify-api-overview.png)\n",
        "\n",
        "* Spotify URIやSpotify IDなど、Spotify特有のパラメータ情報をリクエスト、レスポンス時に扱うことがあります。\n",
        "* レート制限に引っかかるとステータスコード429が返却される。これが返ってきた場合は、Retry-Afterヘッダーの値を確認し、そこに記載されている秒の間はAPIをコールすることができない。\n",
        "\n",
        "* レスポンスデータは、JSON Object形式で取得します。\n",
        "\n",
        "* タイムスタンプはUTC zero offset形式（YYYY-MM-DDTHH:MM:SSZ）\n",
        "\n",
        "* 一部のAPIではページネーションをサポート（offset、limitパラメータで指定）\n",
        "\n",
        "* 多くのAPIでは、クライアント側でレスポンスデータのキャッシュを行うためのヘッダー情報が付与される。\n",
        "\n",
        "* レスポンスステータスコードは、RFC 2616 と RFC 6585に則って2xx、3xx、4xx、5xxを返す。\n",
        "\n",
        "* レスポンスデータのエラー表現には、下記2種類のフォーマットを使用する。\n",
        "\n",
        "  * Authentication Error Object\n",
        "  * Regular Error Object\n",
        "*APIをコールするにはOAuthアクセストークンが必要。"
      ]
    },
    {
      "cell_type": "markdown",
      "metadata": {
        "id": "sxPITjDVKo13",
        "colab_type": "text"
      },
      "source": [
        "認証方法の種類\n",
        "\n",
        "![代替テキスト](https://cdn-ssl-devio-img.classmethod.jp/wp-content/uploads/2017/12/Obtaining-Authorization.png)\n",
        "\n",
        "* App Authorization\n",
        "  * システム（Spotify）が、クライアントアプリケーションに、Spotify Platform (APIs, SDKs and Widgets)へアクセスすることを許可します。\n",
        "* User Authorization\n",
        "  * エンドユーザー（Spotifyのエンドユーザー）が、クライアントアプリケーションに、エンドユーザーが所有するデータへアクセスすることを許可します。"
      ]
    },
    {
      "cell_type": "markdown",
      "metadata": {
        "id": "A1hBlVzKLdAg",
        "colab_type": "text"
      },
      "source": [
        "アプリが認証の許可を得るための3つの方法\n",
        "\n",
        "\n",
        "* Refreshable user authorization: Authorization Code\n",
        "  * このフローでは、エンドユーザーはクライアントアプリケーションがリソースへアクセスすることを1度だけ許可します。そのため長期間稼働させるアプリケーションに適しています。 アプリケーションにはリフレッシュ可能なアクセストークンを提供されます。ちなみにトークン交換には秘密鍵の送信が含まれるため、ブラウザやモバイルアプリなどのクライアントからではなく、バックエンドサービスなどの安全な場所でこれを実行します。\n",
        "* Temporary user authorization: Implicit Grant\n",
        "  * このフローは、JavaScriptを使用するため、リソース所有者のブラウザで実行されるクライアントアプリケーション向けです。サーバー側のコードを使用する必要はありません。リクエストのレート制限は改善されていますが、リフレッシュトークンは提供されていません。このフローはRFC-6749で定義されています。\n",
        "* Refreshable app authorization: Client Credentials Flow\n",
        "  * このフローは、サーバー間認証で使用されます。エンドユーザー情報にアクセスしないエンドポイントのみにアクセスが可能です。\n",
        "  * このセミナーではこの認証方法を使用"
      ]
    },
    {
      "cell_type": "markdown",
      "metadata": {
        "id": "9eYsUYrOfWsv",
        "colab_type": "text"
      },
      "source": [
        "## アカウントを作る\n",
        "\n",
        "1. https://www.spotify.com/ にアクセスしてアカウントを作る。\n",
        "2. https://developer.spotify.com/my-applications に行ってログイン\n",
        "3. Create an Application に Application Name と Description を入れる\n",
        "4. Are you developing a commercial integration? と聞かれたら、この講座では NO を選択\n",
        "5. チェックボックスをオンにして Submit\n",
        "6. Client ID と Client Secret メモしておく。APIを呼ぶ際に使います。"
      ]
    },
    {
      "cell_type": "markdown",
      "metadata": {
        "id": "qrWHr-hdn3Vf",
        "colab_type": "text"
      },
      "source": [
        "## Spotipyのインストール\n",
        "\n",
        "Spotipy とは、Spotify APIを呼ぶためのPythonライブラリ\n",
        "\n",
        "* HTTPリクエストを送る操作をライブラリ内で行っているため、リクエストを意識せずに使うことができる\n",
        "* pip install spotipy でインストール"
      ]
    },
    {
      "cell_type": "code",
      "metadata": {
        "id": "5enT2VJVoIKr",
        "colab_type": "code",
        "colab": {}
      },
      "source": [
        "!pip install spotipy"
      ],
      "execution_count": 0,
      "outputs": []
    },
    {
      "cell_type": "code",
      "metadata": {
        "id": "BOUzK1idfFr7",
        "colab_type": "code",
        "colab": {}
      },
      "source": [
        "import spotipy"
      ],
      "execution_count": 0,
      "outputs": []
    },
    {
      "cell_type": "markdown",
      "metadata": {
        "id": "DArFr-R0eSLz",
        "colab_type": "text"
      },
      "source": [
        "spotipy.Spotify クラスがAPIへ様々なリクエストを送る\n",
        "\n",
        "https://spotipy.readthedocs.io/en/latest/#module-spotipy.client"
      ]
    },
    {
      "cell_type": "code",
      "metadata": {
        "id": "n_4yp8T2aAEP",
        "colab_type": "code",
        "colab": {}
      },
      "source": [
        "import spotipy\n",
        "from spotipy.oauth2 import SpotifyClientCredentials\n",
        "\n",
        "CLIENT_ID = \"\"\n",
        "CLIENT_SECRET = \"\"\n",
        "\n",
        "# 認証情報をセット\n",
        "client_credentials_manager = SpotifyClientCredentials(client_id=CLIENT_ID, client_secret=CLIENT_SECRET)\n",
        "# 認証情報を元に、APIクライアントを作成\n",
        "sp = spotipy.Spotify(client_credentials_manager=client_credentials_manager)"
      ],
      "execution_count": 0,
      "outputs": []
    },
    {
      "cell_type": "markdown",
      "metadata": {
        "id": "lTK59tTLfVL1",
        "colab_type": "text"
      },
      "source": [
        "プレイリストを取得\n",
        "\n",
        "公式リファレンス: https://developer.spotify.com/documentation/web-api/reference/playlists/get-list-users-playlists/\n",
        "\n",
        "Spotipyリファレンス: https://spotipy.readthedocs.io/en/latest/#spotipy.client.Spotify.user_playlist"
      ]
    },
    {
      "cell_type": "markdown",
      "metadata": {
        "id": "x-PpDzJOkVmh",
        "colab_type": "text"
      },
      "source": [
        "例: プレイリストのタイトルとURLを取得する"
      ]
    },
    {
      "cell_type": "code",
      "metadata": {
        "id": "dn_fjMgB0mML",
        "colab_type": "code",
        "colab": {}
      },
      "source": [
        "# Spotify 公式のプレイリストから2つ取得\n",
        "playlists = sp.user_playlists('spotify', limit=2)\n",
        "playlists"
      ],
      "execution_count": 0,
      "outputs": []
    },
    {
      "cell_type": "markdown",
      "metadata": {
        "id": "lUGSw_aSj000",
        "colab_type": "text"
      },
      "source": [
        "pprint を用いるとよりきれいにデータを表示できる\n",
        "\n",
        "https://docs.python.org/ja/3/library/pprint.html"
      ]
    },
    {
      "cell_type": "code",
      "metadata": {
        "id": "s02XUFWmjyAs",
        "colab_type": "code",
        "colab": {}
      },
      "source": [
        "from pprint import pprint"
      ],
      "execution_count": 0,
      "outputs": []
    },
    {
      "cell_type": "code",
      "metadata": {
        "id": "ZLo90ITfjXAN",
        "colab_type": "code",
        "colab": {}
      },
      "source": [
        "pprint(playlists)"
      ],
      "execution_count": 0,
      "outputs": []
    },
    {
      "cell_type": "code",
      "metadata": {
        "id": "s2mwk2UrkA4Q",
        "colab_type": "code",
        "colab": {}
      },
      "source": [
        "pprint(playlists['items'])"
      ],
      "execution_count": 0,
      "outputs": []
    },
    {
      "cell_type": "code",
      "metadata": {
        "id": "lFKaZuweNSR_",
        "colab_type": "code",
        "colab": {}
      },
      "source": [
        "pprint(playlists['items'][0])"
      ],
      "execution_count": 0,
      "outputs": []
    },
    {
      "cell_type": "code",
      "metadata": {
        "id": "es62AMXdOGWs",
        "colab_type": "code",
        "colab": {}
      },
      "source": [
        "# タイトルを取得\n",
        "pprint(playlists['items'][0]['name'])"
      ],
      "execution_count": 0,
      "outputs": []
    },
    {
      "cell_type": "code",
      "metadata": {
        "id": "o0AlZtitOaQu",
        "colab_type": "code",
        "colab": {}
      },
      "source": [
        "# URLを取得\n",
        "pprint(playlists['items'][0]['external_urls']['spotify'])"
      ],
      "execution_count": 0,
      "outputs": []
    },
    {
      "cell_type": "code",
      "metadata": {
        "id": "tggqeHOxP2iJ",
        "colab_type": "code",
        "colab": {}
      },
      "source": [
        "# 複数のタイトルとURLを取得\n",
        "for playlist in playlists['items']:\n",
        "  # playlists['items'][0] を playlist で置き換える\n",
        "  pprint('タイトル: ' + playlist['name'])\n",
        "  pprint('URL: ' + playlist['external_urls']['spotify'])"
      ],
      "execution_count": 0,
      "outputs": []
    },
    {
      "cell_type": "code",
      "metadata": {
        "id": "50-vfnZO0PkP",
        "colab_type": "code",
        "colab": {}
      },
      "source": [
        "birdy_uri = 'spotify:artist:2WX2uTcsvV5OnS0inACecP'\n",
        "spotify = spotipy.Spotify()\n",
        "\n",
        "results = sp.artist_albums(birdy_uri, album_type='album')\n",
        "albums = results['items']\n",
        "while results['next']:\n",
        "  results = sp.next(results)\n",
        "  albums.extend(results['items'])\n",
        "\n",
        "for album in albums:\n",
        "  print(album['name'])"
      ],
      "execution_count": 0,
      "outputs": []
    },
    {
      "cell_type": "markdown",
      "metadata": {
        "id": "etsCeyF_S_JM",
        "colab_type": "text"
      },
      "source": [
        "必要なライブラリを読み込み"
      ]
    },
    {
      "cell_type": "code",
      "metadata": {
        "id": "Tz0P9ohlTBdx",
        "colab_type": "code",
        "colab": {}
      },
      "source": [
        "import pandas as pd\n",
        "import seaborn as sns"
      ],
      "execution_count": 0,
      "outputs": []
    },
    {
      "cell_type": "markdown",
      "metadata": {
        "id": "jXtETRbTSy5g",
        "colab_type": "text"
      },
      "source": [
        "ジャンル情報を取得"
      ]
    },
    {
      "cell_type": "code",
      "metadata": {
        "id": "2F-w7A11c49h",
        "colab_type": "code",
        "colab": {}
      },
      "source": [
        "sp.recommendation_genre_seeds()"
      ],
      "execution_count": 0,
      "outputs": []
    },
    {
      "cell_type": "code",
      "metadata": {
        "id": "iRW_dGQ7dLlt",
        "colab_type": "code",
        "colab": {}
      },
      "source": [
        "pd.DataFrame(sp.recommendation_genre_seeds())"
      ],
      "execution_count": 0,
      "outputs": []
    },
    {
      "cell_type": "code",
      "metadata": {
        "id": "B0xhaAVsWPX1",
        "colab_type": "code",
        "colab": {}
      },
      "source": [
        "genres_df = pd.DataFrame(sp.recommendation_genre_seeds())"
      ],
      "execution_count": 0,
      "outputs": []
    },
    {
      "cell_type": "markdown",
      "metadata": {
        "id": "IiofTWnHWZBl",
        "colab_type": "text"
      },
      "source": [
        "特定のジャンルの曲を取得\n",
        "\n",
        "/search API を用いる\n",
        "\n",
        "* 公式リファレンス: https://developer.spotify.com/documentation/web-api/reference/search/search/\n",
        "* spotipy のリファレンス: https://spotipy.readthedocs.io/en/latest/#spotipy.client.Spotify.search"
      ]
    },
    {
      "cell_type": "code",
      "metadata": {
        "id": "eqNSmhxf0D_n",
        "colab_type": "code",
        "colab": {}
      },
      "source": [
        "# ジャンルで検索\n",
        "search_genre = sp.search(q='genre:acoustic', type='track', offset=0, limit=1)\n",
        "pprint(search_genre)"
      ],
      "execution_count": 0,
      "outputs": []
    },
    {
      "cell_type": "markdown",
      "metadata": {
        "id": "wOSrf-zF20B_",
        "colab_type": "text"
      },
      "source": [
        "検索結果の例\n",
        "\n",
        "```\n",
        "{'tracks': {'href': 'https://api.spotify.com/v1/search?query=genre%3Aacoustic&type=track&offset=0&limit=1',\n",
        "            'items': [{'album': {'album_type': 'single',\n",
        "                                 'artists': [{'external_urls': {'spotify': 'https://open.spotify.com/artist/5D3muNJhYYunbRkh3FKgX0'},\n",
        "                                              'href': 'https://api.spotify.com/v1/artists/5D3muNJhYYunbRkh3FKgX0',\n",
        "                                              'id': '5D3muNJhYYunbRkh3FKgX0',\n",
        "                                              'name': 'Chord Overstreet',\n",
        "                                              'type': 'artist',\n",
        "                                              'uri': 'spotify:artist:5D3muNJhYYunbRkh3FKgX0'}],\n",
        "                                 'available_markets': ['AD',\n",
        "                                                       'AE',\n",
        "                                                       'AR',\n",
        "                                                       'AT',\n",
        "                                                       'AU',\n",
        "                                                       'BE',\n",
        "                                                       'BG',\n",
        "                                                       'BH',\n",
        "                                                       'BO',\n",
        "                                                       'BR',\n",
        "                                                       'CA',\n",
        "                                                       'CH',\n",
        "                                                       'CL',\n",
        "                                                       'CO',\n",
        "                                                       'CR',\n",
        "                                                       'CY',\n",
        "                                                       'CZ',\n",
        "                                                       'DE',\n",
        "                                                       'DK',\n",
        "                                                       'DO',\n",
        "                                                       'DZ',\n",
        "                                                       'EC',\n",
        "                                                       'EE',\n",
        "                                                       'EG',\n",
        "                                                       'ES',\n",
        "                                                       'FI',\n",
        "                                                       'FR',\n",
        "                                                       'GB',\n",
        "                                                       'GR',\n",
        "                                                       'GT',\n",
        "                                                       'HK',\n",
        "                                                       'HN',\n",
        "                                                       'HU',\n",
        "                                                       'ID',\n",
        "                                                       'IE',\n",
        "                                                       'IL',\n",
        "                                                       'IN',\n",
        "                                                       'IS',\n",
        "                                                       'IT',\n",
        "                                                       'JO',\n",
        "                                                       'JP',\n",
        "                                                       'KW',\n",
        "                                                       'LB',\n",
        "                                                       'LI',\n",
        "                                                       'LT',\n",
        "                                                       'LU',\n",
        "                                                       'LV',\n",
        "                                                       'MA',\n",
        "                                                       'MC',\n",
        "                                                       'MT',\n",
        "                                                       'MX',\n",
        "                                                       'MY',\n",
        "                                                       'NI',\n",
        "                                                       'NL',\n",
        "                                                       'NO',\n",
        "                                                       'NZ',\n",
        "                                                       'OM',\n",
        "                                                       'PA',\n",
        "                                                       'PE',\n",
        "                                                       'PH',\n",
        "                                                       'PL',\n",
        "                                                       'PS',\n",
        "                                                       'PT',\n",
        "                                                       'PY',\n",
        "                                                       'QA',\n",
        "                                                       'RO',\n",
        "                                                       'SA',\n",
        "                                                       'SE',\n",
        "                                                       'SG',\n",
        "                                                       'SK',\n",
        "                                                       'SV',\n",
        "                                                       'TH',\n",
        "                                                       'TN',\n",
        "                                                       'TR',\n",
        "                                                       'TW',\n",
        "                                                       'US',\n",
        "                                                       'UY',\n",
        "                                                       'VN',\n",
        "                                                       'ZA'],\n",
        "                                 'external_urls': {'spotify': 'https://open.spotify.com/album/2EfmyRWheMtmVTCIsptsLi'},\n",
        "                                 'href': 'https://api.spotify.com/v1/albums/2EfmyRWheMtmVTCIsptsLi',\n",
        "                                 'id': '2EfmyRWheMtmVTCIsptsLi',\n",
        "                                 'images': [{'height': 640,\n",
        "                                             'url': 'https://i.scdn.co/image/bbf0818eba3b1fd85a4b737b8464fac1ff9609a8',\n",
        "                                             'width': 640},\n",
        "                                            {'height': 300,\n",
        "                                             'url': 'https://i.scdn.co/image/cea87b9099170adf673a610084f187f60c745fc3',\n",
        "                                             'width': 300},\n",
        "                                            {'height': 64,\n",
        "                                             'url': 'https://i.scdn.co/image/32e22b621cefd4cca9afbdfc7fa86e7e901a8250',\n",
        "                                             'width': 64}],\n",
        "                                 'name': 'Hold On',\n",
        "                                 'release_date': '2017-02-03',\n",
        "                                 'release_date_precision': 'day',\n",
        "                                 'total_tracks': 1,\n",
        "                                 'type': 'album',\n",
        "                                 'uri': 'spotify:album:2EfmyRWheMtmVTCIsptsLi'},\n",
        "                       'artists': [{'external_urls': {'spotify': 'https://open.spotify.com/artist/5D3muNJhYYunbRkh3FKgX0'},\n",
        "                                    'href': 'https://api.spotify.com/v1/artists/5D3muNJhYYunbRkh3FKgX0',\n",
        "                                    'id': '5D3muNJhYYunbRkh3FKgX0',\n",
        "                                    'name': 'Chord Overstreet',\n",
        "                                    'type': 'artist',\n",
        "                                    'uri': 'spotify:artist:5D3muNJhYYunbRkh3FKgX0'}],\n",
        "                       'available_markets': ['AD',\n",
        "                                             'AE',\n",
        "                                             'AR',\n",
        "                                             'AT',\n",
        "                                             'AU',\n",
        "                                             'BE',\n",
        "                                             'BG',\n",
        "                                             'BH',\n",
        "                                             'BO',\n",
        "                                             'BR',\n",
        "                                             'CA',\n",
        "                                             'CH',\n",
        "                                             'CL',\n",
        "                                             'CO',\n",
        "                                             'CR',\n",
        "                                             'CY',\n",
        "                                             'CZ',\n",
        "                                             'DE',\n",
        "                                             'DK',\n",
        "                                             'DO',\n",
        "                                             'DZ',\n",
        "                                             'EC',\n",
        "                                             'EE',\n",
        "                                             'EG',\n",
        "                                             'ES',\n",
        "                                             'FI',\n",
        "                                             'FR',\n",
        "                                             'GB',\n",
        "                                             'GR',\n",
        "                                             'GT',\n",
        "                                             'HK',\n",
        "                                             'HN',\n",
        "                                             'HU',\n",
        "                                             'ID',\n",
        "                                             'IE',\n",
        "                                             'IL',\n",
        "                                             'IN',\n",
        "                                             'IS',\n",
        "                                             'IT',\n",
        "                                             'JO',\n",
        "                                             'JP',\n",
        "                                             'KW',\n",
        "                                             'LB',\n",
        "                                             'LI',\n",
        "                                             'LT',\n",
        "                                             'LU',\n",
        "                                             'LV',\n",
        "                                             'MA',\n",
        "                                             'MC',\n",
        "                                             'MT',\n",
        "                                             'MX',\n",
        "                                             'MY',\n",
        "                                             'NI',\n",
        "                                             'NL',\n",
        "                                             'NO',\n",
        "                                             'NZ',\n",
        "                                             'OM',\n",
        "                                             'PA',\n",
        "                                             'PE',\n",
        "                                             'PH',\n",
        "                                             'PL',\n",
        "                                             'PS',\n",
        "                                             'PT',\n",
        "                                             'PY',\n",
        "                                             'QA',\n",
        "                                             'RO',\n",
        "                                             'SA',\n",
        "                                             'SE',\n",
        "                                             'SG',\n",
        "                                             'SK',\n",
        "                                             'SV',\n",
        "                                             'TH',\n",
        "                                             'TN',\n",
        "                                             'TR',\n",
        "                                             'TW',\n",
        "                                             'US',\n",
        "                                             'UY',\n",
        "                                             'VN',\n",
        "                                             'ZA'],\n",
        "                       'disc_number': 1,\n",
        "                       'duration_ms': 198853,\n",
        "                       'explicit': False,\n",
        "                       'external_ids': {'isrc': 'USUM71615568'},\n",
        "                       'external_urls': {'spotify': 'https://open.spotify.com/track/5vjLSffimiIP26QG5WcN2K'},\n",
        "                       'href': 'https://api.spotify.com/v1/tracks/5vjLSffimiIP26QG5WcN2K',\n",
        "                       'id': '5vjLSffimiIP26QG5WcN2K',\n",
        "                       'is_local': False,\n",
        "                       'name': 'Hold On',\n",
        "                       'popularity': 79,\n",
        "                       'preview_url': None,\n",
        "                       'track_number': 1,\n",
        "                       'type': 'track',\n",
        "                       'uri': 'spotify:track:5vjLSffimiIP26QG5WcN2K'}],\n",
        "            'limit': 1,\n",
        "            'next': 'https://api.spotify.com/v1/search?query=genre%3Aacoustic&type=track&offset=1&limit=1',\n",
        "            'offset': 0,\n",
        "            'previous': None,\n",
        "            'total': 64838}}\n",
        "```\n",
        "\n"
      ]
    },
    {
      "cell_type": "markdown",
      "metadata": {
        "id": "TJx5uikB6xl_",
        "colab_type": "text"
      },
      "source": [
        "## 問題: 検索結果から曲名を取得して表示してください。"
      ]
    },
    {
      "cell_type": "code",
      "metadata": {
        "id": "JL4ZqdDiEHeU",
        "colab_type": "code",
        "colab": {}
      },
      "source": [
        ""
      ],
      "execution_count": 0,
      "outputs": []
    },
    {
      "cell_type": "markdown",
      "metadata": {
        "id": "mgwP2bnt6r0A",
        "colab_type": "text"
      },
      "source": [
        "## 解答"
      ]
    },
    {
      "cell_type": "code",
      "metadata": {
        "id": "My4KQ3JQ29HJ",
        "colab_type": "code",
        "colab": {}
      },
      "source": [
        "# tracks > items から検索結果を取得\n",
        "pprint(search_genre['tracks']['items'])"
      ],
      "execution_count": 0,
      "outputs": []
    },
    {
      "cell_type": "code",
      "metadata": {
        "id": "wIpt94G_3UeW",
        "colab_type": "code",
        "colab": {}
      },
      "source": [
        "# 最初のトラックを取得\n",
        "pprint(search_genre['tracks']['items'][0])"
      ],
      "execution_count": 0,
      "outputs": []
    },
    {
      "cell_type": "code",
      "metadata": {
        "id": "EN0JrJJ14qbA",
        "colab_type": "code",
        "colab": {}
      },
      "source": [
        "# 曲名を取得\n",
        "pprint(search_genre['tracks']['items'][0]['name'])"
      ],
      "execution_count": 0,
      "outputs": []
    },
    {
      "cell_type": "code",
      "metadata": {
        "id": "uV0bOZEM5Iz6",
        "colab_type": "code",
        "colab": {}
      },
      "source": [
        "# 曲のIDを取得\n",
        "pprint(search_genre['tracks']['items'][0]['id'])"
      ],
      "execution_count": 0,
      "outputs": []
    },
    {
      "cell_type": "markdown",
      "metadata": {
        "id": "4un5CeWyHuKJ",
        "colab_type": "text"
      },
      "source": [
        "## トラック ID から曲の特徴を取得\n",
        "\n",
        "/tracks/get-several-audio-features API を用いる\n",
        "\n",
        "spotipy では audio_features メソッド\n",
        "\n",
        "* https://developer.spotify.com/documentation/web-api/reference/tracks/get-several-audio-features/\n",
        "* https://spotipy.readthedocs.io/en/latest/#spotipy.client.Spotify.audio_features"
      ]
    },
    {
      "cell_type": "markdown",
      "metadata": {
        "id": "TPiYqEKmIRkp",
        "colab_type": "text"
      },
      "source": [
        "danceability\n",
        "\n",
        "danceability(踊りやすさ)は、テンポ、リズムの安定性、ビートの強さ、全体的な規則性などの音楽要素の組み合わせに基づいて、ダンスのための曲であるかを示します。0.0の値は、最も踊りずらいことを、1.0は、最も踊りやすいことを示します。\n",
        "\n",
        "energy\n",
        "\n",
        "エネルギーは、0.0から1.0の指標で、強度およびアクティブ度を表します。一般的には、エネルギッシュなトラックは、速く、音が大きく、騒々しい感じがします。例えば、デスメタルは高いエネルギーを持っていますが、バッハのプレリュードは低い値になります。この属性に寄与する知覚的属性は、ダイナミックレンジ、聴覚が感じる音量、音色、開始時点のレート、および一般的なエントロピーを含みます。\n",
        "\n",
        "loudness\n",
        "\n",
        "ラウドネスは、曲の全体的な音量をデシベル（dB）で表したものです。値は曲全体で平均化され、他の曲との相対的なラウドネスを比較するのに役立ちます。値の典型的な範囲は-60から0dbです。\n",
        "\n",
        "speechiness\n",
        "\n",
        "スピーチは、曲の中で話された単語の存在を検出します。録音（例えば、トークショー、オーディオブック、詩）のように、音声が占める割合が大きくなるほど、値は1.0に近くなります。0.66を超える値は、ほぼ完全に発声された単語で構成されている曲を表します。0.33と0.66の間の値は、ラップ音楽などのセクションまたはレイヤーのいずれかで、音楽とスピーチの両方を含む可能性がある曲を表します。0.33未満の値は、音楽やその他の非音声のような曲を表す可能性がかなり高いことを示します。\n",
        "\n",
        "acousticness\n",
        "\n",
        "曲がアコースティックかどうかを示す0.0から1.0の指標です。 1.0は曲がアコースティックであるということが高いということを意味します。\n",
        "\n",
        "instrumentalness\n",
        "\n",
        "曲にボーカルがないかどうかを予測します。この指標では、 “オー(Ooh)”とか “アー(aah)”の音は楽器の出した音として扱われます。ラップや話し言葉はボーカルとして扱われます。インストゥルメンタルネスの値が1.0に近いほど、曲にはボーカル・コンテンツが含まれていない可能性が高くなります。 0.5を超える値は、インストゥルメンタルの曲が通常示す値ですが、値が1.0に近づくほど信頼度が高くなります。\n",
        "\n",
        "liveness\n",
        "\n",
        "録音中に聴衆が存在したかを検出します。この値が高いほど、曲がライブで実行された可能性が高くなります。値が0.8を超えると、曲がライブである可能性が高くなります。\n",
        "\n",
        "valence\n",
        "\n",
        "曲が伝える音楽のポジティブ性を表す0.0から1.0の尺度。この指数の高い値の曲はより陽性（例えば、幸せ、陽気、陶酔）であり、低い指数の曲はより陰性となります（例えば、悲しい、落ち込んだ、怒る）。\n",
        "\n",
        "tempo\n",
        "\n",
        "曲の全体的な推定テンポ。1分あたりのビート(BPM)。音楽用語では、テンポは、ある曲のスピードまたはペースであり、平均ビート期間から導出されます。\n",
        "\n",
        "\n",
        "以下の記事より引用\n",
        "https://exploratory.io/note/2ac8ae888097/SpotifyJRockRockHard-Rock-7183595689717906"
      ]
    },
    {
      "cell_type": "code",
      "metadata": {
        "id": "2omnaCfrM6yI",
        "colab_type": "code",
        "colab": {}
      },
      "source": [
        "# 曲の特徴を取得\n",
        "pprint(sp.audio_features(tracks=[search_genre['tracks']['items'][0]['id']]))"
      ],
      "execution_count": 0,
      "outputs": []
    },
    {
      "cell_type": "markdown",
      "metadata": {
        "id": "SzD-_vxFWibp",
        "colab_type": "text"
      },
      "source": [
        "\n",
        "\n",
        "```\n",
        "[{'acousticness': 0.469,\n",
        "  'analysis_url': 'https://api.spotify.com/v1/audio-analysis/5vjLSffimiIP26QG5WcN2K',\n",
        "  'danceability': 0.618,\n",
        "  'duration_ms': 198853,\n",
        "  'energy': 0.443,\n",
        "  'id': '5vjLSffimiIP26QG5WcN2K',\n",
        "  'instrumentalness': 0,\n",
        "  'key': 2,\n",
        "  'liveness': 0.0829,\n",
        "  'loudness': -9.681,\n",
        "  'mode': 1,\n",
        "  'speechiness': 0.0526,\n",
        "  'tempo': 119.949,\n",
        "  'time_signature': 4,\n",
        "  'track_href': 'https://api.spotify.com/v1/tracks/5vjLSffimiIP26QG5WcN2K',\n",
        "  'type': 'audio_features',\n",
        "  'uri': 'spotify:track:5vjLSffimiIP26QG5WcN2K',\n",
        "  'valence': 0.167}]\n",
        "```\n",
        "\n"
      ]
    },
    {
      "cell_type": "markdown",
      "metadata": {
        "id": "8Ty0tVtpsULH",
        "colab_type": "text"
      },
      "source": [
        "## ジャンル毎に100曲を取得"
      ]
    },
    {
      "cell_type": "code",
      "metadata": {
        "id": "IkHVgMNuW4xI",
        "colab_type": "code",
        "colab": {}
      },
      "source": [
        "# キーを定数に保存\n",
        "ACOUSTICNESS = 'acousticness'\n",
        "DANCEABILITY = 'danceability'\n",
        "INSTRUMENTALNESS = 'instrumentalness'\n",
        "LIVENESS = 'liveness'\n",
        "LOUDNESS = 'loudness'\n",
        "SPEECHINESS = 'speechiness'\n",
        "TEMPO = 'tempo'\n",
        "VALENCE = 'valence'"
      ],
      "execution_count": 0,
      "outputs": []
    },
    {
      "cell_type": "code",
      "metadata": {
        "id": "A4zK5tA9sYaw",
        "colab_type": "code",
        "colab": {}
      },
      "source": [
        "# データ格納用のdictionaryを用意\n",
        "tracks = {}\n",
        "tracks['id'] = []\n",
        "tracks['name'] = []\n",
        "tracks['genre'] = []\n",
        "tracks[ACOUSTICNESS] = []\n",
        "tracks[DANCEABILITY] = []\n",
        "tracks[INSTRUMENTALNESS] = []\n",
        "tracks[LIVENESS] = []\n",
        "tracks[LOUDNESS] = []\n",
        "tracks[SPEECHINESS] = []\n",
        "tracks[TEMPO] = []\n",
        "tracks[VALENCE] = []"
      ],
      "execution_count": 0,
      "outputs": []
    },
    {
      "cell_type": "code",
      "metadata": {
        "id": "NouNhOoov0Tf",
        "colab_type": "code",
        "colab": {}
      },
      "source": [
        "# ジャンル毎に1000個のトラックを取得し、tracks に保存\n",
        "TRACK_COUNT_PER_GENRE = 100 # ジャンル毎の曲数\n",
        "TRACK_COUNT_PER_SEARCH = 50 # 1回の検索で取得する曲数\n",
        "SEARCH_COUNT = int(TRACK_COUNT_PER_GENRE / TRACK_COUNT_PER_SEARCH) # 検索を行う回数 - この場合は2回になる\n",
        "\n",
        "for genre in genres_df['genres']:\n",
        "  for search_count in range(SEARCH_COUNT):\n",
        "    query = 'genre:' + genre # ジャンルで検索するようにクエリを作成\n",
        "    offset = TRACK_COUNT_PER_SEARCH * search_count # offsetで検索結果をページのようにズラしていく\n",
        "    search_results = sp.search(q=query, type='track', offset=offset, limit=TRACK_COUNT_PER_SEARCH) # 検索を行う\n",
        "    # items が空の場合は、そのジャンルの取得を終了\n",
        "    if not search_results['tracks']['items']: \n",
        "      break\n",
        "    # 取得したトラックのID\n",
        "    track_ids = []\n",
        "    # 各トラックに対して id などを track_ids, tracks に保存\n",
        "    for track in search_results['tracks']['items']:\n",
        "      track_ids.append(track.get('id'))\n",
        "      tracks['id'].append(track.get('id'))\n",
        "      tracks['name'].append(track.get('name'))\n",
        "      tracks['genre'].append(genre)\n",
        "    # 曲の特徴を取得\n",
        "    audio_features = sp.audio_features(tracks=track_ids)\n",
        "    # 各トラックに対して、曲の特徴を tracks に保存\n",
        "    for audio_feature in audio_features:\n",
        "      tracks[ACOUSTICNESS].append(audio_feature.get(ACOUSTICNESS))\n",
        "      tracks[DANCEABILITY].append(audio_feature.get(DANCEABILITY))\n",
        "      tracks[INSTRUMENTALNESS].append(audio_feature.get(INSTRUMENTALNESS))\n",
        "      tracks[LIVENESS].append(audio_feature.get(LIVENESS))\n",
        "      tracks[LOUDNESS].append(audio_feature.get(LOUDNESS))\n",
        "      tracks[SPEECHINESS].append(audio_feature.get(SPEECHINESS))\n",
        "      tracks[TEMPO].append(audio_feature.get(TEMPO))\n",
        "      tracks[VALENCE].append(audio_feature.get(VALENCE))"
      ],
      "execution_count": 0,
      "outputs": []
    },
    {
      "cell_type": "code",
      "metadata": {
        "id": "XQz5od5aE0Ov",
        "colab_type": "code",
        "colab": {}
      },
      "source": [
        "for key in tracks:\n",
        "  print(f'{key}: {len(tracks[key])}')"
      ],
      "execution_count": 0,
      "outputs": []
    },
    {
      "cell_type": "code",
      "metadata": {
        "id": "r78PVwjUF3Es",
        "colab_type": "code",
        "colab": {}
      },
      "source": [
        "tracks_df = pd.DataFrame(tracks)"
      ],
      "execution_count": 0,
      "outputs": []
    },
    {
      "cell_type": "code",
      "metadata": {
        "id": "JjeB6WPxQB1T",
        "colab_type": "code",
        "colab": {}
      },
      "source": [
        "tracks_df"
      ],
      "execution_count": 0,
      "outputs": []
    },
    {
      "cell_type": "markdown",
      "metadata": {
        "id": "9jnQhFx4Mp1y",
        "colab_type": "text"
      },
      "source": [
        "ジャンルの数と曲数が合わない理由\n",
        "\n",
        "どのトラックにも該当しないジャンルがある"
      ]
    },
    {
      "cell_type": "code",
      "metadata": {
        "id": "21eZ3Z0BJ_DI",
        "colab_type": "code",
        "colab": {}
      },
      "source": [
        "tracks_df['genre'].unique()"
      ],
      "execution_count": 0,
      "outputs": []
    },
    {
      "cell_type": "code",
      "metadata": {
        "id": "7uxI5mZwKkz3",
        "colab_type": "code",
        "colab": {}
      },
      "source": [
        "genres_df['genres'].unique()"
      ],
      "execution_count": 0,
      "outputs": []
    },
    {
      "cell_type": "markdown",
      "metadata": {
        "id": "sFDyedlXsWXZ",
        "colab_type": "text"
      },
      "source": [
        "## 課題\n",
        "tracks_df のデータを seaborn などで可視化してグラフに表示してください。"
      ]
    },
    {
      "cell_type": "code",
      "metadata": {
        "id": "RfR6ptzaYP4W",
        "colab_type": "code",
        "colab": {}
      },
      "source": [
        ""
      ],
      "execution_count": 0,
      "outputs": []
    }
  ]
}