{
  "nbformat": 4,
  "nbformat_minor": 0,
  "metadata": {
    "colab": {
      "name": "[Python講座]第1回Pythonの文法を1時間半でざっくり学ぶ.ipynb",
      "provenance": [],
      "collapsed_sections": [],
      "include_colab_link": true
    },
    "kernelspec": {
      "name": "python3",
      "display_name": "Python 3"
    }
  },
  "cells": [
    {
      "cell_type": "markdown",
      "metadata": {
        "id": "view-in-github",
        "colab_type": "text"
      },
      "source": [
        "<a href=\"https://colab.research.google.com/github/EAakiyama3104/python_lecture/blob/master/%5BPython%E8%AC%9B%E5%BA%A7%5D%E7%AC%AC1%E5%9B%9EPython%E3%81%AE%E6%96%87%E6%B3%95%E3%82%921%E6%99%82%E9%96%93%E5%8D%8A%E3%81%A7%E3%81%96%E3%81%A3%E3%81%8F%E3%82%8A%E5%AD%A6%E3%81%B6.ipynb\" target=\"_parent\"><img src=\"https://colab.research.google.com/assets/colab-badge.svg\" alt=\"Open In Colab\"/></a>"
      ]
    },
    {
      "cell_type": "markdown",
      "metadata": {
        "id": "Fl1DFetjNTKI",
        "colab_type": "text"
      },
      "source": [
        "## イントロ\n"
      ]
    },
    {
      "cell_type": "markdown",
      "metadata": {
        "id": "R1Z1G6kUOzTE",
        "colab_type": "text"
      },
      "source": [
        "Pythonの人気\n",
        "\n",
        "GitHubではJavaScript、Javaについで第三位\n",
        "\n",
        "![代替テキスト](https://techacademy-magazine-cdn.techacademy.jp/wp-content/uploads/2016/07/total_ghp.png)\n",
        "\n",
        "[GitHubの調査では第二位に](https://japan.zdnet.com/article/35145190/)\n",
        "\n",
        "\n",
        "用途\n",
        "\n",
        "* Web アプリ\n",
        "* データ分析\n",
        "* 機械学習\n",
        "* スクレイピング\n",
        "* コマンドラインアプリ"
      ]
    },
    {
      "cell_type": "markdown",
      "metadata": {
        "id": "-rQf-098NOi2",
        "colab_type": "text"
      },
      "source": [
        "## Colaboratoryについて\n",
        "\n",
        "* オンラインでPythonコードを動かせるサービス\n",
        "* 1つずつセルを実行することができる\n",
        "* Google ドライブと連携している\n",
        "\n",
        "[詳しくはこちらへ](https://colab.research.google.com/notebooks/welcome.ipynb?hl=ja)"
      ]
    },
    {
      "cell_type": "markdown",
      "metadata": {
        "id": "VMseNh4lQyLe",
        "colab_type": "text"
      },
      "source": [
        "## Pythonの特徴\n",
        "\n",
        "* Python2 と Python3 があるが、これからはPython3を使うべき。Python2は2020年3月でサポート終了。\n",
        "* 動的型付け言語。コードで型を指定しない。"
      ]
    },
    {
      "cell_type": "markdown",
      "metadata": {
        "id": "m5FqDD2TmL3B",
        "colab_type": "text"
      },
      "source": [
        "整数 int\n",
        "小数込 double, float\n",
        "文字列 str"
      ]
    },
    {
      "cell_type": "markdown",
      "metadata": {
        "id": "HRuiuySlMzTl",
        "colab_type": "text"
      },
      "source": [
        ".py ファイルが module となる。フォルダが package。import で外部の module を読み込む"
      ]
    },
    {
      "cell_type": "code",
      "metadata": {
        "id": "5fiToBgwM1fc",
        "colab_type": "code",
        "outputId": "0e9e2bcf-50b9-4709-899c-824e39e9f830",
        "colab": {
          "base_uri": "https://localhost:8080/",
          "height": 150
        }
      },
      "source": [
        "import sys\n",
        "# sysのメソッドを呼び出せるようになる\n",
        "sys.exit(0)"
      ],
      "execution_count": 0,
      "outputs": [
        {
          "output_type": "error",
          "ename": "SystemExit",
          "evalue": "ignored",
          "traceback": [
            "An exception has occurred, use %tb to see the full traceback.\n",
            "\u001b[0;31mSystemExit\u001b[0m\u001b[0;31m:\u001b[0m 0\n"
          ]
        },
        {
          "output_type": "stream",
          "text": [
            "/usr/local/lib/python3.6/dist-packages/IPython/core/interactiveshell.py:2890: UserWarning: To exit: use 'exit', 'quit', or Ctrl-D.\n",
            "  warn(\"To exit: use 'exit', 'quit', or Ctrl-D.\", stacklevel=1)\n"
          ],
          "name": "stderr"
        }
      ]
    },
    {
      "cell_type": "markdown",
      "metadata": {
        "id": "3lgmt4KZMt5Y",
        "colab_type": "text"
      },
      "source": [
        "インデントによってコードブロックを作る"
      ]
    },
    {
      "cell_type": "code",
      "metadata": {
        "id": "DHORBmQEMwhA",
        "colab_type": "code",
        "colab": {}
      },
      "source": [
        "def main():\n",
        "  if name == 'Guido':\n",
        "      print('Hi')\n",
        "  else:\n",
        "      print('Hello')"
      ],
      "execution_count": 0,
      "outputs": []
    },
    {
      "cell_type": "markdown",
      "metadata": {
        "id": "IYjUPg4fMPsu",
        "colab_type": "text"
      },
      "source": [
        "関数の定義\b\n",
        "\n",
        "def 関数名(引数...): の形で定義する"
      ]
    },
    {
      "cell_type": "code",
      "metadata": {
        "id": "XietZ_CqMWGx",
        "colab_type": "code",
        "outputId": "ae6e1d7a-3fe3-4b38-c2b2-6e0a70f31565",
        "colab": {
          "base_uri": "https://localhost:8080/",
          "height": 52
        }
      },
      "source": [
        "# Defines a \"repeat\" function that takes 2 arguments.\n",
        "def repeat(s, exclaim):\n",
        "    \"\"\"\n",
        "    Returns the string 's' repeated 3 times.\n",
        "    If exclaim is true, add exclamation marks.\n",
        "    \"\"\"\n",
        "\n",
        "    result = s + s + s # can also use \"s * 3\" which is faster (Why?)\n",
        "    result = str(result)\n",
        "    if exclaim:\n",
        "        result = result + '!!!'\n",
        "    return result\n",
        "\n",
        "print(repeat('hi ', True))\n",
        "print(repeat(1, True))"
      ],
      "execution_count": 0,
      "outputs": [
        {
          "output_type": "stream",
          "text": [
            "hi hi hi !!!\n",
            "3!!!\n"
          ],
          "name": "stdout"
        }
      ]
    },
    {
      "cell_type": "markdown",
      "metadata": {
        "id": "LEr0h_aMZO1j",
        "colab_type": "text"
      },
      "source": [
        "## str: 文字列"
      ]
    },
    {
      "cell_type": "markdown",
      "metadata": {
        "id": "P3syLiZIZR_x",
        "colab_type": "text"
      },
      "source": [
        "Python の文字列は str というビルトインのクラスが扱う。\n",
        "\n",
        "特徴\n",
        "\n",
        "* ダブルクオート(\"\")かシングルクオート('')で括られる\n",
        "* 0から始まるインデックスを指定することで、文字列の中の文字へアクセス\n",
        "* len() 関数で長さを取得\n",
        "* 2つの文字列を繋げて新しい文字列を作るときは + で繋ぐ\n",
        "\n"
      ]
    },
    {
      "cell_type": "code",
      "metadata": {
        "id": "Jseo0n69XcCl",
        "colab_type": "code",
        "outputId": "f7582066-707d-4eb7-db64-2315f83a7f61",
        "colab": {
          "base_uri": "https://localhost:8080/",
          "height": 87
        }
      },
      "source": [
        "s = 'hello'\n",
        "print(s[0])\n",
        "print(s[1])\n",
        "# print(s[5]) # これはエラー\n",
        "print(len(s))\n",
        "print(s + ' there')"
      ],
      "execution_count": 0,
      "outputs": [
        {
          "output_type": "stream",
          "text": [
            "h\n",
            "e\n",
            "5\n",
            "hello there\n"
          ],
          "name": "stdout"
        }
      ]
    },
    {
      "cell_type": "markdown",
      "metadata": {
        "id": "PE3MeeC5Zzuq",
        "colab_type": "text"
      },
      "source": [
        "文字列のスライス\n",
        "\n",
        "![代替テキスト](https://developers.google.com/edu/python/images/hello.png)\n",
        "\n",
        "文字列の一部を取り出せる\n",
        "\n",
        "s[はじめの文字のインデックス: 最後の文字の次のインデックス]\n",
        "\n",
        "という表記"
      ]
    },
    {
      "cell_type": "code",
      "metadata": {
        "id": "ALKoTKuGcFcG",
        "colab_type": "code",
        "outputId": "9104cc43-3b6f-4d62-a2b9-bb2ebc857eaa",
        "colab": {
          "base_uri": "https://localhost:8080/",
          "height": 175
        }
      },
      "source": [
        "s = 'Hello'\n",
        "print(s[1:4])\n",
        "print(s[1:])\n",
        "print(s[:])\n",
        "print(s[1:100])\n",
        "print(s[-1])\n",
        "print(s[-4])\n",
        "print(s[-4])\n",
        "print(s[:-3])\n",
        "print(s[-3:])"
      ],
      "execution_count": 0,
      "outputs": [
        {
          "output_type": "stream",
          "text": [
            "ell\n",
            "ello\n",
            "Hello\n",
            "ello\n",
            "o\n",
            "e\n",
            "e\n",
            "He\n",
            "llo\n"
          ],
          "name": "stdout"
        }
      ]
    },
    {
      "cell_type": "markdown",
      "metadata": {
        "id": "58312799eDDc",
        "colab_type": "text"
      },
      "source": [
        "文字列の結合は s.join(list) を用いる"
      ]
    },
    {
      "cell_type": "code",
      "metadata": {
        "id": "vMN8BTA5eHRj",
        "colab_type": "code",
        "outputId": "f9eab121-cf45-483c-8861-b748262f4e01",
        "colab": {
          "base_uri": "https://localhost:8080/",
          "height": 70
        }
      },
      "source": [
        "hello_list = ['hi', 'hello', 'こんにちは']\n",
        "print(','.join(hello_list))\n",
        "print('--'.join(hello_list))\n",
        "print(' '.join(hello_list))"
      ],
      "execution_count": 0,
      "outputs": [
        {
          "output_type": "stream",
          "text": [
            "hi,hello,こんにちは\n",
            "hi--hello--こんにちは\n",
            "hi hello こんにちは\n"
          ],
          "name": "stdout"
        }
      ]
    },
    {
      "cell_type": "markdown",
      "metadata": {
        "id": "uZqyl-6bpGvM",
        "colab_type": "text"
      },
      "source": [
        "## list: リスト"
      ]
    },
    {
      "cell_type": "markdown",
      "metadata": {
        "id": "vG0o1AEepQ8r",
        "colab_type": "text"
      },
      "source": [
        "Python の配列は list というビルトインの型が扱う。\n",
        "\n",
        "要素へのアクセスの方法は文字列に似ている。\n",
        "\n",
        "![代替テキスト](https://developers.google.com/edu/python/images/list1.png)"
      ]
    },
    {
      "cell_type": "code",
      "metadata": {
        "id": "wGvjKNou6Zji",
        "colab_type": "code",
        "outputId": "2b4bbce0-17bb-4f5b-9052-d696b35a946f",
        "colab": {
          "base_uri": "https://localhost:8080/",
          "height": 70
        }
      },
      "source": [
        "colors = ['red', 'blue', 'green']\n",
        "print(colors[0])    ## red\n",
        "print(colors[2])    ## green\n",
        "print(len(colors))  ## 3"
      ],
      "execution_count": 0,
      "outputs": [
        {
          "output_type": "stream",
          "text": [
            "red\n",
            "green\n",
            "3\n"
          ],
          "name": "stdout"
        }
      ]
    },
    {
      "cell_type": "markdown",
      "metadata": {
        "id": "CfxhaXko7749",
        "colab_type": "text"
      },
      "source": [
        "for 文は\n",
        "\n",
        "```\n",
        "for value in values:\n",
        "  print(value)\n",
        "```\n",
        "のように for in の形を取る\n"
      ]
    },
    {
      "cell_type": "code",
      "metadata": {
        "id": "9tbh4JZzsH8i",
        "colab_type": "code",
        "outputId": "50cb55c5-92f7-4c9a-db69-258bb8bcdcee",
        "colab": {
          "base_uri": "https://localhost:8080/",
          "height": 70
        }
      },
      "source": [
        "for color in colors:\n",
        "  print(color)"
      ],
      "execution_count": 0,
      "outputs": [
        {
          "output_type": "stream",
          "text": [
            "red\n",
            "blue\n",
            "green\n"
          ],
          "name": "stdout"
        }
      ]
    },
    {
      "cell_type": "code",
      "metadata": {
        "id": "PmmCs1Vf8ZVL",
        "colab_type": "code",
        "outputId": "629363fc-dfb1-4aab-a93b-c6cc11618a44",
        "colab": {
          "base_uri": "https://localhost:8080/",
          "height": 34
        }
      },
      "source": [
        "squares = [1, 4, 9, 16]\n",
        "sum = ''\n",
        "for num in squares:\n",
        "  sum = sum + str(num)\n",
        "print(sum)  ## 30"
      ],
      "execution_count": 0,
      "outputs": [
        {
          "output_type": "stream",
          "text": [
            "14916\n"
          ],
          "name": "stdout"
        }
      ]
    },
    {
      "cell_type": "markdown",
      "metadata": {
        "id": "hdtc3Hsf6h7h",
        "colab_type": "text"
      },
      "source": [
        "list にある要素があるかどうか確かめるときは、if in を用いる"
      ]
    },
    {
      "cell_type": "code",
      "metadata": {
        "id": "1J6c3qW26hDM",
        "colab_type": "code",
        "colab": {}
      },
      "source": [
        "list_a = ['larry', 'curly', 'moe']\n",
        "if 'curly' in list_a:\n",
        "  print('yay')\n",
        "if 'curlya' in list_a:\n",
        "  print('yay')"
      ],
      "execution_count": 0,
      "outputs": []
    },
    {
      "cell_type": "markdown",
      "metadata": {
        "id": "tvuODgY1AtjE",
        "colab_type": "text"
      },
      "source": [
        "数字でforループを書きたい場合は、range() を利用する"
      ]
    },
    {
      "cell_type": "code",
      "metadata": {
        "id": "MVQ3IsY1AsSt",
        "colab_type": "code",
        "outputId": "7356df44-4725-42cd-8121-1868dea08b20",
        "colab": {
          "base_uri": "https://localhost:8080/",
          "height": 193
        }
      },
      "source": [
        "## print the numbers from 0 through 10\n",
        "for i in range(10):\n",
        "  print(i)"
      ],
      "execution_count": 0,
      "outputs": [
        {
          "output_type": "stream",
          "text": [
            "0\n",
            "1\n",
            "2\n",
            "3\n",
            "4\n",
            "5\n",
            "6\n",
            "7\n",
            "8\n",
            "9\n"
          ],
          "name": "stdout"
        }
      ]
    },
    {
      "cell_type": "markdown",
      "metadata": {
        "id": "7eK7sJ9oBF4U",
        "colab_type": "text"
      },
      "source": [
        "Whileループを用いることもできる。\n",
        "\n",
        "ループの中で、breakやcontinueも動く"
      ]
    },
    {
      "cell_type": "code",
      "metadata": {
        "id": "9A8FgYcIBTJX",
        "colab_type": "code",
        "outputId": "802b036a-4421-479d-b38d-c7f74d2c91a0",
        "colab": {
          "base_uri": "https://localhost:8080/",
          "height": 87
        }
      },
      "source": [
        "## Access every 3rd element in a list\n",
        "i = 0\n",
        "while i < 10:\n",
        "  print(i)\n",
        "  i = i + 3"
      ],
      "execution_count": 0,
      "outputs": [
        {
          "output_type": "stream",
          "text": [
            "0\n",
            "3\n",
            "6\n",
            "9\n"
          ],
          "name": "stdout"
        }
      ]
    },
    {
      "cell_type": "markdown",
      "metadata": {
        "id": "-O52VR_gB6oM",
        "colab_type": "text"
      },
      "source": [
        "listのメソッド例"
      ]
    },
    {
      "cell_type": "code",
      "metadata": {
        "id": "RFoGZaSQB8XA",
        "colab_type": "code",
        "outputId": "930c282f-ea94-4358-a6f2-d35837655e5f",
        "colab": {
          "base_uri": "https://localhost:8080/",
          "height": 122
        }
      },
      "source": [
        "list = ['larry', 'curly', 'moe']\n",
        "list.append('shemp')         ## append elem at end\n",
        "print(list)\n",
        "list.insert(0, 'xxx')        ## insert elem at index 0\n",
        "print(list)\n",
        "list.extend(['yyy', 'zzz'])  ## add list of elems at end\n",
        "print(list)  ## ['xxx', 'larry', 'curly', 'moe', 'shemp', 'yyy', 'zzz']\n",
        "print(list.index('curly'))    ## 2\n",
        "\n",
        "list.remove('curly')         ## search and remove that element\n",
        "print(list)\n",
        "list.pop(1)                  ## removes and returns 'larry'\n",
        "print(list)  ## ['xxx', 'moe', 'shemp', 'yyy', 'zzz']"
      ],
      "execution_count": 0,
      "outputs": [
        {
          "output_type": "stream",
          "text": [
            "['larry', 'curly', 'moe', 'shemp']\n",
            "['xxx', 'larry', 'curly', 'moe', 'shemp']\n",
            "['xxx', 'larry', 'curly', 'moe', 'shemp', 'yyy', 'zzz']\n",
            "2\n",
            "['xxx', 'larry', 'moe', 'shemp', 'yyy', 'zzz']\n",
            "['xxx', 'moe', 'shemp', 'yyy', 'zzz']\n"
          ],
          "name": "stdout"
        }
      ]
    },
    {
      "cell_type": "markdown",
      "metadata": {
        "id": "zIeWvEvoCo2d",
        "colab_type": "text"
      },
      "source": [
        "タプル\n",
        "\n",
        "変更不可能でサイズを変えられない tuple という型もある。\n",
        "\n"
      ]
    },
    {
      "cell_type": "code",
      "metadata": {
        "id": "7Z2Ok8UWC7m3",
        "colab_type": "code",
        "outputId": "eb8d85b8-cd7f-49ab-ec1c-1ccb91d4f2aa",
        "colab": {
          "base_uri": "https://localhost:8080/",
          "height": 52
        }
      },
      "source": [
        "tuple = (1, 2, 'hi')\n",
        "print(len(tuple))  ## 3\n",
        "print(tuple[2])    ## hi\n",
        "# tuple[2] = 'bye'  ## NO, tuples cannot be changed\n",
        "tuple = (1, 2, 'bye')  ## this works"
      ],
      "execution_count": 0,
      "outputs": [
        {
          "output_type": "stream",
          "text": [
            "3\n",
            "hi\n"
          ],
          "name": "stdout"
        }
      ]
    },
    {
      "cell_type": "markdown",
      "metadata": {
        "id": "zPLPCyZ6DKK5",
        "colab_type": "text"
      },
      "source": [
        "## dict: ハッシュテーブル"
      ]
    },
    {
      "cell_type": "markdown",
      "metadata": {
        "id": "J07sU9NyDamd",
        "colab_type": "text"
      },
      "source": [
        "キーと値の組み合わせを0個以上もつ型\n",
        "\n",
        "dict[キー] = 値 のように値をセット\n",
        "\n",
        "dict[キー] または dict.get(キー) のように値にアクセス\n",
        "\n",
        "![代替テキスト](https://developers.google.com/edu/python/images/dict.png)"
      ]
    },
    {
      "cell_type": "code",
      "metadata": {
        "id": "2ULFf24ODQXz",
        "colab_type": "code",
        "outputId": "f9a9706a-ce09-4657-ce98-33391ce152c3",
        "colab": {
          "base_uri": "https://localhost:8080/",
          "height": 158
        }
      },
      "source": [
        "## Can build up a dict by starting with the the empty dict {}\n",
        "## and storing key/value pairs into the dict like this:\n",
        "## dict[key] = value-for-that-key\n",
        "dict = {}\n",
        "dict['a'] = 'alpha'\n",
        "dict['g'] = 'gamma'\n",
        "dict['o'] = 'omega'\n",
        "\n",
        "print(dict)  ## {'a': 'alpha', 'o': 'omega', 'g': 'gamma'}\n",
        "\n",
        "dict_a = {'a': 'alpha', 'o': 'omega', 'g': 'gamma'}\n",
        "\n",
        "print(dict_a)\n",
        "\n",
        "print(dict['a'])     ## Simple lookup, returns 'alpha'\n",
        "dict['a'] = 6       ## Put new key/value into dict\n",
        "print('a' in dict)         ## True\n",
        "print('b' in dict)\n",
        "# print dict['z']                  ## Throws KeyError\n",
        "if 'z' in dict: \n",
        "  print(dict['z'])     ## Avoid KeyError\n",
        "print(dict.get('a'))\n",
        "print(dict.get('z'))  ## None (instead of KeyError)\n",
        "print(dict.get('z', 'not found'))"
      ],
      "execution_count": 0,
      "outputs": [
        {
          "output_type": "stream",
          "text": [
            "{'a': 'alpha', 'g': 'gamma', 'o': 'omega'}\n",
            "{'a': 'alpha', 'o': 'omega', 'g': 'gamma'}\n",
            "alpha\n",
            "True\n",
            "False\n",
            "6\n",
            "None\n",
            "not found\n"
          ],
          "name": "stdout"
        }
      ]
    },
    {
      "cell_type": "markdown",
      "metadata": {
        "id": "b5u81AF8O9qm",
        "colab_type": "text"
      },
      "source": [
        "## 練習問題"
      ]
    },
    {
      "cell_type": "markdown",
      "metadata": {
        "id": "HjPE0e_CQH8F",
        "colab_type": "text"
      },
      "source": [
        "問題１\n",
        "\n",
        "文字列が与えられたときに、その文字列の最初の2文字と最後の2文字を連結させた文字列を返す関数を書いてください。\n",
        "\n",
        "与えられた文字列の長さが2より小さい場合は、空の文字列を返してください。"
      ]
    },
    {
      "cell_type": "code",
      "metadata": {
        "id": "mluz7z7-P_v9",
        "colab_type": "code",
        "colab": {}
      },
      "source": [
        "# B. both_ends\n",
        "# Given a string s, return a string made of the first 2\n",
        "# and the last 2 chars of the original string,\n",
        "# so 'spring' yields 'spng'. However, if the string length\n",
        "# is less than 2, return instead the empty string.\n",
        "def both_ends(s):\n",
        "  # +++your code here+++\n",
        "  return"
      ],
      "execution_count": 0,
      "outputs": []
    },
    {
      "cell_type": "code",
      "metadata": {
        "id": "KSEvql1Sc8JY",
        "colab_type": "code",
        "colab": {}
      },
      "source": [
        ""
      ],
      "execution_count": 0,
      "outputs": []
    },
    {
      "cell_type": "markdown",
      "metadata": {
        "id": "lVBWWDPHQDdp",
        "colab_type": "text"
      },
      "source": [
        "問題2\n",
        "\n",
        "文字列a, bが与えられたとき、それぞれの文字列の初めの2文字を入れ替えた上で、aとbを空白で繋げてできた文字列を返す関数を書いてください。ただし、aとbの長さは2以上と仮定してください。\n",
        "\n",
        "たとえば、\n",
        "\n",
        "'mix', 'pod' -> 'pox mid'\n",
        "\n",
        "'dog', 'dinner' -> 'dig donner'\n",
        "\n",
        "となります。\n",
        "\n"
      ]
    },
    {
      "cell_type": "code",
      "metadata": {
        "id": "oxiBkLVLQMHw",
        "colab_type": "code",
        "colab": {}
      },
      "source": [
        "# D. MixUp\n",
        "# Given strings a and b, return a single string with a and b separated\n",
        "# by a space '<a> <b>', except swap the first 2 chars of each string.\n",
        "# e.g.\n",
        "#   'mix', pod' -> 'pox mid'\n",
        "#   'dog', 'dinner' -> 'dig donner'\n",
        "# Assume a and b are length 2 or more.\n",
        "def mix_up(a, b):\n",
        "  # +++your code here+++\n",
        "  return"
      ],
      "execution_count": 0,
      "outputs": []
    },
    {
      "cell_type": "code",
      "metadata": {
        "id": "WWaTOekQc87G",
        "colab_type": "code",
        "colab": {}
      },
      "source": [
        ""
      ],
      "execution_count": 0,
      "outputs": []
    },
    {
      "cell_type": "markdown",
      "metadata": {
        "id": "neD5NRIaRMHG",
        "colab_type": "text"
      },
      "source": [
        "問題3\n",
        "\n",
        "文字列のリストが与えられたとき、長さが2以上で、最初と最後の文字が同じであるような文字列の数を返す関数を書いてください。"
      ]
    },
    {
      "cell_type": "code",
      "metadata": {
        "id": "mG9xG4-oTBd8",
        "colab_type": "code",
        "colab": {}
      },
      "source": [
        "# A. match_ends\n",
        "# Given a list of strings, return the count of the number of\n",
        "# strings where the string length is 2 or more and the first\n",
        "# and last chars of the string are the same.\n",
        "# Note: python does not have a ++ operator, but += works.\n",
        "def match_ends(words):\n",
        "  # +++your code here+++\n",
        "  return"
      ],
      "execution_count": 0,
      "outputs": []
    },
    {
      "cell_type": "code",
      "metadata": {
        "id": "U6hUyAIAc9oH",
        "colab_type": "code",
        "colab": {}
      },
      "source": [
        ""
      ],
      "execution_count": 0,
      "outputs": []
    },
    {
      "cell_type": "markdown",
      "metadata": {
        "id": "6tUvmmB3OlWu",
        "colab_type": "text"
      },
      "source": [
        "## 解答"
      ]
    },
    {
      "cell_type": "markdown",
      "metadata": {
        "id": "hlGfQl2POrrb",
        "colab_type": "text"
      },
      "source": [
        "### 問題1"
      ]
    },
    {
      "cell_type": "code",
      "metadata": {
        "id": "i3CZx8lyOpYc",
        "colab_type": "code",
        "colab": {}
      },
      "source": [
        "def both_ends(s):\n",
        "  if len(s) < 2:\n",
        "    return ''\n",
        "  first2 = s[0:2]\n",
        "  last2 = s[-2:]\n",
        "  return first2 + last2"
      ],
      "execution_count": 0,
      "outputs": []
    },
    {
      "cell_type": "markdown",
      "metadata": {
        "id": "b9MAsOz7UiOo",
        "colab_type": "text"
      },
      "source": [
        "### 問題2"
      ]
    },
    {
      "cell_type": "code",
      "metadata": {
        "id": "GE37vJvsUl77",
        "colab_type": "code",
        "colab": {}
      },
      "source": [
        "def mix_up(a, b):\n",
        "  a_swapped = b[:2] + a[2:]\n",
        "  b_swapped = a[:2] + b[2:]\n",
        "  return a_swapped + ' ' + b_swapped"
      ],
      "execution_count": 0,
      "outputs": []
    },
    {
      "cell_type": "markdown",
      "metadata": {
        "id": "WZs2U5xsUvNl",
        "colab_type": "text"
      },
      "source": [
        "### 問題3"
      ]
    },
    {
      "cell_type": "code",
      "metadata": {
        "id": "umj9Hau4Uzbr",
        "colab_type": "code",
        "colab": {}
      },
      "source": [
        "def match_ends(words):\n",
        "  count = 0\n",
        "  for word in words:\n",
        "    if len(word) >= 2 and word[0] == word[-1]:\n",
        "      count = count + 1\n",
        "  return count"
      ],
      "execution_count": 0,
      "outputs": []
    },
    {
      "cell_type": "markdown",
      "metadata": {
        "id": "Snt3AcoROYxn",
        "colab_type": "text"
      },
      "source": [
        "## 参考資料\n",
        "\n",
        "* Python 3.8.0ドキュメント: https://docs.python.org/ja/3/\n",
        "* Google's Python Class: https://developers.google.com/edu/python"
      ]
    }
  ]
}