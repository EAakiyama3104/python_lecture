{
 "cells": [
  {
   "cell_type": "markdown",
   "metadata": {
    "colab_type": "text",
    "id": "view-in-github"
   },
   "source": [
    "<a href=\"https://colab.research.google.com/github/EAakiyama3104/python_lecture/blob/master/%5BPython%E8%AC%9B%E5%BA%A7%5D%E7%AC%AC1%E5%9B%9EPython%E3%81%AE%E6%96%87%E6%B3%95%E3%82%921%E6%99%82%E9%96%93%E5%8D%8A%E3%81%A7%E3%81%96%E3%81%A3%E3%81%8F%E3%82%8A%E5%AD%A6%E3%81%B6.ipynb\" target=\"_parent\"><img src=\"https://colab.research.google.com/assets/colab-badge.svg\" alt=\"Open In Colab\"/></a>"
   ]
  },
  {
   "cell_type": "markdown",
   "metadata": {
    "colab_type": "text",
    "id": "Fl1DFetjNTKI"
   },
   "source": [
    "## イントロ\n"
   ]
  },
  {
   "cell_type": "markdown",
   "metadata": {
    "colab_type": "text",
    "id": "R1Z1G6kUOzTE"
   },
   "source": [
    "Pythonの人気\n",
    "\n",
    "GitHubではJavaScript、Javaについで第三位\n",
    "\n",
    "![代替テキスト](https://techacademy-magazine-cdn.techacademy.jp/wp-content/uploads/2016/07/total_ghp.png)\n",
    "\n",
    "[GitHubの調査では第二位に](https://japan.zdnet.com/article/35145190/)\n",
    "\n",
    "\n",
    "用途\n",
    "\n",
    "* Web アプリ\n",
    "* データ分析\n",
    "* 機械学習\n",
    "* スクレイピング\n",
    "* コマンドラインアプリ"
   ]
  },
  {
   "cell_type": "markdown",
   "metadata": {
    "colab_type": "text",
    "id": "-rQf-098NOi2"
   },
   "source": [
    "## Colaboratoryについて\n",
    "\n",
    "* オンラインでPythonコードを動かせるサービス\n",
    "* 1つずつセルを実行することができる\n",
    "* Google ドライブと連携している\n",
    "\n",
    "[詳しくはこちらへ](https://colab.research.google.com/notebooks/welcome.ipynb?hl=ja)"
   ]
  },
  {
   "cell_type": "markdown",
   "metadata": {
    "colab_type": "text",
    "id": "VMseNh4lQyLe"
   },
   "source": [
    "## Pythonの特徴\n",
    "\n",
    "* Python2 と Python3 があるが、これからはPython3を使うべき。Python2は2020年3月でサポート終了。\n",
    "* 動的型付け言語。コードで型を指定しない。"
   ]
  },
  {
   "cell_type": "markdown",
   "metadata": {
    "colab_type": "text",
    "id": "m5FqDD2TmL3B"
   },
   "source": [
    "整数 int\n",
    "小数込 double, float\n",
    "文字列 str"
   ]
  },
  {
   "cell_type": "markdown",
   "metadata": {
    "colab_type": "text",
    "id": "HRuiuySlMzTl"
   },
   "source": [
    ".py ファイルが module となる。フォルダが package。import で外部の module を読み込む"
   ]
  },
  {
   "cell_type": "code",
   "execution_count": null,
   "metadata": {
    "colab": {
     "base_uri": "https://localhost:8080/",
     "height": 150
    },
    "colab_type": "code",
    "id": "5fiToBgwM1fc",
    "outputId": "0e9e2bcf-50b9-4709-899c-824e39e9f830"
   },
   "outputs": [
    {
     "ename": "SystemExit",
     "evalue": "ignored",
     "output_type": "error",
     "traceback": [
      "An exception has occurred, use %tb to see the full traceback.\n",
      "\u001b[0;31mSystemExit\u001b[0m\u001b[0;31m:\u001b[0m 0\n"
     ]
    },
    {
     "name": "stderr",
     "output_type": "stream",
     "text": [
      "/usr/local/lib/python3.6/dist-packages/IPython/core/interactiveshell.py:2890: UserWarning: To exit: use 'exit', 'quit', or Ctrl-D.\n",
      "  warn(\"To exit: use 'exit', 'quit', or Ctrl-D.\", stacklevel=1)\n"
     ]
    }
   ],
   "source": [
    "import sys\n",
    "# sysのメソッドを呼び出せるようになる\n",
    "sys.exit(0)"
   ]
  },
  {
   "cell_type": "markdown",
   "metadata": {
    "colab_type": "text",
    "id": "3lgmt4KZMt5Y"
   },
   "source": [
    "インデントによってコードブロックを作る"
   ]
  },
  {
   "cell_type": "code",
   "execution_count": null,
   "metadata": {
    "colab": {},
    "colab_type": "code",
    "id": "DHORBmQEMwhA"
   },
   "outputs": [],
   "source": [
    "def main():\n",
    "  if name == 'Guido':\n",
    "      print('Hi')\n",
    "  else:\n",
    "      print('Hello')"
   ]
  },
  {
   "cell_type": "markdown",
   "metadata": {
    "colab_type": "text",
    "id": "IYjUPg4fMPsu"
   },
   "source": [
    "関数の定義\b\n",
    "\n",
    "def 関数名(引数...): の形で定義する"
   ]
  },
  {
   "cell_type": "code",
   "execution_count": null,
   "metadata": {
    "colab": {
     "base_uri": "https://localhost:8080/",
     "height": 52
    },
    "colab_type": "code",
    "id": "XietZ_CqMWGx",
    "outputId": "ae6e1d7a-3fe3-4b38-c2b2-6e0a70f31565"
   },
   "outputs": [
    {
     "name": "stdout",
     "output_type": "stream",
     "text": [
      "hi hi hi !!!\n",
      "3!!!\n"
     ]
    }
   ],
   "source": [
    "# Defines a \"repeat\" function that takes 2 arguments.\n",
    "def repeat(s, exclaim):\n",
    "    \"\"\"\n",
    "    Returns the string 's' repeated 3 times.\n",
    "    If exclaim is true, add exclamation marks.\n",
    "    \"\"\"\n",
    "\n",
    "    result = s + s + s # can also use \"s * 3\" which is faster (Why?)\n",
    "    result = str(result)\n",
    "    if exclaim:\n",
    "        result = result + '!!!'\n",
    "    return result\n",
    "\n",
    "print(repeat('hi ', True))\n",
    "print(repeat(1, True))"
   ]
  },
  {
   "cell_type": "markdown",
   "metadata": {
    "colab_type": "text",
    "id": "LEr0h_aMZO1j"
   },
   "source": [
    "## str: 文字列"
   ]
  },
  {
   "cell_type": "markdown",
   "metadata": {
    "colab_type": "text",
    "id": "P3syLiZIZR_x"
   },
   "source": [
    "Python の文字列は str というビルトインのクラスが扱う。\n",
    "\n",
    "特徴\n",
    "\n",
    "* ダブルクオート(\"\")かシングルクオート('')で括られる\n",
    "* 0から始まるインデックスを指定することで、文字列の中の文字へアクセス\n",
    "* len() 関数で長さを取得\n",
    "* 2つの文字列を繋げて新しい文字列を作るときは + で繋ぐ\n",
    "\n"
   ]
  },
  {
   "cell_type": "code",
   "execution_count": null,
   "metadata": {
    "colab": {
     "base_uri": "https://localhost:8080/",
     "height": 87
    },
    "colab_type": "code",
    "id": "Jseo0n69XcCl",
    "outputId": "f7582066-707d-4eb7-db64-2315f83a7f61"
   },
   "outputs": [
    {
     "name": "stdout",
     "output_type": "stream",
     "text": [
      "h\n",
      "e\n",
      "5\n",
      "hello there\n"
     ]
    }
   ],
   "source": [
    "s = 'hello'\n",
    "print(s[0])\n",
    "print(s[1])\n",
    "# print(s[5]) # これはエラー\n",
    "print(len(s))\n",
    "print(s + ' there')"
   ]
  },
  {
   "cell_type": "markdown",
   "metadata": {
    "colab_type": "text",
    "id": "PE3MeeC5Zzuq"
   },
   "source": [
    "文字列のスライス\n",
    "\n",
    "![代替テキスト](https://developers.google.com/edu/python/images/hello.png)\n",
    "\n",
    "文字列の一部を取り出せる\n",
    "\n",
    "s[はじめの文字のインデックス: 最後の文字の次のインデックス]\n",
    "\n",
    "という表記"
   ]
  },
  {
   "cell_type": "code",
   "execution_count": null,
   "metadata": {
    "colab": {
     "base_uri": "https://localhost:8080/",
     "height": 175
    },
    "colab_type": "code",
    "id": "ALKoTKuGcFcG",
    "outputId": "9104cc43-3b6f-4d62-a2b9-bb2ebc857eaa"
   },
   "outputs": [
    {
     "name": "stdout",
     "output_type": "stream",
     "text": [
      "ell\n",
      "ello\n",
      "Hello\n",
      "ello\n",
      "o\n",
      "e\n",
      "e\n",
      "He\n",
      "llo\n"
     ]
    }
   ],
   "source": [
    "s = 'Hello'\n",
    "print(s[1:4])\n",
    "print(s[1:])\n",
    "print(s[:])\n",
    "print(s[1:100])\n",
    "print(s[-1])\n",
    "print(s[-4])\n",
    "print(s[-4])\n",
    "print(s[:-3])\n",
    "print(s[-3:])"
   ]
  },
  {
   "cell_type": "markdown",
   "metadata": {
    "colab_type": "text",
    "id": "58312799eDDc"
   },
   "source": [
    "文字列の結合は s.join(list) を用いる"
   ]
  },
  {
   "cell_type": "code",
   "execution_count": null,
   "metadata": {
    "colab": {
     "base_uri": "https://localhost:8080/",
     "height": 70
    },
    "colab_type": "code",
    "id": "vMN8BTA5eHRj",
    "outputId": "f9eab121-cf45-483c-8861-b748262f4e01"
   },
   "outputs": [
    {
     "name": "stdout",
     "output_type": "stream",
     "text": [
      "hi,hello,こんにちは\n",
      "hi--hello--こんにちは\n",
      "hi hello こんにちは\n"
     ]
    }
   ],
   "source": [
    "hello_list = ['hi', 'hello', 'こんにちは']\n",
    "print(','.join(hello_list))\n",
    "print('--'.join(hello_list))\n",
    "print(' '.join(hello_list))"
   ]
  },
  {
   "cell_type": "markdown",
   "metadata": {
    "colab_type": "text",
    "id": "uZqyl-6bpGvM"
   },
   "source": [
    "## list: リスト"
   ]
  },
  {
   "cell_type": "markdown",
   "metadata": {
    "colab_type": "text",
    "id": "vG0o1AEepQ8r"
   },
   "source": [
    "Python の配列は list というビルトインの型が扱う。\n",
    "\n",
    "要素へのアクセスの方法は文字列に似ている。\n",
    "\n",
    "![代替テキスト](https://developers.google.com/edu/python/images/list1.png)"
   ]
  },
  {
   "cell_type": "code",
   "execution_count": null,
   "metadata": {
    "colab": {
     "base_uri": "https://localhost:8080/",
     "height": 70
    },
    "colab_type": "code",
    "id": "wGvjKNou6Zji",
    "outputId": "2b4bbce0-17bb-4f5b-9052-d696b35a946f"
   },
   "outputs": [
    {
     "name": "stdout",
     "output_type": "stream",
     "text": [
      "red\n",
      "green\n",
      "3\n"
     ]
    }
   ],
   "source": [
    "colors = ['red', 'blue', 'green']\n",
    "print(colors[0])    ## red\n",
    "print(colors[2])    ## green\n",
    "print(len(colors))  ## 3"
   ]
  },
  {
   "cell_type": "markdown",
   "metadata": {
    "colab_type": "text",
    "id": "CfxhaXko7749"
   },
   "source": [
    "for 文は\n",
    "\n",
    "```\n",
    "for value in values:\n",
    "  print(value)\n",
    "```\n",
    "のように for in の形を取る\n"
   ]
  },
  {
   "cell_type": "code",
   "execution_count": null,
   "metadata": {
    "colab": {
     "base_uri": "https://localhost:8080/",
     "height": 70
    },
    "colab_type": "code",
    "id": "9tbh4JZzsH8i",
    "outputId": "50cb55c5-92f7-4c9a-db69-258bb8bcdcee"
   },
   "outputs": [
    {
     "name": "stdout",
     "output_type": "stream",
     "text": [
      "red\n",
      "blue\n",
      "green\n"
     ]
    }
   ],
   "source": [
    "for color in colors:\n",
    "  print(color)"
   ]
  },
  {
   "cell_type": "code",
   "execution_count": null,
   "metadata": {
    "colab": {
     "base_uri": "https://localhost:8080/",
     "height": 34
    },
    "colab_type": "code",
    "id": "PmmCs1Vf8ZVL",
    "outputId": "629363fc-dfb1-4aab-a93b-c6cc11618a44"
   },
   "outputs": [
    {
     "name": "stdout",
     "output_type": "stream",
     "text": [
      "14916\n"
     ]
    }
   ],
   "source": [
    "squares = [1, 4, 9, 16]\n",
    "sum = ''\n",
    "for num in squares:\n",
    "  sum = sum + str(num)\n",
    "print(sum)  ## 30"
   ]
  },
  {
   "cell_type": "markdown",
   "metadata": {
    "colab_type": "text",
    "id": "hdtc3Hsf6h7h"
   },
   "source": [
    "list にある要素があるかどうか確かめるときは、if in を用いる"
   ]
  },
  {
   "cell_type": "code",
   "execution_count": null,
   "metadata": {
    "colab": {},
    "colab_type": "code",
    "id": "1J6c3qW26hDM"
   },
   "outputs": [],
   "source": [
    "list_a = ['larry', 'curly', 'moe']\n",
    "if 'curly' in list_a:\n",
    "  print('yay')\n",
    "if 'curlya' in list_a:\n",
    "  print('yay')"
   ]
  },
  {
   "cell_type": "markdown",
   "metadata": {
    "colab_type": "text",
    "id": "tvuODgY1AtjE"
   },
   "source": [
    "数字でforループを書きたい場合は、range() を利用する"
   ]
  },
  {
   "cell_type": "code",
   "execution_count": null,
   "metadata": {
    "colab": {
     "base_uri": "https://localhost:8080/",
     "height": 193
    },
    "colab_type": "code",
    "id": "MVQ3IsY1AsSt",
    "outputId": "7356df44-4725-42cd-8121-1868dea08b20"
   },
   "outputs": [
    {
     "name": "stdout",
     "output_type": "stream",
     "text": [
      "0\n",
      "1\n",
      "2\n",
      "3\n",
      "4\n",
      "5\n",
      "6\n",
      "7\n",
      "8\n",
      "9\n"
     ]
    }
   ],
   "source": [
    "## print the numbers from 0 through 10\n",
    "for i in range(10):\n",
    "  print(i)"
   ]
  },
  {
   "cell_type": "markdown",
   "metadata": {
    "colab_type": "text",
    "id": "7eK7sJ9oBF4U"
   },
   "source": [
    "Whileループを用いることもできる。\n",
    "\n",
    "ループの中で、breakやcontinueも動く"
   ]
  },
  {
   "cell_type": "code",
   "execution_count": null,
   "metadata": {
    "colab": {
     "base_uri": "https://localhost:8080/",
     "height": 87
    },
    "colab_type": "code",
    "id": "9A8FgYcIBTJX",
    "outputId": "802b036a-4421-479d-b38d-c7f74d2c91a0"
   },
   "outputs": [
    {
     "name": "stdout",
     "output_type": "stream",
     "text": [
      "0\n",
      "3\n",
      "6\n",
      "9\n"
     ]
    }
   ],
   "source": [
    "## Access every 3rd element in a list\n",
    "i = 0\n",
    "while i < 10:\n",
    "  print(i)\n",
    "  i = i + 3"
   ]
  },
  {
   "cell_type": "markdown",
   "metadata": {
    "colab_type": "text",
    "id": "-O52VR_gB6oM"
   },
   "source": [
    "listのメソッド例"
   ]
  },
  {
   "cell_type": "code",
   "execution_count": null,
   "metadata": {
    "colab": {
     "base_uri": "https://localhost:8080/",
     "height": 122
    },
    "colab_type": "code",
    "id": "RFoGZaSQB8XA",
    "outputId": "930c282f-ea94-4358-a6f2-d35837655e5f"
   },
   "outputs": [
    {
     "name": "stdout",
     "output_type": "stream",
     "text": [
      "['larry', 'curly', 'moe', 'shemp']\n",
      "['xxx', 'larry', 'curly', 'moe', 'shemp']\n",
      "['xxx', 'larry', 'curly', 'moe', 'shemp', 'yyy', 'zzz']\n",
      "2\n",
      "['xxx', 'larry', 'moe', 'shemp', 'yyy', 'zzz']\n",
      "['xxx', 'moe', 'shemp', 'yyy', 'zzz']\n"
     ]
    }
   ],
   "source": [
    "list = ['larry', 'curly', 'moe']\n",
    "list.append('shemp')         ## append elem at end\n",
    "print(list)\n",
    "list.insert(0, 'xxx')        ## insert elem at index 0\n",
    "print(list)\n",
    "list.extend(['yyy', 'zzz'])  ## add list of elems at end\n",
    "print(list)  ## ['xxx', 'larry', 'curly', 'moe', 'shemp', 'yyy', 'zzz']\n",
    "print(list.index('curly'))    ## 2\n",
    "\n",
    "list.remove('curly')         ## search and remove that element\n",
    "print(list)\n",
    "list.pop(1)                  ## removes and returns 'larry'\n",
    "print(list)  ## ['xxx', 'moe', 'shemp', 'yyy', 'zzz']"
   ]
  },
  {
   "cell_type": "markdown",
   "metadata": {
    "colab_type": "text",
    "id": "zIeWvEvoCo2d"
   },
   "source": [
    "タプル\n",
    "\n",
    "変更不可能でサイズを変えられない tuple という型もある。\n",
    "\n"
   ]
  },
  {
   "cell_type": "code",
   "execution_count": null,
   "metadata": {
    "colab": {
     "base_uri": "https://localhost:8080/",
     "height": 52
    },
    "colab_type": "code",
    "id": "7Z2Ok8UWC7m3",
    "outputId": "eb8d85b8-cd7f-49ab-ec1c-1ccb91d4f2aa"
   },
   "outputs": [
    {
     "name": "stdout",
     "output_type": "stream",
     "text": [
      "3\n",
      "hi\n"
     ]
    }
   ],
   "source": [
    "tuple = (1, 2, 'hi')\n",
    "print(len(tuple))  ## 3\n",
    "print(tuple[2])    ## hi\n",
    "# tuple[2] = 'bye'  ## NO, tuples cannot be changed\n",
    "tuple = (1, 2, 'bye')  ## this works"
   ]
  },
  {
   "cell_type": "markdown",
   "metadata": {
    "colab_type": "text",
    "id": "zPLPCyZ6DKK5"
   },
   "source": [
    "## dict: ハッシュテーブル"
   ]
  },
  {
   "cell_type": "markdown",
   "metadata": {
    "colab_type": "text",
    "id": "J07sU9NyDamd"
   },
   "source": [
    "キーと値の組み合わせを0個以上もつ型\n",
    "\n",
    "dict[キー] = 値 のように値をセット\n",
    "\n",
    "dict[キー] または dict.get(キー) のように値にアクセス\n",
    "\n",
    "![代替テキスト](https://developers.google.com/edu/python/images/dict.png)"
   ]
  },
  {
   "cell_type": "code",
   "execution_count": null,
   "metadata": {
    "colab": {
     "base_uri": "https://localhost:8080/",
     "height": 158
    },
    "colab_type": "code",
    "id": "2ULFf24ODQXz",
    "outputId": "f9a9706a-ce09-4657-ce98-33391ce152c3"
   },
   "outputs": [
    {
     "name": "stdout",
     "output_type": "stream",
     "text": [
      "{'a': 'alpha', 'g': 'gamma', 'o': 'omega'}\n",
      "{'a': 'alpha', 'o': 'omega', 'g': 'gamma'}\n",
      "alpha\n",
      "True\n",
      "False\n",
      "6\n",
      "None\n",
      "not found\n"
     ]
    }
   ],
   "source": [
    "## Can build up a dict by starting with the the empty dict {}\n",
    "## and storing key/value pairs into the dict like this:\n",
    "## dict[key] = value-for-that-key\n",
    "dict = {}\n",
    "dict['a'] = 'alpha'\n",
    "dict['g'] = 'gamma'\n",
    "dict['o'] = 'omega'\n",
    "\n",
    "print(dict)  ## {'a': 'alpha', 'o': 'omega', 'g': 'gamma'}\n",
    "\n",
    "dict_a = {'a': 'alpha', 'o': 'omega', 'g': 'gamma'}\n",
    "\n",
    "print(dict_a)\n",
    "\n",
    "print(dict['a'])     ## Simple lookup, returns 'alpha'\n",
    "dict['a'] = 6       ## Put new key/value into dict\n",
    "print('a' in dict)         ## True\n",
    "print('b' in dict)\n",
    "# print dict['z']                  ## Throws KeyError\n",
    "if 'z' in dict: \n",
    "  print(dict['z'])     ## Avoid KeyError\n",
    "print(dict.get('a'))\n",
    "print(dict.get('z'))  ## None (instead of KeyError)\n",
    "print(dict.get('z', 'not found'))"
   ]
  },
  {
   "cell_type": "markdown",
   "metadata": {
    "colab_type": "text",
    "id": "b5u81AF8O9qm"
   },
   "source": [
    "## 練習問題"
   ]
  },
  {
   "cell_type": "markdown",
   "metadata": {
    "colab_type": "text",
    "id": "HjPE0e_CQH8F"
   },
   "source": [
    "問題１\n",
    "\n",
    "文字列が与えられたときに、その文字列の最初の2文字と最後の2文字を連結させた文字列を返す関数を書いてください。\n",
    "\n",
    "与えられた文字列の長さが2より小さい場合は、空の文字列を返してください。"
   ]
  },
  {
   "cell_type": "code",
   "execution_count": null,
   "metadata": {
    "colab": {},
    "colab_type": "code",
    "id": "mluz7z7-P_v9"
   },
   "outputs": [],
   "source": [
    "# B. both_ends\n",
    "# Given a string s, return a string made of the first 2\n",
    "# and the last 2 chars of the original string,\n",
    "# so 'spring' yields 'spng'. However, if the string length\n",
    "# is less than 2, return instead the empty string.\n",
    "def both_ends(s):\n",
    "  # +++your code here+++\n",
    "  return"
   ]
  },
  {
   "cell_type": "code",
   "execution_count": null,
   "metadata": {
    "colab": {},
    "colab_type": "code",
    "id": "KSEvql1Sc8JY"
   },
   "outputs": [],
   "source": []
  },
  {
   "cell_type": "markdown",
   "metadata": {
    "colab_type": "text",
    "id": "lVBWWDPHQDdp"
   },
   "source": [
    "問題2\n",
    "\n",
    "文字列a, bが与えられたとき、それぞれの文字列の初めの2文字を入れ替えた上で、aとbを空白で繋げてできた文字列を返す関数を書いてください。ただし、aとbの長さは2以上と仮定してください。\n",
    "\n",
    "たとえば、\n",
    "\n",
    "'mix', 'pod' -> 'pox mid'\n",
    "\n",
    "'dog', 'dinner' -> 'dig donner'\n",
    "\n",
    "となります。\n",
    "\n"
   ]
  },
  {
   "cell_type": "code",
   "execution_count": null,
   "metadata": {
    "colab": {},
    "colab_type": "code",
    "id": "oxiBkLVLQMHw"
   },
   "outputs": [],
   "source": [
    "# D. MixUp\n",
    "# Given strings a and b, return a single string with a and b separated\n",
    "# by a space '<a> <b>', except swap the first 2 chars of each string.\n",
    "# e.g.\n",
    "#   'mix', pod' -> 'pox mid'\n",
    "#   'dog', 'dinner' -> 'dig donner'\n",
    "# Assume a and b are length 2 or more.\n",
    "def mix_up(a, b):\n",
    "  # +++your code here+++\n",
    "  return"
   ]
  },
  {
   "cell_type": "code",
   "execution_count": null,
   "metadata": {
    "colab": {},
    "colab_type": "code",
    "id": "WWaTOekQc87G"
   },
   "outputs": [],
   "source": []
  },
  {
   "cell_type": "markdown",
   "metadata": {
    "colab_type": "text",
    "id": "neD5NRIaRMHG"
   },
   "source": [
    "問題3\n",
    "\n",
    "文字列のリストが与えられたとき、長さが2以上で、最初と最後の文字が同じであるような文字列の数を返す関数を書いてください。"
   ]
  },
  {
   "cell_type": "code",
   "execution_count": null,
   "metadata": {
    "colab": {},
    "colab_type": "code",
    "id": "mG9xG4-oTBd8"
   },
   "outputs": [],
   "source": [
    "# A. match_ends\n",
    "# Given a list of strings, return the count of the number of\n",
    "# strings where the string length is 2 or more and the first\n",
    "# and last chars of the string are the same.\n",
    "# Note: python does not have a ++ operator, but += works.\n",
    "def match_ends(words):\n",
    "  # +++your code here+++\n",
    "  return"
   ]
  },
  {
   "cell_type": "code",
   "execution_count": null,
   "metadata": {
    "colab": {},
    "colab_type": "code",
    "id": "U6hUyAIAc9oH"
   },
   "outputs": [],
   "source": []
  },
  {
   "cell_type": "markdown",
   "metadata": {
    "colab_type": "text",
    "id": "6tUvmmB3OlWu"
   },
   "source": [
    "## 解答"
   ]
  },
  {
   "cell_type": "markdown",
   "metadata": {
    "colab_type": "text",
    "id": "hlGfQl2POrrb"
   },
   "source": [
    "### 問題1"
   ]
  },
  {
   "cell_type": "code",
   "execution_count": null,
   "metadata": {
    "colab": {},
    "colab_type": "code",
    "id": "i3CZx8lyOpYc"
   },
   "outputs": [],
   "source": [
    "def both_ends(s):\n",
    "  if len(s) < 2:\n",
    "    return ''\n",
    "  first2 = s[0:2]\n",
    "  last2 = s[-2:]\n",
    "  return first2 + last2"
   ]
  },
  {
   "cell_type": "markdown",
   "metadata": {
    "colab_type": "text",
    "id": "b9MAsOz7UiOo"
   },
   "source": [
    "### 問題2"
   ]
  },
  {
   "cell_type": "code",
   "execution_count": null,
   "metadata": {
    "colab": {},
    "colab_type": "code",
    "id": "GE37vJvsUl77"
   },
   "outputs": [],
   "source": [
    "def mix_up(a, b):\n",
    "  a_swapped = b[:2] + a[2:]\n",
    "  b_swapped = a[:2] + b[2:]\n",
    "  return a_swapped + ' ' + b_swapped"
   ]
  },
  {
   "cell_type": "markdown",
   "metadata": {
    "colab_type": "text",
    "id": "WZs2U5xsUvNl"
   },
   "source": [
    "### 問題3"
   ]
  },
  {
   "cell_type": "code",
   "execution_count": null,
   "metadata": {
    "colab": {},
    "colab_type": "code",
    "id": "umj9Hau4Uzbr"
   },
   "outputs": [],
   "source": [
    "def match_ends(words):\n",
    "  count = 0\n",
    "  for word in words:\n",
    "    if len(word) >= 2 and word[0] == word[-1]:\n",
    "      count = count + 1\n",
    "  return count"
   ]
  },
  {
   "cell_type": "markdown",
   "metadata": {
    "colab_type": "text",
    "id": "Snt3AcoROYxn"
   },
   "source": [
    "## 参考資料\n",
    "\n",
    "* Python 3.8.0ドキュメント: https://docs.python.org/ja/3/\n",
    "* Google's Python Class: https://developers.google.com/edu/python"
   ]
  }
 ],
 "metadata": {
  "colab": {
   "collapsed_sections": [],
   "include_colab_link": true,
   "name": "[Python講座]第1回Pythonの文法を1時間半でざっくり学ぶ.ipynb",
   "provenance": []
  },
  "kernelspec": {
   "display_name": "Python 3",
   "language": "python",
   "name": "python3"
  },
  "language_info": {
   "codemirror_mode": {
    "name": "ipython",
    "version": 3
   },
   "file_extension": ".py",
   "mimetype": "text/x-python",
   "name": "python",
   "nbconvert_exporter": "python",
   "pygments_lexer": "ipython3",
   "version": "3.7.4"
  }
 },
 "nbformat": 4,
 "nbformat_minor": 4
}
