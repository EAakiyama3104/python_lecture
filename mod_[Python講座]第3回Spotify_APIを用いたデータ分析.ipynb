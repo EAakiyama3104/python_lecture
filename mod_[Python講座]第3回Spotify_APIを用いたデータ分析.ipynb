{
 "cells": [
  {
   "cell_type": "markdown",
   "metadata": {
    "colab_type": "text",
    "id": "view-in-github"
   },
   "source": [
    "<a href=\"https://colab.research.google.com/github/EAakiyama3104/python_lecture/blob/master/%5BPython%E8%AC%9B%E5%BA%A7%5D%E7%AC%AC4%E5%9B%9ESpotify_API%E3%82%92%E7%94%A8%E3%81%84%E3%81%9F%E3%83%87%E3%83%BC%E3%82%BF%E5%88%86%E6%9E%90.ipynb\" target=\"_parent\"><img src=\"https://colab.research.google.com/assets/colab-badge.svg\" alt=\"Open In Colab\"/></a>"
   ]
  },
  {
   "cell_type": "markdown",
   "metadata": {
    "colab_type": "text",
    "id": "Y94VkoovflJe"
   },
   "source": [
    "## Spotify API とは\n",
    "\n",
    "* Spotify 上の音楽データを提供しているWeb API\n",
    "* Spotify上のアーティスト情報や曲の情報などを取得できる\n",
    "\n",
    "詳細: https://developer.spotify.com/documentation/web-api/reference/"
   ]
  },
  {
   "cell_type": "markdown",
   "metadata": {
    "colab_type": "text",
    "id": "3tKQXhZ0KMiP"
   },
   "source": [
    "Spotify API の特徴\n",
    "\n",
    "![代替テキスト](https://cdn-ssl-devio-img.classmethod.jp/wp-content/uploads/2017/12/spotify-api-overview.png)\n",
    "\n",
    "* Spotify URIやSpotify IDなど、Spotify特有のパラメータ情報をリクエスト、レスポンス時に扱うことがあります。\n",
    "* レート制限に引っかかるとステータスコード429が返却される。これが返ってきた場合は、Retry-Afterヘッダーの値を確認し、そこに記載されている秒の間はAPIをコールすることができない。\n",
    "\n",
    "* レスポンスデータは、JSON Object形式で取得します。\n",
    "\n",
    "* タイムスタンプはUTC zero offset形式（YYYY-MM-DDTHH:MM:SSZ）\n",
    "\n",
    "* 一部のAPIではページネーションをサポート（offset、limitパラメータで指定）\n",
    "\n",
    "* 多くのAPIでは、クライアント側でレスポンスデータのキャッシュを行うためのヘッダー情報が付与される。\n",
    "\n",
    "* レスポンスステータスコードは、RFC 2616 と RFC 6585に則って2xx、3xx、4xx、5xxを返す。\n",
    "\n",
    "* レスポンスデータのエラー表現には、下記2種類のフォーマットを使用する。\n",
    "\n",
    "  * Authentication Error Object\n",
    "  * Regular Error Object\n",
    "*APIをコールするにはOAuthアクセストークンが必要。"
   ]
  },
  {
   "cell_type": "markdown",
   "metadata": {
    "colab_type": "text",
    "id": "sxPITjDVKo13"
   },
   "source": [
    "認証方法の種類\n",
    "\n",
    "![代替テキスト](https://cdn-ssl-devio-img.classmethod.jp/wp-content/uploads/2017/12/Obtaining-Authorization.png)\n",
    "\n",
    "* App Authorization\n",
    "  * システム（Spotify）が、クライアントアプリケーションに、Spotify Platform (APIs, SDKs and Widgets)へアクセスすることを許可します。\n",
    "* User Authorization\n",
    "  * エンドユーザー（Spotifyのエンドユーザー）が、クライアントアプリケーションに、エンドユーザーが所有するデータへアクセスすることを許可します。"
   ]
  },
  {
   "cell_type": "markdown",
   "metadata": {
    "colab_type": "text",
    "id": "A1hBlVzKLdAg"
   },
   "source": [
    "アプリが認証の許可を得るための3つの方法\n",
    "\n",
    "\n",
    "* Refreshable user authorization: Authorization Code\n",
    "  * このフローでは、エンドユーザーはクライアントアプリケーションがリソースへアクセスすることを1度だけ許可します。そのため長期間稼働させるアプリケーションに適しています。 アプリケーションにはリフレッシュ可能なアクセストークンを提供されます。ちなみにトークン交換には秘密鍵の送信が含まれるため、ブラウザやモバイルアプリなどのクライアントからではなく、バックエンドサービスなどの安全な場所でこれを実行します。\n",
    "* Temporary user authorization: Implicit Grant\n",
    "  * このフローは、JavaScriptを使用するため、リソース所有者のブラウザで実行されるクライアントアプリケーション向けです。サーバー側のコードを使用する必要はありません。リクエストのレート制限は改善されていますが、リフレッシュトークンは提供されていません。このフローはRFC-6749で定義されています。\n",
    "* Refreshable app authorization: Client Credentials Flow\n",
    "  * このフローは、サーバー間認証で使用されます。エンドユーザー情報にアクセスしないエンドポイントのみにアクセスが可能です。\n",
    "  * このセミナーではこの認証方法を使用"
   ]
  },
  {
   "cell_type": "markdown",
   "metadata": {
    "colab_type": "text",
    "id": "9eYsUYrOfWsv"
   },
   "source": [
    "## アカウントを作る\n",
    "\n",
    "1. https://www.spotify.com/ にアクセスしてアカウントを作る。\n",
    "2. https://developer.spotify.com/my-applications に行ってログイン\n",
    "3. Create an Application に Application Name と Description を入れる\n",
    "4. Are you developing a commercial integration? と聞かれたら、この講座では NO を選択\n",
    "5. チェックボックスをオンにして Submit\n",
    "6. Client ID と Client Secret メモしておく。APIを呼ぶ際に使います。"
   ]
  },
  {
   "cell_type": "markdown",
   "metadata": {
    "colab_type": "text",
    "id": "qrWHr-hdn3Vf"
   },
   "source": [
    "## Spotipyのインストール\n",
    "\n",
    "Spotipy とは、Spotify APIを呼ぶためのPythonライブラリ\n",
    "\n",
    "* HTTPリクエストを送る操作をライブラリ内で行っているため、リクエストを意識せずに使うことができる\n",
    "* pip install spotipy でインストール"
   ]
  },
  {
   "cell_type": "code",
   "execution_count": 1,
   "metadata": {
    "colab": {},
    "colab_type": "code",
    "id": "5enT2VJVoIKr",
    "scrolled": true
   },
   "outputs": [
    {
     "name": "stdout",
     "output_type": "stream",
     "text": [
      "Collecting spotipy\n",
      "  Downloading https://files.pythonhosted.org/packages/d5/da/f6f71a33c99af2a22b3f885d290116d0e963afa095bf77aba4226f88a876/spotipy-2.9.0-py3-none-any.whl\n",
      "Requirement already satisfied: requests>=2.20.0 in /opt/anaconda3/lib/python3.7/site-packages (from spotipy) (2.22.0)\n",
      "Requirement already satisfied: six>=1.10.0 in /opt/anaconda3/lib/python3.7/site-packages (from spotipy) (1.14.0)\n",
      "Requirement already satisfied: certifi>=2017.4.17 in /opt/anaconda3/lib/python3.7/site-packages (from requests>=2.20.0->spotipy) (2019.11.28)\n",
      "Requirement already satisfied: urllib3!=1.25.0,!=1.25.1,<1.26,>=1.21.1 in /opt/anaconda3/lib/python3.7/site-packages (from requests>=2.20.0->spotipy) (1.24.2)\n",
      "Requirement already satisfied: idna<2.9,>=2.5 in /opt/anaconda3/lib/python3.7/site-packages (from requests>=2.20.0->spotipy) (2.8)\n",
      "Requirement already satisfied: chardet<3.1.0,>=3.0.2 in /opt/anaconda3/lib/python3.7/site-packages (from requests>=2.20.0->spotipy) (3.0.4)\n",
      "Installing collected packages: spotipy\n",
      "Successfully installed spotipy-2.9.0\n"
     ]
    }
   ],
   "source": [
    "!pip install spotipy"
   ]
  },
  {
   "cell_type": "code",
   "execution_count": 1,
   "metadata": {
    "colab": {},
    "colab_type": "code",
    "id": "BOUzK1idfFr7"
   },
   "outputs": [],
   "source": [
    "import spotipy"
   ]
  },
  {
   "cell_type": "markdown",
   "metadata": {
    "colab_type": "text",
    "id": "DArFr-R0eSLz"
   },
   "source": [
    "spotipy.Spotify クラスがAPIへ様々なリクエストを送る\n",
    "\n",
    "https://spotipy.readthedocs.io/en/latest/#module-spotipy.client"
   ]
  },
  {
   "cell_type": "code",
   "execution_count": 7,
   "metadata": {
    "colab": {},
    "colab_type": "code",
    "id": "n_4yp8T2aAEP"
   },
   "outputs": [],
   "source": [
    "import spotipy\n",
    "from spotipy.oauth2 import SpotifyClientCredentials\n",
    "\n",
    "CLIENT_ID = \"a5a078cfb2e347958327aa754121bc5c\"\n",
    "CLIENT_SECRET = \"0ea0b10d0b484fb78ab0e8fdd25318b8\"\n",
    "\n",
    "# 認証情報をセット\n",
    "client_credentials_manager = SpotifyClientCredentials(client_id=CLIENT_ID, client_secret=CLIENT_SECRET)\n",
    "# 認証情報を元に、APIクライアントを作成\n",
    "sp = spotipy.Spotify(client_credentials_manager=client_credentials_manager)"
   ]
  },
  {
   "cell_type": "markdown",
   "metadata": {
    "colab_type": "text",
    "id": "lTK59tTLfVL1"
   },
   "source": [
    "プレイリストを取得\n",
    "\n",
    "公式リファレンス: https://developer.spotify.com/documentation/web-api/reference/playlists/get-list-users-playlists/\n",
    "\n",
    "Spotipyリファレンス: https://spotipy.readthedocs.io/en/latest/#spotipy.client.Spotify.user_playlist"
   ]
  },
  {
   "cell_type": "markdown",
   "metadata": {
    "colab_type": "text",
    "id": "x-PpDzJOkVmh"
   },
   "source": [
    "例: プレイリストのタイトルとURLを取得する"
   ]
  },
  {
   "cell_type": "code",
   "execution_count": 10,
   "metadata": {
    "colab": {},
    "colab_type": "code",
    "id": "dn_fjMgB0mML",
    "scrolled": true
   },
   "outputs": [
    {
     "data": {
      "text/plain": [
       "dict"
      ]
     },
     "execution_count": 10,
     "metadata": {},
     "output_type": "execute_result"
    }
   ],
   "source": [
    "# Spotify 公式のプレイリストから2つ取得\n",
    "playlists = sp.user_playlists('spotify',limit=2)\n",
    "# 辞書形式で返却される\n",
    "type(playlists)"
   ]
  },
  {
   "cell_type": "code",
   "execution_count": 83,
   "metadata": {
    "colab": {},
    "colab_type": "code",
    "id": "50-vfnZO0PkP"
   },
   "outputs": [
    {
     "name": "stdout",
     "output_type": "stream",
     "text": [
      "Beautiful Lies\n",
      "Beautiful Lies\n",
      "Beautiful Lies (Deluxe)\n",
      "Beautiful Lies (Deluxe)\n",
      "Fire Within\n",
      "Fire Within\n",
      "Fire Within (Deluxe)\n",
      "Fire Within (Deluxe)\n",
      "Fire Within (Deluxe)\n",
      "Live in London\n",
      "Birdy\n",
      "Birdy\n",
      "Birdy\n",
      "Birdy\n",
      "Birdy (Deluxe Version)\n"
     ]
    }
   ],
   "source": [
    "birdy_uri = 'spotify:artist:2WX2uTcsvV5OnS0inACecP'\n",
    "spotify = spotipy.Spotify()\n",
    "\n",
    "results = sp.artist_albums(birdy_uri, album_type='album')\n",
    "albums = results['items']\n",
    "while results['next']:\n",
    "  results = sp.next(results)\n",
    "  albums.extend(results['items'])\n",
    "\n",
    "for album in albums:\n",
    "  print(album['name'])"
   ]
  },
  {
   "cell_type": "markdown",
   "metadata": {
    "colab_type": "text",
    "id": "etsCeyF_S_JM"
   },
   "source": [
    "必要なライブラリを読み込み"
   ]
  },
  {
   "cell_type": "code",
   "execution_count": 1,
   "metadata": {
    "colab": {},
    "colab_type": "code",
    "id": "Tz0P9ohlTBdx"
   },
   "outputs": [],
   "source": [
    "import pandas as pd\n",
    "import seaborn as sns"
   ]
  },
  {
   "cell_type": "markdown",
   "metadata": {
    "colab_type": "text",
    "id": "jXtETRbTSy5g"
   },
   "source": [
    "ジャンル情報を取得"
   ]
  },
  {
   "cell_type": "code",
   "execution_count": 31,
   "metadata": {
    "colab": {},
    "colab_type": "code",
    "id": "iRW_dGQ7dLlt"
   },
   "outputs": [
    {
     "data": {
      "text/html": [
       "<div>\n",
       "<style scoped>\n",
       "    .dataframe tbody tr th:only-of-type {\n",
       "        vertical-align: middle;\n",
       "    }\n",
       "\n",
       "    .dataframe tbody tr th {\n",
       "        vertical-align: top;\n",
       "    }\n",
       "\n",
       "    .dataframe thead th {\n",
       "        text-align: right;\n",
       "    }\n",
       "</style>\n",
       "<table border=\"1\" class=\"dataframe\">\n",
       "  <thead>\n",
       "    <tr style=\"text-align: right;\">\n",
       "      <th></th>\n",
       "      <th>genres</th>\n",
       "    </tr>\n",
       "  </thead>\n",
       "  <tbody>\n",
       "    <tr>\n",
       "      <th>0</th>\n",
       "      <td>acoustic</td>\n",
       "    </tr>\n",
       "    <tr>\n",
       "      <th>1</th>\n",
       "      <td>afrobeat</td>\n",
       "    </tr>\n",
       "    <tr>\n",
       "      <th>2</th>\n",
       "      <td>alt-rock</td>\n",
       "    </tr>\n",
       "    <tr>\n",
       "      <th>3</th>\n",
       "      <td>alternative</td>\n",
       "    </tr>\n",
       "    <tr>\n",
       "      <th>4</th>\n",
       "      <td>ambient</td>\n",
       "    </tr>\n",
       "    <tr>\n",
       "      <th>...</th>\n",
       "      <td>...</td>\n",
       "    </tr>\n",
       "    <tr>\n",
       "      <th>121</th>\n",
       "      <td>trance</td>\n",
       "    </tr>\n",
       "    <tr>\n",
       "      <th>122</th>\n",
       "      <td>trip-hop</td>\n",
       "    </tr>\n",
       "    <tr>\n",
       "      <th>123</th>\n",
       "      <td>turkish</td>\n",
       "    </tr>\n",
       "    <tr>\n",
       "      <th>124</th>\n",
       "      <td>work-out</td>\n",
       "    </tr>\n",
       "    <tr>\n",
       "      <th>125</th>\n",
       "      <td>world-music</td>\n",
       "    </tr>\n",
       "  </tbody>\n",
       "</table>\n",
       "<p>126 rows × 1 columns</p>\n",
       "</div>"
      ],
      "text/plain": [
       "          genres\n",
       "0       acoustic\n",
       "1       afrobeat\n",
       "2       alt-rock\n",
       "3    alternative\n",
       "4        ambient\n",
       "..           ...\n",
       "121       trance\n",
       "122     trip-hop\n",
       "123      turkish\n",
       "124     work-out\n",
       "125  world-music\n",
       "\n",
       "[126 rows x 1 columns]"
      ]
     },
     "execution_count": 31,
     "metadata": {},
     "output_type": "execute_result"
    }
   ],
   "source": [
    "pd.DataFrame(sp.recommendation_genre_seeds())"
   ]
  },
  {
   "cell_type": "markdown",
   "metadata": {
    "colab_type": "text",
    "id": "IiofTWnHWZBl"
   },
   "source": [
    "特定のジャンルの曲を取得\n",
    "\n",
    "/search API を用いる\n",
    "\n",
    "* 公式リファレンス: https://developer.spotify.com/documentation/web-api/reference/search/search/\n",
    "* spotipy のリファレンス: https://spotipy.readthedocs.io/en/latest/#spotipy.client.Spotify.search"
   ]
  },
  {
   "cell_type": "code",
   "execution_count": null,
   "metadata": {
    "colab": {},
    "colab_type": "code",
    "id": "eqNSmhxf0D_n"
   },
   "outputs": [],
   "source": [
    "# ジャンルで検索\n",
    "search_genre = sp.search(q='genre:acoustic', type='track', offset=0, limit=1)\n",
    "pprint(search_genre)"
   ]
  },
  {
   "cell_type": "markdown",
   "metadata": {
    "colab_type": "text",
    "id": "mgwP2bnt6r0A"
   },
   "source": [
    "## 解答"
   ]
  },
  {
   "cell_type": "code",
   "execution_count": 40,
   "metadata": {
    "colab": {},
    "colab_type": "code",
    "id": "My4KQ3JQ29HJ"
   },
   "outputs": [
    {
     "name": "stdout",
     "output_type": "stream",
     "text": [
      "[{'album': {'album_type': 'single',\n",
      "            'artists': [{'external_urls': {'spotify': 'https://open.spotify.com/artist/5D3muNJhYYunbRkh3FKgX0'},\n",
      "                         'href': 'https://api.spotify.com/v1/artists/5D3muNJhYYunbRkh3FKgX0',\n",
      "                         'id': '5D3muNJhYYunbRkh3FKgX0',\n",
      "                         'name': 'Chord Overstreet',\n",
      "                         'type': 'artist',\n",
      "                         'uri': 'spotify:artist:5D3muNJhYYunbRkh3FKgX0'}],\n",
      "            'available_markets': ['AD',\n",
      "                                  'AE',\n",
      "                                  'AR',\n",
      "                                  'AT',\n",
      "                                  'AU',\n",
      "                                  'BE',\n",
      "                                  'BG',\n",
      "                                  'BH',\n",
      "                                  'BO',\n",
      "                                  'BR',\n",
      "                                  'CA',\n",
      "                                  'CH',\n",
      "                                  'CL',\n",
      "                                  'CO',\n",
      "                                  'CR',\n",
      "                                  'CY',\n",
      "                                  'CZ',\n",
      "                                  'DE',\n",
      "                                  'DK',\n",
      "                                  'DO',\n",
      "                                  'DZ',\n",
      "                                  'EC',\n",
      "                                  'EE',\n",
      "                                  'EG',\n",
      "                                  'ES',\n",
      "                                  'FI',\n",
      "                                  'FR',\n",
      "                                  'GB',\n",
      "                                  'GR',\n",
      "                                  'GT',\n",
      "                                  'HK',\n",
      "                                  'HN',\n",
      "                                  'HU',\n",
      "                                  'ID',\n",
      "                                  'IE',\n",
      "                                  'IL',\n",
      "                                  'IN',\n",
      "                                  'IS',\n",
      "                                  'IT',\n",
      "                                  'JO',\n",
      "                                  'JP',\n",
      "                                  'KW',\n",
      "                                  'LB',\n",
      "                                  'LI',\n",
      "                                  'LT',\n",
      "                                  'LU',\n",
      "                                  'LV',\n",
      "                                  'MA',\n",
      "                                  'MC',\n",
      "                                  'MT',\n",
      "                                  'MX',\n",
      "                                  'MY',\n",
      "                                  'NI',\n",
      "                                  'NL',\n",
      "                                  'NO',\n",
      "                                  'NZ',\n",
      "                                  'OM',\n",
      "                                  'PA',\n",
      "                                  'PE',\n",
      "                                  'PH',\n",
      "                                  'PL',\n",
      "                                  'PS',\n",
      "                                  'PT',\n",
      "                                  'PY',\n",
      "                                  'QA',\n",
      "                                  'RO',\n",
      "                                  'SA',\n",
      "                                  'SE',\n",
      "                                  'SG',\n",
      "                                  'SK',\n",
      "                                  'SV',\n",
      "                                  'TH',\n",
      "                                  'TN',\n",
      "                                  'TR',\n",
      "                                  'TW',\n",
      "                                  'US',\n",
      "                                  'UY',\n",
      "                                  'VN',\n",
      "                                  'ZA'],\n",
      "            'external_urls': {'spotify': 'https://open.spotify.com/album/2EfmyRWheMtmVTCIsptsLi'},\n",
      "            'href': 'https://api.spotify.com/v1/albums/2EfmyRWheMtmVTCIsptsLi',\n",
      "            'id': '2EfmyRWheMtmVTCIsptsLi',\n",
      "            'images': [{'height': 640,\n",
      "                        'url': 'https://i.scdn.co/image/bbf0818eba3b1fd85a4b737b8464fac1ff9609a8',\n",
      "                        'width': 640},\n",
      "                       {'height': 300,\n",
      "                        'url': 'https://i.scdn.co/image/cea87b9099170adf673a610084f187f60c745fc3',\n",
      "                        'width': 300},\n",
      "                       {'height': 64,\n",
      "                        'url': 'https://i.scdn.co/image/32e22b621cefd4cca9afbdfc7fa86e7e901a8250',\n",
      "                        'width': 64}],\n",
      "            'name': 'Hold On',\n",
      "            'release_date': '2017-02-03',\n",
      "            'release_date_precision': 'day',\n",
      "            'total_tracks': 1,\n",
      "            'type': 'album',\n",
      "            'uri': 'spotify:album:2EfmyRWheMtmVTCIsptsLi'},\n",
      "  'artists': [{'external_urls': {'spotify': 'https://open.spotify.com/artist/5D3muNJhYYunbRkh3FKgX0'},\n",
      "               'href': 'https://api.spotify.com/v1/artists/5D3muNJhYYunbRkh3FKgX0',\n",
      "               'id': '5D3muNJhYYunbRkh3FKgX0',\n",
      "               'name': 'Chord Overstreet',\n",
      "               'type': 'artist',\n",
      "               'uri': 'spotify:artist:5D3muNJhYYunbRkh3FKgX0'}],\n",
      "  'available_markets': ['AD',\n",
      "                        'AE',\n",
      "                        'AR',\n",
      "                        'AT',\n",
      "                        'AU',\n",
      "                        'BE',\n",
      "                        'BG',\n",
      "                        'BH',\n",
      "                        'BO',\n",
      "                        'BR',\n",
      "                        'CA',\n",
      "                        'CH',\n",
      "                        'CL',\n",
      "                        'CO',\n",
      "                        'CR',\n",
      "                        'CY',\n",
      "                        'CZ',\n",
      "                        'DE',\n",
      "                        'DK',\n",
      "                        'DO',\n",
      "                        'DZ',\n",
      "                        'EC',\n",
      "                        'EE',\n",
      "                        'EG',\n",
      "                        'ES',\n",
      "                        'FI',\n",
      "                        'FR',\n",
      "                        'GB',\n",
      "                        'GR',\n",
      "                        'GT',\n",
      "                        'HK',\n",
      "                        'HN',\n",
      "                        'HU',\n",
      "                        'ID',\n",
      "                        'IE',\n",
      "                        'IL',\n",
      "                        'IN',\n",
      "                        'IS',\n",
      "                        'IT',\n",
      "                        'JO',\n",
      "                        'JP',\n",
      "                        'KW',\n",
      "                        'LB',\n",
      "                        'LI',\n",
      "                        'LT',\n",
      "                        'LU',\n",
      "                        'LV',\n",
      "                        'MA',\n",
      "                        'MC',\n",
      "                        'MT',\n",
      "                        'MX',\n",
      "                        'MY',\n",
      "                        'NI',\n",
      "                        'NL',\n",
      "                        'NO',\n",
      "                        'NZ',\n",
      "                        'OM',\n",
      "                        'PA',\n",
      "                        'PE',\n",
      "                        'PH',\n",
      "                        'PL',\n",
      "                        'PS',\n",
      "                        'PT',\n",
      "                        'PY',\n",
      "                        'QA',\n",
      "                        'RO',\n",
      "                        'SA',\n",
      "                        'SE',\n",
      "                        'SG',\n",
      "                        'SK',\n",
      "                        'SV',\n",
      "                        'TH',\n",
      "                        'TN',\n",
      "                        'TR',\n",
      "                        'TW',\n",
      "                        'US',\n",
      "                        'UY',\n",
      "                        'VN',\n",
      "                        'ZA'],\n",
      "  'disc_number': 1,\n",
      "  'duration_ms': 198853,\n",
      "  'explicit': False,\n",
      "  'external_ids': {'isrc': 'USUM71615568'},\n",
      "  'external_urls': {'spotify': 'https://open.spotify.com/track/5vjLSffimiIP26QG5WcN2K'},\n",
      "  'href': 'https://api.spotify.com/v1/tracks/5vjLSffimiIP26QG5WcN2K',\n",
      "  'id': '5vjLSffimiIP26QG5WcN2K',\n",
      "  'is_local': False,\n",
      "  'name': 'Hold On',\n",
      "  'popularity': 77,\n",
      "  'preview_url': None,\n",
      "  'track_number': 1,\n",
      "  'type': 'track',\n",
      "  'uri': 'spotify:track:5vjLSffimiIP26QG5WcN2K'}]\n"
     ]
    }
   ],
   "source": [
    "# tracks > items から検索結果を取得\n",
    "pprint(search_genre['tracks']['items'])"
   ]
  },
  {
   "cell_type": "code",
   "execution_count": 25,
   "metadata": {
    "colab": {},
    "colab_type": "code",
    "id": "EN0JrJJ14qbA"
   },
   "outputs": [
    {
     "name": "stdout",
     "output_type": "stream",
     "text": [
      "['タイトル : Hold On, ID: 5vjLSffimiIP26QG5WcN2K']\n",
      "'5vjLSffimiIP26QG5WcN2K'\n"
     ]
    }
   ],
   "source": [
    "# 曲名,idを取得\n",
    "\n",
    "pprint([f\"タイトル : {item['name']}, ID: {item['id']}\"  for item in search_genre['tracks']['items']])\n",
    "# フォーマット文字リテラルと言う仕組みによって、文字列内に変数が展開される　https://note.nkmk.me/python-f-strings/"
   ]
  },
  {
   "cell_type": "code",
   "execution_count": 43,
   "metadata": {
    "colab": {},
    "colab_type": "code",
    "id": "uV0bOZEM5Iz6"
   },
   "outputs": [
    {
     "name": "stdout",
     "output_type": "stream",
     "text": [
      "'5vjLSffimiIP26QG5WcN2K'\n"
     ]
    }
   ],
   "source": []
  },
  {
   "cell_type": "markdown",
   "metadata": {
    "colab_type": "text",
    "id": "4un5CeWyHuKJ"
   },
   "source": [
    "## トラック ID から曲の特徴を取得\n",
    "\n",
    "/tracks/get-several-audio-features API を用いる\n",
    "\n",
    "spotipy では audio_features メソッド\n",
    "\n",
    "* https://developer.spotify.com/documentation/web-api/reference/tracks/get-several-audio-features/\n",
    "* https://spotipy.readthedocs.io/en/latest/#spotipy.client.Spotify.audio_features"
   ]
  },
  {
   "cell_type": "markdown",
   "metadata": {
    "colab_type": "text",
    "id": "TPiYqEKmIRkp"
   },
   "source": [
    "danceability\n",
    "\n",
    "danceability(踊りやすさ)は、テンポ、リズムの安定性、ビートの強さ、全体的な規則性などの音楽要素の組み合わせに基づいて、ダンスのための曲であるかを示します。0.0の値は、最も踊りずらいことを、1.0は、最も踊りやすいことを示します。\n",
    "\n",
    "energy\n",
    "\n",
    "エネルギーは、0.0から1.0の指標で、強度およびアクティブ度を表します。一般的には、エネルギッシュなトラックは、速く、音が大きく、騒々しい感じがします。例えば、デスメタルは高いエネルギーを持っていますが、バッハのプレリュードは低い値になります。この属性に寄与する知覚的属性は、ダイナミックレンジ、聴覚が感じる音量、音色、開始時点のレート、および一般的なエントロピーを含みます。\n",
    "\n",
    "loudness\n",
    "\n",
    "ラウドネスは、曲の全体的な音量をデシベル（dB）で表したものです。値は曲全体で平均化され、他の曲との相対的なラウドネスを比較するのに役立ちます。値の典型的な範囲は-60から0dbです。\n",
    "\n",
    "speechiness\n",
    "\n",
    "スピーチは、曲の中で話された単語の存在を検出します。録音（例えば、トークショー、オーディオブック、詩）のように、音声が占める割合が大きくなるほど、値は1.0に近くなります。0.66を超える値は、ほぼ完全に発声された単語で構成されている曲を表します。0.33と0.66の間の値は、ラップ音楽などのセクションまたはレイヤーのいずれかで、音楽とスピーチの両方を含む可能性がある曲を表します。0.33未満の値は、音楽やその他の非音声のような曲を表す可能性がかなり高いことを示します。\n",
    "\n",
    "acousticness\n",
    "\n",
    "曲がアコースティックかどうかを示す0.0から1.0の指標です。 1.0は曲がアコースティックであるということが高いということを意味します。\n",
    "\n",
    "instrumentalness\n",
    "\n",
    "曲にボーカルがないかどうかを予測します。この指標では、 “オー(Ooh)”とか “アー(aah)”の音は楽器の出した音として扱われます。ラップや話し言葉はボーカルとして扱われます。インストゥルメンタルネスの値が1.0に近いほど、曲にはボーカル・コンテンツが含まれていない可能性が高くなります。 0.5を超える値は、インストゥルメンタルの曲が通常示す値ですが、値が1.0に近づくほど信頼度が高くなります。\n",
    "\n",
    "liveness\n",
    "\n",
    "録音中に聴衆が存在したかを検出します。この値が高いほど、曲がライブで実行された可能性が高くなります。値が0.8を超えると、曲がライブである可能性が高くなります。\n",
    "\n",
    "valence\n",
    "\n",
    "曲が伝える音楽のポジティブ性を表す0.0から1.0の尺度。この指数の高い値の曲はより陽性（例えば、幸せ、陽気、陶酔）であり、低い指数の曲はより陰性となります（例えば、悲しい、落ち込んだ、怒る）。\n",
    "\n",
    "tempo\n",
    "\n",
    "曲の全体的な推定テンポ。1分あたりのビート(BPM)。音楽用語では、テンポは、ある曲のスピードまたはペースであり、平均ビート期間から導出されます。\n",
    "\n",
    "\n",
    "以下の記事より引用\n",
    "https://exploratory.io/note/2ac8ae888097/SpotifyJRockRockHard-Rock-7183595689717906"
   ]
  },
  {
   "cell_type": "code",
   "execution_count": 44,
   "metadata": {
    "colab": {},
    "colab_type": "code",
    "id": "2omnaCfrM6yI"
   },
   "outputs": [
    {
     "name": "stdout",
     "output_type": "stream",
     "text": [
      "[{'acousticness': 0.469,\n",
      "  'analysis_url': 'https://api.spotify.com/v1/audio-analysis/5vjLSffimiIP26QG5WcN2K',\n",
      "  'danceability': 0.618,\n",
      "  'duration_ms': 198853,\n",
      "  'energy': 0.443,\n",
      "  'id': '5vjLSffimiIP26QG5WcN2K',\n",
      "  'instrumentalness': 0,\n",
      "  'key': 2,\n",
      "  'liveness': 0.0829,\n",
      "  'loudness': -9.681,\n",
      "  'mode': 1,\n",
      "  'speechiness': 0.0526,\n",
      "  'tempo': 119.949,\n",
      "  'time_signature': 4,\n",
      "  'track_href': 'https://api.spotify.com/v1/tracks/5vjLSffimiIP26QG5WcN2K',\n",
      "  'type': 'audio_features',\n",
      "  'uri': 'spotify:track:5vjLSffimiIP26QG5WcN2K',\n",
      "  'valence': 0.167}]\n"
     ]
    }
   ],
   "source": [
    "# 曲の特徴を取得\n",
    "pprint(sp.audio_features(tracks=[search_genre['tracks']['items'][0]['id']]))"
   ]
  },
  {
   "cell_type": "markdown",
   "metadata": {
    "colab_type": "text",
    "id": "SzD-_vxFWibp"
   },
   "source": [
    "\n",
    "\n",
    "```\n",
    "[{'acousticness': 0.469,\n",
    "  'analysis_url': 'https://api.spotify.com/v1/audio-analysis/5vjLSffimiIP26QG5WcN2K',\n",
    "  'danceability': 0.618,\n",
    "  'duration_ms': 198853,\n",
    "  'energy': 0.443,\n",
    "  'id': '5vjLSffimiIP26QG5WcN2K',\n",
    "  'instrumentalness': 0,\n",
    "  'key': 2,\n",
    "  'liveness': 0.0829,\n",
    "  'loudness': -9.681,\n",
    "  'mode': 1,\n",
    "  'speechiness': 0.0526,\n",
    "  'tempo': 119.949,\n",
    "  'time_signature': 4,\n",
    "  'track_href': 'https://api.spotify.com/v1/tracks/5vjLSffimiIP26QG5WcN2K',\n",
    "  'type': 'audio_features',\n",
    "  'uri': 'spotify:track:5vjLSffimiIP26QG5WcN2K',\n",
    "  'valence': 0.167}]\n",
    "```\n",
    "\n"
   ]
  },
  {
   "cell_type": "markdown",
   "metadata": {
    "colab_type": "text",
    "id": "8Ty0tVtpsULH"
   },
   "source": [
    "## ジャンル毎に100曲を取得"
   ]
  },
  {
   "cell_type": "code",
   "execution_count": 26,
   "metadata": {
    "colab": {},
    "colab_type": "code",
    "id": "IkHVgMNuW4xI"
   },
   "outputs": [],
   "source": [
    "# キーを定数に保存\n",
    "ACOUSTICNESS = 'acousticness'\n",
    "DANCEABILITY = 'danceability'\n",
    "INSTRUMENTALNESS = 'instrumentalness'\n",
    "LIVENESS = 'liveness'\n",
    "LOUDNESS = 'loudness'\n",
    "SPEECHINESS = 'speechiness'\n",
    "TEMPO = 'tempo'\n",
    "VALENCE = 'valence'"
   ]
  },
  {
   "cell_type": "code",
   "execution_count": 27,
   "metadata": {
    "colab": {},
    "colab_type": "code",
    "id": "A4zK5tA9sYaw"
   },
   "outputs": [],
   "source": [
    "# データ格納用のdictionaryを用意\n",
    "tracks = {}\n",
    "tracks['id'] = []\n",
    "tracks['name'] = []\n",
    "tracks['genre'] = []\n",
    "tracks[ACOUSTICNESS] = []\n",
    "tracks[DANCEABILITY] = []\n",
    "tracks[INSTRUMENTALNESS] = []\n",
    "tracks[LIVENESS] = []\n",
    "tracks[LOUDNESS] = []\n",
    "tracks[SPEECHINESS] = []\n",
    "tracks[TEMPO] = []\n",
    "tracks[VALENCE] = []"
   ]
  },
  {
   "cell_type": "code",
   "execution_count": 32,
   "metadata": {
    "colab": {},
    "colab_type": "code",
    "id": "NouNhOoov0Tf"
   },
   "outputs": [
    {
     "name": "stdout",
     "output_type": "stream",
     "text": [
      "retrying ...1secs\n"
     ]
    }
   ],
   "source": [
    "# ジャンル毎に1000個のトラックを取得し、tracks に保存\n",
    "TRACK_COUNT_PER_GENRE = 100 # ジャンル毎の曲数\n",
    "TRACK_COUNT_PER_SEARCH = 50 # 1回の検索で取得する曲数\n",
    "SEARCH_COUNT = int(TRACK_COUNT_PER_GENRE / TRACK_COUNT_PER_SEARCH) # 検索を行う回数 - この場合は2回になる\n",
    "genres_df = pd.DataFrame(sp.recommendation_genre_seeds()) # ジャンルを取得して、データフレームに変換\n",
    "for genre in genres_df['genres']:\n",
    "  for search_count in range(SEARCH_COUNT):\n",
    "    query = 'genre:' + genre # ジャンルで検索するようにクエリを作成\n",
    "    offset = TRACK_COUNT_PER_SEARCH * search_count # offsetで検索結果をページのようにズラしていく\n",
    "    search_results = sp.search(q=query, type='track', offset=offset, limit=TRACK_COUNT_PER_SEARCH) # 検索を行う\n",
    "    # items が空の場合は、そのジャンルの取得を終了\n",
    "    if not search_results['tracks']['items']: \n",
    "      break\n",
    "    # 取得したトラックのID\n",
    "    track_ids = []\n",
    "    # 各トラックに対して id などを track_ids, tracks に保存\n",
    "    for track in search_results['tracks']['items']:\n",
    "      track_ids.append(track.get('id'))\n",
    "      tracks['id'].append(track.get('id'))\n",
    "      tracks['name'].append(track.get('name'))\n",
    "      tracks['genre'].append(genre)\n",
    "    # 曲の特徴を取得\n",
    "    audio_features = sp.audio_features(tracks=track_ids)\n",
    "    # 各トラックに対して、曲の特徴を tracks に保存\n",
    "    for audio_feature in audio_features:\n",
    "      tracks[ACOUSTICNESS].append(audio_feature.get(ACOUSTICNESS))\n",
    "      tracks[DANCEABILITY].append(audio_feature.get(DANCEABILITY))\n",
    "      tracks[INSTRUMENTALNESS].append(audio_feature.get(INSTRUMENTALNESS))\n",
    "      tracks[LIVENESS].append(audio_feature.get(LIVENESS))\n",
    "      tracks[LOUDNESS].append(audio_feature.get(LOUDNESS))\n",
    "      tracks[SPEECHINESS].append(audio_feature.get(SPEECHINESS))\n",
    "      tracks[TEMPO].append(audio_feature.get(TEMPO))\n",
    "      tracks[VALENCE].append(audio_feature.get(VALENCE))"
   ]
  },
  {
   "cell_type": "code",
   "execution_count": null,
   "metadata": {
    "colab": {},
    "colab_type": "code",
    "id": "XQz5od5aE0Ov"
   },
   "outputs": [],
   "source": [
    "for key in tracks:\n",
    "  print(f'{key}: {len(tracks[key])}')"
   ]
  },
  {
   "cell_type": "code",
   "execution_count": null,
   "metadata": {
    "colab": {},
    "colab_type": "code",
    "id": "r78PVwjUF3Es"
   },
   "outputs": [],
   "source": [
    "tracks_df = pd.DataFrame(tracks)"
   ]
  },
  {
   "cell_type": "code",
   "execution_count": null,
   "metadata": {
    "colab": {},
    "colab_type": "code",
    "id": "JjeB6WPxQB1T"
   },
   "outputs": [],
   "source": [
    "tracks_df"
   ]
  },
  {
   "cell_type": "markdown",
   "metadata": {
    "colab_type": "text",
    "id": "9jnQhFx4Mp1y"
   },
   "source": [
    "ジャンルの数と曲数が合わない理由\n",
    "\n",
    "どのトラックにも該当しないジャンルがある"
   ]
  },
  {
   "cell_type": "code",
   "execution_count": null,
   "metadata": {
    "colab": {},
    "colab_type": "code",
    "id": "21eZ3Z0BJ_DI"
   },
   "outputs": [],
   "source": [
    "tracks_df['genre'].unique()"
   ]
  },
  {
   "cell_type": "code",
   "execution_count": null,
   "metadata": {
    "colab": {},
    "colab_type": "code",
    "id": "7uxI5mZwKkz3"
   },
   "outputs": [],
   "source": [
    "genres_df['genres'].unique()"
   ]
  },
  {
   "cell_type": "markdown",
   "metadata": {},
   "source": [
    "## Spotify データでトレンドを推定する。(時系列分析)\n",
    "\n",
    "### 時系列分析とは?\n",
    "時間とともに変化する現象を分析する事\n",
    "ex) 株価推移の予測, ウィルスの感染者推移など\n",
    "\n",
    "今回はARIMAモデル（自己回帰和分移動平均モデル)を用いて、トレンドをストリーミング数を予測する。"
   ]
  },
  {
   "cell_type": "markdown",
   "metadata": {},
   "source": [
    "## 週間チャートをまとめたcsvを読み込む\n",
    "こちらのスクリプトによって、csvを取得することができる\n",
    "https://github.com/fbkarsdorp/spotify-chart"
   ]
  },
  {
   "cell_type": "code",
   "execution_count": 2,
   "metadata": {},
   "outputs": [],
   "source": [
    "spotify_streaming = pd.read_csv(\"./chart_weekly.csv\").iloc[:,1:]"
   ]
  },
  {
   "cell_type": "code",
   "execution_count": 4,
   "metadata": {},
   "outputs": [
    {
     "data": {
      "text/html": [
       "<div>\n",
       "<style scoped>\n",
       "    .dataframe tbody tr th:only-of-type {\n",
       "        vertical-align: middle;\n",
       "    }\n",
       "\n",
       "    .dataframe tbody tr th {\n",
       "        vertical-align: top;\n",
       "    }\n",
       "\n",
       "    .dataframe thead th {\n",
       "        text-align: right;\n",
       "    }\n",
       "</style>\n",
       "<table border=\"1\" class=\"dataframe\">\n",
       "  <thead>\n",
       "    <tr style=\"text-align: right;\">\n",
       "      <th></th>\n",
       "      <th>Position</th>\n",
       "      <th>Track Name</th>\n",
       "      <th>Artist</th>\n",
       "      <th>Streams</th>\n",
       "      <th>URL</th>\n",
       "      <th>date</th>\n",
       "    </tr>\n",
       "  </thead>\n",
       "  <tbody>\n",
       "    <tr>\n",
       "      <th>0</th>\n",
       "      <td>1</td>\n",
       "      <td>Look What You Made Me Do</td>\n",
       "      <td>Taylor Swift</td>\n",
       "      <td>152766</td>\n",
       "      <td>https://open.spotify.com/track/6uFsE1JgZ20EXyU...</td>\n",
       "      <td>2017-08-27</td>\n",
       "    </tr>\n",
       "    <tr>\n",
       "      <th>1</th>\n",
       "      <td>2</td>\n",
       "      <td>Shape of You</td>\n",
       "      <td>Ed Sheeran</td>\n",
       "      <td>146292</td>\n",
       "      <td>https://open.spotify.com/track/7qiZfU4dY1lWllz...</td>\n",
       "      <td>2017-08-27</td>\n",
       "    </tr>\n",
       "    <tr>\n",
       "      <th>2</th>\n",
       "      <td>3</td>\n",
       "      <td>打上花火</td>\n",
       "      <td>DAOKO×米津玄師</td>\n",
       "      <td>144454</td>\n",
       "      <td>https://open.spotify.com/track/7pcTLUekZJQnzDO...</td>\n",
       "      <td>2017-08-27</td>\n",
       "    </tr>\n",
       "    <tr>\n",
       "      <th>3</th>\n",
       "      <td>4</td>\n",
       "      <td>Friends (with BloodPop®)</td>\n",
       "      <td>Justin Bieber</td>\n",
       "      <td>110832</td>\n",
       "      <td>https://open.spotify.com/track/7nZmah2llfvLDiU...</td>\n",
       "      <td>2017-08-27</td>\n",
       "    </tr>\n",
       "    <tr>\n",
       "      <th>4</th>\n",
       "      <td>5</td>\n",
       "      <td>Despacito - Remix</td>\n",
       "      <td>Luis Fonsi</td>\n",
       "      <td>105296</td>\n",
       "      <td>https://open.spotify.com/track/5CtI0qwDJkDQGwX...</td>\n",
       "      <td>2017-08-27</td>\n",
       "    </tr>\n",
       "    <tr>\n",
       "      <th>...</th>\n",
       "      <td>...</td>\n",
       "      <td>...</td>\n",
       "      <td>...</td>\n",
       "      <td>...</td>\n",
       "      <td>...</td>\n",
       "      <td>...</td>\n",
       "    </tr>\n",
       "    <tr>\n",
       "      <th>26595</th>\n",
       "      <td>196</td>\n",
       "      <td>友よ 〜 この先もずっと・・・</td>\n",
       "      <td>Ketsumeishi</td>\n",
       "      <td>108246</td>\n",
       "      <td>https://open.spotify.com/track/3A0VFRUxhqpJeOx...</td>\n",
       "      <td>2020-03-08</td>\n",
       "    </tr>\n",
       "    <tr>\n",
       "      <th>26596</th>\n",
       "      <td>197</td>\n",
       "      <td>RPG</td>\n",
       "      <td>SEKAI NO OWARI</td>\n",
       "      <td>108089</td>\n",
       "      <td>https://open.spotify.com/track/7facNrW6VRW8s3I...</td>\n",
       "      <td>2020-03-08</td>\n",
       "    </tr>\n",
       "    <tr>\n",
       "      <th>26597</th>\n",
       "      <td>198</td>\n",
       "      <td>The Other Side (from Trolls World Tour)</td>\n",
       "      <td>SZA</td>\n",
       "      <td>107855</td>\n",
       "      <td>https://open.spotify.com/track/463PQggkmk5tTw8...</td>\n",
       "      <td>2020-03-08</td>\n",
       "    </tr>\n",
       "    <tr>\n",
       "      <th>26598</th>\n",
       "      <td>199</td>\n",
       "      <td>不可幸力</td>\n",
       "      <td>Vaundy</td>\n",
       "      <td>107660</td>\n",
       "      <td>https://open.spotify.com/track/3eWLKn5HOZDrTP7...</td>\n",
       "      <td>2020-03-08</td>\n",
       "    </tr>\n",
       "    <tr>\n",
       "      <th>26599</th>\n",
       "      <td>200</td>\n",
       "      <td>Don't Stop the Clocks</td>\n",
       "      <td>King Gnu</td>\n",
       "      <td>107452</td>\n",
       "      <td>https://open.spotify.com/track/1hRnUi0XA1ZovLa...</td>\n",
       "      <td>2020-03-08</td>\n",
       "    </tr>\n",
       "  </tbody>\n",
       "</table>\n",
       "<p>26600 rows × 6 columns</p>\n",
       "</div>"
      ],
      "text/plain": [
       "       Position                               Track Name          Artist  \\\n",
       "0             1                 Look What You Made Me Do    Taylor Swift   \n",
       "1             2                             Shape of You      Ed Sheeran   \n",
       "2             3                                     打上花火      DAOKO×米津玄師   \n",
       "3             4                 Friends (with BloodPop®)   Justin Bieber   \n",
       "4             5                        Despacito - Remix      Luis Fonsi   \n",
       "...         ...                                      ...             ...   \n",
       "26595       196                          友よ 〜 この先もずっと・・・     Ketsumeishi   \n",
       "26596       197                                      RPG  SEKAI NO OWARI   \n",
       "26597       198  The Other Side (from Trolls World Tour)             SZA   \n",
       "26598       199                                     不可幸力          Vaundy   \n",
       "26599       200                    Don't Stop the Clocks        King Gnu   \n",
       "\n",
       "       Streams                                                URL        date  \n",
       "0       152766  https://open.spotify.com/track/6uFsE1JgZ20EXyU...  2017-08-27  \n",
       "1       146292  https://open.spotify.com/track/7qiZfU4dY1lWllz...  2017-08-27  \n",
       "2       144454  https://open.spotify.com/track/7pcTLUekZJQnzDO...  2017-08-27  \n",
       "3       110832  https://open.spotify.com/track/7nZmah2llfvLDiU...  2017-08-27  \n",
       "4       105296  https://open.spotify.com/track/5CtI0qwDJkDQGwX...  2017-08-27  \n",
       "...        ...                                                ...         ...  \n",
       "26595   108246  https://open.spotify.com/track/3A0VFRUxhqpJeOx...  2020-03-08  \n",
       "26596   108089  https://open.spotify.com/track/7facNrW6VRW8s3I...  2020-03-08  \n",
       "26597   107855  https://open.spotify.com/track/463PQggkmk5tTw8...  2020-03-08  \n",
       "26598   107660  https://open.spotify.com/track/3eWLKn5HOZDrTP7...  2020-03-08  \n",
       "26599   107452  https://open.spotify.com/track/1hRnUi0XA1ZovLa...  2020-03-08  \n",
       "\n",
       "[26600 rows x 6 columns]"
      ]
     },
     "execution_count": 4,
     "metadata": {},
     "output_type": "execute_result"
    }
   ],
   "source": [
    "spotify_streaming\n",
    "# Position :順位, Track Name: 曲名, Artist: アーティスト名,Streams: 再生回数, URL:曲のURL,  Date：取得日にち"
   ]
  },
  {
   "cell_type": "code",
   "execution_count": 61,
   "metadata": {},
   "outputs": [],
   "source": [
    "UchiageHanabi_trend = spotify_streaming[spotify_streaming[\"Track Name\"] == \"打上花火\"].sort_values('date')\n",
    "UchiageHanabi_trend.index = spotify_streaming[spotify_streaming[\"Track Name\"] ==  \"打上花火\"].sort_values('date').date"
   ]
  },
  {
   "cell_type": "code",
   "execution_count": 62,
   "metadata": {},
   "outputs": [
    {
     "data": {
      "text/plain": [
       "<matplotlib.axes._subplots.AxesSubplot at 0x7fb2ea36c8d0>"
      ]
     },
     "execution_count": 62,
     "metadata": {},
     "output_type": "execute_result"
    },
    {
     "data": {
      "image/png": "[encoded data removed]",
      "text/plain": [
       "<Figure size 432x288 with 1 Axes>"
      ]
     },
     "metadata": {
      "needs_background": "light"
     },
     "output_type": "display_data"
    }
   ],
   "source": [
    "UchiageHanabi_trend.Streams.plot()"
   ]
  },
  {
   "cell_type": "code",
   "execution_count": 2,
   "metadata": {},
   "outputs": [
    {
     "data": {
      "text/html": [
       "<div>\n",
       "<style scoped>\n",
       "    .dataframe tbody tr th:only-of-type {\n",
       "        vertical-align: middle;\n",
       "    }\n",
       "\n",
       "    .dataframe tbody tr th {\n",
       "        vertical-align: top;\n",
       "    }\n",
       "\n",
       "    .dataframe thead th {\n",
       "        text-align: right;\n",
       "    }\n",
       "</style>\n",
       "<table border=\"1\" class=\"dataframe\">\n",
       "  <thead>\n",
       "    <tr style=\"text-align: right;\">\n",
       "      <th></th>\n",
       "      <th>Date</th>\n",
       "      <th>Track URL</th>\n",
       "      <th>Position</th>\n",
       "      <th>Track Name</th>\n",
       "      <th>Artist</th>\n",
       "      <th>Streams</th>\n",
       "      <th>Country</th>\n",
       "    </tr>\n",
       "  </thead>\n",
       "  <tbody>\n",
       "    <tr>\n",
       "      <th>0</th>\n",
       "      <td>2017-07-20</td>\n",
       "      <td>https://open.spotify.com/track/3RXkboS74UYzN14...</td>\n",
       "      <td>1</td>\n",
       "      <td>NaN</td>\n",
       "      <td>NaN</td>\n",
       "      <td>3457</td>\n",
       "      <td>Lithuania</td>\n",
       "    </tr>\n",
       "    <tr>\n",
       "      <th>1</th>\n",
       "      <td>2018-07-31</td>\n",
       "      <td>https://open.spotify.com/track/77wz2VtAwxAwYOG...</td>\n",
       "      <td>1</td>\n",
       "      <td>Miljonair (feat. SBMG, Lil' Kleine, Boef &amp; Ron...</td>\n",
       "      <td>$hirak</td>\n",
       "      <td>238729</td>\n",
       "      <td>Netherlands</td>\n",
       "    </tr>\n",
       "    <tr>\n",
       "      <th>2</th>\n",
       "      <td>2018-08-02</td>\n",
       "      <td>https://open.spotify.com/track/77wz2VtAwxAwYOG...</td>\n",
       "      <td>1</td>\n",
       "      <td>Miljonair (feat. SBMG, Lil' Kleine, Boef &amp; Ron...</td>\n",
       "      <td>$hirak</td>\n",
       "      <td>245639</td>\n",
       "      <td>Netherlands</td>\n",
       "    </tr>\n",
       "    <tr>\n",
       "      <th>3</th>\n",
       "      <td>2017-07-23</td>\n",
       "      <td>https://open.spotify.com/track/6mw02h3qbWmuq2b...</td>\n",
       "      <td>1</td>\n",
       "      <td>Millionär</td>\n",
       "      <td>187 Strassenbande</td>\n",
       "      <td>387632</td>\n",
       "      <td>Germany</td>\n",
       "    </tr>\n",
       "    <tr>\n",
       "      <th>4</th>\n",
       "      <td>2018-06-29</td>\n",
       "      <td>https://open.spotify.com/track/2iUXsYOEPhVqEBw...</td>\n",
       "      <td>1</td>\n",
       "      <td>Youngblood</td>\n",
       "      <td>5 Seconds of Summer</td>\n",
       "      <td>261795</td>\n",
       "      <td>Australia</td>\n",
       "    </tr>\n",
       "  </tbody>\n",
       "</table>\n",
       "</div>"
      ],
      "text/plain": [
       "        Date                                          Track URL  Position  \\\n",
       "0 2017-07-20  https://open.spotify.com/track/3RXkboS74UYzN14...         1   \n",
       "1 2018-07-31  https://open.spotify.com/track/77wz2VtAwxAwYOG...         1   \n",
       "2 2018-08-02  https://open.spotify.com/track/77wz2VtAwxAwYOG...         1   \n",
       "3 2017-07-23  https://open.spotify.com/track/6mw02h3qbWmuq2b...         1   \n",
       "4 2018-06-29  https://open.spotify.com/track/2iUXsYOEPhVqEBw...         1   \n",
       "\n",
       "                                          Track Name               Artist  \\\n",
       "0                                                NaN                  NaN   \n",
       "1  Miljonair (feat. SBMG, Lil' Kleine, Boef & Ron...               $hirak   \n",
       "2  Miljonair (feat. SBMG, Lil' Kleine, Boef & Ron...               $hirak   \n",
       "3                                          Millionär    187 Strassenbande   \n",
       "4                                         Youngblood  5 Seconds of Summer   \n",
       "\n",
       "   Streams      Country  \n",
       "0     3457    Lithuania  \n",
       "1   238729  Netherlands  \n",
       "2   245639  Netherlands  \n",
       "3   387632      Germany  \n",
       "4   261795    Australia  "
      ]
     },
     "execution_count": 2,
     "metadata": {},
     "output_type": "execute_result"
    }
   ],
   "source": [
    "spotify_streaming.head()\n"
   ]
  },
  {
   "cell_type": "markdown",
   "metadata": {
    "toc-hr-collapsed": false
   },
   "source": [
    "## shape of you のトレンドをみてみる\n",
    "できれば、季節性の考慮したトレンド推定モデルSARIMAを使いたいので、打ち上げ花火とかもみてみるか\n",
    "\n",
    "### 自己回帰（Auto Regression）モデル\n",
    "現在のデータは、過去のデータからどれだけ変化したかで表すことができるモデル。\n",
    "\n",
    "現在のデータ = 過去データ + ランダムの変化量\n",
    "### 移動平均(Moving Average)モデル\n",
    "\n",
    "現在のデータを、平均値＋ある時点までのホワイトノイズ（満遍なく出現されるランダムな数字）の合計+それらを調整する定数で表現することができるモデル(移動平均の計算と異なることに注意！）\n",
    "\n",
    "## それを合わせたのをARMAモデルと呼ぶ\n",
    "\n",
    "→でもそれだと非定常性の時系列に対応できない。。。。\n",
    "### 定常、非定常とは\n",
    "続く...\n",
    "## 非定常過程（ここでは和分過程と呼ぶ)に対しても推定できるようにするのがARIMAモデル\n",
    "さらに、季節などといった周期性のあるものを捉えられるようにするために必要なのがSARIMAモデル"
   ]
  },
  {
   "cell_type": "code",
   "execution_count": 4,
   "metadata": {},
   "outputs": [],
   "source": [
    "track_url_SoY =\"https://open.spotify.com/track/7qiZfU4dY1lWllzX7mPBI3\"\n",
    "track_url_Utiage =\"https://open.spotify.com/track/4IouQaO9GkaHC7AtMErdSa\""
   ]
  },
  {
   "cell_type": "code",
   "execution_count": 5,
   "metadata": {},
   "outputs": [],
   "source": [
    "SoY_trend = spotify_streaming[(spotify_streaming[\"Track URL\"] == track_url_SoY) & (spotify_streaming.Country == \"Japan\")].sort_values(\"Date\")\n",
    "Utiage_trend = spotify_streaming[(spotify_streaming[\"Track URL\"] == track_url_Utiage) & (spotify_streaming.Country == \"Japan\")].sort_values(\"Date\")\n",
    "wataridori_trend = spotify_streaming[(spotify_streaming[\"Track URL\"] == \"https://open.spotify.com/track/0ve9Tpz8Yw0I4eXhWsy21o\") & (spotify_streaming.Country == \"Japan\")].sort_values(\"Date\")\n"
   ]
  },
  {
   "cell_type": "code",
   "execution_count": null,
   "metadata": {},
   "outputs": [],
   "source": [
    "SoY_trend.head()"
   ]
  },
  {
   "cell_type": "code",
   "execution_count": null,
   "metadata": {},
   "outputs": [],
   "source": []
  },
  {
   "cell_type": "code",
   "execution_count": 6,
   "metadata": {},
   "outputs": [
    {
     "data": {
      "text/plain": [
       "<matplotlib.axes._subplots.AxesSubplot at 0x7fb303a5af10>"
      ]
     },
     "execution_count": 6,
     "metadata": {},
     "output_type": "execute_result"
    },
    {
     "data": {
      "image/png": "[encoded data removed]",
      "text/plain": [
       "<Figure size 720x720 with 1 Axes>"
      ]
     },
     "metadata": {
      "needs_background": "light"
     },
     "output_type": "display_data"
    }
   ],
   "source": [
    "# 今までのトレンド\n",
    "\n",
    "import seaborn as sns\n",
    "import matplotlib.pyplot as plt\n",
    "%matplotlib inline\n",
    "plt.subplots( figsize=(10, 10))\n",
    "sns.lineplot(x=\"date\",y=\"Streams\",data=wataridori_trend )"
   ]
  },
  {
   "cell_type": "code",
   "execution_count": 63,
   "metadata": {},
   "outputs": [],
   "source": [
    "#2019年を予測検証データに用いるため分ける\n",
    "# 訓練用のデータ\n",
    "train= UchiageHanabi_trend[ \n",
    "    (UchiageHanabi_trend.date <= \"2019-06-30\")].set_index(\"date\")[[\"Streams\"]]\n",
    "# test（検証用のデータ)\n",
    "test = UchiageHanabi_trend[UchiageHanabi_trend.date > \"2019-06-30\"].set_index(\"date\")[[\"Streams\"]]"
   ]
  },
  {
   "cell_type": "markdown",
   "metadata": {},
   "source": [
    "## 階差と、コレログラムをプロット"
   ]
  },
  {
   "cell_type": "code",
   "execution_count": 8,
   "metadata": {},
   "outputs": [
    {
     "name": "stderr",
     "output_type": "stream",
     "text": [
      "/opt/anaconda3/lib/python3.7/site-packages/statsmodels/regression/linear_model.py:1406: RuntimeWarning: invalid value encountered in sqrt\n",
      "  return rho, np.sqrt(sigmasq)\n"
     ]
    },
    {
     "data": {
      "image/png": "[encoded data removed]",
      "text/plain": [
       "<Figure size 1440x576 with 6 Axes>"
      ]
     },
     "metadata": {
      "needs_background": "light"
     },
     "output_type": "display_data"
    }
   ],
   "source": [
    "import statsmodels.api as sm\n",
    "import matplotlib.pyplot as plt\n",
    "import datetime\n",
    "%matplotlib inline\n",
    "plt.rcParams[\"font.size\"] = 10\n",
    "fig, ax = plt.subplots(2, 3, figsize=(20, 8))\n",
    "axes = ax.flatten()\n",
    "diff_color = \"blue\"\n",
    "# 階差を取得\n",
    "raw_data = train.Streams\n",
    "train_diff1 = raw_data.diff()\n",
    "axes[0].plot(raw_data)\n",
    "axes[0].set_title(\"raw_data\")\n",
    "fig = sm.graphics.tsa.plot_acf(raw_data, lags=49, ax=axes[1])\n",
    "fig = sm.graphics.tsa.plot_pacf(raw_data, lags=49, ax=axes[2])\n",
    "\n",
    "axes[3].plot(train_diff1.dropna(), color=diff_color, alpha=1)\n",
    "axes[3].set_title(\"diff1\")\n",
    "fig = sm.graphics.tsa.plot_acf(train_diff1, lags=49, ax=axes[4], color=diff_color)\n",
    "fig = sm.graphics.tsa.plot_pacf(train_diff1, lags=49, ax=axes[5], color=diff_color)\n",
    "# 左から、時系列グラフ、自己相関係数。偏自己相関係数（コレログラム）をプロットしたもの\n",
    "# 下図は、階差をした上でのグラフとなっている。"
   ]
  },
  {
   "cell_type": "code",
   "execution_count": 20,
   "metadata": {},
   "outputs": [
    {
     "data": {
      "text/plain": [
       "0.8668310007154705"
      ]
     },
     "execution_count": 20,
     "metadata": {},
     "output_type": "execute_result"
    }
   ],
   "source": [
    "# ADF検定(上の時系列が単位根過程であるかを検定する)\n",
    "sm.tsa.stattools.adfuller(raw_data, \n",
    "                                   maxlag=None, \n",
    "                                   regression='c', \n",
    "                                   autolag='AIC', \n",
    "                                   store=False, \n",
    "                                   regresults=False)[1]\n"
   ]
  },
  {
   "cell_type": "markdown",
   "metadata": {},
   "source": [
    "この値が\n",
    "**0.05の場合、単位根過程がなく、SARIMAが使えないので注意** "
   ]
  },
  {
   "cell_type": "markdown",
   "metadata": {},
   "source": [
    "## AIRMAで予測する"
   ]
  },
  {
   "cell_type": "code",
   "execution_count": 48,
   "metadata": {},
   "outputs": [
    {
     "data": {
      "text/plain": [
       "<matplotlib.legend.Legend at 0x7fb2fa193250>"
      ]
     },
     "execution_count": 48,
     "metadata": {},
     "output_type": "execute_result"
    },
    {
     "data": {
      "text/plain": [
       "<Figure size 432x288 with 0 Axes>"
      ]
     },
     "metadata": {},
     "output_type": "display_data"
    },
    {
     "data": {
      "image/png": "[encoded data removed]",
      "text/plain": [
       "<Figure size 3600x720 with 1 Axes>"
      ]
     },
     "metadata": {
      "needs_background": "light"
     },
     "output_type": "display_data"
    }
   ],
   "source": [
    "from statsmodels.tsa import arima_model\n",
    "import matplotlib.pyplot as plt\n",
    "\n",
    "results=arima_model.ARIMA(train.Streams.astype(\"float64\").reset_index(drop=True),order = [5,0,5]).fit()\n",
    "plt.clf()\n",
    "# plt.plot(pd.concat([train.Streams, test.Streams]).reset_index(drop=True),c=\"blue\", alpha=0.5)\n",
    "# plt.plot(results.predict(start=1,end=133),c=\"red\")\n",
    "# plt.legend([\"data\",\"predict\"])\n",
    "predicted=results.predict(start=97,end=132).reset_index(drop=True)\n",
    "predicted.index =test.Streams.index\n",
    "plt.subplots( figsize=(50, 10))\n",
    "plt.plot(test.Streams,c=\"blue\", alpha=0.5)\n",
    "plt.plot(predicted,c=\"red\")\n",
    "plt.legend([\"data\",\"predict\"])"
   ]
  },
  {
   "cell_type": "markdown",
   "metadata": {
    "jupyter": {
     "outputs_hidden": true
    }
   },
   "source": [
    "あまりうまく適合してない...。"
   ]
  },
  {
   "cell_type": "markdown",
   "metadata": {},
   "source": [
    "## sarimaxで予測する。\n",
    "- ARIMA 過程に季節調整(seasonal arrange 時系列データに季節といった周期性があるもの)を加える"
   ]
  },
  {
   "cell_type": "code",
   "execution_count": 55,
   "metadata": {},
   "outputs": [
    {
     "name": "stderr",
     "output_type": "stream",
     "text": [
      "/opt/anaconda3/lib/python3.7/site-packages/statsmodels/tsa/base/tsa_model.py:162: ValueWarning: No frequency information was provided, so inferred frequency W-SUN will be used.\n",
      "  % freq, ValueWarning)\n",
      "/opt/anaconda3/lib/python3.7/site-packages/statsmodels/tsa/base/tsa_model.py:162: ValueWarning: No frequency information was provided, so inferred frequency W-SUN will be used.\n",
      "  % freq, ValueWarning)\n",
      "/opt/anaconda3/lib/python3.7/site-packages/statsmodels/tsa/statespace/sarimax.py:868: UserWarning: Too few observations to estimate starting parameters for seasonal ARMA. All parameters except for variances will be set to zeros.\n",
      "  ' zeros.' % warning_description)\n"
     ]
    },
    {
     "name": "stdout",
     "output_type": "stream",
     "text": [
      "                                        SARIMAX Results                                        \n",
      "===============================================================================================\n",
      "Dep. Variable:                                 Streams   No. Observations:                   97\n",
      "Model:             SARIMAX(2, 0, 7)x(1, 1, [1, 2], 52)   Log Likelihood                   0.000\n",
      "Date:                                 Mon, 23 Mar 2020   AIC                             30.000\n",
      "Time:                                         04:20:02   BIC                                nan\n",
      "Sample:                                     08-27-2017   HQIC                               nan\n",
      "                                          - 06-30-2019                                         \n",
      "Covariance Type:                                   opg                                         \n",
      "==============================================================================\n",
      "                 coef    std err          z      P>|z|      [0.025      0.975]\n",
      "------------------------------------------------------------------------------\n",
      "intercept   3139.0750         -0       -inf      0.000    3139.075    3139.075\n",
      "drift         37.2068         -0       -inf      0.000      37.207      37.207\n",
      "ar.L1          0.9247         -0       -inf      0.000       0.925       0.925\n",
      "ar.L2          0.0159         -0       -inf      0.000       0.016       0.016\n",
      "ma.L1         -0.0123         -0        inf      0.000      -0.012      -0.012\n",
      "ma.L2         -0.1363         -0        inf      0.000      -0.136      -0.136\n",
      "ma.L3         -0.0711         -0        inf      0.000      -0.071      -0.071\n",
      "ma.L4         -0.0176         -0        inf      0.000      -0.018      -0.018\n",
      "ma.L5          0.0407         -0       -inf      0.000       0.041       0.041\n",
      "ma.L6         -0.1606         -0        inf      0.000      -0.161      -0.161\n",
      "ma.L7         -0.2164         -0        inf      0.000      -0.216      -0.216\n",
      "ar.S.L52            0         -0        nan        nan           0           0\n",
      "ma.S.L52            0         -0        nan        nan           0           0\n",
      "ma.S.L104           0         -0        nan        nan           0           0\n",
      "sigma2      2.904e+07         -0       -inf      0.000     2.9e+07     2.9e+07\n",
      "===================================================================================\n",
      "Ljung-Box (Q):                         nan   Jarque-Bera (JB):                  nan\n",
      "Prob(Q):                               nan   Prob(JB):                          nan\n",
      "Heteroskedasticity (H):                nan   Skew:                              nan\n",
      "Prob(H) (two-sided):                   nan   Kurtosis:                          nan\n",
      "===================================================================================\n",
      "\n",
      "Warnings:\n",
      "[1] Covariance matrix calculated using the outer product of gradients (complex-step).\n",
      "[2] Covariance matrix is singular or near-singular, with condition number    inf. Standard errors may be unstable.\n",
      "CPU times: user 25.2 s, sys: 672 ms, total: 25.9 s\n",
      "Wall time: 3.82 s\n"
     ]
    },
    {
     "name": "stderr",
     "output_type": "stream",
     "text": [
      "/opt/anaconda3/lib/python3.7/site-packages/statsmodels/tsa/statespace/mlemodel.py:3053: UserWarning: Later subset of data for variable 0  has too few non-missing observations to calculate test statistic.\n",
      "  ' calculate test statistic.' % i)\n",
      "/opt/anaconda3/lib/python3.7/site-packages/statsmodels/tools/eval_measures.py:370: RuntimeWarning: invalid value encountered in log\n",
      "  return -2. * llf + np.log(nobs) * df_modelwc\n",
      "/opt/anaconda3/lib/python3.7/site-packages/statsmodels/tools/eval_measures.py:394: RuntimeWarning: invalid value encountered in log\n",
      "  return -2. * llf + 2 * np.log(np.log(nobs)) * df_modelwc\n",
      "/opt/anaconda3/lib/python3.7/site-packages/statsmodels/base/model.py:1362: RuntimeWarning: divide by zero encountered in true_divide\n",
      "  return self.params / self.bse\n",
      "/opt/anaconda3/lib/python3.7/site-packages/statsmodels/base/model.py:1362: RuntimeWarning: invalid value encountered in true_divide\n",
      "  return self.params / self.bse\n",
      "/opt/anaconda3/lib/python3.7/site-packages/statsmodels/tsa/statespace/mlemodel.py:2885: RuntimeWarning: divide by zero encountered in true_divide\n",
      "  return self.params / self.bse\n",
      "/opt/anaconda3/lib/python3.7/site-packages/statsmodels/tsa/statespace/mlemodel.py:2885: RuntimeWarning: invalid value encountered in true_divide\n",
      "  return self.params / self.bse\n"
     ]
    }
   ],
   "source": [
    "%%time\n",
    "model= sm.tsa.statespace.SARIMAX(train.Streams, order=(2,0,7),\n",
    "                                 seasonal_order= (1, 1, 2, 52),#(1,0,0)\n",
    "                                 trend=\"ct\",\n",
    "                                 enforce_stationarity = False,\n",
    "                                 enforce_invertibility=False)\n",
    "results = model.fit()\n",
    "print(results.summary())"
   ]
  },
  {
   "cell_type": "markdown",
   "metadata": {},
   "source": [
    "## テストデータの予測"
   ]
  },
  {
   "cell_type": "code",
   "execution_count": 57,
   "metadata": {},
   "outputs": [
    {
     "data": {
      "text/plain": [
       "<matplotlib.legend.Legend at 0x7fb2ea510b10>"
      ]
     },
     "execution_count": 57,
     "metadata": {},
     "output_type": "execute_result"
    },
    {
     "data": {
      "image/png": "[encoded data removed]",
      "text/plain": [
       "<Figure size 3600x720 with 1 Axes>"
      ]
     },
     "metadata": {
      "needs_background": "light"
     },
     "output_type": "display_data"
    }
   ],
   "source": [
    "predicted=results.predict(start=97,end=132).reset_index(drop=True)\n",
    "predicted.index =test.Streams.index\n",
    "plt.subplots( figsize=(50, 10))\n",
    "plt.plot(test.Streams,c=\"blue\", alpha=0.5)\n",
    "plt.plot(predicted,c=\"red\")\n",
    "plt.legend([\"data\",\"predict\"])"
   ]
  },
  {
   "cell_type": "markdown",
   "metadata": {},
   "source": [
    "## 全期間の予測"
   ]
  },
  {
   "cell_type": "code",
   "execution_count": 42,
   "metadata": {},
   "outputs": [
    {
     "data": {
      "text/plain": [
       "<matplotlib.legend.Legend at 0x7fb2ea93c950>"
      ]
     },
     "execution_count": 42,
     "metadata": {},
     "output_type": "execute_result"
    },
    {
     "data": {
      "image/png": "[encoded data removed]",
      "text/plain": [
       "<Figure size 432x288 with 1 Axes>"
      ]
     },
     "metadata": {
      "needs_background": "light"
     },
     "output_type": "display_data"
    }
   ],
   "source": [
    "total_term=pd.concat([train.Streams, test.Streams])\n",
    "plt.plot(total_term.reset_index(drop=True),c=\"blue\", alpha=0.5)\n",
    "plt.plot(results.predict(start=1,end=len(total_term)).reset_index(drop=True),c=\"red\")\n",
    "plt.legend([\"data\",\"predict\"])"
   ]
  },
  {
   "cell_type": "markdown",
   "metadata": {},
   "source": [
    "## 任意課題"
   ]
  },
  {
   "cell_type": "markdown",
   "metadata": {},
   "source": [
    "## sarimaxのパラメータを最適化する\n",
    "- パラメータは７つある。（ ARIMAX用のパラメータ 3つ + 季節調整用のARIMAX パラメータ 3つ　+ 季節周期 1つ）\n",
    "- そのうち、どのパラメータの組み合わせが最適なのかをAICと言う指標を使う(参考：https://bellcurve.jp/statistics/blog/15754.html　指標が小さいほど、有用である可能性が高い)\n"
   ]
  },
  {
   "cell_type": "code",
   "execution_count": 41,
   "metadata": {},
   "outputs": [
    {
     "name": "stdout",
     "output_type": "stream",
     "text": [
      "[[0, 0, 0, 0, 0, 0, 52], [0, 0, 0, 0, 0, 2, 52], [0, 0, 0, 0, 1, 0, 52], [0, 0, 0, 0, 1, 2, 52], [0, 0, 0, 1, 0, 0, 52], [0, 0, 0, 1, 0, 2, 52], [0, 0, 0, 1, 1, 0, 52], [0, 0, 0, 1, 1, 2, 52], [0, 0, 5, 0, 0, 0, 52], [0, 0, 5, 0, 0, 2, 52], [0, 0, 5, 0, 1, 0, 52], [0, 0, 5, 0, 1, 2, 52], [0, 0, 5, 1, 0, 0, 52], [0, 0, 5, 1, 0, 2, 52], [0, 0, 5, 1, 1, 0, 52], [0, 0, 5, 1, 1, 2, 52], [0, 1, 0, 0, 0, 0, 52], [0, 1, 0, 0, 0, 2, 52], [0, 1, 0, 0, 1, 0, 52], [0, 1, 0, 0, 1, 2, 52], [0, 1, 0, 1, 0, 0, 52], [0, 1, 0, 1, 0, 2, 52], [0, 1, 0, 1, 1, 0, 52], [0, 1, 0, 1, 1, 2, 52], [0, 1, 5, 0, 0, 0, 52], [0, 1, 5, 0, 0, 2, 52], [0, 1, 5, 0, 1, 0, 52], [0, 1, 5, 0, 1, 2, 52], [0, 1, 5, 1, 0, 0, 52], [0, 1, 5, 1, 0, 2, 52], [0, 1, 5, 1, 1, 0, 52], [0, 1, 5, 1, 1, 2, 52], [3, 0, 0, 0, 0, 0, 52], [3, 0, 0, 0, 0, 2, 52], [3, 0, 0, 0, 1, 0, 52], [3, 0, 0, 0, 1, 2, 52], [3, 0, 0, 1, 0, 0, 52], [3, 0, 0, 1, 0, 2, 52], [3, 0, 0, 1, 1, 0, 52], [3, 0, 0, 1, 1, 2, 52], [3, 0, 5, 0, 0, 0, 52], [3, 0, 5, 0, 0, 2, 52], [3, 0, 5, 0, 1, 0, 52], [3, 0, 5, 0, 1, 2, 52], [3, 0, 5, 1, 0, 0, 52], [3, 0, 5, 1, 0, 2, 52], [3, 0, 5, 1, 1, 0, 52], [3, 0, 5, 1, 1, 2, 52], [3, 1, 0, 0, 0, 0, 52], [3, 1, 0, 0, 0, 2, 52], [3, 1, 0, 0, 1, 0, 52], [3, 1, 0, 0, 1, 2, 52], [3, 1, 0, 1, 0, 0, 52], [3, 1, 0, 1, 0, 2, 52], [3, 1, 0, 1, 1, 0, 52], [3, 1, 0, 1, 1, 2, 52], [3, 1, 5, 0, 0, 0, 52], [3, 1, 5, 0, 0, 2, 52], [3, 1, 5, 0, 1, 0, 52], [3, 1, 5, 0, 1, 2, 52], [3, 1, 5, 1, 0, 0, 52], [3, 1, 5, 1, 0, 2, 52], [3, 1, 5, 1, 1, 0, 52], [3, 1, 5, 1, 1, 2, 52]] 配列長は64\n"
     ]
    }
   ],
   "source": [
    "import itertools\n",
    "p = [0,3]\n",
    "d = [0,1]\n",
    "q = [0,5]\n",
    "sp = [0,1]\n",
    "sd = [0,1]\n",
    "sq = [0,2]\n",
    "pdq = list(itertools.product(p, d, q))\n",
    "# P, D, Q, 季節調整用 SP, SD, SQ　の組み合わせを列挙するリストを作成すると同時に、最後の　s = 52　を決め打ちでつけている。\n",
    "seasonal_pdq = [[x[0], x[1], x[2], x[3],x[4],x[5], 52] for x in list(itertools.product(p,d,q,#))]\n",
    "                                                                     sp, sd, sq))]\n",
    "print(seasonal_pdq,f\"配列長は{len(seasonal_pdq)}\")"
   ]
  },
  {
   "cell_type": "code",
   "execution_count": 32,
   "metadata": {},
   "outputs": [],
   "source": [
    "def sarimax_fit(train_data,param):\n",
    "    try:\n",
    "        result = sm.tsa.statespace.SARIMAX(train_data,\n",
    "                                        order=(param[0], param[1], param[2]),\n",
    "                                   seasonal_order=(param[3], param[4], param[5],param[6]),\n",
    "                                        enforce_invertibility = False, enforce_stationarity = False,\n",
    "                                          trend=\"ct\"\n",
    "                                          ).fit()\n",
    "        return result\n",
    "    except Exception as e:\n",
    "        print(e)\n",
    "        return 0"
   ]
  },
  {
   "cell_type": "code",
   "execution_count": 33,
   "metadata": {
    "collapsed": true,
    "jupyter": {
     "outputs_hidden": true
    }
   },
   "outputs": [
    {
     "name": "stderr",
     "output_type": "stream",
     "text": [
      "[Parallel(n_jobs=-1)]: Using backend LokyBackend with 16 concurrent workers.\n",
      "[Parallel(n_jobs=-1)]: Done   9 tasks      | elapsed:   10.6s\n",
      "[Parallel(n_jobs=-1)]: Done  18 tasks      | elapsed:   22.5s\n",
      "/opt/anaconda3/lib/python3.7/site-packages/joblib/externals/loky/process_executor.py:706: UserWarning: A worker stopped while some jobs were given to the executor. This can be caused by a too short worker timeout or by a memory leak.\n",
      "  \"timeout or by a memory leak.\", UserWarning\n",
      "[Parallel(n_jobs=-1)]: Done  29 tasks      | elapsed:   39.3s\n",
      "[Parallel(n_jobs=-1)]: Done  40 tasks      | elapsed:   55.2s\n",
      "[Parallel(n_jobs=-1)]: Done  53 tasks      | elapsed:  1.2min\n",
      "[Parallel(n_jobs=-1)]: Done  66 tasks      | elapsed:  1.4min\n",
      "[Parallel(n_jobs=-1)]: Done  81 tasks      | elapsed:  1.8min\n",
      "[Parallel(n_jobs=-1)]: Done  96 tasks      | elapsed:  2.0min\n",
      "[Parallel(n_jobs=-1)]: Done 113 tasks      | elapsed:  2.4min\n",
      "[Parallel(n_jobs=-1)]: Done 130 tasks      | elapsed:  2.7min\n",
      "[Parallel(n_jobs=-1)]: Done 149 tasks      | elapsed:  3.1min\n",
      "[Parallel(n_jobs=-1)]: Done 168 tasks      | elapsed:  3.6min\n",
      "[Parallel(n_jobs=-1)]: Done 207 out of 216 | elapsed:  4.4min remaining:   11.5s\n"
     ]
    },
    {
     "name": "stdout",
     "output_type": "stream",
     "text": [
      "CPU times: user 1min 5s, sys: 3min 3s, total: 4min 8s\n",
      "Wall time: 4min 40s\n"
     ]
    },
    {
     "name": "stderr",
     "output_type": "stream",
     "text": [
      "[Parallel(n_jobs=-1)]: Done 216 out of 216 | elapsed:  4.7min finished\n"
     ]
    },
    {
     "data": {
      "text/plain": [
       "[<statsmodels.tsa.statespace.sarimax.SARIMAXResultsWrapper at 0x7f2cf427da90>,\n",
       " <statsmodels.tsa.statespace.sarimax.SARIMAXResultsWrapper at 0x7f2cfc97d990>,\n",
       " <statsmodels.tsa.statespace.sarimax.SARIMAXResultsWrapper at 0x7f2cf4243ed0>,\n",
       " <statsmodels.tsa.statespace.sarimax.SARIMAXResultsWrapper at 0x7f2cf4291d10>,\n",
       " <statsmodels.tsa.statespace.sarimax.SARIMAXResultsWrapper at 0x7f2cf42980d0>,\n",
       " <statsmodels.tsa.statespace.sarimax.SARIMAXResultsWrapper at 0x7f2cdea6b850>,\n",
       " <statsmodels.tsa.statespace.sarimax.SARIMAXResultsWrapper at 0x7f2cfce00590>,\n",
       " <statsmodels.tsa.statespace.sarimax.SARIMAXResultsWrapper at 0x7f2cf429cc90>,\n",
       " <statsmodels.tsa.statespace.sarimax.SARIMAXResultsWrapper at 0x7f2cf41da590>,\n",
       " <statsmodels.tsa.statespace.sarimax.SARIMAXResultsWrapper at 0x7f2cdeaa4f10>,\n",
       " <statsmodels.tsa.statespace.sarimax.SARIMAXResultsWrapper at 0x7f2cfc97d490>,\n",
       " <statsmodels.tsa.statespace.sarimax.SARIMAXResultsWrapper at 0x7f2cf4315a10>,\n",
       " <statsmodels.tsa.statespace.sarimax.SARIMAXResultsWrapper at 0x7f2cf4243350>,\n",
       " <statsmodels.tsa.statespace.sarimax.SARIMAXResultsWrapper at 0x7f2cfc97de50>,\n",
       " <statsmodels.tsa.statespace.sarimax.SARIMAXResultsWrapper at 0x7f2cf4291bd0>,\n",
       " <statsmodels.tsa.statespace.sarimax.SARIMAXResultsWrapper at 0x7f2cf42910d0>,\n",
       " <statsmodels.tsa.statespace.sarimax.SARIMAXResultsWrapper at 0x7f2cf4298110>,\n",
       " <statsmodels.tsa.statespace.sarimax.SARIMAXResultsWrapper at 0x7f2cde8f0a10>,\n",
       " <statsmodels.tsa.statespace.sarimax.SARIMAXResultsWrapper at 0x7f2cf4176dd0>,\n",
       " <statsmodels.tsa.statespace.sarimax.SARIMAXResultsWrapper at 0x7f2cfc983090>,\n",
       " <statsmodels.tsa.statespace.sarimax.SARIMAXResultsWrapper at 0x7f2cf4291f50>,\n",
       " <statsmodels.tsa.statespace.sarimax.SARIMAXResultsWrapper at 0x7f2cf4298050>,\n",
       " <statsmodels.tsa.statespace.sarimax.SARIMAXResultsWrapper at 0x7f2cddaf3f10>,\n",
       " <statsmodels.tsa.statespace.sarimax.SARIMAXResultsWrapper at 0x7f2cf4220e10>,\n",
       " <statsmodels.tsa.statespace.sarimax.SARIMAXResultsWrapper at 0x7f2cf418f490>,\n",
       " <statsmodels.tsa.statespace.sarimax.SARIMAXResultsWrapper at 0x7f2cf40fc350>,\n",
       " <statsmodels.tsa.statespace.sarimax.SARIMAXResultsWrapper at 0x7f2cfce005d0>,\n",
       " <statsmodels.tsa.statespace.sarimax.SARIMAXResultsWrapper at 0x7f2cde8961d0>,\n",
       " <statsmodels.tsa.statespace.sarimax.SARIMAXResultsWrapper at 0x7f2cde973e10>,\n",
       " <statsmodels.tsa.statespace.sarimax.SARIMAXResultsWrapper at 0x7f2cfc97d5d0>,\n",
       " <statsmodels.tsa.statespace.sarimax.SARIMAXResultsWrapper at 0x7f2cf4298550>,\n",
       " <statsmodels.tsa.statespace.sarimax.SARIMAXResultsWrapper at 0x7f2cf4298690>,\n",
       " <statsmodels.tsa.statespace.sarimax.SARIMAXResultsWrapper at 0x7f2cf429c490>,\n",
       " <statsmodels.tsa.statespace.sarimax.SARIMAXResultsWrapper at 0x7f2cf427db50>,\n",
       " <statsmodels.tsa.statespace.sarimax.SARIMAXResultsWrapper at 0x7f2cf42af8d0>,\n",
       " <statsmodels.tsa.statespace.sarimax.SARIMAXResultsWrapper at 0x7f2cdd927110>,\n",
       " <statsmodels.tsa.statespace.sarimax.SARIMAXResultsWrapper at 0x7f2cdda74dd0>,\n",
       " <statsmodels.tsa.statespace.sarimax.SARIMAXResultsWrapper at 0x7f2cf4256650>,\n",
       " <statsmodels.tsa.statespace.sarimax.SARIMAXResultsWrapper at 0x7f2cdd9d9e90>,\n",
       " <statsmodels.tsa.statespace.sarimax.SARIMAXResultsWrapper at 0x7f2cf42afa10>,\n",
       " <statsmodels.tsa.statespace.sarimax.SARIMAXResultsWrapper at 0x7f2cdd89f250>,\n",
       " <statsmodels.tsa.statespace.sarimax.SARIMAXResultsWrapper at 0x7f2cdeaa4e90>,\n",
       " <statsmodels.tsa.statespace.sarimax.SARIMAXResultsWrapper at 0x7f2cde8f4a90>,\n",
       " <statsmodels.tsa.statespace.sarimax.SARIMAXResultsWrapper at 0x7f2cf42af7d0>,\n",
       " <statsmodels.tsa.statespace.sarimax.SARIMAXResultsWrapper at 0x7f2cdc2fafd0>,\n",
       " <statsmodels.tsa.statespace.sarimax.SARIMAXResultsWrapper at 0x7f2cdeaa4e10>,\n",
       " <statsmodels.tsa.statespace.sarimax.SARIMAXResultsWrapper at 0x7f2cdc20bcd0>,\n",
       " <statsmodels.tsa.statespace.sarimax.SARIMAXResultsWrapper at 0x7f2cdeac3a90>,\n",
       " <statsmodels.tsa.statespace.sarimax.SARIMAXResultsWrapper at 0x7f2cde8f44d0>,\n",
       " <statsmodels.tsa.statespace.sarimax.SARIMAXResultsWrapper at 0x7f2cf405dc90>,\n",
       " <statsmodels.tsa.statespace.sarimax.SARIMAXResultsWrapper at 0x7f2cf427dd50>,\n",
       " <statsmodels.tsa.statespace.sarimax.SARIMAXResultsWrapper at 0x7f2cdc0f90d0>,\n",
       " <statsmodels.tsa.statespace.sarimax.SARIMAXResultsWrapper at 0x7f2cf42433d0>,\n",
       " <statsmodels.tsa.statespace.sarimax.SARIMAXResultsWrapper at 0x7f2cdea83350>,\n",
       " <statsmodels.tsa.statespace.sarimax.SARIMAXResultsWrapper at 0x7f2cdeaa4b50>,\n",
       " <statsmodels.tsa.statespace.sarimax.SARIMAXResultsWrapper at 0x7f2cf428b490>,\n",
       " <statsmodels.tsa.statespace.sarimax.SARIMAXResultsWrapper at 0x7f2cdea83890>,\n",
       " <statsmodels.tsa.statespace.sarimax.SARIMAXResultsWrapper at 0x7f2cdda6e090>,\n",
       " <statsmodels.tsa.statespace.sarimax.SARIMAXResultsWrapper at 0x7f2cdda92590>,\n",
       " <statsmodels.tsa.statespace.sarimax.SARIMAXResultsWrapper at 0x7f2ccc1cac90>,\n",
       " <statsmodels.tsa.statespace.sarimax.SARIMAXResultsWrapper at 0x7f2cdea83950>,\n",
       " <statsmodels.tsa.statespace.sarimax.SARIMAXResultsWrapper at 0x7f2cf4076550>,\n",
       " <statsmodels.tsa.statespace.sarimax.SARIMAXResultsWrapper at 0x7f2cd418df10>,\n",
       " <statsmodels.tsa.statespace.sarimax.SARIMAXResultsWrapper at 0x7f2cdda92b50>,\n",
       " <statsmodels.tsa.statespace.sarimax.SARIMAXResultsWrapper at 0x7f2cdc0f9090>,\n",
       " <statsmodels.tsa.statespace.sarimax.SARIMAXResultsWrapper at 0x7f2cf42985d0>,\n",
       " <statsmodels.tsa.statespace.sarimax.SARIMAXResultsWrapper at 0x7f2cdea83410>,\n",
       " <statsmodels.tsa.statespace.sarimax.SARIMAXResultsWrapper at 0x7f2cdea83190>,\n",
       " <statsmodels.tsa.statespace.sarimax.SARIMAXResultsWrapper at 0x7f2cdda13b10>,\n",
       " <statsmodels.tsa.statespace.sarimax.SARIMAXResultsWrapper at 0x7f2cdc22e7d0>,\n",
       " <statsmodels.tsa.statespace.sarimax.SARIMAXResultsWrapper at 0x7f2cdda13990>,\n",
       " <statsmodels.tsa.statespace.sarimax.SARIMAXResultsWrapper at 0x7f2cf427d590>,\n",
       " <statsmodels.tsa.statespace.sarimax.SARIMAXResultsWrapper at 0x7f2cdea83710>,\n",
       " <statsmodels.tsa.statespace.sarimax.SARIMAXResultsWrapper at 0x7f2cdda13b90>,\n",
       " <statsmodels.tsa.statespace.sarimax.SARIMAXResultsWrapper at 0x7f2cdda13950>,\n",
       " <statsmodels.tsa.statespace.sarimax.SARIMAXResultsWrapper at 0x7f2ccc0ded10>,\n",
       " <statsmodels.tsa.statespace.sarimax.SARIMAXResultsWrapper at 0x7f2cf429c350>,\n",
       " <statsmodels.tsa.statespace.sarimax.SARIMAXResultsWrapper at 0x7f2cdda13350>,\n",
       " <statsmodels.tsa.statespace.sarimax.SARIMAXResultsWrapper at 0x7f2cdda92710>,\n",
       " <statsmodels.tsa.statespace.sarimax.SARIMAXResultsWrapper at 0x7f2cf4298f50>,\n",
       " <statsmodels.tsa.statespace.sarimax.SARIMAXResultsWrapper at 0x7f2cdd97a810>,\n",
       " <statsmodels.tsa.statespace.sarimax.SARIMAXResultsWrapper at 0x7f2cdc176790>,\n",
       " <statsmodels.tsa.statespace.sarimax.SARIMAXResultsWrapper at 0x7f2cf42af750>,\n",
       " <statsmodels.tsa.statespace.sarimax.SARIMAXResultsWrapper at 0x7f2cd4260f90>,\n",
       " <statsmodels.tsa.statespace.sarimax.SARIMAXResultsWrapper at 0x7f2cdda13c90>,\n",
       " <statsmodels.tsa.statespace.sarimax.SARIMAXResultsWrapper at 0x7f2cdc1e8ed0>,\n",
       " <statsmodels.tsa.statespace.sarimax.SARIMAXResultsWrapper at 0x7f2cdc1af110>,\n",
       " <statsmodels.tsa.statespace.sarimax.SARIMAXResultsWrapper at 0x7f2cdc1af2d0>,\n",
       " <statsmodels.tsa.statespace.sarimax.SARIMAXResultsWrapper at 0x7f2cfecb3f50>,\n",
       " <statsmodels.tsa.statespace.sarimax.SARIMAXResultsWrapper at 0x7f2ccc20a350>,\n",
       " <statsmodels.tsa.statespace.sarimax.SARIMAXResultsWrapper at 0x7f2cdc176750>,\n",
       " <statsmodels.tsa.statespace.sarimax.SARIMAXResultsWrapper at 0x7f2cdc176390>,\n",
       " <statsmodels.tsa.statespace.sarimax.SARIMAXResultsWrapper at 0x7f2cdc1af1d0>,\n",
       " <statsmodels.tsa.statespace.sarimax.SARIMAXResultsWrapper at 0x7f2cd409e410>,\n",
       " <statsmodels.tsa.statespace.sarimax.SARIMAXResultsWrapper at 0x7f2ccc1f6f50>,\n",
       " <statsmodels.tsa.statespace.sarimax.SARIMAXResultsWrapper at 0x7f2ccc1f6b90>,\n",
       " <statsmodels.tsa.statespace.sarimax.SARIMAXResultsWrapper at 0x7f2cdc2f6450>,\n",
       " <statsmodels.tsa.statespace.sarimax.SARIMAXResultsWrapper at 0x7f2cd40fba50>,\n",
       " <statsmodels.tsa.statespace.sarimax.SARIMAXResultsWrapper at 0x7f2cdc0f9050>,\n",
       " <statsmodels.tsa.statespace.sarimax.SARIMAXResultsWrapper at 0x7f2cd40fbc10>,\n",
       " <statsmodels.tsa.statespace.sarimax.SARIMAXResultsWrapper at 0x7f2cdc176e50>,\n",
       " <statsmodels.tsa.statespace.sarimax.SARIMAXResultsWrapper at 0x7f2cde936b90>,\n",
       " <statsmodels.tsa.statespace.sarimax.SARIMAXResultsWrapper at 0x7f2cdc176e10>,\n",
       " <statsmodels.tsa.statespace.sarimax.SARIMAXResultsWrapper at 0x7f2cd40fbbd0>,\n",
       " <statsmodels.tsa.statespace.sarimax.SARIMAXResultsWrapper at 0x7f2cd40fb710>,\n",
       " <statsmodels.tsa.statespace.sarimax.SARIMAXResultsWrapper at 0x7f2cbf670150>,\n",
       " <statsmodels.tsa.statespace.sarimax.SARIMAXResultsWrapper at 0x7f2cbfde0c50>,\n",
       " <statsmodels.tsa.statespace.sarimax.SARIMAXResultsWrapper at 0x7f2cbfde0e50>,\n",
       " <statsmodels.tsa.statespace.sarimax.SARIMAXResultsWrapper at 0x7f2ccc1f6f90>,\n",
       " <statsmodels.tsa.statespace.sarimax.SARIMAXResultsWrapper at 0x7f2cdc176e90>,\n",
       " <statsmodels.tsa.statespace.sarimax.SARIMAXResultsWrapper at 0x7f2cd40a0690>,\n",
       " <statsmodels.tsa.statespace.sarimax.SARIMAXResultsWrapper at 0x7f2cd40a0dd0>,\n",
       " <statsmodels.tsa.statespace.sarimax.SARIMAXResultsWrapper at 0x7f2cbf6fcfd0>,\n",
       " <statsmodels.tsa.statespace.sarimax.SARIMAXResultsWrapper at 0x7f2cbf4c9f90>,\n",
       " <statsmodels.tsa.statespace.sarimax.SARIMAXResultsWrapper at 0x7f2cbff96fd0>,\n",
       " <statsmodels.tsa.statespace.sarimax.SARIMAXResultsWrapper at 0x7f2cd40fb610>,\n",
       " <statsmodels.tsa.statespace.sarimax.SARIMAXResultsWrapper at 0x7f2cbf77d690>,\n",
       " <statsmodels.tsa.statespace.sarimax.SARIMAXResultsWrapper at 0x7f2cbf670250>,\n",
       " <statsmodels.tsa.statespace.sarimax.SARIMAXResultsWrapper at 0x7f2cbfa3d990>,\n",
       " <statsmodels.tsa.statespace.sarimax.SARIMAXResultsWrapper at 0x7f2cbfc26e50>,\n",
       " <statsmodels.tsa.statespace.sarimax.SARIMAXResultsWrapper at 0x7f2cbfde0c10>,\n",
       " <statsmodels.tsa.statespace.sarimax.SARIMAXResultsWrapper at 0x7f2ccc1f6b50>,\n",
       " <statsmodels.tsa.statespace.sarimax.SARIMAXResultsWrapper at 0x7f2cbfde0ed0>,\n",
       " <statsmodels.tsa.statespace.sarimax.SARIMAXResultsWrapper at 0x7f2cbfde0d50>,\n",
       " <statsmodels.tsa.statespace.sarimax.SARIMAXResultsWrapper at 0x7f2cbfde0210>,\n",
       " <statsmodels.tsa.statespace.sarimax.SARIMAXResultsWrapper at 0x7f2cbfab2450>,\n",
       " <statsmodels.tsa.statespace.sarimax.SARIMAXResultsWrapper at 0x7f2cbf39f650>,\n",
       " <statsmodels.tsa.statespace.sarimax.SARIMAXResultsWrapper at 0x7f2cbfde0fd0>,\n",
       " <statsmodels.tsa.statespace.sarimax.SARIMAXResultsWrapper at 0x7f2cbfde0bd0>,\n",
       " <statsmodels.tsa.statespace.sarimax.SARIMAXResultsWrapper at 0x7f2cbf9b6a90>,\n",
       " <statsmodels.tsa.statespace.sarimax.SARIMAXResultsWrapper at 0x7f2cbf9ec150>,\n",
       " <statsmodels.tsa.statespace.sarimax.SARIMAXResultsWrapper at 0x7f2cbf988850>,\n",
       " <statsmodels.tsa.statespace.sarimax.SARIMAXResultsWrapper at 0x7f2cbfe66890>,\n",
       " <statsmodels.tsa.statespace.sarimax.SARIMAXResultsWrapper at 0x7f2cbfadef10>,\n",
       " <statsmodels.tsa.statespace.sarimax.SARIMAXResultsWrapper at 0x7f2cbfc24810>,\n",
       " <statsmodels.tsa.statespace.sarimax.SARIMAXResultsWrapper at 0x7f2cbf0a3710>,\n",
       " <statsmodels.tsa.statespace.sarimax.SARIMAXResultsWrapper at 0x7f2cbfa7d5d0>,\n",
       " <statsmodels.tsa.statespace.sarimax.SARIMAXResultsWrapper at 0x7f2cbf6b2610>,\n",
       " <statsmodels.tsa.statespace.sarimax.SARIMAXResultsWrapper at 0x7f2ccc211910>,\n",
       " <statsmodels.tsa.statespace.sarimax.SARIMAXResultsWrapper at 0x7f2cbf988f50>,\n",
       " <statsmodels.tsa.statespace.sarimax.SARIMAXResultsWrapper at 0x7f2cbfab2390>,\n",
       " <statsmodels.tsa.statespace.sarimax.SARIMAXResultsWrapper at 0x7f2cbf670210>,\n",
       " <statsmodels.tsa.statespace.sarimax.SARIMAXResultsWrapper at 0x7f2cbf988910>,\n",
       " <statsmodels.tsa.statespace.sarimax.SARIMAXResultsWrapper at 0x7f2cbf5d6590>,\n",
       " <statsmodels.tsa.statespace.sarimax.SARIMAXResultsWrapper at 0x7f2cbf988710>,\n",
       " <statsmodels.tsa.statespace.sarimax.SARIMAXResultsWrapper at 0x7f2cbf77d650>,\n",
       " <statsmodels.tsa.statespace.sarimax.SARIMAXResultsWrapper at 0x7f2cbf4c9fd0>,\n",
       " <statsmodels.tsa.statespace.sarimax.SARIMAXResultsWrapper at 0x7f2cbf6b2490>,\n",
       " <statsmodels.tsa.statespace.sarimax.SARIMAXResultsWrapper at 0x7f2cbf6b2c50>,\n",
       " <statsmodels.tsa.statespace.sarimax.SARIMAXResultsWrapper at 0x7f2cbf5b1fd0>,\n",
       " <statsmodels.tsa.statespace.sarimax.SARIMAXResultsWrapper at 0x7f2cbf988b50>,\n",
       " <statsmodels.tsa.statespace.sarimax.SARIMAXResultsWrapper at 0x7f2cbfa7d6d0>,\n",
       " <statsmodels.tsa.statespace.sarimax.SARIMAXResultsWrapper at 0x7f2ccc211f90>,\n",
       " <statsmodels.tsa.statespace.sarimax.SARIMAXResultsWrapper at 0x7f2cbf673a90>,\n",
       " <statsmodels.tsa.statespace.sarimax.SARIMAXResultsWrapper at 0x7f2cbf1a1f90>,\n",
       " <statsmodels.tsa.statespace.sarimax.SARIMAXResultsWrapper at 0x7f2cbf1eeb90>,\n",
       " <statsmodels.tsa.statespace.sarimax.SARIMAXResultsWrapper at 0x7f2cbf988b10>,\n",
       " <statsmodels.tsa.statespace.sarimax.SARIMAXResultsWrapper at 0x7f2cbf6b2bd0>,\n",
       " <statsmodels.tsa.statespace.sarimax.SARIMAXResultsWrapper at 0x7f2cf4287a50>,\n",
       " <statsmodels.tsa.statespace.sarimax.SARIMAXResultsWrapper at 0x7f2cbf6b29d0>,\n",
       " <statsmodels.tsa.statespace.sarimax.SARIMAXResultsWrapper at 0x7f2cbf1a1dd0>,\n",
       " <statsmodels.tsa.statespace.sarimax.SARIMAXResultsWrapper at 0x7f2cbf1a1d90>,\n",
       " <statsmodels.tsa.statespace.sarimax.SARIMAXResultsWrapper at 0x7f2cbf5ad510>,\n",
       " <statsmodels.tsa.statespace.sarimax.SARIMAXResultsWrapper at 0x7f2cbf1a1e50>,\n",
       " <statsmodels.tsa.statespace.sarimax.SARIMAXResultsWrapper at 0x7f2cbf6b2f10>,\n",
       " <statsmodels.tsa.statespace.sarimax.SARIMAXResultsWrapper at 0x7f2cbf1eee10>,\n",
       " <statsmodels.tsa.statespace.sarimax.SARIMAXResultsWrapper at 0x7f2cbf28ef90>,\n",
       " <statsmodels.tsa.statespace.sarimax.SARIMAXResultsWrapper at 0x7f2cbf1a1c50>,\n",
       " <statsmodels.tsa.statespace.sarimax.SARIMAXResultsWrapper at 0x7f2cbf1aba10>,\n",
       " <statsmodels.tsa.statespace.sarimax.SARIMAXResultsWrapper at 0x7f2cbe8b6390>,\n",
       " <statsmodels.tsa.statespace.sarimax.SARIMAXResultsWrapper at 0x7f2cbf5b1bd0>,\n",
       " <statsmodels.tsa.statespace.sarimax.SARIMAXResultsWrapper at 0x7f2cbf1ab910>,\n",
       " <statsmodels.tsa.statespace.sarimax.SARIMAXResultsWrapper at 0x7f2cbee3bc90>,\n",
       " <statsmodels.tsa.statespace.sarimax.SARIMAXResultsWrapper at 0x7f2cbf53db10>,\n",
       " <statsmodels.tsa.statespace.sarimax.SARIMAXResultsWrapper at 0x7f2cbf15af50>,\n",
       " <statsmodels.tsa.statespace.sarimax.SARIMAXResultsWrapper at 0x7f2cbf1ab890>,\n",
       " <statsmodels.tsa.statespace.sarimax.SARIMAXResultsWrapper at 0x7f2cbf1aba90>,\n",
       " <statsmodels.tsa.statespace.sarimax.SARIMAXResultsWrapper at 0x7f2cbedc7290>,\n",
       " <statsmodels.tsa.statespace.sarimax.SARIMAXResultsWrapper at 0x7f2cbeda6350>,\n",
       " <statsmodels.tsa.statespace.sarimax.SARIMAXResultsWrapper at 0x7f2cbea75b90>,\n",
       " <statsmodels.tsa.statespace.sarimax.SARIMAXResultsWrapper at 0x7f2cbf1a1cd0>,\n",
       " <statsmodels.tsa.statespace.sarimax.SARIMAXResultsWrapper at 0x7f2cbed9db50>,\n",
       " <statsmodels.tsa.statespace.sarimax.SARIMAXResultsWrapper at 0x7f2cbed9db90>,\n",
       " <statsmodels.tsa.statespace.sarimax.SARIMAXResultsWrapper at 0x7f2cbe6bc490>,\n",
       " <statsmodels.tsa.statespace.sarimax.SARIMAXResultsWrapper at 0x7f2cbed9da10>,\n",
       " <statsmodels.tsa.statespace.sarimax.SARIMAXResultsWrapper at 0x7f2cbf6fced0>,\n",
       " <statsmodels.tsa.statespace.sarimax.SARIMAXResultsWrapper at 0x7f2cbed9ded0>,\n",
       " <statsmodels.tsa.statespace.sarimax.SARIMAXResultsWrapper at 0x7f2cbf157ad0>,\n",
       " <statsmodels.tsa.statespace.sarimax.SARIMAXResultsWrapper at 0x7f2cbf1ee4d0>,\n",
       " <statsmodels.tsa.statespace.sarimax.SARIMAXResultsWrapper at 0x7f2cbedf1110>,\n",
       " <statsmodels.tsa.statespace.sarimax.SARIMAXResultsWrapper at 0x7f2cbea2b390>,\n",
       " <statsmodels.tsa.statespace.sarimax.SARIMAXResultsWrapper at 0x7f2cbe99acd0>,\n",
       " <statsmodels.tsa.statespace.sarimax.SARIMAXResultsWrapper at 0x7f2cbf988a50>,\n",
       " <statsmodels.tsa.statespace.sarimax.SARIMAXResultsWrapper at 0x7f2cbed51ed0>,\n",
       " <statsmodels.tsa.statespace.sarimax.SARIMAXResultsWrapper at 0x7f2cbed9b890>,\n",
       " <statsmodels.tsa.statespace.sarimax.SARIMAXResultsWrapper at 0x7f2cbea2b290>,\n",
       " <statsmodels.tsa.statespace.sarimax.SARIMAXResultsWrapper at 0x7f2cbed51e50>,\n",
       " <statsmodels.tsa.statespace.sarimax.SARIMAXResultsWrapper at 0x7f2cbe90b110>,\n",
       " <statsmodels.tsa.statespace.sarimax.SARIMAXResultsWrapper at 0x7f2cbea75550>,\n",
       " <statsmodels.tsa.statespace.sarimax.SARIMAXResultsWrapper at 0x7f2cbe971190>,\n",
       " <statsmodels.tsa.statespace.sarimax.SARIMAXResultsWrapper at 0x7f2cbe99aa10>,\n",
       " <statsmodels.tsa.statespace.sarimax.SARIMAXResultsWrapper at 0x7f2cbe5f9610>,\n",
       " <statsmodels.tsa.statespace.sarimax.SARIMAXResultsWrapper at 0x7f2cbe90b3d0>,\n",
       " <statsmodels.tsa.statespace.sarimax.SARIMAXResultsWrapper at 0x7f2cbe9f4190>,\n",
       " <statsmodels.tsa.statespace.sarimax.SARIMAXResultsWrapper at 0x7f2cbe48f090>,\n",
       " <statsmodels.tsa.statespace.sarimax.SARIMAXResultsWrapper at 0x7f2cbe9a8050>,\n",
       " <statsmodels.tsa.statespace.sarimax.SARIMAXResultsWrapper at 0x7f2cbed51f50>,\n",
       " <statsmodels.tsa.statespace.sarimax.SARIMAXResultsWrapper at 0x7f2cbf1a1e90>,\n",
       " <statsmodels.tsa.statespace.sarimax.SARIMAXResultsWrapper at 0x7f2cbe973f90>,\n",
       " <statsmodels.tsa.statespace.sarimax.SARIMAXResultsWrapper at 0x7f2cbe9f40d0>,\n",
       " <statsmodels.tsa.statespace.sarimax.SARIMAXResultsWrapper at 0x7f2cbea2df10>,\n",
       " <statsmodels.tsa.statespace.sarimax.SARIMAXResultsWrapper at 0x7f2cbe973e10>,\n",
       " <statsmodels.tsa.statespace.sarimax.SARIMAXResultsWrapper at 0x7f2cbd5ccbd0>,\n",
       " <statsmodels.tsa.statespace.sarimax.SARIMAXResultsWrapper at 0x7f2cbe550310>,\n",
       " <statsmodels.tsa.statespace.sarimax.SARIMAXResultsWrapper at 0x7f2cbf08f110>,\n",
       " <statsmodels.tsa.statespace.sarimax.SARIMAXResultsWrapper at 0x7f2cbe9f4050>]"
      ]
     },
     "execution_count": 33,
     "metadata": {},
     "output_type": "execute_result"
    }
   ],
   "source": [
    "%%time\n",
    "\n",
    "import joblib\n",
    "res_list = joblib.Parallel(n_jobs=-1, verbose=10)([joblib.delayed(sarimax_fit)(train.Streams,param) for param in seasonal_pdq])\n",
    " \n",
    "# # AICが小さくなる順にのパラメータの組み合わせを並べ変え\n",
    "res_list"
   ]
  },
  {
   "cell_type": "markdown",
   "metadata": {},
   "source": [
    "### AICを取り出す"
   ]
  },
  {
   "cell_type": "code",
   "execution_count": 35,
   "metadata": {},
   "outputs": [
    {
     "name": "stdout",
     "output_type": "stream",
     "text": [
      "8.0\n",
      "4.0\n"
     ]
    }
   ],
   "source": [
    "best_aic=1000\n",
    "best_col = -1\n",
    "for i,res in enumerate(res_list):\n",
    "    if best_aic > res.aic:\n",
    "        best_aic = res.aic\n",
    "        \n",
    "        print(res.aic)\n",
    "        best_col = i\n",
    "## もっとも少ないAIC をもつモデルを代入\n",
    "best_sarimax= res_list[best_col]\n",
    "aic_df = pd.DataFrame({\"params\": seasonal_pdq, \"aic\": [r.aic if r == 0 else 0 for r in res_list]})\n",
    "aic_df.sort_values(\"aic\", inplace=True)\n",
    "aic_df"
   ]
  },
  {
   "cell_type": "code",
   "execution_count": null,
   "metadata": {},
   "outputs": [],
   "source": [
    "aic_df.head(10)"
   ]
  },
  {
   "cell_type": "code",
   "execution_count": 45,
   "metadata": {
    "collapsed": true,
    "jupyter": {
     "outputs_hidden": true,
     "source_hidden": true
    }
   },
   "outputs": [
    {
     "name": "stderr",
     "output_type": "stream",
     "text": [
      "/opt/anaconda3/lib/python3.7/site-packages/statsmodels/base/model.py:512: ConvergenceWarning: Maximum Likelihood optimization failed to converge. Check mle_retvals\n",
      "  \"Check mle_retvals\", ConvergenceWarning)\n"
     ]
    },
    {
     "name": "stdout",
     "output_type": "stream",
     "text": [
      "iter 0 finished... param :(4, 0, 3), aic14470.473082995488\n"
     ]
    },
    {
     "name": "stderr",
     "output_type": "stream",
     "text": [
      "/opt/anaconda3/lib/python3.7/site-packages/statsmodels/base/model.py:512: ConvergenceWarning: Maximum Likelihood optimization failed to converge. Check mle_retvals\n",
      "  \"Check mle_retvals\", ConvergenceWarning)\n"
     ]
    },
    {
     "name": "stdout",
     "output_type": "stream",
     "text": [
      "iter 1 finished... param :(4, 0, 4), aic14422.988875771864\n"
     ]
    },
    {
     "name": "stderr",
     "output_type": "stream",
     "text": [
      "/opt/anaconda3/lib/python3.7/site-packages/statsmodels/base/model.py:512: ConvergenceWarning: Maximum Likelihood optimization failed to converge. Check mle_retvals\n",
      "  \"Check mle_retvals\", ConvergenceWarning)\n"
     ]
    },
    {
     "name": "stdout",
     "output_type": "stream",
     "text": [
      "iter 2 finished... param :(4, 0, 5), aic14378.301322314604\n"
     ]
    },
    {
     "name": "stderr",
     "output_type": "stream",
     "text": [
      "/opt/anaconda3/lib/python3.7/site-packages/statsmodels/base/model.py:512: ConvergenceWarning: Maximum Likelihood optimization failed to converge. Check mle_retvals\n",
      "  \"Check mle_retvals\", ConvergenceWarning)\n"
     ]
    },
    {
     "name": "stdout",
     "output_type": "stream",
     "text": [
      "iter 3 finished... param :(4, 1, 3), aic14326.940804186019\n"
     ]
    },
    {
     "name": "stderr",
     "output_type": "stream",
     "text": [
      "/opt/anaconda3/lib/python3.7/site-packages/statsmodels/base/model.py:512: ConvergenceWarning: Maximum Likelihood optimization failed to converge. Check mle_retvals\n",
      "  \"Check mle_retvals\", ConvergenceWarning)\n"
     ]
    },
    {
     "name": "stdout",
     "output_type": "stream",
     "text": [
      "iter 4 finished... param :(4, 1, 4), aic14336.548555424903\n"
     ]
    },
    {
     "name": "stderr",
     "output_type": "stream",
     "text": [
      "/opt/anaconda3/lib/python3.7/site-packages/statsmodels/base/model.py:512: ConvergenceWarning: Maximum Likelihood optimization failed to converge. Check mle_retvals\n",
      "  \"Check mle_retvals\", ConvergenceWarning)\n"
     ]
    },
    {
     "name": "stdout",
     "output_type": "stream",
     "text": [
      "iter 5 finished... param :(4, 1, 5), aic14261.905609171314\n",
      "iter 6 finished... param :(4, 2, 3), aic14436.371483751755\n"
     ]
    },
    {
     "name": "stderr",
     "output_type": "stream",
     "text": [
      "/opt/anaconda3/lib/python3.7/site-packages/statsmodels/base/model.py:512: ConvergenceWarning: Maximum Likelihood optimization failed to converge. Check mle_retvals\n",
      "  \"Check mle_retvals\", ConvergenceWarning)\n"
     ]
    },
    {
     "name": "stdout",
     "output_type": "stream",
     "text": [
      "iter 7 finished... param :(4, 2, 4), aic14409.605093594371\n"
     ]
    },
    {
     "name": "stderr",
     "output_type": "stream",
     "text": [
      "/opt/anaconda3/lib/python3.7/site-packages/statsmodels/base/model.py:512: ConvergenceWarning: Maximum Likelihood optimization failed to converge. Check mle_retvals\n",
      "  \"Check mle_retvals\", ConvergenceWarning)\n"
     ]
    },
    {
     "name": "stdout",
     "output_type": "stream",
     "text": [
      "iter 8 finished... param :(4, 2, 5), aic14379.079233190983\n"
     ]
    },
    {
     "name": "stderr",
     "output_type": "stream",
     "text": [
      "/opt/anaconda3/lib/python3.7/site-packages/statsmodels/base/model.py:512: ConvergenceWarning: Maximum Likelihood optimization failed to converge. Check mle_retvals\n",
      "  \"Check mle_retvals\", ConvergenceWarning)\n"
     ]
    },
    {
     "name": "stdout",
     "output_type": "stream",
     "text": [
      "iter 9 finished... param :(5, 0, 3), aic14434.226485915256\n"
     ]
    },
    {
     "name": "stderr",
     "output_type": "stream",
     "text": [
      "/opt/anaconda3/lib/python3.7/site-packages/statsmodels/base/model.py:512: ConvergenceWarning: Maximum Likelihood optimization failed to converge. Check mle_retvals\n",
      "  \"Check mle_retvals\", ConvergenceWarning)\n"
     ]
    },
    {
     "name": "stdout",
     "output_type": "stream",
     "text": [
      "iter 10 finished... param :(5, 0, 4), aic14354.932488315348\n"
     ]
    },
    {
     "name": "stderr",
     "output_type": "stream",
     "text": [
      "/opt/anaconda3/lib/python3.7/site-packages/statsmodels/base/model.py:512: ConvergenceWarning: Maximum Likelihood optimization failed to converge. Check mle_retvals\n",
      "  \"Check mle_retvals\", ConvergenceWarning)\n"
     ]
    },
    {
     "name": "stdout",
     "output_type": "stream",
     "text": [
      "iter 11 finished... param :(5, 0, 5), aic14352.487057624134\n"
     ]
    },
    {
     "name": "stderr",
     "output_type": "stream",
     "text": [
      "/opt/anaconda3/lib/python3.7/site-packages/statsmodels/base/model.py:512: ConvergenceWarning: Maximum Likelihood optimization failed to converge. Check mle_retvals\n",
      "  \"Check mle_retvals\", ConvergenceWarning)\n"
     ]
    },
    {
     "name": "stdout",
     "output_type": "stream",
     "text": [
      "iter 12 finished... param :(5, 1, 3), aic14276.780453344385\n"
     ]
    },
    {
     "name": "stderr",
     "output_type": "stream",
     "text": [
      "/opt/anaconda3/lib/python3.7/site-packages/statsmodels/base/model.py:512: ConvergenceWarning: Maximum Likelihood optimization failed to converge. Check mle_retvals\n",
      "  \"Check mle_retvals\", ConvergenceWarning)\n"
     ]
    },
    {
     "name": "stdout",
     "output_type": "stream",
     "text": [
      "iter 13 finished... param :(5, 1, 4), aic14227.51366391924\n"
     ]
    },
    {
     "name": "stderr",
     "output_type": "stream",
     "text": [
      "/opt/anaconda3/lib/python3.7/site-packages/statsmodels/base/model.py:512: ConvergenceWarning: Maximum Likelihood optimization failed to converge. Check mle_retvals\n",
      "  \"Check mle_retvals\", ConvergenceWarning)\n"
     ]
    },
    {
     "name": "stdout",
     "output_type": "stream",
     "text": [
      "iter 14 finished... param :(5, 1, 5), aic14231.896564833105\n"
     ]
    },
    {
     "name": "stderr",
     "output_type": "stream",
     "text": [
      "/opt/anaconda3/lib/python3.7/site-packages/statsmodels/base/model.py:512: ConvergenceWarning: Maximum Likelihood optimization failed to converge. Check mle_retvals\n",
      "  \"Check mle_retvals\", ConvergenceWarning)\n"
     ]
    },
    {
     "name": "stdout",
     "output_type": "stream",
     "text": [
      "iter 15 finished... param :(5, 2, 3), aic14400.208135195775\n"
     ]
    },
    {
     "name": "stderr",
     "output_type": "stream",
     "text": [
      "/opt/anaconda3/lib/python3.7/site-packages/statsmodels/base/model.py:512: ConvergenceWarning: Maximum Likelihood optimization failed to converge. Check mle_retvals\n",
      "  \"Check mle_retvals\", ConvergenceWarning)\n"
     ]
    },
    {
     "name": "stdout",
     "output_type": "stream",
     "text": [
      "iter 16 finished... param :(5, 2, 4), aic14342.73756882191\n",
      "iter 17 finished... param :(5, 2, 5), aic14356.469587458154\n"
     ]
    },
    {
     "name": "stderr",
     "output_type": "stream",
     "text": [
      "/opt/anaconda3/lib/python3.7/site-packages/statsmodels/base/model.py:512: ConvergenceWarning: Maximum Likelihood optimization failed to converge. Check mle_retvals\n",
      "  \"Check mle_retvals\", ConvergenceWarning)\n"
     ]
    }
   ],
   "source": [
    "import itertools\n",
    "# p = [4,5]\n",
    "# d = [0,1,2]\n",
    "# q = [3,4,5]\n",
    "sp = range(3)\n",
    "sd = range(2)\n",
    "sq = range(3)\n",
    "# pdq = list(itertools.product(p, d, q))\n",
    "# trial_num = len(p_list) * len(d_list) * len(q_list) *len(sp_list) * len(sd_list) * len(sq_list)\n",
    "\n",
    "use_columns = [\"p\", \"d\", \"q\", \"AIC\"]\n",
    "step_cnt = 0\n",
    "train_data = raw_data\n",
    "\n",
    "info_df = pd.DataFrame(columns=use_columns)\n",
    "for i,param in enumerate(pdq):\n",
    "    model = sm.tsa.statespace.SARIMAX(train.Streams, order=param, enforce_invertibility=False,\n",
    "#                                               trend='t'\n",
    "                                      \n",
    "                                     )\n",
    "    p,d,q = param\n",
    "\n",
    "    try:\n",
    "        \n",
    "        res = model.fit(disp=False)\n",
    "        info_df = info_df.append(pd.Series([p,d,q,res.aic], index=use_columns),ignore_index=True)\n",
    "    except:\n",
    "        pass\n",
    "    print(f\"iter {i} finished... param :{param}, aic{res.aic}\")\n",
    "# for p in range(p_num):\n",
    "#     for d in range(d_num):\n",
    "#         for q in range(q_num):\n",
    "#             if p == 0 and q == 0:\n",
    "#                 continue\n",
    "#             model = sm.tsa.statespace.SARIMAX(train.Streams, order=param, enforce_invertibility=True,\n",
    "#                                               trend='t')\n",
    "#             param_list = [p, d, q]\n",
    "#             for name, val in zip(use_columns[:-1], param_list):\n",
    "#                 info_df.iloc[step_cnt][name] = val\n",
    "#             try:\n",
    "#                 result = model.fit(disp=False)\n",
    "#                 # print(result.aic)\n",
    "#                 info_df.iloc[step_cnt][\"AIC\"] = result.aic\n",
    "#             except:\n",
    "#                 pass\n",
    "#             step_cnt += 1\n",
    "#             print(\"Finish trial No. {}, Param: {}\".format(step_cnt, param_list))"
   ]
  },
  {
   "cell_type": "code",
   "execution_count": 50,
   "metadata": {},
   "outputs": [
    {
     "data": {
      "text/plain": [
       "{'fopt': 10.557346989319335,\n",
       " 'gopt': array([ 0.00000000e+00,  0.00000000e+00,  8.88178420e-07,  0.00000000e+00,\n",
       "         7.10542736e-07,  3.55271368e-07, -3.55271368e-07, -3.55271368e-07,\n",
       "         0.00000000e+00, -7.10542736e-07, -3.55271368e-07]),\n",
       " 'fcalls': 828,\n",
       " 'warnflag': 0,\n",
       " 'converged': True,\n",
       " 'iterations': 51}"
      ]
     },
     "execution_count": 50,
     "metadata": {},
     "output_type": "execute_result"
    }
   ],
   "source": [
    "results.mle_retvals"
   ]
  }
 ],
 "metadata": {
  "colab": {
   "collapsed_sections": [
    "mgwP2bnt6r0A"
   ],
   "include_colab_link": true,
   "name": "[Python講座]第4回Spotify APIを用いたデータ分析.ipynb",
   "provenance": []
  },
  "kernelspec": {
   "display_name": "Python 3",
   "language": "python",
   "name": "python3"
  },
  "language_info": {
   "codemirror_mode": {
    "name": "ipython",
    "version": 3
   },
   "file_extension": ".py",
   "mimetype": "text/x-python",
   "name": "python",
   "nbconvert_exporter": "python",
   "pygments_lexer": "ipython3",
   "version": "3.7.4"
  },
  "toc-showmarkdowntxt": true
 },
 "nbformat": 4,
 "nbformat_minor": 4
}
