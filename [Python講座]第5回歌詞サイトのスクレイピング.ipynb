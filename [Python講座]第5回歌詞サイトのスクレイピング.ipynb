{
 "cells": [
  {
   "cell_type": "markdown",
   "metadata": {
    "colab_type": "text",
    "id": "view-in-github"
   },
   "source": [
    "<a href=\"https://colab.research.google.com/github/EAakiyama3104/python_lecture/blob/master/%5BPython%E8%AC%9B%E5%BA%A7%5D%E7%AC%AC5%E5%9B%9E%E6%AD%8C%E8%A9%9E%E3%82%B5%E3%82%A4%E3%83%88%E3%81%AE%E3%82%B9%E3%82%AF%E3%83%AC%E3%82%A4%E3%83%94%E3%83%B3%E3%82%B0.ipynb\" target=\"_parent\"><img src=\"https://colab.research.google.com/assets/colab-badge.svg\" alt=\"Open In Colab\"/></a>"
   ]
  },
  {
   "cell_type": "markdown",
   "metadata": {
    "colab_type": "text",
    "id": "TD6cWizB3oJW"
   },
   "source": [
    "Webスクレイピングとは\n",
    "\n",
    "\n",
    "* Webサイトから情報を取得する技術\n",
    "* APIを公開していないサイトの情報も取得できる\n",
    "* HTMLを読み込んで、必要な情報を抜き出す必要がある\n",
    "\n",
    "手順\n",
    "\n",
    "\n",
    "1. HTTPリクエストを送り、HTMLのレスポンスを取得\n",
    "2. HTMLの中身を見て、必要な情報がある場所を確認\n",
    "3. HTMLから必要な情報を抽出\n",
    "\n",
    "\n",
    "\n"
   ]
  },
  {
   "cell_type": "markdown",
   "metadata": {
    "colab_type": "text",
    "id": "8nJ_uQ0N-5Xa"
   },
   "source": [
    "## アーティストのページから歌詞ページ一覧を取得"
   ]
  },
  {
   "cell_type": "markdown",
   "metadata": {
    "colab_type": "text",
    "id": "pQIP7r-K7Enp"
   },
   "source": [
    "今回は、Uta-Net からあるアーティスト(米津玄師)の歌詞をすべて取得。\n",
    "\n",
    "以下のページから情報を取得\n",
    "\n",
    "* アーティストページ - 曲ページのURLをすべて取得\n",
    "* 曲ページ(歌詞ページ) - 歌詞を取得"
   ]
  },
  {
   "cell_type": "markdown",
   "metadata": {
    "colab_type": "text",
    "id": "6EF2_GVE-3fA"
   },
   "source": [
    "requests について\n",
    "\n",
    "* PythonのコードからHTTPリクエストを送るためのライブラリ\n",
    "* 使い方が簡単\n",
    "\n",
    "\n",
    "https://requests-docs-ja.readthedocs.io/en/latest/"
   ]
  },
  {
   "cell_type": "markdown",
   "metadata": {
    "colab_type": "text",
    "id": "YxdTsRHiAA31"
   },
   "source": [
    "beatiful soup について\n",
    "\n",
    "* HTMLやXMLからデータを抽出するためのライブラリ\n",
    "* 様々な条件でHTML上のデータの位置を指定\n",
    "\n",
    "機能が多いので、使用の際はリファレンスを読むことをおすすめします。\n",
    "http://kondou.com/BS4/"
   ]
  },
  {
   "cell_type": "code",
   "execution_count": null,
   "metadata": {
    "colab": {},
    "colab_type": "code",
    "id": "04XakvAP3fnP"
   },
   "outputs": [],
   "source": [
    "# 必要なライブラリをインポート\n",
    "import bs4\n",
    "import requests\n",
    "import time\n",
    "from pprint import pprint"
   ]
  },
  {
   "cell_type": "code",
   "execution_count": null,
   "metadata": {
    "colab": {},
    "colab_type": "code",
    "id": "hWIhXU0XOOoJ"
   },
   "outputs": [],
   "source": [
    "# アーティストページ(米津玄師)のアドレス\n",
    "ARTIST_URL = 'https://www.uta-net.com/artist/11591/'\n",
    "\n",
    "# 曲ページの先頭アドレス\n",
    "BASE_URL = 'https://www.uta-net.com'"
   ]
  },
  {
   "cell_type": "code",
   "execution_count": null,
   "metadata": {
    "colab": {},
    "colab_type": "code",
    "id": "VOB5hZ5eCQOf"
   },
   "outputs": [],
   "source": [
    "# ページを読み込むFunction\n",
    "def load_page(url):\n",
    "  response = requests.get(url)\n",
    "  response.raise_for_status()\n",
    "  return response.text"
   ]
  },
  {
   "cell_type": "code",
   "execution_count": null,
   "metadata": {
    "colab": {},
    "colab_type": "code",
    "id": "psB7BJQrOeFG"
   },
   "outputs": [],
   "source": [
    "artist_page = load_page(ARTIST_URL)"
   ]
  },
  {
   "cell_type": "code",
   "execution_count": null,
   "metadata": {
    "colab": {
     "base_uri": "https://localhost:8080/",
     "height": 54
    },
    "colab_type": "code",
    "id": "L_hFWQJiwKwN",
    "outputId": "cd9660d7-4e14-4bc2-bc9e-f02dc96af21f",
    "scrolled": true
   },
   "outputs": [],
   "source": [
    "artist_page"
   ]
  },
  {
   "cell_type": "code",
   "execution_count": null,
   "metadata": {
    "colab": {},
    "colab_type": "code",
    "id": "zG65T3GTXRcZ"
   },
   "outputs": [],
   "source": [
    "# タグをすべて取得する関数\n",
    "def get_tags(page, target_tag):\n",
    "  soup = bs4.BeautifulSoup(str(page), 'html.parser')\n",
    "  tags = soup.find_all(target_tag)\n",
    "  return tags"
   ]
  },
  {
   "cell_type": "code",
   "execution_count": null,
   "metadata": {
    "colab": {
     "base_uri": "https://localhost:8080/",
     "height": 1000
    },
    "colab_type": "code",
    "id": "4S3pgQScFc1o",
    "outputId": "282aa9a0-63c4-4fc4-ae05-4227f8b53a94",
    "scrolled": true
   },
   "outputs": [],
   "source": [
    "# td タグをすべて取得\n",
    "td_list = get_tags(artist_page, 'td')\n",
    "td_list"
   ]
  },
  {
   "cell_type": "code",
   "execution_count": null,
   "metadata": {
    "colab": {
     "base_uri": "https://localhost:8080/",
     "height": 34
    },
    "colab_type": "code",
    "id": "jRYSrXbBHCAV",
    "outputId": "3ad27477-0100-4e65-e46f-606041da51c8"
   },
   "outputs": [],
   "source": [
    "# 最初のtdタグを取得\n",
    "td_list[0]"
   ]
  },
  {
   "cell_type": "code",
   "execution_count": null,
   "metadata": {
    "colab": {
     "base_uri": "https://localhost:8080/",
     "height": 35
    },
    "colab_type": "code",
    "id": "8L0y0EA2Gxmu",
    "outputId": "d484072c-9048-4bd6-92c7-f9e80c78aa3b"
   },
   "outputs": [],
   "source": [
    "# 最初のtdタグからaタグを取得\n",
    "a_list = get_tags(td_list[0], 'a')\n",
    "a_list"
   ]
  },
  {
   "cell_type": "code",
   "execution_count": null,
   "metadata": {
    "colab": {
     "base_uri": "https://localhost:8080/",
     "height": 35
    },
    "colab_type": "code",
    "id": "Qa9G7pROHoPd",
    "outputId": "48fbcacf-55ca-46ca-87c2-5c984d1ef931"
   },
   "outputs": [],
   "source": [
    "# href属性を見て、URLに'song'が含まれているかを確認\n",
    "a_list[0].get('href')"
   ]
  },
  {
   "cell_type": "code",
   "execution_count": null,
   "metadata": {
    "colab": {
     "base_uri": "https://localhost:8080/",
     "height": 35
    },
    "colab_type": "code",
    "id": "d0_ThwPkL4Ds",
    "outputId": "a0011636-560e-4e59-9b43-b60304533bd1"
   },
   "outputs": [],
   "source": [
    "if 'song' in a_list[0].get('href'):\n",
    "  print(BASE_URL + a_list[0].get('href'))"
   ]
  },
  {
   "cell_type": "code",
   "execution_count": null,
   "metadata": {
    "colab": {},
    "colab_type": "code",
    "id": "hCZ56DBoP_3_"
   },
   "outputs": [],
   "source": [
    "# 歌詞ページのURLのリスト\n",
    "track_urls = []"
   ]
  },
  {
   "cell_type": "code",
   "execution_count": null,
   "metadata": {
    "colab": {},
    "colab_type": "code",
    "id": "uTqoAl58_Zph"
   },
   "outputs": [],
   "source": [
    "# すべての曲のURLを取得\n",
    "# td タグのリストを1つずつ処理\n",
    "for td in td_list:\n",
    "  # a タグのリストを取得し、1つずつ処理\n",
    "  for a in get_tags(td, 'a'):\n",
    "    # aタグのhref属性を取得\n",
    "    href = a.get('href')\n",
    "    # URLに'song'が入っている場合\n",
    "    if 'song' in href:\n",
    "      # track_urls に完全なURLを追加\n",
    "      track_urls.append(BASE_URL + href)"
   ]
  },
  {
   "cell_type": "code",
   "execution_count": null,
   "metadata": {
    "colab": {
     "base_uri": "https://localhost:8080/",
     "height": 1000
    },
    "colab_type": "code",
    "id": "P9w4keyL-pIJ",
    "outputId": "2244d4e3-428a-4983-a68d-2d67cda4a0b3"
   },
   "outputs": [],
   "source": [
    "# URLのリスト\n",
    "track_urls"
   ]
  },
  {
   "cell_type": "markdown",
   "metadata": {
    "colab_type": "text",
    "id": "v8YjcZax_JD8"
   },
   "source": [
    "## 歌詞ページから歌詞を取得"
   ]
  },
  {
   "cell_type": "markdown",
   "metadata": {
    "colab_type": "text",
    "id": "-HK9vV4XDTw1"
   },
   "source": [
    "歌詞ページの例: https://www.uta-net.com/song/162135/"
   ]
  },
  {
   "cell_type": "code",
   "execution_count": null,
   "metadata": {
    "colab": {
     "base_uri": "https://localhost:8080/",
     "height": 35
    },
    "colab_type": "code",
    "id": "gj3IMq8dCIau",
    "outputId": "2b855d89-af79-4892-b452-9741ca31b59a"
   },
   "outputs": [],
   "source": [
    "track_urls[0]"
   ]
  },
  {
   "cell_type": "code",
   "execution_count": null,
   "metadata": {
    "colab": {},
    "colab_type": "code",
    "id": "pYFybvjkCj3h"
   },
   "outputs": [],
   "source": [
    "lyric_page = load_page(track_urls[0])"
   ]
  },
  {
   "cell_type": "code",
   "execution_count": null,
   "metadata": {
    "colab": {
     "base_uri": "https://localhost:8080/",
     "height": 55
    },
    "colab_type": "code",
    "id": "KRyMecrU0-5N",
    "outputId": "13bb3a06-3e68-4e0b-aa33-2c8573df84e1",
    "scrolled": true
   },
   "outputs": [],
   "source": [
    "lyric_page"
   ]
  },
  {
   "cell_type": "code",
   "execution_count": null,
   "metadata": {
    "colab": {},
    "colab_type": "code",
    "id": "YT7nFvfxPDnJ"
   },
   "outputs": [],
   "source": [
    "soup = bs4.BeautifulSoup(lyric_page, 'html.parser')"
   ]
  },
  {
   "cell_type": "code",
   "execution_count": null,
   "metadata": {
    "colab": {
     "base_uri": "https://localhost:8080/",
     "height": 55
    },
    "colab_type": "code",
    "id": "qEitOfHtPUZM",
    "outputId": "e0d8f5c3-85cb-463c-9af8-063cee1eb4ef"
   },
   "outputs": [],
   "source": [
    "# id が kashi_area のタグを探す\n",
    "soup.find(id='kashi_area')"
   ]
  },
  {
   "cell_type": "code",
   "execution_count": null,
   "metadata": {
    "colab": {
     "base_uri": "https://localhost:8080/",
     "height": 55
    },
    "colab_type": "code",
    "id": "h_lJtRAbP6rg",
    "outputId": "8afb690a-4408-41ab-87de-1e5f426450f4"
   },
   "outputs": [],
   "source": [
    "# テキストのみを抽出\n",
    "soup.find(id='kashi_area').text"
   ]
  },
  {
   "cell_type": "code",
   "execution_count": null,
   "metadata": {
    "colab": {
     "base_uri": "https://localhost:8080/",
     "height": 55
    },
    "colab_type": "code",
    "id": "cAXwuRU0QMfB",
    "outputId": "46f98fc4-0b9d-4db7-e1a4-96983e33e2e3"
   },
   "outputs": [],
   "source": [
    "# 全角スペースが文字化けしているので、半角スペースに置換\n",
    "soup.find(id='kashi_area').text.replace('　', '\\n')"
   ]
  },
  {
   "cell_type": "code",
   "execution_count": null,
   "metadata": {
    "colab": {
     "base_uri": "https://localhost:8080/",
     "height": 163
    },
    "colab_type": "code",
    "id": "ZVvh28vp2VZN",
    "outputId": "f699c378-81f9-4864-e2b7-053667e95e60"
   },
   "outputs": [],
   "source": [
    "soup.find(id='kashi_area').text.split('')"
   ]
  },
  {
   "cell_type": "code",
   "execution_count": null,
   "metadata": {
    "colab": {
     "base_uri": "https://localhost:8080/",
     "height": 665
    },
    "colab_type": "code",
    "id": "U4p9RPSt2Ekr",
    "outputId": "9fce6bd2-8120-453e-ea2c-6bd827489a3e"
   },
   "outputs": [],
   "source": [
    "for sentence in soup.find(id='kashi_area').text.split('　'):\n",
    "  print(sentence)"
   ]
  },
  {
   "cell_type": "code",
   "execution_count": null,
   "metadata": {
    "colab": {},
    "colab_type": "code",
    "id": "jeUgNY3axYc9"
   },
   "outputs": [],
   "source": [
    "# 歌詞を入れるリスト\n",
    "lyrics = []"
   ]
  },
  {
   "cell_type": "code",
   "execution_count": null,
   "metadata": {
    "colab": {},
    "colab_type": "code",
    "id": "OHh4j-rZQMvb"
   },
   "outputs": [],
   "source": [
    "# すべての曲の歌詞をlyricsに入れる\n",
    "for track_url in track_urls:\n",
    "  lyric_page = load_page(track_url)\n",
    "  soup = bs4.BeautifulSoup(lyric_page, 'html.parser')\n",
    "  lyrics.append(soup.find(id='kashi_area').text.replace('　', ' '))\n",
    "  time.sleep(1)"
   ]
  },
  {
   "cell_type": "code",
   "execution_count": null,
   "metadata": {
    "colab": {
     "base_uri": "https://localhost:8080/",
     "height": 217
    },
    "colab_type": "code",
    "id": "2nh8jp92yLPG",
    "outputId": "4db98d06-05d0-411d-d6b0-f4c95135427e"
   },
   "outputs": [],
   "source": [
    "lyrics[:10]"
   ]
  },
  {
   "cell_type": "code",
   "execution_count": null,
   "metadata": {
    "colab": {
     "base_uri": "https://localhost:8080/",
     "height": 35
    },
    "colab_type": "code",
    "id": "KrEZDP3DzLLx",
    "outputId": "6c5b3cec-a220-4c31-8a93-9b3d4a99a7e3"
   },
   "outputs": [],
   "source": [
    "len(lyrics)"
   ]
  },
  {
   "cell_type": "markdown",
   "metadata": {
    "colab_type": "text",
    "id": "ON3UHZkcqofI"
   },
   "source": [
    "## MeCab を用いて形態素解析"
   ]
  },
  {
   "cell_type": "markdown",
   "metadata": {
    "colab_type": "text",
    "id": "exeH_C3bqtHL"
   },
   "source": [
    "MeCabのインストール"
   ]
  },
  {
   "cell_type": "code",
   "execution_count": 103,
   "metadata": {
    "colab": {
     "base_uri": "https://localhost:8080/",
     "height": 1000
    },
    "colab_type": "code",
    "id": "V5i_oGZKqwkv",
    "outputId": "6f8bde20-3462-4222-ab0a-9ca777cd0128"
   },
   "outputs": [
    {
     "name": "stdout",
     "output_type": "stream",
     "text": [
      "E: Could not open lock file /var/lib/dpkg/lock - open (13: Permission denied)\n",
      "E: Unable to lock the administration directory (/var/lib/dpkg/), are you root?\n",
      "/bin/sh: 1: aptitude: not found\n",
      "Requirement already satisfied: mecab-python3 in /opt/anaconda3/lib/python3.7/site-packages (0.996.3)\n"
     ]
    }
   ],
   "source": [
    "!apt install aptitude\n",
    "!aptitude install mecab libmecab-dev mecab-ipadic-utf8 git make curl xz-utils file -y\n",
    "!pip install mecab-python3"
   ]
  },
  {
   "cell_type": "code",
   "execution_count": 104,
   "metadata": {
    "colab": {
     "base_uri": "https://localhost:8080/",
     "height": 1000
    },
    "colab_type": "code",
    "id": "k5wrG6ecsgGN",
    "outputId": "7ba116ec-1ff4-423c-fb0c-e618673b1905"
   },
   "outputs": [
    {
     "name": "stdout",
     "output_type": "stream",
     "text": [
      "fatal: destination path 'mecab-ipadic-neologd' already exists and is not an empty directory.\n",
      "[install-mecab-ipadic-NEologd] : Start..\n",
      "[install-mecab-ipadic-NEologd] : Check the existance of libraries\n",
      "[install-mecab-ipadic-NEologd] :     find => ok\n",
      "[install-mecab-ipadic-NEologd] :     sort => ok\n",
      "[install-mecab-ipadic-NEologd] :     head => ok\n",
      "[install-mecab-ipadic-NEologd] :     cut => ok\n",
      "[install-mecab-ipadic-NEologd] :     egrep => ok\n",
      "[install-mecab-ipadic-NEologd] :     mecab is not found.\n"
     ]
    }
   ],
   "source": [
    "# 最新の辞書をダウンロード\n",
    "!git clone --depth 1 https://github.com/neologd/mecab-ipadic-neologd.git\n",
    "!echo yes | mecab-ipadic-neologd/bin/install-mecab-ipadic-neologd -n -a"
   ]
  },
  {
   "cell_type": "markdown",
   "metadata": {
    "colab_type": "text",
    "id": "5HA2qcn7sr6L"
   },
   "source": [
    "# MeCabで1曲ずつ形態素解析を行う"
   ]
  },
  {
   "cell_type": "markdown",
   "metadata": {},
   "source": [
    "正直いらないかも。。。"
   ]
  },
  {
   "cell_type": "markdown",
   "metadata": {
    "colab_type": "text",
    "id": "KiEN9_Kol03X"
   },
   "source": [
    "形態素解析とは\n",
    "\n",
    "文章を意味をもつ最小単位の表現に分解すること。最小単位は単語になることが多い。"
   ]
  },
  {
   "cell_type": "code",
   "execution_count": 106,
   "metadata": {
    "colab": {
     "base_uri": "https://localhost:8080/",
     "height": 35
    },
    "colab_type": "code",
    "id": "wklK-An9zf2f",
    "outputId": "8fc4f718-7013-4f5d-c5b1-d1db984161e1"
   },
   "outputs": [
    {
     "ename": "RuntimeError",
     "evalue": "",
     "output_type": "error",
     "traceback": [
      "\u001b[0;31m---------------------------------------------------------------------------\u001b[0m",
      "\u001b[0;31mRuntimeError\u001b[0m                              Traceback (most recent call last)",
      "\u001b[0;32m<ipython-input-106-98a6aba29adc>\u001b[0m in \u001b[0;36m<module>\u001b[0;34m\u001b[0m\n\u001b[1;32m      6\u001b[0m path = (subprocess.Popen(cmd, stdout=subprocess.PIPE,\n\u001b[1;32m      7\u001b[0m                            shell=True).communicate()[0]).decode('utf-8')\n\u001b[0;32m----> 8\u001b[0;31m \u001b[0mmecab\u001b[0m \u001b[0;34m=\u001b[0m \u001b[0mMeCab\u001b[0m\u001b[0;34m.\u001b[0m\u001b[0mTagger\u001b[0m\u001b[0;34m(\u001b[0m\u001b[0;34m\"-d {0}\"\u001b[0m\u001b[0;34m.\u001b[0m\u001b[0mformat\u001b[0m\u001b[0;34m(\u001b[0m\u001b[0mpath\u001b[0m\u001b[0;34m)\u001b[0m\u001b[0;34m)\u001b[0m\u001b[0;34m\u001b[0m\u001b[0;34m\u001b[0m\u001b[0m\n\u001b[0m\u001b[1;32m      9\u001b[0m \u001b[0mmecab\u001b[0m\u001b[0;34m.\u001b[0m\u001b[0mparse\u001b[0m\u001b[0;34m(\u001b[0m\u001b[0;34m''\u001b[0m\u001b[0;34m)\u001b[0m\u001b[0;34m\u001b[0m\u001b[0;34m\u001b[0m\u001b[0m\n",
      "\u001b[0;32m/opt/anaconda3/lib/python3.7/site-packages/MeCab/__init__.py\u001b[0m in \u001b[0;36m__init__\u001b[0;34m(self, *args)\u001b[0m\n\u001b[1;32m     97\u001b[0m     \u001b[0;32mdef\u001b[0m \u001b[0m__init__\u001b[0m\u001b[0;34m(\u001b[0m\u001b[0mself\u001b[0m\u001b[0;34m,\u001b[0m \u001b[0;34m*\u001b[0m\u001b[0margs\u001b[0m\u001b[0;34m)\u001b[0m\u001b[0;34m:\u001b[0m\u001b[0;34m\u001b[0m\u001b[0;34m\u001b[0m\u001b[0m\n\u001b[1;32m     98\u001b[0m         \u001b[0;32mwith\u001b[0m \u001b[0m_mecabrc_for_bundled_dictionary\u001b[0m\u001b[0;34m(\u001b[0m\u001b[0;34m)\u001b[0m\u001b[0;34m:\u001b[0m\u001b[0;34m\u001b[0m\u001b[0;34m\u001b[0m\u001b[0m\n\u001b[0;32m---> 99\u001b[0;31m             \u001b[0msuper\u001b[0m\u001b[0;34m(\u001b[0m\u001b[0mTagger\u001b[0m\u001b[0;34m,\u001b[0m \u001b[0mself\u001b[0m\u001b[0;34m)\u001b[0m\u001b[0;34m.\u001b[0m\u001b[0m__init__\u001b[0m\u001b[0;34m(\u001b[0m\u001b[0;34m*\u001b[0m\u001b[0margs\u001b[0m\u001b[0;34m)\u001b[0m\u001b[0;34m\u001b[0m\u001b[0;34m\u001b[0m\u001b[0m\n\u001b[0m\u001b[1;32m    100\u001b[0m \u001b[0;34m\u001b[0m\u001b[0m\n\u001b[1;32m    101\u001b[0m \u001b[0;34m\u001b[0m\u001b[0m\n",
      "\u001b[0;31mRuntimeError\u001b[0m: "
     ]
    }
   ],
   "source": [
    "# MeCab セットアップ\n",
    "import MeCab\n",
    "import subprocess\n",
    "\n",
    "cmd='echo `mecab-config --dicdir`\"/mecab-ipadic-neologd\"'\n",
    "path = (subprocess.Popen(cmd, stdout=subprocess.PIPE,\n",
    "                           shell=True).communicate()[0]).decode('utf-8')\n",
    "mecab = MeCab.Tagger(\"-d {0}\".format(path))\n",
    "mecab.parse('')"
   ]
  },
  {
   "cell_type": "code",
   "execution_count": 109,
   "metadata": {},
   "outputs": [],
   "source": [
    "mecab_parser=lambda x: MeCab.Tagger(\"-Owakati\").parse(x).split(\" \")"
   ]
  },
  {
   "cell_type": "code",
   "execution_count": 110,
   "metadata": {},
   "outputs": [
    {
     "data": {
      "text/plain": [
       "['選挙',\n",
       " 'の',\n",
       " '日',\n",
       " 'って',\n",
       " 'うち',\n",
       " 'じゃ',\n",
       " 'なぜ',\n",
       " 'か',\n",
       " '投票',\n",
       " '行っ',\n",
       " 'て',\n",
       " '外食',\n",
       " 'する',\n",
       " 'ん',\n",
       " 'だ',\n",
       " '\\n']"
      ]
     },
     "execution_count": 110,
     "metadata": {},
     "output_type": "execute_result"
    }
   ],
   "source": [
    "mecab_parser('選挙の日ってうちじゃなぜか投票行って外食するんだ')"
   ]
  },
  {
   "cell_type": "code",
   "execution_count": 111,
   "metadata": {
    "colab": {
     "base_uri": "https://localhost:8080/",
     "height": 287
    },
    "colab_type": "code",
    "id": "xPr9KCCs1cW1",
    "outputId": "d7b0ecd6-8697-46e6-e786-7a1629757d09"
   },
   "outputs": [
    {
     "ename": "AttributeError",
     "evalue": "'function' object has no attribute 'parse'",
     "output_type": "error",
     "traceback": [
      "\u001b[0;31m---------------------------------------------------------------------------\u001b[0m",
      "\u001b[0;31mAttributeError\u001b[0m                            Traceback (most recent call last)",
      "\u001b[0;32m<ipython-input-111-c0bec4d1b3a3>\u001b[0m in \u001b[0;36m<module>\u001b[0;34m\u001b[0m\n\u001b[0;32m----> 1\u001b[0;31m \u001b[0;32mfor\u001b[0m \u001b[0mword\u001b[0m \u001b[0;32min\u001b[0m \u001b[0mmecab\u001b[0m\u001b[0;34m.\u001b[0m\u001b[0mparse\u001b[0m\u001b[0;34m(\u001b[0m\u001b[0;34m'選挙の日ってうちじゃなぜか投票行って外食するんだ'\u001b[0m\u001b[0;34m)\u001b[0m\u001b[0;34m.\u001b[0m\u001b[0msplit\u001b[0m\u001b[0;34m(\u001b[0m\u001b[0;34m'\\n'\u001b[0m\u001b[0;34m)\u001b[0m\u001b[0;34m:\u001b[0m\u001b[0;34m\u001b[0m\u001b[0;34m\u001b[0m\u001b[0m\n\u001b[0m\u001b[1;32m      2\u001b[0m   \u001b[0mprint\u001b[0m\u001b[0;34m(\u001b[0m\u001b[0mword\u001b[0m\u001b[0;34m)\u001b[0m\u001b[0;34m\u001b[0m\u001b[0;34m\u001b[0m\u001b[0m\n",
      "\u001b[0;31mAttributeError\u001b[0m: 'function' object has no attribute 'parse'"
     ]
    }
   ],
   "source": [
    "for word in mecab.parse('選挙の日ってうちじゃなぜか投票行って外食するんだ').split('\\n'):\n",
    "  print(word)"
   ]
  },
  {
   "cell_type": "code",
   "execution_count": null,
   "metadata": {
    "colab": {
     "base_uri": "https://localhost:8080/",
     "height": 35
    },
    "colab_type": "code",
    "id": "nWmg2CRk7eKM",
    "outputId": "10825685-6ed7-47b1-8e0d-648523e557ab"
   },
   "outputs": [],
   "source": [
    "mecab.parse('おのののか')"
   ]
  },
  {
   "cell_type": "code",
   "execution_count": null,
   "metadata": {
    "colab": {
     "base_uri": "https://localhost:8080/",
     "height": 55
    },
    "colab_type": "code",
    "id": "VIKEjexJ10h6",
    "outputId": "b0629e7d-5715-4490-d507-27df2434d8f9"
   },
   "outputs": [],
   "source": [
    "mecab.parse(lyrics[0])"
   ]
  },
  {
   "cell_type": "code",
   "execution_count": null,
   "metadata": {
    "colab": {},
    "colab_type": "code",
    "id": "l7ZokQRfzxVh"
   },
   "outputs": [],
   "source": [
    "node = mecab.parseToNode(lyrics[0])"
   ]
  },
  {
   "cell_type": "code",
   "execution_count": null,
   "metadata": {
    "colab": {
     "base_uri": "https://localhost:8080/",
     "height": 1000
    },
    "colab_type": "code",
    "id": "pe_CqIMCztfx",
    "outputId": "7e20470c-93d1-4b7c-d3e7-6d2d6df49eed"
   },
   "outputs": [],
   "source": [
    "while node:\n",
    "  #単語を取得\n",
    "  word = node.surface\n",
    "  #品詞を取得\n",
    "  pos = node.feature.split(',')[0]\n",
    "  if pos in ['名詞','形容詞','副詞','動詞']:\n",
    "    print(word)\n",
    "  #次の単語に進める\n",
    "  node = node.next"
   ]
  },
  {
   "cell_type": "code",
   "execution_count": null,
   "metadata": {
    "colab": {},
    "colab_type": "code",
    "id": "3IDO-FnPI2VJ"
   },
   "outputs": [],
   "source": [
    "# すべての曲の単語を入れる配列\n",
    "words = []\n",
    "\n",
    "for lyric in lyrics:\n",
    "  node = mecab.parseToNode(lyric)\n",
    "  while node:\n",
    "    #単語を取得\n",
    "    word = node.surface\n",
    "    #品詞を取得\n",
    "    pos = node.feature.split(',')[0]\n",
    "    if pos in ['名詞','形容詞','副詞','動詞']:\n",
    "      words.append(word)\n",
    "    #次の単語に進める\n",
    "    node = node.next"
   ]
  },
  {
   "cell_type": "code",
   "execution_count": null,
   "metadata": {
    "colab": {
     "base_uri": "https://localhost:8080/",
     "height": 35
    },
    "colab_type": "code",
    "id": "-o9ECpFSJwlN",
    "outputId": "93469c9e-fb04-4d7d-f08e-ac8ed6d02749"
   },
   "outputs": [],
   "source": [
    "len(words)"
   ]
  },
  {
   "cell_type": "markdown",
   "metadata": {
    "colab_type": "text",
    "id": "eKcSUYxdOYoj"
   },
   "source": [
    "collections.Counter を使って単語の出現回数をカウント\n",
    "\n"
   ]
  },
  {
   "cell_type": "code",
   "execution_count": null,
   "metadata": {
    "colab": {},
    "colab_type": "code",
    "id": "VgsLmUNqIhmF"
   },
   "outputs": [],
   "source": [
    "import collections\n",
    "\n",
    "word_counter = collections.Counter(words)"
   ]
  },
  {
   "cell_type": "code",
   "execution_count": null,
   "metadata": {
    "colab": {
     "base_uri": "https://localhost:8080/",
     "height": 35
    },
    "colab_type": "code",
    "id": "-gMhebJ8OIEo",
    "outputId": "89f65988-9e20-42da-8da8-0e52c1d41b93"
   },
   "outputs": [],
   "source": [
    "# 何種類の単語があるか\n",
    "len(word_counter)"
   ]
  },
  {
   "cell_type": "code",
   "execution_count": null,
   "metadata": {
    "colab": {
     "base_uri": "https://localhost:8080/",
     "height": 35
    },
    "colab_type": "code",
    "id": "DyUYiRdVWDmi",
    "outputId": "3a8e920f-ec9e-44a9-b802-6c6c60768ffb"
   },
   "outputs": [],
   "source": [
    "# 単語の出現回数\n",
    "word_counter['あなた']"
   ]
  },
  {
   "cell_type": "code",
   "execution_count": null,
   "metadata": {
    "colab": {
     "base_uri": "https://localhost:8080/",
     "height": 1000
    },
    "colab_type": "code",
    "id": "PTQodZbAetly",
    "outputId": "e261affe-1747-4c03-c41f-2722a42c247a"
   },
   "outputs": [],
   "source": [
    "# 出現回数が多い順に並べる\n",
    "word_counter.most_common()"
   ]
  },
  {
   "cell_type": "markdown",
   "metadata": {
    "colab_type": "text",
    "id": "2MkjiIl14oSH"
   },
   "source": [
    "## ワードクラウドで可視化する"
   ]
  },
  {
   "cell_type": "markdown",
   "metadata": {
    "colab_type": "text",
    "id": "mwWfU7AWevr1"
   },
   "source": [
    "ワードクラウド（word cloud）とは単語を出現回数に比例する大きさで雲のように並べたもの\n",
    "\n",
    "\n",
    "例\n",
    "\n",
    "![代替テキスト](https://oku.edu.mie-u.ac.jp/~okumura/python/img/wc1.png)\n",
    "\n",
    "\n",
    "Python では wordcloud モジュールで作成"
   ]
  },
  {
   "cell_type": "code",
   "execution_count": null,
   "metadata": {
    "colab": {
     "base_uri": "https://localhost:8080/",
     "height": 487
    },
    "colab_type": "code",
    "id": "HPGIzVLUkr6y",
    "outputId": "0a676833-b2c4-41e4-f72b-a85773024482"
   },
   "outputs": [],
   "source": [
    "# 日本語フォントをインストール\n",
    "!apt-get -y install fonts-ipafont-gothic"
   ]
  },
  {
   "cell_type": "code",
   "execution_count": null,
   "metadata": {
    "colab": {},
    "colab_type": "code",
    "id": "L8S0pAQI4tQu"
   },
   "outputs": [],
   "source": [
    "import matplotlib.pyplot as plt\n",
    "import wordcloud"
   ]
  },
  {
   "cell_type": "code",
   "execution_count": null,
   "metadata": {
    "colab": {},
    "colab_type": "code",
    "id": "Bqjwb3uSk7PY"
   },
   "outputs": [],
   "source": [
    "# 日本語フォントのパス\n",
    "fpath = '/usr/share/fonts/truetype/fonts-japanese-gothic.ttf'"
   ]
  },
  {
   "cell_type": "code",
   "execution_count": null,
   "metadata": {
    "colab": {},
    "colab_type": "code",
    "id": "xk6saA-Qj0fb"
   },
   "outputs": [],
   "source": [
    "# wordcloud で使うために、単語のリストをスペース区切りの文字列に変換\n",
    "words_str = ' '.join(words)"
   ]
  },
  {
   "cell_type": "code",
   "execution_count": null,
   "metadata": {
    "colab": {},
    "colab_type": "code",
    "id": "x0Bp2NZQx1hW"
   },
   "outputs": [],
   "source": [
    "lyric_cloud = wordcloud.WordCloud(background_color=\"white\", \n",
    "                                  font_path=fpath, \n",
    "                                  width=900, \n",
    "                                  height=500).generate(words_str)"
   ]
  },
  {
   "cell_type": "code",
   "execution_count": null,
   "metadata": {
    "colab": {
     "base_uri": "https://localhost:8080/",
     "height": 496
    },
    "colab_type": "code",
    "id": "CGEfhw9ijDEq",
    "outputId": "ceb18330-b556-42e9-b4b0-8b30859340b7"
   },
   "outputs": [],
   "source": [
    "plt.figure(figsize=(15,12))\n",
    "plt.imshow(lyric_cloud)\n",
    "plt.axis(\"off\")\n",
    "plt.show()"
   ]
  },
  {
   "cell_type": "markdown",
   "metadata": {
    "colab_type": "text",
    "id": "qTVCsrMkmpzg"
   },
   "source": [
    "意味を持たない単語が多くなってしまう\n",
    "\n",
    "これを防ぐのが、stopwords。stopwordsで与えられた単語をword cloud から除外する"
   ]
  },
  {
   "cell_type": "code",
   "execution_count": null,
   "metadata": {
    "colab": {},
    "colab_type": "code",
    "id": "URDidTodlQRu"
   },
   "outputs": [],
   "source": [
    "stop_words = [ 'てる', 'いる', 'なる', 'れる', 'する', 'ある', 'こと', 'これ', 'さん', 'して', \\\n",
    "             'くれる', 'やる', 'くださる', 'そう', 'せる', 'した',  '思う',  \\\n",
    "             'それ', 'ここ', 'ちゃん', 'くん', '', 'て','に','を','は','の', 'が', 'と', 'た', 'し', 'で', \\\n",
    "             'ない', 'も', 'な', 'い', 'か', 'ので', 'よう', '']"
   ]
  },
  {
   "cell_type": "code",
   "execution_count": null,
   "metadata": {
    "colab": {},
    "colab_type": "code",
    "id": "QHA5fH3XmI33"
   },
   "outputs": [],
   "source": [
    "lyric_cloud = wordcloud.WordCloud(background_color=\"white\", \n",
    "                                  font_path=fpath,\n",
    "                                  width=900, \n",
    "                                  height=500,\n",
    "                                  stopwords=stop_words).generate(words_str)"
   ]
  },
  {
   "cell_type": "code",
   "execution_count": null,
   "metadata": {
    "colab": {
     "base_uri": "https://localhost:8080/",
     "height": 496
    },
    "colab_type": "code",
    "id": "QM5qCwz3mWiU",
    "outputId": "cf39d686-4b5e-45a6-ef3d-34c021a18da5"
   },
   "outputs": [],
   "source": [
    "plt.figure(figsize=(15,12))\n",
    "plt.imshow(lyric_cloud)\n",
    "plt.axis(\"off\")\n",
    "plt.show()"
   ]
  },
  {
   "cell_type": "markdown",
   "metadata": {
    "colab_type": "text",
    "id": "fatGHYIgql1Y"
   },
   "source": [
    "# BERTで歌詞をしてみる（秋元康編）\n"
   ]
  },
  {
   "cell_type": "code",
   "execution_count": 6,
   "metadata": {
    "colab": {},
    "colab_type": "code",
    "id": "lowerWxp9SqV",
    "scrolled": true
   },
   "outputs": [
    {
     "name": "stdout",
     "output_type": "stream",
     "text": [
      "Requirement already satisfied: tqdm in /opt/anaconda3/lib/python3.7/site-packages (4.40.2)\n",
      "Enabling notebook extension jupyter-js-widgets/extension...\n",
      "      - Validating: \u001b[32mOK\u001b[0m\n"
     ]
    }
   ],
   "source": [
    "!pip install tqdm\n",
    "!jupyter nbextension enable --py --sys-prefix widgetsnbextension"
   ]
  },
  {
   "cell_type": "code",
   "execution_count": 7,
   "metadata": {
    "colab": {
     "base_uri": "https://localhost:8080/",
     "height": 136
    },
    "colab_type": "code",
    "id": "QWffTx9YFus4",
    "outputId": "88d8c5b2-ba5f-4a51-bb0c-04eb26808c33",
    "scrolled": true
   },
   "outputs": [
    {
     "name": "stdout",
     "output_type": "stream",
     "text": [
      "Requirement already satisfied: transformers in /opt/anaconda3/lib/python3.7/site-packages (2.4.1)\n",
      "Requirement already satisfied: sacremoses in /opt/anaconda3/lib/python3.7/site-packages (from transformers) (0.0.38)\n",
      "Requirement already satisfied: regex!=2019.12.17 in /opt/anaconda3/lib/python3.7/site-packages (from transformers) (2019.8.19)\n",
      "Requirement already satisfied: requests in /opt/anaconda3/lib/python3.7/site-packages (from transformers) (2.22.0)\n",
      "Requirement already satisfied: filelock in /opt/anaconda3/lib/python3.7/site-packages (from transformers) (3.0.12)\n",
      "Requirement already satisfied: boto3 in /opt/anaconda3/lib/python3.7/site-packages (from transformers) (1.11.9)\n",
      "Requirement already satisfied: tqdm>=4.27 in /opt/anaconda3/lib/python3.7/site-packages (from transformers) (4.40.2)\n",
      "Requirement already satisfied: sentencepiece in /opt/anaconda3/lib/python3.7/site-packages (from transformers) (0.1.85)\n",
      "Requirement already satisfied: tokenizers==0.0.11 in /opt/anaconda3/lib/python3.7/site-packages (from transformers) (0.0.11)\n",
      "Requirement already satisfied: numpy in /opt/anaconda3/lib/python3.7/site-packages (from transformers) (1.17.4)\n",
      "Requirement already satisfied: click in /opt/anaconda3/lib/python3.7/site-packages (from sacremoses->transformers) (7.0)\n",
      "Requirement already satisfied: joblib in /opt/anaconda3/lib/python3.7/site-packages (from sacremoses->transformers) (0.14.1)\n",
      "Requirement already satisfied: six in /opt/anaconda3/lib/python3.7/site-packages (from sacremoses->transformers) (1.14.0)\n",
      "Requirement already satisfied: certifi>=2017.4.17 in /opt/anaconda3/lib/python3.7/site-packages (from requests->transformers) (2019.11.28)\n",
      "Requirement already satisfied: chardet<3.1.0,>=3.0.2 in /opt/anaconda3/lib/python3.7/site-packages (from requests->transformers) (3.0.4)\n",
      "Requirement already satisfied: urllib3!=1.25.0,!=1.25.1,<1.26,>=1.21.1 in /opt/anaconda3/lib/python3.7/site-packages (from requests->transformers) (1.24.2)\n",
      "Requirement already satisfied: idna<2.9,>=2.5 in /opt/anaconda3/lib/python3.7/site-packages (from requests->transformers) (2.8)\n",
      "Requirement already satisfied: jmespath<1.0.0,>=0.7.1 in /opt/anaconda3/lib/python3.7/site-packages (from boto3->transformers) (0.9.4)\n",
      "Requirement already satisfied: s3transfer<0.4.0,>=0.3.0 in /opt/anaconda3/lib/python3.7/site-packages (from boto3->transformers) (0.3.2)\n",
      "Requirement already satisfied: botocore<1.15.0,>=1.14.9 in /opt/anaconda3/lib/python3.7/site-packages (from boto3->transformers) (1.14.9)\n",
      "Requirement already satisfied: python-dateutil<3.0.0,>=2.1 in /opt/anaconda3/lib/python3.7/site-packages (from botocore<1.15.0,>=1.14.9->boto3->transformers) (2.8.1)\n",
      "Requirement already satisfied: docutils<0.16,>=0.10 in /opt/anaconda3/lib/python3.7/site-packages (from botocore<1.15.0,>=1.14.9->boto3->transformers) (0.15.2)\n",
      "Cloning into 'transformers'...\n",
      "remote: Enumerating objects: 4, done.\u001b[K\n",
      "remote: Counting objects: 100% (4/4), done.\u001b[K\n",
      "remote: Compressing objects: 100% (4/4), done.\u001b[K\n",
      "remote: Total 20079 (delta 0), reused 1 (delta 0), pack-reused 20075\u001b[K\n",
      "Receiving objects: 100% (20079/20079), 11.63 MiB | 12.41 MiB/s, done.\n",
      "Resolving deltas: 100% (14673/14673), done.\n"
     ]
    }
   ],
   "source": [
    "# Bertのコンポーネントの transformers をダウンロード\n",
    "!pip install transformers\n",
    "!git clone https://github.com/loverico/transformers.git\n",
    "!mkdir output\n"
   ]
  },
  {
   "cell_type": "markdown",
   "metadata": {},
   "source": [
    "## BERT とは\n",
    "自然言語処理に特化した事前学習済み機械学習モデル。\n",
    "人間の文章認識能力を超えたことが話題になった。\n",
    "### 事前学習済みモデルとは\n",
    "あらかじめ汎化性のあるタスクを学習しておいたモデルのこと。\n",
    "例えば、BERT の場合は、欠損した文章を与えてその欠損した箇所にはどんな単語が入るか推測させるなどのタスクを行う\n",
    "その学習されたモデルを用いて、個別のタスクで更に学習させることによって効果的な学習結果が期待できる(→転移学習と呼ぶ）\n",
    "\n"
   ]
  },
  {
   "cell_type": "code",
   "execution_count": 93,
   "metadata": {
    "colab": {},
    "colab_type": "code",
    "id": "moHpzooAqvXX"
   },
   "outputs": [],
   "source": [
    "# url\n",
    "import urllib.parse\n",
    "from tqdm import tqdm_notebook as tqdm\n",
    "#人気順（昇順）\n",
    "POPULAR_ASC = 3\n",
    "# 人気順（降順)\n",
    "POPULAR_DESC = 4\n",
    "# 作詞者氏名で検索\n",
    "SEARCH_TYPE_WRITER=3\n",
    "\n",
    "class LyricFetcher():\n",
    "    artist_name = None\n",
    "    base_url = None\n",
    "    lyrics_list = []\n",
    "    stop_words = []\n",
    "    def __init__(self,artist_name,base_url=BASE_URL):\n",
    "        self.artist_name = artist_name\n",
    "\n",
    "    def build_list_url(self, keyword, search_type=SEARCH_TYPE_WRITER, sort_type=POPULAR_ASC):\n",
    "        return f\"https://www.uta-net.com/search/?Aselect={search_type}&Bselect=3&Keyword={urllib.parse.quote(keyword)}&sort={sort_type}\"\n",
    "    \n",
    "    def remove_stop_words(self,words=[], stop_words=[]):\n",
    "        if len(stop_words)> 0:\n",
    "            self.stop_wrods = stop_words\n",
    "        return [word for word in words if word not in self.stop_words]\n",
    "        \n",
    "    def extract_track_urls(self, td_list, fetch_cnt):\n",
    "        track_urls = []\n",
    "        for td in td_list:\n",
    "          # a タグのリストを取得し、1つずつ処理\n",
    "          for a in self.get_tags(td, 'a'):\n",
    "            # aタグのhref属性を取得\n",
    "            href = a.get('href')\n",
    "            # URLに'song'が入っている場合\n",
    "            if 'song' in href:\n",
    "              # track_urls に完全なURLを追加\n",
    "              track_urls.append(BASE_URL + href)\n",
    "        print(len(track_urls[:fetch_cnt]))\n",
    "        return track_urls[:fetch_cnt]\n",
    "\n",
    "    def get_tags(self, page, target_tag):\n",
    "        soup = bs4.BeautifulSoup(str(page), 'html.parser')\n",
    "        tags = soup.find_all(target_tag)\n",
    "        return tags\n",
    "\n",
    "    def load_page(self, url):\n",
    "        response = requests.get(url)\n",
    "        response.raise_for_status()\n",
    "        return response.text \n",
    "\n",
    "    def fetch_lyric(self, track_url):\n",
    "        if track_url == \"\":\n",
    "            return None\n",
    "        lyric_page = load_page(track_url)\n",
    "        soup = bs4.BeautifulSoup(lyric_page, 'html.parser')\n",
    "        # アクセス過多を防ぐために１秒間休止\n",
    "        time.sleep(1)\n",
    "        return soup.find(id='kashi_area').text.replace('　', ' ')\n",
    "\n",
    "    def run_fetch(self, fetch_cnt=10, sort_type=POPULAR_ASC):\n",
    "        # url 作成\n",
    "        url= self.build_list_url(self.artist_name, sort_type)\n",
    "        # アーティストページ取得\n",
    "        artist_page= self.load_page(url)\n",
    "        # td_list を作成\n",
    "        td_list = self.get_tags(artist_page, 'td')\n",
    "        # そこから曲のurlリストを抽出\n",
    "        track_urls= self.extract_track_urls(td_list, fetch_cnt)\n",
    "\n",
    "        for track_url in tqdm(track_urls):\n",
    "            self.lyrics_list.append(self.fetch_lyric(track_url))\n",
    "    \n",
    "    # return self.lyrics_list"
   ]
  },
  {
   "cell_type": "code",
   "execution_count": 94,
   "metadata": {
    "colab": {
     "base_uri": "https://localhost:8080/",
     "height": 443,
     "referenced_widgets": [
      "dddf7e91294a440aa87c8685e4156e73",
      "b53e63945ae44423bdbb59b7b128ab75",
      "dff0df5b98dd4ea4a83ad850bab4ce4d",
      "cb57607642b44d2badd2362ebbffd896",
      "e21b8159e7bc4d4e8c06aad3ceca5d3d",
      "a6af5129790b4da9a34ff02b85b6aa83",
      "c77fa8d06ff640b9822db7abf34e0e55",
      "d95f842c3723449588ca92a839fed2c9"
     ]
    },
    "colab_type": "code",
    "id": "NUGYGjRW1b0J",
    "outputId": "01e30419-44de-41e3-cd23-04734230fb55"
   },
   "outputs": [
    {
     "name": "stdout",
     "output_type": "stream",
     "text": [
      "20\n"
     ]
    },
    {
     "name": "stderr",
     "output_type": "stream",
     "text": [
      "/opt/anaconda3/lib/python3.7/site-packages/ipykernel_launcher.py:70: TqdmDeprecationWarning: This function will be removed in tqdm==5.0.0\n",
      "Please use `tqdm.notebook.tqdm` instead of `tqdm.tqdm_notebook`\n"
     ]
    },
    {
     "data": {
      "application/vnd.jupyter.widget-view+json": {
       "model_id": "1e3e696dae6a48b9bbe4e124a5302215",
       "version_major": 2,
       "version_minor": 0
      },
      "text/plain": [
       "HBox(children=(FloatProgress(value=0.0, max=20.0), HTML(value='')))"
      ]
     },
     "metadata": {},
     "output_type": "display_data"
    },
    {
     "name": "stdout",
     "output_type": "stream",
     "text": [
      "\n"
     ]
    }
   ],
   "source": [
    "akimoto_lyrics = LyricFetcher(\"秋元康\")\n",
    "akimoto_lyrics.run_fetch(fetch_cnt=20, sort_type=POPULAR_ASC)"
   ]
  },
  {
   "cell_type": "code",
   "execution_count": 16,
   "metadata": {
    "colab": {},
    "colab_type": "code",
    "id": "aQaMKJ8tuo3a"
   },
   "outputs": [],
   "source": [
    "from transformers import BertJapaneseTokenizer\n",
    "tokenizer = BertJapaneseTokenizer.from_pretrained('bert-base-japanese-whole-word-masking')\n",
    "track_token=tokenizer.tokenize(akimoto_lyrics.lyrics_list[0])"
   ]
  },
  {
   "cell_type": "code",
   "execution_count": 12,
   "metadata": {
    "colab": {},
    "colab_type": "code",
    "id": "i5IiKemYCHH5"
   },
   "outputs": [
    {
     "data": {
      "text/plain": [
       "'君も頑張れ そうだ みんなして頑張ろうしあわせは誰かからもらうものじゃなく掴むものその手を伸ばせよ今 この世界には見えない悲しみがどれだけ存在して 人々を泣かすのか？地球上のどこかに涙を溜めてる貯水池とかがあるなら 底の栓を抜いてしまえ一日が終わるまでに日向(ひなた)を探そう暖かくてほっとするそう 自分の居場所がきっと見つかるだろう僕も頑張る だから みんなも頑張れ誰も諦めなければ 未来だって輝いてるよ夢を見続けよう もしもそれが叶わなくても何かゴールがあったらモチベーションだ一緒に笑顔になろうなぜ笑ってる人と泣いてる人がいるの？しあわせの分配は 元々 同じなのに…誰かが何かを独り占めしたのか？それとも誰かに何かをただ押し付けられたのか？眠れない長い夜は夢でも見るんだわくわくして楽しいよああ 他人と比較をしても意味がない空を頑張る 天気 まだまだ崩れるな雨 落ちて来なければ 夕陽だって美しいだろう夜は待っているか？ やがて星は仲間を連れて暗い時間に希望を生(う)もうとするすべてを全力で行こう僕も頑張る だから みんなも頑張れ誰も諦めなければ 未来だって輝いてるよ夢を見続けよう もしもそれが叶わなくても何かゴールがあったらモチベーションだ一緒に笑顔になろう'"
      ]
     },
     "execution_count": 12,
     "metadata": {},
     "output_type": "execute_result"
    }
   ],
   "source": [
    "akimoto_lyrics.lyrics_list[0]"
   ]
  },
  {
   "cell_type": "code",
   "execution_count": 97,
   "metadata": {},
   "outputs": [
    {
     "ename": "ImportError",
     "evalue": "cannot import name 'WarmupLinearSchedule' from 'transformers.optimization' (/opt/anaconda3/lib/python3.7/site-packages/transformers/optimization.py)",
     "output_type": "error",
     "traceback": [
      "\u001b[0;31m---------------------------------------------------------------------------\u001b[0m",
      "\u001b[0;31mImportError\u001b[0m                               Traceback (most recent call last)",
      "\u001b[0;32m<ipython-input-97-4c6ddc82461a>\u001b[0m in \u001b[0;36m<module>\u001b[0;34m\u001b[0m\n\u001b[0;32m----> 1\u001b[0;31m \u001b[0;32mfrom\u001b[0m \u001b[0mtransformers\u001b[0m\u001b[0;34m.\u001b[0m\u001b[0moptimization\u001b[0m \u001b[0;32mimport\u001b[0m \u001b[0mAdamW\u001b[0m\u001b[0;34m,\u001b[0m \u001b[0mWarmupLinearSchedule\u001b[0m\u001b[0;34m\u001b[0m\u001b[0;34m\u001b[0m\u001b[0m\n\u001b[0m",
      "\u001b[0;31mImportError\u001b[0m: cannot import name 'WarmupLinearSchedule' from 'transformers.optimization' (/opt/anaconda3/lib/python3.7/site-packages/transformers/optimization.py)"
     ]
    }
   ],
   "source": [
    "from transformers.optimization import AdamW, WarmupLinearSchedule"
   ]
  },
  {
   "cell_type": "code",
   "execution_count": 96,
   "metadata": {},
   "outputs": [],
   "source": [
    "from transformers import get_linear_schedule_with_warmup"
   ]
  },
  {
   "cell_type": "code",
   "execution_count": 113,
   "metadata": {},
   "outputs": [],
   "source": [
    "#file　書き込み\n",
    "path_w = \"./hoge.txt\"\n",
    "with open(path_w, mode='w') as f:\n",
    "    \n",
    "    for lyric in akimoto_lyrics.lyrics_list:\n",
    "        row= mecab_parser(lyric)\n",
    "        f.write(\" \".join(row))    "
   ]
  },
  {
   "cell_type": "code",
   "execution_count": null,
   "metadata": {},
   "outputs": [],
   "source": []
  }
 ],
 "metadata": {
  "colab": {
   "collapsed_sections": [],
   "include_colab_link": true,
   "name": "[Python講座]第5回歌詞サイトのスクレイピング.ipynb",
   "provenance": [],
   "toc_visible": true
  },
  "kernelspec": {
   "display_name": "Python 3",
   "language": "python",
   "name": "python3"
  },
  "language_info": {
   "codemirror_mode": {
    "name": "ipython",
    "version": 3
   },
   "file_extension": ".py",
   "mimetype": "text/x-python",
   "name": "python",
   "nbconvert_exporter": "python",
   "pygments_lexer": "ipython3",
   "version": "3.7.4"
  },
  "widgets": {
   "application/vnd.jupyter.widget-state+json": {
    "a6af5129790b4da9a34ff02b85b6aa83": {
     "model_module": "@jupyter-widgets/base",
     "model_name": "LayoutModel",
     "state": {
      "_model_module": "@jupyter-widgets/base",
      "_model_module_version": "1.2.0",
      "_model_name": "LayoutModel",
      "_view_count": null,
      "_view_module": "@jupyter-widgets/base",
      "_view_module_version": "1.2.0",
      "_view_name": "LayoutView",
      "align_content": null,
      "align_items": null,
      "align_self": null,
      "border": null,
      "bottom": null,
      "display": null,
      "flex": null,
      "flex_flow": null,
      "grid_area": null,
      "grid_auto_columns": null,
      "grid_auto_flow": null,
      "grid_auto_rows": null,
      "grid_column": null,
      "grid_gap": null,
      "grid_row": null,
      "grid_template_areas": null,
      "grid_template_columns": null,
      "grid_template_rows": null,
      "height": null,
      "justify_content": null,
      "justify_items": null,
      "left": null,
      "margin": null,
      "max_height": null,
      "max_width": null,
      "min_height": null,
      "min_width": null,
      "object_fit": null,
      "object_position": null,
      "order": null,
      "overflow": null,
      "overflow_x": null,
      "overflow_y": null,
      "padding": null,
      "right": null,
      "top": null,
      "visibility": null,
      "width": null
     }
    },
    "b53e63945ae44423bdbb59b7b128ab75": {
     "model_module": "@jupyter-widgets/base",
     "model_name": "LayoutModel",
     "state": {
      "_model_module": "@jupyter-widgets/base",
      "_model_module_version": "1.2.0",
      "_model_name": "LayoutModel",
      "_view_count": null,
      "_view_module": "@jupyter-widgets/base",
      "_view_module_version": "1.2.0",
      "_view_name": "LayoutView",
      "align_content": null,
      "align_items": null,
      "align_self": null,
      "border": null,
      "bottom": null,
      "display": null,
      "flex": null,
      "flex_flow": null,
      "grid_area": null,
      "grid_auto_columns": null,
      "grid_auto_flow": null,
      "grid_auto_rows": null,
      "grid_column": null,
      "grid_gap": null,
      "grid_row": null,
      "grid_template_areas": null,
      "grid_template_columns": null,
      "grid_template_rows": null,
      "height": null,
      "justify_content": null,
      "justify_items": null,
      "left": null,
      "margin": null,
      "max_height": null,
      "max_width": null,
      "min_height": null,
      "min_width": null,
      "object_fit": null,
      "object_position": null,
      "order": null,
      "overflow": null,
      "overflow_x": null,
      "overflow_y": null,
      "padding": null,
      "right": null,
      "top": null,
      "visibility": null,
      "width": null
     }
    },
    "c77fa8d06ff640b9822db7abf34e0e55": {
     "model_module": "@jupyter-widgets/controls",
     "model_name": "DescriptionStyleModel",
     "state": {
      "_model_module": "@jupyter-widgets/controls",
      "_model_module_version": "1.5.0",
      "_model_name": "DescriptionStyleModel",
      "_view_count": null,
      "_view_module": "@jupyter-widgets/base",
      "_view_module_version": "1.2.0",
      "_view_name": "StyleView",
      "description_width": ""
     }
    },
    "cb57607642b44d2badd2362ebbffd896": {
     "model_module": "@jupyter-widgets/controls",
     "model_name": "HTMLModel",
     "state": {
      "_dom_classes": [],
      "_model_module": "@jupyter-widgets/controls",
      "_model_module_version": "1.5.0",
      "_model_name": "HTMLModel",
      "_view_count": null,
      "_view_module": "@jupyter-widgets/controls",
      "_view_module_version": "1.5.0",
      "_view_name": "HTMLView",
      "description": "",
      "description_tooltip": null,
      "layout": "IPY_MODEL_d95f842c3723449588ca92a839fed2c9",
      "placeholder": "​",
      "style": "IPY_MODEL_c77fa8d06ff640b9822db7abf34e0e55",
      "value": "100% 20/20 [00:26&lt;00:00,  1.32s/it]"
     }
    },
    "d95f842c3723449588ca92a839fed2c9": {
     "model_module": "@jupyter-widgets/base",
     "model_name": "LayoutModel",
     "state": {
      "_model_module": "@jupyter-widgets/base",
      "_model_module_version": "1.2.0",
      "_model_name": "LayoutModel",
      "_view_count": null,
      "_view_module": "@jupyter-widgets/base",
      "_view_module_version": "1.2.0",
      "_view_name": "LayoutView",
      "align_content": null,
      "align_items": null,
      "align_self": null,
      "border": null,
      "bottom": null,
      "display": null,
      "flex": null,
      "flex_flow": null,
      "grid_area": null,
      "grid_auto_columns": null,
      "grid_auto_flow": null,
      "grid_auto_rows": null,
      "grid_column": null,
      "grid_gap": null,
      "grid_row": null,
      "grid_template_areas": null,
      "grid_template_columns": null,
      "grid_template_rows": null,
      "height": null,
      "justify_content": null,
      "justify_items": null,
      "left": null,
      "margin": null,
      "max_height": null,
      "max_width": null,
      "min_height": null,
      "min_width": null,
      "object_fit": null,
      "object_position": null,
      "order": null,
      "overflow": null,
      "overflow_x": null,
      "overflow_y": null,
      "padding": null,
      "right": null,
      "top": null,
      "visibility": null,
      "width": null
     }
    },
    "dddf7e91294a440aa87c8685e4156e73": {
     "model_module": "@jupyter-widgets/controls",
     "model_name": "HBoxModel",
     "state": {
      "_dom_classes": [],
      "_model_module": "@jupyter-widgets/controls",
      "_model_module_version": "1.5.0",
      "_model_name": "HBoxModel",
      "_view_count": null,
      "_view_module": "@jupyter-widgets/controls",
      "_view_module_version": "1.5.0",
      "_view_name": "HBoxView",
      "box_style": "",
      "children": [
       "IPY_MODEL_dff0df5b98dd4ea4a83ad850bab4ce4d",
       "IPY_MODEL_cb57607642b44d2badd2362ebbffd896"
      ],
      "layout": "IPY_MODEL_b53e63945ae44423bdbb59b7b128ab75"
     }
    },
    "dff0df5b98dd4ea4a83ad850bab4ce4d": {
     "model_module": "@jupyter-widgets/controls",
     "model_name": "IntProgressModel",
     "state": {
      "_dom_classes": [],
      "_model_module": "@jupyter-widgets/controls",
      "_model_module_version": "1.5.0",
      "_model_name": "IntProgressModel",
      "_view_count": null,
      "_view_module": "@jupyter-widgets/controls",
      "_view_module_version": "1.5.0",
      "_view_name": "ProgressView",
      "bar_style": "success",
      "description": "",
      "description_tooltip": null,
      "layout": "IPY_MODEL_a6af5129790b4da9a34ff02b85b6aa83",
      "max": 20,
      "min": 0,
      "orientation": "horizontal",
      "style": "IPY_MODEL_e21b8159e7bc4d4e8c06aad3ceca5d3d",
      "value": 20
     }
    },
    "e21b8159e7bc4d4e8c06aad3ceca5d3d": {
     "model_module": "@jupyter-widgets/controls",
     "model_name": "ProgressStyleModel",
     "state": {
      "_model_module": "@jupyter-widgets/controls",
      "_model_module_version": "1.5.0",
      "_model_name": "ProgressStyleModel",
      "_view_count": null,
      "_view_module": "@jupyter-widgets/base",
      "_view_module_version": "1.2.0",
      "_view_name": "StyleView",
      "bar_color": null,
      "description_width": ""
     }
    }
   }
  }
 },
 "nbformat": 4,
 "nbformat_minor": 4
}
