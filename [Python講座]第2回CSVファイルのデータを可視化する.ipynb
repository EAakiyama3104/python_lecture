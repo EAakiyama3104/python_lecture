{
 "cells": [
  {
   "cell_type": "markdown",
   "metadata": {
    "colab_type": "text",
    "id": "view-in-github"
   },
   "source": [
    "<a href=\"https://colab.research.google.com/github/EAakiyama3104/python_lecture/blob/master/%5BPython%E8%AC%9B%E5%BA%A7%5D%E7%AC%AC2%E5%9B%9ECSV%E3%83%95%E3%82%A1%E3%82%A4%E3%83%AB%E3%81%AE%E3%83%87%E3%83%BC%E3%82%BF%E3%82%92%E5%8F%AF%E8%A6%96%E5%8C%96%E3%81%99%E3%82%8B.ipynb\" target=\"_parent\"><img src=\"https://colab.research.google.com/assets/colab-badge.svg\" alt=\"Open In Colab\"/></a>"
   ]
  },
  {
   "cell_type": "markdown",
   "metadata": {
    "colab_type": "text",
    "id": "qneYyYx4yUOb"
   },
   "source": [
    "## 今回学ぶこと\n",
    "\n",
    "* CSV データをPythonプログラムに読み込む方法\n",
    "* Pandas を用いてデータをを扱う方法\n",
    "* Seaborn でデータを描画する方法\n",
    "\n"
   ]
  },
  {
   "cell_type": "markdown",
   "metadata": {
    "colab_type": "text",
    "id": "PUI7p_ptLprI"
   },
   "source": [
    "## Pandasについて"
   ]
  },
  {
   "cell_type": "markdown",
   "metadata": {
    "colab_type": "text",
    "id": "0bUNayhEeHoX"
   },
   "source": [
    "Pandas とは\n",
    "\n",
    "* Pythonにおいて、データ解析を支援する機能を提供するライブラリ\n",
    "* データ操作を行うための DataFrame クラスを持つ。DataFrame内のデータをデータベースのように扱える。\n",
    "* CSVなど、様々なデータを簡単に読み込める\n",
    "\n"
   ]
  },
  {
   "cell_type": "code",
   "execution_count": 1,
   "metadata": {
    "colab": {},
    "colab_type": "code",
    "id": "-ssexDsYLwI7"
   },
   "outputs": [],
   "source": [
    "import pandas as pd"
   ]
  },
  {
   "cell_type": "markdown",
   "metadata": {
    "colab_type": "text",
    "id": "SPb-sfBiLyje"
   },
   "source": [
    "## Python の可視化ライブラリ"
   ]
  },
  {
   "cell_type": "markdown",
   "metadata": {
    "colab_type": "text",
    "id": "-ZOudd3ugmp_"
   },
   "source": [
    "matplotlib について\n",
    "\n",
    "* Python でグラフを描くためのライブラリ\n",
    "\n",
    "\n",
    "seaborn について\n",
    "\n",
    "* matplotlib のグラフを簡単にきれいに描画できるライブラリ\n",
    "\n",
    "例: https://seaborn.pydata.org/examples/index.html\n",
    "\n",
    "この講座ではseabornを使ってグラフを描画します"
   ]
  },
  {
   "cell_type": "code",
   "execution_count": 2,
   "metadata": {
    "colab": {},
    "colab_type": "code",
    "id": "hVj2YHJ3s9cb"
   },
   "outputs": [],
   "source": [
    "import seaborn as sns\n",
    "\n",
    "# グラフのデザインを指定\n",
    "sns.set(style=\"whitegrid\")\n",
    "\n",
    "# ライブラリの中に含まれているサンプルデータセットを読み込み\n",
    "titanic = sns.load_dataset(\"titanic\")"
   ]
  },
  {
   "cell_type": "code",
   "execution_count": null,
   "metadata": {
    "colab": {
     "base_uri": "https://localhost:8080/",
     "height": 402
    },
    "colab_type": "code",
    "id": "quGc79Ldj9w0",
    "outputId": "7ac470c0-f211-4310-a08f-c3a651984ffe"
   },
   "outputs": [
    {
     "data": {
      "text/html": [
       "<div>\n",
       "<style scoped>\n",
       "    .dataframe tbody tr th:only-of-type {\n",
       "        vertical-align: middle;\n",
       "    }\n",
       "\n",
       "    .dataframe tbody tr th {\n",
       "        vertical-align: top;\n",
       "    }\n",
       "\n",
       "    .dataframe thead th {\n",
       "        text-align: right;\n",
       "    }\n",
       "</style>\n",
       "<table border=\"1\" class=\"dataframe\">\n",
       "  <thead>\n",
       "    <tr style=\"text-align: right;\">\n",
       "      <th></th>\n",
       "      <th>survived</th>\n",
       "      <th>pclass</th>\n",
       "      <th>sex</th>\n",
       "      <th>age</th>\n",
       "      <th>sibsp</th>\n",
       "      <th>parch</th>\n",
       "      <th>fare</th>\n",
       "      <th>embarked</th>\n",
       "      <th>class</th>\n",
       "      <th>who</th>\n",
       "      <th>adult_male</th>\n",
       "      <th>deck</th>\n",
       "      <th>embark_town</th>\n",
       "      <th>alive</th>\n",
       "      <th>alone</th>\n",
       "    </tr>\n",
       "  </thead>\n",
       "  <tbody>\n",
       "    <tr>\n",
       "      <th>0</th>\n",
       "      <td>0</td>\n",
       "      <td>3</td>\n",
       "      <td>male</td>\n",
       "      <td>22.0</td>\n",
       "      <td>1</td>\n",
       "      <td>0</td>\n",
       "      <td>7.2500</td>\n",
       "      <td>S</td>\n",
       "      <td>Third</td>\n",
       "      <td>man</td>\n",
       "      <td>True</td>\n",
       "      <td>NaN</td>\n",
       "      <td>Southampton</td>\n",
       "      <td>no</td>\n",
       "      <td>False</td>\n",
       "    </tr>\n",
       "    <tr>\n",
       "      <th>1</th>\n",
       "      <td>1</td>\n",
       "      <td>1</td>\n",
       "      <td>female</td>\n",
       "      <td>38.0</td>\n",
       "      <td>1</td>\n",
       "      <td>0</td>\n",
       "      <td>71.2833</td>\n",
       "      <td>C</td>\n",
       "      <td>First</td>\n",
       "      <td>woman</td>\n",
       "      <td>False</td>\n",
       "      <td>C</td>\n",
       "      <td>Cherbourg</td>\n",
       "      <td>yes</td>\n",
       "      <td>False</td>\n",
       "    </tr>\n",
       "    <tr>\n",
       "      <th>2</th>\n",
       "      <td>1</td>\n",
       "      <td>3</td>\n",
       "      <td>female</td>\n",
       "      <td>26.0</td>\n",
       "      <td>0</td>\n",
       "      <td>0</td>\n",
       "      <td>7.9250</td>\n",
       "      <td>S</td>\n",
       "      <td>Third</td>\n",
       "      <td>woman</td>\n",
       "      <td>False</td>\n",
       "      <td>NaN</td>\n",
       "      <td>Southampton</td>\n",
       "      <td>yes</td>\n",
       "      <td>True</td>\n",
       "    </tr>\n",
       "    <tr>\n",
       "      <th>3</th>\n",
       "      <td>1</td>\n",
       "      <td>1</td>\n",
       "      <td>female</td>\n",
       "      <td>35.0</td>\n",
       "      <td>1</td>\n",
       "      <td>0</td>\n",
       "      <td>53.1000</td>\n",
       "      <td>S</td>\n",
       "      <td>First</td>\n",
       "      <td>woman</td>\n",
       "      <td>False</td>\n",
       "      <td>C</td>\n",
       "      <td>Southampton</td>\n",
       "      <td>yes</td>\n",
       "      <td>False</td>\n",
       "    </tr>\n",
       "    <tr>\n",
       "      <th>4</th>\n",
       "      <td>0</td>\n",
       "      <td>3</td>\n",
       "      <td>male</td>\n",
       "      <td>35.0</td>\n",
       "      <td>0</td>\n",
       "      <td>0</td>\n",
       "      <td>8.0500</td>\n",
       "      <td>S</td>\n",
       "      <td>Third</td>\n",
       "      <td>man</td>\n",
       "      <td>True</td>\n",
       "      <td>NaN</td>\n",
       "      <td>Southampton</td>\n",
       "      <td>no</td>\n",
       "      <td>True</td>\n",
       "    </tr>\n",
       "    <tr>\n",
       "      <th>...</th>\n",
       "      <td>...</td>\n",
       "      <td>...</td>\n",
       "      <td>...</td>\n",
       "      <td>...</td>\n",
       "      <td>...</td>\n",
       "      <td>...</td>\n",
       "      <td>...</td>\n",
       "      <td>...</td>\n",
       "      <td>...</td>\n",
       "      <td>...</td>\n",
       "      <td>...</td>\n",
       "      <td>...</td>\n",
       "      <td>...</td>\n",
       "      <td>...</td>\n",
       "      <td>...</td>\n",
       "    </tr>\n",
       "    <tr>\n",
       "      <th>886</th>\n",
       "      <td>0</td>\n",
       "      <td>2</td>\n",
       "      <td>male</td>\n",
       "      <td>27.0</td>\n",
       "      <td>0</td>\n",
       "      <td>0</td>\n",
       "      <td>13.0000</td>\n",
       "      <td>S</td>\n",
       "      <td>Second</td>\n",
       "      <td>man</td>\n",
       "      <td>True</td>\n",
       "      <td>NaN</td>\n",
       "      <td>Southampton</td>\n",
       "      <td>no</td>\n",
       "      <td>True</td>\n",
       "    </tr>\n",
       "    <tr>\n",
       "      <th>887</th>\n",
       "      <td>1</td>\n",
       "      <td>1</td>\n",
       "      <td>female</td>\n",
       "      <td>19.0</td>\n",
       "      <td>0</td>\n",
       "      <td>0</td>\n",
       "      <td>30.0000</td>\n",
       "      <td>S</td>\n",
       "      <td>First</td>\n",
       "      <td>woman</td>\n",
       "      <td>False</td>\n",
       "      <td>B</td>\n",
       "      <td>Southampton</td>\n",
       "      <td>yes</td>\n",
       "      <td>True</td>\n",
       "    </tr>\n",
       "    <tr>\n",
       "      <th>888</th>\n",
       "      <td>0</td>\n",
       "      <td>3</td>\n",
       "      <td>female</td>\n",
       "      <td>NaN</td>\n",
       "      <td>1</td>\n",
       "      <td>2</td>\n",
       "      <td>23.4500</td>\n",
       "      <td>S</td>\n",
       "      <td>Third</td>\n",
       "      <td>woman</td>\n",
       "      <td>False</td>\n",
       "      <td>NaN</td>\n",
       "      <td>Southampton</td>\n",
       "      <td>no</td>\n",
       "      <td>False</td>\n",
       "    </tr>\n",
       "    <tr>\n",
       "      <th>889</th>\n",
       "      <td>1</td>\n",
       "      <td>1</td>\n",
       "      <td>male</td>\n",
       "      <td>26.0</td>\n",
       "      <td>0</td>\n",
       "      <td>0</td>\n",
       "      <td>30.0000</td>\n",
       "      <td>C</td>\n",
       "      <td>First</td>\n",
       "      <td>man</td>\n",
       "      <td>True</td>\n",
       "      <td>C</td>\n",
       "      <td>Cherbourg</td>\n",
       "      <td>yes</td>\n",
       "      <td>True</td>\n",
       "    </tr>\n",
       "    <tr>\n",
       "      <th>890</th>\n",
       "      <td>0</td>\n",
       "      <td>3</td>\n",
       "      <td>male</td>\n",
       "      <td>32.0</td>\n",
       "      <td>0</td>\n",
       "      <td>0</td>\n",
       "      <td>7.7500</td>\n",
       "      <td>Q</td>\n",
       "      <td>Third</td>\n",
       "      <td>man</td>\n",
       "      <td>True</td>\n",
       "      <td>NaN</td>\n",
       "      <td>Queenstown</td>\n",
       "      <td>no</td>\n",
       "      <td>True</td>\n",
       "    </tr>\n",
       "  </tbody>\n",
       "</table>\n",
       "<p>891 rows × 15 columns</p>\n",
       "</div>"
      ],
      "text/plain": [
       "     survived  pclass     sex   age  ...  deck  embark_town  alive  alone\n",
       "0           0       3    male  22.0  ...   NaN  Southampton     no  False\n",
       "1           1       1  female  38.0  ...     C    Cherbourg    yes  False\n",
       "2           1       3  female  26.0  ...   NaN  Southampton    yes   True\n",
       "3           1       1  female  35.0  ...     C  Southampton    yes  False\n",
       "4           0       3    male  35.0  ...   NaN  Southampton     no   True\n",
       "..        ...     ...     ...   ...  ...   ...          ...    ...    ...\n",
       "886         0       2    male  27.0  ...   NaN  Southampton     no   True\n",
       "887         1       1  female  19.0  ...     B  Southampton    yes   True\n",
       "888         0       3  female   NaN  ...   NaN  Southampton     no  False\n",
       "889         1       1    male  26.0  ...     C    Cherbourg    yes   True\n",
       "890         0       3    male  32.0  ...   NaN   Queenstown     no   True\n",
       "\n",
       "[891 rows x 15 columns]"
      ]
     },
     "execution_count": 41,
     "metadata": {
      "tags": []
     },
     "output_type": "execute_result"
    }
   ],
   "source": [
    "titanic"
   ]
  },
  {
   "cell_type": "code",
   "execution_count": null,
   "metadata": {
    "colab": {
     "base_uri": "https://localhost:8080/",
     "height": 454
    },
    "colab_type": "code",
    "id": "QUJ_EtFitvK7",
    "outputId": "0a157935-5f6c-4fa1-cb5c-a44b74c7688d"
   },
   "outputs": [
    {
     "data": {
      "text/plain": [
       "<seaborn.axisgrid.FacetGrid at 0x7fbec6acd5f8>"
      ]
     },
     "execution_count": 42,
     "metadata": {
      "tags": []
     },
     "output_type": "execute_result"
    },
    {
     "data": {
      "image/png": "[encoded data removed]",
      "text/plain": [
       "<Figure size 509.975x432 with 1 Axes>"
      ]
     },
     "metadata": {
      "tags": []
     },
     "output_type": "display_data"
    }
   ],
   "source": [
    "# 棒グラフを描画\n",
    "g = sns.catplot(x=\"class\", y=\"survived\", hue=\"sex\", data=titanic,\n",
    "                height=6, kind=\"bar\", palette=\"muted\")\n",
    "# 軸を除去\n",
    "g.despine(left=True)\n",
    "# y軸のラベルに名前を付ける\n",
    "g.set_ylabels(\"survival probability\")"
   ]
  },
  {
   "cell_type": "code",
   "execution_count": 7,
   "metadata": {},
   "outputs": [
    {
     "data": {
      "text/html": [
       "<div>\n",
       "<style scoped>\n",
       "    .dataframe tbody tr th:only-of-type {\n",
       "        vertical-align: middle;\n",
       "    }\n",
       "\n",
       "    .dataframe tbody tr th {\n",
       "        vertical-align: top;\n",
       "    }\n",
       "\n",
       "    .dataframe thead th {\n",
       "        text-align: right;\n",
       "    }\n",
       "</style>\n",
       "<table border=\"1\" class=\"dataframe\">\n",
       "  <thead>\n",
       "    <tr style=\"text-align: right;\">\n",
       "      <th></th>\n",
       "      <th>subject</th>\n",
       "      <th>timepoint</th>\n",
       "      <th>event</th>\n",
       "      <th>region</th>\n",
       "      <th>signal</th>\n",
       "    </tr>\n",
       "  </thead>\n",
       "  <tbody>\n",
       "    <tr>\n",
       "      <th>0</th>\n",
       "      <td>s13</td>\n",
       "      <td>18</td>\n",
       "      <td>stim</td>\n",
       "      <td>parietal</td>\n",
       "      <td>-0.017552</td>\n",
       "    </tr>\n",
       "    <tr>\n",
       "      <th>1</th>\n",
       "      <td>s5</td>\n",
       "      <td>14</td>\n",
       "      <td>stim</td>\n",
       "      <td>parietal</td>\n",
       "      <td>-0.080883</td>\n",
       "    </tr>\n",
       "    <tr>\n",
       "      <th>2</th>\n",
       "      <td>s12</td>\n",
       "      <td>18</td>\n",
       "      <td>stim</td>\n",
       "      <td>parietal</td>\n",
       "      <td>-0.081033</td>\n",
       "    </tr>\n",
       "    <tr>\n",
       "      <th>3</th>\n",
       "      <td>s11</td>\n",
       "      <td>18</td>\n",
       "      <td>stim</td>\n",
       "      <td>parietal</td>\n",
       "      <td>-0.046134</td>\n",
       "    </tr>\n",
       "    <tr>\n",
       "      <th>4</th>\n",
       "      <td>s10</td>\n",
       "      <td>18</td>\n",
       "      <td>stim</td>\n",
       "      <td>parietal</td>\n",
       "      <td>-0.037970</td>\n",
       "    </tr>\n",
       "    <tr>\n",
       "      <th>...</th>\n",
       "      <td>...</td>\n",
       "      <td>...</td>\n",
       "      <td>...</td>\n",
       "      <td>...</td>\n",
       "      <td>...</td>\n",
       "    </tr>\n",
       "    <tr>\n",
       "      <th>1059</th>\n",
       "      <td>s0</td>\n",
       "      <td>8</td>\n",
       "      <td>cue</td>\n",
       "      <td>frontal</td>\n",
       "      <td>0.018165</td>\n",
       "    </tr>\n",
       "    <tr>\n",
       "      <th>1060</th>\n",
       "      <td>s13</td>\n",
       "      <td>7</td>\n",
       "      <td>cue</td>\n",
       "      <td>frontal</td>\n",
       "      <td>-0.029130</td>\n",
       "    </tr>\n",
       "    <tr>\n",
       "      <th>1061</th>\n",
       "      <td>s12</td>\n",
       "      <td>7</td>\n",
       "      <td>cue</td>\n",
       "      <td>frontal</td>\n",
       "      <td>-0.004939</td>\n",
       "    </tr>\n",
       "    <tr>\n",
       "      <th>1062</th>\n",
       "      <td>s11</td>\n",
       "      <td>7</td>\n",
       "      <td>cue</td>\n",
       "      <td>frontal</td>\n",
       "      <td>-0.025367</td>\n",
       "    </tr>\n",
       "    <tr>\n",
       "      <th>1063</th>\n",
       "      <td>s0</td>\n",
       "      <td>0</td>\n",
       "      <td>cue</td>\n",
       "      <td>parietal</td>\n",
       "      <td>-0.006899</td>\n",
       "    </tr>\n",
       "  </tbody>\n",
       "</table>\n",
       "<p>1064 rows × 5 columns</p>\n",
       "</div>"
      ],
      "text/plain": [
       "     subject  timepoint event    region    signal\n",
       "0        s13         18  stim  parietal -0.017552\n",
       "1         s5         14  stim  parietal -0.080883\n",
       "2        s12         18  stim  parietal -0.081033\n",
       "3        s11         18  stim  parietal -0.046134\n",
       "4        s10         18  stim  parietal -0.037970\n",
       "...      ...        ...   ...       ...       ...\n",
       "1059      s0          8   cue   frontal  0.018165\n",
       "1060     s13          7   cue   frontal -0.029130\n",
       "1061     s12          7   cue   frontal -0.004939\n",
       "1062     s11          7   cue   frontal -0.025367\n",
       "1063      s0          0   cue  parietal -0.006899\n",
       "\n",
       "[1064 rows x 5 columns]"
      ]
     },
     "execution_count": 7,
     "metadata": {},
     "output_type": "execute_result"
    }
   ],
   "source": [
    "# サンプルデータを読み込み\n",
    "fmri = sns.load_dataset(\"fmri\")\n",
    "fmri"
   ]
  },
  {
   "cell_type": "code",
   "execution_count": null,
   "metadata": {
    "colab": {
     "base_uri": "https://localhost:8080/",
     "height": 302
    },
    "colab_type": "code",
    "id": "Co0MTzAFvHtm",
    "outputId": "8b654364-aa04-4c50-ca5a-87fc0a18b758"
   },
   "outputs": [
    {
     "data": {
      "text/plain": [
       "<matplotlib.axes._subplots.AxesSubplot at 0x7fbec6cc3358>"
      ]
     },
     "execution_count": 44,
     "metadata": {
      "tags": []
     },
     "output_type": "execute_result"
    },
    {
     "data": {
      "image/png": "[encoded data removed]",
      "text/plain": [
       "<Figure size 432x288 with 1 Axes>"
      ]
     },
     "metadata": {
      "tags": []
     },
     "output_type": "display_data"
    }
   ],
   "source": [
    "# 折れ線グラフを描画\n",
    "sns.lineplot(x=\"timepoint\", y=\"signal\", \n",
    "             hue=\"event\",# event 毎に折れ線を表示\n",
    "             data=fmri)"
   ]
  },
  {
   "cell_type": "code",
   "execution_count": null,
   "metadata": {
    "colab": {
     "base_uri": "https://localhost:8080/",
     "height": 302
    },
    "colab_type": "code",
    "id": "R6KLIFbRvL0o",
    "outputId": "feb68316-e044-4827-9163-78e069b195a1"
   },
   "outputs": [
    {
     "data": {
      "text/plain": [
       "<matplotlib.axes._subplots.AxesSubplot at 0x7fbec6c2ecf8>"
      ]
     },
     "execution_count": 45,
     "metadata": {
      "tags": []
     },
     "output_type": "execute_result"
    },
    {
     "data": {
      "image/png": "[encoded data removed]",
      "text/plain": [
       "<Figure size 432x288 with 1 Axes>"
      ]
     },
     "metadata": {
      "tags": []
     },
     "output_type": "display_data"
    }
   ],
   "source": [
    "# ヒストグラムを描画\n",
    "sns.distplot(titanic['fare'])"
   ]
  },
  {
   "cell_type": "code",
   "execution_count": 8,
   "metadata": {
    "colab": {
     "base_uri": "https://localhost:8080/",
     "height": 437
    },
    "colab_type": "code",
    "id": "yoQyvaP2vknO",
    "outputId": "7930fd2e-8d32-441b-c643-3b0e0d2539c9"
   },
   "outputs": [
    {
     "data": {
      "text/html": [
       "<div>\n",
       "<style scoped>\n",
       "    .dataframe tbody tr th:only-of-type {\n",
       "        vertical-align: middle;\n",
       "    }\n",
       "\n",
       "    .dataframe tbody tr th {\n",
       "        vertical-align: top;\n",
       "    }\n",
       "\n",
       "    .dataframe thead th {\n",
       "        text-align: right;\n",
       "    }\n",
       "</style>\n",
       "<table border=\"1\" class=\"dataframe\">\n",
       "  <thead>\n",
       "    <tr style=\"text-align: right;\">\n",
       "      <th></th>\n",
       "      <th>total_bill</th>\n",
       "      <th>tip</th>\n",
       "      <th>sex</th>\n",
       "      <th>smoker</th>\n",
       "      <th>day</th>\n",
       "      <th>time</th>\n",
       "      <th>size</th>\n",
       "    </tr>\n",
       "  </thead>\n",
       "  <tbody>\n",
       "    <tr>\n",
       "      <th>0</th>\n",
       "      <td>16.99</td>\n",
       "      <td>1.01</td>\n",
       "      <td>Female</td>\n",
       "      <td>No</td>\n",
       "      <td>Sun</td>\n",
       "      <td>Dinner</td>\n",
       "      <td>2</td>\n",
       "    </tr>\n",
       "    <tr>\n",
       "      <th>1</th>\n",
       "      <td>10.34</td>\n",
       "      <td>1.66</td>\n",
       "      <td>Male</td>\n",
       "      <td>No</td>\n",
       "      <td>Sun</td>\n",
       "      <td>Dinner</td>\n",
       "      <td>3</td>\n",
       "    </tr>\n",
       "    <tr>\n",
       "      <th>2</th>\n",
       "      <td>21.01</td>\n",
       "      <td>3.50</td>\n",
       "      <td>Male</td>\n",
       "      <td>No</td>\n",
       "      <td>Sun</td>\n",
       "      <td>Dinner</td>\n",
       "      <td>3</td>\n",
       "    </tr>\n",
       "    <tr>\n",
       "      <th>3</th>\n",
       "      <td>23.68</td>\n",
       "      <td>3.31</td>\n",
       "      <td>Male</td>\n",
       "      <td>No</td>\n",
       "      <td>Sun</td>\n",
       "      <td>Dinner</td>\n",
       "      <td>2</td>\n",
       "    </tr>\n",
       "    <tr>\n",
       "      <th>4</th>\n",
       "      <td>24.59</td>\n",
       "      <td>3.61</td>\n",
       "      <td>Female</td>\n",
       "      <td>No</td>\n",
       "      <td>Sun</td>\n",
       "      <td>Dinner</td>\n",
       "      <td>4</td>\n",
       "    </tr>\n",
       "    <tr>\n",
       "      <th>...</th>\n",
       "      <td>...</td>\n",
       "      <td>...</td>\n",
       "      <td>...</td>\n",
       "      <td>...</td>\n",
       "      <td>...</td>\n",
       "      <td>...</td>\n",
       "      <td>...</td>\n",
       "    </tr>\n",
       "    <tr>\n",
       "      <th>239</th>\n",
       "      <td>29.03</td>\n",
       "      <td>5.92</td>\n",
       "      <td>Male</td>\n",
       "      <td>No</td>\n",
       "      <td>Sat</td>\n",
       "      <td>Dinner</td>\n",
       "      <td>3</td>\n",
       "    </tr>\n",
       "    <tr>\n",
       "      <th>240</th>\n",
       "      <td>27.18</td>\n",
       "      <td>2.00</td>\n",
       "      <td>Female</td>\n",
       "      <td>Yes</td>\n",
       "      <td>Sat</td>\n",
       "      <td>Dinner</td>\n",
       "      <td>2</td>\n",
       "    </tr>\n",
       "    <tr>\n",
       "      <th>241</th>\n",
       "      <td>22.67</td>\n",
       "      <td>2.00</td>\n",
       "      <td>Male</td>\n",
       "      <td>Yes</td>\n",
       "      <td>Sat</td>\n",
       "      <td>Dinner</td>\n",
       "      <td>2</td>\n",
       "    </tr>\n",
       "    <tr>\n",
       "      <th>242</th>\n",
       "      <td>17.82</td>\n",
       "      <td>1.75</td>\n",
       "      <td>Male</td>\n",
       "      <td>No</td>\n",
       "      <td>Sat</td>\n",
       "      <td>Dinner</td>\n",
       "      <td>2</td>\n",
       "    </tr>\n",
       "    <tr>\n",
       "      <th>243</th>\n",
       "      <td>18.78</td>\n",
       "      <td>3.00</td>\n",
       "      <td>Female</td>\n",
       "      <td>No</td>\n",
       "      <td>Thur</td>\n",
       "      <td>Dinner</td>\n",
       "      <td>2</td>\n",
       "    </tr>\n",
       "  </tbody>\n",
       "</table>\n",
       "<p>244 rows × 7 columns</p>\n",
       "</div>"
      ],
      "text/plain": [
       "     total_bill   tip     sex smoker   day    time  size\n",
       "0         16.99  1.01  Female     No   Sun  Dinner     2\n",
       "1         10.34  1.66    Male     No   Sun  Dinner     3\n",
       "2         21.01  3.50    Male     No   Sun  Dinner     3\n",
       "3         23.68  3.31    Male     No   Sun  Dinner     2\n",
       "4         24.59  3.61  Female     No   Sun  Dinner     4\n",
       "..          ...   ...     ...    ...   ...     ...   ...\n",
       "239       29.03  5.92    Male     No   Sat  Dinner     3\n",
       "240       27.18  2.00  Female    Yes   Sat  Dinner     2\n",
       "241       22.67  2.00    Male    Yes   Sat  Dinner     2\n",
       "242       17.82  1.75    Male     No   Sat  Dinner     2\n",
       "243       18.78  3.00  Female     No  Thur  Dinner     2\n",
       "\n",
       "[244 rows x 7 columns]"
      ]
     },
     "execution_count": 8,
     "metadata": {},
     "output_type": "execute_result"
    }
   ],
   "source": [
    "# サンプルデータを読み込み\n",
    "tips = sns.load_dataset(\"tips\")\n",
    "tips"
   ]
  },
  {
   "cell_type": "code",
   "execution_count": 9,
   "metadata": {
    "colab": {
     "base_uri": "https://localhost:8080/",
     "height": 402
    },
    "colab_type": "code",
    "id": "nSLEpwaelPnw",
    "outputId": "f033c165-4512-43de-9cc9-dfc117c3fde1"
   },
   "outputs": [
    {
     "data": {
      "image/png": "[encoded data removed]",
      "text/plain": [
       "<Figure size 432x432 with 3 Axes>"
      ]
     },
     "metadata": {},
     "output_type": "display_data"
    }
   ],
   "source": [
    "# 散布図を描画\n",
    "g = sns.jointplot(x=\"total_bill\", y=\"tip\", data=tips)"
   ]
  },
  {
   "cell_type": "markdown",
   "metadata": {
    "colab_type": "text",
    "id": "G_YQMJbfgpX5"
   },
   "source": [
    "## フェスデータを可視化する"
   ]
  },
  {
   "cell_type": "markdown",
   "metadata": {
    "colab_type": "text",
    "id": "d6NPOcOtDsf2"
   },
   "source": [
    "バンド名が長くなっていることを確認\n",
    "\n",
    "以下のスプレッドシートを利用します\n",
    "\n",
    "https://docs.google.com/spreadsheets/d/1F08nnk8gm7GG0oL1mshxMFPQICK5yor9pYcVRGbPGas/edit#gid=0"
   ]
  },
  {
   "cell_type": "code",
   "execution_count": 10,
   "metadata": {
    "colab": {},
    "colab_type": "code",
    "id": "e0X4RkYi69a4"
   },
   "outputs": [],
   "source": [
    "import pandas as pd\n",
    "import seaborn as sns"
   ]
  },
  {
   "cell_type": "code",
   "execution_count": 11,
   "metadata": {
    "colab": {},
    "colab_type": "code",
    "id": "1rNoGeLGxjLg"
   },
   "outputs": [],
   "source": [
    "# グラフ描画の設定\n",
    "sns.set_style(\"whitegrid\")\n",
    "sns.set_palette(\"husl\")\n",
    "sns.set_context(\"notebook\")\n",
    "# sns.set(font='IPAGothic')"
   ]
  },
  {
   "cell_type": "code",
   "execution_count": 12,
   "metadata": {
    "colab": {},
    "colab_type": "code",
    "id": "lHSWqMjB_uxb"
   },
   "outputs": [
    {
     "ename": "FileNotFoundError",
     "evalue": "[Errno 2] File fes_data.csv does not exist: 'fes_data.csv'",
     "output_type": "error",
     "traceback": [
      "\u001b[0;31m---------------------------------------------------------------------------\u001b[0m",
      "\u001b[0;31mFileNotFoundError\u001b[0m                         Traceback (most recent call last)",
      "\u001b[0;32m<ipython-input-12-260d141e83a6>\u001b[0m in \u001b[0;36m<module>\u001b[0;34m\u001b[0m\n\u001b[0;32m----> 1\u001b[0;31m \u001b[0mmaster_df\u001b[0m \u001b[0;34m=\u001b[0m \u001b[0mpd\u001b[0m\u001b[0;34m.\u001b[0m\u001b[0mread_csv\u001b[0m\u001b[0;34m(\u001b[0m\u001b[0;34m\"fes_data.csv\"\u001b[0m\u001b[0;34m)\u001b[0m\u001b[0;34m\u001b[0m\u001b[0;34m\u001b[0m\u001b[0m\n\u001b[0m",
      "\u001b[0;32m/opt/anaconda3/lib/python3.7/site-packages/pandas/io/parsers.py\u001b[0m in \u001b[0;36mparser_f\u001b[0;34m(filepath_or_buffer, sep, delimiter, header, names, index_col, usecols, squeeze, prefix, mangle_dupe_cols, dtype, engine, converters, true_values, false_values, skipinitialspace, skiprows, skipfooter, nrows, na_values, keep_default_na, na_filter, verbose, skip_blank_lines, parse_dates, infer_datetime_format, keep_date_col, date_parser, dayfirst, cache_dates, iterator, chunksize, compression, thousands, decimal, lineterminator, quotechar, quoting, doublequote, escapechar, comment, encoding, dialect, error_bad_lines, warn_bad_lines, delim_whitespace, low_memory, memory_map, float_precision)\u001b[0m\n\u001b[1;32m    674\u001b[0m         )\n\u001b[1;32m    675\u001b[0m \u001b[0;34m\u001b[0m\u001b[0m\n\u001b[0;32m--> 676\u001b[0;31m         \u001b[0;32mreturn\u001b[0m \u001b[0m_read\u001b[0m\u001b[0;34m(\u001b[0m\u001b[0mfilepath_or_buffer\u001b[0m\u001b[0;34m,\u001b[0m \u001b[0mkwds\u001b[0m\u001b[0;34m)\u001b[0m\u001b[0;34m\u001b[0m\u001b[0;34m\u001b[0m\u001b[0m\n\u001b[0m\u001b[1;32m    677\u001b[0m \u001b[0;34m\u001b[0m\u001b[0m\n\u001b[1;32m    678\u001b[0m     \u001b[0mparser_f\u001b[0m\u001b[0;34m.\u001b[0m\u001b[0m__name__\u001b[0m \u001b[0;34m=\u001b[0m \u001b[0mname\u001b[0m\u001b[0;34m\u001b[0m\u001b[0;34m\u001b[0m\u001b[0m\n",
      "\u001b[0;32m/opt/anaconda3/lib/python3.7/site-packages/pandas/io/parsers.py\u001b[0m in \u001b[0;36m_read\u001b[0;34m(filepath_or_buffer, kwds)\u001b[0m\n\u001b[1;32m    446\u001b[0m \u001b[0;34m\u001b[0m\u001b[0m\n\u001b[1;32m    447\u001b[0m     \u001b[0;31m# Create the parser.\u001b[0m\u001b[0;34m\u001b[0m\u001b[0;34m\u001b[0m\u001b[0;34m\u001b[0m\u001b[0m\n\u001b[0;32m--> 448\u001b[0;31m     \u001b[0mparser\u001b[0m \u001b[0;34m=\u001b[0m \u001b[0mTextFileReader\u001b[0m\u001b[0;34m(\u001b[0m\u001b[0mfp_or_buf\u001b[0m\u001b[0;34m,\u001b[0m \u001b[0;34m**\u001b[0m\u001b[0mkwds\u001b[0m\u001b[0;34m)\u001b[0m\u001b[0;34m\u001b[0m\u001b[0;34m\u001b[0m\u001b[0m\n\u001b[0m\u001b[1;32m    449\u001b[0m \u001b[0;34m\u001b[0m\u001b[0m\n\u001b[1;32m    450\u001b[0m     \u001b[0;32mif\u001b[0m \u001b[0mchunksize\u001b[0m \u001b[0;32mor\u001b[0m \u001b[0miterator\u001b[0m\u001b[0;34m:\u001b[0m\u001b[0;34m\u001b[0m\u001b[0;34m\u001b[0m\u001b[0m\n",
      "\u001b[0;32m/opt/anaconda3/lib/python3.7/site-packages/pandas/io/parsers.py\u001b[0m in \u001b[0;36m__init__\u001b[0;34m(self, f, engine, **kwds)\u001b[0m\n\u001b[1;32m    878\u001b[0m             \u001b[0mself\u001b[0m\u001b[0;34m.\u001b[0m\u001b[0moptions\u001b[0m\u001b[0;34m[\u001b[0m\u001b[0;34m\"has_index_names\"\u001b[0m\u001b[0;34m]\u001b[0m \u001b[0;34m=\u001b[0m \u001b[0mkwds\u001b[0m\u001b[0;34m[\u001b[0m\u001b[0;34m\"has_index_names\"\u001b[0m\u001b[0;34m]\u001b[0m\u001b[0;34m\u001b[0m\u001b[0;34m\u001b[0m\u001b[0m\n\u001b[1;32m    879\u001b[0m \u001b[0;34m\u001b[0m\u001b[0m\n\u001b[0;32m--> 880\u001b[0;31m         \u001b[0mself\u001b[0m\u001b[0;34m.\u001b[0m\u001b[0m_make_engine\u001b[0m\u001b[0;34m(\u001b[0m\u001b[0mself\u001b[0m\u001b[0;34m.\u001b[0m\u001b[0mengine\u001b[0m\u001b[0;34m)\u001b[0m\u001b[0;34m\u001b[0m\u001b[0;34m\u001b[0m\u001b[0m\n\u001b[0m\u001b[1;32m    881\u001b[0m \u001b[0;34m\u001b[0m\u001b[0m\n\u001b[1;32m    882\u001b[0m     \u001b[0;32mdef\u001b[0m \u001b[0mclose\u001b[0m\u001b[0;34m(\u001b[0m\u001b[0mself\u001b[0m\u001b[0;34m)\u001b[0m\u001b[0;34m:\u001b[0m\u001b[0;34m\u001b[0m\u001b[0;34m\u001b[0m\u001b[0m\n",
      "\u001b[0;32m/opt/anaconda3/lib/python3.7/site-packages/pandas/io/parsers.py\u001b[0m in \u001b[0;36m_make_engine\u001b[0;34m(self, engine)\u001b[0m\n\u001b[1;32m   1112\u001b[0m     \u001b[0;32mdef\u001b[0m \u001b[0m_make_engine\u001b[0m\u001b[0;34m(\u001b[0m\u001b[0mself\u001b[0m\u001b[0;34m,\u001b[0m \u001b[0mengine\u001b[0m\u001b[0;34m=\u001b[0m\u001b[0;34m\"c\"\u001b[0m\u001b[0;34m)\u001b[0m\u001b[0;34m:\u001b[0m\u001b[0;34m\u001b[0m\u001b[0;34m\u001b[0m\u001b[0m\n\u001b[1;32m   1113\u001b[0m         \u001b[0;32mif\u001b[0m \u001b[0mengine\u001b[0m \u001b[0;34m==\u001b[0m \u001b[0;34m\"c\"\u001b[0m\u001b[0;34m:\u001b[0m\u001b[0;34m\u001b[0m\u001b[0;34m\u001b[0m\u001b[0m\n\u001b[0;32m-> 1114\u001b[0;31m             \u001b[0mself\u001b[0m\u001b[0;34m.\u001b[0m\u001b[0m_engine\u001b[0m \u001b[0;34m=\u001b[0m \u001b[0mCParserWrapper\u001b[0m\u001b[0;34m(\u001b[0m\u001b[0mself\u001b[0m\u001b[0;34m.\u001b[0m\u001b[0mf\u001b[0m\u001b[0;34m,\u001b[0m \u001b[0;34m**\u001b[0m\u001b[0mself\u001b[0m\u001b[0;34m.\u001b[0m\u001b[0moptions\u001b[0m\u001b[0;34m)\u001b[0m\u001b[0;34m\u001b[0m\u001b[0;34m\u001b[0m\u001b[0m\n\u001b[0m\u001b[1;32m   1115\u001b[0m         \u001b[0;32melse\u001b[0m\u001b[0;34m:\u001b[0m\u001b[0;34m\u001b[0m\u001b[0;34m\u001b[0m\u001b[0m\n\u001b[1;32m   1116\u001b[0m             \u001b[0;32mif\u001b[0m \u001b[0mengine\u001b[0m \u001b[0;34m==\u001b[0m \u001b[0;34m\"python\"\u001b[0m\u001b[0;34m:\u001b[0m\u001b[0;34m\u001b[0m\u001b[0;34m\u001b[0m\u001b[0m\n",
      "\u001b[0;32m/opt/anaconda3/lib/python3.7/site-packages/pandas/io/parsers.py\u001b[0m in \u001b[0;36m__init__\u001b[0;34m(self, src, **kwds)\u001b[0m\n\u001b[1;32m   1889\u001b[0m         \u001b[0mkwds\u001b[0m\u001b[0;34m[\u001b[0m\u001b[0;34m\"usecols\"\u001b[0m\u001b[0;34m]\u001b[0m \u001b[0;34m=\u001b[0m \u001b[0mself\u001b[0m\u001b[0;34m.\u001b[0m\u001b[0musecols\u001b[0m\u001b[0;34m\u001b[0m\u001b[0;34m\u001b[0m\u001b[0m\n\u001b[1;32m   1890\u001b[0m \u001b[0;34m\u001b[0m\u001b[0m\n\u001b[0;32m-> 1891\u001b[0;31m         \u001b[0mself\u001b[0m\u001b[0;34m.\u001b[0m\u001b[0m_reader\u001b[0m \u001b[0;34m=\u001b[0m \u001b[0mparsers\u001b[0m\u001b[0;34m.\u001b[0m\u001b[0mTextReader\u001b[0m\u001b[0;34m(\u001b[0m\u001b[0msrc\u001b[0m\u001b[0;34m,\u001b[0m \u001b[0;34m**\u001b[0m\u001b[0mkwds\u001b[0m\u001b[0;34m)\u001b[0m\u001b[0;34m\u001b[0m\u001b[0;34m\u001b[0m\u001b[0m\n\u001b[0m\u001b[1;32m   1892\u001b[0m         \u001b[0mself\u001b[0m\u001b[0;34m.\u001b[0m\u001b[0munnamed_cols\u001b[0m \u001b[0;34m=\u001b[0m \u001b[0mself\u001b[0m\u001b[0;34m.\u001b[0m\u001b[0m_reader\u001b[0m\u001b[0;34m.\u001b[0m\u001b[0munnamed_cols\u001b[0m\u001b[0;34m\u001b[0m\u001b[0;34m\u001b[0m\u001b[0m\n\u001b[1;32m   1893\u001b[0m \u001b[0;34m\u001b[0m\u001b[0m\n",
      "\u001b[0;32mpandas/_libs/parsers.pyx\u001b[0m in \u001b[0;36mpandas._libs.parsers.TextReader.__cinit__\u001b[0;34m()\u001b[0m\n",
      "\u001b[0;32mpandas/_libs/parsers.pyx\u001b[0m in \u001b[0;36mpandas._libs.parsers.TextReader._setup_parser_source\u001b[0;34m()\u001b[0m\n",
      "\u001b[0;31mFileNotFoundError\u001b[0m: [Errno 2] File fes_data.csv does not exist: 'fes_data.csv'"
     ]
    }
   ],
   "source": [
    "master_df = pd.read_csv(\"fes_data.csv\")"
   ]
  },
  {
   "cell_type": "code",
   "execution_count": null,
   "metadata": {
    "colab": {
     "base_uri": "https://localhost:8080/",
     "height": 402
    },
    "colab_type": "code",
    "id": "9erNBmLgDxOe",
    "outputId": "ce1e45e2-fdc5-4e6a-8bfa-7868ae6c6f4e"
   },
   "outputs": [
    {
     "data": {
      "text/html": [
       "<div>\n",
       "<style scoped>\n",
       "    .dataframe tbody tr th:only-of-type {\n",
       "        vertical-align: middle;\n",
       "    }\n",
       "\n",
       "    .dataframe tbody tr th {\n",
       "        vertical-align: top;\n",
       "    }\n",
       "\n",
       "    .dataframe thead th {\n",
       "        text-align: right;\n",
       "    }\n",
       "</style>\n",
       "<table border=\"1\" class=\"dataframe\">\n",
       "  <thead>\n",
       "    <tr style=\"text-align: right;\">\n",
       "      <th></th>\n",
       "      <th>year</th>\n",
       "      <th>fes_title</th>\n",
       "      <th>place</th>\n",
       "      <th>stage</th>\n",
       "      <th>artist_name</th>\n",
       "    </tr>\n",
       "  </thead>\n",
       "  <tbody>\n",
       "    <tr>\n",
       "      <th>0</th>\n",
       "      <td>2018</td>\n",
       "      <td>FUJI ROCK FESTIVAL</td>\n",
       "      <td>新潟県</td>\n",
       "      <td>GREEN STAGE</td>\n",
       "      <td>MONGOL800</td>\n",
       "    </tr>\n",
       "    <tr>\n",
       "      <th>1</th>\n",
       "      <td>2018</td>\n",
       "      <td>FUJI ROCK FESTIVAL</td>\n",
       "      <td>新潟県</td>\n",
       "      <td>GREEN STAGE</td>\n",
       "      <td>GLIM SPANKY</td>\n",
       "    </tr>\n",
       "    <tr>\n",
       "      <th>2</th>\n",
       "      <td>2018</td>\n",
       "      <td>FUJI ROCK FESTIVAL</td>\n",
       "      <td>新潟県</td>\n",
       "      <td>GREEN STAGE</td>\n",
       "      <td>ROUTE 17 Rock'n'Roll ORCHESTRA (feat. 仲井戸\"CHAB...</td>\n",
       "    </tr>\n",
       "    <tr>\n",
       "      <th>3</th>\n",
       "      <td>2018</td>\n",
       "      <td>FUJI ROCK FESTIVAL</td>\n",
       "      <td>新潟県</td>\n",
       "      <td>GREEN STAGE</td>\n",
       "      <td>YEARS &amp; YEARS</td>\n",
       "    </tr>\n",
       "    <tr>\n",
       "      <th>4</th>\n",
       "      <td>2018</td>\n",
       "      <td>FUJI ROCK FESTIVAL</td>\n",
       "      <td>新潟県</td>\n",
       "      <td>GREEN STAGE</td>\n",
       "      <td>サカナクション</td>\n",
       "    </tr>\n",
       "    <tr>\n",
       "      <th>...</th>\n",
       "      <td>...</td>\n",
       "      <td>...</td>\n",
       "      <td>...</td>\n",
       "      <td>...</td>\n",
       "      <td>...</td>\n",
       "    </tr>\n",
       "    <tr>\n",
       "      <th>9996</th>\n",
       "      <td>2018</td>\n",
       "      <td>ROCK IN JAPAN FES</td>\n",
       "      <td>茨城県</td>\n",
       "      <td>WING TENT</td>\n",
       "      <td>fhána</td>\n",
       "    </tr>\n",
       "    <tr>\n",
       "      <th>9997</th>\n",
       "      <td>2018</td>\n",
       "      <td>ROCK IN JAPAN FES</td>\n",
       "      <td>茨城県</td>\n",
       "      <td>WING TENT</td>\n",
       "      <td>BACK LIFT</td>\n",
       "    </tr>\n",
       "    <tr>\n",
       "      <th>9998</th>\n",
       "      <td>2018</td>\n",
       "      <td>ROCK IN JAPAN FES</td>\n",
       "      <td>茨城県</td>\n",
       "      <td>WING TENT</td>\n",
       "      <td>ユアネス</td>\n",
       "    </tr>\n",
       "    <tr>\n",
       "      <th>9999</th>\n",
       "      <td>2018</td>\n",
       "      <td>ROCK IN JAPAN FES</td>\n",
       "      <td>茨城県</td>\n",
       "      <td>WING TENT</td>\n",
       "      <td>POT</td>\n",
       "    </tr>\n",
       "    <tr>\n",
       "      <th>10000</th>\n",
       "      <td>2018</td>\n",
       "      <td>ROCK IN JAPAN FES</td>\n",
       "      <td>茨城県</td>\n",
       "      <td>WING TENT</td>\n",
       "      <td>Gacharic Spin</td>\n",
       "    </tr>\n",
       "  </tbody>\n",
       "</table>\n",
       "<p>10001 rows × 5 columns</p>\n",
       "</div>"
      ],
      "text/plain": [
       "       year  ...                                        artist_name\n",
       "0      2018  ...                                          MONGOL800\n",
       "1      2018  ...                                        GLIM SPANKY\n",
       "2      2018  ...  ROUTE 17 Rock'n'Roll ORCHESTRA (feat. 仲井戸\"CHAB...\n",
       "3      2018  ...                                      YEARS & YEARS\n",
       "4      2018  ...                                            サカナクション\n",
       "...     ...  ...                                                ...\n",
       "9996   2018  ...                                              fhána\n",
       "9997   2018  ...                                          BACK LIFT\n",
       "9998   2018  ...                                               ユアネス\n",
       "9999   2018  ...                                                POT\n",
       "10000  2018  ...                                      Gacharic Spin\n",
       "\n",
       "[10001 rows x 5 columns]"
      ]
     },
     "execution_count": 52,
     "metadata": {
      "tags": []
     },
     "output_type": "execute_result"
    }
   ],
   "source": [
    "master_df"
   ]
  },
  {
   "cell_type": "code",
   "execution_count": null,
   "metadata": {
    "colab": {
     "base_uri": "https://localhost:8080/",
     "height": 136
    },
    "colab_type": "code",
    "id": "47OsMooMZRgr",
    "outputId": "bfc394b4-ebd7-4305-a4ba-4e4789cf35f5"
   },
   "outputs": [
    {
     "data": {
      "text/html": [
       "<div>\n",
       "<style scoped>\n",
       "    .dataframe tbody tr th:only-of-type {\n",
       "        vertical-align: middle;\n",
       "    }\n",
       "\n",
       "    .dataframe tbody tr th {\n",
       "        vertical-align: top;\n",
       "    }\n",
       "\n",
       "    .dataframe thead th {\n",
       "        text-align: right;\n",
       "    }\n",
       "</style>\n",
       "<table border=\"1\" class=\"dataframe\">\n",
       "  <thead>\n",
       "    <tr style=\"text-align: right;\">\n",
       "      <th></th>\n",
       "      <th>year</th>\n",
       "      <th>fes_title</th>\n",
       "      <th>place</th>\n",
       "      <th>stage</th>\n",
       "      <th>artist_name</th>\n",
       "    </tr>\n",
       "  </thead>\n",
       "  <tbody>\n",
       "    <tr>\n",
       "      <th>0</th>\n",
       "      <td>2018</td>\n",
       "      <td>FUJI ROCK FESTIVAL</td>\n",
       "      <td>新潟県</td>\n",
       "      <td>GREEN STAGE</td>\n",
       "      <td>MONGOL800</td>\n",
       "    </tr>\n",
       "    <tr>\n",
       "      <th>1</th>\n",
       "      <td>2018</td>\n",
       "      <td>FUJI ROCK FESTIVAL</td>\n",
       "      <td>新潟県</td>\n",
       "      <td>GREEN STAGE</td>\n",
       "      <td>GLIM SPANKY</td>\n",
       "    </tr>\n",
       "    <tr>\n",
       "      <th>2</th>\n",
       "      <td>2018</td>\n",
       "      <td>FUJI ROCK FESTIVAL</td>\n",
       "      <td>新潟県</td>\n",
       "      <td>GREEN STAGE</td>\n",
       "      <td>ROUTE 17 Rock'n'Roll ORCHESTRA (feat. 仲井戸\"CHAB...</td>\n",
       "    </tr>\n",
       "  </tbody>\n",
       "</table>\n",
       "</div>"
      ],
      "text/plain": [
       "   year  ...                                        artist_name\n",
       "0  2018  ...                                          MONGOL800\n",
       "1  2018  ...                                        GLIM SPANKY\n",
       "2  2018  ...  ROUTE 17 Rock'n'Roll ORCHESTRA (feat. 仲井戸\"CHAB...\n",
       "\n",
       "[3 rows x 5 columns]"
      ]
     },
     "execution_count": 53,
     "metadata": {
      "tags": []
     },
     "output_type": "execute_result"
    }
   ],
   "source": [
    "# 最初の行のみを表示\n",
    "master_df.head(3) #引数に指定しない場合は、五行分が表示される"
   ]
  },
  {
   "cell_type": "code",
   "execution_count": null,
   "metadata": {
    "colab": {
     "base_uri": "https://localhost:8080/",
     "height": 195
    },
    "colab_type": "code",
    "id": "sZSGO-YAeHPU",
    "outputId": "90b30520-a093-4428-8624-76cbc1109853"
   },
   "outputs": [
    {
     "data": {
      "text/html": [
       "<div>\n",
       "<style scoped>\n",
       "    .dataframe tbody tr th:only-of-type {\n",
       "        vertical-align: middle;\n",
       "    }\n",
       "\n",
       "    .dataframe tbody tr th {\n",
       "        vertical-align: top;\n",
       "    }\n",
       "\n",
       "    .dataframe thead th {\n",
       "        text-align: right;\n",
       "    }\n",
       "</style>\n",
       "<table border=\"1\" class=\"dataframe\">\n",
       "  <thead>\n",
       "    <tr style=\"text-align: right;\">\n",
       "      <th></th>\n",
       "      <th>year</th>\n",
       "      <th>artist_name</th>\n",
       "    </tr>\n",
       "  </thead>\n",
       "  <tbody>\n",
       "    <tr>\n",
       "      <th>0</th>\n",
       "      <td>2018</td>\n",
       "      <td>MONGOL800</td>\n",
       "    </tr>\n",
       "    <tr>\n",
       "      <th>1</th>\n",
       "      <td>2018</td>\n",
       "      <td>GLIM SPANKY</td>\n",
       "    </tr>\n",
       "    <tr>\n",
       "      <th>2</th>\n",
       "      <td>2018</td>\n",
       "      <td>ROUTE 17 Rock'n'Roll ORCHESTRA (feat. 仲井戸\"CHAB...</td>\n",
       "    </tr>\n",
       "    <tr>\n",
       "      <th>3</th>\n",
       "      <td>2018</td>\n",
       "      <td>YEARS &amp; YEARS</td>\n",
       "    </tr>\n",
       "    <tr>\n",
       "      <th>4</th>\n",
       "      <td>2018</td>\n",
       "      <td>サカナクション</td>\n",
       "    </tr>\n",
       "  </tbody>\n",
       "</table>\n",
       "</div>"
      ],
      "text/plain": [
       "   year                                        artist_name\n",
       "0  2018                                          MONGOL800\n",
       "1  2018                                        GLIM SPANKY\n",
       "2  2018  ROUTE 17 Rock'n'Roll ORCHESTRA (feat. 仲井戸\"CHAB...\n",
       "3  2018                                      YEARS & YEARS\n",
       "4  2018                                            サカナクション"
      ]
     },
     "execution_count": 55,
     "metadata": {
      "tags": []
     },
     "output_type": "execute_result"
    }
   ],
   "source": [
    "# 特定の列のみ抽出\n",
    "master_df[['year', 'artist_name']].head()"
   ]
  },
  {
   "cell_type": "markdown",
   "metadata": {
    "colab_type": "text",
    "id": "soKQzrT7rxYQ"
   },
   "source": [
    "アーティスト名の長さをカラムに追加"
   ]
  },
  {
   "cell_type": "code",
   "execution_count": null,
   "metadata": {
    "colab": {},
    "colab_type": "code",
    "id": "ehb-xGoYoJz_"
   },
   "outputs": [],
   "source": [
    "# artist_name カラムを明示的にstrに型変換\n",
    "master_df[\"artist_name\"] = master_df[\"artist_name\"].astype(str)"
   ]
  },
  {
   "cell_type": "code",
   "execution_count": null,
   "metadata": {
    "colab": {},
    "colab_type": "code",
    "id": "dVDOBGSeJPQb"
   },
   "outputs": [],
   "source": [
    "# artist_name カラムの要素に1つずつ、len() メソッドを適用し、アーティスト名の長さを取得\n",
    "master_df[\"name_length\"] = master_df[\"artist_name\"].map(len)"
   ]
  },
  {
   "cell_type": "code",
   "execution_count": null,
   "metadata": {
    "colab": {
     "base_uri": "https://localhost:8080/",
     "height": 195
    },
    "colab_type": "code",
    "id": "oxxPePm6pXT3",
    "outputId": "23a57e12-1347-4732-aa95-ca37288baf7f"
   },
   "outputs": [
    {
     "data": {
      "text/html": [
       "<div>\n",
       "<style scoped>\n",
       "    .dataframe tbody tr th:only-of-type {\n",
       "        vertical-align: middle;\n",
       "    }\n",
       "\n",
       "    .dataframe tbody tr th {\n",
       "        vertical-align: top;\n",
       "    }\n",
       "\n",
       "    .dataframe thead th {\n",
       "        text-align: right;\n",
       "    }\n",
       "</style>\n",
       "<table border=\"1\" class=\"dataframe\">\n",
       "  <thead>\n",
       "    <tr style=\"text-align: right;\">\n",
       "      <th></th>\n",
       "      <th>year</th>\n",
       "      <th>fes_title</th>\n",
       "      <th>place</th>\n",
       "      <th>stage</th>\n",
       "      <th>artist_name</th>\n",
       "      <th>name_length</th>\n",
       "    </tr>\n",
       "  </thead>\n",
       "  <tbody>\n",
       "    <tr>\n",
       "      <th>0</th>\n",
       "      <td>2018</td>\n",
       "      <td>FUJI ROCK FESTIVAL</td>\n",
       "      <td>新潟県</td>\n",
       "      <td>GREEN STAGE</td>\n",
       "      <td>MONGOL800</td>\n",
       "      <td>9</td>\n",
       "    </tr>\n",
       "    <tr>\n",
       "      <th>1</th>\n",
       "      <td>2018</td>\n",
       "      <td>FUJI ROCK FESTIVAL</td>\n",
       "      <td>新潟県</td>\n",
       "      <td>GREEN STAGE</td>\n",
       "      <td>GLIM SPANKY</td>\n",
       "      <td>11</td>\n",
       "    </tr>\n",
       "    <tr>\n",
       "      <th>2</th>\n",
       "      <td>2018</td>\n",
       "      <td>FUJI ROCK FESTIVAL</td>\n",
       "      <td>新潟県</td>\n",
       "      <td>GREEN STAGE</td>\n",
       "      <td>ROUTE 17 Rock'n'Roll ORCHESTRA (feat. 仲井戸\"CHAB...</td>\n",
       "      <td>69</td>\n",
       "    </tr>\n",
       "    <tr>\n",
       "      <th>3</th>\n",
       "      <td>2018</td>\n",
       "      <td>FUJI ROCK FESTIVAL</td>\n",
       "      <td>新潟県</td>\n",
       "      <td>GREEN STAGE</td>\n",
       "      <td>YEARS &amp; YEARS</td>\n",
       "      <td>13</td>\n",
       "    </tr>\n",
       "    <tr>\n",
       "      <th>4</th>\n",
       "      <td>2018</td>\n",
       "      <td>FUJI ROCK FESTIVAL</td>\n",
       "      <td>新潟県</td>\n",
       "      <td>GREEN STAGE</td>\n",
       "      <td>サカナクション</td>\n",
       "      <td>7</td>\n",
       "    </tr>\n",
       "  </tbody>\n",
       "</table>\n",
       "</div>"
      ],
      "text/plain": [
       "   year  ... name_length\n",
       "0  2018  ...           9\n",
       "1  2018  ...          11\n",
       "2  2018  ...          69\n",
       "3  2018  ...          13\n",
       "4  2018  ...           7\n",
       "\n",
       "[5 rows x 6 columns]"
      ]
     },
     "execution_count": 61,
     "metadata": {
      "tags": []
     },
     "output_type": "execute_result"
    }
   ],
   "source": [
    "master_df.head()"
   ]
  },
  {
   "cell_type": "code",
   "execution_count": null,
   "metadata": {
    "colab": {
     "base_uri": "https://localhost:8080/",
     "height": 402
    },
    "colab_type": "code",
    "id": "gtilj4W6ed9X",
    "outputId": "e128b8e7-1f88-4c28-aca0-03ca2411f2ab"
   },
   "outputs": [
    {
     "data": {
      "text/html": [
       "<div>\n",
       "<style scoped>\n",
       "    .dataframe tbody tr th:only-of-type {\n",
       "        vertical-align: middle;\n",
       "    }\n",
       "\n",
       "    .dataframe tbody tr th {\n",
       "        vertical-align: top;\n",
       "    }\n",
       "\n",
       "    .dataframe thead th {\n",
       "        text-align: right;\n",
       "    }\n",
       "</style>\n",
       "<table border=\"1\" class=\"dataframe\">\n",
       "  <thead>\n",
       "    <tr style=\"text-align: right;\">\n",
       "      <th></th>\n",
       "      <th>year</th>\n",
       "      <th>fes_title</th>\n",
       "      <th>place</th>\n",
       "      <th>stage</th>\n",
       "      <th>artist_name</th>\n",
       "      <th>name_length</th>\n",
       "    </tr>\n",
       "  </thead>\n",
       "  <tbody>\n",
       "    <tr>\n",
       "      <th>2</th>\n",
       "      <td>2018</td>\n",
       "      <td>FUJI ROCK FESTIVAL</td>\n",
       "      <td>新潟県</td>\n",
       "      <td>GREEN STAGE</td>\n",
       "      <td>ROUTE 17 Rock'n'Roll ORCHESTRA (feat. 仲井戸\"CHAB...</td>\n",
       "      <td>69</td>\n",
       "    </tr>\n",
       "    <tr>\n",
       "      <th>6</th>\n",
       "      <td>2018</td>\n",
       "      <td>FUJI ROCK FESTIVAL</td>\n",
       "      <td>新潟県</td>\n",
       "      <td>GREEN STAGE</td>\n",
       "      <td>SPECIAL GUEST:G&amp;G Miller Orchestra</td>\n",
       "      <td>34</td>\n",
       "    </tr>\n",
       "    <tr>\n",
       "      <th>15</th>\n",
       "      <td>2018</td>\n",
       "      <td>FUJI ROCK FESTIVAL</td>\n",
       "      <td>新潟県</td>\n",
       "      <td>GREEN STAGE</td>\n",
       "      <td>ANDERSON .PAAK &amp; THE FREE NATIONALS</td>\n",
       "      <td>35</td>\n",
       "    </tr>\n",
       "    <tr>\n",
       "      <th>74</th>\n",
       "      <td>2018</td>\n",
       "      <td>FUJI ROCK FESTIVAL</td>\n",
       "      <td>新潟県</td>\n",
       "      <td>RED MARQUEE</td>\n",
       "      <td>CHAI (selected by ROOKIE A GO-GO)</td>\n",
       "      <td>33</td>\n",
       "    </tr>\n",
       "    <tr>\n",
       "      <th>77</th>\n",
       "      <td>2018</td>\n",
       "      <td>FUJI ROCK FESTIVAL</td>\n",
       "      <td>新潟県</td>\n",
       "      <td>FIELD OF HEAVEN</td>\n",
       "      <td>GOMA &amp; The Jungle Rhythm Section</td>\n",
       "      <td>32</td>\n",
       "    </tr>\n",
       "    <tr>\n",
       "      <th>...</th>\n",
       "      <td>...</td>\n",
       "      <td>...</td>\n",
       "      <td>...</td>\n",
       "      <td>...</td>\n",
       "      <td>...</td>\n",
       "      <td>...</td>\n",
       "    </tr>\n",
       "    <tr>\n",
       "      <th>9455</th>\n",
       "      <td>2015</td>\n",
       "      <td>ROCK IN JAPAN FES</td>\n",
       "      <td>茨城県</td>\n",
       "      <td>LAKE STAGE</td>\n",
       "      <td>Fear, and Loathing in Las Vegas</td>\n",
       "      <td>31</td>\n",
       "    </tr>\n",
       "    <tr>\n",
       "      <th>9528</th>\n",
       "      <td>2015</td>\n",
       "      <td>ROCK IN JAPAN FES</td>\n",
       "      <td>茨城県</td>\n",
       "      <td>sound of forest</td>\n",
       "      <td>OVERGROUND ACOUSTIC UNDERGROUND</td>\n",
       "      <td>31</td>\n",
       "    </tr>\n",
       "    <tr>\n",
       "      <th>9656</th>\n",
       "      <td>2016</td>\n",
       "      <td>ROCK IN JAPAN FES</td>\n",
       "      <td>茨城県</td>\n",
       "      <td>sound of forest</td>\n",
       "      <td>OVERGROUND ACOUSTIC UNDERGROUND</td>\n",
       "      <td>31</td>\n",
       "    </tr>\n",
       "    <tr>\n",
       "      <th>9799</th>\n",
       "      <td>2017</td>\n",
       "      <td>ROCK IN JAPAN FES</td>\n",
       "      <td>茨城県</td>\n",
       "      <td>sound of forest</td>\n",
       "      <td>OVERGROUND ACOUSTIC UNDERGROUND</td>\n",
       "      <td>31</td>\n",
       "    </tr>\n",
       "    <tr>\n",
       "      <th>9854</th>\n",
       "      <td>2017</td>\n",
       "      <td>ROCK IN JAPAN FES</td>\n",
       "      <td>茨城県</td>\n",
       "      <td>WING TENT</td>\n",
       "      <td>LOW IQ 01 &amp; THE RHYTHM MAKERS+</td>\n",
       "      <td>30</td>\n",
       "    </tr>\n",
       "  </tbody>\n",
       "</table>\n",
       "<p>560 rows × 6 columns</p>\n",
       "</div>"
      ],
      "text/plain": [
       "      year  ... name_length\n",
       "2     2018  ...          69\n",
       "6     2018  ...          34\n",
       "15    2018  ...          35\n",
       "74    2018  ...          33\n",
       "77    2018  ...          32\n",
       "...    ...  ...         ...\n",
       "9455  2015  ...          31\n",
       "9528  2015  ...          31\n",
       "9656  2016  ...          31\n",
       "9799  2017  ...          31\n",
       "9854  2017  ...          30\n",
       "\n",
       "[560 rows x 6 columns]"
      ]
     },
     "execution_count": 62,
     "metadata": {
      "tags": []
     },
     "output_type": "execute_result"
    }
   ],
   "source": [
    "# 長さが30以上のアーティストのみ抽出\n",
    "master_df[master_df['name_length'] >= 30]"
   ]
  },
  {
   "cell_type": "code",
   "execution_count": null,
   "metadata": {
    "colab": {
     "base_uri": "https://localhost:8080/",
     "height": 279
    },
    "colab_type": "code",
    "id": "TFJC7_sdfUjl",
    "outputId": "2d0be177-8194-4f9f-99e7-d4e03a58578d"
   },
   "outputs": [
    {
     "data": {
      "text/html": [
       "<div>\n",
       "<style scoped>\n",
       "    .dataframe tbody tr th:only-of-type {\n",
       "        vertical-align: middle;\n",
       "    }\n",
       "\n",
       "    .dataframe tbody tr th {\n",
       "        vertical-align: top;\n",
       "    }\n",
       "\n",
       "    .dataframe thead th {\n",
       "        text-align: right;\n",
       "    }\n",
       "</style>\n",
       "<table border=\"1\" class=\"dataframe\">\n",
       "  <thead>\n",
       "    <tr style=\"text-align: right;\">\n",
       "      <th></th>\n",
       "      <th>year</th>\n",
       "      <th>fes_title</th>\n",
       "      <th>place</th>\n",
       "      <th>stage</th>\n",
       "      <th>artist_name</th>\n",
       "      <th>name_length</th>\n",
       "    </tr>\n",
       "  </thead>\n",
       "  <tbody>\n",
       "    <tr>\n",
       "      <th>7890</th>\n",
       "      <td>2016</td>\n",
       "      <td>RISING SUN ROCK FES</td>\n",
       "      <td>北海道</td>\n",
       "      <td>SUN STAGE</td>\n",
       "      <td>【増子直純（怒髪天）、友森昭一、大槻ケンヂ（筋肉少女帯、特撮）、福島忍（勝手にしやがれ）、中...</td>\n",
       "      <td>256</td>\n",
       "    </tr>\n",
       "    <tr>\n",
       "      <th>4973</th>\n",
       "      <td>2015</td>\n",
       "      <td>SUMMER SONIC</td>\n",
       "      <td>東京都</td>\n",
       "      <td>ISLAND STAGE</td>\n",
       "      <td>SORRY YOUTH (from Taiwan)  FLESH JUICER (from ...</td>\n",
       "      <td>222</td>\n",
       "    </tr>\n",
       "    <tr>\n",
       "      <th>8156</th>\n",
       "      <td>2018</td>\n",
       "      <td>RISING SUN ROCK FES</td>\n",
       "      <td>北海道</td>\n",
       "      <td>def garage</td>\n",
       "      <td>怒髪天×RSR FRIDAY NIGHT SESSION “TRIBUTE TO blood...</td>\n",
       "      <td>187</td>\n",
       "    </tr>\n",
       "    <tr>\n",
       "      <th>7659</th>\n",
       "      <td>2014</td>\n",
       "      <td>RISING SUN ROCK FES</td>\n",
       "      <td>北海道</td>\n",
       "      <td>EARTH TENT</td>\n",
       "      <td>【OKAMOTO'S, 斎藤有太, 吾妻光良, 奥田民生, 仲井戸\"CHABO\"麗市, 中村...</td>\n",
       "      <td>179</td>\n",
       "    </tr>\n",
       "    <tr>\n",
       "      <th>7021</th>\n",
       "      <td>2007</td>\n",
       "      <td>RISING SUN ROCK FES</td>\n",
       "      <td>北海道</td>\n",
       "      <td>GREEN OASIS</td>\n",
       "      <td>POPGROUP\"KAIKOO\" @RISING SUN ROCK FESTIVAL 200...</td>\n",
       "      <td>178</td>\n",
       "    </tr>\n",
       "  </tbody>\n",
       "</table>\n",
       "</div>"
      ],
      "text/plain": [
       "      year  ... name_length\n",
       "7890  2016  ...         256\n",
       "4973  2015  ...         222\n",
       "8156  2018  ...         187\n",
       "7659  2014  ...         179\n",
       "7021  2007  ...         178\n",
       "\n",
       "[5 rows x 6 columns]"
      ]
     },
     "execution_count": 63,
     "metadata": {
      "tags": []
     },
     "output_type": "execute_result"
    }
   ],
   "source": [
    "# 長い順にソート\n",
    "master_df.sort_values(by='name_length', ascending=False).head()"
   ]
  },
  {
   "cell_type": "code",
   "execution_count": null,
   "metadata": {
    "colab": {
     "base_uri": "https://localhost:8080/",
     "height": 195
    },
    "colab_type": "code",
    "id": "wgCgcEd6qG4i",
    "outputId": "0b5db9a8-8b66-453c-e840-718412f9fa16"
   },
   "outputs": [
    {
     "data": {
      "text/html": [
       "<div>\n",
       "<style scoped>\n",
       "    .dataframe tbody tr th:only-of-type {\n",
       "        vertical-align: middle;\n",
       "    }\n",
       "\n",
       "    .dataframe tbody tr th {\n",
       "        vertical-align: top;\n",
       "    }\n",
       "\n",
       "    .dataframe thead th {\n",
       "        text-align: right;\n",
       "    }\n",
       "</style>\n",
       "<table border=\"1\" class=\"dataframe\">\n",
       "  <thead>\n",
       "    <tr style=\"text-align: right;\">\n",
       "      <th></th>\n",
       "      <th>year</th>\n",
       "      <th>fes_title</th>\n",
       "      <th>place</th>\n",
       "      <th>stage</th>\n",
       "      <th>artist_name</th>\n",
       "      <th>name_length</th>\n",
       "    </tr>\n",
       "  </thead>\n",
       "  <tbody>\n",
       "    <tr>\n",
       "      <th>8783</th>\n",
       "      <td>2009</td>\n",
       "      <td>ROCK IN JAPAN FES</td>\n",
       "      <td>茨城県</td>\n",
       "      <td>sound of forest</td>\n",
       "      <td>鶴</td>\n",
       "      <td>1</td>\n",
       "    </tr>\n",
       "    <tr>\n",
       "      <th>8896</th>\n",
       "      <td>2010</td>\n",
       "      <td>ROCK IN JAPAN FES</td>\n",
       "      <td>茨城県</td>\n",
       "      <td>PARK STAGE</td>\n",
       "      <td>J</td>\n",
       "      <td>1</td>\n",
       "    </tr>\n",
       "    <tr>\n",
       "      <th>9250</th>\n",
       "      <td>2013</td>\n",
       "      <td>ROCK IN JAPAN FES</td>\n",
       "      <td>茨城県</td>\n",
       "      <td>WING TENT</td>\n",
       "      <td>J</td>\n",
       "      <td>1</td>\n",
       "    </tr>\n",
       "    <tr>\n",
       "      <th>6394</th>\n",
       "      <td>2009</td>\n",
       "      <td>SUMMER SONIC</td>\n",
       "      <td>東京都</td>\n",
       "      <td>GARDENSTAGE</td>\n",
       "      <td>鶴</td>\n",
       "      <td>1</td>\n",
       "    </tr>\n",
       "    <tr>\n",
       "      <th>4056</th>\n",
       "      <td>2001</td>\n",
       "      <td>FUJI ROCK FESTIVAL</td>\n",
       "      <td>新潟県</td>\n",
       "      <td>Midnight M-stage music ROOKIE A GO-GO</td>\n",
       "      <td>界</td>\n",
       "      <td>1</td>\n",
       "    </tr>\n",
       "  </tbody>\n",
       "</table>\n",
       "</div>"
      ],
      "text/plain": [
       "      year           fes_title  ... artist_name name_length\n",
       "8783  2009   ROCK IN JAPAN FES  ...           鶴           1\n",
       "8896  2010   ROCK IN JAPAN FES  ...           J           1\n",
       "9250  2013   ROCK IN JAPAN FES  ...           J           1\n",
       "6394  2009        SUMMER SONIC  ...           鶴           1\n",
       "4056  2001  FUJI ROCK FESTIVAL  ...           界           1\n",
       "\n",
       "[5 rows x 6 columns]"
      ]
     },
     "execution_count": 64,
     "metadata": {
      "tags": []
     },
     "output_type": "execute_result"
    }
   ],
   "source": [
    "master_df.sort_values(by='name_length', ascending=True).head()"
   ]
  },
  {
   "cell_type": "code",
   "execution_count": null,
   "metadata": {
    "colab": {
     "base_uri": "https://localhost:8080/",
     "height": 402
    },
    "colab_type": "code",
    "id": "q5IiqVNCftIY",
    "outputId": "0c665de9-7ef3-4939-c76d-7da416498712"
   },
   "outputs": [
    {
     "data": {
      "text/html": [
       "<div>\n",
       "<style scoped>\n",
       "    .dataframe tbody tr th:only-of-type {\n",
       "        vertical-align: middle;\n",
       "    }\n",
       "\n",
       "    .dataframe tbody tr th {\n",
       "        vertical-align: top;\n",
       "    }\n",
       "\n",
       "    .dataframe thead th {\n",
       "        text-align: right;\n",
       "    }\n",
       "</style>\n",
       "<table border=\"1\" class=\"dataframe\">\n",
       "  <thead>\n",
       "    <tr style=\"text-align: right;\">\n",
       "      <th></th>\n",
       "      <th>year</th>\n",
       "      <th>fes_title</th>\n",
       "      <th>place</th>\n",
       "      <th>stage</th>\n",
       "      <th>artist_name</th>\n",
       "      <th>name_length</th>\n",
       "    </tr>\n",
       "  </thead>\n",
       "  <tbody>\n",
       "    <tr>\n",
       "      <th>0</th>\n",
       "      <td>False</td>\n",
       "      <td>False</td>\n",
       "      <td>False</td>\n",
       "      <td>False</td>\n",
       "      <td>False</td>\n",
       "      <td>False</td>\n",
       "    </tr>\n",
       "    <tr>\n",
       "      <th>1</th>\n",
       "      <td>False</td>\n",
       "      <td>False</td>\n",
       "      <td>False</td>\n",
       "      <td>False</td>\n",
       "      <td>False</td>\n",
       "      <td>False</td>\n",
       "    </tr>\n",
       "    <tr>\n",
       "      <th>2</th>\n",
       "      <td>False</td>\n",
       "      <td>False</td>\n",
       "      <td>False</td>\n",
       "      <td>False</td>\n",
       "      <td>False</td>\n",
       "      <td>False</td>\n",
       "    </tr>\n",
       "    <tr>\n",
       "      <th>3</th>\n",
       "      <td>False</td>\n",
       "      <td>False</td>\n",
       "      <td>False</td>\n",
       "      <td>False</td>\n",
       "      <td>False</td>\n",
       "      <td>False</td>\n",
       "    </tr>\n",
       "    <tr>\n",
       "      <th>4</th>\n",
       "      <td>False</td>\n",
       "      <td>False</td>\n",
       "      <td>False</td>\n",
       "      <td>False</td>\n",
       "      <td>False</td>\n",
       "      <td>False</td>\n",
       "    </tr>\n",
       "    <tr>\n",
       "      <th>...</th>\n",
       "      <td>...</td>\n",
       "      <td>...</td>\n",
       "      <td>...</td>\n",
       "      <td>...</td>\n",
       "      <td>...</td>\n",
       "      <td>...</td>\n",
       "    </tr>\n",
       "    <tr>\n",
       "      <th>9996</th>\n",
       "      <td>False</td>\n",
       "      <td>False</td>\n",
       "      <td>False</td>\n",
       "      <td>False</td>\n",
       "      <td>False</td>\n",
       "      <td>False</td>\n",
       "    </tr>\n",
       "    <tr>\n",
       "      <th>9997</th>\n",
       "      <td>False</td>\n",
       "      <td>False</td>\n",
       "      <td>False</td>\n",
       "      <td>False</td>\n",
       "      <td>False</td>\n",
       "      <td>False</td>\n",
       "    </tr>\n",
       "    <tr>\n",
       "      <th>9998</th>\n",
       "      <td>False</td>\n",
       "      <td>False</td>\n",
       "      <td>False</td>\n",
       "      <td>False</td>\n",
       "      <td>False</td>\n",
       "      <td>False</td>\n",
       "    </tr>\n",
       "    <tr>\n",
       "      <th>9999</th>\n",
       "      <td>False</td>\n",
       "      <td>False</td>\n",
       "      <td>False</td>\n",
       "      <td>False</td>\n",
       "      <td>False</td>\n",
       "      <td>False</td>\n",
       "    </tr>\n",
       "    <tr>\n",
       "      <th>10000</th>\n",
       "      <td>False</td>\n",
       "      <td>False</td>\n",
       "      <td>False</td>\n",
       "      <td>False</td>\n",
       "      <td>False</td>\n",
       "      <td>False</td>\n",
       "    </tr>\n",
       "  </tbody>\n",
       "</table>\n",
       "<p>10001 rows × 6 columns</p>\n",
       "</div>"
      ],
      "text/plain": [
       "        year  fes_title  place  stage  artist_name  name_length\n",
       "0      False      False  False  False        False        False\n",
       "1      False      False  False  False        False        False\n",
       "2      False      False  False  False        False        False\n",
       "3      False      False  False  False        False        False\n",
       "4      False      False  False  False        False        False\n",
       "...      ...        ...    ...    ...          ...          ...\n",
       "9996   False      False  False  False        False        False\n",
       "9997   False      False  False  False        False        False\n",
       "9998   False      False  False  False        False        False\n",
       "9999   False      False  False  False        False        False\n",
       "10000  False      False  False  False        False        False\n",
       "\n",
       "[10001 rows x 6 columns]"
      ]
     },
     "execution_count": 65,
     "metadata": {
      "tags": []
     },
     "output_type": "execute_result"
    }
   ],
   "source": [
    "# 欠損値を確認\n",
    "master_df.isnull()"
   ]
  },
  {
   "cell_type": "code",
   "execution_count": null,
   "metadata": {
    "colab": {
     "base_uri": "https://localhost:8080/",
     "height": 140
    },
    "colab_type": "code",
    "id": "Q8wQ_KvfqphT",
    "outputId": "9e73d201-b0c5-49c3-c185-4d84afa74bf8"
   },
   "outputs": [
    {
     "data": {
      "text/plain": [
       "year            0\n",
       "fes_title       0\n",
       "place           0\n",
       "stage          14\n",
       "artist_name     0\n",
       "name_length     0\n",
       "dtype: int64"
      ]
     },
     "execution_count": 72,
     "metadata": {
      "tags": []
     },
     "output_type": "execute_result"
    }
   ],
   "source": [
    "master_df.isnull().sum()"
   ]
  },
  {
   "cell_type": "code",
   "execution_count": null,
   "metadata": {
    "colab": {
     "base_uri": "https://localhost:8080/",
     "height": 140
    },
    "colab_type": "code",
    "id": "L90GiYs9f19B",
    "outputId": "49657639-d95d-41a3-8ba2-f31698623371"
   },
   "outputs": [
    {
     "data": {
      "text/plain": [
       "year           0\n",
       "fes_title      0\n",
       "place          0\n",
       "stage          0\n",
       "artist_name    0\n",
       "name_length    0\n",
       "dtype: int64"
      ]
     },
     "execution_count": 68,
     "metadata": {
      "tags": []
     },
     "output_type": "execute_result"
    }
   ],
   "source": [
    "# 欠損値(null)を置換\n",
    "master_df.fillna(value={'stage': ''}, inplace=True)\n",
    "master_df.isnull().sum()"
   ]
  },
  {
   "cell_type": "code",
   "execution_count": null,
   "metadata": {
    "colab": {
     "base_uri": "https://localhost:8080/",
     "height": 140
    },
    "colab_type": "code",
    "id": "6yO8-e6TsU9t",
    "outputId": "156e459d-d066-4cae-a906-a61e77204635"
   },
   "outputs": [
    {
     "data": {
      "text/plain": [
       "year           0\n",
       "fes_title      0\n",
       "place          0\n",
       "stage          0\n",
       "artist_name    0\n",
       "name_length    0\n",
       "dtype: int64"
      ]
     },
     "execution_count": 74,
     "metadata": {
      "tags": []
     },
     "output_type": "execute_result"
    }
   ],
   "source": [
    "# 欠損値がある行を削除\n",
    "master_df.dropna(inplace=True)\n",
    "master_df.isnull().sum()"
   ]
  },
  {
   "cell_type": "markdown",
   "metadata": {
    "colab_type": "text",
    "id": "Iw0VUkdcryrK"
   },
   "source": [
    "2018,'stage 1', 0001\n",
    "\n",
    "2019,'',0002"
   ]
  },
  {
   "cell_type": "code",
   "execution_count": null,
   "metadata": {
    "colab": {
     "base_uri": "https://localhost:8080/",
     "height": 195
    },
    "colab_type": "code",
    "id": "o8u7pJueo82f",
    "outputId": "793c2277-27ab-4f44-94ef-78c5df157463"
   },
   "outputs": [
    {
     "data": {
      "text/html": [
       "<div>\n",
       "<style scoped>\n",
       "    .dataframe tbody tr th:only-of-type {\n",
       "        vertical-align: middle;\n",
       "    }\n",
       "\n",
       "    .dataframe tbody tr th {\n",
       "        vertical-align: top;\n",
       "    }\n",
       "\n",
       "    .dataframe thead th {\n",
       "        text-align: right;\n",
       "    }\n",
       "</style>\n",
       "<table border=\"1\" class=\"dataframe\">\n",
       "  <thead>\n",
       "    <tr style=\"text-align: right;\">\n",
       "      <th></th>\n",
       "      <th>year</th>\n",
       "      <th>fes_title</th>\n",
       "      <th>place</th>\n",
       "      <th>stage</th>\n",
       "      <th>artist_name</th>\n",
       "      <th>name_length</th>\n",
       "    </tr>\n",
       "  </thead>\n",
       "  <tbody>\n",
       "    <tr>\n",
       "      <th>0</th>\n",
       "      <td>2018</td>\n",
       "      <td>FUJI ROCK FESTIVAL</td>\n",
       "      <td>新潟県</td>\n",
       "      <td>GREEN STAGE</td>\n",
       "      <td>MONGOL800</td>\n",
       "      <td>9</td>\n",
       "    </tr>\n",
       "    <tr>\n",
       "      <th>1</th>\n",
       "      <td>2018</td>\n",
       "      <td>FUJI ROCK FESTIVAL</td>\n",
       "      <td>新潟県</td>\n",
       "      <td>GREEN STAGE</td>\n",
       "      <td>GLIM SPANKY</td>\n",
       "      <td>11</td>\n",
       "    </tr>\n",
       "    <tr>\n",
       "      <th>2</th>\n",
       "      <td>2018</td>\n",
       "      <td>FUJI ROCK FESTIVAL</td>\n",
       "      <td>新潟県</td>\n",
       "      <td>GREEN STAGE</td>\n",
       "      <td>ROUTE 17 Rock'n'Roll ORCHESTRA (feat. 仲井戸\"CHAB...</td>\n",
       "      <td>69</td>\n",
       "    </tr>\n",
       "    <tr>\n",
       "      <th>3</th>\n",
       "      <td>2018</td>\n",
       "      <td>FUJI ROCK FESTIVAL</td>\n",
       "      <td>新潟県</td>\n",
       "      <td>GREEN STAGE</td>\n",
       "      <td>YEARS &amp; YEARS</td>\n",
       "      <td>13</td>\n",
       "    </tr>\n",
       "    <tr>\n",
       "      <th>4</th>\n",
       "      <td>2018</td>\n",
       "      <td>FUJI ROCK FESTIVAL</td>\n",
       "      <td>新潟県</td>\n",
       "      <td>GREEN STAGE</td>\n",
       "      <td>サカナクション</td>\n",
       "      <td>7</td>\n",
       "    </tr>\n",
       "  </tbody>\n",
       "</table>\n",
       "</div>"
      ],
      "text/plain": [
       "   year  ... name_length\n",
       "0  2018  ...           9\n",
       "1  2018  ...          11\n",
       "2  2018  ...          69\n",
       "3  2018  ...          13\n",
       "4  2018  ...           7\n",
       "\n",
       "[5 rows x 6 columns]"
      ]
     },
     "execution_count": 59,
     "metadata": {
      "tags": []
     },
     "output_type": "execute_result"
    }
   ],
   "source": [
    "master_df.head()"
   ]
  },
  {
   "cell_type": "markdown",
   "metadata": {
    "colab_type": "text",
    "id": "SiqmTs6AJRQL"
   },
   "source": [
    "FUJI ROCK FESTIVAL のみ抽出"
   ]
  },
  {
   "cell_type": "code",
   "execution_count": null,
   "metadata": {
    "colab": {},
    "colab_type": "code",
    "id": "pL-AbgamEy5s"
   },
   "outputs": [],
   "source": [
    "fuji_rock = master_df[master_df[\"fes_title\"] == \"FUJI ROCK FESTIVAL\"]"
   ]
  },
  {
   "cell_type": "code",
   "execution_count": null,
   "metadata": {
    "colab": {
     "base_uri": "https://localhost:8080/",
     "height": 402
    },
    "colab_type": "code",
    "id": "o8CMKamrtDYv",
    "outputId": "df0f1ac8-063f-4431-a6c0-c0eb762ce529"
   },
   "outputs": [
    {
     "data": {
      "text/html": [
       "<div>\n",
       "<style scoped>\n",
       "    .dataframe tbody tr th:only-of-type {\n",
       "        vertical-align: middle;\n",
       "    }\n",
       "\n",
       "    .dataframe tbody tr th {\n",
       "        vertical-align: top;\n",
       "    }\n",
       "\n",
       "    .dataframe thead th {\n",
       "        text-align: right;\n",
       "    }\n",
       "</style>\n",
       "<table border=\"1\" class=\"dataframe\">\n",
       "  <thead>\n",
       "    <tr style=\"text-align: right;\">\n",
       "      <th></th>\n",
       "      <th>year</th>\n",
       "      <th>fes_title</th>\n",
       "      <th>place</th>\n",
       "      <th>stage</th>\n",
       "      <th>artist_name</th>\n",
       "      <th>name_length</th>\n",
       "    </tr>\n",
       "  </thead>\n",
       "  <tbody>\n",
       "    <tr>\n",
       "      <th>0</th>\n",
       "      <td>2018</td>\n",
       "      <td>FUJI ROCK FESTIVAL</td>\n",
       "      <td>新潟県</td>\n",
       "      <td>GREEN STAGE</td>\n",
       "      <td>MONGOL800</td>\n",
       "      <td>9</td>\n",
       "    </tr>\n",
       "    <tr>\n",
       "      <th>1</th>\n",
       "      <td>2018</td>\n",
       "      <td>FUJI ROCK FESTIVAL</td>\n",
       "      <td>新潟県</td>\n",
       "      <td>GREEN STAGE</td>\n",
       "      <td>GLIM SPANKY</td>\n",
       "      <td>11</td>\n",
       "    </tr>\n",
       "    <tr>\n",
       "      <th>2</th>\n",
       "      <td>2018</td>\n",
       "      <td>FUJI ROCK FESTIVAL</td>\n",
       "      <td>新潟県</td>\n",
       "      <td>GREEN STAGE</td>\n",
       "      <td>ROUTE 17 Rock'n'Roll ORCHESTRA (feat. 仲井戸\"CHAB...</td>\n",
       "      <td>69</td>\n",
       "    </tr>\n",
       "    <tr>\n",
       "      <th>3</th>\n",
       "      <td>2018</td>\n",
       "      <td>FUJI ROCK FESTIVAL</td>\n",
       "      <td>新潟県</td>\n",
       "      <td>GREEN STAGE</td>\n",
       "      <td>YEARS &amp; YEARS</td>\n",
       "      <td>13</td>\n",
       "    </tr>\n",
       "    <tr>\n",
       "      <th>4</th>\n",
       "      <td>2018</td>\n",
       "      <td>FUJI ROCK FESTIVAL</td>\n",
       "      <td>新潟県</td>\n",
       "      <td>GREEN STAGE</td>\n",
       "      <td>サカナクション</td>\n",
       "      <td>7</td>\n",
       "    </tr>\n",
       "    <tr>\n",
       "      <th>...</th>\n",
       "      <td>...</td>\n",
       "      <td>...</td>\n",
       "      <td>...</td>\n",
       "      <td>...</td>\n",
       "      <td>...</td>\n",
       "      <td>...</td>\n",
       "    </tr>\n",
       "    <tr>\n",
       "      <th>4378</th>\n",
       "      <td>1997</td>\n",
       "      <td>FUJI ROCK FESTIVAL</td>\n",
       "      <td>山梨県</td>\n",
       "      <td>SECOND STAGE</td>\n",
       "      <td>audio active</td>\n",
       "      <td>12</td>\n",
       "    </tr>\n",
       "    <tr>\n",
       "      <th>4379</th>\n",
       "      <td>1997</td>\n",
       "      <td>FUJI ROCK FESTIVAL</td>\n",
       "      <td>山梨県</td>\n",
       "      <td>SECOND STAGE</td>\n",
       "      <td>MAD PROFESSOR</td>\n",
       "      <td>13</td>\n",
       "    </tr>\n",
       "    <tr>\n",
       "      <th>4380</th>\n",
       "      <td>1997</td>\n",
       "      <td>FUJI ROCK FESTIVAL</td>\n",
       "      <td>山梨県</td>\n",
       "      <td>SECOND STAGE</td>\n",
       "      <td>SQUAREPUSHER</td>\n",
       "      <td>12</td>\n",
       "    </tr>\n",
       "    <tr>\n",
       "      <th>4381</th>\n",
       "      <td>1997</td>\n",
       "      <td>FUJI ROCK FESTIVAL</td>\n",
       "      <td>山梨県</td>\n",
       "      <td>SECOND STAGE</td>\n",
       "      <td>Lee \"scratch\" Parry</td>\n",
       "      <td>19</td>\n",
       "    </tr>\n",
       "    <tr>\n",
       "      <th>4382</th>\n",
       "      <td>1997</td>\n",
       "      <td>FUJI ROCK FESTIVAL</td>\n",
       "      <td>山梨県</td>\n",
       "      <td>SECOND STAGE</td>\n",
       "      <td>MASSIVE ATTACK</td>\n",
       "      <td>14</td>\n",
       "    </tr>\n",
       "  </tbody>\n",
       "</table>\n",
       "<p>4383 rows × 6 columns</p>\n",
       "</div>"
      ],
      "text/plain": [
       "      year  ... name_length\n",
       "0     2018  ...           9\n",
       "1     2018  ...          11\n",
       "2     2018  ...          69\n",
       "3     2018  ...          13\n",
       "4     2018  ...           7\n",
       "...    ...  ...         ...\n",
       "4378  1997  ...          12\n",
       "4379  1997  ...          13\n",
       "4380  1997  ...          12\n",
       "4381  1997  ...          19\n",
       "4382  1997  ...          14\n",
       "\n",
       "[4383 rows x 6 columns]"
      ]
     },
     "execution_count": 76,
     "metadata": {
      "tags": []
     },
     "output_type": "execute_result"
    }
   ],
   "source": [
    "fuji_rock"
   ]
  },
  {
   "cell_type": "code",
   "execution_count": null,
   "metadata": {
    "colab": {},
    "colab_type": "code",
    "id": "1SmHeh4JrQxa"
   },
   "outputs": [],
   "source": [
    "fuji_rock.head(5)"
   ]
  },
  {
   "cell_type": "markdown",
   "metadata": {
    "colab_type": "text",
    "id": "hBVb48sn1U6W"
   },
   "source": [
    "年毎のアーティスト名の長さの平均を求める手順\n",
    "\n",
    "1. DataFrameの全データを年毎に分割して、グループを作成 (Splitting)\n",
    "2. グループ毎に平均値を求める (Applying)\n",
    "3. それぞれのグループを合わせた新しいDataFrameを作成 (Combining)\n",
    "\n",
    "\n",
    "\n",
    "![年毎の平均値を求める](http://drive.google.com/uc?export=view&id=1jWuNslF69Rd2dYjJfN1LkzELnOJ0k8js)\n",
    "\n",
    "\n",
    "公式ドキュメント\n",
    "\n",
    "https://pandas.pydata.org/pandas-docs/stable/user_guide/groupby.html\n"
   ]
  },
  {
   "cell_type": "code",
   "execution_count": null,
   "metadata": {
    "colab": {},
    "colab_type": "code",
    "id": "Nl6496i7xfJ3"
   },
   "outputs": [],
   "source": [
    "# 年ごとにデータを分割\n",
    "fuji_rock_groupby_year = fuji_rock.groupby('year')"
   ]
  },
  {
   "cell_type": "code",
   "execution_count": null,
   "metadata": {
    "colab": {
     "base_uri": "https://localhost:8080/",
     "height": 728
    },
    "colab_type": "code",
    "id": "TRrNHDPX0PRQ",
    "outputId": "31da0c1e-b678-436b-e8d2-9d81146d1750"
   },
   "outputs": [
    {
     "data": {
      "text/html": [
       "<div>\n",
       "<style scoped>\n",
       "    .dataframe tbody tr th:only-of-type {\n",
       "        vertical-align: middle;\n",
       "    }\n",
       "\n",
       "    .dataframe tbody tr th {\n",
       "        vertical-align: top;\n",
       "    }\n",
       "\n",
       "    .dataframe thead th {\n",
       "        text-align: right;\n",
       "    }\n",
       "</style>\n",
       "<table border=\"1\" class=\"dataframe\">\n",
       "  <thead>\n",
       "    <tr style=\"text-align: right;\">\n",
       "      <th></th>\n",
       "      <th>name_length</th>\n",
       "    </tr>\n",
       "    <tr>\n",
       "      <th>year</th>\n",
       "      <th></th>\n",
       "    </tr>\n",
       "  </thead>\n",
       "  <tbody>\n",
       "    <tr>\n",
       "      <th>1997</th>\n",
       "      <td>13.593750</td>\n",
       "    </tr>\n",
       "    <tr>\n",
       "      <th>1998</th>\n",
       "      <td>13.121212</td>\n",
       "    </tr>\n",
       "    <tr>\n",
       "      <th>1999</th>\n",
       "      <td>15.000000</td>\n",
       "    </tr>\n",
       "    <tr>\n",
       "      <th>2000</th>\n",
       "      <td>12.837209</td>\n",
       "    </tr>\n",
       "    <tr>\n",
       "      <th>2001</th>\n",
       "      <td>11.118110</td>\n",
       "    </tr>\n",
       "    <tr>\n",
       "      <th>2002</th>\n",
       "      <td>12.041985</td>\n",
       "    </tr>\n",
       "    <tr>\n",
       "      <th>2003</th>\n",
       "      <td>12.819767</td>\n",
       "    </tr>\n",
       "    <tr>\n",
       "      <th>2004</th>\n",
       "      <td>12.462766</td>\n",
       "    </tr>\n",
       "    <tr>\n",
       "      <th>2005</th>\n",
       "      <td>13.728155</td>\n",
       "    </tr>\n",
       "    <tr>\n",
       "      <th>2006</th>\n",
       "      <td>13.451327</td>\n",
       "    </tr>\n",
       "    <tr>\n",
       "      <th>2007</th>\n",
       "      <td>13.672646</td>\n",
       "    </tr>\n",
       "    <tr>\n",
       "      <th>2008</th>\n",
       "      <td>14.190265</td>\n",
       "    </tr>\n",
       "    <tr>\n",
       "      <th>2009</th>\n",
       "      <td>13.588235</td>\n",
       "    </tr>\n",
       "    <tr>\n",
       "      <th>2010</th>\n",
       "      <td>15.644068</td>\n",
       "    </tr>\n",
       "    <tr>\n",
       "      <th>2011</th>\n",
       "      <td>13.690377</td>\n",
       "    </tr>\n",
       "    <tr>\n",
       "      <th>2012</th>\n",
       "      <td>14.788235</td>\n",
       "    </tr>\n",
       "    <tr>\n",
       "      <th>2013</th>\n",
       "      <td>16.206107</td>\n",
       "    </tr>\n",
       "    <tr>\n",
       "      <th>2014</th>\n",
       "      <td>15.934959</td>\n",
       "    </tr>\n",
       "    <tr>\n",
       "      <th>2015</th>\n",
       "      <td>13.960591</td>\n",
       "    </tr>\n",
       "    <tr>\n",
       "      <th>2016</th>\n",
       "      <td>14.673729</td>\n",
       "    </tr>\n",
       "    <tr>\n",
       "      <th>2017</th>\n",
       "      <td>13.548780</td>\n",
       "    </tr>\n",
       "    <tr>\n",
       "      <th>2018</th>\n",
       "      <td>14.340426</td>\n",
       "    </tr>\n",
       "  </tbody>\n",
       "</table>\n",
       "</div>"
      ],
      "text/plain": [
       "      name_length\n",
       "year             \n",
       "1997    13.593750\n",
       "1998    13.121212\n",
       "1999    15.000000\n",
       "2000    12.837209\n",
       "2001    11.118110\n",
       "2002    12.041985\n",
       "2003    12.819767\n",
       "2004    12.462766\n",
       "2005    13.728155\n",
       "2006    13.451327\n",
       "2007    13.672646\n",
       "2008    14.190265\n",
       "2009    13.588235\n",
       "2010    15.644068\n",
       "2011    13.690377\n",
       "2012    14.788235\n",
       "2013    16.206107\n",
       "2014    15.934959\n",
       "2015    13.960591\n",
       "2016    14.673729\n",
       "2017    13.548780\n",
       "2018    14.340426"
      ]
     },
     "execution_count": 80,
     "metadata": {
      "tags": []
     },
     "output_type": "execute_result"
    }
   ],
   "source": [
    "# 年ごとの平均値を算出、データを合成\n",
    "fuji_rock_groupby_year.mean()"
   ]
  },
  {
   "cell_type": "code",
   "execution_count": null,
   "metadata": {
    "colab": {
     "base_uri": "https://localhost:8080/",
     "height": 758
    },
    "colab_type": "code",
    "id": "xLQXpL8N0WR7",
    "outputId": "b7679aef-2e74-44f1-abe6-bde7514d67d8"
   },
   "outputs": [
    {
     "data": {
      "text/html": [
       "<div>\n",
       "<style scoped>\n",
       "    .dataframe tbody tr th:only-of-type {\n",
       "        vertical-align: middle;\n",
       "    }\n",
       "\n",
       "    .dataframe tbody tr th {\n",
       "        vertical-align: top;\n",
       "    }\n",
       "\n",
       "    .dataframe thead tr th {\n",
       "        text-align: left;\n",
       "    }\n",
       "\n",
       "    .dataframe thead tr:last-of-type th {\n",
       "        text-align: right;\n",
       "    }\n",
       "</style>\n",
       "<table border=\"1\" class=\"dataframe\">\n",
       "  <thead>\n",
       "    <tr>\n",
       "      <th></th>\n",
       "      <th colspan=\"8\" halign=\"left\">name_length</th>\n",
       "    </tr>\n",
       "    <tr>\n",
       "      <th></th>\n",
       "      <th>count</th>\n",
       "      <th>mean</th>\n",
       "      <th>std</th>\n",
       "      <th>min</th>\n",
       "      <th>25%</th>\n",
       "      <th>50%</th>\n",
       "      <th>75%</th>\n",
       "      <th>max</th>\n",
       "    </tr>\n",
       "    <tr>\n",
       "      <th>year</th>\n",
       "      <th></th>\n",
       "      <th></th>\n",
       "      <th></th>\n",
       "      <th></th>\n",
       "      <th></th>\n",
       "      <th></th>\n",
       "      <th></th>\n",
       "      <th></th>\n",
       "    </tr>\n",
       "  </thead>\n",
       "  <tbody>\n",
       "    <tr>\n",
       "      <th>1997</th>\n",
       "      <td>32.0</td>\n",
       "      <td>13.593750</td>\n",
       "      <td>7.237266</td>\n",
       "      <td>4.0</td>\n",
       "      <td>6.75</td>\n",
       "      <td>13.0</td>\n",
       "      <td>18.25</td>\n",
       "      <td>29.0</td>\n",
       "    </tr>\n",
       "    <tr>\n",
       "      <th>1998</th>\n",
       "      <td>33.0</td>\n",
       "      <td>13.121212</td>\n",
       "      <td>7.448815</td>\n",
       "      <td>4.0</td>\n",
       "      <td>7.00</td>\n",
       "      <td>12.0</td>\n",
       "      <td>19.00</td>\n",
       "      <td>31.0</td>\n",
       "    </tr>\n",
       "    <tr>\n",
       "      <th>1999</th>\n",
       "      <td>116.0</td>\n",
       "      <td>15.000000</td>\n",
       "      <td>10.322622</td>\n",
       "      <td>2.0</td>\n",
       "      <td>8.00</td>\n",
       "      <td>13.0</td>\n",
       "      <td>18.00</td>\n",
       "      <td>56.0</td>\n",
       "    </tr>\n",
       "    <tr>\n",
       "      <th>2000</th>\n",
       "      <td>129.0</td>\n",
       "      <td>12.837209</td>\n",
       "      <td>7.660563</td>\n",
       "      <td>2.0</td>\n",
       "      <td>8.00</td>\n",
       "      <td>11.0</td>\n",
       "      <td>16.00</td>\n",
       "      <td>42.0</td>\n",
       "    </tr>\n",
       "    <tr>\n",
       "      <th>2001</th>\n",
       "      <td>127.0</td>\n",
       "      <td>11.118110</td>\n",
       "      <td>6.271141</td>\n",
       "      <td>1.0</td>\n",
       "      <td>7.00</td>\n",
       "      <td>11.0</td>\n",
       "      <td>13.50</td>\n",
       "      <td>45.0</td>\n",
       "    </tr>\n",
       "    <tr>\n",
       "      <th>2002</th>\n",
       "      <td>262.0</td>\n",
       "      <td>12.041985</td>\n",
       "      <td>7.191027</td>\n",
       "      <td>1.0</td>\n",
       "      <td>7.00</td>\n",
       "      <td>11.0</td>\n",
       "      <td>14.00</td>\n",
       "      <td>50.0</td>\n",
       "    </tr>\n",
       "    <tr>\n",
       "      <th>2003</th>\n",
       "      <td>172.0</td>\n",
       "      <td>12.819767</td>\n",
       "      <td>8.677932</td>\n",
       "      <td>2.0</td>\n",
       "      <td>7.00</td>\n",
       "      <td>11.0</td>\n",
       "      <td>18.25</td>\n",
       "      <td>60.0</td>\n",
       "    </tr>\n",
       "    <tr>\n",
       "      <th>2004</th>\n",
       "      <td>188.0</td>\n",
       "      <td>12.462766</td>\n",
       "      <td>9.805253</td>\n",
       "      <td>1.0</td>\n",
       "      <td>6.00</td>\n",
       "      <td>11.0</td>\n",
       "      <td>15.00</td>\n",
       "      <td>64.0</td>\n",
       "    </tr>\n",
       "    <tr>\n",
       "      <th>2005</th>\n",
       "      <td>206.0</td>\n",
       "      <td>13.728155</td>\n",
       "      <td>9.253813</td>\n",
       "      <td>2.0</td>\n",
       "      <td>7.00</td>\n",
       "      <td>11.0</td>\n",
       "      <td>18.00</td>\n",
       "      <td>49.0</td>\n",
       "    </tr>\n",
       "    <tr>\n",
       "      <th>2006</th>\n",
       "      <td>226.0</td>\n",
       "      <td>13.451327</td>\n",
       "      <td>8.821178</td>\n",
       "      <td>2.0</td>\n",
       "      <td>7.00</td>\n",
       "      <td>11.0</td>\n",
       "      <td>17.00</td>\n",
       "      <td>45.0</td>\n",
       "    </tr>\n",
       "    <tr>\n",
       "      <th>2007</th>\n",
       "      <td>223.0</td>\n",
       "      <td>13.672646</td>\n",
       "      <td>8.802411</td>\n",
       "      <td>2.0</td>\n",
       "      <td>8.00</td>\n",
       "      <td>12.0</td>\n",
       "      <td>18.00</td>\n",
       "      <td>47.0</td>\n",
       "    </tr>\n",
       "    <tr>\n",
       "      <th>2008</th>\n",
       "      <td>226.0</td>\n",
       "      <td>14.190265</td>\n",
       "      <td>10.105844</td>\n",
       "      <td>2.0</td>\n",
       "      <td>8.00</td>\n",
       "      <td>12.0</td>\n",
       "      <td>19.00</td>\n",
       "      <td>74.0</td>\n",
       "    </tr>\n",
       "    <tr>\n",
       "      <th>2009</th>\n",
       "      <td>238.0</td>\n",
       "      <td>13.588235</td>\n",
       "      <td>9.364095</td>\n",
       "      <td>2.0</td>\n",
       "      <td>7.00</td>\n",
       "      <td>11.0</td>\n",
       "      <td>17.75</td>\n",
       "      <td>60.0</td>\n",
       "    </tr>\n",
       "    <tr>\n",
       "      <th>2010</th>\n",
       "      <td>236.0</td>\n",
       "      <td>15.644068</td>\n",
       "      <td>11.272656</td>\n",
       "      <td>3.0</td>\n",
       "      <td>8.00</td>\n",
       "      <td>13.0</td>\n",
       "      <td>19.25</td>\n",
       "      <td>60.0</td>\n",
       "    </tr>\n",
       "    <tr>\n",
       "      <th>2011</th>\n",
       "      <td>239.0</td>\n",
       "      <td>13.690377</td>\n",
       "      <td>9.207023</td>\n",
       "      <td>2.0</td>\n",
       "      <td>7.00</td>\n",
       "      <td>11.0</td>\n",
       "      <td>18.00</td>\n",
       "      <td>47.0</td>\n",
       "    </tr>\n",
       "    <tr>\n",
       "      <th>2012</th>\n",
       "      <td>255.0</td>\n",
       "      <td>14.788235</td>\n",
       "      <td>12.031874</td>\n",
       "      <td>1.0</td>\n",
       "      <td>7.00</td>\n",
       "      <td>11.0</td>\n",
       "      <td>18.00</td>\n",
       "      <td>98.0</td>\n",
       "    </tr>\n",
       "    <tr>\n",
       "      <th>2013</th>\n",
       "      <td>262.0</td>\n",
       "      <td>16.206107</td>\n",
       "      <td>12.648940</td>\n",
       "      <td>2.0</td>\n",
       "      <td>8.00</td>\n",
       "      <td>13.0</td>\n",
       "      <td>20.00</td>\n",
       "      <td>95.0</td>\n",
       "    </tr>\n",
       "    <tr>\n",
       "      <th>2014</th>\n",
       "      <td>246.0</td>\n",
       "      <td>15.934959</td>\n",
       "      <td>11.621402</td>\n",
       "      <td>2.0</td>\n",
       "      <td>8.00</td>\n",
       "      <td>13.0</td>\n",
       "      <td>18.75</td>\n",
       "      <td>75.0</td>\n",
       "    </tr>\n",
       "    <tr>\n",
       "      <th>2015</th>\n",
       "      <td>203.0</td>\n",
       "      <td>13.960591</td>\n",
       "      <td>11.461447</td>\n",
       "      <td>1.0</td>\n",
       "      <td>7.00</td>\n",
       "      <td>10.0</td>\n",
       "      <td>17.50</td>\n",
       "      <td>75.0</td>\n",
       "    </tr>\n",
       "    <tr>\n",
       "      <th>2016</th>\n",
       "      <td>236.0</td>\n",
       "      <td>14.673729</td>\n",
       "      <td>12.047402</td>\n",
       "      <td>2.0</td>\n",
       "      <td>7.00</td>\n",
       "      <td>12.0</td>\n",
       "      <td>18.00</td>\n",
       "      <td>91.0</td>\n",
       "    </tr>\n",
       "    <tr>\n",
       "      <th>2017</th>\n",
       "      <td>246.0</td>\n",
       "      <td>13.548780</td>\n",
       "      <td>10.545705</td>\n",
       "      <td>3.0</td>\n",
       "      <td>7.00</td>\n",
       "      <td>10.0</td>\n",
       "      <td>17.00</td>\n",
       "      <td>76.0</td>\n",
       "    </tr>\n",
       "    <tr>\n",
       "      <th>2018</th>\n",
       "      <td>282.0</td>\n",
       "      <td>14.340426</td>\n",
       "      <td>11.049761</td>\n",
       "      <td>2.0</td>\n",
       "      <td>8.00</td>\n",
       "      <td>12.0</td>\n",
       "      <td>16.75</td>\n",
       "      <td>90.0</td>\n",
       "    </tr>\n",
       "  </tbody>\n",
       "</table>\n",
       "</div>"
      ],
      "text/plain": [
       "     name_length                                                    \n",
       "           count       mean        std  min   25%   50%    75%   max\n",
       "year                                                                \n",
       "1997        32.0  13.593750   7.237266  4.0  6.75  13.0  18.25  29.0\n",
       "1998        33.0  13.121212   7.448815  4.0  7.00  12.0  19.00  31.0\n",
       "1999       116.0  15.000000  10.322622  2.0  8.00  13.0  18.00  56.0\n",
       "2000       129.0  12.837209   7.660563  2.0  8.00  11.0  16.00  42.0\n",
       "2001       127.0  11.118110   6.271141  1.0  7.00  11.0  13.50  45.0\n",
       "2002       262.0  12.041985   7.191027  1.0  7.00  11.0  14.00  50.0\n",
       "2003       172.0  12.819767   8.677932  2.0  7.00  11.0  18.25  60.0\n",
       "2004       188.0  12.462766   9.805253  1.0  6.00  11.0  15.00  64.0\n",
       "2005       206.0  13.728155   9.253813  2.0  7.00  11.0  18.00  49.0\n",
       "2006       226.0  13.451327   8.821178  2.0  7.00  11.0  17.00  45.0\n",
       "2007       223.0  13.672646   8.802411  2.0  8.00  12.0  18.00  47.0\n",
       "2008       226.0  14.190265  10.105844  2.0  8.00  12.0  19.00  74.0\n",
       "2009       238.0  13.588235   9.364095  2.0  7.00  11.0  17.75  60.0\n",
       "2010       236.0  15.644068  11.272656  3.0  8.00  13.0  19.25  60.0\n",
       "2011       239.0  13.690377   9.207023  2.0  7.00  11.0  18.00  47.0\n",
       "2012       255.0  14.788235  12.031874  1.0  7.00  11.0  18.00  98.0\n",
       "2013       262.0  16.206107  12.648940  2.0  8.00  13.0  20.00  95.0\n",
       "2014       246.0  15.934959  11.621402  2.0  8.00  13.0  18.75  75.0\n",
       "2015       203.0  13.960591  11.461447  1.0  7.00  10.0  17.50  75.0\n",
       "2016       236.0  14.673729  12.047402  2.0  7.00  12.0  18.00  91.0\n",
       "2017       246.0  13.548780  10.545705  3.0  7.00  10.0  17.00  76.0\n",
       "2018       282.0  14.340426  11.049761  2.0  8.00  12.0  16.75  90.0"
      ]
     },
     "execution_count": 81,
     "metadata": {
      "tags": []
     },
     "output_type": "execute_result"
    }
   ],
   "source": [
    "# describe() を用いると様々な統計データを表示できる\n",
    "fuji_rock_groupby_year.describe()"
   ]
  },
  {
   "cell_type": "markdown",
   "metadata": {
    "colab_type": "text",
    "id": "c7ERMsk08mR2"
   },
   "source": [
    "平均値を棒グラフで表示する際は、barplot を使用\n",
    "\n",
    "\n",
    "https://seaborn.pydata.org/generated/seaborn.barplot.html"
   ]
  },
  {
   "cell_type": "code",
   "execution_count": null,
   "metadata": {
    "colab": {
     "base_uri": "https://localhost:8080/",
     "height": 303
    },
    "colab_type": "code",
    "id": "HAvaNp8pZsKf",
    "outputId": "c1da790a-b8f9-418d-bf64-e3810d7bcbb2"
   },
   "outputs": [
    {
     "data": {
      "image/png": "[encoded data removed]",
      "text/plain": [
       "<Figure size 432x288 with 1 Axes>"
      ]
     },
     "metadata": {
      "tags": []
     },
     "output_type": "display_data"
    }
   ],
   "source": [
    "# 年ごとの出演バンド数\n",
    "chart = sns.countplot(x=\"year\", data=fuji_rock)\n",
    "_ = chart.set_xticklabels(chart.get_xticklabels(), rotation=90) # x軸のラベルを縦に表示"
   ]
  },
  {
   "cell_type": "markdown",
   "metadata": {},
   "source": [
    "# Spotify APIを使用する"
   ]
  },
  {
   "cell_type": "markdown",
   "metadata": {
    "colab_type": "text",
    "id": "3tKQXhZ0KMiP"
   },
   "source": [
    "Spotify API の特徴\n",
    "\n",
    "![代替テキスト](https://cdn-ssl-devio-img.classmethod.jp/wp-content/uploads/2017/12/spotify-api-overview.png)\n",
    "\n",
    "* Spotify URIやSpotify IDなど、Spotify特有のパラメータ情報をリクエスト、レスポンス時に扱うことがあります。\n",
    "* レート制限に引っかかるとステータスコード429が返却される。これが返ってきた場合は、Retry-Afterヘッダーの値を確認し、そこに記載されている秒の間はAPIをコールすることができない。\n",
    "\n",
    "* レスポンスデータは、JSON Object形式で取得します。\n",
    "\n",
    "* タイムスタンプはUTC zero offset形式（YYYY-MM-DDTHH:MM:SSZ）\n",
    "\n",
    "* 一部のAPIではページネーションをサポート（offset、limitパラメータで指定）\n",
    "\n",
    "* 多くのAPIでは、クライアント側でレスポンスデータのキャッシュを行うためのヘッダー情報が付与される。\n",
    "\n",
    "* レスポンスステータスコードは、RFC 2616 と RFC 6585に則って2xx、3xx、4xx、5xxを返す。\n",
    "\n",
    "* レスポンスデータのエラー表現には、下記2種類のフォーマットを使用する。\n",
    "\n",
    "  * Authentication Error Object\n",
    "  * Regular Error Object\n",
    "*APIをコールするにはOAuthアクセストークンが必要。"
   ]
  },
  {
   "cell_type": "markdown",
   "metadata": {
    "colab_type": "text",
    "id": "sxPITjDVKo13"
   },
   "source": [
    "認証方法の種類\n",
    "\n",
    "![代替テキスト](https://cdn-ssl-devio-img.classmethod.jp/wp-content/uploads/2017/12/Obtaining-Authorization.png)\n",
    "\n",
    "* App Authorization\n",
    "  * システム（Spotify）が、クライアントアプリケーションに、Spotify Platform (APIs, SDKs and Widgets)へアクセスすることを許可します。\n",
    "* User Authorization\n",
    "  * エンドユーザー（Spotifyのエンドユーザー）が、クライアントアプリケーションに、エンドユーザーが所有するデータへアクセスすることを許可します。"
   ]
  },
  {
   "cell_type": "markdown",
   "metadata": {
    "colab_type": "text",
    "id": "A1hBlVzKLdAg"
   },
   "source": [
    "アプリが認証の許可を得るための3つの方法\n",
    "\n",
    "\n",
    "* Refreshable user authorization: Authorization Code\n",
    "  * このフローでは、エンドユーザーはクライアントアプリケーションがリソースへアクセスすることを1度だけ許可します。そのため長期間稼働させるアプリケーションに適しています。 アプリケーションにはリフレッシュ可能なアクセストークンを提供されます。ちなみにトークン交換には秘密鍵の送信が含まれるため、ブラウザやモバイルアプリなどのクライアントからではなく、バックエンドサービスなどの安全な場所でこれを実行します。\n",
    "* Temporary user authorization: Implicit Grant\n",
    "  * このフローは、JavaScriptを使用するため、リソース所有者のブラウザで実行されるクライアントアプリケーション向けです。サーバー側のコードを使用する必要はありません。リクエストのレート制限は改善されていますが、リフレッシュトークンは提供されていません。このフローはRFC-6749で定義されています。\n",
    "* **Refreshable app authorization: Client Credentials Flow**\n",
    "  * このフローは、サーバー間認証で使用されます。エンドユーザー情報にアクセスしないエンドポイントのみにアクセスが可能です。\n",
    "  * **このセミナーではこの認証方法を使用**"
   ]
  },
  {
   "cell_type": "markdown",
   "metadata": {
    "colab_type": "text",
    "id": "9eYsUYrOfWsv"
   },
   "source": [
    "## アカウントを作る\n",
    "\n",
    "1. https://www.spotify.com/ にアクセスしてアカウントを作る。\n",
    "2. https://developer.spotify.com/my-applications に行ってログイン\n",
    "3. Create an Application に Application Name と Description を入れる\n",
    "4. Are you developing a commercial integration? と聞かれたら、この講座では NO を選択\n",
    "5. チェックボックスをオンにして Submit\n",
    "6. Client ID と Client Secret メモしておく。APIを呼ぶ際に使います。"
   ]
  },
  {
   "cell_type": "markdown",
   "metadata": {
    "colab_type": "text",
    "id": "qrWHr-hdn3Vf"
   },
   "source": [
    "## Spotipyのインストール\n",
    "\n",
    "Spotipy とは、Spotify APIを呼ぶためのPythonライブラリ\n",
    "\n",
    "* HTTPリクエストを送る操作をライブラリ内で行っているため、リクエストを意識せずに使うことができる\n",
    "* pip install spotipy でインストール"
   ]
  },
  {
   "cell_type": "code",
   "execution_count": null,
   "metadata": {},
   "outputs": [],
   "source": [
    "!pip install spotipy"
   ]
  },
  {
   "cell_type": "markdown",
   "metadata": {
    "colab_type": "text",
    "id": "DArFr-R0eSLz"
   },
   "source": [
    "spotipy.Spotify クラスがAPIへ様々なリクエストを送る\n",
    "\n",
    "https://spotipy.readthedocs.io/en/latest/#module-spotipy.client"
   ]
  },
  {
   "cell_type": "code",
   "execution_count": 11,
   "metadata": {
    "colab": {},
    "colab_type": "code",
    "id": "n_4yp8T2aAEP"
   },
   "outputs": [],
   "source": [
    "import spotipy\n",
    "from spotipy.oauth2 import SpotifyClientCredentials\n",
    "\n",
    "CLIENT_ID = \"ここに ClientIDを登録\"\n",
    "CLIENT_SECRET = \"ここに ClientSeacret を登録\"\n",
    "\n",
    "# 認証情報をセット\n",
    "client_credentials_manager = SpotifyClientCredentials(client_id=CLIENT_ID, client_secret=CLIENT_SECRET)\n",
    "# 認証情報を元に、APIクライアントを作成\n",
    "sp = spotipy.Spotify(client_credentials_manager=client_credentials_manager)"
   ]
  },
  {
   "cell_type": "markdown",
   "metadata": {
    "colab_type": "text",
    "id": "lTK59tTLfVL1"
   },
   "source": [
    "プレイリストを取得\n",
    "\n",
    "公式リファレンス: https://developer.spotify.com/documentation/web-api/reference/playlists/get-list-users-playlists/\n",
    "\n",
    "Spotipyリファレンス: https://spotipy.readthedocs.io/en/latest/#spotipy.client.Spotify.user_playlist"
   ]
  },
  {
   "cell_type": "code",
   "execution_count": 77,
   "metadata": {
    "colab": {},
    "colab_type": "code",
    "id": "dn_fjMgB0mML",
    "scrolled": true
   },
   "outputs": [],
   "source": [
    "# Spotify 公式のプレイリストから2つ取得\n",
    "playlists = sp.user_playlists('spotify',limit=2)\n",
    "# 辞書形式で返却される\n",
    "type(playlists)"
   ]
  },
  {
   "cell_type": "markdown",
   "metadata": {
    "colab_type": "text",
    "id": "lUGSw_aSj000"
   },
   "source": [
    "pprint を用いるとよりきれいにデータを表示できる\n",
    "\n",
    "https://docs.python.org/ja/3/library/pprint.html"
   ]
  },
  {
   "cell_type": "code",
   "execution_count": 145,
   "metadata": {
    "colab": {},
    "colab_type": "code",
    "id": "ZLo90ITfjXAN",
    "scrolled": true
   },
   "outputs": [
    {
     "name": "stdout",
     "output_type": "stream",
     "text": [
      "{'href': 'https://api.spotify.com/v1/users/spotify/playlists?offset=0&limit=2',\n",
      " 'items': [{'collaborative': False,\n",
      "            'description': 'Justin Bieber is on top of the Hottest 50!',\n",
      "            'external_urls': {'spotify': 'https://open.spotify.com/playlist/37i9dQZF1DXcBWIGoYBM5M'},\n",
      "            'href': 'https://api.spotify.com/v1/playlists/37i9dQZF1DXcBWIGoYBM5M',\n",
      "            'id': '37i9dQZF1DXcBWIGoYBM5M',\n",
      "            'images': [{'height': None,\n",
      "                        'url': 'https://i.scdn.co/image/ab67706f00000002d64a11668f38098bed858dcd',\n",
      "                        'width': None}],\n",
      "            'name': \"Today's Top Hits\",\n",
      "            'owner': {'display_name': 'Spotify',\n",
      "                      'external_urls': {'spotify': 'https://open.spotify.com/user/spotify'},\n",
      "                      'href': 'https://api.spotify.com/v1/users/spotify',\n",
      "                      'id': 'spotify',\n",
      "                      'type': 'user',\n",
      "                      'uri': 'spotify:user:spotify'},\n",
      "            'primary_color': None,\n",
      "            'public': True,\n",
      "            'snapshot_id': 'MTU4MjA4ODQ2MCwwMDAwMDNjMjAwMDAwMTcwNWJkMjE3MzAwMDAwMDE3MDQxY2Y1ZGQz',\n",
      "            'tracks': {'href': 'https://api.spotify.com/v1/playlists/37i9dQZF1DXcBWIGoYBM5M/tracks',\n",
      "                       'total': 50},\n",
      "            'type': 'playlist',\n",
      "            'uri': 'spotify:playlist:37i9dQZF1DXcBWIGoYBM5M'},\n",
      "           {'collaborative': False,\n",
      "            'description': 'New music from A Boogie Wit da Hoodie, Migos, '\n",
      "                           'YoungBoy Never Broke Again and Polo G.',\n",
      "            'external_urls': {'spotify': 'https://open.spotify.com/playlist/37i9dQZF1DX0XUsuxWHRQd'},\n",
      "            'href': 'https://api.spotify.com/v1/playlists/37i9dQZF1DX0XUsuxWHRQd',\n",
      "            'id': '37i9dQZF1DX0XUsuxWHRQd',\n",
      "            'images': [{'height': None,\n",
      "                        'url': 'https://i.scdn.co/image/ab67706f0000000291467e20c8bb04f43c720e3f',\n",
      "                        'width': None}],\n",
      "            'name': 'RapCaviar',\n",
      "            'owner': {'display_name': 'Spotify',\n",
      "                      'external_urls': {'spotify': 'https://open.spotify.com/user/spotify'},\n",
      "                      'href': 'https://api.spotify.com/v1/users/spotify',\n",
      "                      'id': 'spotify',\n",
      "                      'type': 'user',\n",
      "                      'uri': 'spotify:user:spotify'},\n",
      "            'primary_color': None,\n",
      "            'public': True,\n",
      "            'snapshot_id': 'MTU4MjA4ODQ2MCwwMDAwMDQyMDAwMDAwMTcwNWJkMjE3MmMwMDAwMDE3MDNmNWMwODMy',\n",
      "            'tracks': {'href': 'https://api.spotify.com/v1/playlists/37i9dQZF1DX0XUsuxWHRQd/tracks',\n",
      "                       'total': 54},\n",
      "            'type': 'playlist',\n",
      "            'uri': 'spotify:playlist:37i9dQZF1DX0XUsuxWHRQd'}],\n",
      " 'limit': 2,\n",
      " 'next': 'https://api.spotify.com/v1/users/spotify/playlists?offset=2&limit=2',\n",
      " 'offset': 0,\n",
      " 'previous': None,\n",
      " 'total': 1451}\n"
     ]
    }
   ],
   "source": [
    "from pprint import pprint\n",
    "pprint(playlists)"
   ]
  },
  {
   "cell_type": "code",
   "execution_count": 13,
   "metadata": {
    "colab": {},
    "colab_type": "code",
    "id": "lFKaZuweNSR_"
   },
   "outputs": [
    {
     "name": "stdout",
     "output_type": "stream",
     "text": [
      "[{'collaborative': False,\n",
      "  'description': 'Lil Uzi Vert is on top of the Hottest 50!',\n",
      "  'external_urls': {'spotify': 'https://open.spotify.com/playlist/37i9dQZF1DXcBWIGoYBM5M'},\n",
      "  'href': 'https://api.spotify.com/v1/playlists/37i9dQZF1DXcBWIGoYBM5M',\n",
      "  'id': '37i9dQZF1DXcBWIGoYBM5M',\n",
      "  'images': [{'height': None,\n",
      "              'url': 'https://i.scdn.co/image/ab67706f00000002bfe8fd3804678a550345a75d',\n",
      "              'width': None}],\n",
      "  'name': \"Today's Top Hits\",\n",
      "  'owner': {'display_name': 'Spotify',\n",
      "            'external_urls': {'spotify': 'https://open.spotify.com/user/spotify'},\n",
      "            'href': 'https://api.spotify.com/v1/users/spotify',\n",
      "            'id': 'spotify',\n",
      "            'type': 'user',\n",
      "            'uri': 'spotify:user:spotify'},\n",
      "  'primary_color': None,\n",
      "  'public': True,\n",
      "  'snapshot_id': 'MTU4NDU1NjcxOSwwMDAwMDNkNDAwMDAwMTcwZWVmMGJjOWQwMDAwMDE3MGQxNzExMTUx',\n",
      "  'tracks': {'href': 'https://api.spotify.com/v1/playlists/37i9dQZF1DXcBWIGoYBM5M/tracks',\n",
      "             'total': 50},\n",
      "  'type': 'playlist',\n",
      "  'uri': 'spotify:playlist:37i9dQZF1DXcBWIGoYBM5M'},\n",
      " {'collaborative': False,\n",
      "  'description': 'New music from Don Toliver, Lil Yachty and Rich The Kid.',\n",
      "  'external_urls': {'spotify': 'https://open.spotify.com/playlist/37i9dQZF1DX0XUsuxWHRQd'},\n",
      "  'href': 'https://api.spotify.com/v1/playlists/37i9dQZF1DX0XUsuxWHRQd',\n",
      "  'id': '37i9dQZF1DX0XUsuxWHRQd',\n",
      "  'images': [{'height': None,\n",
      "              'url': 'https://i.scdn.co/image/ab67706f0000000202f69ea9450e6322ae3c679e',\n",
      "              'width': None}],\n",
      "  'name': 'RapCaviar',\n",
      "  'owner': {'display_name': 'Spotify',\n",
      "            'external_urls': {'spotify': 'https://open.spotify.com/user/spotify'},\n",
      "            'href': 'https://api.spotify.com/v1/users/spotify',\n",
      "            'id': 'spotify',\n",
      "            'type': 'user',\n",
      "            'uri': 'spotify:user:spotify'},\n",
      "  'primary_color': None,\n",
      "  'public': True,\n",
      "  'snapshot_id': 'MTU4NDQ2NDk0MiwwMDAwMDQzNjAwMDAwMTcwZTk3ODU2NmQwMDAwMDE3MGNmMDUwNmYz',\n",
      "  'tracks': {'href': 'https://api.spotify.com/v1/playlists/37i9dQZF1DX0XUsuxWHRQd/tracks',\n",
      "             'total': 54},\n",
      "  'type': 'playlist',\n",
      "  'uri': 'spotify:playlist:37i9dQZF1DX0XUsuxWHRQd'}]\n"
     ]
    }
   ],
   "source": [
    "pprint(playlists['items'])"
   ]
  },
  {
   "cell_type": "code",
   "execution_count": 15,
   "metadata": {
    "colab": {},
    "colab_type": "code",
    "id": "es62AMXdOGWs"
   },
   "outputs": [
    {
     "name": "stdout",
     "output_type": "stream",
     "text": [
      "[\"Today's Top Hits\", 'RapCaviar']\n",
      "['37i9dQZF1DXcBWIGoYBM5M', '37i9dQZF1DX0XUsuxWHRQd']\n",
      "[{'spotify': 'https://open.spotify.com/playlist/37i9dQZF1DXcBWIGoYBM5M'},\n",
      " {'spotify': 'https://open.spotify.com/playlist/37i9dQZF1DX0XUsuxWHRQd'}]\n"
     ]
    }
   ],
   "source": [
    "# タイトルを取得\n",
    "pprint([x[\"name\"] for x in playlists['items']])\n",
    "# id を取得\n",
    "pprint([x[\"id\"] for x in playlists['items']])\n",
    "# URLを取得\n",
    "pprint([x[\"external_urls\"] for x in playlists['items']])"
   ]
  },
  {
   "cell_type": "code",
   "execution_count": 17,
   "metadata": {
    "colab": {},
    "colab_type": "code",
    "id": "tggqeHOxP2iJ"
   },
   "outputs": [
    {
     "name": "stdout",
     "output_type": "stream",
     "text": [
      "\"タイトル: Today's Top Hits\"\n",
      "'id: 37i9dQZF1DXcBWIGoYBM5M'\n",
      "'URL: https://open.spotify.com/playlist/37i9dQZF1DXcBWIGoYBM5M'\n",
      "\n",
      "'タイトル: RapCaviar'\n",
      "'id: 37i9dQZF1DX0XUsuxWHRQd'\n",
      "'URL: https://open.spotify.com/playlist/37i9dQZF1DX0XUsuxWHRQd'\n",
      "\n"
     ]
    }
   ],
   "source": [
    "# 複数のタイトルとURLを取得\n",
    "for playlist in playlists['items']:\n",
    "  # playlists['items'][0] を playlist で置き換える\n",
    "  pprint('タイトル: ' + playlist['name'])\n",
    "  pprint('id: ' + playlist['id'])\n",
    "  pprint('URL: ' + playlist['external_urls']['spotify'])\n",
    "  print()"
   ]
  }
 ],
 "metadata": {
  "colab": {
   "collapsed_sections": [],
   "include_colab_link": true,
   "name": "[Python講座]第2回CSVファイルのデータを可視化する.ipynb",
   "provenance": []
  },
  "kernelspec": {
   "display_name": "Python 3",
   "language": "python",
   "name": "python3"
  },
  "language_info": {
   "codemirror_mode": {
    "name": "ipython",
    "version": 3
   },
   "file_extension": ".py",
   "mimetype": "text/x-python",
   "name": "python",
   "nbconvert_exporter": "python",
   "pygments_lexer": "ipython3",
   "version": "3.7.4"
  },
  "toc-autonumbering": true
 },
 "nbformat": 4,
 "nbformat_minor": 4
}
